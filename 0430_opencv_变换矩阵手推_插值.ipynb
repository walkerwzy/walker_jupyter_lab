{
 "cells": [
  {
   "cell_type": "markdown",
   "id": "convertible-amateur",
   "metadata": {},
   "source": [
    "# 变换矩阵\n",
    "\n",
    "$\n",
    "M = \n",
    "\\begin{Bmatrix}\n",
    "\\alpha & \\beta & P_x (1 - \\alpha) - P_y \\beta \\\\\n",
    "-\\beta & \\alpha & P_x  \\beta + P_y (1 - \\alpha)\n",
    "\\end{Bmatrix} \\\\\n",
    "其中 𝛼=cos𝜃⋅𝑠,𝛽=sin𝜃⋅𝑠\n",
    "$"
   ]
  },
  {
   "cell_type": "code",
   "execution_count": 3,
   "id": "cheap-volunteer",
   "metadata": {},
   "outputs": [
    {
     "data": {
      "text/plain": [
       "(array([[  1.93185165,   0.51763809, -34.16617576],\n",
       "        [ -0.51763809,   1.93185165, -17.60278777]]),\n",
       " numpy.ndarray)"
      ]
     },
     "execution_count": 3,
     "metadata": {},
     "output_type": "execute_result"
    }
   ],
   "source": [
    "import numpy as np\n",
    "import cv2 as cv\n",
    "\n",
    "# 以(20, 30)为旋转中心，旋转15°（角度），放大2倍\n",
    "angle   = 15\n",
    "scale   = 2\n",
    "center  = (20, 30)\n",
    "M = cv.getRotationMatrix2D(center, angle, scale)\n",
    "M, type(M)"
   ]
  },
  {
   "cell_type": "code",
   "execution_count": 6,
   "id": "computational-capture",
   "metadata": {},
   "outputs": [
    {
     "data": {
      "text/plain": [
       "array([[  1.93185165,   0.51763809, -34.16617576],\n",
       "       [ -0.51763809,   1.93185165, -17.60278777]])"
      ]
     },
     "execution_count": 6,
     "metadata": {},
     "output_type": "execute_result"
    }
   ],
   "source": [
    "px    = 20\n",
    "py    = 30\n",
    "theta = (angle / 180) * np.pi  # degree in radians\n",
    "a     = np.cos(theta) * scale\n",
    "b     = np.sin(theta) * scale\n",
    "M     = np.array([\n",
    "    [a, b, px*(1-a)-py*b],\n",
    "    [-b, a, px*b+py*(1-a)]\n",
    "])\n",
    "M"
   ]
  },
  {
   "cell_type": "markdown",
   "id": "authorized-windsor",
   "metadata": {},
   "source": [
    "# 插值"
   ]
  },
  {
   "cell_type": "code",
   "execution_count": 29,
   "id": "young-explosion",
   "metadata": {},
   "outputs": [
    {
     "data": {
      "text/plain": [
       "(0.09, 0.21, 0.21, 0.48999999999999994, 7.729999999999999)"
      ]
     },
     "execution_count": 29,
     "metadata": {},
     "output_type": "execute_result"
    }
   ],
   "source": [
    "# 四个点坐标如下，第三个值为该点上的值\n",
    "p0 = 10, 5,   8\n",
    "p1 = 20, 5,   15\n",
    "p2 = 10, 15,  1\n",
    "p3 = 20, 15,  5\n",
    "pa = 13, 8\n",
    "\n",
    "p0 = 0, 0,   8\n",
    "p1 = 1, 0,   15\n",
    "p2 = 0, 1,   1\n",
    "p3 = 1, 1,   5\n",
    "pa = 0.3, 0.3\n",
    "\n",
    "area          = (p1[0] - p0[0]) * (p2[1] - p0[1])\n",
    "w_upper_left  = (pa[0] - p0[0]) * (pa[1] - p0[1]) / area\n",
    "w_upper_right = (p1[0] - pa[0]) * (pa[1] - p1[1]) / area\n",
    "w_lower_left  = (pa[0] - p2[0]) * (p2[1] - pa[1]) / area\n",
    "w_lower_right = (p3[0] - pa[0]) * (p3[1] - pa[1]) / area\n",
    "\n",
    "# 得到面积比后，因为越小的面积是离得最近的，权重反而更高\n",
    "# 所以把权重对角互换\n",
    "\n",
    "v = p3[2] * w_upper_left + p2[2] * w_upper_right \\\n",
    "  + p1[2] * w_lower_left + p0[2] * w_lower_right\n",
    "\n",
    "w_upper_left, w_upper_right, w_lower_left, w_lower_right, v"
   ]
  },
  {
   "cell_type": "code",
   "execution_count": null,
   "id": "center-progress",
   "metadata": {},
   "outputs": [],
   "source": []
  }
 ],
 "metadata": {
  "kernelspec": {
   "display_name": "Python 3",
   "language": "python",
   "name": "python3"
  },
  "language_info": {
   "codemirror_mode": {
    "name": "ipython",
    "version": 3
   },
   "file_extension": ".py",
   "mimetype": "text/x-python",
   "name": "python",
   "nbconvert_exporter": "python",
   "pygments_lexer": "ipython3",
   "version": "3.8.5"
  }
 },
 "nbformat": 4,
 "nbformat_minor": 5
}
