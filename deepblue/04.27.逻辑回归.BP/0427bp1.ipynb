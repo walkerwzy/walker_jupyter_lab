{
 "cells": [
  {
   "cell_type": "markdown",
   "metadata": {},
   "source": [
    "# 逻辑回归"
   ]
  },
  {
   "cell_type": "code",
   "execution_count": 2,
   "metadata": {},
   "outputs": [],
   "source": [
    "import numpy as np\n",
    "\n",
    "#pip install matplotlib\n",
    "import matplotlib.pyplot as plt"
   ]
  },
  {
   "cell_type": "markdown",
   "metadata": {},
   "source": [
    "# 定义X，此时X为二维数据，平面上的。可以可视化为x, y"
   ]
  },
  {
   "cell_type": "code",
   "execution_count": 3,
   "metadata": {},
   "outputs": [],
   "source": [
    "X = np.array([\n",
    "    (0.5, 0.5), \n",
    "    (0.5, 1.0),\n",
    "    (0.5, 1.5), \n",
    "    (0.8, 2.0), \n",
    "    (0.6, 1.2), \n",
    "    (0.9, 1.3), \n",
    "    (1.2, 0.9), \n",
    "    (1.5, 0.5) , \n",
    "    (1.1, 2.9), \n",
    "    (1.5, 3.0), \n",
    "    (1.6, 2.5), \n",
    "    (1.8, 2.0), \n",
    "    (1.9, 3.1), \n",
    "    (2.3, 2.8), \n",
    "    (2.3, 1.6), \n",
    "    (2.9, 1.5)\n",
    "], np.float32)"
   ]
  },
  {
   "cell_type": "code",
   "execution_count": 4,
   "metadata": {},
   "outputs": [],
   "source": [
    "label = np.array([[0, 0, 0, 0, 0, 0, 0, 0, 1, 1, 1, 1, 1, 1, 1, 1]], np.float32).T"
   ]
  },
  {
   "cell_type": "code",
   "execution_count": 5,
   "metadata": {},
   "outputs": [
    {
     "data": {
      "text/plain": [
       "[<matplotlib.lines.Line2D at 0x7ff7afbb5690>]"
      ]
     },
     "execution_count": 5,
     "metadata": {},
     "output_type": "execute_result"
    },
    {
     "data": {
      "image/png": "[encoded data removed]",
      "text/plain": [
       "<Figure size 432x288 with 1 Axes>"
      ]
     },
     "metadata": {
      "needs_background": "light"
     },
     "output_type": "display_data"
    }
   ],
   "source": [
    "positive = X[label[:, 0]==1]\n",
    "negative = X[label[:, 0]==0]\n",
    "plt.plot(positive[:, 0], positive[:, 1], \"go\")\n",
    "plt.plot(negative[:, 0], negative[:, 1], \"rx\")"
   ]
  },
  {
   "cell_type": "markdown",
   "metadata": {},
   "source": [
    "# 定义参数W"
   ]
  },
  {
   "cell_type": "code",
   "execution_count": 8,
   "metadata": {},
   "outputs": [
    {
     "name": "stdout",
     "output_type": "stream",
     "text": [
      "(16, 32) [[-2.29315133e-01  6.22860215e-01 -1.82349319e+00  3.07548478e+00\n",
      "   3.37822176e-01  7.91609479e-02  1.24468011e+00  3.30483818e-01\n",
      "  -4.43793078e-01 -5.97319626e-02  4.72703563e-01 -8.14547015e-01\n",
      "   1.65672335e-01  3.78153869e-01 -2.32360353e-01 -1.45306887e+00\n",
      "   3.35890041e-01 -1.63303239e-01  8.74910426e-01 -2.57200539e+00\n",
      "   3.99071307e-02  7.85160859e-01  7.45812503e-01  2.52670777e-01\n",
      "   2.41014511e-01  8.33545940e-02 -1.50440206e-01  2.07369844e+00\n",
      "   1.16153207e-01  2.17514080e-01  9.53645429e-02 -1.16995045e+00]\n",
      " [-3.17746624e-01  1.55529057e+00 -2.11202538e+00  3.27270507e+00\n",
      "   5.40070191e-01  2.05201255e-01  8.02639057e-01 -1.70093195e-02\n",
      "  -1.10593114e-01  2.03200927e-01  7.35907259e-01 -9.88817550e-01\n",
      "   1.51125501e-01  7.22644494e-01 -1.45346423e-01 -1.45662833e+00\n",
      "   5.59470135e-01 -1.16415866e+00  1.62114660e+00 -2.62833794e+00\n",
      "   2.49956796e-01  1.60259674e+00  4.27312869e-01  8.65601352e-02\n",
      "   5.81115902e-01  9.42397983e-02  3.06974082e-01  2.89797861e+00\n",
      "   1.04458713e-01  1.12854497e-02 -6.15823465e-01 -8.07371669e-01]\n",
      " [-4.06178115e-01  2.48772093e+00 -2.40055757e+00  3.46992536e+00\n",
      "   7.42318207e-01  3.31241562e-01  3.60598009e-01 -3.64502457e-01\n",
      "   2.22606849e-01  4.66133816e-01  9.99110955e-01 -1.16308809e+00\n",
      "   1.36578667e-01  1.06713512e+00 -5.83324938e-02 -1.46018779e+00\n",
      "   7.83050229e-01 -2.16501408e+00  2.36738277e+00 -2.68467050e+00\n",
      "   4.60006461e-01  2.42003262e+00  1.08813235e-01 -7.95505065e-02\n",
      "   9.21217293e-01  1.05125003e-01  7.64388369e-01  3.72225878e+00\n",
      "   9.27642192e-02 -1.94943180e-01 -1.32701147e+00 -4.44792888e-01]\n",
      " [-4.78201746e-01  3.23553707e+00 -2.34030374e+00  4.05507362e+00\n",
      "   1.37001124e+00  7.29363403e-01  1.96261518e-01 -8.14470802e-01\n",
      "   5.13550287e-01  5.31531353e-01  1.49542325e+00 -1.45357593e+00\n",
      "  -9.29928364e-02  1.27617741e+00  5.23453742e-01 -1.65039067e+00\n",
      "   5.93249231e-01 -2.92911814e+00  3.23817253e+00 -3.08006355e+00\n",
      "   7.31631346e-01  3.45665309e+00  7.32437705e-02  2.72851961e-02\n",
      "   1.06636885e+00 -1.58509619e-01  1.15854835e+00  4.39489654e+00\n",
      "  -3.92735122e-01 -1.94206526e-01 -2.34700371e+00 -9.92679496e-02]\n",
      " [-3.47649941e-01  1.86672472e+00 -2.11117625e+00  3.48090256e+00\n",
      "   7.62784450e-01  3.46311253e-01  7.18390800e-01 -1.90165017e-01\n",
      "   8.60139137e-03  2.42528977e-01  9.18891643e-01 -1.09726489e+00\n",
      "   7.36318619e-02  8.15291325e-01  5.43832916e-02 -1.52026660e+00\n",
      "   5.11108469e-01 -1.48558379e+00  1.96115901e+00 -2.76389116e+00\n",
      "   3.54501759e-01  2.00263271e+00  3.94223060e-01  1.11097996e-01\n",
      "   6.52173200e-01  7.08725433e-03  4.68855066e-01  3.17714328e+00\n",
      "  -5.81540662e-02 -2.21758020e-03 -1.00323350e+00 -6.68024737e-01]\n",
      " [-3.48928367e-01  1.86859643e+00 -1.82009670e+00  3.90827447e+00\n",
      "   1.22867895e+00  6.43600770e-01  9.07687178e-01 -3.62138766e-01\n",
      "   3.29848034e-02  9.75801918e-02  1.20464088e+00 -1.24833626e+00\n",
      "  -1.44302128e-01  7.48741079e-01  5.66558268e-01 -1.70762188e+00\n",
      "   1.42443435e-01 -1.44900337e+00  2.23495966e+00 -3.11421810e+00\n",
      "   4.58086859e-01  2.38530428e+00  6.13453307e-01  3.50822189e-01\n",
      "   5.25243619e-01 -2.65255478e-01  4.97083539e-01  3.19035677e+00\n",
      "  -5.34297716e-01  1.63501976e-01 -1.45427513e+00 -6.12562889e-01]\n",
      " [-2.61775316e-01  9.38037937e-01 -1.24048488e+00  4.13842629e+00\n",
      "   1.49232565e+00  8.14850119e-01  1.53902461e+00 -1.86619502e-01\n",
      "  -2.75831685e-01 -3.10301499e-01  1.22718658e+00 -1.22513718e+00\n",
      "  -3.47689374e-01  3.37700236e-01  9.91719533e-01 -1.89141777e+00\n",
      "  -4.49801804e-01 -4.11567680e-01  1.76252437e+00 -3.40821264e+00\n",
      "   3.51622369e-01  1.95054023e+00  1.15118322e+00  7.56657093e-01\n",
      "   5.82126510e-02 -5.48483521e-01  6.78978083e-02  2.37929022e+00\n",
      "  -9.98747063e-01  5.35450196e-01 -1.19412905e+00 -9.19679741e-01]\n",
      " [-1.74622272e-01  7.47951561e-03 -6.60873202e-01  4.36857796e+00\n",
      "   1.75597217e+00  9.86099360e-01  2.17036193e+00 -1.11001970e-02\n",
      "  -5.84648157e-01 -7.18183111e-01  1.24973218e+00 -1.20193805e+00\n",
      "  -5.51076533e-01 -7.33405536e-02  1.41688060e+00 -2.07521358e+00\n",
      "  -1.04204688e+00  6.25867919e-01  1.29008903e+00 -3.70220704e+00\n",
      "   2.45157853e-01  1.51577611e+00  1.68891303e+00  1.16249189e+00\n",
      "  -4.08818240e-01 -8.31711455e-01 -3.61287897e-01  1.56822374e+00\n",
      "  -1.46319622e+00  9.07398334e-01 -9.33982841e-01 -1.22679659e+00]\n",
      " [-6.20970587e-01  4.72929767e+00 -2.51087572e+00  4.79799814e+00\n",
      "   2.15950272e+00  1.22831751e+00 -3.21707895e-01 -1.54243372e+00\n",
      "   1.07105376e+00  8.07275252e-01  2.20229854e+00 -1.88348024e+00\n",
      "  -3.34201809e-01  1.76081227e+00  1.17485114e+00 -1.84344112e+00\n",
      "   5.82312351e-01 -4.49390673e+00  4.70595136e+00 -3.52052266e+00\n",
      "   1.17129600e+00  5.14722242e+00 -2.17125462e-01  1.23235356e-03\n",
      "   1.48360159e+00 -4.13436075e-01  1.91863984e+00  5.72695859e+00\n",
      "  -8.87590060e-01 -3.58452816e-01 -3.93594649e+00  5.36320083e-01]\n",
      " [-6.16779725e-01  4.66963130e+00 -2.10353414e+00  5.35467940e+00\n",
      "   2.76721225e+00  1.61630090e+00 -3.98433122e-02 -1.74856588e+00\n",
      "   1.08135166e+00  5.96481336e-01  2.56575066e+00 -2.07329072e+00\n",
      "  -6.23810704e-01  1.64911257e+00  1.85195025e+00 -2.09301088e+00\n",
      "   7.58535917e-02 -4.37840918e+00  5.02126989e+00 -3.98386979e+00\n",
      "   1.29540618e+00  5.60295552e+00  9.64148596e-02  3.31938680e-01\n",
      "   1.29168872e+00 -7.77285434e-01  1.92578354e+00  5.68962461e+00\n",
      "  -1.52166869e+00 -1.23744817e-01 -4.48992288e+00  5.86097316e-01]\n",
      " [-5.22878947e-01  3.67566286e+00 -1.69873992e+00  5.28676846e+00\n",
      "   2.70677927e+00  1.58095445e+00  4.94765941e-01 -1.43523116e+00\n",
      "   7.34066185e-01  2.67703316e-01  2.38024984e+00 -1.93775930e+00\n",
      "  -6.80938774e-01  1.25947250e+00  1.92986045e+00 -2.15166591e+00\n",
      "  -2.85520227e-01 -3.29863663e+00  4.31655159e+00 -4.04055743e+00\n",
      "   1.10588159e+00  4.85858118e+00  5.09224569e-01  5.89031454e-01\n",
      "   8.86604034e-01 -8.79677265e-01  1.44728448e+00  4.81479695e+00\n",
      "  -1.66790918e+00  1.51472255e-01 -3.88166964e+00  2.17833921e-01]\n",
      " [-4.23508888e-01  2.62015640e+00 -1.17768382e+00  5.34816671e+00\n",
      "   2.78816115e+00  1.63630176e+00  1.12194329e+00 -1.15605480e+00\n",
      "   3.72695216e-01 -1.26919756e-01  2.27245182e+00 -1.84096694e+00\n",
      "  -8.09741662e-01  8.24683018e-01  2.17269460e+00 -2.27253535e+00\n",
      "  -7.84687607e-01 -2.13994703e+00  3.65335111e+00 -4.21026513e+00\n",
      "   9.36882056e-01  4.18726829e+00  1.01634424e+00  9.37106253e-01\n",
      "   4.16536139e-01 -1.07357561e+00  9.47700667e-01  3.88942188e+00\n",
      "  -1.97208446e+00  4.95677686e-01 -3.37635103e+00 -1.56114083e-01]\n",
      " [-6.12588863e-01  4.60996493e+00 -1.69619255e+00  5.91136066e+00\n",
      "   3.37492178e+00  2.00428428e+00  2.42021271e-01 -1.95469804e+00\n",
      "   1.09164956e+00  3.85687420e-01  2.92920278e+00 -2.26310120e+00\n",
      "  -9.13419598e-01  1.53741288e+00  2.52904936e+00 -2.34258064e+00\n",
      "  -4.30605167e-01 -4.26291163e+00  5.33658841e+00 -4.44721692e+00\n",
      "   1.41951636e+00  6.05868862e+00  4.09955181e-01  6.62645006e-01\n",
      "   1.09977584e+00 -1.14113479e+00  1.93292724e+00  5.65229062e+00\n",
      "  -2.15574732e+00  1.10963181e-01 -5.04389928e+00  6.35874550e-01]\n",
      " [-5.37652834e-01  3.80435454e+00 -1.05802530e+00  6.31026574e+00\n",
      "   3.82083296e+00  2.29143545e+00  8.77518566e-01 -1.88283579e+00\n",
      "   8.35387586e-01 -3.54527318e-02  3.08209201e+00 -2.31349530e+00\n",
      "  -1.19139103e+00  1.15012078e+00  3.13653735e+00 -2.58930284e+00\n",
      "  -1.11592794e+00 -3.34673003e+00  5.05491821e+00 -4.86549803e+00\n",
      "   1.37558686e+00  5.86047325e+00  9.78295119e-01  1.12623980e+00\n",
      "   6.35781957e-01 -1.51369231e+00  1.57413964e+00  4.95553273e+00\n",
      "  -2.78047036e+00  5.10654025e-01 -5.02892547e+00  3.95588862e-01]\n",
      " [-3.25417269e-01  1.56652181e+00 -3.65548091e-01  5.83693708e+00\n",
      "   3.33543775e+00  1.98893873e+00  1.93841702e+00 -1.04885231e+00\n",
      "   3.57077213e-02 -6.66491629e-01  2.45040318e+00 -1.89524604e+00\n",
      "  -1.15647863e+00  3.23343323e-01  2.92770393e+00 -2.58076014e+00\n",
      "  -1.65252013e+00 -9.44677166e-01  3.26395150e+00 -4.73029991e+00\n",
      "   8.71467695e-01  3.89862725e+00  1.74269419e+00  1.52490531e+00\n",
      "  -1.80461333e-01 -1.53981680e+00  4.76345413e-01  2.97726043e+00\n",
      "  -2.75240358e+00  1.00560271e+00 -3.32207435e+00 -4.74600159e-01]\n",
      " [-2.74915242e-01  1.01080719e+00  3.89730520e-01  6.57334910e+00\n",
      "   4.14587834e+00  2.50789384e+00  2.58223448e+00 -1.18430412e+00\n",
      "  -1.15445355e-01 -1.11414900e+00  2.86397971e+00 -2.09282660e+00\n",
      "  -1.58361869e+00 -1.64515366e-02  3.89984595e+00 -2.95333516e+00\n",
      "  -2.52399851e+00 -2.71003227e-01  3.36381146e+00 -5.39715455e+00\n",
      "   9.52608215e-01  4.17350929e+00  2.37225459e+00  2.10402025e+00\n",
      "  -6.38381371e-01 -2.09103360e+00  2.58353889e-01  2.50911947e+00\n",
      "  -3.69767456e+00  1.46077909e+00 -3.79744529e+00 -5.81223623e-01]]\n",
      "Iter: 0, Loss: 0.568, Accuracy: 0.812\n",
      "Iter: 5, Loss: 0.531, Accuracy: 0.938\n",
      "Iter: 10, Loss: 0.499, Accuracy: 0.938\n",
      "Iter: 99, Loss: 0.242, Accuracy: 1.000\n",
      "Iter: 199, Loss: 0.159, Accuracy: 1.000\n",
      "Iter: 299, Loss: 0.119, Accuracy: 1.000\n",
      "Iter: 399, Loss: 0.095, Accuracy: 1.000\n",
      "Iter: 499, Loss: 0.079, Accuracy: 1.000\n",
      "Iter: 599, Loss: 0.067, Accuracy: 1.000\n",
      "Iter: 699, Loss: 0.059, Accuracy: 1.000\n",
      "Iter: 799, Loss: 0.052, Accuracy: 1.000\n",
      "Iter: 899, Loss: 0.046, Accuracy: 1.000\n",
      "Iter: 999, Loss: 0.042, Accuracy: 1.000\n"
     ]
    }
   ],
   "source": [
    "num_sample  = X.shape[0]\n",
    "num_feature = X.shape[1]\n",
    "num_hidden  = 32\n",
    "num_output  = 1\n",
    "batch_size  = num_sample\n",
    "\n",
    "# 创建X_hat，增加1维度。0的位置插入一列，值全部为1\n",
    "X_hat = np.insert(X, 0, values=1, axis=1)\n",
    "\n",
    "# 创建W权重，为theta\n",
    "W1 = np.random.normal(0, 1, size=(1 + num_feature, num_hidden))\n",
    "W2 = np.random.normal(0, 1, size=(1 + num_hidden, num_output))\n",
    "\n",
    "lr = 0.1\n",
    "epochs = 1000\n",
    "\n",
    "# 定义变换压缩函数\n",
    "def sigmoid(z):\n",
    "    return 1 / (1 + np.exp(-z))\n",
    "\n",
    "def desigmoid(z):\n",
    "    return sigmoid(z) * (1 - sigmoid(z))\n",
    "\n",
    "for i in range(epochs):\n",
    "    \n",
    "    o1_hidden  = X_hat @ W1\n",
    "    if(i == 0):\n",
    "        print(o1_hidden.shape, o1_hidden)\n",
    "    o1_hidden_activation = sigmoid(o1_hidden)\n",
    "    o1_hidden_activation_hat = np.insert(o1_hidden_activation, 0, values=1, axis=1)\n",
    "    \n",
    "    o2_output  = o1_hidden_activation_hat @ W2\n",
    "    probability = sigmoid(o2_output)\n",
    "    \n",
    "#     if (i+1)%200 == 0 or i%5==0 and (i/5)<3:\n",
    "#         print('x', X_hat.shape)\n",
    "#         print('a1', o1_hidden.shape)\n",
    "#         print('o1', o1_hidden_activation.shape)\n",
    "# #         print('a2', o2_output)\n",
    "#         print('o2', len(probability[probability[:,0]>=0.5]))\n",
    "    \n",
    "    # 二元交叉熵\n",
    "    loss = -np.sum(label * np.log(probability) + (1 - label) * np.log(1 - probability)) / batch_size\n",
    "    \n",
    "    # 对o2部分求导\n",
    "    delta_o2_output = (probability - label) / batch_size\n",
    "    delta_W2        = o1_hidden_activation_hat.T @ delta_o2_output\n",
    "    \n",
    "    # 对o1部分求导\n",
    "    delta_o1_hidden_activation_hat = delta_o2_output @ W2.T\n",
    "    delta_o1_hidden                = delta_o1_hidden_activation_hat[:, 1:] * desigmoid(o1_hidden)\n",
    "    delta_W1                       = X_hat.T @ delta_o1_hidden\n",
    "    \n",
    "    # 更新参数\n",
    "    W1 = W1 - lr * delta_W1\n",
    "    W2 = W2 - lr * delta_W2\n",
    "    \n",
    "    if (i + 1) % 100 == 0 or i % 5 == 0 and (i / 5) < 3:\n",
    "        correct = np.sum((probability[:, 0]>=0.5) & (label[:, 0] == 1)) + np.sum((probability[:, 0]<0.5) &  (label[:, 0] == 0))\n",
    "        accuracy = correct / len(X)\n",
    "        print(f\"Iter: {i}, Loss: {loss:.3f}, Accuracy: {accuracy:.3f}\")"
   ]
  },
  {
   "cell_type": "code",
   "execution_count": 17,
   "metadata": {},
   "outputs": [
    {
     "data": {
      "text/plain": [
       "1.4"
      ]
     },
     "execution_count": 17,
     "metadata": {},
     "output_type": "execute_result"
    }
   ],
   "source": [
    "7/5"
   ]
  },
  {
   "cell_type": "code",
   "execution_count": null,
   "metadata": {},
   "outputs": [],
   "source": []
  }
 ],
 "metadata": {
  "kernelspec": {
   "display_name": "Python 3",
   "language": "python",
   "name": "python3"
  },
  "language_info": {
   "codemirror_mode": {
    "name": "ipython",
    "version": 3
   },
   "file_extension": ".py",
   "mimetype": "text/x-python",
   "name": "python",
   "nbconvert_exporter": "python",
   "pygments_lexer": "ipython3",
   "version": "3.7.10"
  }
 },
 "nbformat": 4,
 "nbformat_minor": 4
}
