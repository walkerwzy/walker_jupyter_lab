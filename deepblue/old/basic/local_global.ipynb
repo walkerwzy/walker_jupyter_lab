{
 "cells": [
  {
   "cell_type": "markdown",
   "metadata": {},
   "source": [
    "# 变量作用域， nonlocal, global\n",
    "所谓的全局，一般指的是**模块内**"
   ]
  },
  {
   "cell_type": "code",
   "execution_count": 3,
   "metadata": {},
   "outputs": [
    {
     "name": "stdout",
     "output_type": "stream",
     "text": [
      "hello world\n"
     ]
    }
   ],
   "source": [
    "var = \"hello\"\n",
    "\n",
    "def func():\n",
    "#     var +=\" world\" # 会报错，但报的是在被赋值前引用，其实只是不能修改\n",
    "#     var = \"world\" # 直接赋值是可以的，等于命名了一个同名的“局部”变量\n",
    "    # 一定要修改的话：\n",
    "    global var  # <<<<<<\n",
    "    var += \" world\"\n",
    "    print(var)\n",
    "\n",
    "func()"
   ]
  },
  {
   "cell_type": "markdown",
   "metadata": {},
   "source": [
    ">`global`关键字还有个作用，就是如果就近的变量外层之外还有一个全局的同名变量，加上`global`之后就指定使用全局的变量了"
   ]
  },
  {
   "cell_type": "code",
   "execution_count": 4,
   "metadata": {},
   "outputs": [
    {
     "name": "stdout",
     "output_type": "stream",
     "text": [
      "669\n"
     ]
    }
   ],
   "source": [
    "var = 123\n",
    "\n",
    "def func():\n",
    "    var = 666\n",
    "    def inner():\n",
    "        # global var  # 此时能修改123\n",
    "        nonlocal var # 此时能修改666\n",
    "        # 如果不加上面两行之一， 则下行会报错\n",
    "        var += 3\n",
    "        print(var)\n",
    "    inner()\n",
    "\n",
    "func()"
   ]
  },
  {
   "cell_type": "code",
   "execution_count": 14,
   "metadata": {},
   "outputs": [
    {
     "ename": "SyntaxError",
     "evalue": "no binding for nonlocal 'var' found (<ipython-input-14-74791eaa9473>, line 4)",
     "output_type": "error",
     "traceback": [
      "\u001b[0;36m  File \u001b[0;32m\"<ipython-input-14-74791eaa9473>\"\u001b[0;36m, line \u001b[0;32m4\u001b[0m\n\u001b[0;31m    nonlocal var\u001b[0m\n\u001b[0m    ^\u001b[0m\n\u001b[0;31mSyntaxError\u001b[0m\u001b[0;31m:\u001b[0m no binding for nonlocal 'var' found\n"
     ]
    }
   ],
   "source": [
    "# 所以看下面的例子\n",
    "var = 666\n",
    "def func():\n",
    "    nonlocal var # var为global，现在定义为nonlocal，定义冲突则会处理为“错误”\n",
    "    var += 3\n",
    "    print(var)\n",
    "func()"
   ]
  },
  {
   "cell_type": "code",
   "execution_count": 5,
   "metadata": {},
   "outputs": [
    {
     "ename": "SyntaxError",
     "evalue": "name 'value' is assigned to before global declaration (<ipython-input-5-234686a20cb0>, line 7)",
     "output_type": "error",
     "traceback": [
      "\u001b[0;36m  File \u001b[0;32m\"<ipython-input-5-234686a20cb0>\"\u001b[0;36m, line \u001b[0;32m7\u001b[0m\n\u001b[0;31mSyntaxError\u001b[0m\u001b[0;31m:\u001b[0m name 'value' is assigned to before global declaration\n"
     ]
    }
   ],
   "source": [
    "# 同样，一个局部变量，下面又被global一下，定义又冲突了，会报错\n",
    "def func():\n",
    "    value = 123\n",
    "    global value # 此处报错\n",
    "    print(value)"
   ]
  },
  {
   "cell_type": "code",
   "execution_count": null,
   "metadata": {},
   "outputs": [],
   "source": []
  }
 ],
 "metadata": {
  "kernelspec": {
   "display_name": "Python 3",
   "language": "python",
   "name": "python3"
  },
  "language_info": {
   "codemirror_mode": {
    "name": "ipython",
    "version": 3
   },
   "file_extension": ".py",
   "mimetype": "text/x-python",
   "name": "python",
   "nbconvert_exporter": "python",
   "pygments_lexer": "ipython3",
   "version": "3.7.10"
  }
 },
 "nbformat": 4,
 "nbformat_minor": 4
}
