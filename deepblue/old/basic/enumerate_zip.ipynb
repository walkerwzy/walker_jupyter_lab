{
 "cells": [
  {
   "cell_type": "code",
   "execution_count": 2,
   "metadata": {},
   "outputs": [
    {
     "data": {
      "text/plain": [
       "['0: a / 033', '1: b / 034', '2: c / 035']"
      ]
     },
     "execution_count": 2,
     "metadata": {},
     "output_type": "execute_result"
    }
   ],
   "source": [
    "a = ['a', 'b' , 'c']\n",
    "b = [33, 34, 35]\n",
    "c = [f'{index}: {name} / {age:03d}' for index, (name, age) in enumerate(zip(a, b))]\n",
    "c"
   ]
  },
  {
   "cell_type": "code",
   "execution_count": 3,
   "metadata": {},
   "outputs": [
    {
     "data": {
      "text/plain": [
       "['walker/male/23', 'jack/male/24', 'lucy/female/25']"
      ]
     },
     "execution_count": 3,
     "metadata": {},
     "output_type": "execute_result"
    }
   ],
   "source": [
    "a = ['walker','jack','lucy']\n",
    "b = [23,24,25]\n",
    "c = ['male','male','female']\n",
    "r = [f'{name}/{sex}/{age}' for name, age, sex in zip(a,b,c)]\n",
    "r"
   ]
  },
  {
   "cell_type": "code",
   "execution_count": 4,
   "metadata": {},
   "outputs": [
    {
     "data": {
      "text/plain": [
       "['0:walker', '1:jack', '2:lucy']"
      ]
     },
     "execution_count": 4,
     "metadata": {},
     "output_type": "execute_result"
    }
   ],
   "source": [
    "c = [f'{index}:{item}' for index, item in enumerate(a)]\n",
    "c"
   ]
  },
  {
   "cell_type": "code",
   "execution_count": 5,
   "metadata": {},
   "outputs": [
    {
     "data": {
      "text/plain": [
       "[('walker', 23), ('jack', 24), ('lucy', 25)]"
      ]
     },
     "execution_count": 5,
     "metadata": {},
     "output_type": "execute_result"
    }
   ],
   "source": [
    "d = list(zip(a,b))\n",
    "d"
   ]
  },
  {
   "cell_type": "code",
   "execution_count": 6,
   "metadata": {},
   "outputs": [
    {
     "data": {
      "text/plain": [
       "[('walker', 'jack', 'lucy'), (23, 24, 25)]"
      ]
     },
     "execution_count": 6,
     "metadata": {},
     "output_type": "execute_result"
    }
   ],
   "source": [
    "# 把d反向zip, 即把每个属性都抽到单独的数据里去（年龄组，姓名组）\n",
    "# 其实就是把数组展开（用*符号）\n",
    "e = list(zip(*d))\n",
    "# 等同于：\n",
    "e = list(zip(d[0], d[1], d[2]))\n",
    "e"
   ]
  },
  {
   "cell_type": "code",
   "execution_count": 4,
   "metadata": {},
   "outputs": [
    {
     "data": {
      "text/plain": [
       "[('a', 'b', 'c'), (1, 2, 3)]"
      ]
     },
     "execution_count": 4,
     "metadata": {},
     "output_type": "execute_result"
    }
   ],
   "source": [
    "mm = zip((\"a\", 1), (\"b\", 2), (\"c\", 3))\n",
    "[a for a in mm]"
   ]
  },
  {
   "cell_type": "code",
   "execution_count": 28,
   "metadata": {},
   "outputs": [
    {
     "name": "stdout",
     "output_type": "stream",
     "text": [
      "name\n",
      "[('name',), ('age',)]\n",
      "[('name', 'name'), ('age', 'age')]\n",
      "name\n",
      "age\n"
     ]
    }
   ],
   "source": [
    "# 字典的迭代器输出key\n",
    "d1 = {\"name\": \"walker\", \"age\": 23}\n",
    "d2 = {\"name\": \"lucy\", \"age\": 18}\n",
    "it = iter(d1)\n",
    "print(next(it)) # print \"name\"\n",
    "print(list(zip(d1))) \n",
    "print(list(zip(d1, d2)))\n",
    "\n",
    "# 所以字典的for循环不是key value的元组\n",
    "for key in d1:\n",
    "    print(key)"
   ]
  },
  {
   "cell_type": "code",
   "execution_count": 27,
   "metadata": {},
   "outputs": [
    {
     "name": "stdout",
     "output_type": "stream",
     "text": [
      "[('h',), ('e',), ('l',), ('l',), ('o',)]\n",
      "[('h',), ('e',), ('l',), ('l',), ('o',)]\n",
      "[('h', 'e', 'l', 'l', 'o')]\n",
      "[('1', 'a'), ('2', 'b')]\n"
     ]
    }
   ],
   "source": [
    "# zip的参数只要支持__iter__方法就行，比如string\n",
    "print(list(zip(\"hello\")))\n",
    "# 等同于\n",
    "print(list(zip([\"h\",\"e\",\"l\",\"l\",\"o\"])))\n",
    "# 不同于\n",
    "print(list(zip(\"h\",\"e\",\"l\",\"l\",\"o\")))\n",
    "\n",
    "# 怎么理解？\n",
    "# 就是前两个都只有“一个参数”，所以每次“每个参数里取出一个next”放到tuple里面，（取了5次）\n",
    "# 而后面的是N个参数，所以每次都从N个参数里“取出一个”，（等于取一轮就取完了）\n",
    "\n",
    "# 不等长取最短\n",
    "print(list(zip(\"123\", \"ab\")))"
   ]
  },
  {
   "cell_type": "code",
   "execution_count": null,
   "metadata": {},
   "outputs": [],
   "source": []
  },
  {
   "cell_type": "code",
   "execution_count": null,
   "metadata": {},
   "outputs": [],
   "source": []
  }
 ],
 "metadata": {
  "kernelspec": {
   "display_name": "Python 3",
   "language": "python",
   "name": "python3"
  },
  "language_info": {
   "codemirror_mode": {
    "name": "ipython",
    "version": 3
   },
   "file_extension": ".py",
   "mimetype": "text/x-python",
   "name": "python",
   "nbconvert_exporter": "python",
   "pygments_lexer": "ipython3",
   "version": "3.7.10"
  }
 },
 "nbformat": 4,
 "nbformat_minor": 4
}
