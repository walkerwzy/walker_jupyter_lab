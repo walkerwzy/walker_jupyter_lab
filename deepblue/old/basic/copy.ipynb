{
 "cells": [
  {
   "cell_type": "code",
   "execution_count": 39,
   "metadata": {},
   "outputs": [
    {
     "name": "stdout",
     "output_type": "stream",
     "text": [
      "[[1, 0], [1, 0], [1, 0]]\n"
     ]
    }
   ],
   "source": [
    "array = [[0]*2]*3\n",
    "array[0][0] =1 \n",
    "print(array) # 输出为 [[1, 0], [1, 0], [1, 0]]"
   ]
  },
  {
   "cell_type": "markdown",
   "metadata": {},
   "source": [
    "原因是，python里全都是引用传递，没有值传递，所以当你把数组重复的时候，复制的也是引用，而不是**值**\n",
    "你打印出来可以看到内存地址是一样的\n",
    "想要实现拷贝，除了遍历+赋值`[i for i in [1,2,3]]`，还可以引入`copy`库"
   ]
  },
  {
   "cell_type": "code",
   "execution_count": 42,
   "metadata": {},
   "outputs": [
    {
     "name": "stdout",
     "output_type": "stream",
     "text": [
      "array: ['x', 2, 3]\n",
      "p1:  [['x', 2, 3]]\n",
      "p2: [[['x', 2, 3]]]\n"
     ]
    }
   ],
   "source": [
    "import copy\n",
    "\n",
    "array = [1,2,3]\n",
    "m = [array] # 这里对m进行任何更改都会影响array\n",
    "n = [copy.copy(array)] # 这样就是复制而不是引用传递了\n",
    "n[0][0] = 2 \n",
    "\n",
    "# 测试copy.copy()是否深拷贝\n",
    "p1 = [array]\n",
    "p2 = [copy.copy(p1)]\n",
    "p2[0][0][0] = \"x\"\n",
    "print(\"array:\", array)\n",
    "print(\"p1: \", p1)\n",
    "print(\"p2:\", p2)"
   ]
  },
  {
   "cell_type": "markdown",
   "metadata": {},
   "source": [
    "可见，拷贝p1到p2的时候，并没有深入到p1里面去把每个值都拷贝过来，以致于修改最里层的数值的时候，其实还是改到了`array`数组上去了\n",
    "如果真拷贝了过来，是不会影响array的"
   ]
  },
  {
   "cell_type": "code",
   "execution_count": 4,
   "metadata": {},
   "outputs": [
    {
     "name": "stdout",
     "output_type": "stream",
     "text": [
      "array: [1, 2, 3]\n",
      "p1:  [[1, 2, 3]]\n",
      "p2: [[[1, 'y', 3]]]\n"
     ]
    }
   ],
   "source": [
    "import copy\n",
    "array = [1,2,3]\n",
    "p1 = [array]\n",
    "p2 = [copy.deepcopy(p1)]\n",
    "p2[0][0][1] = \"y\"\n",
    "\n",
    "print(\"array:\", array)\n",
    "print(\"p1: \", p1)\n",
    "print(\"p2:\", p2)"
   ]
  },
  {
   "cell_type": "markdown",
   "metadata": {},
   "source": [
    "see?"
   ]
  },
  {
   "cell_type": "code",
   "execution_count": 8,
   "metadata": {},
   "outputs": [
    {
     "data": {
      "text/plain": [
       "[[2, 1], [2, 1], [2, 1]]"
      ]
     },
     "execution_count": 8,
     "metadata": {},
     "output_type": "execute_result"
    }
   ],
   "source": [
    "# 但是看这个\n",
    "import copy\n",
    "item = [0, 1 ]\n",
    "array = [item, item, item]\n",
    "var = copy.deepcopy(array)\n",
    "var[0][0] = 2\n",
    "var"
   ]
  },
  {
   "cell_type": "markdown",
   "metadata": {},
   "source": [
    "**why**?"
   ]
  },
  {
   "cell_type": "code",
   "execution_count": null,
   "metadata": {},
   "outputs": [],
   "source": []
  }
 ],
 "metadata": {
  "kernelspec": {
   "display_name": "Python 3",
   "language": "python",
   "name": "python3"
  },
  "language_info": {
   "codemirror_mode": {
    "name": "ipython",
    "version": 3
   },
   "file_extension": ".py",
   "mimetype": "text/x-python",
   "name": "python",
   "nbconvert_exporter": "python",
   "pygments_lexer": "ipython3",
   "version": "3.7.3"
  }
 },
 "nbformat": 4,
 "nbformat_minor": 4
}
