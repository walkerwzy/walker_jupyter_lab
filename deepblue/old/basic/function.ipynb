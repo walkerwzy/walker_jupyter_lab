{
 "cells": [
  {
   "cell_type": "markdown",
   "metadata": {},
   "source": [
    "# 函数"
   ]
  },
  {
   "cell_type": "markdown",
   "metadata": {},
   "source": [
    "所有函数都是一个`function`对象，所以\n",
    "```python\n",
    "def func():\n",
    "    pass\n",
    "```\n",
    "等同于：\n",
    "```python\n",
    "func = function():\n",
    "    pass\n",
    "```"
   ]
  },
  {
   "cell_type": "markdown",
   "metadata": {},
   "source": [
    "## 函数的参数"
   ]
  },
  {
   "cell_type": "code",
   "execution_count": 2,
   "metadata": {},
   "outputs": [
    {
     "name": "stdout",
     "output_type": "stream",
     "text": [
      "未命名可变参数有2个：('a', 'b')\n",
      "命名可变参数有2个：{'name': 'walker', 'age': 35}\n"
     ]
    },
    {
     "data": {
      "text/plain": [
       "17"
      ]
     },
     "execution_count": 2,
     "metadata": {},
     "output_type": "execute_result"
    }
   ],
   "source": [
    "def f(x, k=1, b=0.5, *args, **kwargs):\n",
    "    if args:\n",
    "        print(f'未命名可变参数有{len(args)}个：{args}')\n",
    "    if kwargs:\n",
    "        print(f'命名可变参数有{len(kwargs)}个：{kwargs}')\n",
    "    return k * x + b\n",
    "f(3,4,5,'a','b',name=\"walker\",age=35)"
   ]
  },
  {
   "cell_type": "markdown",
   "metadata": {},
   "source": [
    ">`args`接到的时候是一个元组，如上例的`('a', 'b')`\n",
    "`kwargs`接到的是一个字典，如上例的`{'name': 'walker', 'age': 35}`\n",
    "但你用元组和字典传参时，需要用星号分别来展开（元组一个星号，字典两个星号），参考上例，参数最终是一个个传入的，而不是包装成元组和字典"
   ]
  },
  {
   "cell_type": "code",
   "execution_count": 3,
   "metadata": {},
   "outputs": [
    {
     "name": "stdout",
     "output_type": "stream",
     "text": [
      "未命名可变参数有2个：('a', 'b')\n",
      "命名可变参数有2个：{'name': 'walker', 'age': 35}\n"
     ]
    },
    {
     "data": {
      "text/plain": [
       "5"
      ]
     },
     "execution_count": 3,
     "metadata": {},
     "output_type": "execute_result"
    }
   ],
   "source": [
    "t = ('a', 'b')\n",
    "d = {'name': 'walker', 'age': 35}\n",
    "f(1, 2, 3, *t, **d)"
   ]
  },
  {
   "cell_type": "markdown",
   "metadata": {},
   "source": [
    "## 装饰器\n",
    "\n",
    "装饰器是返回函数的函数，带参数的装饰器是返回（返回函数的函数）的函数"
   ]
  },
  {
   "cell_type": "code",
   "execution_count": 9,
   "metadata": {},
   "outputs": [
    {
     "name": "stdout",
     "output_type": "stream",
     "text": [
      "step 1，进入装饰器实现\n",
      "step 2，函数体实现\n"
     ]
    },
    {
     "data": {
      "text/plain": [
       "7"
      ]
     },
     "execution_count": 9,
     "metadata": {},
     "output_type": "execute_result"
    }
   ],
   "source": [
    "# 不带参数\n",
    "def wrap1(func):\n",
    "    def impl(*args, **kwargs):\n",
    "        print(\"step 1，进入装饰器实现\")\n",
    "        return func(*args, **kwargs)\n",
    "    return impl\n",
    "\n",
    "@wrap1\n",
    "def func1(x, y):\n",
    "    print(\"step 2，函数体实现\")\n",
    "    return x+y\n",
    "\n",
    "func1(3,4)"
   ]
  },
  {
   "cell_type": "code",
   "execution_count": 13,
   "metadata": {},
   "outputs": [
    {
     "name": "stdout",
     "output_type": "stream",
     "text": [
      "step 1, 得到装饰器参数： {'name': 'walker', 'route': '/api/user'}\n",
      "step 2, 进入第二层\n",
      "step 3，进入装饰器实现\n",
      "step 4, 函数体实现\n"
     ]
    }
   ],
   "source": [
    "# 带参数（包两层）\n",
    "def wrap2(*args, **kwargs):\n",
    "    print(\"step 1, 得到装饰器参数：\", *args, **kwargs)\n",
    "    def inner(func):\n",
    "        print(\"step 2, 进入第二层\")\n",
    "        def impl(*args, **kwargs):\n",
    "            print(\"step 3，进入装饰器实现\")\n",
    "            return func(*args, **kwargs)\n",
    "        return impl\n",
    "    return inner\n",
    "\n",
    "@wrap2({\"name\":\"walker\", \"route\":\"/api/user\"})\n",
    "def func2(orderid):\n",
    "    print(\"step 4, 函数体实现\")\n",
    "    return\n",
    "\n",
    "func2(345)"
   ]
  },
  {
   "cell_type": "markdown",
   "metadata": {},
   "source": [
    "## 简写（非labmda）"
   ]
  },
  {
   "cell_type": "code",
   "execution_count": 12,
   "metadata": {},
   "outputs": [
    {
     "name": "stdout",
     "output_type": "stream",
     "text": [
      "a,b\n"
     ]
    }
   ],
   "source": [
    "def method(a:str, b:str)->str:print(f'{a},{b}')\n",
    "method(\"a\", \"b\")"
   ]
  },
  {
   "cell_type": "markdown",
   "metadata": {},
   "source": [
    "如果啥都没做，可以这样定义\n",
    "```python\n",
    "def method2(a:..., b:...) -> ... : ...\n",
    "def method3():...\n",
    "```\n",
    "`...`是一个`ellipsis`实例，它代表`AnyType`，在方法体中，代表`pass`"
   ]
  },
  {
   "cell_type": "code",
   "execution_count": 18,
   "metadata": {},
   "outputs": [
    {
     "data": {
      "text/plain": [
       "ellipsis"
      ]
     },
     "execution_count": 18,
     "metadata": {},
     "output_type": "execute_result"
    }
   ],
   "source": [
    "type(...)"
   ]
  },
  {
   "cell_type": "code",
   "execution_count": 20,
   "metadata": {},
   "outputs": [
    {
     "name": "stdout",
     "output_type": "stream",
     "text": [
      "bbb\n"
     ]
    }
   ],
   "source": [
    "def a():\n",
    "    print(\"aaa\")\n",
    "def a():\n",
    "    print(\"bbb\")\n",
    "a()"
   ]
  },
  {
   "cell_type": "markdown",
   "metadata": {},
   "source": [
    "合理利用上一个代码块的特性，结合`...`这种占位代码，就可以变相地在python里面实现**接口**，对外公开接口文件（或者说头文件），隐藏实现文件。\n",
    "```python\n",
    "# 定义\n",
    "def get_price(sku : int) -> float : ...\n",
    "# 实现\n",
    "def get_price(sku):\n",
    "    # ... 业务逻辑\n",
    "    return 347.5\n",
    "```"
   ]
  },
  {
   "cell_type": "code",
   "execution_count": null,
   "metadata": {},
   "outputs": [],
   "source": []
  }
 ],
 "metadata": {
  "kernelspec": {
   "display_name": "Python 3",
   "language": "python",
   "name": "python3"
  },
  "language_info": {
   "codemirror_mode": {
    "name": "ipython",
    "version": 3
   },
   "file_extension": ".py",
   "mimetype": "text/x-python",
   "name": "python",
   "nbconvert_exporter": "python",
   "pygments_lexer": "ipython3",
   "version": "3.7.10"
  }
 },
 "nbformat": 4,
 "nbformat_minor": 4
}
