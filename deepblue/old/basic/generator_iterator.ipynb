{
 "cells": [
  {
   "cell_type": "markdown",
   "metadata": {},
   "source": [
    "## Iterable, Iterator, generator, yield\n",
    "\n",
    "+ 实现了`__iter__`的是一个`Iterable`\n",
    "+ 实现了`__next__`的是一个`Iterator`\n",
    "+ 同时实现了`__next__`和`__iter__`的，对其取`__iter__`，就是它自己，比如`generator`\n",
    "+ 返回`yield`的就是一个`generator`"
   ]
  },
  {
   "cell_type": "code",
   "execution_count": 10,
   "metadata": {},
   "outputs": [
    {
     "name": "stdout",
     "output_type": "stream",
     "text": [
      "0 1\n",
      "0 1\n"
     ]
    }
   ],
   "source": [
    "class GoodsInteration:\n",
    "    def __init__(self, goods):\n",
    "        self.goods = goods\n",
    "        self.cursor = -1\n",
    "        \n",
    "    def __next__(self):\n",
    "        if self.cursor >= self.goods.n -1:\n",
    "            raise StopInteration(O)\n",
    "        self.cursor += 1\n",
    "        return self.cursor\n",
    "    \n",
    "class Goods:\n",
    "    def __init__(self, num):\n",
    "        self.n = num\n",
    "        \n",
    "    def __iter__(self):\n",
    "        return GoodsInteration(self)\n",
    "    \n",
    "# Goods只实现了__iter__，它可以被用于for等地方，但不能使用next方法\n",
    "# 要使用next方法需要iter一下\n",
    "# enumerator也是类似的原理\n",
    "g = goods = Goods(10)\n",
    "it = iter(g)\n",
    "print(next(it), next(it))\n",
    "\n",
    "# 改成自己实现next呢？\n",
    "class Goods2:\n",
    "    def __init__(self, num):\n",
    "        self.n = num\n",
    "        self.cursor = -1\n",
    "        \n",
    "    def __iter__(self):\n",
    "        return self\n",
    "    \n",
    "    def __next__(self):\n",
    "        self.cursor += 1\n",
    "        if self.cursor >= self.n:\n",
    "            raise StopIteration()\n",
    "        return self.cursor\n",
    "\n",
    "# 现在就可以对自己调用next了\n",
    "goods = Goods2(10)\n",
    "print(next(goods), next(goods))"
   ]
  },
  {
   "cell_type": "code",
   "execution_count": 11,
   "metadata": {},
   "outputs": [
    {
     "data": {
      "text/plain": [
       "[4, 5, 6, 7, 8, 9]"
      ]
     },
     "execution_count": 11,
     "metadata": {},
     "output_type": "execute_result"
    }
   ],
   "source": [
    "def generator(num):\n",
    "    for n in range(num):\n",
    "        yield n\n",
    "\n",
    "[n for n in generator(10) if n > 3]"
   ]
  },
  {
   "cell_type": "code",
   "execution_count": 21,
   "metadata": {},
   "outputs": [
    {
     "data": {
      "text/plain": [
       "['./bool.ipynb',\n",
       " './function.ipynb',\n",
       " './string.ipynb',\n",
       " './enumerate_zip.ipynb',\n",
       " './generator_iterator.ipynb',\n",
       " './homework/fibonacci_sort_stack.ipynb',\n",
       " './homework/.ipynb_checkpoints/fibonacci_sort_stack-checkpoint.ipynb',\n",
       " './.ipynb_checkpoints/generator_iterator-checkpoint.ipynb',\n",
       " './.ipynb_checkpoints/bool-checkpoint.ipynb',\n",
       " './.ipynb_checkpoints/function-checkpoint.ipynb',\n",
       " './.ipynb_checkpoints/string-checkpoint.ipynb',\n",
       " './.ipynb_checkpoints/enumerate_zip-checkpoint.ipynb']"
      ]
     },
     "execution_count": 21,
     "metadata": {},
     "output_type": "execute_result"
    }
   ],
   "source": [
    "import os\n",
    "\n",
    "def fetch_file(directory):\n",
    "    for parent_folder, folders, files in os.walk(directory):\n",
    "        for file in files:\n",
    "            if file.endswith('.ipynb'):\n",
    "                yield os.path.join(parent_folder, file)\n",
    "\n",
    "generator = fetch_file('./')\n",
    "[f for f in generator]"
   ]
  },
  {
   "cell_type": "code",
   "execution_count": null,
   "metadata": {},
   "outputs": [],
   "source": []
  }
 ],
 "metadata": {
  "kernelspec": {
   "display_name": "Python 3",
   "language": "python",
   "name": "python3"
  },
  "language_info": {
   "codemirror_mode": {
    "name": "ipython",
    "version": 3
   },
   "file_extension": ".py",
   "mimetype": "text/x-python",
   "name": "python",
   "nbconvert_exporter": "python",
   "pygments_lexer": "ipython3",
   "version": "3.7.10"
  }
 },
 "nbformat": 4,
 "nbformat_minor": 4
}
