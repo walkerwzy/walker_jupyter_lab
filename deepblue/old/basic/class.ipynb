{
 "cells": [
  {
   "cell_type": "markdown",
   "metadata": {},
   "source": [
    "# Class"
   ]
  },
  {
   "cell_type": "code",
   "execution_count": 1,
   "metadata": {},
   "outputs": [
    {
     "name": "stdout",
     "output_type": "stream",
     "text": [
      "animal_init\n",
      "human_init\n",
      "man_init\n",
      "human run\n",
      "animal run\n",
      "__形式私有变量: 90\n",
      "property方法封装: walker\n",
      "装饰器封装，dot语法: 28\n",
      "after set age=37 37\n",
      "type(m.name): <class 'str'> \n",
      "type(m.age): <class 'int'>\n",
      "number of foot: (m.num_foot) 2\n",
      "number of foot: (Man.num_foot) 2\n"
     ]
    }
   ],
   "source": [
    "# 演示多重继承\n",
    "\n",
    "class Animal(object):\n",
    "    def __init__(self):\n",
    "        print('animal_init')\n",
    "    def run(self):\n",
    "        print('animal run')\n",
    "        \n",
    "class Human(Animal):\n",
    "    def __init__(self):\n",
    "        super().__init__()\n",
    "        print('human_init')\n",
    "    def run(self):\n",
    "        print('human run')\n",
    "\n",
    "class Man(Human):\n",
    "    def __init__(self, name, age, gender):\n",
    "        super().__init__()\n",
    "        print('man_init')\n",
    "        self.__gender = gender    # 演示原生私有变量\n",
    "        self.__name = name        # 演示property方法\n",
    "        self.__age = age          # 演示装饰器property\n",
    "    def run(self):\n",
    "        super().run() # 不传参表示最近parent\n",
    "        super(Human, self).run() # 传参表示参数的parent\n",
    "    \n",
    "    # 定义一个get私有变量的方法，然后传到property方法里去\n",
    "    def get_name(self):\n",
    "        return self.__name\n",
    "    name = property(get_name)\n",
    "    \n",
    "    # 观察上面把方法作为参数传进去，不就是装饰器干的事吗？所以：\n",
    "    @property\n",
    "    def age(self):\n",
    "        return self.__age\n",
    "    \n",
    "    # setter的语法非常奇怪，\n",
    "    # 其实就是在已经age = property(f_get)的前提下，对age进行fset的赋值\n",
    "    @age.setter\n",
    "    def age(self, value):\n",
    "        self.__age = value\n",
    "        \n",
    "    num_foot = 2 # <<< 这样就变成类变量（静态变量）了, 【定义】时就已经执行一次了，而非第一次初始化时\n",
    "    \n",
    "        \n",
    "m = Man(\"walker\", 28, 90)\n",
    "m.run()\n",
    "print(\"__形式私有变量:\", m._Man__gender) # 打印私有变量的方式\n",
    "print(\"property方法封装:\", m.name)\n",
    "print(\"装饰器封装，dot语法:\", m.age)\n",
    "m.age = 37\n",
    "print(\"after set age=37\", m.age)\n",
    "print(f\"type(m.name): {type(m.name)} \\ntype(m.age): {type(m.age)}\") # 可见类型取决于返回值，而不是函数本身\n",
    "print(\"number of foot: (m.num_foot)\", m.num_foot) # 当实体变量用\n",
    "print(\"number of foot: (Man.num_foot)\", Man.num_foot) # 当静态变量用"
   ]
  },
  {
   "cell_type": "code",
   "execution_count": null,
   "metadata": {},
   "outputs": [],
   "source": []
  }
 ],
 "metadata": {
  "kernelspec": {
   "display_name": "Python 3",
   "language": "python",
   "name": "python3"
  },
  "language_info": {
   "codemirror_mode": {
    "name": "ipython",
    "version": 3
   },
   "file_extension": ".py",
   "mimetype": "text/x-python",
   "name": "python",
   "nbconvert_exporter": "python",
   "pygments_lexer": "ipython3",
   "version": "3.7.10"
  }
 },
 "nbformat": 4,
 "nbformat_minor": 4
}
