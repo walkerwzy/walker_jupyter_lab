{
 "cells": [
  {
   "cell_type": "markdown",
   "metadata": {},
   "source": [
    "# 布尔测试"
   ]
  },
  {
   "cell_type": "code",
   "execution_count": 3,
   "metadata": {},
   "outputs": [
    {
     "name": "stdout",
     "output_type": "stream",
     "text": [
      "NoneType None is False\n",
      "tuple () is False\n",
      "list [] is False\n",
      "dict {} is False\n",
      "tuple (0,) is True\n",
      "tuple () is False\n",
      "int 0 is False\n",
      "list [0] is True\n",
      "dict {'name': 'walker'} is True\n",
      "int 0 is False\n",
      "str  is False\n",
      "float 0.0 is False\n",
      "function <function f at 0x7fe7f2661400> is True\n"
     ]
    }
   ],
   "source": [
    "def f(x, k=1, b=0.5, *args, **kwargs):\n",
    "    if args:\n",
    "        print(f'未命名可变参数有{len(args)}个：{args}')\n",
    "    if kwargs:\n",
    "        print(f'命名可变参数有{len(kwargs)}个：{kwargs}')\n",
    "    return k * x + b\n",
    "\n",
    "values = [None, tuple(), list(), dict(), (0,), (()), ((0)), [0], {\"name\": \"walker\"}, 0, \"\", 0.0, f]\n",
    "for value in values:\n",
    "    if value:\n",
    "        print(f'{type(value).__name__} {value} is True')\n",
    "    else:\n",
    "        print(f'{type(value).__name__} {value} is False')"
   ]
  },
  {
   "cell_type": "markdown",
   "metadata": {},
   "source": [
    "即false，None，空对象（数组，元组，字典），0，空字符串等都是false"
   ]
  },
  {
   "cell_type": "code",
   "execution_count": 12,
   "metadata": {},
   "outputs": [
    {
     "name": "stdout",
     "output_type": "stream",
     "text": [
      "True\n",
      "[]\n",
      "False\n",
      "True\n",
      "True\n",
      "True\n",
      "False\n",
      "True\n",
      "False\n"
     ]
    }
   ],
   "source": [
    "print(not [])\n",
    "print([])\n",
    "print(not not [])\n",
    "print(not not [3])\n",
    "print(not not [0])\n",
    "print(not 0)\n",
    "print(not not 0)\n",
    "print(not '')\n",
    "print(not not '')"
   ]
  },
  {
   "cell_type": "code",
   "execution_count": null,
   "metadata": {},
   "outputs": [],
   "source": []
  }
 ],
 "metadata": {
  "kernelspec": {
   "display_name": "Python 3",
   "language": "python",
   "name": "python3"
  },
  "language_info": {
   "codemirror_mode": {
    "name": "ipython",
    "version": 3
   },
   "file_extension": ".py",
   "mimetype": "text/x-python",
   "name": "python",
   "nbconvert_exporter": "python",
   "pygments_lexer": "ipython3",
   "version": "3.7.3"
  }
 },
 "nbformat": 4,
 "nbformat_minor": 4
}
