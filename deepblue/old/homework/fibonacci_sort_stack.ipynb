{
 "cells": [
  {
   "cell_type": "markdown",
   "metadata": {},
   "source": [
    "1. 打印0-100斐波那契数列\n",
    "2. 排序数组[0,2,1,3,5,1,1]，使用`sorted`方法和冒泡算法\n",
    "3. 使用stack代替递归\n",
    "4. 快速排序（类似于二分法）"
   ]
  },
  {
   "cell_type": "code",
   "execution_count": 2,
   "metadata": {},
   "outputs": [
    {
     "name": "stdout",
     "output_type": "stream",
     "text": [
      "[0, 1, 1, 2, 3, 5, 8, 13, 21, 34, 55, 89, 144]\n"
     ]
    }
   ],
   "source": [
    "def fibonacci(arr, end):\n",
    "    n = arr[-1] + arr[-2]  # get the new number\n",
    "    if n > end:                   # quit condition\n",
    "        return\n",
    "    arr.append(n)                 # append new number\n",
    "    return fibonacci(arr, end)   # recrusive\n",
    "fib = [0, 1]\n",
    "fibonacci(fib, 200)\n",
    "print(fib)"
   ]
  },
  {
   "cell_type": "code",
   "execution_count": 77,
   "metadata": {},
   "outputs": [
    {
     "name": "stdout",
     "output_type": "stream",
     "text": [
      "[0, 1, 1, 1, 2, 3, 5]\n",
      "[5, 3, 2, 1, 1, 1, 0]\n"
     ]
    }
   ],
   "source": [
    "a = [0, 2, 1, 3, 5, 1, 1]\n",
    "a1 = sorted(a)\n",
    "a2 = sorted(a, reverse=True)\n",
    "print(a1, a2, sep='\\n')"
   ]
  },
  {
   "cell_type": "code",
   "execution_count": 253,
   "metadata": {},
   "outputs": [
    {
     "name": "stdout",
     "output_type": "stream",
     "text": [
      "[0, 1, 1, 1, 2, 3, 5]\n",
      "[5, 3, 2, 1, 1, 1, 0]\n"
     ]
    }
   ],
   "source": [
    "# 冒泡\n",
    "def sort_list(arr, reverse=False):\n",
    "    for i in range(1, len(arr)):\n",
    "        for j in range(0, len(arr)-i):\n",
    "            if (arr[j] > arr[j+1] and not reverse) or (arr[j] < arr[j+1] and reverse):\n",
    "                arr[j], arr[j+1] = arr[j+1], arr[j]\n",
    "    return arr\n",
    "\n",
    "a = [0, 2, 1, 3, 5, 1, 1]\n",
    "print(sort_list(a.copy()))\n",
    "print(sort_list(a.copy(), reverse=True))"
   ]
  },
  {
   "cell_type": "code",
   "execution_count": 313,
   "metadata": {},
   "outputs": [
    {
     "name": "stdout",
     "output_type": "stream",
     "text": [
      "pivot: 11\n",
      "[10, 7, 8, 9, 1, 5, 2, 6, 3, 7, 6, 1, 11, 75, 33, 24]\n",
      "pivot: 1\n",
      "[1, 1, 8, 9, 10, 5, 2, 6, 3, 7, 6, 7, 11, 75, 33, 24]\n",
      "pivot: 7\n",
      "[1, 1, 5, 2, 6, 3, 7, 6, 7, 9, 10, 8, 11, 75, 33, 24]\n",
      "pivot: 6\n",
      "[1, 1, 5, 2, 6, 3, 6, 7, 7, 9, 10, 8, 11, 75, 33, 24]\n",
      "pivot: 3\n",
      "[1, 1, 2, 3, 6, 5, 6, 7, 7, 9, 10, 8, 11, 75, 33, 24]\n",
      "pivot: 5\n",
      "[1, 1, 2, 3, 5, 6, 6, 7, 7, 9, 10, 8, 11, 75, 33, 24]\n",
      "pivot: 8\n",
      "[1, 1, 2, 3, 5, 6, 6, 7, 7, 8, 10, 9, 11, 75, 33, 24]\n",
      "pivot: 9\n",
      "[1, 1, 2, 3, 5, 6, 6, 7, 7, 8, 9, 10, 11, 75, 33, 24]\n",
      "pivot: 24\n",
      "[1, 1, 2, 3, 5, 6, 6, 7, 7, 8, 9, 10, 11, 24, 33, 75]\n",
      "pivot: 75\n",
      "[1, 1, 2, 3, 5, 6, 6, 7, 7, 8, 9, 10, 11, 24, 33, 75]\n"
     ]
    }
   ],
   "source": [
    "# 快速排序\n",
    "\n",
    "# 查找中值\n",
    "# def get_pivot(arr):\n",
    "#     avg = int((max(arr) + min(arr)) / 2)\n",
    "#     dis = [abs(n-avg) for n in arr]\n",
    "#     return arr[dis.index(min(dis))]\n",
    "\n",
    "# 把元素分别排到中值两边\n",
    "def partition(arr, low, high):\n",
    "    i = ( low - 1)  # 标红位，用于存储下一个符合条件的数，每存储一个就指向下一个\n",
    "    pivot = get_pivot(arr[low:high+1]) # 切片不包含最后一个索引，手动加1\n",
    "    print(f\"pivot: {pivot}\")\n",
    "    pivot_index = -1\n",
    "    for j in range(low, high+1):  # range也不包含最后的索引，所以要加2 \n",
    "        if arr[j] <= pivot and i != j:\n",
    "            # 把比pivot小的数依次放到左边\n",
    "            i+=1\n",
    "            arr[i], arr[j] = arr[j], arr[i]\n",
    "            if arr[i] == pivot and pivot_index == -1: # 相等的数值也移动，是记下第一次移动过后的位置\n",
    "                pivot_index = i\n",
    "#         print(arr)\n",
    "    # 到这一步，所有比pivot小和相等的数全到左边了\n",
    "    # 把第一个（或最后一个，取决于你存了谁的index）pivot移到这些数右边就行了\n",
    "    arr[i], arr[pivot_index] = arr[pivot_index], arr[i]\n",
    "    return (i)\n",
    "\n",
    "# 不取中值，直接每次用最后一人数做对比\n",
    "def part(arr, low, high):\n",
    "    i = ( low - 1)  # 标红位，用于存储下一个符合条件的数\n",
    "    pivot = arr[high]\n",
    "    print(\"pivot:\", pivot)\n",
    "    for j in range(low, high):\n",
    "        if arr[j] <= pivot and i != j:\n",
    "            # 把比pivot小的数依次放到左边\n",
    "            i+=1\n",
    "            arr[i], arr[j] = arr[j], arr[i]\n",
    "    # 到这一步，所有比pivot小和相等的数全到左边了\n",
    "    # 把pivot也顺位放过去就行了\n",
    "    arr[i+1], arr[high] = arr[high], arr[i+1]\n",
    "    return (i+1)\n",
    "\n",
    "def quick_sort(arr, low=0, high=-1):\n",
    "    if high <= low and high != -1 :\n",
    "        return\n",
    "    if high == -1:\n",
    "        high = len(arr)-1\n",
    "    index = part(arr, low, high)\n",
    "#     index = partition(arr, low, high)\n",
    "    print(arr)\n",
    "    if low < index-1:\n",
    "        quick_sort(arr, low, index-1)\n",
    "    if index+1 < high:\n",
    "        quick_sort(arr, index+1, high)\n",
    "\n",
    "arr = [10, 7, 8, 9, 75, 1, 5, 24, 2, 6, 3, 33, 7, 6, 1, 11]\n",
    "quick_sort(arr)"
   ]
  },
  {
   "cell_type": "markdown",
   "metadata": {},
   "source": [
    "### 双向快速排序\n",
    "上面的例子是从一个方向换，现在是从两个方向换\n",
    "以第一个数为pivot为实例：\n",
    "\n",
    "首先, 这个方法的技巧在于你每次不需要从遍历全数来找一个大于或小于pivot的数, 而是把符合要求的数放在两边, 每次只从中间剩下的数里面找大小数, 大大减少了循环的次数, 在方法上就是以(left, right)的不断压缩来实现的.\n",
    "\n",
    "arr = [2,0,1,3,5,1,4] 先从右向左找小于2的数，找到arr[5] = 1, 直接换掉索引0, 成为[1,0,1,3,5,(1),4]\n",
    "标记两个变量：\n",
    "+ left += 1 = 1 下次查找就少了一个元素了\n",
    "+ pivot_index(下简称pivot) = 5, 表示5是废数字位(我们理解为标红, 为以后更复杂的标黑标蓝打基础),\n",
    "+ right = 5 即在哪里找到的这个数，就是几, 我们要知道(left, right)的目的是为了缩减范围，既然反向直到5才找到比2小的数，显然5右侧的数全比2大，可以满足缩减范围的要求了\n",
    "这次操作后，下次只需要处理[0,1,3,5,(1)]了，即(left,right) = (1,5)\n",
    "\n",
    "然后从左往右(**这次从1开始记得吧?**)找比2大的数，找到arr[3] = 3, 把3填入当前标红位5，得到[1,0,1,(3),5,$\\color{red}{3}$,4]（标红的3是上一回的废位，也即右边界，也即pivot，看明白了吧？）\n",
    "这次有三个变量要改了：\n",
    "+ left = 3 同样，找到索引3才找到大于2的数，前面的数也不需要后续再比较了\n",
    "+ pivot = 3，废位标红\n",
    "+ right -= 1 = 4，大数又定了一位，所以再压缩一次范围\n",
    "还剩下：[(3),5] 好快\n",
    "\n",
    ">看出规律了没？其实所谓的pivot，可以不单独存，它永远是这一轮的left或right（取决于选大数还是小数），因为它把哪个数放到指定位置，说明它左侧或右侧全是符合同一条件的数，必然是left/right之一。 \n",
    "弄懂了这个规律，你没必要去额外加这个元素，每次把找到的值赋给第一个或最后一个就好了（但是代码就更晦涩了）\n",
    "同时，除了不断压缩待比较的元素个数，它用的是直接给索引位赋值，而不是像前面的方法在数组里面互换元素，消耗也是小一点的\n",
    "\n",
    "这次，从右往左找小数，没有找到，得到：[1,0,1,(3),5,3,4]，没变，但是变量仍然得换：\n",
    "+ left +=1 = 4 即本来在剩下的数时最左侧的值已经满足要求了\n",
    "+ pivot = 3 没动\n",
    "+ right = 4 没动\n",
    "还剩下：[5]\n",
    "\n",
    "因为left与right相等，就可以退出循环了\n",
    "最后， 把pivot位换回它的值，也就是2（所以这个是需要提前保存的）得到：[1,0,1,2,5,3,4]"
   ]
  },
  {
   "cell_type": "code",
   "execution_count": 39,
   "metadata": {},
   "outputs": [
    {
     "name": "stdout",
     "output_type": "stream",
     "text": [
      "[10, 7, 8, 9, 75, 1, 5, 24, 2, 6, 3, 33, 7, 6, 1, 11]\n",
      "[1, 7, 8, 9, 75, 1, 5, 24, 2, 6, 3, 33, 7, 6, 75, 11]\n",
      "[1, 7, 8, 9, 6, 1, 5, 24, 2, 6, 3, 33, 7, 24, 75, 11]\n",
      "[1, 7, 8, 9, 6, 1, 5, 7, 2, 6, 3, 10, 33, 24, 75, 11]\n",
      "[1, 7, 8, 9, 6, 7, 5, 7, 2, 6, 3, 10, 33, 24, 75, 11]\n",
      "[1, 1, 8, 9, 6, 7, 5, 7, 2, 6, 3, 10, 33, 24, 75, 11]\n",
      "[1, 1, 3, 9, 6, 7, 5, 7, 2, 6, 9, 10, 33, 24, 75, 11]\n",
      "[1, 1, 3, 6, 6, 7, 5, 7, 2, 8, 9, 10, 33, 24, 75, 11]\n",
      "[1, 1, 2, 6, 6, 7, 5, 7, 6, 8, 9, 10, 33, 24, 75, 11]\n",
      "[1, 1, 2, 3, 6, 7, 5, 7, 6, 8, 9, 10, 33, 24, 75, 11]\n",
      "[1, 1, 2, 3, 6, 7, 5, 7, 7, 8, 9, 10, 33, 24, 75, 11]\n",
      "[1, 1, 2, 3, 6, 5, 6, 7, 7, 8, 9, 10, 33, 24, 75, 11]\n",
      "[1, 1, 2, 3, 5, 6, 6, 7, 7, 8, 9, 10, 33, 24, 75, 11]\n",
      "[1, 1, 2, 3, 5, 6, 6, 7, 7, 8, 9, 10, 33, 24, 75, 11]\n",
      "[1, 1, 2, 3, 5, 6, 6, 7, 7, 8, 9, 10, 11, 24, 33, 75]\n"
     ]
    },
    {
     "data": {
      "text/plain": [
       "[1, 1, 2, 3, 5, 6, 6, 7, 7, 8, 9, 10, 11, 24, 33, 75]"
      ]
     },
     "execution_count": 39,
     "metadata": {},
     "output_type": "execute_result"
    }
   ],
   "source": [
    "# 实现\n",
    "def q_sort(array, start, end):\n",
    "    # （left， right）用来保存不断缩小的查找数组索引界限\n",
    "    left, right = start, end\n",
    "    index = start\n",
    "    pivot = array[start]\n",
    "    \n",
    "    while left < right:\n",
    "        print(array)\n",
    "        # 从右往左选小于pivot的数\n",
    "        matched = False # 标识这一轮有没有找到合适的数（如果没找到其实说明排序已经完成）\n",
    "        for i in reversed(range(left+1, right+1)): # 去头，含尾, 反序\n",
    "            if array[i] <= pivot:\n",
    "                array[index] = array[i]\n",
    "                right = i\n",
    "                index = i\n",
    "                matched = True\n",
    "                break\n",
    "        if not matched:\n",
    "            break  # 右侧没有找到更小的数，说明剩余数组全是大数，已经排完了\n",
    "            \n",
    "        left += 1 # 找到了填入新数后就顺移一位\n",
    "        matched = False\n",
    "        # 从左往右选大于pivot的数\n",
    "        for i in range(left, right): # 有头无尾\n",
    "            if array[i] > pivot:\n",
    "                array[index] = array[i]\n",
    "                left = i\n",
    "                index = i\n",
    "                matched = True\n",
    "                break;\n",
    "        if not matched:\n",
    "            break\n",
    "        right -= 1\n",
    "    array[index] = pivot # 把标红位设为pivot\n",
    "    \n",
    "    # 开始递归处理左右切片\n",
    "    if start < index-1:\n",
    "        q_sort(array, start, index-1)\n",
    "    if end > index+1:\n",
    "        q_sort(array, index+1, end)\n",
    "    \n",
    "    return array\n",
    "\n",
    "arr = [10, 7, 8, 9, 75, 1, 5, 24, 2, 6, 3, 33, 7, 6, 1, 11]\n",
    "q_sort(arr, 0, len(arr)-1)"
   ]
  },
  {
   "cell_type": "markdown",
   "metadata": {},
   "source": [
    "## stack"
   ]
  },
  {
   "cell_type": "code",
   "execution_count": 309,
   "metadata": {},
   "outputs": [
    {
     "name": "stdout",
     "output_type": "stream",
     "text": [
      "[[[10, 7, 8, 9, 75, 1, 5, 24, 2, 6, 3, 33, 7, 6, 1, 11], 0, 15]]\n",
      "pivot 11\n",
      "[[[10, 7, 8, 9, 1, 5, 2, 6, 3, 7, 6, 1, 11, 75, 33, 24], 13, 15], [[10, 7, 8, 9, 1, 5, 2, 6, 3, 7, 6, 1, 11, 75, 33, 24], 0, 11]]\n",
      "pivot 1\n",
      "[[[1, 1, 8, 9, 10, 5, 2, 6, 3, 7, 6, 7, 11, 75, 33, 24], 13, 15], [[1, 1, 8, 9, 10, 5, 2, 6, 3, 7, 6, 7, 11, 75, 33, 24], 2, 11]]\n",
      "pivot 7\n",
      "[[[1, 1, 5, 2, 6, 3, 7, 6, 7, 9, 10, 8, 11, 75, 33, 24], 13, 15], [[1, 1, 5, 2, 6, 3, 7, 6, 7, 9, 10, 8, 11, 75, 33, 24], 9, 11], [[1, 1, 5, 2, 6, 3, 7, 6, 7, 9, 10, 8, 11, 75, 33, 24], 2, 7]]\n",
      "pivot 6\n",
      "[[[1, 1, 5, 2, 6, 3, 6, 7, 7, 9, 10, 8, 11, 75, 33, 24], 13, 15], [[1, 1, 5, 2, 6, 3, 6, 7, 7, 9, 10, 8, 11, 75, 33, 24], 9, 11], [[1, 1, 5, 2, 6, 3, 6, 7, 7, 9, 10, 8, 11, 75, 33, 24], 2, 5]]\n",
      "pivot 3\n",
      "[[[1, 1, 2, 3, 6, 5, 6, 7, 7, 9, 10, 8, 11, 75, 33, 24], 13, 15], [[1, 1, 2, 3, 6, 5, 6, 7, 7, 9, 10, 8, 11, 75, 33, 24], 9, 11], [[1, 1, 2, 3, 6, 5, 6, 7, 7, 9, 10, 8, 11, 75, 33, 24], 4, 5]]\n",
      "pivot 5\n",
      "[[[1, 1, 2, 3, 5, 6, 6, 7, 7, 9, 10, 8, 11, 75, 33, 24], 13, 15], [[1, 1, 2, 3, 5, 6, 6, 7, 7, 9, 10, 8, 11, 75, 33, 24], 9, 11]]\n",
      "pivot 8\n",
      "[[[1, 1, 2, 3, 5, 6, 6, 7, 7, 8, 10, 9, 11, 75, 33, 24], 13, 15], [[1, 1, 2, 3, 5, 6, 6, 7, 7, 8, 10, 9, 11, 75, 33, 24], 10, 11]]\n",
      "pivot 9\n",
      "[[[1, 1, 2, 3, 5, 6, 6, 7, 7, 8, 9, 10, 11, 75, 33, 24], 13, 15]]\n",
      "pivot 24\n",
      "[[[1, 1, 2, 3, 5, 6, 6, 7, 7, 8, 9, 10, 11, 24, 33, 75], 14, 15]]\n",
      "pivot 75\n"
     ]
    },
    {
     "data": {
      "text/plain": [
       "[1, 1, 2, 3, 5, 6, 6, 7, 7, 8, 9, 10, 11, 24, 33, 75]"
      ]
     },
     "execution_count": 309,
     "metadata": {},
     "output_type": "execute_result"
    }
   ],
   "source": [
    "# stack\n",
    "def stack_push(arr, item):\n",
    "    arr.append(item)\n",
    "def stack_top(arr):\n",
    "    return arr[-1]\n",
    "def stack_pop(arr):\n",
    "    return arr.pop()\n",
    "def stack_isempty(arr):\n",
    "    return  not arr\n",
    "\n",
    "def qsort(array, start, end):\n",
    "    stack = []\n",
    "    stack_push(stack, [array, start, end])\n",
    "    while not stack_isempty(stack):\n",
    "#         print(stack)\n",
    "        array, start, end = stack_top(stack)\n",
    "        stack_pop(stack)\n",
    "        pivot = array[end]\n",
    "#         print(\"pivot\", pivot)\n",
    "        i = start # new last left index  => 标红位，用于存储下一个符合条件的数\n",
    "        for j in range(start, end):\n",
    "            if array[j] <= pivot:# and i != j:\n",
    "                array[i], array[j] = array[j], array[i]\n",
    "                i+=1 # 放置下一个小于pivot的位置右移一位\n",
    "        # 把pivot跟到小数值后面\n",
    "        array[i], array[end] = array[end], array[i]\n",
    "        # 开始处理pivot两边的切片\n",
    "        # 因为后入先出，所以我们先把右边的推进去\n",
    "        if end > i+1:\n",
    "            stack_push(stack, [array, i+1, end])\n",
    "        if start < i-1:\n",
    "            stack_push(stack, [array, start, i-1])\n",
    "    return array\n",
    "\n",
    "arr = [10, 7, 8, 9, 75, 1, 5, 24, 2, 6, 3, 33, 7, 6, 1, 11]\n",
    "qsort(arr, 0, len(arr)-1)"
   ]
  },
  {
   "cell_type": "code",
   "execution_count": 196,
   "metadata": {},
   "outputs": [
    {
     "name": "stdout",
     "output_type": "stream",
     "text": [
      "[1, 2, 3, 4, 5] [2]\n"
     ]
    }
   ],
   "source": [
    "a = [1,2,3,4,5]\n",
    "b = a[1,2]\n"
   ]
  },
  {
   "cell_type": "code",
   "execution_count": 3,
   "metadata": {},
   "outputs": [
    {
     "data": {
      "text/plain": [
       "[1, 2]"
      ]
     },
     "execution_count": 3,
     "metadata": {},
     "output_type": "execute_result"
    }
   ],
   "source": [
    "[i for i in range(1,3)]"
   ]
  },
  {
   "cell_type": "code",
   "execution_count": 2,
   "metadata": {},
   "outputs": [
    {
     "name": "stdout",
     "output_type": "stream",
     "text": [
      "True\n"
     ]
    }
   ],
   "source": [
    "i = 0\n",
    "b = -52\n",
    "if i-1 > b:\n",
    "    print(True)"
   ]
  },
  {
   "cell_type": "code",
   "execution_count": 9,
   "metadata": {},
   "outputs": [
    {
     "name": "stdout",
     "output_type": "stream",
     "text": [
      "2\n",
      "b\n",
      "3\n",
      "b\n",
      "4\n",
      "b\n",
      "5\n",
      "b\n",
      "6\n",
      "b\n",
      "7\n",
      "b\n",
      "8\n",
      "b\n",
      "9\n",
      "b\n",
      "10\n",
      "b\n",
      "11\n",
      "12\n",
      "13\n",
      "14\n",
      "15\n",
      "16\n",
      "17\n",
      "18\n",
      "19\n",
      "20\n"
     ]
    }
   ],
   "source": [
    "n=1\n",
    "while n<20:\n",
    "    n+=1\n",
    "    print(n)\n",
    "    if(n>10):\n",
    "        continue\n",
    "    print(\"b\")"
   ]
  },
  {
   "cell_type": "code",
   "execution_count": null,
   "metadata": {},
   "outputs": [],
   "source": []
  }
 ],
 "metadata": {
  "kernelspec": {
   "display_name": "Python 3",
   "language": "python",
   "name": "python3"
  },
  "language_info": {
   "codemirror_mode": {
    "name": "ipython",
    "version": 3
   },
   "file_extension": ".py",
   "mimetype": "text/x-python",
   "name": "python",
   "nbconvert_exporter": "python",
   "pygments_lexer": "ipython3",
   "version": "3.7.10"
  }
 },
 "nbformat": 4,
 "nbformat_minor": 4
}
