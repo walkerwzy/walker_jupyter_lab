{
 "cells": [
  {
   "cell_type": "markdown",
   "metadata": {},
   "source": [
    "# 无限接近\n",
    "<div>\n",
    "    <img src=\"无限接近.png\"/>\n",
    "</div>"
   ]
  },
  {
   "cell_type": "markdown",
   "metadata": {},
   "source": [
    "# 无限远离\n",
    "<div>\n",
    "    <img src=\"无限远离.png\"/>\n",
    "</div>"
   ]
  },
  {
   "cell_type": "markdown",
   "metadata": {},
   "source": [
    "# 有交集\n",
    "<div>\n",
    "    <img src=\"有交集.png\"/>\n",
    "</div>"
   ]
  },
  {
   "cell_type": "markdown",
   "metadata": {},
   "source": [
    "# GIoU Loss\n",
    "<div>\n",
    "      <img src=\"GIoULoss.png\" />\n",
    "</div>"
   ]
  },
  {
   "cell_type": "markdown",
   "metadata": {},
   "source": [
    "* GIoU的值域范围是：(-1, +1]\n",
    "* GIoULoss = 1 - GIoU\n",
    "* GIoULoss的值域范围是：[0, 2)"
   ]
  },
  {
   "cell_type": "code",
   "execution_count": 17,
   "metadata": {},
   "outputs": [],
   "source": [
    "import torch \n",
    "import torch.nn as nn"
   ]
  },
  {
   "cell_type": "code",
   "execution_count": 30,
   "metadata": {},
   "outputs": [
    {
     "data": {
      "text/plain": [
       "(torch.Size([3, 4]), torch.Size([3, 4]))"
      ]
     },
     "execution_count": 30,
     "metadata": {},
     "output_type": "execute_result"
    }
   ],
   "source": [
    "A = torch.tensor([\n",
    "    [1, 1, 10, 10],\n",
    "    [5, 5, 8, 8],\n",
    "    [1, 1, 10, 10]\n",
    "]).float()\n",
    "\n",
    "B = torch.tensor([\n",
    "    [2, 3, 11, 11],\n",
    "    [6, 6, 9, 9],\n",
    "    [20, 20, 30, 30]\n",
    "]).float()\n",
    "A.shape, B.shape"
   ]
  },
  {
   "cell_type": "code",
   "execution_count": 38,
   "metadata": {},
   "outputs": [
    {
     "data": {
      "text/plain": [
       "tensor(0.9526)"
      ]
     },
     "execution_count": 38,
     "metadata": {},
     "output_type": "execute_result"
    }
   ],
   "source": [
    "ax, ay, ar, ab = A[:, 0], A[:, 1], A[:, 2], A[:, 3]\n",
    "bx, by, br, bb = B[:, 0], B[:, 1], B[:, 2], B[:, 3]\n",
    "cross_xmin = torch.max(ax, bx)\n",
    "cross_ymin = torch.max(ay, by)\n",
    "cross_xmax = torch.min(ar, br)\n",
    "cross_ymax = torch.min(ab, bb)\n",
    "cross_width = (cross_xmax - cross_xmin + 1).clamp(0)\n",
    "cross_height = (cross_ymax - cross_ymin + 1).clamp(0)\n",
    "cross_area = cross_width * cross_height\n",
    "a_area = (ar - ax + 1) * (ab - ay + 1)\n",
    "b_area = (br - bx + 1) * (bb - by + 1)\n",
    "union_area = a_area + b_area - cross_area\n",
    "iou = cross_area / union_area\n",
    "\n",
    "# C指的是AB最小的外包框\n",
    "c_xmin = torch.min(ax, bx)\n",
    "c_ymin = torch.min(ay, by)\n",
    "c_xmax = torch.max(ar, br)\n",
    "c_ymax = torch.max(ab, bb)\n",
    "c_area = (c_xmax - c_xmin + 1) * (c_ymax - c_ymin + 1)\n",
    "giou = iou - (c_area - union_area) / c_area  # 取值范围是：(-1, +1]\n",
    "giouloss = 1 - giou # 取值范围是：[0, +2)\n",
    "giouloss.mean()"
   ]
  },
  {
   "cell_type": "code",
   "execution_count": null,
   "metadata": {},
   "outputs": [],
   "source": []
  },
  {
   "cell_type": "code",
   "execution_count": null,
   "metadata": {},
   "outputs": [],
   "source": []
  },
  {
   "cell_type": "code",
   "execution_count": 2,
   "metadata": {},
   "outputs": [],
   "source": [
    "import torch\n",
    "import torch.nn as nn"
   ]
  },
  {
   "cell_type": "code",
   "execution_count": 9,
   "metadata": {},
   "outputs": [],
   "source": [
    "A = torch.tensor([\n",
    "    [1, 1, 10, 10],\n",
    "    [5, 5, 8, 8],\n",
    "    [1, 1, 10, 10]\n",
    "]).float()\n",
    "\n",
    "B = torch.tensor([\n",
    "    [2, 3, 11, 11],\n",
    "    [6, 6, 9, 9],\n",
    "    [20, 20, 30, 30]\n",
    "]).float()"
   ]
  },
  {
   "cell_type": "code",
   "execution_count": 10,
   "metadata": {},
   "outputs": [
    {
     "data": {
      "text/plain": [
       "tensor([72.,  9.,  0.])"
      ]
     },
     "execution_count": 10,
     "metadata": {},
     "output_type": "execute_result"
    }
   ],
   "source": [
    "ax, ay, ar, ab = A[:, 0], A[:, 1], A[:, 2], A[:, 3]\n",
    "bx, by, br, bb = B[:, 0], B[:, 1], B[:, 2], B[:, 3]\n",
    "xmax = torch.min(ar, br)\n",
    "ymax = torch.min(ab, bb)\n",
    "xmin = torch.max(ax, bx)\n",
    "ymin = torch.max(ay, by)\n",
    "cross_width = (xmax - xmin + 1).clamp(0)\n",
    "cross_height = (ymax - ymin + 1).clamp(0)\n",
    "cross = cross_width * cross_height\n",
    "cross"
   ]
  },
  {
   "cell_type": "code",
   "execution_count": 11,
   "metadata": {},
   "outputs": [
    {
     "data": {
      "text/plain": [
       "tensor([118.,  23., 221.])"
      ]
     },
     "execution_count": 11,
     "metadata": {},
     "output_type": "execute_result"
    }
   ],
   "source": [
    "union = (ar - ax + 1) * (ab - ay + 1) + (br - bx + 1) * (bb - by + 1) - cross\n",
    "union"
   ]
  },
  {
   "cell_type": "code",
   "execution_count": 12,
   "metadata": {},
   "outputs": [
    {
     "data": {
      "text/plain": [
       "tensor([0.6102, 0.3913, 0.0000])"
      ]
     },
     "execution_count": 12,
     "metadata": {},
     "output_type": "execute_result"
    }
   ],
   "source": [
    "iou = cross / union\n",
    "iou"
   ]
  },
  {
   "cell_type": "code",
   "execution_count": 13,
   "metadata": {},
   "outputs": [
    {
     "data": {
      "text/plain": [
       "tensor([121.,  25., 900.])"
      ]
     },
     "execution_count": 13,
     "metadata": {},
     "output_type": "execute_result"
    }
   ],
   "source": [
    "cxmin = torch.min(ax, bx)\n",
    "cymin = torch.min(ay, by)\n",
    "cxmax = torch.max(ar, br)\n",
    "cymax = torch.max(ab, bb)\n",
    "c = (cxmax - cxmin + 1) * (cymax - cymin + 1)\n",
    "c"
   ]
  },
  {
   "cell_type": "code",
   "execution_count": 14,
   "metadata": {},
   "outputs": [
    {
     "data": {
      "text/plain": [
       "tensor(0.4763)"
      ]
     },
     "execution_count": 14,
     "metadata": {},
     "output_type": "execute_result"
    }
   ],
   "source": [
    "GIoULoss = 1 - (iou - (c - union) / c)\n",
    "GIoULoss.sum() / 3 / 2"
   ]
  },
  {
   "cell_type": "code",
   "execution_count": 41,
   "metadata": {},
   "outputs": [],
   "source": [
    "def GIoULoss(A, B):\n",
    "    num_bbox = A.size(0)\n",
    "    ax, ay, ar, ab = A[:, 0], A[:, 1], A[:, 2], A[:, 3]\n",
    "    bx, by, br, bb = B[:, 0], B[:, 1], B[:, 2], B[:, 3]\n",
    "    xmax = torch.min(ar, br)\n",
    "    ymax = torch.min(ab, bb)\n",
    "    xmin = torch.max(ax, bx)\n",
    "    ymin = torch.max(ay, by)\n",
    "    cross_width = (xmax - xmin + 1).clamp(0)\n",
    "    cross_height = (ymax - ymin + 1).clamp(0)\n",
    "    cross = cross_width * cross_height\n",
    "    union = (ar - ax + 1) * (ab - ay + 1) + (br - bx + 1) * (bb - by + 1) - cross\n",
    "    iou = cross / union\n",
    "    cxmin = torch.min(ax, bx)\n",
    "    cymin = torch.min(ay, by)\n",
    "    cxmax = torch.max(ar, br)\n",
    "    cymax = torch.max(ab, bb)\n",
    "    c = (cxmax - cxmin + 1) * (cymax - cymin + 1)\n",
    "    return (1 - (iou - (c - union) / c)).mean()"
   ]
  },
  {
   "cell_type": "code",
   "execution_count": 42,
   "metadata": {},
   "outputs": [
    {
     "data": {
      "text/plain": [
       "tensor(0.9526)"
      ]
     },
     "execution_count": 42,
     "metadata": {},
     "output_type": "execute_result"
    }
   ],
   "source": [
    "GIoULoss(A, B)"
   ]
  },
  {
   "cell_type": "code",
   "execution_count": 10,
   "metadata": {},
   "outputs": [
    {
     "data": {
      "text/plain": [
       "tensor(0.)"
      ]
     },
     "execution_count": 10,
     "metadata": {},
     "output_type": "execute_result"
    }
   ],
   "source": [
    "GIoULoss(A, A)"
   ]
  },
  {
   "cell_type": "code",
   "execution_count": null,
   "metadata": {},
   "outputs": [],
   "source": []
  }
 ],
 "metadata": {
  "kernelspec": {
   "display_name": "torch1.5",
   "language": "python",
   "name": "torch1.5"
  },
  "language_info": {
   "codemirror_mode": {
    "name": "ipython",
    "version": 3
   },
   "file_extension": ".py",
   "mimetype": "text/x-python",
   "name": "python",
   "nbconvert_exporter": "python",
   "pygments_lexer": "ipython3",
   "version": "3.7.7"
  }
 },
 "nbformat": 4,
 "nbformat_minor": 4
}
