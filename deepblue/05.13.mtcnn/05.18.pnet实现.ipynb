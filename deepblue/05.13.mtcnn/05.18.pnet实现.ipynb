{
 "cells": [
  {
   "cell_type": "code",
   "execution_count": 1,
   "metadata": {
    "tags": []
   },
   "outputs": [],
   "source": [
    "import numpy as np\n",
    "import matplotlib.pyplot as plt\n",
    "import mtcnn.caffe_pb2 as pb      # protocal buffer\n",
    "import cv2"
   ]
  },
  {
   "cell_type": "code",
   "execution_count": 2,
   "metadata": {
    "tags": []
   },
   "outputs": [],
   "source": [
    "net = pb.NetParameter()\n",
    "with open(\"mtcnn/det1.caffemodel\", \"rb\") as f:\n",
    "    net.ParseFromString(f.read())"
   ]
  },
  {
   "cell_type": "code",
   "execution_count": 3,
   "metadata": {},
   "outputs": [],
   "source": [
    "#net.layer[4]"
   ]
  },
  {
   "cell_type": "code",
   "execution_count": 4,
   "metadata": {
    "tags": []
   },
   "outputs": [],
   "source": [
    "class BBox:\n",
    "    # Bounding Box\n",
    "    def __init__(self, l, t, r, b, confidence=0):\n",
    "        \n",
    "        # 这里定义BBox的l、t、r、b是压边的，所以宽高需要r - l + 1、b - t + 1\n",
    "        # 描述一个框需要4个值，和一个置信度\n",
    "        self.l = l\n",
    "        self.t = t\n",
    "        self.r = r\n",
    "        self.b = b\n",
    "        self.confidence = confidence\n",
    "        \n",
    "    def iouOf(self, other):\n",
    "        \n",
    "        # IoU的计算是交并比\n",
    "        # 交集怎么求？\n",
    "        a = self\n",
    "        b = other\n",
    "        c_width = min(a.r, b.r) - max(a.l, b.l)\n",
    "        c_height = min(a.b, b.b) - max(a.t, b.t)\n",
    "        \n",
    "        # 这一点非常容易出错\n",
    "        if c_width <= 0 or c_height <= 0:\n",
    "            return 0\n",
    "        \n",
    "        c_area = c_width * c_height\n",
    "        return c_area / (a.area + b.area - c_area)\n",
    "        \n",
    "    # area\n",
    "    @property\n",
    "    def area(self):\n",
    "        return self.width * self.height\n",
    "    \n",
    "    @property\n",
    "    def width(self):\n",
    "        return self.r - self.l + 1\n",
    "    \n",
    "    @property\n",
    "    def height(self):\n",
    "        return self.b - self.t + 1\n",
    "    \n",
    "    def __repr__(self):\n",
    "        return f\"BBox{{ {self.l}, {self.t}, {self.r}, {self.b}, conf:{self.confidence} }}\"\n",
    "    \n",
    "    \n",
    "def nms(objs, iou_threshold):\n",
    "    \n",
    "    objs = sorted(objs, key=lambda x:x.confidence, reverse=True)\n",
    "    \n",
    "    # 删除的标记\n",
    "    removed_flags = [False] * len(objs)\n",
    "    \n",
    "    # 保留的目标\n",
    "    keeps = []\n",
    "    \n",
    "    for i in range(len(objs)):\n",
    "        \n",
    "        # 如果当前i框已经删除，就下一个\n",
    "        if removed_flags[i]:\n",
    "            continue\n",
    "            \n",
    "        a = objs[i]\n",
    "        keeps.append(a)\n",
    "        \n",
    "        for j in range(i+1, len(objs)):\n",
    "            \n",
    "            if removed_flags[j]:\n",
    "                continue\n",
    "                \n",
    "            b = objs[j]\n",
    "            if a.iouOf(b) > iou_threshold:\n",
    "                removed_flags[j] = True\n",
    "                \n",
    "    return keeps"
   ]
  },
  {
   "cell_type": "code",
   "execution_count": 5,
   "metadata": {
    "tags": []
   },
   "outputs": [
    {
     "data": {
      "text/plain": [
       "[BBox{ 80, 80, 180, 180, conf:0.98 }]"
      ]
     },
     "execution_count": 5,
     "metadata": {},
     "output_type": "execute_result"
    }
   ],
   "source": [
    "a = BBox(0, 0, 100, 100, 0.9)\n",
    "b = BBox(80, 80, 180, 180, 0.98)\n",
    "#a.iouOf(b)\n",
    "nms([a, b], 0.01)"
   ]
  },
  {
   "cell_type": "code",
   "execution_count": 6,
   "metadata": {
    "tags": []
   },
   "outputs": [
    {
     "data": {
      "text/plain": [
       "0"
      ]
     },
     "execution_count": 6,
     "metadata": {},
     "output_type": "execute_result"
    }
   ],
   "source": [
    "b = BBox(0, 0, 100, 100)\n",
    "a = BBox(200, 200, 300, 300)\n",
    "a.iouOf(b)"
   ]
  },
  {
   "cell_type": "code",
   "execution_count": 7,
   "metadata": {
    "tags": []
   },
   "outputs": [],
   "source": [
    "# 定义模块，所有的模块将会继承该基类\n",
    "class Module:\n",
    "    def __init__(self):\n",
    "        self.train_mode = True\n",
    "        \n",
    "    def __call__(self, *args):\n",
    "        return self.forward(*args)\n",
    "    \n",
    "    # 训练时\n",
    "    def train(self):\n",
    "        self.train_mode = True\n",
    "        for m in self.modules():\n",
    "            m.train()\n",
    "        \n",
    "    # 评估时，测试时\n",
    "    def eval(self):\n",
    "        self.train_mode = False\n",
    "        for m in self.modules():\n",
    "            m.eval()\n",
    "        \n",
    "    def modules(self):\n",
    "        ms = []\n",
    "        for attr in self.__dict__:\n",
    "            m = self.__dict__[attr]\n",
    "            if isinstance(m, Module):\n",
    "                ms.append(m)\n",
    "        return ms\n",
    "    \n",
    "    def params(self):\n",
    "        ps = []\n",
    "        for attr in self.__dict__:\n",
    "            p = self.__dict__[attr]\n",
    "            if isinstance(p, Parameter):\n",
    "                ps.append(p)\n",
    "            \n",
    "        ms = self.modules()\n",
    "        for m in ms:\n",
    "            ps.extend(m.params())\n",
    "        return ps\n",
    "    \n",
    "    def info(self, n):\n",
    "        ms = self.modules()\n",
    "        name = self.__class__.__name__\n",
    "        output = f\"{name}\\n\"\n",
    "        for m in ms:\n",
    "            output += ('  '*(n+1)) + f\"{m.info(n+1)}\\n\"\n",
    "        return output[:-1]\n",
    "    \n",
    "    def __repr__(self):\n",
    "        return self.info(0)\n",
    "    \n",
    "    \n",
    "# 定义参数类，所有需要迭代更新的参数都会继承该类\n",
    "class Parameter:\n",
    "    def __init__(self, data):\n",
    "        self.data = data\n",
    "        self.grad = np.zeros(data.shape)\n",
    "        \n",
    "    def zero_grad(self):\n",
    "        self.grad[...] = 0\n",
    "\n",
    "\n",
    "class Linear(Module): \n",
    "    def __init__(self, num_input, num_output):\n",
    "        super().__init__()\n",
    "        self.weight = Parameter(np.random.normal(0, 1 / np.sqrt(num_input), size=(num_input, num_output)))  # 初始化权重\n",
    "        self.bias   = Parameter(np.zeros((num_output,)))\n",
    "    \n",
    "    def forward(self, x):  # 正向传播\n",
    "        # save for backward\n",
    "        self.x = x\n",
    "        return x @ self.weight.data + self.bias.data\n",
    "    \n",
    "    def backward(self, g):  # 反向传播\n",
    "        self.weight.grad += self.x.T @ g\n",
    "        self.bias.grad   += np.sum(g, axis=0)\n",
    "        return g @ self.weight.data.T\n",
    "    \n",
    "    \n",
    "class Sigmoid(Module):  # 定义激活函数对象\n",
    "    def __init__(self):\n",
    "        super().__init__()\n",
    "    \n",
    "    def sigmoid_impl(self, x):  #定义激活函数 \n",
    "        return 1 / (1 + np.exp(-x))\n",
    "    \n",
    "    def forward(self, x):  # 正向传播\n",
    "        # save for backward\n",
    "        self.x = x\n",
    "        return self.sigmoid_impl(x)\n",
    "    \n",
    "    def backward(self, g):  # 反向传播\n",
    "        return g * self.sigmoid_impl(self.x) * (1 - self.sigmoid_impl(self.x))\n",
    "    \n",
    "class Sequencial(Module):\n",
    "    def __init__(self, *args):\n",
    "        super().__init__()\n",
    "        self.items = list(args)\n",
    "        \n",
    "    def modules(self):\n",
    "        return self.items\n",
    "    \n",
    "    def forward(self, x):\n",
    "        for m in self.items:\n",
    "            x = m(x)\n",
    "        return x\n",
    "    \n",
    "    def backward(self, G):\n",
    "        for item in self.items[::-1]:\n",
    "            G = item.backward(G)\n",
    "        return G\n",
    "    \n",
    "class Conv2d(Module):\n",
    "    def __init__(self, in_feature, out_feature, ksize, padding=0, stride=1, dilation=0):\n",
    "        kernel_size = (out_feature, in_feature, ksize, ksize)\n",
    "        self.weight = Parameter(np.random.normal(0, 1 / np.sqrt(ksize*ksize*out_feature),size = kernel_size))\n",
    "        self.stride = stride\n",
    "        self.bias = Parameter(np.zeros((kernel_size[0],1)))\n",
    "        self.padding = padding\n",
    "        # -------------------------- 暂时未实现 和 dilation ------------------------\n",
    "\n",
    "        self.dilation = dilation\n",
    "\n",
    "    def forward(self,x):\n",
    "        self.x = x.copy()\n",
    "        result = self.convolution(x)\n",
    "        return result\n",
    "\n",
    "    def pad(self,itensor):\n",
    "        if self.padding == 0 :\n",
    "            return itensor\n",
    "        s = itensor.shape\n",
    "        result = np.zeros((*s[:-2],s[-1]+self.padding*2,s[-2]+self.padding*2))\n",
    "\n",
    "        result[...,self.padding*2:,self.padding*2:] = itensor\n",
    "        return result\n",
    "\n",
    "    def convolution(self,itensor):\n",
    "        itensor = self.pad(itensor)\n",
    "        n, ic, ih, iw = itensor.shape  # 图像像素的维度  , n : 几张图片\n",
    "        self.itensor_shape = itensor.shape\n",
    "        ks, kn, kh, kw = self.weight.data.shape  # 卷积核的大小   ks : 几组核, kn 通道数\n",
    "        s = kn * kh * kw  # 填充数据的行大小\n",
    "        w = (ih - kh + 1) * (iw - kw + 1)  # 填充数据的列大小\n",
    "        self.column = np.zeros((s, w * n))  # 先创建0元素\n",
    "        self.kcol = self.weight.data.reshape(ks, s)\n",
    "        out_image_nums = n * ks\n",
    "        c = 0\n",
    "        for p in range(n):\n",
    "            for h in range(0, ih - kh + 1, self.stride):\n",
    "                for l in range(0, iw - kw + 1, self.stride):\n",
    "                    temp_item = itensor[p, :, h:h + kh, l:l + kw].reshape(-1, 1)\n",
    "                    self.column[:, None, c] = temp_item\n",
    "                    c += 1\n",
    "\n",
    "        output = (self.kcol @ self.column + self.bias.data)\n",
    "        self.shape = output.shape\n",
    "        output = output.reshape(out_image_nums, ih - kh + 1, iw - kw + 1)\n",
    "\n",
    "        return_result = [[] for x in range(n)]    # 对图片做调整, 按照同一张图片和不同的通道组合\n",
    "        for i in range(out_image_nums):\n",
    "            return_result[i % n].append(output[i])\n",
    "        return np.array(return_result)\n",
    "    \n",
    "    def backward(self,G):\n",
    "        result_G = np.zeros((G.shape[0]*G.shape[1],G.shape[2],G.shape[3]))\n",
    "        temp_G = G.reshape(result_G.shape)\n",
    "        sign = 0\n",
    "        for i in range(G.shape[0]):\n",
    "            for j in range(G.shape[1]):\n",
    "                result_G[i+j*G.shape[0],:,:] = temp_G[sign,:,:]\n",
    "                sign += 1\n",
    "        G = result_G.reshape(G.shape)\n",
    "        G = G.reshape(self.shape)\n",
    "        temp_grad = G @ self.column.T\n",
    "        self.weight.grad = temp_grad.reshape(self.weight.data.shape)\n",
    "        temp_back_G = self.kcol.T @ G\n",
    "        back_G = np.zeros(self.itensor_shape)\n",
    "        n, ic, ih, iw = self.itensor_shape\n",
    "        ks, kn, kh, kw = self.weight.data.shape\n",
    "        c = 0\n",
    "        for p in range(n):\n",
    "            for h in range(0, ih - kh + 1, self.stride):\n",
    "                for l in range(0, iw - kw + 1, self.stride):\n",
    "                    item = temp_back_G[:,c].reshape(kn,kh,kw)\n",
    "                    back_G[p,:,h:h + kh, l:l + kw] += item\n",
    "                    c += 1\n",
    "        return back_G\n",
    "    \n",
    "class Conv2d2(Module):\n",
    "    def __init__(self, in_feature, out_feature, kernel_size, padding=0, stride=1):\n",
    "        super().__init__()\n",
    "        self.in_feature = in_feature\n",
    "        self.out_feature = out_feature\n",
    "        self.kernel_size = kernel_size\n",
    "        self.padding = padding\n",
    "        self.stride = stride\n",
    "        \n",
    "        fan_mode = kernel_size * kernel_size * in_feature\n",
    "        self.weight = Parameter(np.random.normal(0, 1 / np.sqrt(fan_mode), size=(out_feature, in_feature, kernel_size, kernel_size)))\n",
    "        self.bias = Parameter(np.zeros((out_feature)))\n",
    "        \n",
    "    def forward(self, x):\n",
    "        self.in_shape = x.shape\n",
    "        ib, ic, ih, iw = self.in_shape\n",
    "        self.oh = (ih + self.padding * 2 - self.kernel_size) // self.stride + 1\n",
    "        self.ow = (iw + self.padding * 2 - self.kernel_size) // self.stride + 1\n",
    "        col_w = self.oh * self.ow\n",
    "        col_h = self.kernel_size * self.kernel_size * self.in_feature\n",
    "        self.column = np.zeros((ib, col_h, col_w))\n",
    "        self.output = np.zeros((ib, self.out_feature, self.oh, self.ow))\n",
    "        khalf = self.kernel_size // 2\n",
    "        self.kcol = self.weight.data.reshape(self.out_feature, -1)\n",
    "        for b in range(ib):\n",
    "            for c in range(ic):\n",
    "                for oy in range(self.oh):\n",
    "                    for ox in range(self.ow):\n",
    "                        for ky in range(self.kernel_size):\n",
    "                            for kx in range(self.kernel_size):\n",
    "                                column_y = ky * self.kernel_size + kx + c * self.kernel_size * self.kernel_size\n",
    "                                column_x = ox + oy * self.ow\n",
    "                                ix = ox * self.stride + kx - self.padding\n",
    "                                iy = oy * self.stride + ky - self.padding\n",
    "                                if ix >= 0 and iy >= 0 and ix < iw and iy < ih:\n",
    "                                    self.column[b, column_y, column_x] = x[b, c, iy, ix]\n",
    "            self.output[b] = (self.kcol @ self.column[b]).reshape(self.out_feature, self.oh, self.ow) + self.bias.data.reshape(self.out_feature, 1, 1)\n",
    "        return self.output\n",
    "    \n",
    "    #AB = C  G\n",
    "    #dB = A.T @ G\n",
    "    #dA = G @ B.T\n",
    "    def backward(self, G):\n",
    "        \n",
    "        ib, ic, ih, iw = self.in_shape\n",
    "        for b in range(ib):\n",
    "            self.weight.grad += (G[b].reshape(self.out_feature, -1) @ self.column[b].T).reshape(self.weight.data.shape)\n",
    "    \n",
    "        self.bias.grad += np.sum(G, axis=(0, 2, 3))\n",
    "        self.Gout = np.zeros((self.in_shape))\n",
    "        for b in range(ib):\n",
    "            dcolumn = self.kcol.T @ G[b].reshape(self.out_feature, -1)\n",
    "            \n",
    "            # col2im\n",
    "            for c in range(ic):\n",
    "                for oy in range(self.oh):\n",
    "                    for ox in range(self.ow):\n",
    "                        for ky in range(self.kernel_size):\n",
    "                            for kx in range(self.kernel_size):\n",
    "                                column_y = ky * self.kernel_size + kx + c * self.kernel_size * self.kernel_size\n",
    "                                column_x = ox + oy * self.ow\n",
    "                                ix = ox * self.stride + kx - self.padding\n",
    "                                iy = oy * self.stride + ky - self.padding\n",
    "                                if ix >= 0 and iy >= 0 and ix < iw and iy < ih:\n",
    "                                    self.Gout[b, c, iy, ix] += dcolumn[column_y, column_x]\n",
    "        return self.Gout\n",
    "    \n",
    "    \n",
    "class MaxPooling2d(Module):\n",
    "    def __init__(self, kernel_size=2, stride=2):\n",
    "        super().__init__()\n",
    "        self.kernel_size = kernel_size\n",
    "        self.stride = stride\n",
    "        \n",
    "    def forward(self, x):\n",
    "        ib, ic, ih, iw = x.shape\n",
    "        oh, ow = int(np.ceil((ih - self.kernel_size) / self.stride) + 1), int(np.ceil((iw - self.kernel_size) / self.stride) + 1)\n",
    "        output = np.zeros((ib, ic, oh, ow))\n",
    "        for b in range(ib):\n",
    "            for c in range(ic):\n",
    "                for oy in range(oh):\n",
    "                    for ox in range(ow):\n",
    "                        ix = ox * self.stride\n",
    "                        iy = oy * self.stride\n",
    "                        output[b, c, oy, ox] = x[b, c, iy, ix]\n",
    "                        \n",
    "                        for kx in range(self.kernel_size):\n",
    "                            for ky in range(self.kernel_size):\n",
    "                                ix = ox * self.stride + kx\n",
    "                                iy = oy * self.stride + ky\n",
    "                                if ix < iw and iy < ih:\n",
    "                                    output[b, c, oy, ox] = max(x[b, c, iy, ix], output[b, c, oy, ox])\n",
    "        return output\n",
    "    \n",
    "    \n",
    "class ReLU(Module):\n",
    "    def __init__(self, inplace=True):\n",
    "        super().__init__()\n",
    "        self.inplace = inplace\n",
    "        \n",
    "    # 亿点点\n",
    "    def forward(self, x):\n",
    "        self.negative_position = x < 0\n",
    "        if not self.inplace:\n",
    "            x = x.copy()\n",
    "            \n",
    "        x[self.negative_position] = 0\n",
    "        return x\n",
    "    \n",
    "    def backward(self, G):\n",
    "        if not self.inplace:\n",
    "            G = G.copy()\n",
    "            \n",
    "        G[self.negative_position] = 0\n",
    "        return G\n",
    "    \n",
    "class PReLU(Module):\n",
    "    def __init__(self, num_feature, inplace=False):\n",
    "        super().__init__()\n",
    "        self.inplace = inplace\n",
    "        self.coeff = Parameter(np.zeros((num_feature)))\n",
    "        \n",
    "    def forward(self, x):\n",
    "        if not self.inplace:\n",
    "            x = x.copy()\n",
    "            \n",
    "        for channel in range(x.shape[1]):\n",
    "            view = x[:, channel]\n",
    "            negative_position = view < 0\n",
    "            view[negative_position] *= self.coeff.data[channel]\n",
    "        return x\n",
    "    \n",
    "class Softmax(Module):\n",
    "    def __init__(self):\n",
    "        super().__init__()\n",
    "        \n",
    "    def forward(self, x):\n",
    "        expx = np.exp(x)\n",
    "        sumx = np.sum(expx, axis=1, keepdims=True)\n",
    "        return expx / sumx\n",
    "    \n",
    "class Flatten(Module):\n",
    "    def __init__(self):\n",
    "        super().__init__()\n",
    "        \n",
    "    def forward(self, x):\n",
    "        self.in_shape = x.shape\n",
    "        out = x.reshape(self.in_shape[0], -1)\n",
    "        return out\n",
    "    \n",
    "    def backward(self, G):\n",
    "        return G.reshape(self.in_shape)"
   ]
  },
  {
   "cell_type": "code",
   "execution_count": 8,
   "metadata": {},
   "outputs": [],
   "source": [
    "def load_conv2d_param(layer_instance : Conv2d, param_data):\n",
    "    '''\n",
    "    加载卷积的参数:\n",
    "    layer_instance[Module]，提供layer的实例对象\n",
    "    param_data[pb.Parameter]，提供来自于protocalbuffer中加载的数据对象\n",
    "    '''\n",
    "    print(\"加载卷积参数: \", param_data.name)\n",
    "    conv_weight = layer_instance.weight.data\n",
    "    conv_bias = layer_instance.bias.data\n",
    "    \n",
    "    conv_weight[:] = np.array(param_data.blobs[0].data, dtype=np.float32).reshape(conv_weight.shape)\n",
    "    conv_bias[:] = np.array(param_data.blobs[1].data, dtype=np.float32).reshape(conv_bias.shape)\n",
    "    \n",
    "    \n",
    "def load_prelu_param(layer_instance, param_data):\n",
    "    '''\n",
    "    加载PReLU的参数:\n",
    "    layer_instance[Module]，提供layer的实例对象\n",
    "    param_data[pb.Parameter]，提供来自于protocalbuffer中加载的数据对象\n",
    "    '''\n",
    "    \n",
    "    print(\"加载PReLU参数: \", param_data.name)\n",
    "    prelu_weight = layer_instance.coeff.data\n",
    "    prelu_weight[:] = np.array(param_data.blobs[0].data, dtype=np.float32).reshape(prelu_weight.shape)"
   ]
  },
  {
   "cell_type": "code",
   "execution_count": 9,
   "metadata": {},
   "outputs": [],
   "source": [
    "class PNet(Module):\n",
    "    def __init__(self, weight_file):\n",
    "        super().__init__()\n",
    "        \n",
    "        self.backbone = Sequencial(\n",
    "            Conv2d(3, 10, 3),    # conv1\n",
    "            PReLU(10),           # PReLU1\n",
    "            MaxPooling2d(2, 2),  \n",
    "            Conv2d(10, 16, 3),   # conv2\n",
    "            PReLU(16),           # PReLU2\n",
    "            Conv2d(16, 32, 3),   # conv3\n",
    "            PReLU(32)            # PReLU3\n",
    "        )\n",
    "        \n",
    "        self.head_classification = Conv2d(32, 2, 1)  # conv4-1\n",
    "        self.head_bbox = Conv2d(32, 4, 1)            # conv4-2\n",
    "        \n",
    "        # 参数初始化，把weight_file中的权重加载到咱们层中去\n",
    "        self.load_weight(weight_file)\n",
    "        \n",
    "        \n",
    "    def forward(self, image):\n",
    "        x = self.backbone(image)\n",
    "        return self.head_classification(x), self.head_bbox(x)\n",
    "        \n",
    "        \n",
    "    def load_weight(self, weight_file):\n",
    "        \n",
    "        net = pb.NetParameter()\n",
    "        with open(weight_file, \"rb\") as f:\n",
    "            net.ParseFromString(f.read())\n",
    "\n",
    "        state_dict = {item.name : item for item in net.layer}\n",
    "        \n",
    "        # 把caffe的权重加载进来\n",
    "        # 名字为空的表示不需要加载\n",
    "        layer_names = [\n",
    "            \"conv1\", \"PReLU1\", \"\", \"conv2\", \"PReLU2\", \"conv3\", \"PReLU3\", \"conv4-1\", \"conv4-2\"\n",
    "        ]\n",
    "        \n",
    "        layer_instances = self.backbone.items + [self.head_classification, self.head_bbox]\n",
    "        for layer_name, layer_instance in zip(layer_names, layer_instances):\n",
    "            if layer_name == \"\":\n",
    "                continue\n",
    "            \n",
    "            param_data = state_dict[layer_name]\n",
    "            if isinstance(layer_instance, Conv2d):\n",
    "                load_conv2d_param(layer_instance, param_data)\n",
    "            elif isinstance(layer_instance, PReLU):\n",
    "                load_prelu_param(layer_instance, param_data)"
   ]
  },
  {
   "cell_type": "code",
   "execution_count": 10,
   "metadata": {},
   "outputs": [
    {
     "name": "stdout",
     "output_type": "stream",
     "text": [
      "加载卷积参数:  conv1\n",
      "加载PReLU参数:  PReLU1\n",
      "加载卷积参数:  conv2\n",
      "加载PReLU参数:  PReLU2\n",
      "加载卷积参数:  conv3\n",
      "加载PReLU参数:  PReLU3\n",
      "加载卷积参数:  conv4-1\n",
      "加载卷积参数:  conv4-2\n"
     ]
    }
   ],
   "source": [
    "pnet = PNet(\"mtcnn/det1.caffemodel\")\n",
    "\n",
    "# net = pb.NetParameter()\n",
    "# with open(\"mtcnn/det1.caffemodel\", \"rb\") as f:\n",
    "#     net.ParseFromString(f.read())\n",
    "\n",
    "# state_dict = {item.name : item for item in net.layer}\n",
    "# state_dict[\"conv4-1\"]"
   ]
  },
  {
   "cell_type": "code",
   "execution_count": 11,
   "metadata": {},
   "outputs": [
    {
     "data": {
      "text/plain": [
       "(array([[[[1.65030098e-06]],\n",
       " \n",
       "         [[9.99998350e-01]]]]),\n",
       " array([[[[ 0.1250324 ]],\n",
       " \n",
       "         [[-0.01343756]],\n",
       " \n",
       "         [[-0.06190684]],\n",
       " \n",
       "         [[-0.0142128 ]]]]))"
      ]
     },
     "execution_count": 11,
     "metadata": {},
     "output_type": "execute_result"
    }
   ],
   "source": [
    "image = cv2.imread(\"face.png\")\n",
    "# image = cv2.imread(\"test1.jpg\")\n",
    "image = cv2.resize(image, (12, 12))\n",
    "image = image[..., ::-1].transpose(2, 1, 0)[None]\n",
    "image = (image - 127.5) / 128.0\n",
    "classification, bbox = pnet(image)\n",
    "conf, reg = Softmax()(classification), bbox\n",
    "conf, reg"
   ]
  },
  {
   "cell_type": "code",
   "execution_count": 12,
   "metadata": {},
   "outputs": [
    {
     "data": {
      "text/plain": [
       "(array([[[[0.99562436]],\n",
       " \n",
       "         [[0.00437564]]]]),\n",
       " array([[[[ 0.03249562]],\n",
       " \n",
       "         [[-0.19682178]],\n",
       " \n",
       "         [[-0.06983688]],\n",
       " \n",
       "         [[-0.02951789]]]]))"
      ]
     },
     "execution_count": 12,
     "metadata": {},
     "output_type": "execute_result"
    }
   ],
   "source": [
    "image = cv2.imread(\"noface.png\")\n",
    "image = cv2.resize(image, (12, 12))\n",
    "image = image[..., ::-1].transpose(2, 1, 0)[None]\n",
    "image = (image - 127.5) / 128.0\n",
    "classification, bbox = pnet(image)\n",
    "Softmax()(classification), bbox"
   ]
  },
  {
   "cell_type": "code",
   "execution_count": 13,
   "metadata": {},
   "outputs": [
    {
     "name": "stdout",
     "output_type": "stream",
     "text": [
      "(344, 450, 3)\n",
      "(46, 60, 3)\n"
     ]
    }
   ],
   "source": [
    "image = cv2.imread(\"test1.jpg\")\n",
    "print(image.shape)\n",
    "image = cv2.resize(image, dsize=None, fx=12/90, fy=12/90)\n",
    "print(image.shape)\n",
    "image = image[..., ::-1].transpose(2, 1, 0)[None]\n",
    "image = (image - 127.5) / 128.0\n",
    "classification, bbox = pnet(image)\n",
    "conf, reg = Softmax()(classification), bbox"
   ]
  },
  {
   "cell_type": "code",
   "execution_count": 15,
   "metadata": {},
   "outputs": [],
   "source": [
    "# conf.shape (1, 2, 25, 18)表示的是12x12的滑窗在图片里经过若干次卷积后，还剩下25x18个像素，\n",
    "# 而每一个像素都是一次完整从12x12到1x1的卷积，得到一个是否有人脸的概率值\n",
    "# 把是和否分成两个通道表示后，即为2x25x18\n",
    "# 而conf[0, 1]则表示每一像素的感受野的“有人脸”的概率\n",
    "rows, cols = np.where(conf[0, 1] > 0.65)\n",
    "# 因为conf[0, 1]是一个25x18的矩阵，np.where对每个元素与0.65做比较，不是把每一个元素返出来\n",
    "# 而是把每个元素在矩阵里的位置返出来，对于2维矩阵，返出来的就是行和列咯"
   ]
  },
  {
   "cell_type": "code",
   "execution_count": 101,
   "metadata": {},
   "outputs": [
    {
     "name": "stdout",
     "output_type": "stream",
     "text": [
      "(array([0, 0, 0, 0, 1, 1, 1, 1, 2, 2]), array([0, 1, 2, 3, 0, 1, 2, 3, 0, 1]))\n"
     ]
    },
    {
     "data": {
      "text/plain": [
       "array([[ 0,  1,  2,  3],\n",
       "       [ 4,  5,  6,  7],\n",
       "       [ 8,  9, 10, 11],\n",
       "       [12, 13, 14, 15]])"
      ]
     },
     "execution_count": 101,
     "metadata": {},
     "output_type": "execute_result"
    }
   ],
   "source": [
    "a = np.arange(16).reshape(4,4)\n",
    "a.shape\n",
    "print(np.where(a<10))\n",
    "a"
   ]
  },
  {
   "cell_type": "code",
   "execution_count": 16,
   "metadata": {},
   "outputs": [
    {
     "data": {
      "text/plain": [
       "(1, 2, 25, 18)"
      ]
     },
     "execution_count": 16,
     "metadata": {},
     "output_type": "execute_result"
    }
   ],
   "source": [
    "classification.shape"
   ]
  },
  {
   "cell_type": "code",
   "execution_count": 17,
   "metadata": {},
   "outputs": [
    {
     "data": {
      "text/plain": [
       "<matplotlib.image.AxesImage at 0x7fc867fd4be0>"
      ]
     },
     "execution_count": 17,
     "metadata": {},
     "output_type": "execute_result"
    },
    {
     "data": {
      "image/png": "[encoded data removed]",
      "text/plain": [
       "<Figure size 432x288 with 1 Axes>"
      ]
     },
     "metadata": {
      "needs_background": "light"
     },
     "output_type": "display_data"
    }
   ],
   "source": [
    "plt.imshow(classification[0, 1].T)"
   ]
  },
  {
   "cell_type": "code",
   "execution_count": 18,
   "metadata": {},
   "outputs": [
    {
     "data": {
      "text/plain": [
       "<matplotlib.image.AxesImage at 0x7fc868388670>"
      ]
     },
     "execution_count": 18,
     "metadata": {},
     "output_type": "execute_result"
    },
    {
     "data": {
      "image/png": "[encoded data removed]",
      "text/plain": [
       "<Figure size 432x288 with 1 Axes>"
      ]
     },
     "metadata": {
      "needs_background": "light"
     },
     "output_type": "display_data"
    }
   ],
   "source": [
    "plt.imshow(classification[0, 0].T)"
   ]
  },
  {
   "cell_type": "code",
   "execution_count": null,
   "metadata": {},
   "outputs": [],
   "source": []
  }
 ],
 "metadata": {
  "kernelspec": {
   "display_name": "Python 3",
   "language": "python",
   "name": "python3"
  },
  "language_info": {
   "codemirror_mode": {
    "name": "ipython",
    "version": 3
   },
   "file_extension": ".py",
   "mimetype": "text/x-python",
   "name": "python",
   "nbconvert_exporter": "python",
   "pygments_lexer": "ipython3",
   "version": "3.8.5"
  }
 },
 "nbformat": 4,
 "nbformat_minor": 4
}
