{
 "cells": [
  {
   "cell_type": "code",
   "execution_count": 2,
   "metadata": {},
   "outputs": [],
   "source": [
    "import numpy as np\n",
    "import torch\n",
    "import cv2"
   ]
  },
  {
   "cell_type": "markdown",
   "metadata": {},
   "source": [
    "1. OpenCV读取出来的数据排列为HWC\n",
    "2. Tensorflow使用的数据排列格式是BHWC，通常指Conv2d要求的格式\n",
    "3. PyTorch使用的数据排列格式是BCHW"
   ]
  },
  {
   "cell_type": "code",
   "execution_count": 78,
   "metadata": {},
   "outputs": [],
   "source": [
    "class Matrix:\n",
    "    def __init__(self, data, shape, format=\"HWC\"):\n",
    "        self.data = data\n",
    "        self.shape = shape\n",
    "        self.format = format\n",
    "        self.mat = np.array(data).reshape(*shape)\n",
    "        \n",
    "    def __repr__(self):\n",
    "        return f\"Matrix{{ \\nformat = {self.format}  \\nshape  = {self.shape} \\ndata   = {self.data} \\nmat    = \\n{self.mat}\\n}}\"\n",
    "    \n",
    "    def transpose(self, format):\n",
    "        index = [0] * 3\n",
    "        \n",
    "        for j in range(len(format)):\n",
    "            for i in range(len(self.format)):\n",
    "                if format[j] == self.format[i]:\n",
    "                    index[j] = i\n",
    "                    break\n",
    "        \n",
    "        new_mat = self.mat.transpose(*index)\n",
    "        return Matrix(new_mat.reshape(-1), new_mat.shape, format)"
   ]
  },
  {
   "cell_type": "raw",
   "metadata": {},
   "source": [
    "data = [0, 1, 2, 3, 4, 5, 6, 7]\n",
    "shape = 2, 2, 2\n",
    "format = HWC\n",
    "按照CHW格式查看时如下：\n",
    "\n",
    "? ?\n",
    "? ?\n",
    "\n",
    "? ?\n",
    "? ?\n",
    "\n",
    "0 2\n",
    "4 6\n",
    "\n",
    "1 3\n",
    "5 7"
   ]
  },
  {
   "cell_type": "code",
   "execution_count": 82,
   "metadata": {},
   "outputs": [
    {
     "data": {
      "text/plain": [
       "Matrix{ \n",
       "format = CHW  \n",
       "shape  = (2, 2, 2) \n",
       "data   = [0 2 4 6 1 3 5 7] \n",
       "mat    = \n",
       "[[[0 2]\n",
       "  [4 6]]\n",
       "\n",
       " [[1 3]\n",
       "  [5 7]]]\n",
       "}"
      ]
     },
     "execution_count": 82,
     "metadata": {},
     "output_type": "execute_result"
    }
   ],
   "source": [
    "m1 = Matrix(np.arange(8), (2, 2, 2), \"HWC\")\n",
    "m1.transpose(\"CHW\")"
   ]
  },
  {
   "cell_type": "raw",
   "metadata": {},
   "source": [
    "data = [0, 1, 2, 3, 4, 5, 6, 7]\n",
    "shape = 2, 2, 2\n",
    "format = HCW\n",
    "按照CHW格式查看时如下：\n",
    "\n",
    "? ?\n",
    "? ?\n",
    "\n",
    "? ?\n",
    "? ?\n",
    "\n",
    "0 1\n",
    "4 5\n",
    "\n",
    "2 3\n",
    "6 7"
   ]
  },
  {
   "cell_type": "code",
   "execution_count": 83,
   "metadata": {},
   "outputs": [
    {
     "data": {
      "text/plain": [
       "Matrix{ \n",
       "format = CHW  \n",
       "shape  = (2, 2, 2) \n",
       "data   = [0 1 4 5 2 3 6 7] \n",
       "mat    = \n",
       "[[[0 1]\n",
       "  [4 5]]\n",
       "\n",
       " [[2 3]\n",
       "  [6 7]]]\n",
       "}"
      ]
     },
     "execution_count": 83,
     "metadata": {},
     "output_type": "execute_result"
    }
   ],
   "source": [
    "m1 = Matrix(np.arange(8), (2, 2, 2), \"HCW\")\n",
    "m1.transpose(\"CHW\")"
   ]
  }
 ],
 "metadata": {
  "kernelspec": {
   "display_name": "torch1.5",
   "language": "python",
   "name": "torch1.5"
  },
  "language_info": {
   "codemirror_mode": {
    "name": "ipython",
    "version": 3
   },
   "file_extension": ".py",
   "mimetype": "text/x-python",
   "name": "python",
   "nbconvert_exporter": "python",
   "pygments_lexer": "ipython3",
   "version": "3.7.7"
  }
 },
 "nbformat": 4,
 "nbformat_minor": 4
}
