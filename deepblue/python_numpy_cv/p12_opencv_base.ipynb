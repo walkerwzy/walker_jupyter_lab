{
 "cells": [
  {
   "cell_type": "markdown",
   "metadata": {},
   "source": [
    "### OpenCV"
   ]
  },
  {
   "cell_type": "markdown",
   "metadata": {},
   "source": [
    "\n",
    "OpenCV是计算机视觉中经典的专用库，其支持多语言、跨平台，功能强大。\n",
    "\n",
    "OpenCV-Python为OpenCV提供了Python接口，使得使用者在Python中能够调用C/C++，在保证易读性和运行效率的前提下，实现所需的功能。\n",
    "\n",
    "OpenCV-Python Tutorials官方文档：https://docs.opencv.org/4.1.2/d6/d00/tutorial_py_root.html"
   ]
  },
  {
   "cell_type": "markdown",
   "metadata": {},
   "source": [
    "----"
   ]
  },
  {
   "cell_type": "markdown",
   "metadata": {},
   "source": [
    "#### OpenCV的安装"
   ]
  },
  {
   "cell_type": "markdown",
   "metadata": {},
   "source": [
    "pip install opencv-python -i https://pypi.tuna.tsinghua.edu.cn/simple"
   ]
  },
  {
   "cell_type": "markdown",
   "metadata": {},
   "source": [
    "查看是否安装成功"
   ]
  },
  {
   "cell_type": "raw",
   "metadata": {},
   "source": [
    ">>> import cv2\n",
    ">>>"
   ]
  },
  {
   "cell_type": "markdown",
   "metadata": {},
   "source": [
    "---"
   ]
  },
  {
   "cell_type": "markdown",
   "metadata": {},
   "source": [
    "### OpenCV基础操作"
   ]
  },
  {
   "cell_type": "markdown",
   "metadata": {},
   "source": [
    "### 三种常见的色彩空间：\n",
    "\n",
    "- RGB\n",
    "- GRAY\n",
    "- HSV"
   ]
  },
  {
   "cell_type": "markdown",
   "metadata": {},
   "source": [
    "![avatar](./00_img/rhg.png)"
   ]
  },
  {
   "cell_type": "markdown",
   "metadata": {},
   "source": [
    "#### RGB"
   ]
  },
  {
   "cell_type": "markdown",
   "metadata": {},
   "source": [
    "![avatar](./00_img/rgb.png)\n",
    "\n",
    "\n",
    "RGB常见颜色表\n",
    "\n",
    "![avatar](./00_img/rgb1.png)"
   ]
  },
  {
   "cell_type": "markdown",
   "metadata": {},
   "source": [
    "### HSV\n",
    "\n",
    "HSV即Hue(色调),Saturation(饱和度)和Value(亮度)三个channel"
   ]
  },
  {
   "cell_type": "markdown",
   "metadata": {},
   "source": [
    "![avatar](./00_img/hsv.png)"
   ]
  },
  {
   "cell_type": "markdown",
   "metadata": {},
   "source": [
    "---"
   ]
  },
  {
   "cell_type": "code",
   "execution_count": 96,
   "metadata": {},
   "outputs": [
    {
     "name": "stdout",
     "output_type": "stream",
     "text": [
      "COLOR_BGR2BGR555\n",
      "COLOR_BGR2BGR565\n",
      "COLOR_BGR2BGRA\n",
      "COLOR_BGR2GRAY\n",
      "COLOR_BGR2HLS\n",
      "COLOR_BGR2HLS_FULL\n",
      "COLOR_BGR2HSV\n",
      "COLOR_BGR2HSV_FULL\n",
      "COLOR_BGR2LAB\n",
      "COLOR_BGR2LUV\n",
      "COLOR_BGR2Lab\n",
      "COLOR_BGR2Luv\n",
      "COLOR_BGR2RGB\n",
      "COLOR_BGR2RGBA\n",
      "COLOR_BGR2XYZ\n",
      "COLOR_BGR2YCR_CB\n",
      "COLOR_BGR2YCrCb\n",
      "COLOR_BGR2YUV\n",
      "COLOR_BGR2YUV_I420\n",
      "COLOR_BGR2YUV_IYUV\n",
      "COLOR_BGR2YUV_YV12\n",
      "COLOR_BGR5552BGR\n",
      "COLOR_BGR5552BGRA\n",
      "COLOR_BGR5552GRAY\n",
      "COLOR_BGR5552RGB\n",
      "COLOR_BGR5552RGBA\n",
      "COLOR_BGR5652BGR\n",
      "COLOR_BGR5652BGRA\n",
      "COLOR_BGR5652GRAY\n",
      "COLOR_BGR5652RGB\n",
      "COLOR_BGR5652RGBA\n",
      "COLOR_BGRA2BGR\n",
      "COLOR_BGRA2BGR555\n",
      "COLOR_BGRA2BGR565\n",
      "COLOR_BGRA2GRAY\n",
      "COLOR_BGRA2RGB\n",
      "COLOR_BGRA2RGBA\n",
      "COLOR_BGRA2YUV_I420\n",
      "COLOR_BGRA2YUV_IYUV\n",
      "COLOR_BGRA2YUV_YV12\n"
     ]
    }
   ],
   "source": [
    "for i in dir(cv2):\n",
    "    if \"COLOR_BGR\" in i:\n",
    "        print(i)"
   ]
  },
  {
   "cell_type": "markdown",
   "metadata": {},
   "source": [
    "读取图片并显示图片"
   ]
  },
  {
   "cell_type": "raw",
   "metadata": {},
   "source": [
    "import cv2\n",
    "\n",
    "\n",
    "image = cv2.imread(\"./00_img/cv2.png\")  # 默认为 RGB\n",
    "\n",
    "image_gray = cv2.cvtColor(img,cv2.COLOR_BGR2GRAY)\n",
    "\n",
    "image_hsv = cv2.cvtColor(img,cv2.COLOR_BGR2HSV)\n",
    "\n",
    "# 显示图片\n",
    "cv2.imshow(\"cbq_rgb\", image)\n",
    "cv2.imshow(\"cbq_gray\", image_gray)\n",
    "cv2.imshow(\"cbq_hsv\", image_hsv)\n",
    "\n",
    "# 保存图片，在开发的时候，我们通常将计算得到的图片通过保存在本地进行图片的查看\n",
    "cv2.imwrite(\"./cbq_rgb.jpg\", image)\n",
    "cv2.imwrite(\"./cbq_gray.jpg\", image_gray)\n",
    "cv2.imwrite(\"./cbq_hsv.jpg\", image_hsv)\n",
    "\n",
    "if cv2.waitKey(0) == ord(\"q\"):  # It returns the code of the pressed key\n",
    "    cv2.destroyAllWindows()\n",
    "\"\"\"\n",
    "cv2.waitKey(0) 0/-1 表示无限等待\n",
    "cv2.waitKey(t) 中t参数是时间尺度，这个时间尺度是毫秒级别\n",
    "\"\"\""
   ]
  },
  {
   "cell_type": "markdown",
   "metadata": {},
   "source": [
    "---"
   ]
  },
  {
   "cell_type": "markdown",
   "metadata": {},
   "source": [
    "### 对视频操作"
   ]
  },
  {
   "cell_type": "markdown",
   "metadata": {},
   "source": [
    "读取视频并显示"
   ]
  },
  {
   "cell_type": "raw",
   "metadata": {},
   "source": [
    "import cv2\n",
    "\n",
    "cap = cv2.VideoCapture(\"./aa.mp4\")  # 读取摄像头，仅仅将视频路径更改为 数字 0 （不同的摄像头有不同的标号）\n",
    "print(\"success\")\n",
    "while True:\n",
    "    ret, frame = cap.read()\n",
    "    \"\"\"\n",
    "    cap.read()按帧读取视频，ret,frame是获cap.read()方法的两个返回值。\n",
    "    其中ret是布尔值，如果读取帧是正确的则返回True，如果文件读取到结尾，它的返回值就为False。\n",
    "    frame就是每一帧的图像，是个三维矩阵。\n",
    "    \"\"\"\n",
    "    cv2.imshow(\"arm\", frame)\n",
    "    if cv2.waitKey(0) == ord(\"q\"):\n",
    "        break\n",
    "cap.release()\n",
    "cv2.destroyAllWindows()"
   ]
  },
  {
   "cell_type": "markdown",
   "metadata": {},
   "source": [
    "将视频处理为黑白视频"
   ]
  },
  {
   "cell_type": "raw",
   "metadata": {},
   "source": [
    "import cv2\n",
    "\n",
    "cap = cv2.VideoCapture(\"./aa.mp4\")\n",
    "print(\"success\")\n",
    "while True:\n",
    "    ret, frame = cap.read()\n",
    "    gray = cv2.cvtColor(frame, cv2.COLOR_BGR2GRAY)\n",
    "    cv2.imshow(\"arm\", gray)\n",
    "    if cv2.waitKey(0) == ord(\"q\"):\n",
    "        break\n",
    "cap.release()\n",
    "cv2.destroyAllWindows()"
   ]
  },
  {
   "cell_type": "raw",
   "metadata": {},
   "source": [
    "for i in dir(cv2):\n",
    "    if \"COLOR_BGR\" in i:\n",
    "        print(i)"
   ]
  },
  {
   "cell_type": "markdown",
   "metadata": {},
   "source": [
    "将视频保存为150张图片"
   ]
  },
  {
   "cell_type": "raw",
   "metadata": {},
   "source": [
    "import cv2\n",
    "\n",
    "cap = cv2.VideoCapture(\"./aa.mp4\")\n",
    "print(\"success\")\n",
    "for i in range(150):\n",
    "    ret, frame = cap.read()\n",
    "    gray = cv2.cvtColor(frame, cv2.COLOR_BGR2GRAY)\n",
    "    cv2.imshow(\"arm\", gray)\n",
    "    cv2.imwrite(f\"./info_pic/{i}.jpg\", gray)\n",
    "    if cv2.waitKey(0) == ord(\"q\"):\n",
    "        break\n",
    "cap.release()\n",
    "cv2.destroyAllWindows()"
   ]
  },
  {
   "cell_type": "markdown",
   "metadata": {},
   "source": [
    "----"
   ]
  },
  {
   "cell_type": "markdown",
   "metadata": {},
   "source": [
    "### 使用Opencv绘制几何图型\n",
    "\n",
    "- cv2.line()\n",
    "- cv2.rectangle()\n",
    "- cv2.circle()\n",
    "- cv2.putText()"
   ]
  },
  {
   "cell_type": "raw",
   "metadata": {},
   "source": [
    "import numpy as np\n",
    "\n",
    "创建一个纯黑色的图片\n",
    "image = np.zeros((50, 50, 3), dtype=np.uint8)\n",
    "\n",
    "绘制直线：cv2.line()\n",
    "cv2.line(image, (0, 0), (49, 49), (0, 255, 255), 5)\n",
    "\n",
    "绘制矩形：cv2.rectangle()\n",
    "cv2.rectangle(image, (24, 24), (49,49), 5)\n",
    "\n",
    "绘制圆形：cv2.circle()\n",
    "cv2.circle(image, (24, 24), 20, -1)\n",
    "\n",
    "在图片上添加文字\n",
    "cv2.putText(image, \"(30, 30)\", (30, 30), 4, (255, 255, 255), 5)"
   ]
  },
  {
   "cell_type": "markdown",
   "metadata": {},
   "source": [
    "---"
   ]
  },
  {
   "cell_type": "markdown",
   "metadata": {},
   "source": [
    "### OpenCV事件相应-创建可以绘制图像的画板"
   ]
  },
  {
   "cell_type": "code",
   "execution_count": 98,
   "metadata": {},
   "outputs": [
    {
     "name": "stdout",
     "output_type": "stream",
     "text": [
      "EVENT_FLAG_ALTKEY\n",
      "EVENT_FLAG_CTRLKEY\n",
      "EVENT_FLAG_LBUTTON\n",
      "EVENT_FLAG_MBUTTON\n",
      "EVENT_FLAG_RBUTTON\n",
      "EVENT_FLAG_SHIFTKEY\n",
      "EVENT_LBUTTONDBLCLK\n",
      "EVENT_LBUTTONDOWN\n",
      "EVENT_LBUTTONUP\n",
      "EVENT_MBUTTONDBLCLK\n",
      "EVENT_MBUTTONDOWN\n",
      "EVENT_MBUTTONUP\n",
      "EVENT_MOUSEHWHEEL\n",
      "EVENT_MOUSEMOVE\n",
      "EVENT_MOUSEWHEEL\n",
      "EVENT_RBUTTONDBLCLK\n",
      "EVENT_RBUTTONDOWN\n",
      "EVENT_RBUTTONUP\n"
     ]
    }
   ],
   "source": [
    "import cv2\n",
    "\n",
    "for i in dir(cv2):\n",
    "    if \"EVENT\" in i:\n",
    "        print(i)"
   ]
  },
  {
   "cell_type": "raw",
   "metadata": {},
   "source": [
    "cv2_EVENT_MOUSEMOVE    滑动 \n",
    "cv2_EVENT_LBUTTONDOWN  左键点击 \n",
    "cv2_EVENT_RBUTTONDOWN  右键点击 \n",
    "cv2_EVENT_MBUTTONDOWN  中间点击 \n",
    "cv2_EVENT_LBUTTONUP    左键释放 \n",
    "cv2_EVENT_RBUTTONUP    右键释放 \n",
    "cv2_EVENT_MBUTTONUP    中间释放 \n",
    "cv2_EVENT_LBUTTONDBLCLK左键双击 \n",
    "cv2_EVENT_RBUTTONDBLCLK右键双击 \n",
    "cv2_EVENT_MBUTTONDBLCLK中间释放\n",
    "\n",
    "cv2_EVENT_FLAG_LBUTTON 左键拖拽  \n",
    "cv2_EVENT_FLAG_RBUTTON 右键拖拽  \n",
    "cv2_EVENT_FLAG_MBUTTON 中间拖拽  "
   ]
  },
  {
   "cell_type": "raw",
   "metadata": {},
   "source": [
    "import cv2\n",
    "\n",
    "def draw_circle(event, x, y, flags, param):\n",
    "    if event == cv2.EVENT_MOUSEMOVE and flags == cv2.EVENT_FLAG_LBUTTON:\n",
    "        cv2.circle(image, x, y, 1, (255, 0, 0), 5)\n",
    "    \n",
    "image = np.zeros((500, 500, 3), np.int8)\n",
    "cv2.setMouseCallback(\"image\", draw_circle)\n",
    "\n",
    "while True:\n",
    "    cv2.imshow(\"image\", image)\n",
    "    if cv2.waitKey(0) == ord(\"q\"):\n",
    "        break\n",
    "cv2.destroyAllWindows()"
   ]
  },
  {
   "cell_type": "markdown",
   "metadata": {},
   "source": [
    "---"
   ]
  },
  {
   "cell_type": "markdown",
   "metadata": {},
   "source": [
    "### OpenCV 实现一个调色板"
   ]
  },
  {
   "cell_type": "raw",
   "metadata": {},
   "source": [
    "import numpy as np\n",
    "import cv2\n",
    "\n",
    "def nothing(x):\n",
    "    pass\n",
    "\n",
    "image = np.zeros((500, 500, 3), np.uint8)\n",
    "cv2.namedWindow(\"image\")\n",
    "\n",
    "cv2.createTrackbar(\"R\", \"image\", 0, 255, nothing)\n",
    "cv2.createTrackbar(\"G\", \"image\", 0, 255, nothing)\n",
    "cv2.createTrackbar(\"B\", \"image\", 0, 255, nothing)\n",
    "\n",
    "switch = \"0:OFF \\n 1:ON\"\n",
    "cv2.createTrackbar(switch, \"image\", 0, 1, nothing)\n",
    "\n",
    "while True:\n",
    "    cv2.imshow(\"image\", img)\n",
    "    if cv2.waitKey(1) == ord(\"q\"):\n",
    "        break\n",
    "    r = cv2.getTrackbarPos(\"R\", \"image\")\n",
    "    g = cv2.getTrackbarPos(\"G\", \"image\")\n",
    "    b = cv2.getTrackbarPos(\"B\", \"image\")\n",
    "    s = cv2.getTrackbarPos(switch, \"image\")\n",
    "    if s == 0:\n",
    "        img[:] = 0\n",
    "    else:\n",
    "        img[:] = [b, g, r]\n",
    "cv2.destroyWindows()"
   ]
  },
  {
   "cell_type": "markdown",
   "metadata": {},
   "source": [
    "---"
   ]
  },
  {
   "cell_type": "markdown",
   "metadata": {},
   "source": [
    "### OpenCV 核心操作 -  对图像的操作"
   ]
  },
  {
   "cell_type": "markdown",
   "metadata": {},
   "source": [
    "#### 获取图像属性"
   ]
  },
  {
   "cell_type": "code",
   "execution_count": 104,
   "metadata": {},
   "outputs": [
    {
     "name": "stdout",
     "output_type": "stream",
     "text": [
      "(217, 212, 3)\n",
      "138012\n",
      "uint8\n"
     ]
    }
   ],
   "source": [
    "import cv2\n",
    "\n",
    "img = cv2.imread(\"./00_img/cv2.png\")\n",
    "\n",
    "print(img.shape)  # 获取图像的形状\n",
    "\n",
    "print(img.size) # 获取图像的像素数目\n",
    "\n",
    "print(img.dtype)  # 获取图像的数据类型\n"
   ]
  },
  {
   "cell_type": "markdown",
   "metadata": {},
   "source": [
    "#### 对图像通道操作"
   ]
  },
  {
   "cell_type": "raw",
   "metadata": {},
   "source": [
    "import cv2\n",
    "\n",
    "img = cv2.imread(\"./00_img/cv2.png\")\n",
    "\n",
    "img[:,:,2] = 0  # 将红色通道设置为0\n",
    "\n",
    "cv2.imshow(\"img\", img)\n",
    "\n",
    "cv2.waitKey(1000)"
   ]
  },
  {
   "cell_type": "markdown",
   "metadata": {},
   "source": [
    "#### 图像相加运算"
   ]
  },
  {
   "cell_type": "markdown",
   "metadata": {},
   "source": [
    "$g (x) = (1 − α) * f_0 (x) + α * f_1 (x)$\n",
    "\n",
    "现在我们把两幅图混合在一起。第一幅图的权重是 0.7，第二幅图的权重是 0.3。\n",
    "\n",
    "\n",
    "函数 cv2.addWeighted() 可以按下面的公式对图片进行混合操作。\n",
    "\n",
    "$dst = α · img1 + β · img2 + γ$ 这里 γ 的取值为 0。"
   ]
  },
  {
   "cell_type": "raw",
   "metadata": {},
   "source": [
    "import cv2\n",
    "import numpy as np\n",
    "\n",
    "img1=cv2.imread('ml.png')\n",
    "\n",
    "img2=cv2.imread('opencv_logo.jpg')\n",
    "\n",
    "size(300, 300)\n",
    "\n",
    "img1 = cv2.resize(img1, size)\n",
    "\n",
    "img2 = cv2.resize(img2, size)\n",
    "\n",
    "dst=cv2.addWeighted(img1,0.7,img2,0.3,0)\n",
    "\n",
    "cv2.imshow('dst',dst)\n",
    "\n",
    "cv2.waitKey(0)\n",
    "\n",
    "cv2.destroyAllWindow()"
   ]
  },
  {
   "cell_type": "markdown",
   "metadata": {},
   "source": [
    "#### ROI (region of interest)获取\n",
    "\n",
    "有时你需要对一幅图像的特定区域进行操作。\n",
    "\n",
    "例如我们要检测一副图像中眼睛的位置，我们首先应该在图像中找到脸，再在脸的区域中找眼睛，而不是直接在一幅图像中搜索。\n",
    "\n",
    "这样会提高程序的准确性和性能。"
   ]
  },
  {
   "cell_type": "raw",
   "metadata": {},
   "source": [
    "import cv2\n",
    "\n",
    "img = cv2.imread(\"./data/cv2.png\")\n",
    "\n",
    "# 86, 77\n",
    "# 143, 89\n",
    "eyes = img[77:89, 86:143]\n",
    "img[0:0,0:0] = eyes\n",
    "\n",
    "cv2.imshow(\"img\", img)\n",
    "\n",
    "cv2.waitKey(1000)"
   ]
  },
  {
   "cell_type": "markdown",
   "metadata": {},
   "source": [
    "#### 图像简单融合"
   ]
  },
  {
   "cell_type": "code",
   "execution_count": 105,
   "metadata": {},
   "outputs": [
    {
     "data": {
      "text/plain": [
       "<matplotlib.image.AxesImage at 0x7ff0e94c6320>"
      ]
     },
     "execution_count": 105,
     "metadata": {},
     "output_type": "execute_result"
    },
    {
     "data": {
      "image/png": "[encoded data removed]",
      "text/plain": [
       "<Figure size 432x288 with 1 Axes>"
      ]
     },
     "metadata": {
      "needs_background": "light"
     },
     "output_type": "display_data"
    }
   ],
   "source": [
    "import cv2\n",
    "\n",
    "image1 = cv2.imread(\"temp/opencvs/frog_logo.png\")\n",
    "\n",
    "row, col, channel = image1.shape\n",
    "\n",
    "image1 = cv2.resize(image1, (70, 70))\n",
    "\n",
    "image2 = cv2.imread(\"temp/opencvs/frog.png\")\n",
    "\n",
    "row, col, channel = image1.shape\n",
    "\n",
    "image2[0:row, 0:col] = image1\n",
    "\n",
    "import matplotlib.pyplot as plt\n",
    "\n",
    "plt.imshow(image2)"
   ]
  },
  {
   "cell_type": "markdown",
   "metadata": {},
   "source": [
    "#### 图像高级融合"
   ]
  },
  {
   "cell_type": "code",
   "execution_count": 107,
   "metadata": {},
   "outputs": [
    {
     "data": {
      "text/plain": [
       "<matplotlib.image.AxesImage at 0x7ff0e8f47c50>"
      ]
     },
     "execution_count": 107,
     "metadata": {},
     "output_type": "execute_result"
    },
    {
     "data": {
      "image/png": "[encoded data removed]",
      "text/plain": [
       "<Figure size 432x288 with 1 Axes>"
      ]
     },
     "metadata": {
      "needs_background": "light"
     },
     "output_type": "display_data"
    }
   ],
   "source": [
    "import cv2\n",
    "import numpy as np\n",
    "\n",
    "img1 = cv2.imread(\"./temp/opencvs/frog.png\")  # 读取图片img1\n",
    "img2 = cv2.imread(\"./temp/opencvs/frog_logo.png\")  # 读取图片img2\n",
    "img2 = cv2.resize(img2, (70, 70))  # 缩小img2的图片尺寸，使用双线性插值法\n",
    "\n",
    "\n",
    "rows, cols, channels = img2.shape\n",
    "roi = img1[0:rows, 0:cols, 0:channels]  # 获取img1中感兴趣区域\n",
    "\n",
    "img2gray = cv2.cvtColor(img2, cv2.COLOR_BGR2GRAY)  # 获取灰度图，方便得到掩码\n",
    "\n",
    "ret,mask = cv2.threshold(img2gray, 245, 255, cv2.THRESH_BINARY)  # 创建的掩码,<245 == 0，>245 == 255\n",
    "# \"\"\"\n",
    "# cv2.threshhold()。这个函数的第一个参数就是原图像，原图像应该是灰度图。第二个参数就是用来对像素值进行分类的阈值。第三个参数就是当像素值高于（有时是小于）阈值时应该被赋予的新的像素值。\n",
    "# - cv2.THRESH_BINARY\n",
    "# - cv2.THRESH_BINARY_INV\n",
    "# - cv2.THRESH_TRUNC\n",
    "# - cv2.THRESH_TOZERO\n",
    "# - cv2.THRESH_TOZERO_INV\n",
    "# \"\"\"\n",
    "\n",
    "# mask_inv = cv2.bitwise_not(mask)  # 通过反转上面的图像创建掩码\n",
    "\n",
    "# img1_bg = cv2.bitwise_and(roi, img2, mask=mask)  \n",
    "# \"\"\"\n",
    "# cv2.bitwise_and()是对二进制数据进行“与”操作，即对图像（灰度图像或彩色图像均可）每个像素值进行二进制“与”操作\n",
    "# 利用掩膜（mask）进行“与”操作，即掩膜图像白色区域是对需要处理图像像素的保留，黑色区域是对需要处理图像像素的剔除\n",
    "# \"\"\"\n",
    "\n",
    "# img2_fg = cv2.bitwise_and(img2, img2, mask=mask_inv) # 仅仅显示logo\n",
    "\n",
    "# dst2 = cv2.add(img1_bg, img2_fg)\n",
    "# img1[0:rows, 0:cols] = dst2\n",
    "# # cv2.imshow(\"senior\", img1)\n",
    "# # cv2.waitKey(0)\n",
    "plt.imshow(mask)"
   ]
  },
  {
   "cell_type": "markdown",
   "metadata": {},
   "source": [
    "#### 颜色物体分割"
   ]
  },
  {
   "cell_type": "raw",
   "metadata": {},
   "source": [
    "import cv2\n",
    "import numpy as np\n",
    "cap=cv2.VideoCapture(\"tt.mp4\")\n",
    "while(1):\n",
    "    # 获取每一帧\n",
    "    ret,frame=cap.read()\n",
    "    # 转换到 HSV\n",
    "    hsv=cv2.cvtColor(frame,cv2.COLOR_BGR2HSV)\n",
    "    # 设定蓝色的阈值\n",
    "    lower_blue=np.array([50,150,200])  # H S V\n",
    "    upper_blue=np.array([255,255,255])\n",
    "    # 根据阈值构建掩模\n",
    "    mask=cv2.inRange(hsv,lower_blue,upper_blue)\n",
    "    \"\"\"\n",
    "    参数1：输入要处理的图像，可以为单通道或多通道。\n",
    "    参数2：包含下边界的数组或标量。\n",
    "    参数3：包含上边界数组或标量。\n",
    "    \"\"\"\n",
    "    # 对原图像和掩模进行位运算\n",
    "    res=cv2.bitwise_and(frame,frame,mask=mask)\n",
    "    # 显示图像\n",
    "    cv2.imshow('frame',frame)\n",
    "    cv2.imshow('res',res)\n",
    "    k=cv2.waitKey(5)\n",
    "    if k==ord(\"q\"):\n",
    "        break\n",
    "    # 关闭窗口\n",
    "cv2.destroyAllWindows()"
   ]
  }
 ],
 "metadata": {
  "kernelspec": {
   "display_name": "Python 3",
   "language": "python",
   "name": "python3"
  },
  "language_info": {
   "codemirror_mode": {
    "name": "ipython",
    "version": 3
   },
   "file_extension": ".py",
   "mimetype": "text/x-python",
   "name": "python",
   "nbconvert_exporter": "python",
   "pygments_lexer": "ipython3",
   "version": "3.7.0"
  }
 },
 "nbformat": 4,
 "nbformat_minor": 2
}
