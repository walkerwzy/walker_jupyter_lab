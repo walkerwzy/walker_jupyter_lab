{
 "cells": [
  {
   "cell_type": "markdown",
   "metadata": {},
   "source": [
    "### 直接插入排序\n",
    "\n",
    "算法原理\n",
    "\n",
    "![avatar](./00_img/insertSort.png)"
   ]
  },
  {
   "cell_type": "markdown",
   "metadata": {},
   "source": [
    "代码实现"
   ]
  },
  {
   "cell_type": "code",
   "execution_count": 39,
   "metadata": {},
   "outputs": [
    {
     "name": "stdout",
     "output_type": "stream",
     "text": [
      "排序前：[53, 27, 36, 15, 69, 42]\n",
      "排序后: [15, 27, 36, 42, 53, 69]\n"
     ]
    }
   ],
   "source": [
    "def insertSort(arr):  # 定义插入排序算法\n",
    "    for i in range(1, len(arr)):  # 从arr中遍历元素\n",
    "        value = arr[i]  # 获取元素 27  # 获取元素 36  # 获取元素 15\n",
    "        index = i - 1 # 获取索引 0  # 获取索引 1  # 获取索引 2 \n",
    "        while index >= 0 and arr[index] > value:  # 将 53 与 27 进行比较， 发现 53 > 27  # 53 > 36  # 53 > 15 ; 36 > 15 ; 27 > 15\n",
    "            arr[index+1] = arr[index]  # 将 53 的值赋值给 27所在的位置  # 53 --> 36  # 53 --> 15 ; 36 --> 15 ; 27 -- > 15\n",
    "            index -= 1  # 获取 53 前面的索引值， 此时索引值为 -1 < 0, 跳出训练  # 索引 -1 = 0  # 1 # 0 \n",
    "        arr[index + 1] = value  # 将 27 赋值给 53 的位置处  # 将 36 赋值给 53的位置处  # 15 ---> 27\n",
    "    return arr\n",
    "\n",
    "if __name__ == \"__main__\":\n",
    "    arr = [53, 27, 36, 15, 69, 42]\n",
    "    print(f\"排序前：{arr}\")\n",
    "    new_arr = insertSort(arr)\n",
    "    print(f\"排序后: {new_arr}\")"
   ]
  },
  {
   "cell_type": "markdown",
   "metadata": {},
   "source": [
    "-------"
   ]
  },
  {
   "cell_type": "markdown",
   "metadata": {},
   "source": [
    "### 类\n",
    "- 什么是类\n",
    "- 类的继承\n",
    "- __xx 类型\n",
    "- 注解的使用"
   ]
  },
  {
   "cell_type": "markdown",
   "metadata": {},
   "source": [
    "### 什么是类"
   ]
  },
  {
   "cell_type": "code",
   "execution_count": 9,
   "metadata": {},
   "outputs": [],
   "source": [
    "def drink(name):\n",
    "    print(f\"{name} is drinking\")\n",
    "\n",
    "def eat(name, sth):\n",
    "    print(f\"{name} is eating a/an {sth}\")\n",
    "\n",
    "def run(name):\n",
    "    print(f\"{name} is running\")"
   ]
  },
  {
   "cell_type": "code",
   "execution_count": 10,
   "metadata": {},
   "outputs": [
    {
     "name": "stdout",
     "output_type": "stream",
     "text": [
      "zhangsan is drinking\n",
      "zhangsan is eating a/an apple\n",
      "zhangsan is running\n"
     ]
    }
   ],
   "source": [
    "name = \"zhangsan\"\n",
    "sth = \"apple\"\n",
    "drink(name)\n",
    "eat(name, sth)\n",
    "run(name)"
   ]
  },
  {
   "cell_type": "code",
   "execution_count": 11,
   "metadata": {},
   "outputs": [
    {
     "name": "stdout",
     "output_type": "stream",
     "text": [
      "zhangsan is drinking\n",
      "zhangsan is eating a/an apple\n",
      "zhangsan is running\n"
     ]
    }
   ],
   "source": [
    "class Action(object):\n",
    "    \n",
    "    def __init__(x, name, sth):  # x相当于一个容器，对变量进行存储\n",
    "        x.name = name\n",
    "        x.sth = sth\n",
    "    \n",
    "    def drink(x):\n",
    "        print(f\"{x.name} is drinking\")\n",
    "\n",
    "    def eat(x, sth):\n",
    "        print(f\"{x.name} is eating a/an {x.sth}\")\n",
    "\n",
    "    def run(x):\n",
    "        print(f\"{x.name} is running\")\n",
    "\n",
    "        \n",
    "name = \"zhangsan\"\n",
    "sth = \"apple\"\n",
    "action = Action(name, sth)\n",
    "action.drink()\n",
    "action.eat(sth)\n",
    "action.run()"
   ]
  },
  {
   "cell_type": "code",
   "execution_count": 12,
   "metadata": {},
   "outputs": [
    {
     "name": "stdout",
     "output_type": "stream",
     "text": [
      "zhangsan is drinking\n",
      "zhangsan is eating a/an apple\n",
      "zhangsan is running\n"
     ]
    }
   ],
   "source": [
    "class Action(object):\n",
    "    \n",
    "    def __init__(self, name, sth):\n",
    "        self.name = name\n",
    "        self.sth = sth\n",
    "    \n",
    "    def drink(self):\n",
    "        print(f\"{self.name} is drinking\")\n",
    "\n",
    "    def eat(self, sth):\n",
    "        print(f\"{self.name} is eating a/an {self.sth}\")\n",
    "\n",
    "    def run(self):\n",
    "        print(f\"{self.name} is running\")\n",
    "\n",
    "        \n",
    "name = \"zhangsan\"\n",
    "sth = \"apple\"\n",
    "action = Action(name, sth)\n",
    "action.drink()\n",
    "action.eat(sth)\n",
    "action.run()"
   ]
  },
  {
   "cell_type": "markdown",
   "metadata": {},
   "source": [
    "#### 实例化"
   ]
  },
  {
   "cell_type": "raw",
   "metadata": {},
   "source": [
    "action = Action(name, sth)  # 我们称这个步骤为实例化，什么是实例化？\n",
    "\n",
    "实例化的定义：是将一个抽象的概念类，具体到该类实物的过程。"
   ]
  },
  {
   "cell_type": "code",
   "execution_count": 13,
   "metadata": {},
   "outputs": [
    {
     "name": "stdout",
     "output_type": "stream",
     "text": [
      "zhangsan is running\n",
      "lisi is eating\n"
     ]
    }
   ],
   "source": [
    "class Student():\n",
    "    \n",
    "    def __init__(self, name, age, class_num):\n",
    "        self.name = name\n",
    "        self.age = age\n",
    "        self.class_num = class_num\n",
    "        \n",
    "    def run(self):\n",
    "        print(f\"{self.name} is running\")\n",
    "    \n",
    "    def eat(self):\n",
    "        print(f\"{self.name} is eating\")\n",
    "        \n",
    "s1 = Student(\"zhangsan\", 18, 5)  # 实例化第一个对象\n",
    "s2 = Student(\"lisi\", 20, 4)  # 实例化第二个对象\n",
    "s1.run()\n",
    "s2.eat()"
   ]
  },
  {
   "cell_type": "markdown",
   "metadata": {},
   "source": [
    "### 类的继承"
   ]
  },
  {
   "cell_type": "code",
   "execution_count": 14,
   "metadata": {},
   "outputs": [],
   "source": [
    "class Animal():\n",
    "    \n",
    "    def __init__(self, name):\n",
    "        self.name = name\n",
    "    \n",
    "    def drink(self):\n",
    "        print(f\"{self.name} is drinking\")\n",
    "\n",
    "    def eat(self, sth):\n",
    "        print(f\"{self.name} is eating a/an {sth}\")\n",
    "\n",
    "    def run(self):\n",
    "        print(f\"{self.name} is running\")"
   ]
  },
  {
   "cell_type": "code",
   "execution_count": 15,
   "metadata": {},
   "outputs": [
    {
     "name": "stdout",
     "output_type": "stream",
     "text": [
      "erha is drinking\n",
      "samoye is eating a/an apple\n"
     ]
    }
   ],
   "source": [
    "class Dog(Animal):\n",
    "    \n",
    "    def __init__(self, name):\n",
    "        super().__init__(name)\n",
    "        \n",
    "dog1 = Dog(\"erha\")\n",
    "dog2 = Dog(\"samoye\")\n",
    "\n",
    "dog1.drink()\n",
    "dog2.eat(\"apple\")"
   ]
  },
  {
   "cell_type": "code",
   "execution_count": 16,
   "metadata": {},
   "outputs": [
    {
     "name": "stdout",
     "output_type": "stream",
     "text": [
      "jiafeimao is running\n",
      "duanmaomao is drinking\n"
     ]
    }
   ],
   "source": [
    "class Cat(Animal):\n",
    "    def __init__(self, name):\n",
    "        super().__init__(name)\n",
    "\n",
    "cat1 = Cat(\"jiafeimao\")\n",
    "cat2 = Cat(\"duanmaomao\")\n",
    "\n",
    "cat1.run()\n",
    "cat2.drink()"
   ]
  },
  {
   "cell_type": "markdown",
   "metadata": {},
   "source": [
    "#### 重载父类的方法"
   ]
  },
  {
   "cell_type": "code",
   "execution_count": 17,
   "metadata": {},
   "outputs": [
    {
     "name": "stdout",
     "output_type": "stream",
     "text": [
      "erha is drinking\n",
      "samoye is eating\n",
      "samoye is jumpping\n"
     ]
    }
   ],
   "source": [
    "class Dog(Animal):\n",
    "    \n",
    "    def __init__(self, name):\n",
    "        super().__init__(name)\n",
    "        \n",
    "    def eat(self):\n",
    "        print(f\"{self.name} is eating\")\n",
    "        \n",
    "    def jump(self):\n",
    "        print(f\"{self.name} is jumpping\")\n",
    "        \n",
    "dog1 = Dog(\"erha\")\n",
    "dog2 = Dog(\"samoye\")\n",
    "\n",
    "dog1.drink()\n",
    "dog2.eat()\n",
    "dog2.jump()"
   ]
  },
  {
   "cell_type": "markdown",
   "metadata": {},
   "source": [
    "------"
   ]
  },
  {
   "cell_type": "markdown",
   "metadata": {},
   "source": [
    "#### 继承的补充"
   ]
  },
  {
   "cell_type": "code",
   "execution_count": 18,
   "metadata": {},
   "outputs": [
    {
     "name": "stdout",
     "output_type": "stream",
     "text": [
      "animal is eating\n",
      "dog is running\n"
     ]
    }
   ],
   "source": [
    "class Animal(object):\n",
    "    \n",
    "    def eat(self):\n",
    "        print(\"animal is eating\")\n",
    "        \n",
    "class Dog(Animal):\n",
    "    \n",
    "    def run(self):\n",
    "        print(\"dog is running\")\n",
    "        \n",
    "dog = Dog()\n",
    "dog.eat()\n",
    "dog.run()"
   ]
  },
  {
   "cell_type": "markdown",
   "metadata": {},
   "source": [
    "如果要给实例dog传参，我们就需要构造函数了，但是构造函数如何继承，并且子类的属性又怎么定义呢？"
   ]
  },
  {
   "cell_type": "code",
   "execution_count": 19,
   "metadata": {},
   "outputs": [
    {
     "name": "stdout",
     "output_type": "stream",
     "text": [
      "erha, apple, 5\n"
     ]
    }
   ],
   "source": [
    "class Animal(object):\n",
    "    \n",
    "    def __init__(self, name, sth):\n",
    "        self.name = name\n",
    "        self.sth = sth\n",
    "    \n",
    "    def eat(self):\n",
    "        print(\"animal is eating\")\n",
    "        \n",
    "class Dog(Animal):\n",
    "    \n",
    "    def __init__(self, name, sth, age):\n",
    "        Animal.__init__(self, name, sth)  # 经典类的写法\n",
    "        self.age = age\n",
    "    \n",
    "    def run(self):\n",
    "        print(\"dog is running\")\n",
    "        \n",
    "dog = Dog(\"erha\", \"apple\", 5)\n",
    "print(f\"{dog.name}, {dog.sth}, {dog.age}\")"
   ]
  },
  {
   "cell_type": "code",
   "execution_count": 23,
   "metadata": {},
   "outputs": [
    {
     "name": "stdout",
     "output_type": "stream",
     "text": [
      "erha, apple, 5\n"
     ]
    }
   ],
   "source": [
    "class Animal(object):\n",
    "    \n",
    "    def __init__(self, name, sth):\n",
    "        self.name = name\n",
    "        self.sth = sth\n",
    "    \n",
    "    def eat(self):\n",
    "        print(\"animal is eating\")\n",
    "        \n",
    "class Dog(Animal):\n",
    "    \n",
    "    def __init__(self, name, sth, age):\n",
    "        super().__init__(name, sth)  # 新式类的写法\n",
    "        self.age = age\n",
    "    \n",
    "    def run(self):\n",
    "        print(\"dog is running\")\n",
    "        \n",
    "dog = Dog(\"erha\", \"apple\", 5)\n",
    "print(f\"{dog.name}, {dog.sth}, {dog.age}\")"
   ]
  },
  {
   "cell_type": "code",
   "execution_count": 36,
   "metadata": {},
   "outputs": [
    {
     "name": "stdout",
     "output_type": "stream",
     "text": [
      "erha, apple, 5, eat\n",
      "dog is running\n",
      "====================\n",
      "erha, apple, eat\n",
      "dog is running\n",
      "====================\n",
      "erha, 5, eat\n",
      "dog is running\n",
      "animal is drinking\n"
     ]
    }
   ],
   "source": [
    "class Animal(object):\n",
    "    \n",
    "    def __init__(self, name, sth):\n",
    "        self.name = name\n",
    "        self.sth = sth\n",
    "    \n",
    "    def eat(self):\n",
    "        print(\"animal is eating\")\n",
    "    \n",
    "    def drink(self):\n",
    "        print(\"animal is drinking\")\n",
    "        \n",
    "class Dog(Animal):\n",
    "    \n",
    "    def __init__(self, name, sth, age):\n",
    "        super().__init__(name, sth)  # 新式类的写法\n",
    "        self.age = age\n",
    "    \n",
    "    def run(self):\n",
    "        print(\"dog is running\")\n",
    "\n",
    "class ErHa(Dog):\n",
    "    \n",
    "    def __init__(self, name, sth, age, action):\n",
    "        super().__init__(name, sth, age)\n",
    "        self.action = action\n",
    "        \n",
    "class Smy(Dog):\n",
    "    \n",
    "    def __init__(self, name, sth, age, action):\n",
    "        super(Smy, self).__init__(name, sth, age)\n",
    "        self.action = action\n",
    "        \n",
    "class Keji(Dog):\n",
    "    \n",
    "    def __init__(self, name, sth, age, action):\n",
    "        super(Dog, self).__init__(name, age)\n",
    "        self.action = action\n",
    "        \n",
    "erha = ErHa(\"erha\", \"apple\", 5, \"eat\")\n",
    "print(f\"{erha.name}, {erha.sth}, {erha.age}, {erha.action}\")\n",
    "erha.run()\n",
    "\n",
    "print(\"=\"*20)\n",
    "\n",
    "smy = Smy(\"erha\", \"apple\", 5, \"eat\")\n",
    "print(f\"{smy.name}, {smy.sth}, {smy.action}\")\n",
    "smy.run()\n",
    "\n",
    "print(\"=\"*20)\n",
    "\n",
    "keji = Keji(\"erha\", \"apple\", 5, \"eat\")\n",
    "print(f\"{keji.name}, {keji.sth}, {keji.action}\")\n",
    "keji.run()\n",
    "keji.drink()"
   ]
  },
  {
   "cell_type": "markdown",
   "metadata": {},
   "source": [
    "----"
   ]
  },
  {
   "cell_type": "markdown",
   "metadata": {},
   "source": [
    "### __xx类型"
   ]
  },
  {
   "cell_type": "code",
   "execution_count": 21,
   "metadata": {},
   "outputs": [
    {
     "name": "stdout",
     "output_type": "stream",
     "text": [
      "zhangsan 40\n",
      "lisi 50\n"
     ]
    }
   ],
   "source": [
    "class Person(object):\n",
    "    \n",
    "    def __init__(self, name, age):\n",
    "        self.name = name\n",
    "        self.age = age\n",
    "        \n",
    "p0 = Person(\"zhangsan\", 40)\n",
    "p1 = Person(\"lisi\", 50)\n",
    "print(p0.name, p0.age)\n",
    "print(p1.name, p1.age)"
   ]
  },
  {
   "cell_type": "code",
   "execution_count": 42,
   "metadata": {},
   "outputs": [],
   "source": [
    "# class Person(object):\n",
    "    \n",
    "#     def __init__(self, name, age):\n",
    "#         self.__name = name\n",
    "#         self.__age = age\n",
    "        \n",
    "# p0 = Person(\"zhangsan\", 40)\n",
    "# p1 = Person(\"lisi\", 50)\n",
    "# print(p0.__name, p0.__age)\n",
    "# print(p1.__name, p1.__age)"
   ]
  },
  {
   "cell_type": "code",
   "execution_count": 23,
   "metadata": {},
   "outputs": [
    {
     "name": "stdout",
     "output_type": "stream",
     "text": [
      "zhangsan 40\n",
      "lisi 50\n"
     ]
    }
   ],
   "source": [
    "class Person(object):\n",
    "    \n",
    "    def __init__(self, name, age):\n",
    "        self.__name = name\n",
    "        self.__age = age\n",
    "    \n",
    "    def get_name(self):\n",
    "        return self.__name\n",
    "    \n",
    "    def get_age(self):\n",
    "        return self.__age\n",
    "        \n",
    "p0 = Person(\"zhangsan\", 40)\n",
    "p1 = Person(\"lisi\", 50)\n",
    "print(p0.get_name(), p0.get_age())\n",
    "print(p1.get_name(), p1.get_age())"
   ]
  },
  {
   "cell_type": "code",
   "execution_count": 24,
   "metadata": {},
   "outputs": [
    {
     "name": "stdout",
     "output_type": "stream",
     "text": [
      "zhangsan 40\n",
      "lisi NO\n"
     ]
    }
   ],
   "source": [
    "class Person(object):\n",
    "    \n",
    "    def __init__(self, name, age):\n",
    "        self.__name = name\n",
    "        self.__age = age\n",
    "    \n",
    "    def get_name(self):\n",
    "        return self.__name\n",
    "    \n",
    "    def get_age(self):\n",
    "        if self.__name == \"zhangsan\":\n",
    "            return self.__age\n",
    "        else:\n",
    "            return \"NO\"\n",
    "        \n",
    "p0 = Person(\"zhangsan\", 40)\n",
    "p1 = Person(\"lisi\", 50)\n",
    "print(p0.get_name(), p0.get_age())\n",
    "print(p1.get_name(), p1.get_age())"
   ]
  },
  {
   "cell_type": "markdown",
   "metadata": {},
   "source": [
    "----"
   ]
  },
  {
   "cell_type": "markdown",
   "metadata": {},
   "source": [
    "### 装饰器"
   ]
  },
  {
   "cell_type": "code",
   "execution_count": 25,
   "metadata": {},
   "outputs": [
    {
     "name": "stdout",
     "output_type": "stream",
     "text": [
      "hello\n",
      "hello\n"
     ]
    }
   ],
   "source": [
    "def say_hello():\n",
    "    print(\"hello\")\n",
    "    \n",
    "def say_goodbye():\n",
    "    print(\"hello\")\n",
    "    \n",
    "if __name__ == \"__main__\":\n",
    "    say_hello()\n",
    "    say_goodbye()"
   ]
  },
  {
   "cell_type": "code",
   "execution_count": 26,
   "metadata": {},
   "outputs": [
    {
     "name": "stdout",
     "output_type": "stream",
     "text": [
      "[DEBUG]: enter say_hello()\n",
      "hello!\n",
      "[DEBUG]: enter say_goodbye()\n",
      "hello!\n"
     ]
    }
   ],
   "source": [
    "\"\"\"\n",
    "[DEBUG]: Enter say_hello()\n",
    "Hello!\n",
    "[DEBUG]: Enter say_goodbye()\n",
    "Hello!\n",
    "\"\"\"\n",
    "\n",
    "def say_hello():\n",
    "    print(\"[DEBUG]: enter say_hello()\")\n",
    "    print(\"hello!\")\n",
    "\n",
    "def say_goodbye():\n",
    "    print(\"[DEBUG]: enter say_goodbye()\")\n",
    "    print(\"hello!\")\n",
    "\n",
    "if __name__ == '__main__':\n",
    "    say_hello()\n",
    "    say_goodbye()"
   ]
  },
  {
   "cell_type": "code",
   "execution_count": 27,
   "metadata": {},
   "outputs": [
    {
     "name": "stdout",
     "output_type": "stream",
     "text": [
      "say_hello\n",
      "[DEBUG]: enter say_hello()\n",
      "hello!\n",
      "say_goodbye\n",
      "[DEBUG]: enter say_goodbye()\n",
      "hello!\n"
     ]
    }
   ],
   "source": [
    "def debug():\n",
    "    import inspect\n",
    "    caller_name = inspect.stack()[1][3]  # 获取函数名称\n",
    "    print(inspect.stack()[1][3])\n",
    "    print(f\"[DEBUG]: enter {caller_name}()\")\n",
    "\n",
    "def say_hello():\n",
    "    debug()\n",
    "    print(\"hello!\")\n",
    "\n",
    "def say_goodbye():\n",
    "    debug()\n",
    "    print(\"hello!\")\n",
    "\n",
    "if __name__ == '__main__':\n",
    "    say_hello()\n",
    "    say_goodbye()"
   ]
  },
  {
   "cell_type": "code",
   "execution_count": 28,
   "metadata": {},
   "outputs": [
    {
     "name": "stdout",
     "output_type": "stream",
     "text": [
      "[DEBUG]: enter say_hello()\n",
      "hello\n"
     ]
    }
   ],
   "source": [
    "# 早些的时候 python < 2.4，我们为函数添加额外的功能\n",
    "\n",
    "def debug(func):  # 对原函数进行包装，然后返回到另一个函数，添加一些额外的功能。但是写法不是很优雅！\n",
    "    def wrapper():\n",
    "        print(f\"[DEBUG]: enter {func.__name__}()\")\n",
    "        return func()\n",
    "    return wrapper\n",
    "\n",
    "def say_hello():\n",
    "    print(\"hello\")\n",
    "    \n",
    "\n",
    "say_hello = debug(say_hello)\n",
    "say_hello()"
   ]
  },
  {
   "cell_type": "code",
   "execution_count": 29,
   "metadata": {},
   "outputs": [
    {
     "name": "stdout",
     "output_type": "stream",
     "text": [
      "[DEBUG]: enter say_hello()\n",
      "hello!\n"
     ]
    }
   ],
   "source": [
    "def debug(func):\n",
    "    def wrapper():\n",
    "        print(f\"[DEBUG]: enter {func.__name__}()\")\n",
    "        return func()\n",
    "    return wrapper\n",
    "\n",
    "@debug\n",
    "def say_hello():\n",
    "    print(\"hello!\")\n",
    "    \n",
    "say_hello()"
   ]
  },
  {
   "cell_type": "code",
   "execution_count": 30,
   "metadata": {},
   "outputs": [
    {
     "name": "stdout",
     "output_type": "stream",
     "text": [
      "in func2\n"
     ]
    }
   ],
   "source": [
    "def decor(func1):\n",
    "    \n",
    "    def func2():\n",
    "        print(\"in func2\")\n",
    "    return func2\n",
    "\n",
    "@decor\n",
    "def func1():\n",
    "    print(\"in func1\")\n",
    "    \n",
    "test = decor(func1)\n",
    "\n",
    "test()"
   ]
  },
  {
   "cell_type": "markdown",
   "metadata": {},
   "source": [
    "-----"
   ]
  },
  {
   "cell_type": "markdown",
   "metadata": {},
   "source": [
    "### 注解的使用"
   ]
  },
  {
   "cell_type": "code",
   "execution_count": 31,
   "metadata": {},
   "outputs": [],
   "source": [
    "class property(object):\n",
    "    \"\"\"\n",
    "    property(fget=None, fset=None, fdel=None, doc=None) -> property属性值\n",
    "    \n",
    "   fget是一个用于获取属性值的函数，fset是设置属性值的函数，fdel是删除属性值的方法，doc则是创建属性的文档字符串，典型的托管属性x实例如下:\n",
    "    \n",
    "    class C(object):\n",
    "        def getx(self): return self._x\n",
    "        def setx(self, value): self._x = value\n",
    "        def delx(self): del self._x\n",
    "        x = property(getx, setx, delx, \"I'm the 'x' property.\")\n",
    "    \n",
    "   装饰器使定义新属性或修改现有属性变得容易:\n",
    "    \n",
    "    class C(object):\n",
    "        @property\n",
    "        def x(self):\n",
    "            \"I am the 'x' property.\"\n",
    "            return self._x\n",
    "        @x.setter\n",
    "        def x(self, value):\n",
    "            self._x = value\n",
    "        @x.deleter\n",
    "        def x(self):\n",
    "            del self._x\n",
    "    \"\"\"\n",
    "    def deleter(self, *args, **kwargs): # real signature unknown\n",
    "        \"\"\" Descriptor to change the deleter on a property. \"\"\"\n",
    "        pass\n",
    "\n",
    "    def getter(self, *args, **kwargs): # real signature unknown\n",
    "        \"\"\" Descriptor to change the getter on a property. \"\"\"\n",
    "        pass\n",
    "\n",
    "    def setter(self, *args, **kwargs): # real signature unknown\n",
    "        \"\"\" Descriptor to change the setter on a property. \"\"\"\n",
    "        pass\n",
    "\n",
    "    def __delete__(self, *args, **kwargs): # real signature unknown\n",
    "        \"\"\" Delete an attribute of instance. \"\"\"\n",
    "        pass\n",
    "\n",
    "    def __getattribute__(self, *args, **kwargs): # real signature unknown\n",
    "        \"\"\" Return getattr(self, name). \"\"\"\n",
    "        pass\n",
    "\n",
    "    def __get__(self, *args, **kwargs): # real signature unknown\n",
    "        \"\"\" Return an attribute of instance, which is of type owner. \"\"\"\n",
    "        pass\n",
    "\n",
    "    def __init__(self, fget=None, fset=None, fdel=None, doc=None): # known special case of property.__init__\n",
    "        pass\n",
    "\n",
    "    @staticmethod # known case of __new__\n",
    "    def __new__(*args, **kwargs): # real signature unknown\n",
    "        \"\"\" Create and return a new object.  See help(type) for accurate signature. \"\"\"\n",
    "        pass\n",
    "\n",
    "    def __set__(self, *args, **kwargs): # real signature unknown\n",
    "        \"\"\" Set an attribute of instance to value. \"\"\"\n",
    "        pass\n",
    "\n",
    "    fdel = property(lambda self: object(), lambda self, v: None, lambda self: None)  # default\n",
    "\n",
    "    fget = property(lambda self: object(), lambda self, v: None, lambda self: None)  # default\n",
    "\n",
    "    fset = property(lambda self: object(), lambda self, v: None, lambda self: None)  # default\n",
    "\n",
    "    __isabstractmethod__ = property(lambda self: object(), lambda self, v: None, lambda self: None)  # default"
   ]
  },
  {
   "cell_type": "code",
   "execution_count": 1,
   "metadata": {},
   "outputs": [
    {
     "name": "stdout",
     "output_type": "stream",
     "text": [
      "zhangsan 40\n",
      "lisi NO\n"
     ]
    }
   ],
   "source": [
    "class Person(object):\n",
    "    \n",
    "    def __init__(self, name, age):\n",
    "        self.__name = name\n",
    "        self.__age = age\n",
    "    \n",
    "    def get_name(self):\n",
    "        return self.__name\n",
    "    \n",
    "    def get_age(self):\n",
    "        if self.__name == \"zhangsan\":\n",
    "            return self.__age\n",
    "        else:\n",
    "            return \"NO\"\n",
    "    \n",
    "    name = property(get_name)\n",
    "    age = property(get_age)\n",
    "        \n",
    "p0 = Person(\"zhangsan\", 40)\n",
    "p1 = Person(\"lisi\", 50)\n",
    "print(p0.name, p0.age)\n",
    "print(p1.name, p1.age)"
   ]
  },
  {
   "cell_type": "code",
   "execution_count": 2,
   "metadata": {},
   "outputs": [
    {
     "name": "stdout",
     "output_type": "stream",
     "text": [
      "zhangsan 40\n",
      "lisi NO\n"
     ]
    }
   ],
   "source": [
    "class Person(object):\n",
    "    \n",
    "    def __init__(self, name, age):\n",
    "        self.__name = name\n",
    "        self.__age = age\n",
    "    \n",
    "    @property\n",
    "    def name(self):\n",
    "        return self.__name\n",
    "    \n",
    "    @property\n",
    "    def age(self):\n",
    "        if self.__name == \"zhangsan\":\n",
    "            return self.__age\n",
    "        else:\n",
    "            return \"NO\"\n",
    "    \n",
    "#     name = property(get_name)\n",
    "#     age = property(get_age)\n",
    "        \n",
    "p0 = Person(\"zhangsan\", 40)\n",
    "p1 = Person(\"lisi\", 50)\n",
    "print(p0.name, p0.age)\n",
    "print(p1.name, p1.age)"
   ]
  },
  {
   "cell_type": "code",
   "execution_count": 3,
   "metadata": {},
   "outputs": [
    {
     "name": "stdout",
     "output_type": "stream",
     "text": [
      "zhangsan 18\n",
      "lisi NO\n"
     ]
    }
   ],
   "source": [
    "class Person(object):\n",
    "    \n",
    "    def __init__(self, name, age):\n",
    "        self.__name = name\n",
    "        self.__age = age\n",
    "    \n",
    "    def get_name(self):\n",
    "        return self.__name\n",
    "    \n",
    "    def get_age(self):\n",
    "        if self.__name == \"zhangsan\":\n",
    "            return self.__age\n",
    "        else:\n",
    "            return \"NO\"\n",
    "        \n",
    "    def set_name(self, value):\n",
    "        self.__name = value\n",
    "    \n",
    "    def set_age(self, value):\n",
    "        self.__age = value\n",
    "    \n",
    "    name = property(get_name, set_name)\n",
    "    age = property(get_age, set_age)\n",
    "        \n",
    "p0 = Person(\"zhangsan\", 40)\n",
    "p1 = Person(\"lisi\", 50)\n",
    "p0.age = 18\n",
    "print(p0.name, p0.age)\n",
    "print(p1.name, p1.age)"
   ]
  },
  {
   "cell_type": "code",
   "execution_count": 4,
   "metadata": {},
   "outputs": [
    {
     "name": "stdout",
     "output_type": "stream",
     "text": [
      "zhangsan 20\n"
     ]
    }
   ],
   "source": [
    "class Person(object):\n",
    "    \n",
    "    def __init__(self, name, age):\n",
    "        self.__name = name\n",
    "        self.__age = age\n",
    "    \n",
    "    @property\n",
    "    def name(self):\n",
    "        return self.__name\n",
    "    \n",
    "    @name.setter\n",
    "    def name(self, value):\n",
    "        self.__name = value\n",
    "    \n",
    "    @property\n",
    "    def age(self):\n",
    "        if self.__name == \"zhangsan\":\n",
    "            return self.__age\n",
    "        else:\n",
    "            return \"NO\"\n",
    "    \n",
    "    @age.setter\n",
    "    def age(self, value):\n",
    "        self.__age = value\n",
    "        \n",
    "p0 = Person(\"zhangsan\", 40)\n",
    "p0.age = 20\n",
    "print(p0.name, p0.age)"
   ]
  },
  {
   "cell_type": "markdown",
   "metadata": {},
   "source": [
    "### 实例方法、静态方法、类方法"
   ]
  },
  {
   "cell_type": "code",
   "execution_count": 5,
   "metadata": {},
   "outputs": [
    {
     "name": "stdout",
     "output_type": "stream",
     "text": [
      "是类<class '__main__.Foo'>的实例方法，只能被实例对象调用\n",
      "是静态方法\n",
      "是类方法\n",
      "----------------\n",
      "是静态方法\n",
      "是类方法\n"
     ]
    }
   ],
   "source": [
    "class Foo(object):\n",
    "    \"\"\"类三种方法语法形式\"\"\"\n",
    "\n",
    "    def instance_method(self):\n",
    "        print(\"是类{}的实例方法，只能被实例对象调用\".format(Foo))\n",
    "\n",
    "    @staticmethod\n",
    "    def static_method():\n",
    "        print(\"是静态方法\")\n",
    "\n",
    "    @classmethod\n",
    "    def class_method(cls):\n",
    "        print(\"是类方法\")\n",
    "\n",
    "foo = Foo()\n",
    "foo.instance_method()\n",
    "foo.static_method()\n",
    "foo.class_method()\n",
    "print('----------------')\n",
    "Foo.static_method()\n",
    "Foo.class_method()"
   ]
  },
  {
   "cell_type": "markdown",
   "metadata": {},
   "source": [
    "- 普通实例方法，第一个参数需要是self，它表示一个具体的实例本身\n",
    "- 如果用了staticmethod，那么就可以无视这个self，而将这个方法当成一个普通的函数使用。\n",
    "- 而对于classmethod，它的第一个参数不是self，是cls，它表示这个类本身。\n",
    "\n",
    "---\n",
    "- 实例方法，第一个参数必须要默认传实例对象，一般习惯用self。\n",
    "- 静态方法，参数没有要求。\n",
    "- 类方法，第一个参数必须要默认传类，一般习惯用cls。"
   ]
  },
  {
   "cell_type": "markdown",
   "metadata": {},
   "source": [
    "----"
   ]
  },
  {
   "cell_type": "markdown",
   "metadata": {},
   "source": [
    "- 实例方法只能被实例对象调用\n",
    "- 静态方法(由@staticmethod装饰的方法)、类方法(由@classmethod装饰的方法)，可以被类或类的实例对象调用"
   ]
  },
  {
   "cell_type": "markdown",
   "metadata": {},
   "source": [
    "----"
   ]
  },
  {
   "cell_type": "markdown",
   "metadata": {},
   "source": [
    "继承关系：\n",
    "- 如果子类继承父类的方法，子类覆盖了父类的静态方法\n",
    "- 子类的实例继承了父类的static_method静态方法，调用该方法，还是调用的父类的方法和类属性\n",
    "- 子类的实例继承了父类的class_method类方法，调用该方法，调用的是子类的方法和子类的类属性。"
   ]
  },
  {
   "cell_type": "code",
   "execution_count": 6,
   "metadata": {},
   "outputs": [
    {
     "name": "stdout",
     "output_type": "stream",
     "text": [
      "1.5\n",
      "2.6666666666666665\n"
     ]
    }
   ],
   "source": [
    "class Foo(object):\n",
    "    X = 1\n",
    "    Y = 2\n",
    "\n",
    "    @staticmethod\n",
    "    def averag(*mixes):\n",
    "        return sum(mixes) / len(mixes)  # 3 / 2\n",
    "\n",
    "    @staticmethod\n",
    "    def static_method():\n",
    "        return Foo.averag(Foo.X, Foo.Y)\n",
    "\n",
    "    @classmethod\n",
    "    def class_method(cls):\n",
    "        return cls.averag(cls.X, cls.Y)\n",
    "\n",
    "\n",
    "class Son(Foo):\n",
    "    X = 3\n",
    "    Y = 5\n",
    "\n",
    "    @staticmethod\n",
    "    def averag(*mixes):\n",
    "        return sum(mixes) / 3 # 8 / 3\n",
    "\n",
    "p = Son()\n",
    "print(p.static_method())\n",
    "print(p.class_method())"
   ]
  }
 ],
 "metadata": {
  "kernelspec": {
   "display_name": "Python 3",
   "language": "python",
   "name": "python3"
  },
  "language_info": {
   "codemirror_mode": {
    "name": "ipython",
    "version": 3
   },
   "file_extension": ".py",
   "mimetype": "text/x-python",
   "name": "python",
   "nbconvert_exporter": "python",
   "pygments_lexer": "ipython3",
   "version": "3.7.0"
  }
 },
 "nbformat": 4,
 "nbformat_minor": 2
}
