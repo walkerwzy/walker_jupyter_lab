{
 "cells": [
  {
   "cell_type": "markdown",
   "metadata": {},
   "source": [
    "### 本节主要讲解:开发环境介绍与配置\n",
    "- 本节课目标：\n",
    "    - 能够了解开发环境所用的软件（本公司所用开发软件）\n",
    "    - 能够自行的搭建开发环境\n",
    "    - 能够熟练的使用常用的Linux系统命令"
   ]
  },
  {
   "cell_type": "markdown",
   "metadata": {},
   "source": [
    "### 软件的介绍\n",
    "- 虚拟机：Oracle VM VirtualBox\n",
    "    - 目前常见的虚拟机有：VMware Workstation、Oracle VM VirtualBox\n",
    "    - 本次课程主要在Linux系统环境下进行学习，学员的电脑不是Linux系统的,前期需要在本机电脑上安装虚拟系统，方便学习和开发\n",
    "    - 本次培训的系统环境：Ubuntu 20（桌面版）\n",
    "- 集成开发环境(IDE)：VSCode（visual studio code）\n",
    "    - 作用：编辑、编译代码；项目开发等\n",
    "    - 目前常见的IDE有：VSCode、Pycharm等。\n",
    "    - VScode的介绍\n",
    "        - 开发公司：微软\n",
    "        - 可以运行在Mac OSX、Windows、Linux上，实现跨平台编译;\n",
    "        - 支持多种语言和文件格式的编写;\n",
    "        - 提供了丰富的快捷键;\n",
    "        - 可以连接服务器进行编辑、编译项目;\n",
    "- Anaconda\n",
    "    - 开源的python发行版本，包含conda、python等180多个科学包及其依赖库，因含有大量的科学包，下载文件较大;\n",
    "    - conda 是一个开源的包，环境管理器，可以用于在同一个机器上安装不同版本的软件包（虚拟环境）及其依赖，并能够在不同的环境之间切换；\n",
    "- Jupyter\n",
    "    - 作用：运行python程序，可作为学习和笔记工具\n",
    "    - 优点：嵌入Markdown可以进行文本类记录、运行python可实时交互\n",
    "- FileZilla\n",
    "    - 作用：本地端和服务器之间的文件传输工作\n",
    "- 编辑器：Sublime Text\n",
    "    - 作用：查看代码\n",
    "    - 优点：查看代码时不需要长时间加载或等待\n",
    "\n",
    "### 软件的下载\n",
    "- 虚拟机 Oracle VM VirtualBox：\n",
    "    - 官网下载地址：https://www.virtualbox.org/\n",
    "- VSCode\n",
    "    - 官网下载地址：https://code.visualstudio.com/docs/python/editing\n",
    "- FileZilla\n",
    "    - 官网下载地址：https://filezilla-project.org/\n",
    "- Anaconda（安装在Linux系统中）\n",
    "    - 官网下载地址（下载速度慢）：https://www.anaconda.com/\n",
    "    - 清华开源镜像下载地址：https://mirrors.tuna.tsinghua.edu.cn/anaconda/archive/\n",
    "    - 在Linux系统下安装：https://blog.csdn.net/qq1483661204/article/details/78201451\n",
    "- Sublime Text：\n",
    "    - 官网下载地址：http://www.sublimetext.com/3\n",
    "    \n",
    "    \n",
    "### 软件的安装\n",
    "- 虚拟机、VSCode、Sublime Text：傻瓜式安装\n",
    "    - 虚拟机安装教程(教程不唯一，可以自行百度)：https://blog.csdn.net/qq3399013670/article/details/81937412\n",
    "    - VSCode安装教程(教程不唯一，可以自行百度)：https://jingyan.baidu.com/article/ce43664962cddf3773afd383.html\n",
    "- 虚拟机下安装ubuntu系统教程：\n",
    "    1. 打开 Oracle VM VirtualBox 点击新建，创建新的虚拟机名称\n",
    "    2. 更改文件夹的路径为保存虚拟系统的文件路径\n",
    "    3. 类型选择Linux、版本选择Ubuntu(64-bit)\n",
    "    4. 设置虚拟电脑内存，最好不要少于2048MB\n",
    "    5. 创建虚拟硬盘，选择VDI文件类型，动态分配\n",
    "    6. 定义虚拟磁盘的位置，设置虚拟硬盘的大小，设置为10GB（没有限制）\n",
    "    7. 点击创建，启动，会提示选择启动盘，将ubuntu-20.04.1-desktop-amd64选中进入虚拟机开始安装\n",
    "    8. Ctrl+C 跳出磁盘检测\n",
    "    9. 选择Install Ubuntu --> continue --> normal install --> Something else\n",
    "    10. 硬盘分区策略：https://www.jianshu.com/p/faade736f32f"
   ]
  },
  {
   "cell_type": "markdown",
   "metadata": {},
   "source": [
    "### Linux系统的使用\n",
    "- 下载地址：https://ubuntu.com/download/desktop\n",
    "- 安装好得Linux系统第一步需要更新已安装的包：sudo apt-get upgrade\n",
    "- 比较详细的Linux命令地址：https://blog.csdn.net/qq_23329167/article/details/83856430\n",
    "\n",
    "### linux系统常用的命令（课程中常用的命令）\n",
    "- 显示当前路径：ls\n",
    "- 目录切换:\n",
    "    - 切换到根目录： cd / （根目录：Ubuntu系统目录）\n",
    "    - 切换到home目录：cd ~\n",
    "    - 返回上一级：cd ../\n",
    "    - 当前目录：cd ./\n",
    "- 文件/目录的创建\n",
    "    - mkdir 文件夹名称 eg：mkdir temp\n",
    "    - touch 文件名 eg: touch temp.txt\n",
    "- 目录重名和拷贝\n",
    "    - mv 旧文件/目录名 新文件/目录名 eg：mv temp.txt temp.py\n",
    "    - cp -r 目标文件/目录 目标路径 eg: cp -r ../../temp.py ./\n",
    "- 删除\n",
    "    - rm -rf 文件/目录名称\n",
    "- 修改文件\n",
    "    - vi 文件名称\n",
    "- 解压命令：tar -zxvf xxx.tar\n",
    "- 压缩命令：tar -zcvf xxx.tar xxx.txt\n",
    "- 查找文件位置：whereis python\n",
    "- 切换用户：su root  （出现：Authentication failure问题：sudo passwd root 命令）\n",
    "- 查看ip地址：ifconfig\n",
    "- 查看当前目录：pwd\n",
    "- 查看python进程 ps -e | grep python\n",
    "- 删除进程：kill -9 pid(进程号)\n",
    "- 查看机器间的连接情况：ping 目标机器的ip"
   ]
  },
  {
   "cell_type": "markdown",
   "metadata": {},
   "source": [
    "### Linux系统下安装Anaconda\n",
    " - 到Linux的浏览器中下载Anaconda（如果本地下载好，或者网速慢，可以使用FileZilla进行文件的传输)\n",
    " - cd到Anaconda目录，输入：bash Anaconda3-5.3.1-Linux-x86_64.sh\n",
    " - 一直回车， 输入yes\n",
    " - 设置安装路径，默认为用户目录下\n",
    " - 回车，开始安装\n",
    " - 安装成功后，重新打开一个终端，输入 pip list 进行查看所安装的库"
   ]
  },
  {
   "cell_type": "markdown",
   "metadata": {},
   "source": [
    "### 使用vscode 连接 Linux\n",
    "- 比较好的网上安装教程：https://blog.csdn.net/junbaba_/article/details/111590179\n",
    "- 确保Linux系统中是否含有sshd（ssh建立在应用基础上的安全协议，专为远程登录会话和其它网络服务提供安全性的协议）\n",
    "- 输入命令：ps -e | grep ssh 查看是否有sshd\n",
    "- 如果没有则安装：sudo apt-get install openssh-server\n",
    "- 打开Vscode，点击扩展，安装Remote-SSH\n",
    "- 点击远程资源管理器，进行.ssh文件的配置：输入\n",
    "    - Host 192.168.39.58(输入自己Linux系统中的ip地址)\n",
    "      - HostName 192.168.39.58（输入自己Linux系统中的ip地址）\n",
    "      - User deepblue（输入自己Linux系统中的用户名）\n",
    "- 配置完成后，左侧出现相应的配置信息，右击选择Connect to Host in Current Window, 输入密码连接到本机。"
   ]
  },
  {
   "cell_type": "markdown",
   "metadata": {},
   "source": [
    "### 创建虚拟开发环境"
   ]
  },
  {
   "cell_type": "markdown",
   "metadata": {},
   "source": [
    "创建一个在vscode中创建一个新的终端\n",
    "- 查看目前所使用的虚拟开发环境：conda env list\n",
    "- 创建虚拟开发环境：conda create -n 虚拟环境名 python=版本号  （注意：创建虚拟环境需要有网络）\n",
    "- 使用创建好的虚拟环境: conda activate 虚拟环境名\n",
    "- 退出当前虚拟环境：deactivate env_name\n",
    "- 删除虚拟环境：conda remove -n 虚拟环境名 --all\n",
    "\n",
    "注意：虚拟环境创建失败，使用如下方法解决：\n",
    "- 移除当前默认镜像：conda config --remove-key channels\n",
    "- 重新添加镜像：conda config --append channels conda-forge --append channels bioconda"
   ]
  },
  {
   "cell_type": "markdown",
   "metadata": {},
   "source": [
    "### 打开Jupyter"
   ]
  },
  {
   "cell_type": "markdown",
   "metadata": {},
   "source": [
    "- 打开控制台，输入 jupyter lab"
   ]
  }
 ],
 "metadata": {
  "kernelspec": {
   "display_name": "Python 3",
   "language": "python",
   "name": "python3"
  },
  "language_info": {
   "codemirror_mode": {
    "name": "ipython",
    "version": 3
   },
   "file_extension": ".py",
   "mimetype": "text/x-python",
   "name": "python",
   "nbconvert_exporter": "python",
   "pygments_lexer": "ipython3",
   "version": "3.7.10"
  }
 },
 "nbformat": 4,
 "nbformat_minor": 4
}
