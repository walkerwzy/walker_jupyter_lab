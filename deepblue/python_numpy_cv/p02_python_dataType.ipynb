{
 "cells": [
  {
   "cell_type": "markdown",
   "metadata": {},
   "source": [
    "### python语言的特性\n",
    "- python语言的优点\n",
    "    - 免费、开源：用户可以自由的发布这个软件的拷贝、阅读它的源代码；\n",
    "    - 高层语言：使用python编译时，不需要考虑程序底层的细节；\n",
    "    - 可移植性强：在Linux下的程序可以拿到win和mac下运行；\n",
    "- python语言的缺点：\n",
    "    - 速度慢：由于python是解释型语言,在程序运行的时候没有编译的过程。运行时，解释器对程序逐行进行解释，然后再执行。（可以通过对解释器的优化提高速度）"
   ]
  },
  {
   "cell_type": "markdown",
   "metadata": {},
   "source": [
    "### python的输入输出和注释"
   ]
  },
  {
   "cell_type": "raw",
   "metadata": {},
   "source": [
    "\"\"\"\n",
    "下面这个方法打印的是hello world\n",
    "下面这个方法打印的是hello world\n",
    "下面这个方法打印的是hello world\n",
    "下面这个方法打印的是hello world\n",
    "下面这个方法打印的是hello world\n",
    "\"\"\"\n",
    "print(\"hello world\")  # 打印hello world\n",
    "print(\"=\"*20)\n",
    "print(\"hello\\nworld\")\n",
    "print(\"=\"*20)\n",
    "print(\"hello\\tworld\")\n",
    "print(\"=\"*20)\n",
    "print(\"hello\\rworld\")\n",
    "print(\"=\"*20)\n",
    "\n",
    "print(r\"hello\\nworld\")\n",
    "print(\"=\"*20)\n",
    "print(r\"hello\\tworld\")\n",
    "print(\"=\"*20)\n",
    "print(r\"hello\\rworld\")\n",
    "print(\"=\"*20)\n",
    "\n",
    "print(R\"hello\\nworld\")\n",
    "print(\"=\"*20)\n",
    "print(R\"hello\\tworld\")\n",
    "print(\"=\"*20)\n",
    "print(R\"hello\\rworld\")"
   ]
  },
  {
   "cell_type": "raw",
   "metadata": {},
   "source": [
    "input(\"pls input your name:\")  # 输入名字"
   ]
  },
  {
   "cell_type": "markdown",
   "metadata": {},
   "source": [
    "### 格式化输出"
   ]
  },
  {
   "cell_type": "raw",
   "metadata": {},
   "source": [
    "print(\"a = %d\"%a)  # d -- decimal\n",
    "print(\"a = %6d\"%a) \n",
    "print(\"a = %06d\"%a)\n",
    "print(\"b = %f\"%b)  # f -- float\n",
    "print(\"b = %.2f\"%b)\n",
    "print(\"b = %.10f\"%b)\n",
    "print(\"d = %s\"%d)  # s -- string"
   ]
  },
  {
   "cell_type": "raw",
   "metadata": {},
   "source": [
    "print(f\"a = {a}, b = {b}, c = {b}\")\n",
    "print(f\"a = {a:6d}, b = {b:.2f}, c = {b}\")\n",
    "print(f\"a = {a:06d}, b = {b:.10f}, c = {b}\")\n",
    "\n",
    "print(\"a = {}, b = {}, c = {}\".format(a, b, c))\n",
    "print(\"a = {:6d}, b = {:.2f}, c = {}\".format(a, b, c))\n",
    "print(\"a = {:06d}, b = {:.10f}, c = {}\".format(a, b, c))"
   ]
  },
  {
   "cell_type": "markdown",
   "metadata": {},
   "source": [
    "### 变量和赋值"
   ]
  },
  {
   "cell_type": "raw",
   "metadata": {},
   "source": [
    "\"\"\"\n",
    "1. 在python中，每个变量在使用前必须赋值，变量只有在赋值后才会被创建，否则提示：NameError；\n",
    "2. 使用 \"=\" 可以给变量进行赋值操作，左边是变量名，右边是变量的值；\n",
    "3. 变量的命名也成称标识符，是变量名和函数名\n",
    "    3.1 标识符可以由字母(区分大小写)、下划线、数字组成，但是不能以 数字 和 关键字 命名。\n",
    "    3.2 命名方法：\n",
    "        3.2.1 官方命名法：first_name(由多个单词组成时用下划线分割)\n",
    "        3.2.2 小驼峰：firstName\n",
    "        3.2.3 大驼峰：FirstName\n",
    "\"\"\"\n",
    "# name = \"martin\"\n",
    "name = \"martin\"\n",
    "Name = \"martin\"\n",
    "_name = \"martin\"\n",
    "# 2name = \"martin\"\n",
    "my_name = \"martin\"\n",
    "myName = \"martin\"\n",
    "MyName = \"martin\"\n",
    "\n",
    "name, Name, _name, my_name, myName, MyName  # , 2name"
   ]
  },
  {
   "cell_type": "markdown",
   "metadata": {},
   "source": [
    "### 数据类型"
   ]
  },
  {
   "cell_type": "raw",
   "metadata": {},
   "source": [
    "a = 123\n",
    "b = 1.23\n",
    "c = 123j\n",
    "d = \"123\"\n",
    "e = [1, 2, 3]\n",
    "f = {1, 2, 3}\n",
    "g = {1:\"1\", 2:\"2\", 3:\"3\"}\n",
    "h = (1, 2, 3)\n",
    "print(f\"type(a)={type(a)}\\ntype(b)={type(b)}\\ntype(c)={type(c)}\\ntype(d)={type(d)}\\ntype(e)={type(e)}\\ntype(f)={type(f)}\\ntype(g)={type(g)}\\ntype(h)={type(h)}\")"
   ]
  },
  {
   "cell_type": "markdown",
   "metadata": {},
   "source": [
    "### Number(数字类型)： \n",
    "- type(a)=<class 'int'>\n",
    "- type(b)=<class 'float'>\n",
    "- type(c)=<class 'complex'>"
   ]
  },
  {
   "cell_type": "raw",
   "metadata": {},
   "source": [
    "num1 = 100\n",
    "num2 = 2\n",
    "num3 = num1 + num2\n",
    "num4 = num1 - num2\n",
    "num5 = num1 * num2\n",
    "num6 = num1 ** num2  # 幂运算\n",
    "num7 = num1 / num2\n",
    "num8 = num1 // num2  # 整除\n",
    "num9 = num1 % num2\n",
    "num10 = num1 << num2  # num1 * 2^num2\n",
    "num11 = num1 >> num2  # num1 / 2^num2\n",
    "\n",
    "num3,num4,num5,num6,num7,num8,num9,num10,num11"
   ]
  },
  {
   "cell_type": "raw",
   "metadata": {},
   "source": [
    "num1 = 100.\n",
    "num2 = 2.\n",
    "num3 = num1 + num2\n",
    "num4 = num1 - num2\n",
    "num5 = num1 * num2\n",
    "num6 = num1 / num2\n",
    "num7 = num1 % num2\n",
    "num8 = num1 // num2\n",
    "num9 = num1 ** num2\n",
    "\n",
    "num3,num4,num5,num6,num7, num8, num9"
   ]
  },
  {
   "cell_type": "raw",
   "metadata": {},
   "source": [
    "num1 = 100j\n",
    "num2 = 2j\n",
    "num3 = num1 + num2\n",
    "num4 = num1 - num2\n",
    "num5 = num1 * num2\n",
    "num6 = num1 / num2\n",
    "num8 = num1 ** num2\n",
    "\n",
    "num3,num4,num5,num6, num8"
   ]
  },
  {
   "cell_type": "raw",
   "metadata": {},
   "source": [
    "num1 = 8  # 为峰值\n",
    "num2 = 10\n",
    "num3 = num1 & num2\n",
    "\n",
    "num1 = 8\n",
    "num2 = 9  # 为峰值\n",
    "num3 = num1 | num2"
   ]
  },
  {
   "cell_type": "raw",
   "metadata": {},
   "source": [
    "bin(num1),bin(num2)"
   ]
  },
  {
   "cell_type": "raw",
   "metadata": {},
   "source": [
    "1&1, 1&0, 0&1, 0&0\n",
    "1|1, 1|0, 0|1, 0|0\n",
    "1000 & 1001, 1000 | 1001"
   ]
  },
  {
   "cell_type": "raw",
   "metadata": {},
   "source": [
    "oct(num1), oct(num2)\n",
    "hex(num1), hex(num2)\n",
    "int(0b1000), int(0x8), int(0o10)"
   ]
  },
  {
   "cell_type": "raw",
   "metadata": {},
   "source": [
    "num1 = 9.40\n",
    "int(num1+0.5)\n",
    "num2 = 9.50\n",
    "int(num2+0.5)"
   ]
  },
  {
   "cell_type": "markdown",
   "metadata": {},
   "source": [
    "### String（字符串型）:\n",
    "- type(d)=<class 'str'>"
   ]
  },
  {
   "cell_type": "raw",
   "metadata": {},
   "source": [
    "str1 = \"123456789\""
   ]
  },
  {
   "cell_type": "raw",
   "metadata": {},
   "source": [
    "str2 = str1[0]\n",
    "str3 = str1[0:5]  # index取值范围：0-4\n",
    "str4 = str1[:5]\n",
    "str5 = str1[0:5:2]  # begin:0, end:5-1, stride=2\n",
    "str6 = str1 + str1\n",
    "str7 = str1 * 2\n",
    "str8 = str1[::-1]\n",
    "\n",
    "str2, str3, str4, str5, str6, str7, str8"
   ]
  },
  {
   "cell_type": "raw",
   "metadata": {},
   "source": [
    "char = \",\"\n",
    "info = \"abcdefg\"\n",
    "info = char.join(info)\n",
    "info"
   ]
  },
  {
   "cell_type": "raw",
   "metadata": {},
   "source": [
    "strs = \"abcdEFG\"\n",
    "strs = strs.lower()\n",
    "strs"
   ]
  },
  {
   "cell_type": "raw",
   "metadata": {},
   "source": [
    "strs.find(\"2\")"
   ]
  },
  {
   "cell_type": "raw",
   "metadata": {},
   "source": [
    "strs.replace(\"d\", \"\")"
   ]
  },
  {
   "cell_type": "raw",
   "metadata": {},
   "source": [
    "# help(str)"
   ]
  },
  {
   "cell_type": "markdown",
   "metadata": {},
   "source": [
    "### List（列表）:\n",
    "- type(e)=<class 'list'>"
   ]
  },
  {
   "cell_type": "raw",
   "metadata": {},
   "source": [
    "str_list = [\"a\", \"b\", \"c\", \"1\", \"2\", \"3\"]\n",
    "num_list = [1, 2, 3, 4, 5, 6]\n",
    "mix_list = [\"a\", \"b\", \"c\", 1, 2, 3]"
   ]
  },
  {
   "cell_type": "markdown",
   "metadata": {},
   "source": [
    "- 查看列表的长度\n",
    "- 访问列表元素\n",
    "- 更改列表元素\n",
    "- 增加列表元素\n",
    "- 删除列表元素"
   ]
  },
  {
   "cell_type": "raw",
   "metadata": {},
   "source": [
    "# 查看列表的长度\n",
    "print(f\"len(mix_list)={len(mix_list)}\")\n",
    "\n",
    "# 访问元素\n",
    "new_list1 = mix_list[0]\n",
    "new_list2 = mix_list[1:5]\n",
    "new_list3 = mix_list[1:5:2]\n",
    "new_list4 = mix_list[-1]\n",
    "new_list5 = mix_list[::-1]\n",
    "print(f\"new_list1={new_list1}, new_list2={new_list2}, new_list3={new_list3}, \\\n",
    "      new_list4={new_list4}, new_list5={new_list5}\")\n",
    "\n",
    "# 更改元素\n",
    "change_element = mix_list.copy()\n",
    "change_element[0] = \"martin\"\n",
    "print(f\"change_elemet = {change_element}\")\n",
    "\n",
    "\n",
    "# 增加元素\n",
    "new_mix_list = mix_list.copy()\n",
    "\n",
    "new_mix_list.append(\"d\")\n",
    "print(f\"new_mix_list={new_mix_list}\")\n",
    "\n",
    "new_mix_list.append([1, \"d\", \"e\", 2])\n",
    "print(f\"new_mix_list={new_mix_list}\")\n",
    "\n",
    "new_mix_list = new_mix_list + [1, \"d\", \"e\", 2]\n",
    "print(f\"new_mix_list={new_mix_list}\")\n",
    "\n",
    "new_mix_list.extend([1, \"d\", \"e\", 2])\n",
    "print(f\"new_mix_list={new_mix_list}\")\n",
    "\n",
    "new_mix_list.insert(0, \"martin\")\n",
    "print(f\"new_mix_list={new_mix_list}\")\n",
    "\n",
    "# 删除元素\n",
    "print(\"=\"*20)\n",
    "new_mix_list0 = mix_list\n",
    "print(\"mix_list:\", id(mix_list))\n",
    "print(\"new_mix_list0\", id(new_mix_list0))\n",
    "print(\"=\"*20)\n",
    "new_mix_list1 = mix_list.copy()\n",
    "print(\"mix_list:\", id(mix_list))\n",
    "print(\"new_mix_list1\", id(new_mix_list1))\n",
    "print(\"=\"*20)\n",
    "\n",
    "\n",
    "del_list1 = new_mix_list1.copy()\n",
    "del del_list1[0]\n",
    "print(f\"del_list1={del_list1}\")\n",
    "\n",
    "del_list2 = new_mix_list1.copy()\n",
    "del del_list2[1:5]\n",
    "print(f\"del_list2={del_list2}\")\n",
    "\n",
    "del_list3 = new_mix_list1.copy()\n",
    "del del_list3[1:5:2]\n",
    "print(f\"del_list3={del_list3}\")\n",
    "\n",
    "pop_list = mix_list.copy()\n",
    "# pop_list.pop()\n",
    "pop_list.pop(2)\n",
    "print(f\"pop_list={pop_list}\")\n",
    "\n",
    "remove_list = mix_list.copy()\n",
    "remove_list.remove(\"c\")\n",
    "print(f\"remove_list={remove_list}\")"
   ]
  },
  {
   "cell_type": "markdown",
   "metadata": {},
   "source": [
    "list 反转"
   ]
  },
  {
   "cell_type": "raw",
   "metadata": {},
   "source": [
    "# list反转\n",
    "new_list = [1,2,3,4,5,6,7,8,9]\n",
    "new_list.reverse()\n",
    "new_list"
   ]
  },
  {
   "cell_type": "raw",
   "metadata": {},
   "source": [
    "strs = \"1 2 3 4 5 6 7 8 9\"\n",
    "chars_list = strs.split(\" \")\n",
    "chars_list"
   ]
  },
  {
   "cell_type": "markdown",
   "metadata": {},
   "source": [
    "2021.04.01"
   ]
  },
  {
   "cell_type": "raw",
   "metadata": {},
   "source": [
    "lists = [[1]*2]*3\n",
    "lists"
   ]
  },
  {
   "cell_type": "raw",
   "metadata": {},
   "source": [
    "lists[0][0] = 2\n",
    "lists"
   ]
  },
  {
   "cell_type": "raw",
   "metadata": {},
   "source": [
    "for i in lists:\n",
    "    print(id(i))"
   ]
  },
  {
   "cell_type": "markdown",
   "metadata": {},
   "source": [
    "### random 随机数"
   ]
  },
  {
   "cell_type": "raw",
   "metadata": {},
   "source": [
    "import random\n",
    "# dir(random)\n",
    "# help(random.random)\n",
    "print(random.randint(1,10))        # 产生 1 到 10 的一个整数型随机数  \n",
    "print(random.random())             # 产生 0 到 1 之间的随机浮点数\n",
    "print(random.uniform(1.1,5.4))     # 产生  1.1 到 5.4 之间的随机浮点数，区间可以不是整数\n",
    "print(random.randrange(1,100,2))   # 生成从1到100的间隔为2的随机整数\n",
    "print(random.sample(\"123456\", 5))  # 从当前的字符中选取5个字符"
   ]
  },
  {
   "cell_type": "markdown",
   "metadata": {},
   "source": [
    "数据样本处理"
   ]
  },
  {
   "cell_type": "raw",
   "metadata": {},
   "source": [
    "temp_list = [\"./home/0.0001.jpg\",\"./home/0.0002.jpg\",\"./home/0.0003.jpg\",\"./home/0.0004.jpg\",\"./home/0.0005.jpg\"]\n",
    "random.shuffle(temp_list)\n",
    "print(temp_list)"
   ]
  },
  {
   "cell_type": "markdown",
   "metadata": {},
   "source": [
    "实现验证码随机生成功能"
   ]
  },
  {
   "cell_type": "raw",
   "metadata": {},
   "source": [
    "import random\n",
    "info_list = [\"1\",\"2\",\"3\",\"4\",\"5\",\"6\",\"7\",\"8\",\"9\",\"0\",\"a\",\"b\",\"c\",\"d\",\"e\",\"f\",\"g\",\"h\",\"i\",\"j\",\"k\",\"l\",\"m\",\"n\"\n",
    "             ,\"o\",\"p\",\"q\",\"r\",\"s\",\"t\",\"u\",\"v\",\"w\",\"x\",\"y\",\"z\",\"A\",\"B\",\"C\",\"D\",\"E\",\"F\",\"G\",\"H\",\"I\",\"G\",\"K\",\"L\"\n",
    "             ,\"M\",\"N\",\"O\",\"P\",\"Q\",\"R\",\"S\",\"T\",\"U\",\"V\",\"W\",\"X\",\"Y\",\"Z\"]\n",
    "info = \"\".join(info_list)\n",
    "new_info = \"\".join(random.sample(info, 5))\n",
    "new_info"
   ]
  },
  {
   "cell_type": "markdown",
   "metadata": {},
   "source": [
    "### Set（集合）:\n",
    "- type(f)=<class 'set'>\n",
    "- 样本类别去重"
   ]
  },
  {
   "cell_type": "raw",
   "metadata": {},
   "source": [
    "classes = [\"coffee\", \"tea\", \"juice\", \"coffee\", \"juice\", \"tea\", \"coffee\"]\n",
    "print(classes)\n",
    "new_classes = set(classes)\n",
    "print(new_classes)"
   ]
  },
  {
   "cell_type": "raw",
   "metadata": {},
   "source": [
    "classes2 = [\"tea\", \"juice\"]\n",
    "classes3 = list(set(classes)-set(classes2))\n",
    "classes3"
   ]
  },
  {
   "cell_type": "raw",
   "metadata": {},
   "source": [
    "num1 = set(\"12345\")\n",
    "num2 = set(\"6789\")"
   ]
  },
  {
   "cell_type": "raw",
   "metadata": {},
   "source": [
    "num1 & num2  # 交集"
   ]
  },
  {
   "cell_type": "raw",
   "metadata": {},
   "source": [
    "num1 | num2  # 并集"
   ]
  },
  {
   "cell_type": "markdown",
   "metadata": {},
   "source": [
    "### tuple(元组)：\n",
    "- type(h)=<class 'tuple'>"
   ]
  },
  {
   "cell_type": "raw",
   "metadata": {},
   "source": [
    "tuple_num = (1, 2, 3, 4, 5, 6)\n",
    "tuple_str = (\"a\", \"b\", \"c\", \"d\")\n",
    "tuple_mix = (\"a\", \"b\", \"c\", 1, 2, 3)"
   ]
  },
  {
   "cell_type": "raw",
   "metadata": {},
   "source": [
    "# 查看元组的长度\n",
    "print(len(tuple_mix))\n",
    "\n",
    "# 访问元组元素\n",
    "new_tuple1 = tuple_mix[0]\n",
    "new_tuple2 = tuple_mix[1:5]\n",
    "new_tuple3 = tuple_mix[1:5:2]\n",
    "print(f\"new_list1={new_tuple1}, new_list2={new_tuple2}, new_list3={new_tuple3}\")\n",
    "\n",
    "# 增加元组元素\n",
    "new_tuple = tuple_num + tuple_str\n",
    "print(f\"new_tuple={new_tuple}\")"
   ]
  },
  {
   "cell_type": "markdown",
   "metadata": {},
   "source": [
    "解包与再解包"
   ]
  },
  {
   "cell_type": "raw",
   "metadata": {},
   "source": [
    "info1 = [\"a_info\", \"b_info\"]\n",
    "info2 = (\"c_info\", \"d_info\", (\"e_info\", \"f_info\"))\n",
    "\n",
    "a, b = info1\n",
    "print(f\"a = {a}, b = {b}\")\n",
    "\n",
    "c, d, (e, f) = info2\n",
    "print(f\"c = {c}, d = {d}, (e, f)={(e, f)}\")"
   ]
  },
  {
   "cell_type": "markdown",
   "metadata": {},
   "source": [
    "### dictory(字典)：\n",
    "- type(g)=<class 'dict'>"
   ]
  },
  {
   "cell_type": "raw",
   "metadata": {},
   "source": [
    "dict_str = {\"name1\":\"martin1\", \"name2\":\"martin2\", \"name3\":\"name3\"}\n",
    "dict_num = {1:2, 3:4, 5:6, 7:8}\n",
    "dict_mix = {\"name\":\"martin\", \"age\":12, \"sex\":\"male\"}"
   ]
  },
  {
   "cell_type": "raw",
   "metadata": {},
   "source": [
    "# 访问字典元素\n",
    "print(dict_str[\"name2\"])\n",
    "print(dict_num[1])\n",
    "print(dict_mix[\"age\"])\n",
    "\n",
    "# 修改字典元素\n",
    "dict_str[\"name2\"] = \"James\"\n",
    "print(dict_str)\n",
    "\n",
    "# 增加元素\n",
    "# - 方式一\n",
    "dict_num[9] = 10\n",
    "print(dict_num)\n",
    "# - 方式二\n",
    "dict_num.update({11:12})\n",
    "print(dict_num)\n",
    "\n",
    "# 删除字典元素\n",
    "del dict_str[\"name1\"]\n",
    "print(dict_str)"
   ]
  },
  {
   "cell_type": "markdown",
   "metadata": {},
   "source": [
    "思考：字典是怎样通过key找到value的呢？"
   ]
  },
  {
   "cell_type": "raw",
   "metadata": {},
   "source": [
    "var = {}\n",
    "var[\"name\"] = 123  # def hash(key) --> int (hashable)  / def hash(key) xx> int (unhashable)\n",
    "\n",
    "# tuple list dict set 均是不能进行哈希化的类型"
   ]
  },
  {
   "cell_type": "markdown",
   "metadata": {},
   "source": [
    "### 数据类型转换"
   ]
  },
  {
   "cell_type": "raw",
   "metadata": {},
   "source": [
    "num1 = 123.0\n",
    "num2 = int(num1) \n",
    "num3 = str(num1)\n",
    "str1 = \"123.0\"\n",
    "str2 = \"123\"\n",
    "num4 = int(str2)\n",
    "num5 = float(str1)"
   ]
  },
  {
   "cell_type": "raw",
   "metadata": {},
   "source": [
    "test1 = 1, 2, 3\n",
    "test2 = (1)\n",
    "test3 = (1,)\n",
    "test4 = {}"
   ]
  }
 ],
 "metadata": {
  "kernelspec": {
   "display_name": "Python 3",
   "language": "python",
   "name": "python3"
  },
  "language_info": {
   "codemirror_mode": {
    "name": "ipython",
    "version": 3
   },
   "file_extension": ".py",
   "mimetype": "text/x-python",
   "name": "python",
   "nbconvert_exporter": "python",
   "pygments_lexer": "ipython3",
   "version": "3.7.0"
  }
 },
 "nbformat": 4,
 "nbformat_minor": 4
}
