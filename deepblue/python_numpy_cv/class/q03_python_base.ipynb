{
 "cells": [
  {
   "cell_type": "code",
   "execution_count": 1,
   "metadata": {},
   "outputs": [],
   "source": [
    "a = 123\n",
    "b = \"123\"\n",
    "c = [1, 2, 3]\n",
    "d = {1, 2, 3}\n",
    "e = (1, 2, 3)\n",
    "f = {0:\"1\", 1:\"2\", 2:\"3\"}"
   ]
  },
  {
   "cell_type": "code",
   "execution_count": 2,
   "metadata": {},
   "outputs": [
    {
     "ename": "TypeError",
     "evalue": "'int' object does not support item assignment",
     "output_type": "error",
     "traceback": [
      "\u001b[0;31m---------------------------------------------------------------------------\u001b[0m",
      "\u001b[0;31mTypeError\u001b[0m                                 Traceback (most recent call last)",
      "\u001b[0;32m<ipython-input-2-fa1ba3f7cc8f>\u001b[0m in \u001b[0;36m<module>\u001b[0;34m()\u001b[0m\n\u001b[0;32m----> 1\u001b[0;31m \u001b[0ma\u001b[0m\u001b[0;34m[\u001b[0m\u001b[0;36m0\u001b[0m\u001b[0;34m]\u001b[0m \u001b[0;34m=\u001b[0m \u001b[0;36m2\u001b[0m\u001b[0;34m\u001b[0m\u001b[0m\n\u001b[0m",
      "\u001b[0;31mTypeError\u001b[0m: 'int' object does not support item assignment"
     ]
    }
   ],
   "source": [
    "a[0] = 2"
   ]
  },
  {
   "cell_type": "code",
   "execution_count": 3,
   "metadata": {},
   "outputs": [
    {
     "ename": "TypeError",
     "evalue": "'str' object does not support item assignment",
     "output_type": "error",
     "traceback": [
      "\u001b[0;31m---------------------------------------------------------------------------\u001b[0m",
      "\u001b[0;31mTypeError\u001b[0m                                 Traceback (most recent call last)",
      "\u001b[0;32m<ipython-input-3-88fa4ba0b30d>\u001b[0m in \u001b[0;36m<module>\u001b[0;34m()\u001b[0m\n\u001b[0;32m----> 1\u001b[0;31m \u001b[0mb\u001b[0m\u001b[0;34m[\u001b[0m\u001b[0;36m0\u001b[0m\u001b[0;34m]\u001b[0m \u001b[0;34m=\u001b[0m \u001b[0;36m2\u001b[0m\u001b[0;34m\u001b[0m\u001b[0m\n\u001b[0m",
      "\u001b[0;31mTypeError\u001b[0m: 'str' object does not support item assignment"
     ]
    }
   ],
   "source": [
    "b[0] = 2"
   ]
  },
  {
   "cell_type": "code",
   "execution_count": 5,
   "metadata": {},
   "outputs": [
    {
     "data": {
      "text/plain": [
       "[2, 2, 3]"
      ]
     },
     "execution_count": 5,
     "metadata": {},
     "output_type": "execute_result"
    }
   ],
   "source": [
    "c[0] = 2\n",
    "c"
   ]
  },
  {
   "cell_type": "code",
   "execution_count": 6,
   "metadata": {},
   "outputs": [
    {
     "ename": "TypeError",
     "evalue": "'set' object does not support item assignment",
     "output_type": "error",
     "traceback": [
      "\u001b[0;31m---------------------------------------------------------------------------\u001b[0m",
      "\u001b[0;31mTypeError\u001b[0m                                 Traceback (most recent call last)",
      "\u001b[0;32m<ipython-input-6-7f1ab08954dc>\u001b[0m in \u001b[0;36m<module>\u001b[0;34m()\u001b[0m\n\u001b[0;32m----> 1\u001b[0;31m \u001b[0md\u001b[0m\u001b[0;34m[\u001b[0m\u001b[0;36m0\u001b[0m\u001b[0;34m]\u001b[0m \u001b[0;34m=\u001b[0m \u001b[0;36m2\u001b[0m\u001b[0;34m\u001b[0m\u001b[0m\n\u001b[0m",
      "\u001b[0;31mTypeError\u001b[0m: 'set' object does not support item assignment"
     ]
    }
   ],
   "source": [
    "d[0] = 2"
   ]
  },
  {
   "cell_type": "code",
   "execution_count": 7,
   "metadata": {},
   "outputs": [
    {
     "ename": "TypeError",
     "evalue": "'tuple' object does not support item assignment",
     "output_type": "error",
     "traceback": [
      "\u001b[0;31m---------------------------------------------------------------------------\u001b[0m",
      "\u001b[0;31mTypeError\u001b[0m                                 Traceback (most recent call last)",
      "\u001b[0;32m<ipython-input-7-85102ca4f32f>\u001b[0m in \u001b[0;36m<module>\u001b[0;34m()\u001b[0m\n\u001b[0;32m----> 1\u001b[0;31m \u001b[0me\u001b[0m\u001b[0;34m[\u001b[0m\u001b[0;36m0\u001b[0m\u001b[0;34m]\u001b[0m \u001b[0;34m=\u001b[0m \u001b[0;36m2\u001b[0m\u001b[0;34m\u001b[0m\u001b[0m\n\u001b[0m",
      "\u001b[0;31mTypeError\u001b[0m: 'tuple' object does not support item assignment"
     ]
    }
   ],
   "source": [
    "e[0] = 2"
   ]
  },
  {
   "cell_type": "code",
   "execution_count": 8,
   "metadata": {},
   "outputs": [],
   "source": [
    "f[0] = 2"
   ]
  },
  {
   "cell_type": "code",
   "execution_count": 10,
   "metadata": {},
   "outputs": [
    {
     "name": "stdout",
     "output_type": "stream",
     "text": [
      "[1, 2, 3]---140717188908296\n",
      "[4, 2, 3]---140717188908296\n"
     ]
    }
   ],
   "source": [
    "lists = [1, 2, 3]\n",
    "print(f\"{lists}---{id(lists)}\")\n",
    "lists[0] = 4\n",
    "print(f\"{lists}---{id(lists)}\")"
   ]
  },
  {
   "cell_type": "code",
   "execution_count": 11,
   "metadata": {},
   "outputs": [
    {
     "name": "stdout",
     "output_type": "stream",
     "text": [
      "1--93912709952288\n",
      "2---93912709952320\n"
     ]
    }
   ],
   "source": [
    "a = 1\n",
    "print(f\"{a}--{id(a)}\")\n",
    "a = 2\n",
    "print(f\"{a}---{id(a)}\")"
   ]
  },
  {
   "cell_type": "code",
   "execution_count": 15,
   "metadata": {},
   "outputs": [
    {
     "name": "stdout",
     "output_type": "stream",
     "text": [
      "140717188948872\n",
      "140717188948872\n",
      "140717188948872\n"
     ]
    }
   ],
   "source": [
    "lists1 = [[1]*2]*3\n",
    "lists1\n",
    "for l in lists1:\n",
    "    print(id(l))"
   ]
  },
  {
   "cell_type": "code",
   "execution_count": 17,
   "metadata": {},
   "outputs": [
    {
     "name": "stdout",
     "output_type": "stream",
     "text": [
      "140716926844168\n",
      "140716918084232\n",
      "140716927674632\n"
     ]
    }
   ],
   "source": [
    "lists2 = [[1, 1], [1, 1], [1, 1]]\n",
    "\n",
    "for l in lists2:\n",
    "    print(id(l))"
   ]
  },
  {
   "cell_type": "code",
   "execution_count": 18,
   "metadata": {},
   "outputs": [
    {
     "name": "stdout",
     "output_type": "stream",
     "text": [
      "[[2, 1], [2, 1], [2, 1]]\n",
      "[[2, 1], [1, 1], [1, 1]]\n"
     ]
    }
   ],
   "source": [
    "lists1[0][0] = 2\n",
    "lists2[0][0] = 2\n",
    "\n",
    "print(lists1)\n",
    "print(lists2)"
   ]
  },
  {
   "cell_type": "code",
   "execution_count": 24,
   "metadata": {},
   "outputs": [
    {
     "name": "stdout",
     "output_type": "stream",
     "text": [
      "[1, 1, 1]\n",
      "93912709952288\n",
      "93912709952288\n",
      "93912709952288\n",
      "[2, 1, 1]\n",
      "93912709952320\n",
      "93912709952288\n",
      "93912709952288\n"
     ]
    }
   ],
   "source": [
    "temp_list = [1]*3\n",
    "print(temp_list)\n",
    "for i in temp_list:\n",
    "    print(id(i))\n",
    "\n",
    "temp_list[0] = 2\n",
    "\n",
    "print(temp_list)\n",
    "for i in temp_list:\n",
    "    print(id(i))\n",
    "    "
   ]
  },
  {
   "cell_type": "code",
   "execution_count": 26,
   "metadata": {},
   "outputs": [
    {
     "name": "stdout",
     "output_type": "stream",
     "text": [
      "[[1, 1], [1, 1], [1, 1]]\n",
      "[1, 1, 1]\n"
     ]
    }
   ],
   "source": [
    "lists1 = [[1]*2]*3\n",
    "lists2 = [1]*3\n",
    "\n",
    "print(lists1)\n",
    "print(lists2)"
   ]
  },
  {
   "cell_type": "code",
   "execution_count": 29,
   "metadata": {},
   "outputs": [
    {
     "name": "stdout",
     "output_type": "stream",
     "text": [
      "140717188908168\n",
      "<class 'list'>\n",
      "140717188908168\n",
      "<class 'list'>\n",
      "140717188908168\n",
      "<class 'list'>\n",
      "====================\n",
      "93912709952288\n",
      "<class 'int'>\n",
      "93912709952288\n",
      "<class 'int'>\n",
      "93912709952288\n",
      "<class 'int'>\n"
     ]
    }
   ],
   "source": [
    "for l in lists1:\n",
    "    print(id(l))\n",
    "    print(type(l))\n",
    "    \n",
    "print(\"=\"*20)\n",
    "for l1 in lists2:\n",
    "    print(id(l1))\n",
    "    print(type(l1))"
   ]
  },
  {
   "cell_type": "code",
   "execution_count": 30,
   "metadata": {},
   "outputs": [
    {
     "name": "stdout",
     "output_type": "stream",
     "text": [
      "1\n",
      "1\n",
      "1\n"
     ]
    }
   ],
   "source": [
    "lists2 = [1]*3\n",
    "for l in lists2:\n",
    "    print(l)"
   ]
  },
  {
   "cell_type": "code",
   "execution_count": 37,
   "metadata": {},
   "outputs": [
    {
     "name": "stdout",
     "output_type": "stream",
     "text": [
      "0\n",
      "1\n",
      "2\n",
      "3\n",
      "4\n",
      "5\n",
      "6\n",
      "7\n",
      "8\n",
      "9\n"
     ]
    }
   ],
   "source": [
    "num = 10\n",
    "for i in range(num):\n",
    "    print(i)"
   ]
  },
  {
   "cell_type": "code",
   "execution_count": 38,
   "metadata": {},
   "outputs": [
    {
     "name": "stdout",
     "output_type": "stream",
     "text": [
      "0\n",
      "1\n",
      "2\n",
      "3\n",
      "4\n",
      "5\n",
      "6\n",
      "7\n",
      "8\n",
      "9\n"
     ]
    }
   ],
   "source": [
    "for i in [0, 1, 2, 3, 4, 5, 6, 7, 8, 9]:\n",
    "    print(i)"
   ]
  },
  {
   "cell_type": "code",
   "execution_count": 34,
   "metadata": {},
   "outputs": [
    {
     "data": {
      "text/plain": [
       "<method-wrapper '__iter__' of range object at 0x7ffb36707810>"
      ]
     },
     "execution_count": 34,
     "metadata": {},
     "output_type": "execute_result"
    }
   ],
   "source": [
    "# num.__iter__\n",
    "range(num).__iter__"
   ]
  },
  {
   "cell_type": "code",
   "execution_count": 39,
   "metadata": {},
   "outputs": [],
   "source": [
    "import copy"
   ]
  },
  {
   "cell_type": "code",
   "execution_count": 52,
   "metadata": {},
   "outputs": [
    {
     "name": "stdout",
     "output_type": "stream",
     "text": [
      "140716918401416\n",
      "140716918028808\n",
      "140716918133512\n"
     ]
    }
   ],
   "source": [
    "lists = [[1]*3]*4\n",
    "lists1 = copy.copy(lists)\n",
    "lists2 = copy.deepcopy(lists)\n",
    "print(id(lists))\n",
    "print(id(lists1))\n",
    "print(id(lists2))"
   ]
  },
  {
   "cell_type": "code",
   "execution_count": 53,
   "metadata": {},
   "outputs": [
    {
     "name": "stdout",
     "output_type": "stream",
     "text": [
      "140716918027144\n",
      "140716918027144\n",
      "140716918027144\n",
      "140716918027144\n"
     ]
    }
   ],
   "source": [
    "for l in lists:\n",
    "    print(id(l))"
   ]
  },
  {
   "cell_type": "code",
   "execution_count": 54,
   "metadata": {},
   "outputs": [
    {
     "name": "stdout",
     "output_type": "stream",
     "text": [
      "140716918027144\n",
      "140716918027144\n",
      "140716918027144\n",
      "140716918027144\n"
     ]
    }
   ],
   "source": [
    "for l in lists1:\n",
    "    print(id(l))"
   ]
  },
  {
   "cell_type": "code",
   "execution_count": 55,
   "metadata": {},
   "outputs": [
    {
     "name": "stdout",
     "output_type": "stream",
     "text": [
      "140716926980296\n",
      "140716926980296\n",
      "140716926980296\n",
      "140716926980296\n"
     ]
    }
   ],
   "source": [
    "for l in lists2:\n",
    "    print(id(l))"
   ]
  },
  {
   "cell_type": "code",
   "execution_count": 57,
   "metadata": {},
   "outputs": [
    {
     "name": "stdout",
     "output_type": "stream",
     "text": [
      "30\n"
     ]
    }
   ],
   "source": [
    "def sum(num1, num2):\n",
    "    sums = num1 + num2\n",
    "    return sums\n",
    "s = sum(10, 20)  # sum(10, 20) = sums\n",
    "print(s)"
   ]
  },
  {
   "cell_type": "code",
   "execution_count": 3,
   "metadata": {},
   "outputs": [
    {
     "data": {
      "image/png": "[encoded data removed]",
      "text/plain": [
       "<Figure size 432x288 with 1 Axes>"
      ]
     },
     "metadata": {
      "needs_background": "light"
     },
     "output_type": "display_data"
    }
   ],
   "source": [
    "import os  # os 模块提供了非常丰富的方法用来处理文件和目录\n",
    "import matplotlib.pyplot as plt\n",
    "import matplotlib.pyplot as mpimg\n",
    "import random\n",
    "\n",
    "\n",
    "\n",
    "def deal_pict(root, id_path):  # 形参\n",
    "    my_images = []\n",
    "    with open(os.path.join(my_id_path), \"r\") as id_file:\n",
    "        images = id_file.readlines()\n",
    "    #     print(images)\n",
    "        for image in images:\n",
    "    #         print(image[:-1])  # 去掉回车\n",
    "            temp_image = os.path.join(my_img_root_path, image[:-1])\n",
    "            my_images.append(temp_image)\n",
    "\n",
    "    imgs = []\n",
    "    ids = []\n",
    "\n",
    "    for info in my_images:\n",
    "        split_info = info.split()\n",
    "        imgs.append(split_info[0])\n",
    "    \n",
    "#     return imgs\n",
    "\n",
    "    image = random.shuffle(imgs)\n",
    "    image = mpimg.imread(imgs[0])\n",
    "    plt.imshow(image)\n",
    "    plt.show()\n",
    "\n",
    "if __name__ == \"__main__\":\n",
    "    my_img_root_path = \"./data/my_data/my_img\"  # 实参\n",
    "    my_id_path = \"./data/my_data/my_id.txt\"\n",
    "    deal_pict(my_img_root_path, my_id_path)\n",
    "#     print(imgs)"
   ]
  },
  {
   "cell_type": "code",
   "execution_count": 5,
   "metadata": {},
   "outputs": [
    {
     "data": {
      "image/png": "[encoded data removed]",
      "text/plain": [
       "<Figure size 432x288 with 1 Axes>"
      ]
     },
     "metadata": {
      "needs_background": "light"
     },
     "output_type": "display_data"
    }
   ],
   "source": [
    "import os  # os 模块提供了非常丰富的方法用来处理文件和目录\n",
    "import matplotlib.pyplot as plt\n",
    "import matplotlib.pyplot as mpimg\n",
    "import random\n",
    "\n",
    "\n",
    "\n",
    "def deal_pict2(root, id_path):  # 形参\n",
    "    my_images = []\n",
    "    with open(os.path.join(my_id_path), \"r\") as id_file:\n",
    "        images = id_file.readlines()\n",
    "    #     print(images)\n",
    "        for image in images:\n",
    "    #         print(image[:-1])  # 去掉回车\n",
    "            temp_image = os.path.join(my_img_root_path, image[:-1])\n",
    "            my_images.append(temp_image)\n",
    "\n",
    "    imgs = []\n",
    "    ids = []\n",
    "\n",
    "    for info in my_images:\n",
    "        split_info = info.split()\n",
    "        imgs.append(split_info[0])\n",
    "    \n",
    "#     return imgs\n",
    "\n",
    "    image = random.shuffle(imgs)\n",
    "    image = mpimg.imread(imgs[0])\n",
    "    plt.imshow(image)\n",
    "    plt.show()\n",
    "\n",
    "if __name__ == \"__main__\":\n",
    "    my_img_root_path = \"./data/my_data/my_img\"  # 实参\n",
    "    my_id_path = \"./data/my_data/my_id.txt\"\n",
    "    deal_pict2(my_img_root_path, my_id_path)\n",
    "#     print(imgs)"
   ]
  },
  {
   "cell_type": "code",
   "execution_count": 3,
   "metadata": {},
   "outputs": [
    {
     "name": "stdout",
     "output_type": "stream",
     "text": [
      "456---140598317635696\n",
      "123---94567124558432\n"
     ]
    },
    {
     "data": {
      "text/plain": [
       "456"
      ]
     },
     "execution_count": 3,
     "metadata": {},
     "output_type": "execute_result"
    }
   ],
   "source": [
    "def var_change(a):\n",
    "    a = 123\n",
    "    print(f\"{a}---{id(a)}\")\n",
    "\n",
    "b = 456\n",
    "print(f\"{b}---{id(b)}\")\n",
    "var_change(b)\n",
    "b"
   ]
  },
  {
   "cell_type": "raw",
   "metadata": {},
   "source": [
    "b = 456 --> a = 456\n",
    "a = 123 --> b =456"
   ]
  },
  {
   "cell_type": "code",
   "execution_count": 2,
   "metadata": {},
   "outputs": [
    {
     "name": "stdout",
     "output_type": "stream",
     "text": [
      "140598317474568\n",
      "140598317474568\n"
     ]
    },
    {
     "data": {
      "text/plain": [
       "[5, 2, 3]"
      ]
     },
     "execution_count": 2,
     "metadata": {},
     "output_type": "execute_result"
    }
   ],
   "source": [
    "def var_change(c):\n",
    "    c[0] = 5\n",
    "    print(id(c))\n",
    "\n",
    "d = [1, 2, 3]\n",
    "print(id(d))\n",
    "var_change(d)\n",
    "d # [5, 2, 3]"
   ]
  },
  {
   "cell_type": "code",
   "execution_count": 7,
   "metadata": {},
   "outputs": [
    {
     "name": "stdout",
     "output_type": "stream",
     "text": [
      "10 -- 30 -- 50\n",
      "20 -- 30 -- 50\n"
     ]
    }
   ],
   "source": [
    "def info(num1, num2, num3=50):\n",
    "    print(f\"{num1} -- {num2} -- {num3}\")\n",
    "\n",
    "num4 = 10\n",
    "# num5 = 20\n",
    "num6 = 30\n",
    "\n",
    "info(num4, num6)\n",
    "info(num5, num6)"
   ]
  },
  {
   "cell_type": "code",
   "execution_count": 9,
   "metadata": {},
   "outputs": [
    {
     "name": "stdout",
     "output_type": "stream",
     "text": [
      "10 -- 30 -- 20\n",
      "10 -- 30 -- 20\n"
     ]
    }
   ],
   "source": [
    "def info(num1, num2, num3):\n",
    "    print(f\"{num1} -- {num2} -- {num3}\")\n",
    "\n",
    "num4 = 10\n",
    "num5 = 20\n",
    "num6 = 30\n",
    "\n",
    "info(num1 = num4, num2 = num6, num3=num5)\n",
    "info(num2 = num6, num3=num5 ,num1 = num4)"
   ]
  },
  {
   "cell_type": "code",
   "execution_count": 11,
   "metadata": {},
   "outputs": [
    {
     "name": "stdout",
     "output_type": "stream",
     "text": [
      "(1, 2, 3, 4, 5)\n",
      "<class 'tuple'>\n"
     ]
    }
   ],
   "source": [
    "def my_num(*num):\n",
    "    print(num)\n",
    "    print(type(num))\n",
    "\n",
    "my_num(1, 2, 3, 4, 5)"
   ]
  },
  {
   "cell_type": "code",
   "execution_count": 12,
   "metadata": {},
   "outputs": [
    {
     "name": "stdout",
     "output_type": "stream",
     "text": [
      "{'name': 'lisi', 'age': 20}\n"
     ]
    }
   ],
   "source": [
    "def my_num(**nums):\n",
    "    print(nums)\n",
    "\n",
    "my_num(name=\"lisi\", age=20)"
   ]
  },
  {
   "cell_type": "code",
   "execution_count": 15,
   "metadata": {},
   "outputs": [
    {
     "name": "stdout",
     "output_type": "stream",
     "text": [
      "(1, 2, 3, 15)\n",
      "{'name': 'lisi', 'age': 20}\n"
     ]
    }
   ],
   "source": [
    "def my_num(*num, **nums):\n",
    "    print(num)\n",
    "    print(nums)\n",
    "\n",
    "my_num(1, 2, 3, 15, name=\"lisi\", age=20)"
   ]
  },
  {
   "cell_type": "code",
   "execution_count": 20,
   "metadata": {},
   "outputs": [
    {
     "name": "stdout",
     "output_type": "stream",
     "text": [
      "a=1, b=2, c=3, d=4\n",
      "a=1, b=2, c=3, d=4\n"
     ]
    }
   ],
   "source": [
    "def my_num(a, b, c, d):\n",
    "    print(f\"a={a}, b={b}, c={c}, d={d}\")\n",
    "\n",
    "mylist = [1, 2, 3, 4]\n",
    "my_num(*mylist)\n",
    "\n",
    "mydict = {\"d\":4, \"c\":3, \"b\":2, \"a\":1}\n",
    "my_num(**mydict)"
   ]
  },
  {
   "cell_type": "code",
   "execution_count": 23,
   "metadata": {},
   "outputs": [
    {
     "data": {
      "text/plain": [
       "60"
      ]
     },
     "execution_count": 23,
     "metadata": {},
     "output_type": "execute_result"
    }
   ],
   "source": [
    "def my_sum(num1, num2, num3):\n",
    "    return num1 + num2 + num3\n",
    "\n",
    "my_sum(10, 20, 30)"
   ]
  },
  {
   "cell_type": "code",
   "execution_count": 24,
   "metadata": {},
   "outputs": [
    {
     "name": "stdout",
     "output_type": "stream",
     "text": [
      "<class 'tuple'>\n"
     ]
    }
   ],
   "source": [
    "def my_test(num1, num2, num3):\n",
    "    return num1, num2, num3\n",
    "\n",
    "print(type(my_test(10, 20, 30)))"
   ]
  },
  {
   "cell_type": "code",
   "execution_count": 26,
   "metadata": {},
   "outputs": [
    {
     "name": "stdout",
     "output_type": "stream",
     "text": [
      "30\n",
      "0\n"
     ]
    }
   ],
   "source": [
    "total = 0  # 全局\n",
    "def my_sum(num1 ,num2):\n",
    "    total = num1 + num2  # 局部\n",
    "    print(total)  # 30\n",
    "    \n",
    "my_sum(10, 20)\n",
    "print(total)  # 0"
   ]
  },
  {
   "cell_type": "code",
   "execution_count": 27,
   "metadata": {},
   "outputs": [
    {
     "data": {
      "text/plain": [
       "30"
      ]
     },
     "execution_count": 27,
     "metadata": {},
     "output_type": "execute_result"
    }
   ],
   "source": [
    "def sum(num1, num2):\n",
    "    return num1 + num2\n",
    "\n",
    "sum(10, 20)"
   ]
  },
  {
   "cell_type": "code",
   "execution_count": 28,
   "metadata": {},
   "outputs": [
    {
     "data": {
      "text/plain": [
       "30"
      ]
     },
     "execution_count": 28,
     "metadata": {},
     "output_type": "execute_result"
    }
   ],
   "source": [
    "sum = lambda num1, num2 : num1 + num2 \n",
    "s = sum(10, 20)\n",
    "s"
   ]
  },
  {
   "cell_type": "code",
   "execution_count": 31,
   "metadata": {},
   "outputs": [
    {
     "name": "stdin",
     "output_type": "stream",
     "text": [
      " 999\n"
     ]
    },
    {
     "name": "stdout",
     "output_type": "stream",
     "text": [
      "34\n"
     ]
    }
   ],
   "source": [
    "def main_code(n):\n",
    "    count = 0\n",
    "    while n > 1:\n",
    "        if n % 2 == 0:\n",
    "            n = n /2\n",
    "        elif n % 2 == 1:\n",
    "            n = (3*n+1)/2\n",
    "        count += 1\n",
    "    print(count)\n",
    "\n",
    "if __name__ == '__main__':\n",
    "    n = int(input())\n",
    "\n",
    "    main_code(n)"
   ]
  },
  {
   "cell_type": "code",
   "execution_count": 33,
   "metadata": {},
   "outputs": [
    {
     "name": "stdin",
     "output_type": "stream",
     "text": [
      " 999\n"
     ]
    },
    {
     "name": "stdout",
     "output_type": "stream",
     "text": [
      "34\n"
     ]
    }
   ],
   "source": [
    "count = 0\n",
    "n = int(input(\"\"))\n",
    "while n!=1:\n",
    "    if n % 2 == 0:\n",
    "        n = n/2\n",
    "    elif n % 2 == 1:\n",
    "        n = (3*n+1)/2\n",
    "    count += 1\n",
    "print(count)"
   ]
  },
  {
   "cell_type": "code",
   "execution_count": null,
   "metadata": {},
   "outputs": [],
   "source": []
  }
 ],
 "metadata": {
  "kernelspec": {
   "display_name": "Python 3",
   "language": "python",
   "name": "python3"
  },
  "language_info": {
   "codemirror_mode": {
    "name": "ipython",
    "version": 3
   },
   "file_extension": ".py",
   "mimetype": "text/x-python",
   "name": "python",
   "nbconvert_exporter": "python",
   "pygments_lexer": "ipython3",
   "version": "3.7.0"
  }
 },
 "nbformat": 4,
 "nbformat_minor": 2
}
