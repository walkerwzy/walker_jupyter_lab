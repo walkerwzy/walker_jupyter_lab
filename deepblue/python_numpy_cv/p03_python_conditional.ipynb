{
 "cells": [
  {
   "cell_type": "markdown",
   "metadata": {},
   "source": [
    "### 条件语句\n"
   ]
  },
  {
   "cell_type": "raw",
   "metadata": {},
   "source": [
    "\"\"\"\n",
    "if 判断条件：\n",
    "    执行语句\n",
    "else:\n",
    "    执行语句\n",
    "\"\"\"\n",
    "\n",
    "\"\"\"\n",
    "if 判断条件1:\n",
    "    执行语句1\n",
    "elif 判断条件2:\n",
    "    执行语句2\n",
    "elif 判断条件3：\n",
    "    执行语句3\n",
    "else:\n",
    "    执行语句4\n",
    "\"\"\""
   ]
  },
  {
   "cell_type": "markdown",
   "metadata": {},
   "source": [
    "布尔类型"
   ]
  },
  {
   "cell_type": "raw",
   "metadata": {},
   "source": [
    "bool1 = True\n",
    "bool2 = False\n",
    "print(type(bool1))\n",
    "print(type(bool2))"
   ]
  },
  {
   "cell_type": "markdown",
   "metadata": {},
   "source": [
    "比较运算符"
   ]
  },
  {
   "cell_type": "raw",
   "metadata": {},
   "source": [
    "num1 = 10\n",
    "num2 = 12\n",
    "print(num1 == num2)\n",
    "print(num1 > num2)\n",
    "print(num1 >= num2)\n",
    "print(num1 < num2)\n",
    "print(num1 <= num2)\n",
    "print(num1 != num2)\n",
    "print(num1 is not num2)\n",
    "num3 = True\n",
    "num4 = False\n",
    "print(bool1 and bool2)\n",
    "print(bool1 or bool2)"
   ]
  },
  {
   "cell_type": "markdown",
   "metadata": {},
   "source": [
    "类型转换"
   ]
  },
  {
   "cell_type": "raw",
   "metadata": {},
   "source": [
    "print(bool(0))\n",
    "print(bool(None))\n",
    "print(bool(1))\n",
    "print(bool(12))"
   ]
  },
  {
   "cell_type": "raw",
   "metadata": {},
   "source": [
    "isinstance(True, bool)\n",
    "isinstance(True, int)"
   ]
  },
  {
   "cell_type": "markdown",
   "metadata": {},
   "source": [
    "判断输入的文件是否是.mp4文件"
   ]
  },
  {
   "cell_type": "raw",
   "metadata": {},
   "source": [
    "mp4_path = input(\"pls input path:\")\n",
    "std_name = \".mp4\"\n",
    "file_name = mp4_path[-4:]\n",
    "\n",
    "if file_name != std_name:\n",
    "    print(\"文件不是mp4文件\")\n",
    "else:\n",
    "    print(\"文件是mp4文件\")"
   ]
  },
  {
   "cell_type": "markdown",
   "metadata": {},
   "source": [
    "作业：判断文件类型（.mp4\\.mp3\\.txt\\.doc\\.py）"
   ]
  },
  {
   "cell_type": "raw",
   "metadata": {},
   "source": [
    "file_path = input(\"pls input path:\")\n",
    "\n",
    "file_name = file_path[-4:]\n",
    "\n",
    "if file_name == \".mp4\":\n",
    "    print(\"mp4\")\n",
    "elif file_name == \".mp3\":\n",
    "    print(\"mp3\")\n",
    "elif file_name == \".txt\":\n",
    "    print(\"txt\")\n",
    "elif file_name == \".doc\":\n",
    "    print(\"doc\")\n",
    "elif file_name == \".py\":\n",
    "    print(\"py\")\n",
    "else:\n",
    "    print(\"error\")"
   ]
  },
  {
   "cell_type": "raw",
   "metadata": {},
   "source": [
    "file_path = input(\"pls input mp4:\")\n",
    "if file_path.endswith(\".mp4\"):\n",
    "    print(\"OK\")\n",
    "else:\n",
    "    print(\"error\")"
   ]
  },
  {
   "cell_type": "markdown",
   "metadata": {},
   "source": [
    "--------------------------------"
   ]
  },
  {
   "cell_type": "markdown",
   "metadata": {},
   "source": [
    "### 循环语句"
   ]
  },
  {
   "cell_type": "raw",
   "metadata": {},
   "source": [
    "while 判断条件：\n",
    "    执行语句"
   ]
  },
  {
   "cell_type": "raw",
   "metadata": {},
   "source": [
    "for 迭代变量 in 序列(可迭代对象)：\n",
    "    执行语句"
   ]
  },
  {
   "cell_type": "markdown",
   "metadata": {},
   "source": [
    "序列：python的序列包括:字符串、列表、元组、集合、字典"
   ]
  },
  {
   "cell_type": "raw",
   "metadata": {},
   "source": [
    "count = 0\n",
    "while count < 10:\n",
    "    print(count)\n",
    "#     count = count + 1\n",
    "    count += 1"
   ]
  },
  {
   "cell_type": "raw",
   "metadata": {},
   "source": [
    "strs = \"123\"\n",
    "lists = [1, 2, 3]\n",
    "tuples = (1 ,2, 3)\n",
    "sets = {1, 2, 3}\n",
    "dicts = {1:10, 2:20, 3:30}\n",
    "\n",
    "for s in strs:\n",
    "    print(s)\n",
    "    \n",
    "print(\"*\"*20)\n",
    "for l in lists:\n",
    "    print(l)\n",
    "\n",
    "print(\"*\"*20)\n",
    "for t in tuples:\n",
    "    print(t)\n",
    "\n",
    "print(\"*\"*20)\n",
    "for se in sets:\n",
    "    print(se)\n",
    "    \n",
    "print(\"*\"*20)\n",
    "for k in dicts.keys():\n",
    "    print(k)\n",
    "print(\"*\"*20)\n",
    "for v in dicts.values():\n",
    "    print(v)\n",
    "print(\"*\"*20)\n",
    "for k,v in dicts.items():\n",
    "    print(f\"{k}-->{v}\")"
   ]
  },
  {
   "cell_type": "markdown",
   "metadata": {},
   "source": [
    "break 和 continue"
   ]
  },
  {
   "cell_type": "raw",
   "metadata": {},
   "source": [
    "strs = \"123456\"\n",
    "for i in strs:\n",
    "    if i == \"2\":\n",
    "        break\n",
    "    print(i)"
   ]
  },
  {
   "cell_type": "raw",
   "metadata": {},
   "source": [
    "for i in strs:\n",
    "    if i == \"2\":\n",
    "        continue\n",
    "    print(i)"
   ]
  },
  {
   "cell_type": "markdown",
   "metadata": {},
   "source": [
    "可迭代对象"
   ]
  },
  {
   "cell_type": "raw",
   "metadata": {},
   "source": [
    "strs = \"123\"\n",
    "lists = [1, 2, 3]\n",
    "tuples = (1 ,2, 3)\n",
    "sets = {1, 2, 3}\n",
    "dicts = {1:10, 2:20, 3:30}\n",
    "\n",
    "print(strs.__iter__())\n",
    "print(lists.__iter__())\n",
    "print(tuples.__iter__())\n",
    "print(sets.__iter__())\n",
    "print(dicts.__iter__())"
   ]
  },
  {
   "cell_type": "raw",
   "metadata": {},
   "source": [
    "strs = \"123\"\n",
    "it_strs = strs.__iter__()"
   ]
  },
  {
   "cell_type": "markdown",
   "metadata": {},
   "source": [
    "range:返回可迭代器对象"
   ]
  },
  {
   "cell_type": "raw",
   "metadata": {},
   "source": [
    "range(0, -10, 1).__iter__()"
   ]
  },
  {
   "cell_type": "raw",
   "metadata": {},
   "source": [
    "for i in range(0, 10, 2):\n",
    "    print(i, end=\" \")"
   ]
  },
  {
   "cell_type": "markdown",
   "metadata": {},
   "source": [
    "-------------------------------"
   ]
  },
  {
   "cell_type": "markdown",
   "metadata": {},
   "source": [
    "### 异常"
   ]
  },
  {
   "cell_type": "raw",
   "metadata": {},
   "source": [
    "a = 1 / 0\n",
    "print(a)"
   ]
  },
  {
   "cell_type": "markdown",
   "metadata": {},
   "source": [
    "### 异常：try/except"
   ]
  },
  {
   "cell_type": "raw",
   "metadata": {},
   "source": [
    "try:\n",
    "    执行代码\n",
    "except Exception as e:\n",
    "    发生异常时执行的代码\n",
    "    \n",
    "try:\n",
    "    执行代码\n",
    "except:\n",
    "    发生异常时指定的代码\n",
    "finally:\n",
    "    不管有没有异常都会执行的代码"
   ]
  },
  {
   "cell_type": "raw",
   "metadata": {},
   "source": [
    "try:\n",
    "    a = 1 / 0\n",
    "except Exception as e:  # Error是可以自定义的\n",
    "    print(e)"
   ]
  },
  {
   "cell_type": "raw",
   "metadata": {},
   "source": [
    "try:\n",
    "    a = 1 / 0\n",
    "except ZeroDivisionError as e:\n",
    "    print(e)\n",
    "finally:\n",
    "    print(\"error\")"
   ]
  },
  {
   "cell_type": "markdown",
   "metadata": {},
   "source": [
    "### 数据集处理"
   ]
  },
  {
   "cell_type": "markdown",
   "metadata": {},
   "source": [
    "读取文件操作"
   ]
  },
  {
   "cell_type": "raw",
   "metadata": {},
   "source": [
    "my_id_path = \"./data/my_data/my_id.txt\"\n",
    "\n",
    "files = open(my_id_path,\"r\")\n",
    "files.read()\n",
    "files.close()"
   ]
  },
  {
   "cell_type": "markdown",
   "metadata": {},
   "source": [
    "使用with进行文件的读取"
   ]
  },
  {
   "cell_type": "raw",
   "metadata": {},
   "source": [
    "class Open(object):\n",
    "    \n",
    "    def __init__(self):\n",
    "        print(\"初始化文件\")\n",
    "    \n",
    "    def __enter__(self):\n",
    "        print(\"打开文件\")\n",
    "    \n",
    "    def __exit__(self, exc_type, exc_val, exc_tb):\n",
    "        print(\"关闭文件\")\n",
    "        \n",
    "my_open = Open()\n",
    "\n",
    "with my_open:\n",
    "    print(\"读取文件\")"
   ]
  },
  {
   "cell_type": "markdown",
   "metadata": {},
   "source": [
    "读取图片信息"
   ]
  },
  {
   "cell_type": "raw",
   "metadata": {},
   "source": [
    "import os  # os 模块提供了非常丰富的方法用来处理文件和目录\n",
    "\n",
    "my_img_root_path = \"./data/my_data/my_img\"\n",
    "my_id_path = \"./data/my_data/my_id.txt\"\n",
    "\n",
    "my_images = []\n",
    "with open(os.path.join(my_id_path), \"r\") as id_file:\n",
    "    images = id_file.readlines()\n",
    "#     print(images)\n",
    "    for image in images:\n",
    "#         print(image[:-1])  # 去掉回车\n",
    "        temp_image = os.path.join(my_img_root_path, image[:-1])\n",
    "        my_images.append(temp_image)\n",
    "    \n",
    "imgs = []\n",
    "ids = []\n",
    "\n",
    "for info in my_images:\n",
    "    split_info = info.split()\n",
    "    imgs.append(split_info[0])\n",
    "\n",
    "imgs"
   ]
  },
  {
   "cell_type": "markdown",
   "metadata": {},
   "source": [
    "显示图片"
   ]
  },
  {
   "cell_type": "raw",
   "metadata": {},
   "source": [
    "import matplotlib.pyplot as plt\n",
    "import matplotlib.pyplot as mpimg\n",
    "import random\n",
    "\n",
    "\n",
    "image = random.shuffle(imgs)\n",
    "image = mpimg.imread(imgs[0])\n",
    "plt.imshow(image)\n",
    "plt.show()"
   ]
  },
  {
   "cell_type": "markdown",
   "metadata": {},
   "source": [
    "--------"
   ]
  }
 ],
 "metadata": {
  "kernelspec": {
   "display_name": "Python 3",
   "language": "python",
   "name": "python3"
  },
  "language_info": {
   "codemirror_mode": {
    "name": "ipython",
    "version": 3
   },
   "file_extension": ".py",
   "mimetype": "text/x-python",
   "name": "python",
   "nbconvert_exporter": "python",
   "pygments_lexer": "ipython3",
   "version": "3.7.0"
  }
 },
 "nbformat": 4,
 "nbformat_minor": 2
}
