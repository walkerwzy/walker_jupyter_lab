{
 "cells": [
  {
   "cell_type": "markdown",
   "metadata": {},
   "source": [
    "### 基数排序"
   ]
  },
  {
   "cell_type": "markdown",
   "metadata": {},
   "source": [
    "算法实现原理：先排元素的最后一位，再排倒数第二位，直到所有位数都排完。"
   ]
  },
  {
   "cell_type": "markdown",
   "metadata": {},
   "source": [
    "![avatar](./00_img/radixSort.gif)"
   ]
  },
  {
   "cell_type": "raw",
   "metadata": {},
   "source": [
    "[3, 44, 38, 5, 47, 15, 36, 26, 27, 2, 46, 4, 19, 50, 48]\n",
    "\n",
    "最后一位: [50, 2, 3, 44, 4, 5, 15, 36, 26, 46, 47, 27, 38, 48, 19]\n",
    "\n",
    "倒数第二位：[2, 3, 4, 5, 15, 19, 26, 27, 36, 38, 44, 46, 47, 48, 50]"
   ]
  },
  {
   "cell_type": "markdown",
   "metadata": {},
   "source": [
    "代码实现"
   ]
  },
  {
   "cell_type": "code",
   "execution_count": 11,
   "metadata": {},
   "outputs": [
    {
     "name": "stdout",
     "output_type": "stream",
     "text": [
      "排序前：[3, 44, 38, 5, 47, 15, 36, 26, 27, 2, 46, 4, 19, 50, 48]\n",
      "第1步 ===> bucket_list = [[50], [], [2], [3], [44, 4], [5, 15], [36, 26, 46], [47, 27], [38, 48], [19]]\n",
      "第1步 ===> arr = [50, 2, 3, 44, 4, 5, 15, 36, 26, 46, 47, 27, 38, 48, 19]\n",
      "第2步 ===> bucket_list = [[2, 3, 4, 5], [15, 19], [26, 27], [36, 38], [44, 46, 47, 48], [50], [], [], [], []]\n",
      "第2步 ===> arr = [2, 3, 4, 5, 15, 19, 26, 27, 36, 38, 44, 46, 47, 48, 50]\n",
      "排序后：[2, 3, 4, 5, 15, 19, 26, 27, 36, 38, 44, 46, 47, 48, 50]\n"
     ]
    }
   ],
   "source": [
    "def radix_sort(arr):\n",
    "    count = 1  # 定义计步器\n",
    "    index = 0  # 定义arr中最开始的索引位置\n",
    "    max_num = max(arr)  # 获取arr中最大值\n",
    "    max_num_len = len(str(max_num))  # 获取最大值的位数\n",
    "    \n",
    "    while index < max_num_len:  # 开始循环比较， 当前我们的数组仅仅有两个值，所以仅仅需要循环两次即可\n",
    "        \n",
    "        bucket_list = [ [] for _ in range(10)]  # 初始化一个桶数组\n",
    "        \n",
    "        for x in arr:  # 遍历 arr数组\n",
    "            temp = (x // 10 ** index) % 10  # 获取当前元素的在桶中的位置\n",
    "            bucket_list[temp].append(x)  # 将当前元素放入到桶中\n",
    "        \n",
    "        print(f\"第{count}步 ===> bucket_list = {bucket_list}\")  \n",
    "\n",
    "        arr.clear()  # 清除原arr数组\n",
    "        \n",
    "        for x in bucket_list:  # 将桶中的数据放回原数组中\n",
    "            for y in x:\n",
    "                arr.append(y)\n",
    "        print(f\"第{count}步 ===> arr = {arr}\")  \n",
    "        \n",
    "        count += 1  # 计步器加一\n",
    "        \n",
    "        index += 1  # 最开始索引向后移动\n",
    "    \n",
    "    return arr\n",
    "\n",
    "if __name__ == \"__main__\":\n",
    "    arr = [3, 44, 38, 5, 47, 15, 36, 26, 27, 2, 46, 4, 19, 50, 48]\n",
    "    print(f\"排序前：{arr}\")\n",
    "    new_arr = radix_sort(arr)\n",
    "    print(f\"排序后：{new_arr}\")"
   ]
  },
  {
   "cell_type": "markdown",
   "metadata": {},
   "source": [
    "----"
   ]
  },
  {
   "cell_type": "markdown",
   "metadata": {},
   "source": [
    "### 解析mnist数据集"
   ]
  },
  {
   "cell_type": "markdown",
   "metadata": {},
   "source": [
    "什么是mnist数据集？\n",
    "\n",
    "官方地址：http://yann.lecun.com/exdb/mnist/\n",
    "\n",
    "mnist是一个手写数字图片数据集：这个数据集中包含$60000$个训练样本和$10000$个测试样本\n",
    "\n",
    "手写数字图片：样例\n",
    "\n",
    "![avatar](./00_img/mnist.png)\n",
    "\n",
    "这个数据集的意义：使用深度学习模型训练手写数字识别，如同使用python打印hello world！\n",
    "\n",
    "数据集样式\n",
    "\n",
    "![avatar](./00_img/mnist2.png)"
   ]
  },
  {
   "cell_type": "raw",
   "metadata": {},
   "source": [
    "注意：.gz 文件使用： gzip - d 文件名的方式进行解压"
   ]
  },
  {
   "cell_type": "markdown",
   "metadata": {},
   "source": [
    "- train : labels images\n",
    "- test : labels images"
   ]
  },
  {
   "cell_type": "markdown",
   "metadata": {},
   "source": [
    "解析标签"
   ]
  },
  {
   "cell_type": "markdown",
   "metadata": {},
   "source": [
    "![avatar](./00_img/mnist3.png)"
   ]
  },
  {
   "cell_type": "raw",
   "metadata": {},
   "source": [
    "offset : 0000  ： 0号位置\n",
    "type : 32 bit integer  ： 32位整数 = 4字节\n",
    "value : 0x00000801(2049)  ： 当前的值， 用于文件校验\n",
    "description : margic number(MSB first)  ： 字节序规范， big-endian 大端模式"
   ]
  },
  {
   "cell_type": "markdown",
   "metadata": {},
   "source": [
    "字节的概念(了解)"
   ]
  },
  {
   "cell_type": "raw",
   "metadata": {},
   "source": [
    "计算机五部件：输入输出设备，存储器、运算器、控制器\n",
    "\n",
    "其中存储器是用来存放程序和数据的\n",
    "\n",
    "存储器分为主存(内存)和辅存，主存直接与cpu进行通信，辅存帮助主存记忆更多信息\n",
    "\n",
    "主存储器是由许多存储单元组成，每个存储单元包含若干存储元件，每个存储元件存储一个二进制代码\"0\"或\"1\"\n",
    "\n",
    "因此存储单元可以存储一串二进制代码，称这串代码为存储字，称这串代码的位数为存储字长，如果这串代码的长度为8，那么就称，这个代码为8bit，也就是占用1字节"
   ]
  },
  {
   "cell_type": "raw",
   "metadata": {},
   "source": [
    "1Byte=8bit  (1B＝8bit) \n",
    "1KB=1024Byte(字节)=8*1024bit\n",
    "1MB=1024KB\n",
    "1GB=1024MB\n",
    "1TB=1024GB"
   ]
  },
  {
   "cell_type": "raw",
   "metadata": {},
   "source": [
    "int       32bit  \n",
    "short     16bit  \n",
    "long      64bit\n",
    "byte      8bit\n",
    "char      16bit\n",
    "float     32bit\n",
    "double    64bit\n",
    "boolean   1bit"
   ]
  },
  {
   "cell_type": "markdown",
   "metadata": {},
   "source": [
    "----"
   ]
  },
  {
   "cell_type": "markdown",
   "metadata": {},
   "source": [
    "大端模式（big-endian）与小端模式（little-endian）【了解】"
   ]
  },
  {
   "cell_type": "markdown",
   "metadata": {},
   "source": [
    "大端模式是指数据的低位保存在内存的高地址中，而数据的高位保存在内存的低地址中.\n",
    "\n",
    "小端模式是指数据的低位保存在内存的低地址中，而数据的高位保存在内存的高地址中。"
   ]
  },
  {
   "cell_type": "markdown",
   "metadata": {},
   "source": [
    "### 假设从地址 0x4000开始存放\n",
    "\n",
    "### 16bit=2Byte"
   ]
  },
  {
   "cell_type": "markdown",
   "metadata": {},
   "source": [
    "#### 小端模式：\n",
    "- 内存地址：\n",
    "    - 0x4000\n",
    "    - 0x4001\n",
    "- 存放内容：\n",
    "    - 0x34\n",
    "    - 0x12\n",
    "#### 大端模式：\n",
    "- 内存地址:\n",
    "    - 0x4000\n",
    "    - 0x4001\n",
    "- 存放内容:\n",
    "    - 0x12\n",
    "    - 0x34"
   ]
  },
  {
   "cell_type": "markdown",
   "metadata": {},
   "source": [
    "### 32bit = 4Byte\n",
    "\n",
    "- 小端模式:\n",
    "    - 内存地址\n",
    "        - 0x4000\n",
    "        - 0x4001\n",
    "        - 0x4002\n",
    "        - 0x4003\n",
    "    - 存放内容\n",
    "        - 0x78\n",
    "        - 0x56\n",
    "        - 0x34\n",
    "        - 0x12\n",
    "        \n",
    "- 大端模式:\n",
    "    - 内存地址\n",
    "        - 0x4000\n",
    "        - 0x4001\n",
    "        - 0x4002\n",
    "        - 0x4003\n",
    "    - 存放内容\n",
    "        - 0x12\n",
    "        - 0x34\n",
    "        - 0x56\n",
    "        - 0x78"
   ]
  },
  {
   "cell_type": "markdown",
   "metadata": {},
   "source": [
    "----"
   ]
  },
  {
   "cell_type": "markdown",
   "metadata": {},
   "source": [
    "处理标签文件"
   ]
  },
  {
   "cell_type": "code",
   "execution_count": 38,
   "metadata": {},
   "outputs": [],
   "source": [
    "with open(\"./data/MNIST/raw/t10k-labels-idx1-ubyte\", \"rb\") as f:\n",
    "    data = f.read()"
   ]
  },
  {
   "cell_type": "code",
   "execution_count": 39,
   "metadata": {},
   "outputs": [
    {
     "data": {
      "text/plain": [
       "b'\\x00\\x00\\x08\\x01'"
      ]
     },
     "execution_count": 39,
     "metadata": {},
     "output_type": "execute_result"
    }
   ],
   "source": [
    "data[:4]"
   ]
  },
  {
   "cell_type": "code",
   "execution_count": 40,
   "metadata": {},
   "outputs": [
    {
     "data": {
      "text/plain": [
       "2049"
      ]
     },
     "execution_count": 40,
     "metadata": {},
     "output_type": "execute_result"
    }
   ],
   "source": [
    "import struct\n",
    "\n",
    "struct.unpack(\">i\", data[:4])[0]"
   ]
  },
  {
   "cell_type": "code",
   "execution_count": 41,
   "metadata": {},
   "outputs": [
    {
     "data": {
      "text/plain": [
       "10000"
      ]
     },
     "execution_count": 41,
     "metadata": {},
     "output_type": "execute_result"
    }
   ],
   "source": [
    "struct.unpack(\">i\", data[4:8])[0]"
   ]
  },
  {
   "cell_type": "code",
   "execution_count": 42,
   "metadata": {},
   "outputs": [
    {
     "data": {
      "text/plain": [
       "(2049, 10000)"
      ]
     },
     "execution_count": 42,
     "metadata": {},
     "output_type": "execute_result"
    }
   ],
   "source": [
    "magic_number, items_number = struct.unpack(\">ii\", data[0:8])\n",
    "magic_number, items_number"
   ]
  },
  {
   "cell_type": "code",
   "execution_count": 43,
   "metadata": {},
   "outputs": [],
   "source": [
    "import numpy as np"
   ]
  },
  {
   "cell_type": "code",
   "execution_count": 44,
   "metadata": {},
   "outputs": [
    {
     "data": {
      "text/plain": [
       "array([7, 2, 1, ..., 4, 5, 6])"
      ]
     },
     "execution_count": 44,
     "metadata": {},
     "output_type": "execute_result"
    }
   ],
   "source": [
    "np.asarray(bytearray(data[8:]), dtype=\"int\")"
   ]
  },
  {
   "cell_type": "code",
   "execution_count": 45,
   "metadata": {},
   "outputs": [
    {
     "data": {
      "text/plain": [
       "(10000,)"
      ]
     },
     "execution_count": 45,
     "metadata": {},
     "output_type": "execute_result"
    }
   ],
   "source": [
    "np.asarray(bytearray(data[8:]), dtype=\"int\").shape"
   ]
  },
  {
   "cell_type": "code",
   "execution_count": 46,
   "metadata": {},
   "outputs": [],
   "source": [
    "def load_labels(file_name):\n",
    "    with open(file_name, \"rb\") as f:\n",
    "        labels = f.read()\n",
    "    magic_number, items_number = struct.unpack(\">ii\", data[0:8])\n",
    "    print(file_name)\n",
    "    print(magic_number)\n",
    "    if magic_number != 2049:\n",
    "        raise TypeError(\"File is not label file.\")\n",
    "    return np.asarray(bytearray(data[8:]), dtype=\"int\")"
   ]
  },
  {
   "cell_type": "markdown",
   "metadata": {},
   "source": [
    "解析图片"
   ]
  },
  {
   "cell_type": "markdown",
   "metadata": {},
   "source": [
    "![avatar](./00_img/mnist4.png)"
   ]
  },
  {
   "cell_type": "code",
   "execution_count": 47,
   "metadata": {},
   "outputs": [
    {
     "data": {
      "text/plain": [
       "(2051, 10000, 28, 28)"
      ]
     },
     "execution_count": 47,
     "metadata": {},
     "output_type": "execute_result"
    }
   ],
   "source": [
    "with open(\"data/MNIST/raw/t10k-images-idx3-ubyte\", \"rb\") as  f:\n",
    "    images = f.read()\n",
    "    \n",
    "magic_number, image_number, rows_number, col_number = struct.unpack(\">iiii\", images[:16])\n",
    "magic_number, image_number, rows_number, col_number"
   ]
  },
  {
   "cell_type": "code",
   "execution_count": 3,
   "metadata": {},
   "outputs": [],
   "source": [
    "# import struct\n",
    "# help(struct)"
   ]
  },
  {
   "cell_type": "code",
   "execution_count": 48,
   "metadata": {},
   "outputs": [
    {
     "data": {
      "text/plain": [
       "7840000"
      ]
     },
     "execution_count": 48,
     "metadata": {},
     "output_type": "execute_result"
    }
   ],
   "source": [
    "pixel = images[16:]\n",
    "len(pixel)"
   ]
  },
  {
   "cell_type": "code",
   "execution_count": 49,
   "metadata": {},
   "outputs": [
    {
     "data": {
      "text/plain": [
       "(784,)"
      ]
     },
     "execution_count": 49,
     "metadata": {},
     "output_type": "execute_result"
    }
   ],
   "source": [
    "image = pixel[:rows_number*col_number]\n",
    "\n",
    "np.asarray(bytearray(image), dtype=np.uint8).shape"
   ]
  },
  {
   "cell_type": "code",
   "execution_count": 50,
   "metadata": {},
   "outputs": [
    {
     "data": {
      "text/plain": [
       "(784,)"
      ]
     },
     "execution_count": 50,
     "metadata": {},
     "output_type": "execute_result"
    }
   ],
   "source": [
    "image = pixel[rows_number*col_number:2*rows_number*col_number]\n",
    "\n",
    "np.asarray(bytearray(image), dtype=np.uint8).shape"
   ]
  },
  {
   "cell_type": "code",
   "execution_count": 51,
   "metadata": {},
   "outputs": [],
   "source": [
    "pimage = np.asarray(bytearray(image), dtype=np.uint8).reshape(28, 28)"
   ]
  },
  {
   "cell_type": "code",
   "execution_count": 52,
   "metadata": {},
   "outputs": [
    {
     "data": {
      "text/plain": [
       "<matplotlib.image.AxesImage at 0x7fad3a232ba8>"
      ]
     },
     "execution_count": 52,
     "metadata": {},
     "output_type": "execute_result"
    },
    {
     "data": {
      "image/png": "[encoded data removed]",
      "text/plain": [
       "<Figure size 432x288 with 1 Axes>"
      ]
     },
     "metadata": {
      "needs_background": "light"
     },
     "output_type": "display_data"
    }
   ],
   "source": [
    "import matplotlib.pyplot as plt\n",
    "\n",
    "plt.imshow(pimage)"
   ]
  },
  {
   "cell_type": "code",
   "execution_count": 53,
   "metadata": {},
   "outputs": [],
   "source": [
    "def load_image(file_name):\n",
    "    with open(file_name, \"rb\") as  f:\n",
    "        images = f.read()\n",
    "    \n",
    "    magic_number, image_number, rows_number, col_number = struct.unpack(\">iiii\", images[:16])\n",
    "    if magic_number != 2051:\n",
    "        raise TypeError(\"File is not image file.\")\n",
    "    return np.asarray(bytearray(images[16:]), dtype=np.uint8).reshape(image_number, -1)"
   ]
  },
  {
   "cell_type": "code",
   "execution_count": 54,
   "metadata": {},
   "outputs": [
    {
     "data": {
      "text/plain": [
       "(10000, 784)"
      ]
     },
     "execution_count": 54,
     "metadata": {},
     "output_type": "execute_result"
    }
   ],
   "source": [
    "load_image(\"data/MNIST/raw/t10k-images-idx3-ubyte\").shape"
   ]
  },
  {
   "cell_type": "code",
   "execution_count": 55,
   "metadata": {},
   "outputs": [],
   "source": [
    "# load_image(\"data/MNIST/raw/t10k-labels-idx1-ubyte\").shape"
   ]
  },
  {
   "cell_type": "code",
   "execution_count": 16,
   "metadata": {},
   "outputs": [],
   "source": [
    "import struct\n",
    "import numpy as np\n",
    "import matplotlib.pyplot as plt\n",
    "\n",
    "class DataSet:\n",
    "    \n",
    "    def __init__(self, label_path, image_path, index):\n",
    "        self.label_path = label_path\n",
    "        self.image_path = image_path\n",
    "        self.index = index\n",
    "    \n",
    "    def load_labels(self):\n",
    "        with open(self.label_path, \"rb\") as f:\n",
    "            labels = f.read()\n",
    "        magic_number, items_number = struct.unpack(\">ii\", labels[0:8])\n",
    "        if magic_number != 2049:\n",
    "            raise TypeError(\"File is not label file.\")\n",
    "        return np.asarray(bytearray(labels[8:]), dtype=\"int\")[self.index]\n",
    "        \n",
    "    def load_image(self):\n",
    "        with open(self.image_path, \"rb\") as  f:\n",
    "            images = f.read()\n",
    "\n",
    "        magic_number, image_number, rows_number, col_number = struct.unpack(\">iiii\", images[:16])\n",
    "        if magic_number != 2051:\n",
    "            raise TypeError(\"File is not image file.\")\n",
    "        return np.asarray(bytearray(images[16:]), dtype=np.uint8).reshape(image_number, -1)[self.index].reshape(28, 28)"
   ]
  },
  {
   "cell_type": "code",
   "execution_count": 17,
   "metadata": {},
   "outputs": [
    {
     "name": "stdout",
     "output_type": "stream",
     "text": [
      "9\n"
     ]
    },
    {
     "data": {
      "text/plain": [
       "<matplotlib.image.AxesImage at 0x7f017159b5c0>"
      ]
     },
     "execution_count": 17,
     "metadata": {},
     "output_type": "execute_result"
    },
    {
     "data": {
      "image/png": "[encoded data removed]",
      "text/plain": [
       "<Figure size 432x288 with 1 Axes>"
      ]
     },
     "metadata": {
      "needs_background": "light"
     },
     "output_type": "display_data"
    }
   ],
   "source": [
    "image_path = \"data/MNIST/raw/t10k-images-idx3-ubyte\"\n",
    "label_path = \"./data/MNIST/raw/t10k-labels-idx1-ubyte\"\n",
    "data = DataSet(label_path, image_path, 9)\n",
    "label = data.load_labels()\n",
    "print(label)\n",
    "image = data.load_image()\n",
    "plt.imshow(image)"
   ]
  }
 ],
 "metadata": {
  "kernelspec": {
   "display_name": "Python 3",
   "language": "python",
   "name": "python3"
  },
  "language_info": {
   "codemirror_mode": {
    "name": "ipython",
    "version": 3
   },
   "file_extension": ".py",
   "mimetype": "text/x-python",
   "name": "python",
   "nbconvert_exporter": "python",
   "pygments_lexer": "ipython3",
   "version": "3.7.0"
  }
 },
 "nbformat": 4,
 "nbformat_minor": 2
}
