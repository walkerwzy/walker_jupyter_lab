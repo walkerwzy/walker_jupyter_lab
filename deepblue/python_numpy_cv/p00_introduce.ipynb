{
 "cells": [
  {
   "cell_type": "markdown",
   "metadata": {},
   "source": [
    "### 课程介绍\n",
    "- 本课程为深度学习视觉算法基础课程\n",
    "    - 内容包括：开发软件的使用、python(深度学习算法方面的知识点)、numpy、计算机视觉OpenCV\n",
    "    - 目标\n",
    "        - 能够熟练掌握开发环境的搭建和软件的使用；\n",
    "        - 能够熟练掌握python语言；\n",
    "        - 能够熟练的使用科学计算库，可以实现相应的运算；\n",
    "        - 能够使用OpenCV对图像进行处理；\n",
    "        - 掌握一些基本的深度学习原理，比如梯度下降优化器，激活函数等；\n",
    "    - 学习要求\n",
    "        - 在保证能够听懂的前提，跟着操作"
   ]
  }
 ],
 "metadata": {
  "kernelspec": {
   "display_name": "Python 3",
   "language": "python",
   "name": "python3"
  },
  "language_info": {
   "codemirror_mode": {
    "name": "ipython",
    "version": 3
   },
   "file_extension": ".py",
   "mimetype": "text/x-python",
   "name": "python",
   "nbconvert_exporter": "python",
   "pygments_lexer": "ipython3",
   "version": "3.7.0"
  }
 },
 "nbformat": 4,
 "nbformat_minor": 2
}
