{
 "cells": [
  {
   "cell_type": "markdown",
   "metadata": {},
   "source": [
    "### 简单选择排序\n",
    "\n",
    "算法思想\n",
    "\n",
    "![avatar](./00_img/selectionSort.gif)"
   ]
  },
  {
   "cell_type": "raw",
   "metadata": {},
   "source": [
    "list = [9, 2, 1, 4, 5, 6]\n",
    "\n",
    "1, 2, 9, 4, 5, 6\n",
    "\n",
    "1, 2, 9, 4, 5, 6\n",
    "\n",
    "1, 2, 4, 9, 5, 6\n",
    "\n",
    "1, 2, 4, 5, 9, 6\n",
    "\n",
    "1, 2, 4, 5, 6, 9"
   ]
  },
  {
   "cell_type": "markdown",
   "metadata": {},
   "source": [
    "代码实现"
   ]
  },
  {
   "cell_type": "code",
   "execution_count": 21,
   "metadata": {},
   "outputs": [
    {
     "name": "stdout",
     "output_type": "stream",
     "text": [
      "排序前：[8, 9, 1, 7, 2, 3, 5, 4, 6, 0]\n",
      "排序后：[0, 1, 2, 3, 4, 5, 6, 7, 8, 9]\n"
     ]
    }
   ],
   "source": [
    "def selectionSort(arr):\n",
    "    for i in range(len(arr)):  # 变量所有变量\n",
    "        min_index = i  # 将当前索引设置为最小值\n",
    "        for j in range(i+1, len(arr)):  # 从第二个索引开始进行遍历\n",
    "            if arr[min_index] > arr[j]:  # 如果当前索引小于后面的索引值\n",
    "                min_index = j  # 将当前索引设置为最小，直至变量完毕\n",
    "        arr[i], arr[min_index] = arr[min_index], arr[i]  # 将最小值与当前索引交换位置\n",
    "    return arr  # 返回列表\n",
    "\n",
    "arr = [8, 9, 1, 7, 2, 3, 5, 4, 6, 0]\n",
    "print(f\"排序前：{arr}\")\n",
    "arr = selectionSort(arr)\n",
    "print(f\"排序后：{arr}\")"
   ]
  },
  {
   "cell_type": "markdown",
   "metadata": {},
   "source": [
    "### 希尔排序"
   ]
  },
  {
   "cell_type": "markdown",
   "metadata": {},
   "source": [
    "算法原理\n",
    "\n",
    "![avatar](./00_img/xier0.png)"
   ]
  },
  {
   "cell_type": "markdown",
   "metadata": {},
   "source": [
    "代码实现"
   ]
  },
  {
   "cell_type": "raw",
   "metadata": {},
   "source": [
    "9 8 1 7 2 3 5 4 6 0 \n",
    "\n",
    "3 5 1 6 0 9 8 4 7 2\n",
    "\n",
    "0 2 1 4 3 5 7 6 8 9\n",
    "\n",
    "\n",
    "step=len(arr) // 2 = 5\n",
    "\n",
    "[9, 3] [8, 5] [1, 4] [7, 6] [2, 0]\n",
    "\n",
    "[3, 9] [5, 8] [1, 4] [6, 7] [0, 2]\n",
    " \n",
    " \n",
    "step = step // 2 = 2\n",
    "\n",
    "[3, 1, 0, 8, 7]  [5, 6, 9, 4, 2]\n",
    "\n",
    "[0, 1, 3, 7, 8]  [2, 4, 5, 6, 9]\n",
    "\n",
    "step = step // 2 = 1\n",
    "\n",
    "[0 2 1 4 3 5 7 6 8 9]\n",
    "\n",
    "0 1 2 3 4 5 6 7 8 9  "
   ]
  },
  {
   "cell_type": "code",
   "execution_count": 22,
   "metadata": {},
   "outputs": [
    {
     "name": "stdout",
     "output_type": "stream",
     "text": [
      "排序前：[8, 9, 1, 7, 2, 3, 5, 4, 6, 0]\n",
      "排序后：[0, 1, 2, 3, 4, 5, 6, 7, 8, 9]\n"
     ]
    }
   ],
   "source": [
    "def shellSort(arr): \n",
    "  \n",
    "    # 定义初始分组\n",
    "    group = len(arr)//2  # 5\n",
    "      \n",
    "    while group > 0: # 5 > 0\n",
    "        \n",
    "        \"\"\"\n",
    "        1. [8, 9, 1, 7, 2, 3, 5, 4, 6, 0]\n",
    "        2. [0, 5, 1, 6, 3, 8, 9, 4, 7, 2]\n",
    "        ......\n",
    "        \"\"\"\n",
    "  \n",
    "        for i in range(group,len(arr)): \n",
    "            \"\"\"\n",
    "            1. # i=5 # i=6 # i=7 # i=8 # i=9\n",
    "            2. # i=2 # i=3 # 4 # ...\n",
    "            \"\"\"\n",
    "  \n",
    "            value = arr[i]  \n",
    "            \"\"\"\n",
    "            1. # 3 # 5 # 4 # 6 # 0\n",
    "            2. # 1 # 6 # 0 # ...\n",
    "            \"\"\"\n",
    "            index = i       \n",
    "            \"\"\"\n",
    "            1. # 5 # 6 # 7 # 8 # 9\n",
    "            2. # 2 # 3 # 4 # ...\n",
    "            \"\"\"\n",
    "        \n",
    "            while index >= group and arr[index-group] > value: \n",
    "                \"\"\"\n",
    "                1. \n",
    "                (1) 5 >= 5 and arr[5-5]=8 > 3; 0 >= 5\n",
    "                (2) 6 >= 5 and arr[6-5]=9 > 5; 1 >= 5\n",
    "                (3) 7 >= 5 and arr[7-5]=1 > 4; 2 >= 5\n",
    "                (4) 8 >= 5 and arr[8-5]=7 > 6; 3 >= 5\n",
    "                (5) 9 >= 5 and arr[9-5]=2 > 0; 4 >= 5\n",
    "                2. \n",
    "                (1) 2 >= 2 and arr[2-2]=3 > 1; 0 >= 2\n",
    "                (2) 3 >= 2 and arr[3-2]=5 > 6; 3 >= 2\n",
    "                (3) 4 >= 2 and arr[4-2]=1 > 0 | 2 >=2 and arr[2-2]=3 > 0 | 0 >= 2\n",
    "                   ......\n",
    "                \"\"\"\n",
    "                arr[index] = arr[index-group] \n",
    "                \"\"\"\n",
    "                1.\n",
    "                (1) arr[5] = arr[5-5] = 8 \n",
    "                (2) arr[6] = arr[6-5] = 9\n",
    "                (3) \n",
    "                (4) arr[8] = arr[8-5] = 7\n",
    "                (5) arr[9] = arr[9-5] = 2\n",
    "                2. \n",
    "                (1) arr[2] = arr[2-2] = 3\n",
    "                (2)\n",
    "                (3) arr[4] = arr[4-2] = 1 ; arr[2] = arr[2-2] = 3\n",
    "                .....\n",
    "                \"\"\"\n",
    "                index -= group \n",
    "                \"\"\"\n",
    "                1. # 5-5=0 # 6-5=1 # 7-5=2 #  # 8-5=3 # 9-5=4\n",
    "                2. # 2-2=0 #       #4-2=2 | 2-2=0\n",
    "                ......\n",
    "                \"\"\"\n",
    "            arr[index] = value \n",
    "            \"\"\"\n",
    "            1.\n",
    "            (1) arr[0] = 3 \n",
    "            (2) arr[1] = 5\n",
    "            (3) arr[7] = 4\n",
    "            (4) arr[3] = 6\n",
    "            (5) arr[4] = 0\n",
    "            2. \n",
    "            (1) arr[0] = 1\n",
    "            (2) arr[3] = 6\n",
    "            (3) arr[0] = 0\n",
    "            ......\n",
    "            \"\"\"\n",
    "            \n",
    "        group = group//2  # 5//2=2\n",
    "    \n",
    "    return arr\n",
    "        \n",
    "arr = [8, 9, 1, 7, 2, 3, 5, 4, 6, 0]\n",
    "print(f\"排序前：{arr}\")\n",
    "arr = shellSort(arr)\n",
    "print(f\"排序后：{arr}\")"
   ]
  },
  {
   "cell_type": "markdown",
   "metadata": {},
   "source": [
    "----------"
   ]
  },
  {
   "cell_type": "markdown",
   "metadata": {},
   "source": [
    "### 时间复杂度和空间复杂度（了解）"
   ]
  },
  {
   "cell_type": "markdown",
   "metadata": {},
   "source": [
    "#### 时间复杂度"
   ]
  },
  {
   "cell_type": "markdown",
   "metadata": {},
   "source": [
    "什么是时间复杂度：\n",
    "\n",
    "先了解什么是语句的频度：一条语句在算法中被重复执行的次数\n",
    "\n",
    "将算法中所有语句的频度之和记为$T(n)$, 算法中基本运算的频度与$T(n)$同数量级别\n",
    "\n",
    "因此采用算法中基本运算的频度$f(n)$来分析算法的时间复杂度。\n",
    "\n",
    "时间复杂度记为: $T(n) = O(f(n))$"
   ]
  },
  {
   "cell_type": "raw",
   "metadata": {},
   "source": [
    "for i in range(n):\n",
    "    执行语句"
   ]
  },
  {
   "cell_type": "markdown",
   "metadata": {},
   "source": [
    "上面这个语句会执行$n$次，我们就称这个上面这个代码的时间复杂度是$O(n)$"
   ]
  },
  {
   "cell_type": "raw",
   "metadata": {},
   "source": [
    "for i in range(n):\n",
    "    for j in range(n):\n",
    "        执行语句"
   ]
  },
  {
   "cell_type": "markdown",
   "metadata": {},
   "source": [
    "上面这个语句会执行$n*n$次，我们称上面这个代码的时间复杂度是$O(n^2)$"
   ]
  },
  {
   "cell_type": "raw",
   "metadata": {},
   "source": [
    "i = 1\n",
    "while i < n:\n",
    "    执行语句\n",
    "    i *= 2\n",
    "    \n",
    "    for i in range(n):\n",
    "        for j in range(n):\n",
    "            执行语句"
   ]
  },
  {
   "cell_type": "markdown",
   "metadata": {},
   "source": [
    "上面这个语句中，基本执行语句是: $i *= 2$ , 设执行次数为t, 则 $2^t = n$ 即 $t <= log_2^n$ 即这个代码的时间复杂度是$O(log_2^n)$"
   ]
  },
  {
   "cell_type": "markdown",
   "metadata": {},
   "source": [
    "加法规则：\n",
    "\n",
    "$T(n) = T_1(n) + T_2(n) = O(f(n)) + O(g(n)) = O(max(f(n), g(n)))$\n",
    "\n",
    "乘法规则\n",
    "\n",
    "$T(n) = T_1(n) * T_2(n) = O(f(n)) * O(g(n)) = O(f(n)*g(n))$\n",
    "\n",
    "常见的渐近复杂度\n",
    "\n",
    "$O(1) < O(log_2^n) < O(n) < O(n*long_2^n) < O(n^2) < O(n^3) < O(2^n) < O(n!) < O(n^n)$"
   ]
  },
  {
   "cell_type": "markdown",
   "metadata": {},
   "source": [
    "#### 空间复杂度"
   ]
  },
  {
   "cell_type": "markdown",
   "metadata": {},
   "source": [
    "算法的空间复杂度$S(n)$定义为：该算法所消耗的存储空间，他是问题规模n的函数。记为：$S(n) = O(g(n))$\n",
    "\n",
    "一个程序在执行时，除了需要存储空间来存放本身所用的指令、常数、变量和输入数据外，还需要一些对数据进行操作的工作单元和存储一些为实现计算所需指令的辅助空间。"
   ]
  },
  {
   "cell_type": "markdown",
   "metadata": {},
   "source": [
    "- 冒泡排序（稳定）\n",
    "    - 在排序好的情况下：时间复杂度为$O(n)$\n",
    "    - 在逆序的情况下：时间复杂度为$O(n^2)$\n",
    "    - 空间复杂度：仅仅需要一个temp变量用来交换数据，所以为 $O(1)$\n",
    "- 快速排序（不稳定）\n",
    "    - 最好的情况下：数据从中间划分为两部分，大小为n的数据需要划分$log_2^n$次，即递归$log_2^n$次。 时间复杂度为$O(n*log_2^n)$\n",
    "    - 最坏的情况下：每次都选到数组中的最大值或者最小值，每次划分为$n-1$和$n$两个部分，这样就需要递归$n-1$次，最坏的时间复杂度：$O(n^2)$\n",
    "- 直接插入排序（稳定）\n",
    "    - 最好的情况下：数组有序，依次把数据放在第一个数的后面,$O(n)$\n",
    "    - 最坏的情况下：数据逆序，变量n次数组，每次都需要把n的数据向后移动，$O(n^2)$\n",
    "    - 空间复杂度：仅仅需要一个temp变量用来交换数据，所以为 $O(1)$\n",
    "- 希尔排序（不稳定）\n",
    "    - 最好情况下：数组正序，此时外层循环执行一次，内存循环不执行，$O(n)$\n",
    "    - 最坏情况下：数组逆序，完成循环，内层循环把数据向后移动一位 $O(n^2)$\n",
    "    - 空间复杂度：仅仅需要一个temp变量用来交换数据，一个h保持增量，所以为 $O(1)$\n",
    "- 简单选择排序（不稳定）\n",
    "    - 遍历数组才能找到峰值元素，所以复杂度与原始序列是否有序无关，最好和最坏的时间复杂度都是$O(n^2)$\n",
    "    - 空间复杂度：仅仅需要一个temp变量用来交换数据，所以为 $O(1)$"
   ]
  },
  {
   "cell_type": "raw",
   "metadata": {},
   "source": [
    "[1, 6, 2, 3*, 5, 3]\n",
    "\n",
    "[1, 6, 2, 3*, 5, 3]\n",
    "[1, 2, 6, 3*, 5, 3]\n",
    "[1, 2, 3, ]\n",
    "\n",
    "[1, 2, 3*, 3, 5, 6] # 稳定的\n",
    "\n",
    "[1, 2, 3, 3*, 5, 6] # 不稳定的"
   ]
  },
  {
   "cell_type": "markdown",
   "metadata": {},
   "source": [
    "![avatar](./00_img/sjfzd.png)"
   ]
  },
  {
   "cell_type": "markdown",
   "metadata": {},
   "source": [
    "----"
   ]
  },
  {
   "cell_type": "markdown",
   "metadata": {},
   "source": [
    "### 表达式求导\n",
    "\n",
    "求$(2*x-6y)/(3*x+4*y)$在x=2, y=3处的的导数值"
   ]
  },
  {
   "cell_type": "code",
   "execution_count": 2,
   "metadata": {},
   "outputs": [],
   "source": [
    "class Exp:  # 创建一个表达式类\n",
    "    \n",
    "    def eval(self, **value):  # 计算表达式的值\n",
    "        pass\n",
    "    \n",
    "    def deriv(self, x):  # 对表达式进行求导\n",
    "        pass\n",
    "    \n",
    "    def __add__(self, other):  # 表达式相加操作\n",
    "        return Add(self, other).simplify()\n",
    "    \n",
    "    def __sub__(self, other):   # 表达式相减操作\n",
    "        return Sub(self, other).simplify()\n",
    "    \n",
    "    def __mul__(self, other):  # 表达式相乘操作\n",
    "        return Mul(self, other).simplify()\n",
    "    \n",
    "    def __truediv__(self, other):  # 表达式相除操作\n",
    "        return TrueDiv(self, other).simplify()\n",
    "    \n",
    "    def __neg__(self):\n",
    "        return Neg(self).simplify()\n",
    "    \n",
    "    def __pow__(self, power):\n",
    "        return Pow(self, power).simplify()"
   ]
  },
  {
   "cell_type": "code",
   "execution_count": 3,
   "metadata": {},
   "outputs": [],
   "source": [
    "class Const(Exp):  # 定义表达式中的常数类\n",
    "    def __init__(self, value):  \n",
    "        self.value = value\n",
    "    \n",
    "    def eval(self, **values):  # 获取常数的值\n",
    "        return self.value\n",
    "    \n",
    "    def deriv(self, x):  # 对常数进行求导\n",
    "        return Const(0)\n",
    "    \n",
    "    def __repr__(self):  # 打印结果可见\n",
    "        return str(self.value)"
   ]
  },
  {
   "cell_type": "code",
   "execution_count": 4,
   "metadata": {},
   "outputs": [
    {
     "name": "stdout",
     "output_type": "stream",
     "text": [
      "10\n",
      "<class '__main__.Const'>\n",
      "0\n",
      "10\n",
      "<class 'int'>\n"
     ]
    }
   ],
   "source": [
    "c1 = Const(10)\n",
    "print(c1)\n",
    "print(type(c1))\n",
    "print(c1.deriv(\"x\"))\n",
    "a = c1.eval()\n",
    "print(a)\n",
    "print(type(a))"
   ]
  },
  {
   "cell_type": "code",
   "execution_count": 5,
   "metadata": {},
   "outputs": [],
   "source": [
    "def get_name(x):\n",
    "    if isinstance(x, Variable):  # 判断x是否是变量类，如果是返回变量名\n",
    "        return x.name\n",
    "    if type(x) == str:  # 否则判断是否是str类型\n",
    "        return x"
   ]
  },
  {
   "cell_type": "code",
   "execution_count": 6,
   "metadata": {},
   "outputs": [],
   "source": [
    "class Variable(Exp):   # 定义变量类\n",
    "    def __init__(self, name):\n",
    "        self.name = name\n",
    "    \n",
    "    def eval(self, **values):  # 设置变量值\n",
    "        if self.name in values:  # 如果当前变量存储在传入的数值时，则返回当前的值\n",
    "            return values[self.name]\n",
    "        raise Exception(f\"Variable {self.name} is not found\")  # 否则抛出异常\n",
    "        \n",
    "    def deriv(self, x):  # 对变量进行求导\n",
    "        name = get_name(x)  # 获取变量名称\n",
    "        return Const(1 if name==self.name else 0)  # 判断是否是对自身函数进行求导\n",
    "    \n",
    "    def __repr__(self):\n",
    "        return self.name"
   ]
  },
  {
   "cell_type": "code",
   "execution_count": 7,
   "metadata": {},
   "outputs": [
    {
     "name": "stdout",
     "output_type": "stream",
     "text": [
      "x\n",
      "<class '__main__.Variable'>\n",
      "1\n",
      "y\n",
      "<class '__main__.Variable'>\n",
      "0\n",
      "2\n",
      "3\n"
     ]
    }
   ],
   "source": [
    "x1 = Variable(\"x\")\n",
    "y1 = Variable(\"y\")\n",
    "\n",
    "print(x1)\n",
    "print(type(x1))\n",
    "print(x1.deriv(\"x\"))\n",
    "\n",
    "print(y1)\n",
    "print(type(y1))\n",
    "print(y1.deriv(\"x\"))\n",
    "\n",
    "print(x1.eval(x=2))\n",
    "print(y1.eval(y=3))"
   ]
  },
  {
   "cell_type": "code",
   "execution_count": 8,
   "metadata": {},
   "outputs": [],
   "source": [
    "class Add(Exp):\n",
    "    def __init__(self, left, right):\n",
    "        self.left = left\n",
    "        self.right = right\n",
    "    \n",
    "    def eval(self, **values):\n",
    "        return self.left.eval(**values) + self.right.eval(**values)\n",
    "    \n",
    "    def deriv(self, x):\n",
    "        return self.left.deriv(x) + self.right.deriv(x)\n",
    "    \n",
    "    def __repr__(self):\n",
    "        return f\"({self.left}+{self.right})\"\n",
    "    \n",
    "    def simplify(self):\n",
    "        left, right = self.left, self.right\n",
    "        if isinstance(left, Const):\n",
    "            if left.value == 0:\n",
    "                return right\n",
    "            if isinstance(right, Const):\n",
    "                return Const(left.value + right.value)\n",
    "        elif isinstance(right, Const) and right.value == 0:\n",
    "            return left\n",
    "        return self"
   ]
  },
  {
   "cell_type": "code",
   "execution_count": 9,
   "metadata": {},
   "outputs": [
    {
     "name": "stdout",
     "output_type": "stream",
     "text": [
      "30\n",
      "0\n",
      "6\n",
      "1\n",
      "1\n"
     ]
    }
   ],
   "source": [
    "c1 = Const(10)\n",
    "c2 = Const(20)\n",
    "\n",
    "print((c1 + c2).eval())\n",
    "print((c1 + c2).deriv(\"x\").eval())\n",
    "\n",
    "x = Variable(\"x\")\n",
    "y = Variable(\"y\")\n",
    "\n",
    "print((x+y).eval(x=2, y=4))\n",
    "print((x+y).deriv(\"y\").eval())\n",
    "print((x+y).deriv(\"y\"))"
   ]
  },
  {
   "cell_type": "code",
   "execution_count": 10,
   "metadata": {},
   "outputs": [],
   "source": [
    "class Neg(Exp):\n",
    "    def __init__(self, value):\n",
    "        self.value = value\n",
    "\n",
    "    def eval(self, **values):\n",
    "        return -self.value.eval(**values)\n",
    "\n",
    "    def simplify(self):\n",
    "        if isinstance(self.value, Const):\n",
    "            return Const(-self.value.value)\n",
    "        return self\n",
    "\n",
    "    def deriv(self, x):\n",
    "        return -self.value.deriv(x)\n",
    "\n",
    "    def __repr__(self):\n",
    "        return '(-%s)' % self.value"
   ]
  },
  {
   "cell_type": "code",
   "execution_count": 11,
   "metadata": {},
   "outputs": [],
   "source": [
    "class Sub(Exp):\n",
    "    def __init__(self, left, right):\n",
    "        self.left = left\n",
    "        self.right = right\n",
    "    \n",
    "    def eval(self, **values):\n",
    "        return self.left.eval(**values) - self.right.eval(**values)\n",
    "    \n",
    "    def deriv(self, x):\n",
    "        return self.left.deriv(x) - self.right.deriv(x)\n",
    "    \n",
    "    def __repr__(self):\n",
    "        return f\"({self.left}-{self.right})\"\n",
    "    \n",
    "    def simplify(self):\n",
    "        left, right = self.left, self.right\n",
    "        if isinstance(left, Const):\n",
    "            if left.value == 0:\n",
    "                return - right\n",
    "            if isinstance(right, Const):\n",
    "                return Const(left.value - right.value)\n",
    "        elif isinstance(right, Const) and right.value == 0:\n",
    "            return left\n",
    "        return self"
   ]
  },
  {
   "cell_type": "code",
   "execution_count": 12,
   "metadata": {},
   "outputs": [
    {
     "name": "stdout",
     "output_type": "stream",
     "text": [
      "-10\n",
      "0\n",
      "-2\n",
      "-1\n",
      "-1\n"
     ]
    }
   ],
   "source": [
    "c1 = Const(10)\n",
    "c2 = Const(20)\n",
    "\n",
    "print((c1 - c2).eval())\n",
    "print((c1 - c2).deriv(\"x\").eval())\n",
    "\n",
    "x = Variable(\"x\")\n",
    "y = Variable(\"y\")\n",
    "\n",
    "print((x-y).eval(x=2, y=4))\n",
    "print((x-y).deriv(\"y\").eval())\n",
    "print((x-y).deriv(\"y\"))"
   ]
  },
  {
   "cell_type": "code",
   "execution_count": 13,
   "metadata": {},
   "outputs": [],
   "source": [
    "class Mul(Exp):\n",
    "    def __init__(self, left, right):\n",
    "        self.left = left\n",
    "        self.right = right\n",
    "    \n",
    "    def eval(self, **values):\n",
    "        return self.left.eval(**values) * self.right.eval(**values)\n",
    "    \n",
    "    def deriv(self, x):  #  (uv)' = u'v + uv'\n",
    "        u, v = self.left, self.right\n",
    "        return u.deriv(x) * v + u * v.deriv(x)\n",
    "    \n",
    "    def __repr__(self):\n",
    "        return f\"({self.left}*{self.right})\"\n",
    "    \n",
    "    def simplify(self):\n",
    "        left, right = self.left, self.right\n",
    "        if isinstance(left, Const):\n",
    "            if left.value == 0:\n",
    "                return Const(0)\n",
    "            elif left.value == 1:\n",
    "                return right\n",
    "            if isinstance(right, Const):\n",
    "                return Const(left.value * right.value)\n",
    "        elif isinstance(right, Const):\n",
    "            if right.value == 0:\n",
    "                return Const(0)\n",
    "            elif right.value == 1:\n",
    "                return left\n",
    "        return self"
   ]
  },
  {
   "cell_type": "code",
   "execution_count": 14,
   "metadata": {},
   "outputs": [
    {
     "name": "stdout",
     "output_type": "stream",
     "text": [
      "200\n",
      "0\n",
      "8\n",
      "1\n",
      "x\n"
     ]
    }
   ],
   "source": [
    "c1 = Const(10)\n",
    "c2 = Const(20)\n",
    "\n",
    "print((c1 * c2).eval())\n",
    "print((c1 * c2).deriv(\"x\").eval())\n",
    "\n",
    "x = Variable(\"x\")\n",
    "y = Variable(\"y\")\n",
    "\n",
    "print((x*y).eval(x=2, y=4))\n",
    "print((x*y).deriv(\"y\").eval(x=1, y=2))\n",
    "print((x*y).deriv(\"y\"))  # ((0 * y) + (x * 1))"
   ]
  },
  {
   "cell_type": "code",
   "execution_count": 15,
   "metadata": {},
   "outputs": [],
   "source": [
    "class Pow(Exp):\n",
    "    def __init__(self, base, power):\n",
    "        self.base = base\n",
    "        self.power = power\n",
    "    \n",
    "    def eval(self, **values):\n",
    "        return self.base.eval(**values) ** self.power.eval(**values)\n",
    "    \n",
    "    def __repr__(self):\n",
    "        return f\"{self.base}**{self.power}\"\n",
    "    \n",
    "    def simplify(self):\n",
    "        if isinstance(self.power, Const):\n",
    "            if self.power.value == 0:\n",
    "                return Const(1)\n",
    "            if self.power.value == 1:\n",
    "                return self.base\n",
    "            if isinstance(self.base, Const):\n",
    "                return Const(self.base.value ** self.power.value)\n",
    "        elif isinstance(self.base, Const) and self.base.value in (0, 1):\n",
    "            return Const(self.base.value)\n",
    "        return self"
   ]
  },
  {
   "cell_type": "code",
   "execution_count": 16,
   "metadata": {},
   "outputs": [],
   "source": [
    "class TrueDiv(Exp):\n",
    "    \n",
    "    def __init__(self, left, right):\n",
    "        self.left = left\n",
    "        self.right = right\n",
    "    \n",
    "    def eval(self, **values):\n",
    "        return  self.left.eval(**values) / self.right.eval(**values)\n",
    "    \n",
    "    def deriv(self, x):  #  (u/v)' = (u'v - uv')/v**2\n",
    "        u, v = self.left, self.right\n",
    "        return (u.deriv(x) * v - u * v.deriv(x))/v**Const(2)\n",
    "    \n",
    "    def __repr__(self):\n",
    "        return f\"{self.left}/{self.right}\"\n",
    "    \n",
    "    def simplify(self):\n",
    "        left, right = self.left, self.right\n",
    "        if isinstance(left, Const):\n",
    "            if left.value == 0:\n",
    "                return Const(0)\n",
    "            if isinstance(right, Const):\n",
    "                return Const(left.value / right.value)\n",
    "        elif isinstance(right, Const):\n",
    "            if right.vlaue == 0:\n",
    "                raise Exception('Divided by zero!')\n",
    "            elif right.value == 1:\n",
    "                return left\n",
    "        return self"
   ]
  },
  {
   "cell_type": "code",
   "execution_count": 17,
   "metadata": {},
   "outputs": [
    {
     "name": "stdout",
     "output_type": "stream",
     "text": [
      "0.5\n",
      "0\n",
      "0.5\n",
      "y/y**2\n"
     ]
    }
   ],
   "source": [
    "c1 = Const(10)\n",
    "c2 = Const(20)\n",
    "\n",
    "print((c1 / c2).eval())\n",
    "print((c1 / c2).deriv(\"x\").eval())\n",
    "\n",
    "x = Variable(\"x\")\n",
    "y = Variable(\"y\")\n",
    "\n",
    "print((x/y).eval(x=2, y=4))\n",
    "print((x/y).deriv(\"x\"))"
   ]
  },
  {
   "cell_type": "code",
   "execution_count": 20,
   "metadata": {},
   "outputs": [
    {
     "name": "stdout",
     "output_type": "stream",
     "text": [
      "0.24074074074074073\n",
      "-0.7777777777777778\n"
     ]
    }
   ],
   "source": [
    "c1 = Const(2)\n",
    "c2 = Const(6)\n",
    "c3 = Const(3)\n",
    "c4 = Const(4)\n",
    "\n",
    "x = Variable(\"x\")\n",
    "y = Variable(\"y\")\n",
    "\n",
    "print(((c1 * x - c2 * y) / (c3 * x + c4 * y)).deriv(\"x\").eval(x=2 , y=3))\n",
    "print(((c1 * x - c2 * y) / (c3 * x + c4 * y)).eval(x=2 , y=3))"
   ]
  }
 ],
 "metadata": {
  "kernelspec": {
   "display_name": "Python 3",
   "language": "python",
   "name": "python3"
  },
  "language_info": {
   "codemirror_mode": {
    "name": "ipython",
    "version": 3
   },
   "file_extension": ".py",
   "mimetype": "text/x-python",
   "name": "python",
   "nbconvert_exporter": "python",
   "pygments_lexer": "ipython3",
   "version": "3.7.0"
  }
 },
 "nbformat": 4,
 "nbformat_minor": 2
}
