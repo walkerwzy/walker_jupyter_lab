{
 "cells": [
  {
   "cell_type": "markdown",
   "metadata": {},
   "source": [
    "### 归并排序"
   ]
  },
  {
   "cell_type": "markdown",
   "metadata": {},
   "source": [
    "归并排序（MERGE-SORT）是利用归并的思想实现的排序方法。\n",
    "\n",
    "该算法采用经典的分治（divide-and-conquer）策略\n",
    "\n",
    "分治法将问题分(divide)成一些小的问题然后递归求解，而治(conquer)的阶段则将分的阶段得到的各答案\"修补\"在一起，即分而治之。\n",
    "\n",
    "![avatar](./00_img/dc1.png)\n",
    "\n",
    "算法实现思想\n",
    "\n",
    "![avatar](./00_img/dc2.png)\n",
    "\n",
    "![avatar](./00_img/dc3.png)"
   ]
  },
  {
   "cell_type": "code",
   "execution_count": 1,
   "metadata": {},
   "outputs": [
    {
     "name": "stdout",
     "output_type": "stream",
     "text": [
      "排序前：[8, 4, 5, 7, 1, 3, 6, 2]\n",
      "--------------------arr = [8, 4, 5, 7, 1, 3, 6, 2]--------------------\n",
      "--------------------index_middle=4--------------------\n",
      "--------------------left=[8, 4, 5, 7]--------------------\n",
      "--------------------right=[1, 3, 6, 2]--------------------\n",
      "--------------------arr = [8, 4, 5, 7]--------------------\n",
      "--------------------index_middle=2--------------------\n",
      "--------------------left=[8, 4]--------------------\n",
      "--------------------right=[5, 7]--------------------\n",
      "--------------------arr = [8, 4]--------------------\n",
      "--------------------index_middle=1--------------------\n",
      "--------------------left=[8]--------------------\n",
      "--------------------right=[4]--------------------\n",
      "0: new_left: [8], new_right: [4]\n",
      "--------------------arr = [5, 7]--------------------\n",
      "--------------------index_middle=1--------------------\n",
      "--------------------left=[5]--------------------\n",
      "--------------------right=[7]--------------------\n",
      "1: new_left: [5], new_right: [7]\n",
      "2: new_left: [4, 8], new_right: [5, 7]\n",
      "--------------------arr = [1, 3, 6, 2]--------------------\n",
      "--------------------index_middle=2--------------------\n",
      "--------------------left=[1, 3]--------------------\n",
      "--------------------right=[6, 2]--------------------\n",
      "--------------------arr = [1, 3]--------------------\n",
      "--------------------index_middle=1--------------------\n",
      "--------------------left=[1]--------------------\n",
      "--------------------right=[3]--------------------\n",
      "3: new_left: [1], new_right: [3]\n",
      "--------------------arr = [6, 2]--------------------\n",
      "--------------------index_middle=1--------------------\n",
      "--------------------left=[6]--------------------\n",
      "--------------------right=[2]--------------------\n",
      "4: new_left: [6], new_right: [2]\n",
      "5: new_left: [1, 3], new_right: [2, 6]\n",
      "6: new_left: [4, 5, 7, 8], new_right: [1, 2, 3, 6]\n",
      "排序后：[1, 2, 3, 4, 5, 6, 7, 8]\n"
     ]
    }
   ],
   "source": [
    "def merge(arr_left, arr_right):  # 将一个数组一分为二， 分别是arr_left 和 arr_right\n",
    "    arr_new = []  # 定义新的数组，用来保存排序后的数据\n",
    "    index_left=0  # 定义左侧的初始索引值\n",
    "    index_right = 0  # 定义右侧的初始索引值\n",
    "    while index_left < len(arr_left) and index_right < len(arr_right):  # 定义循环边界\n",
    "        if arr_left[index_left] < arr_right[index_right]:  # 比较arr_left 和 arr_right中的元素\n",
    "            arr_new.append(arr_left[index_left])  # 将小值添加到新的数组中\n",
    "            index_left += 1  # 向后移动当前的索引\n",
    "        else:\n",
    "            arr_new.append(arr_right[index_right]) \n",
    "            index_right += 1\n",
    "    if index_left == len(arr_left):  # 当某个列表中的索引值指向当前列表的最后一个索引\n",
    "        for element in arr_right[index_right:]:  # 将另一个列表中剩余的值全部添加到新的列表中\n",
    "            arr_new.append(element)\n",
    "    else:\n",
    "        for element in arr_left[index_left:]:\n",
    "            arr_new.append(element)\n",
    "    return arr_new  # 返回新的列表\n",
    "\n",
    "count = 0\n",
    "def merge_sort(arr):  # 定义归并排序\n",
    "    global count\n",
    "    if len(arr) <= 1:  # 定义递归边界\n",
    "        return arr\n",
    "    index_middle = len(arr) // 2  # 获取中间索引值\n",
    "    print(\"-\"*20 + f\"arr = {arr}\" + \"-\"*20)\n",
    "    print(\"-\"*20 + f\"index_middle={index_middle}\" + \"-\"*20)\n",
    "    print(\"-\"*20 + f\"left={arr[:index_middle]}\" + \"-\"*20)\n",
    "    print(\"-\"*20 + f\"right={arr[index_middle:]}\" + \"-\"*20)\n",
    "    arr_left = merge_sort(arr[:index_middle])  # 获取左侧列表\n",
    "    arr_right = merge_sort(arr[index_middle:])  # 获取右侧列表\n",
    "    print(f\"{count}: new_left: {arr_left}, new_right: {arr_right}\")\n",
    "    count += 1\n",
    "    return merge(arr_left, arr_right)  # 进行排序\n",
    "\n",
    "if __name__ == \"__main__\":\n",
    "    arr = [8, 4, 5, 7, 1, 3, 6, 2]\n",
    "    print(f\"排序前：{arr}\")\n",
    "    new_arr = merge_sort(arr)\n",
    "    print(f\"排序后：{new_arr}\")"
   ]
  },
  {
   "cell_type": "markdown",
   "metadata": {},
   "source": [
    "### numpy 文件存储"
   ]
  },
  {
   "cell_type": "code",
   "execution_count": 60,
   "metadata": {},
   "outputs": [
    {
     "data": {
      "text/plain": [
       "array([[ 1.61546082,  0.07466355, -0.92363036, -0.6214226 , -0.96719677,\n",
       "        -1.77308229,  1.34272462,  0.40082927,  0.23623542, -0.20244618],\n",
       "       [ 0.4976288 , -0.10527897, -0.98618991,  0.61740292,  0.55307318,\n",
       "        -1.96183344,  1.28274553,  0.22354438,  0.75517737, -1.81244583],\n",
       "       [-0.60489173,  0.49234739, -1.07068952,  0.40936982, -1.23065669,\n",
       "         1.22368758, -0.28581247,  0.09394363, -0.41606811, -0.25500273],\n",
       "       [ 1.83371292, -0.38993914, -0.26833819, -0.25917214,  1.49021679,\n",
       "         0.26387404,  0.43701399,  1.36688675, -0.26962939, -0.95315775],\n",
       "       [-0.85600385, -1.01518095, -1.04081627,  1.90464814,  0.25824461,\n",
       "        -0.43447521, -0.2428918 , -0.01338958, -0.36662925, -0.2304841 ],\n",
       "       [ 1.14591969,  0.44706796,  1.10897874,  1.30390365,  1.86921907,\n",
       "         0.81316047, -1.42057227, -0.70668168,  0.28709691,  0.71161248],\n",
       "       [ 0.72235292, -0.89849235, -0.16875398, -0.58079173,  0.19735372,\n",
       "        -0.2507669 , -0.82338662, -1.15278861, -0.61391581, -0.43940491],\n",
       "       [-0.46195601, -2.20736898, -2.29148465, -0.60111727, -1.52975162,\n",
       "         0.10540687, -0.76845534,  0.26890716,  0.92254532, -0.19407407],\n",
       "       [-0.28357523, -0.42882874, -0.22687655, -0.18902096, -0.17309151,\n",
       "        -0.27429292,  1.32768218, -0.96671348,  0.88413804, -0.60033987],\n",
       "       [-0.66204287,  1.02164175, -0.12067147, -0.98034015,  0.14340258,\n",
       "        -0.83467638,  0.596995  ,  1.62348732,  1.03909974, -0.62422145]])"
      ]
     },
     "execution_count": 60,
     "metadata": {},
     "output_type": "execute_result"
    }
   ],
   "source": [
    "import numpy as np\n",
    "\n",
    "array_random = np.random.randn(10, 10)\n",
    "\n",
    "array_random"
   ]
  },
  {
   "cell_type": "markdown",
   "metadata": {},
   "source": [
    "用.npy格式进行存储和读取"
   ]
  },
  {
   "cell_type": "code",
   "execution_count": 3,
   "metadata": {},
   "outputs": [],
   "source": [
    "np.save(\"./data/array_random.npy\", array_random)"
   ]
  },
  {
   "cell_type": "code",
   "execution_count": 4,
   "metadata": {},
   "outputs": [
    {
     "data": {
      "text/plain": [
       "array([[ 0.87046751,  0.93444058, -0.61323262, -1.08511154,  2.68431742,\n",
       "        -0.2915491 ,  0.4161824 , -0.62513657, -1.03301566,  0.5694993 ],\n",
       "       [ 1.48146081, -0.3018229 , -2.16447243,  0.24250433,  1.14617809,\n",
       "        -0.03041943, -1.65624733,  0.1803135 , -0.01681865,  1.95654946],\n",
       "       [-0.00367223, -0.57103423, -1.06343378,  0.35565001, -0.97287764,\n",
       "        -0.74812872, -1.18918451, -1.0817724 , -0.97877389, -0.11932013],\n",
       "       [ 0.51056779, -0.84726677,  0.51998444,  0.95461929, -0.47211219,\n",
       "        -0.38981433, -0.89940093, -0.59538958,  0.93856179, -0.21488182],\n",
       "       [ 0.44347474, -2.06202838, -0.64412541, -0.06836916, -0.39952263,\n",
       "         0.77289217, -0.37403247, -0.96849594,  0.31472004,  0.85525442],\n",
       "       [-0.8058759 , -1.01426938,  1.2418158 ,  1.14341336,  0.60585975,\n",
       "        -0.33998732,  0.10720739,  0.77538209, -0.89969787,  0.31206597],\n",
       "       [-2.12713352,  2.00608565,  0.13191946,  1.71879245,  0.17141764,\n",
       "         1.43923592,  1.16753163, -1.50639629,  2.93879958,  1.77497526],\n",
       "       [ 0.2555833 , -0.52042693, -0.49622396, -0.19452114, -1.39189428,\n",
       "        -0.10193159, -1.53476899, -1.09463945, -0.33212368, -0.42687677],\n",
       "       [-0.47577819,  0.91954629, -0.09713438, -1.50378905,  0.38447098,\n",
       "         0.65018077,  0.19489424, -0.5119485 ,  0.94431707, -0.84801675],\n",
       "       [-1.25492373,  0.23400671,  1.28138675, -0.76442688,  0.6891106 ,\n",
       "        -0.68432575, -0.36395408, -1.1082357 , -0.71796709, -0.30532769]])"
      ]
     },
     "execution_count": 4,
     "metadata": {},
     "output_type": "execute_result"
    }
   ],
   "source": [
    "array = np.load(\"./data/array_random.npy\")\n",
    "array"
   ]
  },
  {
   "cell_type": "markdown",
   "metadata": {},
   "source": [
    "用.txt格式存储和读取"
   ]
  },
  {
   "cell_type": "code",
   "execution_count": 5,
   "metadata": {},
   "outputs": [],
   "source": [
    "np.savetxt(\"./data/array_random.txt\", array_random)"
   ]
  },
  {
   "cell_type": "code",
   "execution_count": 6,
   "metadata": {},
   "outputs": [],
   "source": [
    "np.savetxt(\"./data/array_random2.txt\", array_random, delimiter=\",\")"
   ]
  },
  {
   "cell_type": "code",
   "execution_count": 7,
   "metadata": {},
   "outputs": [
    {
     "data": {
      "text/plain": [
       "array([[ 0.87046751,  0.93444058, -0.61323262, -1.08511154,  2.68431742,\n",
       "        -0.2915491 ,  0.4161824 , -0.62513657, -1.03301566,  0.5694993 ],\n",
       "       [ 1.48146081, -0.3018229 , -2.16447243,  0.24250433,  1.14617809,\n",
       "        -0.03041943, -1.65624733,  0.1803135 , -0.01681865,  1.95654946],\n",
       "       [-0.00367223, -0.57103423, -1.06343378,  0.35565001, -0.97287764,\n",
       "        -0.74812872, -1.18918451, -1.0817724 , -0.97877389, -0.11932013],\n",
       "       [ 0.51056779, -0.84726677,  0.51998444,  0.95461929, -0.47211219,\n",
       "        -0.38981433, -0.89940093, -0.59538958,  0.93856179, -0.21488182],\n",
       "       [ 0.44347474, -2.06202838, -0.64412541, -0.06836916, -0.39952263,\n",
       "         0.77289217, -0.37403247, -0.96849594,  0.31472004,  0.85525442],\n",
       "       [-0.8058759 , -1.01426938,  1.2418158 ,  1.14341336,  0.60585975,\n",
       "        -0.33998732,  0.10720739,  0.77538209, -0.89969787,  0.31206597],\n",
       "       [-2.12713352,  2.00608565,  0.13191946,  1.71879245,  0.17141764,\n",
       "         1.43923592,  1.16753163, -1.50639629,  2.93879958,  1.77497526],\n",
       "       [ 0.2555833 , -0.52042693, -0.49622396, -0.19452114, -1.39189428,\n",
       "        -0.10193159, -1.53476899, -1.09463945, -0.33212368, -0.42687677],\n",
       "       [-0.47577819,  0.91954629, -0.09713438, -1.50378905,  0.38447098,\n",
       "         0.65018077,  0.19489424, -0.5119485 ,  0.94431707, -0.84801675],\n",
       "       [-1.25492373,  0.23400671,  1.28138675, -0.76442688,  0.6891106 ,\n",
       "        -0.68432575, -0.36395408, -1.1082357 , -0.71796709, -0.30532769]])"
      ]
     },
     "execution_count": 7,
     "metadata": {},
     "output_type": "execute_result"
    }
   ],
   "source": [
    "array = np.loadtxt(\"./data/array_random.txt\")\n",
    "array"
   ]
  },
  {
   "cell_type": "code",
   "execution_count": 8,
   "metadata": {},
   "outputs": [
    {
     "data": {
      "text/plain": [
       "array([[ 0.87046751,  0.93444058, -0.61323262, -1.08511154,  2.68431742,\n",
       "        -0.2915491 ,  0.4161824 , -0.62513657, -1.03301566,  0.5694993 ],\n",
       "       [ 1.48146081, -0.3018229 , -2.16447243,  0.24250433,  1.14617809,\n",
       "        -0.03041943, -1.65624733,  0.1803135 , -0.01681865,  1.95654946],\n",
       "       [-0.00367223, -0.57103423, -1.06343378,  0.35565001, -0.97287764,\n",
       "        -0.74812872, -1.18918451, -1.0817724 , -0.97877389, -0.11932013],\n",
       "       [ 0.51056779, -0.84726677,  0.51998444,  0.95461929, -0.47211219,\n",
       "        -0.38981433, -0.89940093, -0.59538958,  0.93856179, -0.21488182],\n",
       "       [ 0.44347474, -2.06202838, -0.64412541, -0.06836916, -0.39952263,\n",
       "         0.77289217, -0.37403247, -0.96849594,  0.31472004,  0.85525442],\n",
       "       [-0.8058759 , -1.01426938,  1.2418158 ,  1.14341336,  0.60585975,\n",
       "        -0.33998732,  0.10720739,  0.77538209, -0.89969787,  0.31206597],\n",
       "       [-2.12713352,  2.00608565,  0.13191946,  1.71879245,  0.17141764,\n",
       "         1.43923592,  1.16753163, -1.50639629,  2.93879958,  1.77497526],\n",
       "       [ 0.2555833 , -0.52042693, -0.49622396, -0.19452114, -1.39189428,\n",
       "        -0.10193159, -1.53476899, -1.09463945, -0.33212368, -0.42687677],\n",
       "       [-0.47577819,  0.91954629, -0.09713438, -1.50378905,  0.38447098,\n",
       "         0.65018077,  0.19489424, -0.5119485 ,  0.94431707, -0.84801675],\n",
       "       [-1.25492373,  0.23400671,  1.28138675, -0.76442688,  0.6891106 ,\n",
       "        -0.68432575, -0.36395408, -1.1082357 , -0.71796709, -0.30532769]])"
      ]
     },
     "execution_count": 8,
     "metadata": {},
     "output_type": "execute_result"
    }
   ],
   "source": [
    "array = np.loadtxt(\"./data/array_random2.txt\", delimiter=\",\")\n",
    "array"
   ]
  },
  {
   "cell_type": "markdown",
   "metadata": {},
   "source": [
    "----"
   ]
  },
  {
   "cell_type": "markdown",
   "metadata": {},
   "source": [
    "### numpy 矩阵\n",
    "\n",
    "NumPy 中包含了一个矩阵库 numpy.matlib，该模块中的函数返回的是一个矩阵，而不是 ndarray 对象。"
   ]
  },
  {
   "cell_type": "markdown",
   "metadata": {},
   "source": [
    "生成新的矩阵"
   ]
  },
  {
   "cell_type": "code",
   "execution_count": 9,
   "metadata": {},
   "outputs": [
    {
     "name": "stdout",
     "output_type": "stream",
     "text": [
      "[[6.93582915e-310 5.58294180e-322]\n",
      " [4.68633152e-310 4.68633177e-310]]\n",
      "<class 'numpy.matrixlib.defmatrix.matrix'>\n"
     ]
    }
   ],
   "source": [
    "import numpy.matlib \n",
    "\n",
    "matrix = numpy.matlib.empty((2, 2))\n",
    "\n",
    "print(matrix)\n",
    "print(type(matrix))"
   ]
  },
  {
   "cell_type": "code",
   "execution_count": 10,
   "metadata": {},
   "outputs": [
    {
     "data": {
      "text/plain": [
       "matrix([[0., 0.],\n",
       "        [0., 0.]])"
      ]
     },
     "execution_count": 10,
     "metadata": {},
     "output_type": "execute_result"
    }
   ],
   "source": [
    "matrix = numpy.matlib.zeros((2, 2))\n",
    "matrix"
   ]
  },
  {
   "cell_type": "code",
   "execution_count": 11,
   "metadata": {},
   "outputs": [
    {
     "data": {
      "text/plain": [
       "matrix([[1., 1.],\n",
       "        [1., 1.]])"
      ]
     },
     "execution_count": 11,
     "metadata": {},
     "output_type": "execute_result"
    }
   ],
   "source": [
    "matrix = numpy.matlib.ones((2, 2))\n",
    "matrix"
   ]
  },
  {
   "cell_type": "code",
   "execution_count": 12,
   "metadata": {},
   "outputs": [
    {
     "data": {
      "text/plain": [
       "matrix([[1., 0., 0.],\n",
       "        [0., 1., 0.],\n",
       "        [0., 0., 1.]])"
      ]
     },
     "execution_count": 12,
     "metadata": {},
     "output_type": "execute_result"
    }
   ],
   "source": [
    "matrix = numpy.matlib.eye(3, 3)\n",
    "matrix"
   ]
  },
  {
   "cell_type": "code",
   "execution_count": 13,
   "metadata": {},
   "outputs": [
    {
     "data": {
      "text/plain": [
       "matrix([[1, 2],\n",
       "        [3, 4]])"
      ]
     },
     "execution_count": 13,
     "metadata": {},
     "output_type": "execute_result"
    }
   ],
   "source": [
    "matrix = numpy.matrix(\"1, 2; 3, 4\")\n",
    "matrix"
   ]
  },
  {
   "cell_type": "code",
   "execution_count": 14,
   "metadata": {},
   "outputs": [
    {
     "data": {
      "text/plain": [
       "matrix([[1, 3],\n",
       "        [2, 4]])"
      ]
     },
     "execution_count": 14,
     "metadata": {},
     "output_type": "execute_result"
    }
   ],
   "source": [
    "matrix.T"
   ]
  },
  {
   "cell_type": "code",
   "execution_count": 15,
   "metadata": {},
   "outputs": [
    {
     "name": "stdout",
     "output_type": "stream",
     "text": [
      "matrix_A = [[1 2]\n",
      " [3 4]]\n",
      "====================\n",
      "matrix_B = [[4 5]\n",
      " [6 7]]\n",
      "====================\n"
     ]
    }
   ],
   "source": [
    "matrix_A = numpy.matrix(\"1, 2; 3, 4\")\n",
    "matrix_B = numpy.matrix(\"4, 5; 6, 7\")\n",
    "\n",
    "print(f\"matrix_A = {matrix_A}\")\n",
    "print(\"=\"*20)\n",
    "print(f\"matrix_B = {matrix_B}\")\n",
    "print(\"=\"*20)"
   ]
  },
  {
   "cell_type": "code",
   "execution_count": 16,
   "metadata": {},
   "outputs": [
    {
     "name": "stdout",
     "output_type": "stream",
     "text": [
      "[[1 2]\n",
      " [3 4]]\n",
      "[[4 5]\n",
      " [6 7]]\n"
     ]
    }
   ],
   "source": [
    "import numpy as np\n",
    "array_a = np.array([[1, 2],[3, 4]])\n",
    "array_b = np.array([[4, 5],[6, 7]])\n",
    "\n",
    "print(array_a)\n",
    "print(array_b)"
   ]
  },
  {
   "cell_type": "code",
   "execution_count": 17,
   "metadata": {},
   "outputs": [
    {
     "name": "stdout",
     "output_type": "stream",
     "text": [
      "[[ 5  7]\n",
      " [ 9 11]]\n"
     ]
    }
   ],
   "source": [
    "matrix_C = matrix_A + matrix_B\n",
    "print(matrix_C)"
   ]
  },
  {
   "cell_type": "code",
   "execution_count": 18,
   "metadata": {},
   "outputs": [
    {
     "data": {
      "text/plain": [
       "array([[ 5,  7],\n",
       "       [ 9, 11]])"
      ]
     },
     "execution_count": 18,
     "metadata": {},
     "output_type": "execute_result"
    }
   ],
   "source": [
    "array_c = array_a + array_b\n",
    "array_c"
   ]
  },
  {
   "cell_type": "code",
   "execution_count": 19,
   "metadata": {},
   "outputs": [
    {
     "name": "stdout",
     "output_type": "stream",
     "text": [
      "[[-3 -3]\n",
      " [-3 -3]]\n"
     ]
    }
   ],
   "source": [
    "matrix_D = matrix_A - matrix_B\n",
    "print(matrix_D)"
   ]
  },
  {
   "cell_type": "code",
   "execution_count": 20,
   "metadata": {},
   "outputs": [
    {
     "data": {
      "text/plain": [
       "array([[-3, -3],\n",
       "       [-3, -3]])"
      ]
     },
     "execution_count": 20,
     "metadata": {},
     "output_type": "execute_result"
    }
   ],
   "source": [
    "array_c = array_a - array_b\n",
    "array_c"
   ]
  },
  {
   "cell_type": "code",
   "execution_count": 21,
   "metadata": {},
   "outputs": [
    {
     "name": "stdout",
     "output_type": "stream",
     "text": [
      "[[16 19]\n",
      " [36 43]]\n"
     ]
    }
   ],
   "source": [
    "matrix_E = matrix_A @ matrix_B  # matrix_A * matrix_B\n",
    "print(matrix_E)"
   ]
  },
  {
   "cell_type": "code",
   "execution_count": 22,
   "metadata": {},
   "outputs": [
    {
     "data": {
      "text/plain": [
       "array([[16, 19],\n",
       "       [36, 43]])"
      ]
     },
     "execution_count": 22,
     "metadata": {},
     "output_type": "execute_result"
    }
   ],
   "source": [
    "array_c = array_a @ array_b\n",
    "array_c"
   ]
  },
  {
   "cell_type": "code",
   "execution_count": 23,
   "metadata": {},
   "outputs": [
    {
     "name": "stdout",
     "output_type": "stream",
     "text": [
      "[[16 19]\n",
      " [36 43]]\n"
     ]
    }
   ],
   "source": [
    "matrix_F = numpy.dot(matrix_A, matrix_B)\n",
    "print(matrix_F)"
   ]
  },
  {
   "cell_type": "code",
   "execution_count": 24,
   "metadata": {},
   "outputs": [
    {
     "data": {
      "text/plain": [
       "array([[16, 19],\n",
       "       [36, 43]])"
      ]
     },
     "execution_count": 24,
     "metadata": {},
     "output_type": "execute_result"
    }
   ],
   "source": [
    "array_c = numpy.dot(array_a, array_b)\n",
    "array_c"
   ]
  },
  {
   "cell_type": "code",
   "execution_count": 25,
   "metadata": {},
   "outputs": [
    {
     "name": "stdout",
     "output_type": "stream",
     "text": [
      "[[0.25       0.4       ]\n",
      " [0.5        0.57142857]]\n"
     ]
    }
   ],
   "source": [
    "matrix_G = matrix_A / matrix_B\n",
    "print(matrix_G)"
   ]
  },
  {
   "cell_type": "code",
   "execution_count": 26,
   "metadata": {},
   "outputs": [
    {
     "data": {
      "text/plain": [
       "array([[0.25      , 0.4       ],\n",
       "       [0.5       , 0.57142857]])"
      ]
     },
     "execution_count": 26,
     "metadata": {},
     "output_type": "execute_result"
    }
   ],
   "source": [
    "array_c = array_a / array_b\n",
    "array_c"
   ]
  },
  {
   "cell_type": "code",
   "execution_count": 27,
   "metadata": {},
   "outputs": [
    {
     "data": {
      "text/plain": [
       "matrix([[-2. ,  1. ],\n",
       "        [ 1.5, -0.5]])"
      ]
     },
     "execution_count": 27,
     "metadata": {},
     "output_type": "execute_result"
    }
   ],
   "source": [
    "matrix_H = numpy.linalg.inv(matrix_A)  # 取逆\n",
    "matrix_H"
   ]
  },
  {
   "cell_type": "code",
   "execution_count": 28,
   "metadata": {},
   "outputs": [
    {
     "data": {
      "text/plain": [
       "array([[-2. ,  1. ],\n",
       "       [ 1.5, -0.5]])"
      ]
     },
     "execution_count": 28,
     "metadata": {},
     "output_type": "execute_result"
    }
   ],
   "source": [
    "array_c =  numpy.linalg.inv(array_a) \n",
    "array_c"
   ]
  },
  {
   "cell_type": "markdown",
   "metadata": {},
   "source": [
    "#### 矩阵求导\n",
    "1. 考虑矩阵乘法 $$ A \\cdot B = C $$\n",
    "2. 考虑Loss函数 $$ L = \\sum^m_{i}\\sum^n_{j}{(C_{ij} - p)^2} $$\n",
    "3. 考虑C的每一项导数 $$ \\triangledown C_{ij} = \\frac{\\partial L}{\\partial C_{ij}} $$\n",
    "4. 考虑ABC都为2x2矩阵时，定义G为L对C的导数\n",
    "$$A = \\begin{bmatrix}\n",
    "a & b\\\\\n",
    "c & d\n",
    "\\end{bmatrix}\n",
    "\\quad\n",
    "B = \n",
    "\\begin{bmatrix} \n",
    "e & f \\\\\n",
    "g & h\n",
    "\\end{bmatrix}\n",
    "\\quad\n",
    "C = \\begin{bmatrix} \n",
    "i & j \\\\\n",
    "k & l \n",
    "\\end{bmatrix}\n",
    "\\quad\n",
    "G = \\frac{\\partial L}{\\partial C} = \\begin{bmatrix} \n",
    "\\frac{\\partial L}{\\partial i} & \\frac{\\partial L}{\\partial j} \\\\\n",
    "\\frac{\\partial L}{\\partial k} & \\frac{\\partial L}{\\partial l} \n",
    "\\end{bmatrix} = \\begin{bmatrix} \n",
    "w & x \\\\\n",
    "y & z \n",
    "\\end{bmatrix}\n",
    "$$\n",
    "\n",
    "5. 展开左边 A x B\n",
    "$$C = \\begin{bmatrix}\n",
    "i = ae + bg & j = af + bh\\\\\n",
    "k = ce + dg & l = cf + dh\n",
    "\\end{bmatrix}\n",
    "$$"
   ]
  },
  {
   "cell_type": "markdown",
   "metadata": {},
   "source": [
    "6. L对于每一个A的导数$$ \\triangledown A_{ij} = \\frac{\\partial L}{\\partial A_{ij}} $$"
   ]
  },
  {
   "cell_type": "markdown",
   "metadata": {},
   "source": [
    "$$ \\frac{\\partial L}{\\partial a} = \\frac{\\partial L}{\\partial i} * \\frac{\\partial i}{\\partial a} + \\frac{\\partial L}{\\partial j} * \\frac{\\partial j}{\\partial a} $$\n",
    "\n",
    "$$ \\frac{\\partial L}{\\partial b} = \\frac{\\partial L}{\\partial i} * \\frac{\\partial i}{\\partial b} + \\frac{\\partial L}{\\partial j} * \\frac{\\partial j}{\\partial b} $$\n",
    "\n",
    "$$ \\frac{\\partial L}{\\partial c} = \\frac{\\partial L}{\\partial k} * \\frac{\\partial k}{\\partial c} + \\frac{\\partial L}{\\partial l} * \\frac{\\partial l}{\\partial c} $$\n",
    "\n",
    "$$ \\frac{\\partial L}{\\partial d} = \\frac{\\partial L}{\\partial k} * \\frac{\\partial k}{\\partial d} + \\frac{\\partial L}{\\partial l} * \\frac{\\partial l}{\\partial d} $$"
   ]
  },
  {
   "cell_type": "markdown",
   "metadata": {},
   "source": [
    "$$ \\frac{\\partial L}{\\partial a} = we + xf \\\\ $$\n",
    "$$ \\frac{\\partial L}{\\partial b} = wg + xh \\\\ $$\n",
    "$$ \\frac{\\partial L}{\\partial c} = ye + zf \\\\ $$\n",
    "$$ \\frac{\\partial L}{\\partial d} = yg + zh $$"
   ]
  },
  {
   "cell_type": "markdown",
   "metadata": {},
   "source": [
    "7. 因此A的导数为$$ \n",
    "\\triangledown A = \\begin{bmatrix}\n",
    "we + xf & wg + xh\\\\\n",
    "ye + zf & yg + zh\n",
    "\\end{bmatrix}\n",
    "\\quad\n",
    "\\triangledown A = \\begin{bmatrix}\n",
    "w & x\\\\\n",
    "y & z\n",
    "\\end{bmatrix}\n",
    "\\begin{bmatrix}\n",
    "e & g\\\\\n",
    "f & h\n",
    "\\end{bmatrix}\n",
    "$$\n",
    "\n",
    "$$\n",
    "\\triangledown A = G \\cdot B^T\n",
    "$$"
   ]
  },
  {
   "cell_type": "markdown",
   "metadata": {},
   "source": [
    "8. 同理B的导数为:\n",
    "$$ \\frac{\\partial L}{\\partial e} = wa + yc \\\\ $$\n",
    "$$ \\frac{\\partial L}{\\partial f} = xa + zc \\\\ $$\n",
    "$$ \\frac{\\partial L}{\\partial g} = wb + yd \\\\ $$\n",
    "$$ \\frac{\\partial L}{\\partial h} = xb + zd $$"
   ]
  },
  {
   "cell_type": "markdown",
   "metadata": {},
   "source": [
    "$$ \n",
    "\\triangledown A = \\begin{bmatrix}\n",
    "wa + yc & xa + zc\\\\\n",
    "wb + yd & xb + zd\n",
    "\\end{bmatrix}\n",
    "\\quad\n",
    "\\triangledown A = \\begin{bmatrix}\n",
    "a & c\\\\\n",
    "b & d\n",
    "\\end{bmatrix}\n",
    "\\begin{bmatrix}\n",
    "w & x\\\\\n",
    "y & z\n",
    "\\end{bmatrix}\n",
    "$$\n",
    "\n",
    "$$\n",
    "\\triangledown B = A^T \\cdot G\n",
    "$$"
   ]
  },
  {
   "cell_type": "markdown",
   "metadata": {},
   "source": [
    "---"
   ]
  },
  {
   "cell_type": "markdown",
   "metadata": {},
   "source": [
    "### Matplotlib \n",
    "\n",
    "Matplotlib 是 Python 的绘图库。\n",
    "\n",
    "安装：\n",
    "\n",
    "pip install matplotlib -i https://pypi.tuna.tsinghua.edu.cn/simple\n",
    "\n",
    "查看是否安装成功"
   ]
  },
  {
   "cell_type": "code",
   "execution_count": 29,
   "metadata": {},
   "outputs": [],
   "source": [
    ">>> from matplotlib import pyplot as plt\n",
    ">>>"
   ]
  },
  {
   "cell_type": "markdown",
   "metadata": {},
   "source": [
    "Figure\n",
    "\n",
    "绘制函数图之前，我们需要一张画板"
   ]
  },
  {
   "cell_type": "code",
   "execution_count": 30,
   "metadata": {},
   "outputs": [
    {
     "data": {
      "text/plain": [
       "<Figure size 432x288 with 0 Axes>"
      ]
     },
     "metadata": {},
     "output_type": "display_data"
    }
   ],
   "source": [
    "import matplotlib.pyplot as plt\n",
    "\n",
    "fig = plt.figure()"
   ]
  },
  {
   "cell_type": "markdown",
   "metadata": {},
   "source": [
    "有了画板，我们还需要函数轴，没有函数轴，就没有绘图的基准"
   ]
  },
  {
   "cell_type": "code",
   "execution_count": 31,
   "metadata": {},
   "outputs": [
    {
     "data": {
      "image/png": "[encoded data removed]",
      "text/plain": [
       "<Figure size 432x288 with 1 Axes>"
      ]
     },
     "metadata": {
      "needs_background": "light"
     },
     "output_type": "display_data"
    }
   ],
   "source": [
    "fig = plt.figure()\n",
    "axes = fig.add_subplot(111)  # 第一行、第一列、第一个 位置生成Axes对象来准备作画\n",
    "axes.set(xlim=[0.5, 4.5], ylim=[-2, 8], title=\"Example\", ylabel=\"Y-Axis\", xlabel=\"X-Axis\")\n",
    "plt.show()"
   ]
  },
  {
   "cell_type": "code",
   "execution_count": 32,
   "metadata": {},
   "outputs": [
    {
     "data": {
      "image/png": "[encoded data removed]",
      "text/plain": [
       "<Figure size 432x288 with 3 Axes>"
      ]
     },
     "metadata": {
      "needs_background": "light"
     },
     "output_type": "display_data"
    }
   ],
   "source": [
    "fig = plt.figure()\n",
    "ax1 = fig.add_subplot(221)\n",
    "ax2 = fig.add_subplot(222)\n",
    "ax3 = fig.add_subplot(224)"
   ]
  },
  {
   "cell_type": "markdown",
   "metadata": {},
   "source": [
    "不难发现，上面对Axes的定义很繁琐, 为此我们使用下面这个方法"
   ]
  },
  {
   "cell_type": "code",
   "execution_count": 33,
   "metadata": {},
   "outputs": [
    {
     "data": {
      "text/plain": [
       "[Text(0.5,1,'Low Right')]"
      ]
     },
     "execution_count": 33,
     "metadata": {},
     "output_type": "execute_result"
    },
    {
     "data": {
      "image/png": "[encoded data removed]",
      "text/plain": [
       "<Figure size 432x288 with 4 Axes>"
      ]
     },
     "metadata": {
      "needs_background": "light"
     },
     "output_type": "display_data"
    }
   ],
   "source": [
    "fig, axes = plt.subplots(nrows=2, ncols=2)\n",
    "# fig.subplots_adjust(wspace=0.5, hspace=0.8)  # , left=0.125, right=0.9, top=0.9, bottom=0.1\n",
    "\n",
    "axes[0, 0].set(title=\"Up Left\")\n",
    "axes[0, 1].set(title=\"Up Right\")\n",
    "axes[1, 0].set(title=\"Low Left\")\n",
    "axes[1, 1].set(title=\"Low Right\")"
   ]
  },
  {
   "cell_type": "markdown",
   "metadata": {},
   "source": [
    "绘制2D图"
   ]
  },
  {
   "cell_type": "markdown",
   "metadata": {},
   "source": [
    "线：plot()"
   ]
  },
  {
   "cell_type": "code",
   "execution_count": 61,
   "metadata": {},
   "outputs": [
    {
     "data": {
      "text/plain": [
       "[<matplotlib.lines.Line2D at 0x7fad6ac41cf8>]"
      ]
     },
     "execution_count": 61,
     "metadata": {},
     "output_type": "execute_result"
    },
    {
     "data": {
      "image/png": "[encoded data removed]",
      "text/plain": [
       "<Figure size 432x288 with 2 Axes>"
      ]
     },
     "metadata": {
      "needs_background": "light"
     },
     "output_type": "display_data"
    }
   ],
   "source": [
    "import numpy as np\n",
    "\n",
    "fig = plt.figure()\n",
    "ax1 = fig.add_subplot(221)\n",
    "ax2 = fig.add_subplot(222)\n",
    "\n",
    "x = np.linspace(0, np.pi)\n",
    "y_sin = np.sin(x)\n",
    "y_cos = np.cos(x)\n",
    "\n",
    "ax1.plot(x, y_sin)\n",
    "ax2.plot(x, y_cos, \"r-\")\n",
    "# plt.show()"
   ]
  },
  {
   "cell_type": "markdown",
   "metadata": {},
   "source": [
    "填充两条直线之间的颜色"
   ]
  },
  {
   "cell_type": "markdown",
   "metadata": {},
   "source": [
    "散点图"
   ]
  },
  {
   "cell_type": "code",
   "execution_count": 35,
   "metadata": {},
   "outputs": [
    {
     "data": {
      "image/png": "[encoded data removed]",
      "text/plain": [
       "<Figure size 432x288 with 1 Axes>"
      ]
     },
     "metadata": {
      "needs_background": "light"
     },
     "output_type": "display_data"
    }
   ],
   "source": [
    "x = np.arange(100)\n",
    "y = np.random.randn(100)\n",
    "plt.scatter(x, y, color='red', marker='+')\n",
    "plt.show()"
   ]
  },
  {
   "cell_type": "markdown",
   "metadata": {},
   "source": [
    "直方图"
   ]
  },
  {
   "cell_type": "code",
   "execution_count": 36,
   "metadata": {},
   "outputs": [
    {
     "data": {
      "image/png": "[encoded data removed]",
      "text/plain": [
       "<Figure size 432x288 with 2 Axes>"
      ]
     },
     "metadata": {
      "needs_background": "light"
     },
     "output_type": "display_data"
    }
   ],
   "source": [
    "np.random.seed(19680801)\n",
    "\n",
    "n_bins = 10\n",
    "x = np.random.randn(1000, 3)\n",
    "\n",
    "fig, axes = plt.subplots(nrows=1, ncols=2)\n",
    "ax0, ax1 = axes.flatten()\n",
    "\n",
    "colors = ['red', 'blue', 'green']\n",
    "label = ['dog', 'cat', 'coffee']\n",
    "ax0.hist(x, n_bins, density=True, color=colors, label=label)  # density 控制y轴是数量还是概率值\n",
    "ax0.legend(prop={'size': 10})\n",
    "ax0.set_title('classification')\n",
    "\n",
    "ax1.hist(x[:, 0], rwidth=0.9)  # rwidth 控制宽度\n",
    "ax1.set_title('information')\n",
    "\n",
    "plt.show()"
   ]
  },
  {
   "cell_type": "markdown",
   "metadata": {},
   "source": [
    "显示图片"
   ]
  },
  {
   "cell_type": "code",
   "execution_count": 37,
   "metadata": {},
   "outputs": [
    {
     "data": {
      "image/png": "[encoded data removed]",
      "text/plain": [
       "<Figure size 432x288 with 1 Axes>"
      ]
     },
     "metadata": {
      "needs_background": "light"
     },
     "output_type": "display_data"
    }
   ],
   "source": [
    "from matplotlib import pyplot as plt\n",
    "\n",
    "image = plt.imread(\"./00_img/erha.png\")\n",
    "plt.imshow(image)\n",
    "plt.show()"
   ]
  },
  {
   "cell_type": "markdown",
   "metadata": {},
   "source": [
    "---"
   ]
  },
  {
   "cell_type": "markdown",
   "metadata": {},
   "source": [
    "### 解析mnist数据集"
   ]
  },
  {
   "cell_type": "markdown",
   "metadata": {},
   "source": [
    "什么是mnist数据集？\n",
    "\n",
    "官方地址：http://yann.lecun.com/exdb/mnist/\n",
    "\n",
    "mnist是一个手写数字图片数据集：这个数据集中包含$60000$个训练样本和$10000$个测试样本\n",
    "\n",
    "手写数字图片：样例\n",
    "\n",
    "![avatar](./00_img/mnist.png)\n",
    "\n",
    "这个数据集的意义：使用深度学习模型训练手写数字识别，如同使用python打印hello world！\n",
    "\n",
    "数据集样式\n",
    "\n",
    "![avatar](./00_img/mnist2.png)"
   ]
  },
  {
   "cell_type": "raw",
   "metadata": {},
   "source": [
    "注意：.gz 文件使用： gzip - d 文件名的方式进行解压"
   ]
  },
  {
   "cell_type": "markdown",
   "metadata": {},
   "source": [
    "- train : labels images\n",
    "- test : labels images"
   ]
  },
  {
   "cell_type": "markdown",
   "metadata": {},
   "source": [
    "解析标签"
   ]
  },
  {
   "cell_type": "markdown",
   "metadata": {},
   "source": [
    "![avatar](./00_img/mnist3.png)"
   ]
  },
  {
   "cell_type": "raw",
   "metadata": {},
   "source": [
    "offset : 0000  ： 0号位置\n",
    "type : 32 bit integer  ： 32位整数 = 4字节\n",
    "value : 0x00000801(2049)  ： 当前的值， 用于文件校验\n",
    "description : margic number(MSB first)  ： 字节序规范， big-endian"
   ]
  },
  {
   "cell_type": "raw",
   "metadata": {},
   "source": [
    "1Byte=8bit  (1B＝8bit) \n",
    "1KB=1024Byte(字节)=8*1024bit\n",
    "1MB=1024KB\n",
    "1GB=1024MB\n",
    "1TB=1024GB"
   ]
  },
  {
   "cell_type": "raw",
   "metadata": {},
   "source": [
    "int       32bit  \n",
    "short     16bit  \n",
    "long      64bit\n",
    "byte      8bit\n",
    "char      16bit\n",
    "float     32bit\n",
    "double    64bit\n",
    "boolean   1bit"
   ]
  },
  {
   "cell_type": "code",
   "execution_count": 38,
   "metadata": {},
   "outputs": [],
   "source": [
    "with open(\"./data/MNIST/raw/t10k-labels-idx1-ubyte\", \"rb\") as f:\n",
    "    data = f.read()"
   ]
  },
  {
   "cell_type": "code",
   "execution_count": 39,
   "metadata": {},
   "outputs": [
    {
     "data": {
      "text/plain": [
       "b'\\x00\\x00\\x08\\x01'"
      ]
     },
     "execution_count": 39,
     "metadata": {},
     "output_type": "execute_result"
    }
   ],
   "source": [
    "data[:4]"
   ]
  },
  {
   "cell_type": "code",
   "execution_count": 40,
   "metadata": {},
   "outputs": [
    {
     "data": {
      "text/plain": [
       "2049"
      ]
     },
     "execution_count": 40,
     "metadata": {},
     "output_type": "execute_result"
    }
   ],
   "source": [
    "import struct\n",
    "\n",
    "struct.unpack(\">i\", data[:4])[0]"
   ]
  },
  {
   "cell_type": "code",
   "execution_count": 41,
   "metadata": {},
   "outputs": [
    {
     "data": {
      "text/plain": [
       "10000"
      ]
     },
     "execution_count": 41,
     "metadata": {},
     "output_type": "execute_result"
    }
   ],
   "source": [
    "struct.unpack(\">i\", data[4:8])[0]"
   ]
  },
  {
   "cell_type": "code",
   "execution_count": 42,
   "metadata": {},
   "outputs": [
    {
     "data": {
      "text/plain": [
       "(2049, 10000)"
      ]
     },
     "execution_count": 42,
     "metadata": {},
     "output_type": "execute_result"
    }
   ],
   "source": [
    "magic_number, items_number = struct.unpack(\">ii\", data[0:8])\n",
    "magic_number, items_number"
   ]
  },
  {
   "cell_type": "code",
   "execution_count": 43,
   "metadata": {},
   "outputs": [],
   "source": [
    "import numpy as np"
   ]
  },
  {
   "cell_type": "code",
   "execution_count": 44,
   "metadata": {},
   "outputs": [
    {
     "data": {
      "text/plain": [
       "array([7, 2, 1, ..., 4, 5, 6])"
      ]
     },
     "execution_count": 44,
     "metadata": {},
     "output_type": "execute_result"
    }
   ],
   "source": [
    "np.asarray(bytearray(data[8:]), dtype=\"int\")"
   ]
  },
  {
   "cell_type": "code",
   "execution_count": 45,
   "metadata": {},
   "outputs": [
    {
     "data": {
      "text/plain": [
       "(10000,)"
      ]
     },
     "execution_count": 45,
     "metadata": {},
     "output_type": "execute_result"
    }
   ],
   "source": [
    "np.asarray(bytearray(data[8:]), dtype=\"int\").shape"
   ]
  },
  {
   "cell_type": "code",
   "execution_count": 46,
   "metadata": {},
   "outputs": [],
   "source": [
    "def load_labels(file_name):\n",
    "    with open(file_name, \"rb\") as f:\n",
    "        labels = f.read()\n",
    "    magic_number, items_number = struct.unpack(\">ii\", data[0:8])\n",
    "    print(file_name)\n",
    "    print(magic_number)\n",
    "    if magic_number != 2049:\n",
    "        raise TypeError(\"File is not label file.\")\n",
    "    return np.asarray(bytearray(data[8:]), dtype=\"int\")"
   ]
  },
  {
   "cell_type": "markdown",
   "metadata": {},
   "source": [
    "解析图片"
   ]
  },
  {
   "cell_type": "markdown",
   "metadata": {},
   "source": [
    "![avatar](./00_img/mnist4.png)"
   ]
  },
  {
   "cell_type": "code",
   "execution_count": 47,
   "metadata": {},
   "outputs": [
    {
     "data": {
      "text/plain": [
       "(2051, 10000, 28, 28)"
      ]
     },
     "execution_count": 47,
     "metadata": {},
     "output_type": "execute_result"
    }
   ],
   "source": [
    "with open(\"data/MNIST/raw/t10k-images-idx3-ubyte\", \"rb\") as  f:\n",
    "    images = f.read()\n",
    "    \n",
    "magic_number, image_number, rows_number, col_number = struct.unpack(\">iiii\", images[:16])\n",
    "magic_number, image_number, rows_number, col_number"
   ]
  },
  {
   "cell_type": "code",
   "execution_count": 48,
   "metadata": {},
   "outputs": [
    {
     "data": {
      "text/plain": [
       "7840000"
      ]
     },
     "execution_count": 48,
     "metadata": {},
     "output_type": "execute_result"
    }
   ],
   "source": [
    "pixel = images[16:]\n",
    "len(pixel)"
   ]
  },
  {
   "cell_type": "code",
   "execution_count": 49,
   "metadata": {},
   "outputs": [
    {
     "data": {
      "text/plain": [
       "(784,)"
      ]
     },
     "execution_count": 49,
     "metadata": {},
     "output_type": "execute_result"
    }
   ],
   "source": [
    "image = pixel[:rows_number*col_number]\n",
    "\n",
    "np.asarray(bytearray(image), dtype=np.uint8).shape"
   ]
  },
  {
   "cell_type": "code",
   "execution_count": 50,
   "metadata": {},
   "outputs": [
    {
     "data": {
      "text/plain": [
       "(784,)"
      ]
     },
     "execution_count": 50,
     "metadata": {},
     "output_type": "execute_result"
    }
   ],
   "source": [
    "image = pixel[rows_number*col_number:2*rows_number*col_number]\n",
    "\n",
    "np.asarray(bytearray(image), dtype=np.uint8).shape"
   ]
  },
  {
   "cell_type": "code",
   "execution_count": 51,
   "metadata": {},
   "outputs": [],
   "source": [
    "pimage = np.asarray(bytearray(image), dtype=np.uint8).reshape(28, 28)"
   ]
  },
  {
   "cell_type": "code",
   "execution_count": 52,
   "metadata": {},
   "outputs": [
    {
     "data": {
      "text/plain": [
       "<matplotlib.image.AxesImage at 0x7fad3a232ba8>"
      ]
     },
     "execution_count": 52,
     "metadata": {},
     "output_type": "execute_result"
    },
    {
     "data": {
      "image/png": "[encoded data removed]",
      "text/plain": [
       "<Figure size 432x288 with 1 Axes>"
      ]
     },
     "metadata": {
      "needs_background": "light"
     },
     "output_type": "display_data"
    }
   ],
   "source": [
    "import matplotlib.pyplot as plt\n",
    "\n",
    "plt.imshow(pimage)"
   ]
  },
  {
   "cell_type": "code",
   "execution_count": 53,
   "metadata": {},
   "outputs": [],
   "source": [
    "def load_image(file_name):\n",
    "    with open(file_name, \"rb\") as  f:\n",
    "        images = f.read()\n",
    "    \n",
    "    magic_number, image_number, rows_number, col_number = struct.unpack(\">iiii\", images[:16])\n",
    "    if magic_number != 2051:\n",
    "        raise TypeError(\"File is not image file.\")\n",
    "    return np.asarray(bytearray(images[16:]), dtype=np.uint8).reshape(image_number, -1)"
   ]
  },
  {
   "cell_type": "code",
   "execution_count": 54,
   "metadata": {},
   "outputs": [
    {
     "data": {
      "text/plain": [
       "(10000, 784)"
      ]
     },
     "execution_count": 54,
     "metadata": {},
     "output_type": "execute_result"
    }
   ],
   "source": [
    "load_image(\"data/MNIST/raw/t10k-images-idx3-ubyte\").shape"
   ]
  },
  {
   "cell_type": "code",
   "execution_count": 55,
   "metadata": {},
   "outputs": [],
   "source": [
    "# load_image(\"data/MNIST/raw/t10k-labels-idx1-ubyte\").shape"
   ]
  },
  {
   "cell_type": "code",
   "execution_count": 56,
   "metadata": {},
   "outputs": [],
   "source": [
    "class DataSet:\n",
    "    \n",
    "    def __init__(self, label_path, image_path, index):\n",
    "        self.label_path = label_path\n",
    "        self.image_path = image_path\n",
    "        self.index = index\n",
    "    \n",
    "    def load_labels(self):\n",
    "        with open(self.label_path, \"rb\") as f:\n",
    "            labels = f.read()\n",
    "        magic_number, items_number = struct.unpack(\">ii\", labels[0:8])\n",
    "        if magic_number != 2049:\n",
    "            raise TypeError(\"File is not label file.\")\n",
    "        return np.asarray(bytearray(labels[8:]), dtype=\"int\")[self.index]\n",
    "        \n",
    "    def load_image(self):\n",
    "        with open(self.image_path, \"rb\") as  f:\n",
    "            images = f.read()\n",
    "\n",
    "        magic_number, image_number, rows_number, col_number = struct.unpack(\">iiii\", images[:16])\n",
    "        if magic_number != 2051:\n",
    "            raise TypeError(\"File is not image file.\")\n",
    "        return np.asarray(bytearray(images[16:]), dtype=np.uint8).reshape(image_number, -1)[self.index].reshape(28, 28)"
   ]
  },
  {
   "cell_type": "code",
   "execution_count": 57,
   "metadata": {},
   "outputs": [
    {
     "name": "stdout",
     "output_type": "stream",
     "text": [
      "9\n"
     ]
    },
    {
     "data": {
      "text/plain": [
       "<matplotlib.image.AxesImage at 0x7fad39a99630>"
      ]
     },
     "execution_count": 57,
     "metadata": {},
     "output_type": "execute_result"
    },
    {
     "data": {
      "image/png": "[encoded data removed]",
      "text/plain": [
       "<Figure size 432x288 with 1 Axes>"
      ]
     },
     "metadata": {
      "needs_background": "light"
     },
     "output_type": "display_data"
    }
   ],
   "source": [
    "image_path = \"data/MNIST/raw/t10k-images-idx3-ubyte\"\n",
    "label_path = \"./data/MNIST/raw/t10k-labels-idx1-ubyte\"\n",
    "data = DataSet(label_path, image_path, 9)\n",
    "label = data.load_labels()\n",
    "print(label)\n",
    "image = data.load_image()\n",
    "plt.imshow(image)"
   ]
  },
  {
   "cell_type": "markdown",
   "metadata": {},
   "source": [
    "----"
   ]
  },
  {
   "cell_type": "markdown",
   "metadata": {},
   "source": [
    "### OpenCV"
   ]
  },
  {
   "cell_type": "markdown",
   "metadata": {},
   "source": [
    "OpenCV是计算机视觉中经典的专用库，其支持多语言、跨平台，功能强大。\n",
    "\n",
    "OpenCV-Python为OpenCV提供了Python接口，使得使用者在Python中能够调用C/C++，在保证易读性和运行效率的前提下，实现所需的功能。\n",
    "\n",
    "OpenCV-Python Tutorials官方文档：https://docs.opencv.org/4.1.2/d6/d00/tutorial_py_root.html"
   ]
  },
  {
   "cell_type": "markdown",
   "metadata": {},
   "source": [
    "----"
   ]
  },
  {
   "cell_type": "markdown",
   "metadata": {},
   "source": [
    "#### OpenCV的安装"
   ]
  },
  {
   "cell_type": "markdown",
   "metadata": {},
   "source": [
    "pip install python-opencv -i https://pypi.tuna.tsinghua.edu.cn/simple"
   ]
  },
  {
   "cell_type": "markdown",
   "metadata": {},
   "source": [
    "查看是否安装成功"
   ]
  },
  {
   "cell_type": "code",
   "execution_count": 58,
   "metadata": {},
   "outputs": [],
   "source": [
    ">>> import cv2\n",
    ">>>"
   ]
  },
  {
   "cell_type": "markdown",
   "metadata": {},
   "source": [
    "读取图片"
   ]
  },
  {
   "cell_type": "code",
   "execution_count": 59,
   "metadata": {},
   "outputs": [
    {
     "data": {
      "image/png": "[encoded data removed]",
      "text/plain": [
       "<Figure size 432x288 with 1 Axes>"
      ]
     },
     "metadata": {
      "needs_background": "light"
     },
     "output_type": "display_data"
    }
   ],
   "source": [
    "import cv2\n",
    "import matplotlib.pyplot as plt\n",
    "image = cv2.imread(\"./00_img/cv2.png\")\n",
    "\n",
    "plt.imshow(image[:,:,::-1])\n",
    "plt.show()"
   ]
  },
  {
   "cell_type": "code",
   "execution_count": null,
   "metadata": {},
   "outputs": [],
   "source": []
  },
  {
   "cell_type": "code",
   "execution_count": null,
   "metadata": {},
   "outputs": [],
   "source": []
  }
 ],
 "metadata": {
  "kernelspec": {
   "display_name": "Python 3",
   "language": "python",
   "name": "python3"
  },
  "language_info": {
   "codemirror_mode": {
    "name": "ipython",
    "version": 3
   },
   "file_extension": ".py",
   "mimetype": "text/x-python",
   "name": "python",
   "nbconvert_exporter": "python",
   "pygments_lexer": "ipython3",
   "version": "3.7.0"
  }
 },
 "nbformat": 4,
 "nbformat_minor": 2
}
