{
 "cells": [
  {
   "cell_type": "markdown",
   "metadata": {},
   "source": [
    "python可视化网站：http://pythontutor.com/live.html#mode=edit"
   ]
  },
  {
   "cell_type": "markdown",
   "metadata": {},
   "source": [
    "刷题网站\n",
    "- 力扣：https://leetcode-cn.com/\n",
    "- 牛客网：https://www.nowcoder.com/contestRoom\n",
    "- PAT：https://pintia.cn/problem-sets/994805260223102976/problems/type/7 "
   ]
  },
  {
   "cell_type": "markdown",
   "metadata": {},
   "source": [
    "------"
   ]
  },
  {
   "cell_type": "markdown",
   "metadata": {},
   "source": [
    "纠正两个问题"
   ]
  },
  {
   "cell_type": "raw",
   "metadata": {},
   "source": [
    "1. set是可变对象"
   ]
  },
  {
   "cell_type": "raw",
   "metadata": {},
   "source": [
    "set1 = {1, 2, 3}\n",
    "print(id(set1))\n",
    "set1.add(4)\n",
    "id(set1)"
   ]
  },
  {
   "cell_type": "raw",
   "metadata": {},
   "source": [
    "2. 关于全局变量和局部变量"
   ]
  },
  {
   "cell_type": "raw",
   "metadata": {},
   "source": [
    "import os\n",
    "import matplotlib.pyplot as plt\n",
    "import matplotlib.pyplot as mpimg\n",
    "import random\n",
    "\n",
    "def dataset(root_path, id_path):  # 形参\n",
    "    my_images = []\n",
    "    with open(os.path.join(my_id_path), \"r\") as id_file:\n",
    "        images = id_file.readlines()\n",
    "        for image in images:\n",
    "            temp_image = os.path.join(my_img_root_path, image[:-1])\n",
    "            my_images.append(temp_image)\n",
    "        imgs = []\n",
    "\n",
    "        for info in my_images:\n",
    "            split_info = info.split()\n",
    "            imgs.append(split_info[0])\n",
    "\n",
    "        image = random.shuffle(imgs)\n",
    "        image = mpimg.imread(imgs[0])\n",
    "        plt.imshow(image)\n",
    "        plt.show()\n",
    "\n",
    "if __name__ == \"__main__\":\n",
    "    my_img_root_path = \"./data/my_data/my_img\"  # 实参  == > 全局变量\n",
    "    my_id_path = \"./data/my_data/my_id.txt\"\n",
    "    dataset(my_img_root_path, my_id_path)"
   ]
  },
  {
   "cell_type": "raw",
   "metadata": {},
   "source": [
    "total = 20\n",
    "def sum(num):\n",
    "    return total + num\n",
    "\n",
    "s = sum(10)\n",
    "s"
   ]
  },
  {
   "cell_type": "markdown",
   "metadata": {},
   "source": [
    "-------"
   ]
  },
  {
   "cell_type": "markdown",
   "metadata": {},
   "source": [
    "### 程序设计"
   ]
  },
  {
   "cell_type": "raw",
   "metadata": {},
   "source": [
    "读入一个正整数 n，计算其各位数字之和，用汉语拼音写出和的每一位数字。\n",
    "\n",
    "输入格式：\n",
    "每个测试输入包含 1 个测试用例，即给出自然数 n 的值。这里保证 n 小于 10^100\n",
    "\n",
    "输出格式：\n",
    "在一行内输出 n 的各位数字之和的每一位，拼音数字间有 1 空格，但一行中最后一个拼音数字后没有空格。\n",
    "\n",
    "输入样例：\n",
    "1234567890987654321123456789  = 135\n",
    "输出样例：\n",
    "yi san wu"
   ]
  },
  {
   "cell_type": "raw",
   "metadata": {},
   "source": [
    "\"\"\"\n",
    "算法实现思想\n",
    "1. 将输入的整数转换称字符串，对str型进行切割\n",
    "2. 将得到的数组进行int类型转换并累加求和\n",
    "3. 将得到的和转换为字符串，将每个字符转换为int类型\n",
    "5. 按照索引在list 中找到所对应的拼音字符，输出结果\n",
    "\"\"\"\n",
    "\n",
    "def main_code(strs_n, n):\n",
    "    str_n = str(n)\n",
    "    sum = 0\n",
    "    for str_i in str_n:\n",
    "        sum += int(str_i)\n",
    "    new_lists = []\n",
    "    for i in str(sum):\n",
    "        new_lists.append(strs_n[int(i)])\n",
    "    return \" \".join(new_lists)\n",
    "\n",
    "\n",
    "if __name__ == '__main__':\n",
    "    lists_n = [\"ling\", \"yi\", \"er\", \"san\", \"si\", \"wu\", \"liu\", \"qi\", \"ba\", \"jiu\"]\n",
    "    n = int(input())\n",
    "    result = main_code(lists_n, n)\n",
    "    print(result)"
   ]
  },
  {
   "cell_type": "markdown",
   "metadata": {},
   "source": [
    "--------"
   ]
  },
  {
   "cell_type": "markdown",
   "metadata": {},
   "source": [
    "问题：有一只兔子，从出生后第3个月起每个月都生一只兔子，小兔子长到第三个月后每个月又生一只兔子，假如兔子都不死，问每个月的兔子总数为多少？"
   ]
  },
  {
   "cell_type": "markdown",
   "metadata": {},
   "source": [
    "![avatar](./00_img/rabbit.png)"
   ]
  },
  {
   "cell_type": "markdown",
   "metadata": {},
   "source": [
    "- 这个月兔子的总数，其实就是上个月的兔子总数加上新生出来的兔子。f(n) = f(n-1) + x\n",
    "- 这个月到底新生出来多少兔子,就是求这个月已经有生育能力的兔子是多少\n",
    "- 上上个月所有的兔子就是这个月所有的有生育能力的兔子 x = f(n-2)\n",
    "- 递推式： f(n) = f(n-1) + f(n-2)"
   ]
  },
  {
   "cell_type": "raw",
   "metadata": {},
   "source": [
    "m1 = 1\n",
    "m2 = 1\n",
    "count = 2\n",
    "month = 10\n",
    "\n",
    "if month == 1:\n",
    "    print(m1)\n",
    "else:\n",
    "    print(f\"{m1} {m2}\", end=\" \")\n",
    "    while count < month:\n",
    "        tmp = m1 + m2\n",
    "        print(tmp, end=\" \")\n",
    "        m1 = m2\n",
    "        m2 = tmp\n",
    "        count += 1"
   ]
  },
  {
   "cell_type": "markdown",
   "metadata": {},
   "source": [
    "### 递归"
   ]
  },
  {
   "cell_type": "markdown",
   "metadata": {},
   "source": [
    "### 递归的实现原理\n",
    "什么是递归：就是函数自己调用自己\n",
    "\n",
    "使用递归的步骤：\n",
    "- 递归边界：递归的出口\n",
    "- 递归假设：设想如何达到递归边界\n",
    "- 递归推导：将递归假设实现"
   ]
  },
  {
   "cell_type": "markdown",
   "metadata": {},
   "source": [
    "使用递归解决生兔子问题\n",
    "\n",
    "方法一"
   ]
  },
  {
   "cell_type": "raw",
   "metadata": {},
   "source": [
    "def get_rabbit(n):\n",
    "    if n < 2:\n",
    "        return 1\n",
    "    return get_rabbit(n-1) + get_rabbit(n-2)\n",
    "\n",
    "if __name__ == \"__main__\":\n",
    "    for n in range(10):\n",
    "        print(get_rabbit(n), end=\" \")"
   ]
  },
  {
   "cell_type": "markdown",
   "metadata": {},
   "source": [
    "方法二"
   ]
  },
  {
   "cell_type": "raw",
   "metadata": {},
   "source": [
    "def get_rabbit(array, x, end):\n",
    "    if x > end:\n",
    "        return\n",
    "    array.append(x)\n",
    "    prev_further = array[-2]\n",
    "    prev_near = array[-1]\n",
    "    get_rabbit(array, prev_further + prev_near, end)\n",
    "\n",
    "if __name__ == \"__main__\":\n",
    "    array = [0]\n",
    "    get_rabbit(array, 1, 100)\n",
    "    print(array)"
   ]
  },
  {
   "cell_type": "markdown",
   "metadata": {},
   "source": [
    "递归的内部是如何进行实现的呢？"
   ]
  },
  {
   "cell_type": "raw",
   "metadata": {},
   "source": [
    "def f(x):\n",
    "    if x < 0:  #　递归边界\n",
    "        return\n",
    "    \n",
    "    print(x)\n",
    "    f(x - 1)   # 自己调用自己\n",
    "    print(x)   #第二次打印\n",
    "\n",
    "if __name__ == \"__main__\":\n",
    "    f(3) # 从3开始调用并打印"
   ]
  },
  {
   "cell_type": "markdown",
   "metadata": {},
   "source": [
    "如果想要充分了解递归的调用过程，我们需要理解什么是栈"
   ]
  },
  {
   "cell_type": "markdown",
   "metadata": {},
   "source": [
    "栈：是只允许在一端进行插入或删除操作的线性表(线性表:具有相同数据类型的n个数据元素的有限序列)"
   ]
  },
  {
   "cell_type": "markdown",
   "metadata": {},
   "source": [
    "![avatar](./00_img/stack.png)"
   ]
  },
  {
   "cell_type": "markdown",
   "metadata": {},
   "source": [
    "- 栈顶：线性表允许进行插入和删除的那一端\n",
    "- 栈底：固定的，不允许进行插入和删除的另一端\n",
    "- 空栈：不含有任何元素的空表\n",
    "- 栈的几种操作：\n",
    "    - 初始化栈 S：InitStack(&S)\n",
    "    - 判断是否为空栈:StackEmpty(S)\n",
    "    - 进栈：Push(&S, x)\n",
    "    - 出栈：Pop(&S, &x)"
   ]
  },
  {
   "cell_type": "markdown",
   "metadata": {},
   "source": [
    "使用伪代码实现上面函数递归调用的过程"
   ]
  },
  {
   "cell_type": "raw",
   "metadata": {},
   "source": [
    "init_stack = []\n",
    "\n",
    "stack_push(stack, [3, 返回点1])\n",
    "返回点1：\n",
    "\n",
    "while not stack_empty(init_stack):\n",
    "    程序开头：\n",
    "    x, 返回点 = stack_top(init_stack)  # 取栈顶元素，3， 其中返回点在汇编语言中是一个隐含的，指令地址(在这个伪代码中，我们看成是行号)\n",
    "    if x < 0:\n",
    "        stack_pop(init_stack)\n",
    "        goto 返回点  # 到返回点。在汇编语言中使用RET指令进行跳转到指定的地址\n",
    "    \n",
    "    print(x)\n",
    "    stack_push(init_stack, [x-1, 返回点2])\n",
    "    goto 程序开头\n",
    "    返回点2:\n",
    "    x, 返回点 = stack_top(init_stack) # 0, _15 # 1, _15 # 2, _15 # 3, _3\n",
    "    print(x)\n",
    "    stack_pop(init_stack)\n",
    "    goto 返回点"
   ]
  },
  {
   "cell_type": "markdown",
   "metadata": {},
   "source": [
    "对每行代码进行标号, 模拟运行过程"
   ]
  },
  {
   "cell_type": "raw",
   "metadata": {},
   "source": [
    "0> init_stack = []\n",
    "1>\n",
    "2> stack_push(stack, [3, 返回点1])\n",
    "3> 返回点1：\n",
    "4>\n",
    "5> while not statck_empty(init_stack):\n",
    "6>    程序开头(标记点)：\n",
    "7>    x, 返回点 = stack_top(init_stack)  # 3, _3 # 2， _15  # 1, _15 # 0, _15 # -1, _15\n",
    "8>    if x < 0:\n",
    "9>        stack_pop(init_stack) # 3, _3 # 2， _15  # 1, _15 # 0, _15\n",
    "10>        goto 返回点  # _15\n",
    "11>\n",
    "12>    print(x) # 3, 2, 1, 0\n",
    "13>    stack_push(init_stack, [x-1, 返回点2])  # 2, _15 # 1, _15 # 0, _15 # -1, _15\n",
    "14>    goto 程序开头\n",
    "15>    返回点2:\n",
    "16>    x, 返回点 = stack_top(init_stack) # 0, _15 # 1, _15 # 2, _15 # 3, _3\n",
    "17>    print(x) # 0, 1, 2, 3\n",
    "18>    stack_pop(init_stack)\n",
    "19>    goto 返回点"
   ]
  },
  {
   "cell_type": "markdown",
   "metadata": {},
   "source": [
    "使用栈实现生兔子问题"
   ]
  },
  {
   "cell_type": "raw",
   "metadata": {},
   "source": [
    "class Stack(object):\n",
    "    # 初始化栈为空列表\n",
    "    def __init__(self):\n",
    "        self.items = []\n",
    " \n",
    "    # 判断栈是否为空，返回布尔值\n",
    "    def is_empty(self):\n",
    "        return self.items == []\n",
    " \n",
    "    # 返回栈顶元素\n",
    "    def peek(self):\n",
    "        return self.items[len(self.items) - 1]\n",
    " \n",
    "    # 返回栈的大小\n",
    "    def size(self):\n",
    "        return len(self.items)\n",
    " \n",
    "    # 压栈，入栈，进栈\n",
    "    def push(self, item):\n",
    "        self.items.append(item)\n",
    " \n",
    "    # 出栈\n",
    "    def pop(self):\n",
    "        return self.items.pop()"
   ]
  },
  {
   "cell_type": "raw",
   "metadata": {},
   "source": [
    "array = [1]\n",
    "stack = Stack()\n",
    "stack.push([array, 1, 100])\n",
    "\n",
    "while not stack.is_empty():\n",
    "    array, x, end = stack.peek()\n",
    "    stack.pop()\n",
    "\n",
    "    if x > end:\n",
    "        break\n",
    "    array.append(x)\n",
    "    prev_further = array[-2]\n",
    "    prev_near = array[-1]\n",
    "    stack.push([array, prev_further + prev_near, end])\n",
    "\n",
    "\n",
    "print(array)"
   ]
  },
  {
   "cell_type": "markdown",
   "metadata": {},
   "source": [
    "-----------"
   ]
  },
  {
   "cell_type": "markdown",
   "metadata": {},
   "source": [
    "### 计算平方根"
   ]
  },
  {
   "cell_type": "raw",
   "metadata": {},
   "source": [
    "import math\n",
    "\n",
    "for i in range(1, 10):\n",
    "    t = math.sqrt(i)\n",
    "    print(t)"
   ]
  },
  {
   "cell_type": "markdown",
   "metadata": {},
   "source": [
    "1. 二分法\n",
    "2. 牛顿法\n",
    "3. 梯度下降法"
   ]
  },
  {
   "cell_type": "markdown",
   "metadata": {},
   "source": [
    "- 算法实现思路\n",
    "- 解决根号的问题比较复杂\n",
    "- 我们可以反过来思考，例如：计算：y = x^2. 当y = 2时， 则x的值为根号2"
   ]
  },
  {
   "cell_type": "markdown",
   "metadata": {},
   "source": [
    "-----------------"
   ]
  },
  {
   "cell_type": "markdown",
   "metadata": {},
   "source": [
    "### 二分法"
   ]
  },
  {
   "cell_type": "markdown",
   "metadata": {},
   "source": [
    "![avatar](./00_img/binary_sqrt01.png)"
   ]
  },
  {
   "cell_type": "markdown",
   "metadata": {},
   "source": [
    "- mid = (x_a + x_b) / 2\n",
    "- mid 与 x* 进行比较\n",
    "- 如果mid的平方大于y*， 则x_min作为终点，反之，x_b作为终点，重复上面步骤\n",
    "- 当x_a与x_b之间的距离小于最小值eps时，我们称此时的x_a或x_b是x*"
   ]
  },
  {
   "cell_type": "raw",
   "metadata": {},
   "source": [
    "def sqrt(n, eps=1e-4):\n",
    "    y = lambda x : x*x - n\n",
    "    xa = 0\n",
    "    xb = (n+1)**2\n",
    "    \n",
    "    while abs(xa - xb) > eps:\n",
    "        xm = (xa + xb) / 2\n",
    "        if xm ** 2 >= n:\n",
    "            xb = xm\n",
    "        else:\n",
    "            xa = xm\n",
    "    return xa\n",
    "    \n",
    "\n",
    "if __name__ == \"__main__\":\n",
    "    for i in range(1, 10):\n",
    "        print(f\"{i}-->{sqrt(i)}\")"
   ]
  },
  {
   "cell_type": "markdown",
   "metadata": {},
   "source": [
    "-----"
   ]
  },
  {
   "cell_type": "markdown",
   "metadata": {},
   "source": [
    "### 牛顿法"
   ]
  },
  {
   "cell_type": "markdown",
   "metadata": {},
   "source": [
    "![avatar](./00_img/ndfs.png)"
   ]
  },
  {
   "cell_type": "markdown",
   "metadata": {},
   "source": [
    "![avatar](./00_img/ndf2.png)"
   ]
  },
  {
   "cell_type": "markdown",
   "metadata": {},
   "source": [
    "### $y'= \\frac{\\Delta y}{\\Delta x}$\n",
    "### $\\Delta x = \\frac{\\Delta y}{y'} = \\frac{a - y}{y'} = \\frac{a-x^2}{2x}$\n",
    "### $x + \\Delta x = \\frac{a + x^2}{2x}$"
   ]
  },
  {
   "cell_type": "raw",
   "metadata": {},
   "source": [
    "def sqrt(a):\n",
    "    x = 1\n",
    "    for _ in range(100):\n",
    "        x = (a+x*x) / (2 * x)\n",
    "    return x\n",
    "\n",
    "if __name__ == \"__main__\":\n",
    "    print(sqrt(2))"
   ]
  },
  {
   "cell_type": "markdown",
   "metadata": {},
   "source": [
    "### 牛顿法的实质"
   ]
  },
  {
   "cell_type": "markdown",
   "metadata": {},
   "source": [
    "![avatar](./00_img/utown.png)"
   ]
  },
  {
   "cell_type": "markdown",
   "metadata": {},
   "source": [
    "### 牛顿法的缺点"
   ]
  },
  {
   "cell_type": "markdown",
   "metadata": {},
   "source": [
    "![avatar](./00_img/utown2.png)"
   ]
  },
  {
   "cell_type": "markdown",
   "metadata": {},
   "source": [
    "-------"
   ]
  },
  {
   "cell_type": "markdown",
   "metadata": {},
   "source": [
    "### 梯度下降法"
   ]
  },
  {
   "cell_type": "markdown",
   "metadata": {},
   "source": [
    "地位：深度学习的基石"
   ]
  },
  {
   "cell_type": "markdown",
   "metadata": {},
   "source": [
    "$y = f(x)$ 在 $y = y^* 的 x^* = ?$\n",
    "\n",
    "梯度下降法的公式：$\\Delta x = \\Delta y * y' * lr$  \n",
    "\n",
    "其中：$lr$是学习步长  0.001\n",
    "\n",
    "公式的好处：\n",
    "1. 可以解决牛顿法中步长过大的问题\n",
    "2. 当$y'$越大的时候，所对应的$\\Delta x$的值也就越大"
   ]
  },
  {
   "cell_type": "markdown",
   "metadata": {},
   "source": [
    "![avatar](./00_img/td.png)"
   ]
  },
  {
   "cell_type": "raw",
   "metadata": {},
   "source": [
    "def sqrt(a):\n",
    "    y = lambda x : x*x\n",
    "    dy_dx = lambda x : 2*x\n",
    "    delta_x = lambda x, lr : lr * (a-y(x)) * dy_dx(x)\n",
    "    \n",
    "    x = 1\n",
    "    lr = 0.001\n",
    "    for _ in range(20000):\n",
    "        x += delta_x(x, lr)\n",
    "    return x\n",
    "\n",
    "if __name__ == \"__main__\":\n",
    "    for n in range(1, 10):\n",
    "        print(f\"sqrt{n} = {sqrt(n)}\")"
   ]
  },
  {
   "cell_type": "raw",
   "metadata": {},
   "source": [
    "def y(x):\n",
    "    return x ** 2\n",
    "\n",
    "def dy_dx(x):\n",
    "    return 2 * x\n",
    "\n",
    "def delta_x(a, x, lr):\n",
    "    return lr * (a-y(x)) * dy_dx(x)\n",
    "\n",
    "def sqrt(a):\n",
    "    x = 1\n",
    "    lr = 0.001\n",
    "    for _ in range(20000):\n",
    "        x += delta_x(a, x, lr)\n",
    "    return x\n",
    "\n",
    "for n in range(1, 10):\n",
    "    print(f\"sqrt{n} = {sqrt(n)}\")"
   ]
  },
  {
   "cell_type": "markdown",
   "metadata": {},
   "source": [
    "-----"
   ]
  },
  {
   "cell_type": "markdown",
   "metadata": {},
   "source": [
    "### 作业一：冒泡排序\n",
    "- 自行了解什么是冒泡排序\n",
    "- 给定数组[0, 2, 1, 3, 5, 1, 1],使用冒泡排序得到从小到大的结果"
   ]
  },
  {
   "cell_type": "markdown",
   "metadata": {},
   "source": [
    "### 作业二：快速排序\n",
    "- 自行了解什么是快速排序\n",
    "- 给定数组[0, 2, 1, 3, 5, 1, 1],使用快速排序得到从小到大的结果"
   ]
  }
 ],
 "metadata": {
  "kernelspec": {
   "display_name": "Python 3",
   "language": "python",
   "name": "python3"
  },
  "language_info": {
   "codemirror_mode": {
    "name": "ipython",
    "version": 3
   },
   "file_extension": ".py",
   "mimetype": "text/x-python",
   "name": "python",
   "nbconvert_exporter": "python",
   "pygments_lexer": "ipython3",
   "version": "3.7.0"
  }
 },
 "nbformat": 4,
 "nbformat_minor": 2
}
