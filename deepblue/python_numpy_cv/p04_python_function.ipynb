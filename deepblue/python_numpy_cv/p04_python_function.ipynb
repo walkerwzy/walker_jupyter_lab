{
 "cells": [
  {
   "cell_type": "markdown",
   "metadata": {},
   "source": [
    "### 浅拷贝和深拷贝"
   ]
  },
  {
   "cell_type": "markdown",
   "metadata": {},
   "source": [
    "了解浅拷贝和深拷贝之前，我们需要先了解什么是可变对象，什么是不可变对象"
   ]
  },
  {
   "cell_type": "markdown",
   "metadata": {},
   "source": [
    "在 python 中，strings, tuples和 numbers 是不可变对象，而 list,dict,set则是可以修改的对象。"
   ]
  },
  {
   "cell_type": "raw",
   "metadata": {},
   "source": [
    "a = 123\n",
    "d = \"123\"\n",
    "e = [1, 2, 3]\n",
    "f = {0:\"1\", 1:\"2\", 2:\"3\"}\n",
    "g = (1, 2, 3)"
   ]
  },
  {
   "cell_type": "raw",
   "metadata": {},
   "source": [
    "a[0] = 2"
   ]
  },
  {
   "cell_type": "raw",
   "metadata": {},
   "source": [
    "d[0] = 2"
   ]
  },
  {
   "cell_type": "raw",
   "metadata": {},
   "source": [
    "e[0] = 2"
   ]
  },
  {
   "cell_type": "raw",
   "metadata": {},
   "source": [
    "f[0] = 2"
   ]
  },
  {
   "cell_type": "raw",
   "metadata": {},
   "source": [
    "g[0] = 2"
   ]
  },
  {
   "cell_type": "markdown",
   "metadata": {},
   "source": [
    "-------------"
   ]
  },
  {
   "cell_type": "markdown",
   "metadata": {},
   "source": [
    "什么是可变对象：在不更改其地址的前提下，可以修改其地址所指向的值"
   ]
  },
  {
   "cell_type": "raw",
   "metadata": {},
   "source": [
    "lists = [1, 2, 3]\n",
    "print(f\"{lists} --- {id(lists)}\")\n",
    "lists[0] = 4\n",
    "print(f\"{lists} --- {id(lists)}\")"
   ]
  },
  {
   "cell_type": "markdown",
   "metadata": {},
   "source": [
    "什么是不可变对象：一个对象所指向的地址上的值是不能修改的，如果修改这个对象的值，那么其所指向的地址也会发生变化"
   ]
  },
  {
   "cell_type": "raw",
   "metadata": {},
   "source": [
    "a = 1\n",
    "print(f\"{a} --- {id(a)}\")\n",
    "a = 2\n",
    "print(f\"{a} --- {id(a)}\")"
   ]
  },
  {
   "cell_type": "markdown",
   "metadata": {},
   "source": [
    "----------------------"
   ]
  },
  {
   "cell_type": "raw",
   "metadata": {},
   "source": [
    "lists1 = [[1]*2]*3\n",
    "for l in lists1:\n",
    "    print(id(l))"
   ]
  },
  {
   "cell_type": "raw",
   "metadata": {},
   "source": [
    "lists2 = [[1, 1], [1, 1], [1, 1]]\n",
    "for l in lists2:\n",
    "    print(id(l))"
   ]
  },
  {
   "cell_type": "raw",
   "metadata": {},
   "source": [
    "lists1[0][0] = 2\n",
    "lists2[0][0] = 2\n",
    "print(lists1)\n",
    "print(lists2)"
   ]
  },
  {
   "cell_type": "raw",
   "metadata": {},
   "source": [
    "for l1 in lists1[0]:\n",
    "    print(id(l1))\n",
    "    print(type(l1))"
   ]
  },
  {
   "cell_type": "markdown",
   "metadata": {},
   "source": [
    "-------"
   ]
  },
  {
   "cell_type": "markdown",
   "metadata": {},
   "source": [
    "### 什么是深拷贝，什么是浅拷贝"
   ]
  },
  {
   "cell_type": "raw",
   "metadata": {},
   "source": [
    "import copy"
   ]
  },
  {
   "cell_type": "raw",
   "metadata": {},
   "source": [
    "lists3 = [[1]*3]*4\n",
    "print(id(lists3))\n",
    "\n",
    "for l in lists3:\n",
    "    print(id(l))"
   ]
  },
  {
   "cell_type": "raw",
   "metadata": {},
   "source": [
    "lists4 = lists3\n",
    "print(id(lists4))\n",
    "\n",
    "for l in lists4:\n",
    "    print(id(l))"
   ]
  },
  {
   "cell_type": "markdown",
   "metadata": {},
   "source": [
    "浅拷贝"
   ]
  },
  {
   "cell_type": "raw",
   "metadata": {},
   "source": [
    "lists5 = copy.copy(lists4)\n",
    "print(id(lists5))\n",
    "\n",
    "for l in lists5:\n",
    "    print(id(l))"
   ]
  },
  {
   "cell_type": "markdown",
   "metadata": {},
   "source": [
    "深拷贝"
   ]
  },
  {
   "cell_type": "raw",
   "metadata": {},
   "source": [
    "lists6 = copy.deepcopy(lists4)\n",
    "print(id(lists6))\n",
    "\n",
    "for l in lists6:\n",
    "    print(id(l))"
   ]
  },
  {
   "cell_type": "markdown",
   "metadata": {},
   "source": [
    "--------------"
   ]
  },
  {
   "cell_type": "markdown",
   "metadata": {},
   "source": [
    "### 函数封装\n",
    "- 函数以def为关键字开头，后面是函数标识符、圆括号和冒号\":\"\n",
    "- 函数标识符就是函数名称，圆括号用来传入参数\n",
    "- 函数中的return表示一个函数的结束，可以选择性地返回一个值。不带有return的相当于是返回None"
   ]
  },
  {
   "cell_type": "raw",
   "metadata": {},
   "source": [
    "import os\n",
    "import matplotlib.pyplot as plt\n",
    "import matplotlib.pyplot as mpimg\n",
    "import random\n",
    "\n",
    "def dataset(root_path, id_path):  # 形参\n",
    "    my_images = []\n",
    "    with open(os.path.join(my_id_path), \"r\") as id_file:\n",
    "        images = id_file.readlines()\n",
    "        for image in images:\n",
    "            temp_image = os.path.join(my_img_root_path, image[:-1])\n",
    "            my_images.append(temp_image)\n",
    "        imgs = []\n",
    "\n",
    "        for info in my_images:\n",
    "            split_info = info.split()\n",
    "            imgs.append(split_info[0])\n",
    "\n",
    "        image = random.shuffle(imgs)\n",
    "        image = mpimg.imread(imgs[0])\n",
    "        plt.imshow(image)\n",
    "        plt.show()"
   ]
  },
  {
   "cell_type": "raw",
   "metadata": {},
   "source": [
    "my_img_root_path = \"./data/my_data/my_img\"  # 实参\n",
    "my_id_path = \"./data/my_data/my_id.txt\"\n",
    "dataset(my_img_root_path, my_id_path)"
   ]
  },
  {
   "cell_type": "markdown",
   "metadata": {},
   "source": [
    "### 参数传递"
   ]
  },
  {
   "cell_type": "markdown",
   "metadata": {},
   "source": [
    "可变对象和不可变对象"
   ]
  },
  {
   "cell_type": "raw",
   "metadata": {},
   "source": [
    "def var_change(a):\n",
    "    a = 123  # 生成一个新的int值对象\n",
    "    print(id(a))\n",
    "\n",
    "b = 456\n",
    "print(id(b))\n",
    "var_change(b)\n",
    "b"
   ]
  },
  {
   "cell_type": "raw",
   "metadata": {},
   "source": [
    "def var_change(c):\n",
    "    c[0] = 5\n",
    "    print(id(c))\n",
    "\n",
    "d = [1, 2, 3]\n",
    "print(id(d))\n",
    "var_change(d)\n",
    "d"
   ]
  },
  {
   "cell_type": "markdown",
   "metadata": {},
   "source": [
    "多个参数传递"
   ]
  },
  {
   "cell_type": "raw",
   "metadata": {},
   "source": [
    "def info(name, age):\n",
    "    print(f\"name={name}\")\n",
    "    print(f\"age={age}\")\n",
    "\n",
    "name = \"zhangsan\"\n",
    "age = 16\n",
    "info(name, age)\n",
    "print(\"=\"*20)\n",
    "info(age, name)"
   ]
  },
  {
   "cell_type": "markdown",
   "metadata": {},
   "source": [
    "默认参数"
   ]
  },
  {
   "cell_type": "raw",
   "metadata": {},
   "source": [
    "def info(name, age=16):\n",
    "    print(f\"name={name}\")\n",
    "    print(f\"age={age}\")\n",
    "    \n",
    "name = \"zhangsan\"\n",
    "info(name)"
   ]
  },
  {
   "cell_type": "raw",
   "metadata": {},
   "source": [
    "def info(name, age, num):\n",
    "    print(f\"name={name}\")\n",
    "    print(f\"age={age}\")\n",
    "    print(f\"num={num}\")\n",
    "    \n",
    "name = \"zhangsan\"\n",
    "info(age=16, num=100, name=\"zhangsan\")"
   ]
  },
  {
   "cell_type": "markdown",
   "metadata": {},
   "source": [
    "不定长传参"
   ]
  },
  {
   "cell_type": "raw",
   "metadata": {},
   "source": [
    "def my_num(*num):\n",
    "    print(num)\n",
    "    print(type(num))\n",
    "\n",
    "my_sum(1, 2, 3)"
   ]
  },
  {
   "cell_type": "raw",
   "metadata": {},
   "source": [
    "def my_num(*num, **nums):\n",
    "    print(num)\n",
    "    print(nums)\n",
    "\n",
    "my_num(1, 2, 3, name=\"zhangsan\", age=16)"
   ]
  },
  {
   "cell_type": "raw",
   "metadata": {},
   "source": [
    "def my_num(a, b, c, d):\n",
    "    print(a, b, c, d)\n",
    "\n",
    "mylist = [1, 2, 3, 4]\n",
    "my_num(*mylist)\n",
    "\n",
    "mydict = {\"d\":4, \"c\":3, \"b\":2, \"a\":1}\n",
    "my_num(**mydict)"
   ]
  },
  {
   "cell_type": "markdown",
   "metadata": {},
   "source": [
    "### return"
   ]
  },
  {
   "cell_type": "raw",
   "metadata": {},
   "source": [
    "def my_sum(num1, num2, num3):\n",
    "    sums = num1 + num2 + num3\n",
    "    return sums\n",
    "\n",
    "ms = my_sum(10, 20, 30)\n",
    "ms"
   ]
  },
  {
   "cell_type": "raw",
   "metadata": {},
   "source": [
    "def my_test(num1, num2, num3):\n",
    "    return num1, num2, num3\n",
    "\n",
    "mt = my_test(10, 20, 30)\n",
    "print(type(mt))"
   ]
  },
  {
   "cell_type": "markdown",
   "metadata": {},
   "source": [
    "### 全局变量和局部变量"
   ]
  },
  {
   "cell_type": "raw",
   "metadata": {},
   "source": [
    "total = 0\n",
    "def my_sum(num1, num2):\n",
    "    total = num1 + num2\n",
    "    print(total)\n",
    "\n",
    "my_sum(10, 20)\n",
    "print(total)"
   ]
  },
  {
   "cell_type": "markdown",
   "metadata": {},
   "source": [
    "#### 补充"
   ]
  },
  {
   "cell_type": "raw",
   "metadata": {},
   "source": [
    "a = 123 # 不可变对象\n",
    "def set_value():\n",
    "    a = 456\n",
    "    \n",
    "print(a)\n",
    "set_value()\n",
    "print(a)"
   ]
  },
  {
   "cell_type": "raw",
   "metadata": {},
   "source": [
    "b = [1, 2, 3]  # 可变对象\n",
    "def set_value():\n",
    "    b[0] = 5\n",
    "    \n",
    "print(b)\n",
    "set_value()\n",
    "print(b)"
   ]
  },
  {
   "cell_type": "markdown",
   "metadata": {},
   "source": [
    "global"
   ]
  },
  {
   "cell_type": "raw",
   "metadata": {},
   "source": [
    "a = 123\n",
    "def set_value():\n",
    "    global a\n",
    "    a = 456\n",
    "\n",
    "print(a)\n",
    "set_value()\n",
    "print(a)"
   ]
  },
  {
   "cell_type": "raw",
   "metadata": {},
   "source": [
    "def set_value():\n",
    "    \n",
    "    a = 123\n",
    "    \n",
    "    def set_value2():\n",
    "        print(a)\n",
    "    \n",
    "    set_value2()\n",
    "    \n",
    "a = 321\n",
    "set_value()"
   ]
  },
  {
   "cell_type": "raw",
   "metadata": {},
   "source": [
    "def set_value():\n",
    "    \n",
    "    a = 123\n",
    "    \n",
    "    def set_value2():\n",
    "        global a\n",
    "        print(a)\n",
    "    \n",
    "    set_value2()\n",
    "    \n",
    "a = 321\n",
    "set_value()"
   ]
  },
  {
   "cell_type": "markdown",
   "metadata": {},
   "source": [
    "nonlocal  ： 日常工作中很少会遇到，如果写自己的深度学习框架的话，这个会遇到很多"
   ]
  },
  {
   "cell_type": "raw",
   "metadata": {},
   "source": [
    "def set_value():\n",
    "    a = 123\n",
    "    def set_value2():\n",
    "        global a \n",
    "        a += 5\n",
    "        print(a)\n",
    "    set_value2()\n",
    "\n",
    "a = 321\n",
    "set_value()"
   ]
  },
  {
   "cell_type": "raw",
   "metadata": {},
   "source": [
    "def set_value():\n",
    "    a = 123\n",
    "    def set_value2():\n",
    "        nonlocal a \n",
    "        a += 5\n",
    "        print(a)\n",
    "    set_value2()\n",
    "\n",
    "a = 321\n",
    "set_value()"
   ]
  },
  {
   "cell_type": "raw",
   "metadata": {},
   "source": [
    "a = 123\n",
    "def set_value():\n",
    "    nonlocal a\n",
    "    a = 456\n",
    "\n",
    "print(a)\n",
    "set_value()\n",
    "print(a)"
   ]
  },
  {
   "cell_type": "markdown",
   "metadata": {},
   "source": [
    "### 匿名函数"
   ]
  },
  {
   "cell_type": "markdown",
   "metadata": {},
   "source": [
    "- python 使用 lambda 来创建匿名函数。\n",
    "- lambda只是一个表达式，函数体比def简单很多。\n",
    "- lambda的主体是一个表达式，而不是一个代码块。仅仅能在lambda表达式中封装有限的逻辑进去。"
   ]
  },
  {
   "cell_type": "markdown",
   "metadata": {},
   "source": [
    "#### 语法\n",
    "- lambda [arg1 [,arg2,.....argn]]:expression"
   ]
  },
  {
   "cell_type": "raw",
   "metadata": {},
   "source": [
    "def sum(num1, num2):\n",
    "    return num1 + num2\n",
    "\n",
    "s = sum(10, 20)\n",
    "s"
   ]
  },
  {
   "cell_type": "raw",
   "metadata": {},
   "source": [
    "sum = lambda num1, num2 : num1 + num2\n",
    "s = sum(10, 20)\n",
    "s"
   ]
  },
  {
   "cell_type": "markdown",
   "metadata": {},
   "source": [
    "### 程序设计练习"
   ]
  },
  {
   "cell_type": "raw",
   "metadata": {},
   "source": [
    "卡拉兹(Callatz)猜想：\n",
    "\n",
    "对任何一个正整数 n，如果它是偶数，那么把它砍掉一半；如果它是奇数，那么把 (3n+1) 砍掉一半。这样一直反复砍下去，最后一定在某一步得到 n=1。卡拉兹在 1950 年的世界数学家大会上公布了这个猜想，传说当时耶鲁大学师生齐动员，拼命想证明这个貌似很傻很天真的命题，结果闹得学生们无心学业，一心只证 (3n+1)，以至于有人说这是一个阴谋，卡拉兹是在蓄意延缓美国数学界教学与科研的进展……\n",
    "\n",
    "我们今天的题目不是证明卡拉兹猜想，而是对给定的任一不超过 1000 的正整数 n，简单地数一下，需要多少步（砍几下）才能得到 n=1？\n",
    "\n",
    "输入格式：\n",
    "每个测试输入包含 1 个测试用例，即给出正整数 n 的值。\n",
    "\n",
    "输出格式：\n",
    "输出从 n 计算到 1 需要的步数。\n",
    "\n",
    "输入样例：\n",
    "3\n",
    "输出样例：\n",
    "5"
   ]
  },
  {
   "cell_type": "raw",
   "metadata": {},
   "source": [
    "def main_code(n):\n",
    "    count = 0\n",
    "    while n > 1:\n",
    "        if n % 2 == 0:\n",
    "            n = n /2\n",
    "        elif n % 2 == 1:\n",
    "            n = (3*n+1)/2\n",
    "        count += 1\n",
    "    print(count)\n",
    "\n",
    "if __name__ == '__main__':\n",
    "    n = int(input())\n",
    "    main_code(n)"
   ]
  }
 ],
 "metadata": {
  "kernelspec": {
   "display_name": "Python 3",
   "language": "python",
   "name": "python3"
  },
  "language_info": {
   "codemirror_mode": {
    "name": "ipython",
    "version": 3
   },
   "file_extension": ".py",
   "mimetype": "text/x-python",
   "name": "python",
   "nbconvert_exporter": "python",
   "pygments_lexer": "ipython3",
   "version": "3.7.0"
  }
 },
 "nbformat": 4,
 "nbformat_minor": 2
}
