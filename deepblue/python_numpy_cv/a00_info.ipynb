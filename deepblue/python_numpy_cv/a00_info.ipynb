{
 "cells": [
  {
   "cell_type": "markdown",
   "metadata": {},
   "source": [
    "#### 2021.04.12 学习内容\n",
    "- 上周知识点回顾\n",
    "    - 介绍几个网站\n",
    "    - 纠正两个问题：\n",
    "        - set问题：可变对象\n",
    "        - 全局变量和局部变量的问题：显示图片的时候\n",
    "    - 生兔子\n",
    "        - 循环实现\n",
    "        - 递归实现\n",
    "    - 递归\n",
    "        - 什么是递归\n",
    "        - 什么是栈\n",
    "        - 用栈实现了递归调用的过程\n",
    "        - 使用栈实现生兔子问题\n",
    "    - 计算平方根\n",
    "        - 二分法\n",
    "        - 牛顿法\n",
    "        - 梯度下降法\n",
    "\n",
    "---\n",
    "- 作业讲解\n",
    "    - 冒泡排序\n",
    "    - 快速排序\n",
    "\n",
    "---\n",
    "- 全局变量和局部变量的补充\n",
    "- 匿名函数的补充\n",
    "\n",
    "---\n",
    "- 梯度下降法公式的由来\n",
    "- 类"
   ]
  },
  {
   "cell_type": "raw",
   "metadata": {},
   "source": []
  },
  {
   "cell_type": "markdown",
   "metadata": {},
   "source": [
    "#### 2021.04.13 学习内容\n",
    "- 使用泰勒公式对梯度下降法公式的推理\n",
    "- $loss' = (F(x)-y^*) * F(x)' = \\Delta y * y'$的局限性\n",
    "- 基于梯度下降法对多元函数进行求解\n",
    "- 类\n",
    "    - 类的继承\n",
    "    - __xx 类型\n",
    "    - 注解@property的使用\n",
    "    - 表达式求导"
   ]
  },
  {
   "cell_type": "raw",
   "metadata": {},
   "source": []
  },
  {
   "cell_type": "markdown",
   "metadata": {},
   "source": [
    "#### 2021.04.14 学习内容\n",
    "- 类继承的补充\n",
    "- 装饰器——注解的补充\n",
    "- 静态方法、类方法的补充\n",
    "- 直接插入排序\n",
    "- 表达式-加法求导"
   ]
  },
  {
   "cell_type": "raw",
   "metadata": {},
   "source": []
  },
  {
   "cell_type": "markdown",
   "metadata": {},
   "source": [
    "#### 2021.04.16 学习内容\n",
    "- 简单选择排序\n",
    "- 希尔排序\n",
    "- 时间复杂度(了解)\n",
    "- 表达式求导\n",
    "    - 加法求导\n",
    "    - 减法求导\n",
    "    - 乘法求导\n",
    "    - 除法求导\n",
    "- numpy基础\n",
    "    - 数组\n",
    "    - 切片\n",
    "    - 广播\n",
    "    - 随机数\n",
    "    - 存储"
   ]
  }
 ],
 "metadata": {
  "kernelspec": {
   "display_name": "Python 3",
   "language": "python",
   "name": "python3"
  },
  "language_info": {
   "codemirror_mode": {
    "name": "ipython",
    "version": 3
   },
   "file_extension": ".py",
   "mimetype": "text/x-python",
   "name": "python",
   "nbconvert_exporter": "python",
   "pygments_lexer": "ipython3",
   "version": "3.7.0"
  }
 },
 "nbformat": 4,
 "nbformat_minor": 2
}
