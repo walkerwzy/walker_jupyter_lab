{
 "cells": [
  {
   "cell_type": "markdown",
   "id": "charged-skirt",
   "metadata": {},
   "source": [
    "# Task\n",
    "- [x] 静态方法和类方法，和静态属性\n",
    "- [x] 装饰器，及语法特性探索\n",
    "- [x] 插入排序\n",
    "- [x] 希尔排序\n",
    "- [x] 表达式和操作符重载"
   ]
  },
  {
   "cell_type": "markdown",
   "id": "personal-probe",
   "metadata": {},
   "source": [
    "## Static v.s. Class\n",
    "\n",
    "从下面的示例可以看出：\n",
    "\n",
    "1. 实例方法第一个是`self`参数，类方法和静态方法没有\n",
    "2. 类方法第一个参数是`cls`，静态方法没有\n",
    "3. 用实例还是类名去调静态方法及类方法，效果是一样\n",
    "4. `cls`关键字取到的属性是**当前类**，即如果有子类继承，那么子类在用`cls`取静态属性的时候就是子类自己的属性\n",
    "5. 用类名取到的就是类名对应的类的静态属性"
   ]
  },
  {
   "cell_type": "code",
   "execution_count": 196,
   "id": "detailed-catering",
   "metadata": {},
   "outputs": [
    {
     "name": "stdout",
     "output_type": "stream",
     "text": [
      "Bar.cls_or_static() is (1 + 2) = 3\n"
     ]
    }
   ],
   "source": [
    "class Foo(object):\n",
    "    x, y = 1, 2\n",
    "    \n",
    "    @classmethod\n",
    "    def add(cls, *mixes):\n",
    "        return mixes[0] + mixes[1]\n",
    "     \n",
    "    @classmethod\n",
    "    def add2(cls):\n",
    "        return cls.x + cls.y\n",
    "    \n",
    "    @classmethod\n",
    "    def cls_or_static(cls):\n",
    "        return Foo.x + Foo.y\n",
    "    \n",
    "    @staticmethod\n",
    "    def add3():\n",
    "        return Foo.x + Foo.y\n",
    "    \n",
    "class Bar(Foo):\n",
    "    x, y = 5, 6\n",
    "    \n",
    "print('Bar.cls_or_static() is (1 + 2) = %d' % Bar.cls_or_static())"
   ]
  },
  {
   "cell_type": "code",
   "execution_count": 191,
   "id": "addressed-strap",
   "metadata": {},
   "outputs": [
    {
     "name": "stdout",
     "output_type": "stream",
     "text": [
      "7 3 3 3\n",
      "7 11 3 3\n",
      "7 3 3 3\n",
      "7 11 3 3\n"
     ]
    }
   ],
   "source": [
    "foo = Foo()\n",
    "bar = Bar()\n",
    "print(Foo.add(3,4), Foo.add2(), Foo.add3(), Foo.cls_or_static())\n",
    "print(Bar.add(3,4), Bar.add2(), Bar.add3(), Bar.cls_or_static())\n",
    "print(foo.add(3,4), foo.add2(), foo.add3(), foo.cls_or_static())\n",
    "print(bar.add(3,4), bar.add2(), bar.add3(), bar.cls_or_static())"
   ]
  },
  {
   "cell_type": "markdown",
   "id": "blond-madness",
   "metadata": {},
   "source": [
    "## Decorator"
   ]
  },
  {
   "cell_type": "code",
   "execution_count": 53,
   "id": "needed-emperor",
   "metadata": {},
   "outputs": [
    {
     "name": "stdout",
     "output_type": "stream",
     "text": [
      "step 1, 进入装饰器函数体\n",
      "step 2，进入装饰器实现，得到参数: (3, 4) {}\n",
      "step 3，函数体实现\n"
     ]
    },
    {
     "data": {
      "text/plain": [
       "7"
      ]
     },
     "execution_count": 53,
     "metadata": {},
     "output_type": "execute_result"
    }
   ],
   "source": [
    "# 装饰器不带参数\n",
    "def wrap1(func):\n",
    "    print(\"step 1, 进入装饰器函数体\")\n",
    "    def impl(*args, **kwargs):\n",
    "        print(\"step 2，进入装饰器实现，得到参数:\", args, kwargs)\n",
    "        return func(*args, **kwargs)\n",
    "    return impl\n",
    "\n",
    "@wrap1\n",
    "def func1(x, y):\n",
    "    print(\"step 3，函数体实现\")\n",
    "    return x+y\n",
    "\n",
    "    \n",
    "func1(3,4)"
   ]
  },
  {
   "cell_type": "code",
   "execution_count": 55,
   "id": "acoustic-selection",
   "metadata": {},
   "outputs": [
    {
     "name": "stdout",
     "output_type": "stream",
     "text": [
      "step 1, 最外层，传入装饰器参数： {'route': '/api/user', 'name': 'walker'}\n",
      "step 2, 第二层，传入被装饰函数 <function func2 at 0x7fbb532469e0>\n",
      "step 3，第三层，得到函数参数 ('hello',) {'orderid': 1234}\n",
      "step 4, 被装饰函数体实现\n"
     ]
    }
   ],
   "source": [
    "# 装饰器带参数\n",
    "def wrap2(*args, **kwargs):\n",
    "    print(\"step 1, 最外层，传入装饰器参数：\", *args, **kwargs)  # kwargs是得不到的，多参数只能靠解包args\n",
    "    def inner(func):\n",
    "        print(\"step 2, 第二层，传入被装饰函数\", func)\n",
    "        def impl(*args, **kwargs):\n",
    "            print(\"step 3，第三层，得到函数参数\", args, kwargs)\n",
    "            return func(*args, **kwargs)\n",
    "        return impl\n",
    "    return inner\n",
    "\n",
    "@wrap2({\"route\":\"/api/user\", \"name\":\"walker\"})\n",
    "def func2(a, *args, **kwargs):\n",
    "    print(\"step 4, 被装饰函数体实现\")\n",
    "    \n",
    "func2(\"hello\",orderid=1234)"
   ]
  },
  {
   "cell_type": "markdown",
   "id": "provincial-frank",
   "metadata": {},
   "source": [
    "### 装饰器语法思考\n",
    "\n",
    "如果装饰器只包一个函数的话，能不能直接返回这个函数而不是多包一层呢？\n",
    "\n",
    "**可以的**。见下方示例\n",
    "\n",
    "但是，仔细观察上述示例，会发现\n",
    "- 传入被装饰的函数\n",
    "- 给装饰器传参\n",
    "- 给被装饰的函数传参（其实是读取）\n",
    "\n",
    "每一件事都需要写一个方法来包一层，传入想要的东西，所以：\n",
    "\n",
    "- 如果你只是单纯包一下，可以直接返回函数\n",
    "- 如果你的被装饰函数（`func`）有参数，那么需要在外层传入`func`，里层传入参数，见示例1\n",
    "- 如果你的装饰器本身也需要传参，那么得最外层得再包一层用来接参数，第二层接`func`，第三层接`func`的参数\n",
    "\n",
    "所以这么奇怪的语法只不过是python怎么支持你去传递上述三个对象而已"
   ]
  },
  {
   "cell_type": "code",
   "execution_count": 52,
   "id": "threatened-soviet",
   "metadata": {},
   "outputs": [
    {
     "name": "stdout",
     "output_type": "stream",
     "text": [
      "step1, () {}\n",
      "step 2, enter func3 body\n"
     ]
    }
   ],
   "source": [
    "\n",
    "def wrap3(func, *args, **kwargs):\n",
    "    print('step1,', args, kwargs)  # 拿不到函数参数\n",
    "    return func\n",
    "\n",
    "@wrap3 # 这种写法既不能给装饰器传参，也无法接到func的参数\n",
    "# @wrap3(a=\"1\",b=2) # 这种写法不会默认传入func3\n",
    "def func3(a,b,*args,**kwargs):\n",
    "    print(\"step 2, enter func3 body\")\n",
    "\n",
    "func3(\"a\",6,\"hello\", name=\"walker\")"
   ]
  },
  {
   "cell_type": "markdown",
   "id": "artistic-target",
   "metadata": {},
   "source": [
    "## insert sort\n",
    "\n",
    "总体思路是每个新数字都在已经排好序的部分里面找到**第一个**比它大的，然后添加（插入）到它前面，如果找不到，说明它自己就是最大的。     \n",
    "做了如下五种实现，其中：\n",
    "\n",
    "- 前两种是用一个数组来存遍历过程中排序好的数组，\n",
    "- 第三个是用了每次只比较第一个和最后一个，要么添加到最前，要么添加到最后，不满足则递归，已经不算插入排序了吧\n",
    "- 第四，五个是不断改变字符串本身，而不另存数组\n",
    "\n",
    "说明：\n",
    "\n",
    "1. 没有边界压缩，每次都遍历整个数组，但是用了语法特征让代码量相当少\n",
    "2. 与1的区别在于把压缩语法展开了，这样在找到第一个大于当前数的时候就能退出本次循环\n",
    "3. 修改过程中的附产物，不属于插入排序，略，而且效率不高\n",
    "4. 把当前数放到左边已排好序的合适位置（第一个大数前），用了for循环\n",
    "5. 同4，用了while循环\n",
    "\n",
    "执行两万个随机数排序的效果：\n",
    "```\n",
    "1: 17.83499026298523\n",
    "2: 7.970043897628784\n",
    "3: 超时\n",
    "4: 9.292963027954102\n",
    "5: 21.950623989105225\n",
    "```\n",
    "\n",
    "可见：\n",
    "\n",
    "1. 方法**2**和方法**4**效率差不多，2略优于4，可见改变数组比改变字符串消耗要小很多\n",
    "2. 方法**5**只是把方法**4**的`for`换成了`while`，居然性能差这么多\n"
   ]
  },
  {
   "cell_type": "code",
   "execution_count": 17,
   "id": "short-hamilton",
   "metadata": {},
   "outputs": [
    {
     "data": {
      "text/plain": [
       "([0, 1, 2, 4, 5, 6, 9, 9, 12, 12, 25, 43],\n",
       " [0, 1, 2, 4, 5, 6, 9, 9, 12, 12, 25, 43],\n",
       " [0, 1, 2, 4, 5, 6, 9, 9, 12, 12, 25, 43],\n",
       " [0, 1, 2, 4, 5, 6, 9, 9, 12, 12, 25, 43],\n",
       " [0, 1, 2, 4, 5, 6, 9, 9, 12, 12, 25, 43])"
      ]
     },
     "execution_count": 17,
     "metadata": {},
     "output_type": "execute_result"
    }
   ],
   "source": [
    "def insert_sort(arr):\n",
    "    rst = arr[0:1]\n",
    "    for i in arr[1:]:\n",
    "        large = [idx for idx, itm in enumerate(rst) if itm > i]\n",
    "        index = len(rst) if not large else large[0]\n",
    "        rst.insert(index, i)\n",
    "    return rst\n",
    "\n",
    "def insert_sort2(arr):\n",
    "    rst = arr[0:1]\n",
    "    for i in arr[1:]:\n",
    "        found = False\n",
    "        for idx, j in enumerate(rst):\n",
    "            if j > i:\n",
    "                rst.insert(idx, i) # 排到第一个比它大的前面\n",
    "                found = True\n",
    "                break;\n",
    "        if not found:\n",
    "            rst.append(i)\n",
    "    return rst\n",
    "\n",
    "def insert_sort3(arr, n=0):\n",
    "    '''\n",
    "    这次不操作一个新的数组，每次改元素位置\n",
    "    n 表示已经排好了序的最大索引（个数-1），默认0，即只排了一个\n",
    "    '''\n",
    "    # 先排除例外，如果只有3个元素，已经排好了两个，直接插到最中间就好了\n",
    "    if len(arr) == 3 and n == 1:\n",
    "        arr[1], arr[2] = arr[2], arr[1]\n",
    "        return arr\n",
    "    for i in arr[n+1:]:\n",
    "        # 如果当前位置的数比排好序的最后一个数大，不动\n",
    "        if i > arr[n]: pass \n",
    "        elif i <= arr[0]:\n",
    "            # 如果比最小的小，那么移到最前面来\n",
    "            del arr[n+1]\n",
    "            arr.insert(0, i)\n",
    "        else:\n",
    "            # 这里不用逐个比较，试试迭代，不断复用前面的比较头尾的方法。\n",
    "            right = arr[n]\n",
    "            sub_sort = insert_sort3(arr[1:n]+[i], n-2)\n",
    "            arr[1:n+2] = sub_sort + [right]\n",
    "        n += 1\n",
    "    return arr\n",
    "\n",
    "def insert_sort4(arr):\n",
    "    n = 1 # 已经排好了序的数量，默认1，即只排了一个\n",
    "    for i, item in enumerate(arr[0:]):\n",
    "        if i==0: continue # 第一个数不需要比较\n",
    "        for j, el in enumerate(arr[0:n]):\n",
    "            if el >= item:\n",
    "                del arr[i]\n",
    "                arr.insert(j, item)\n",
    "                break\n",
    "        n += 1\n",
    "    return arr\n",
    "\n",
    "arr = [12, 9, 2, 4, 0, 12, 9, 5, 25, 43, 1, 6]\n",
    "\n",
    "insert_sort(arr.copy()), insert_sort2(arr.copy()), insert_sort3(arr.copy()), \\\n",
    "insert_sort4(arr.copy()), insert_sort5(arr.copy())"
   ]
  },
  {
   "cell_type": "markdown",
   "id": "excessive-purpose",
   "metadata": {},
   "source": [
    "## operator overloading\n",
    "\n",
    "昨天已经做过了，但今天增加了新内容（`simplify`），可以让表达式打印出来更简洁。"
   ]
  },
  {
   "cell_type": "code",
   "execution_count": 72,
   "id": "manual-theology",
   "metadata": {},
   "outputs": [
    {
     "name": "stdout",
     "output_type": "stream",
     "text": [
      "x\n",
      "3\n",
      "1\n",
      "1\n",
      "0\n"
     ]
    }
   ],
   "source": [
    "class Expr(object):\n",
    "    def eval(self, **values):     # evaluate the expression\n",
    "        pass\n",
    "    def deriv(self, x):           # get the derivative of x\n",
    "        pass\n",
    "    \n",
    "    def __add__(self, other):     # overloading + operator\n",
    "        return Add(self, other).simplify()\n",
    "    def __sub__(self, other):     # overloading - operator\n",
    "        return Sub(self, other).simplify()\n",
    "    def __mul__(self, other):     # overloading * operator\n",
    "        return Mul(self, other).simplify()\n",
    "    def __neg__(self):            # overloading - operator(单目)\n",
    "        return Neg(self)\n",
    "    def __truediv__(self, other): # overloading / operator\n",
    "        return TrueDiv(self, other).simplify()\n",
    "    \n",
    "class Const(Expr):\n",
    "    def __init__(self, value):\n",
    "        self.value = value\n",
    "    def eval(self, **values):\n",
    "        return self.value\n",
    "    def deriv(self, x):\n",
    "        return Const(0)\n",
    "    def __repr__(self):\n",
    "        return str(self.value)\n",
    "    \n",
    "def get_var_name(x):\n",
    "    return x.name if isinstance(x, Variable) else x\n",
    "    \n",
    "class Variable(Expr):\n",
    "    def __init__(self, name):\n",
    "        self.name = name\n",
    "    def eval(self, **kwargs):\n",
    "        '''\n",
    "        x.eval(x=3, y=4) ==> 3\n",
    "        x.eval(y=4) ==> error\n",
    "        '''\n",
    "        if self.name in kwargs:\n",
    "            return kwargs[self.name]\n",
    "        else:\n",
    "            raise Exception(f\"Variable {self.name} is not found\")\n",
    "    def deriv(self, x):\n",
    "        '''\n",
    "        derivative of var itself is 1, \n",
    "        otherwise is 0\n",
    "        '''\n",
    "        var_name = get_var_name(x)\n",
    "        return Const(1 if var_name == self.name else 0)\n",
    "    def __repr__(self):\n",
    "        return self.name\n",
    "    \n",
    "x1 = Variable(\"x\")\n",
    "print(x1)\n",
    "print(x1.eval(x=3))\n",
    "print(x1.deriv(\"x\"))\n",
    "print(x1.deriv(\"x\").eval(x=4))\n",
    "print(x1.deriv(\"y\").eval(x=4))"
   ]
  },
  {
   "cell_type": "code",
   "execution_count": 73,
   "id": "proprietary-suspension",
   "metadata": {},
   "outputs": [
    {
     "name": "stdout",
     "output_type": "stream",
     "text": [
      "(13 + a) = 13 + 5 = 18\n",
      "(13 - a) = 13 - 5 = 8\n",
      "(13 * a) = 13 * 5 = 65\n",
      "(13 / a) = 13 / 5 = 2.6\n",
      "(-13) = -13\n",
      "(-a) = -2\n",
      "------------------------\n",
      "(13 + a)' = 1\n",
      "(13 - a)' = -1\n",
      "(13 * a)' = 13\n",
      "(13 / a)' = -1.4444444444444444\n"
     ]
    }
   ],
   "source": [
    "class Add(Expr):\n",
    "    def __init__(self, left, right):\n",
    "        self.left = left\n",
    "        self.right = right\n",
    "    def eval(self, **kwargs):\n",
    "        return self.left.eval(**kwargs) + self.right.eval(**kwargs)\n",
    "    def deriv(self, x):\n",
    "        # get a NEW Add object\n",
    "        return self.left.deriv(x) + self.right.deriv(x)\n",
    "    def __repr__(self):\n",
    "        return f\"({self.left} + {self.right})\"\n",
    "    \n",
    "    def simplify(self):\n",
    "        left, right = self.left, self.right\n",
    "        left_const = isinstance(left, Const) \n",
    "        right_const = isinstance(right, Const)\n",
    "        if left_const and right_const:\n",
    "            return Const(left.value + right.value)\n",
    "        return self\n",
    "\n",
    "class Sub(Expr):\n",
    "    def __init__(self, left, right):\n",
    "        self.left = left\n",
    "        self.right = right\n",
    "    def eval(self, **kwargs):\n",
    "        return self.left.eval(**kwargs) - self.right.eval(**kwargs)\n",
    "    def deriv(self, x):\n",
    "        return self.left.deriv(x) - self.right.deriv(x)\n",
    "    def __repr__(self):\n",
    "        return f\"({self.left} - {self.right})\"\n",
    "    def simplify(self):\n",
    "        left, right = self.left, self.right\n",
    "        left_const = isinstance(left, Const) \n",
    "        right_const = isinstance(right, Const)\n",
    "        if left_const and right_const:\n",
    "            return Const(left.value - right.value)\n",
    "        return self\n",
    "    \n",
    "class Neg(Expr):\n",
    "    def __init__(self, value):\n",
    "        self.value = value\n",
    "    def eval(self, **kwargs):\n",
    "        return -self.value.eval(**kwargs)\n",
    "    def deriv(self, x):\n",
    "        return -self.value.deriv(x)\n",
    "#     def simplify(self):\n",
    "#         if isinstance(self.value, Const):\n",
    "#             return Const(-self.value.value)\n",
    "#         return self\n",
    "    def __repr__(self):\n",
    "        return '(-%s)' % self.value\n",
    "        \n",
    "class Mul(Expr):\n",
    "    def __init__(self, left, right):\n",
    "        self.left = left\n",
    "        self.right = right\n",
    "    def eval(self, **kwargs):\n",
    "        return self.left.eval(**kwargs) * self.right.eval(**kwargs)\n",
    "    def deriv(self, x):\n",
    "        '''\n",
    "        (uv)' = u'v + v'u  (Chain Rule)\n",
    "        '''\n",
    "        u, v = self.left, self.right\n",
    "        return u.deriv(x) * v + v.deriv(x) * u\n",
    "    def __repr__(self):\n",
    "        return f\"({self.left} * {self.right})\"\n",
    "    \n",
    "    def simplify(self):\n",
    "        left, right = self.left, self.right\n",
    "        left_const = isinstance(left, Const) \n",
    "        right_const = isinstance(right, Const)\n",
    "        if left_const and right_const:\n",
    "            return Const(left.value * right.value)\n",
    "        if left_const:\n",
    "            if left.value == 0: return Const(0)\n",
    "            if left.value == 1: return right\n",
    "        if right_const:\n",
    "            if right.value == 0: return Const(0)\n",
    "            if right.value == 1: return left\n",
    "        return self\n",
    "    \n",
    "class TrueDiv(Expr):\n",
    "    def __init__(self, left, right):\n",
    "        self.left = left\n",
    "        self.right = right\n",
    "    def eval(self, **kwargs):\n",
    "        return self.left.eval(**kwargs) / self.right.eval(**kwargs)\n",
    "    def deriv(self, x):\n",
    "        '''\n",
    "        (u/v)' = (u'v - v'u) / v^2 (Quotient Rule)\n",
    "        '''\n",
    "        u, v = self.left, self.right\n",
    "        return (u.deriv(x)*v - u*v.deriv(x))/(v*v)\n",
    "    def __repr__(self):\n",
    "        return f\"({self.left} / {self.right})\"    \n",
    "    \n",
    "    def simplify(self):\n",
    "        left, right = self.left, self.right\n",
    "        left_const = isinstance(left, Const) \n",
    "        right_const = isinstance(right, Const)\n",
    "        if left_const and right_const:\n",
    "            if right_const.value == 0:\n",
    "                raise Error(\"divide by zero error\")\n",
    "            return Const(left.value / right.value)\n",
    "        if left_const and left.value == 0: return Const(0)\n",
    "        if right_const and right.value == 1: return left\n",
    "        return self\n",
    "    \n",
    "c1 = Const(13)\n",
    "c2 = Variable(\"a\")\n",
    "c = c1 + c2\n",
    "d = c1 - c2\n",
    "e = c1 * c2\n",
    "f = c1 / c2\n",
    "g = -c1\n",
    "h = -c2\n",
    "print(f'{c} = {c1.eval()} + 5 = {c.eval(a=5)}')\n",
    "print(f'{d} = {c1.eval()} - 5 = {d.eval(a=5)}')\n",
    "print(f'{e} = {c1.eval()} * 5 = {e.eval(a=5)}')\n",
    "print(f'{f} = {c1.eval()} / 5 = {f.eval(a=5)}')\n",
    "print(f'{g} = {g.eval(a=2)}')\n",
    "print(f'{h} = {h.eval(a=2)}')\n",
    "print('-'*24)\n",
    "print(f'{c}\\' = {c.deriv(\"a\").eval(a=3)}')\n",
    "print(f'{d}\\' = {d.deriv(\"a\").eval(a=3)}')\n",
    "print(f'{e}\\' = {e.deriv(\"a\").eval(a=3)}')\n",
    "print(f'{f}\\' = {f.deriv(\"a\").eval(a=3)}')\n"
   ]
  },
  {
   "cell_type": "markdown",
   "id": "interesting-forestry",
   "metadata": {},
   "source": [
    "求$(2*x-6y)/(3*x+4*y)$在x=2, y=3处的的导数值"
   ]
  },
  {
   "cell_type": "code",
   "execution_count": 74,
   "id": "spare-manor",
   "metadata": {},
   "outputs": [
    {
     "name": "stdout",
     "output_type": "stream",
     "text": [
      "(((2 * x) - (6 * y)) / ((3 * x) + (4 * y)))\n",
      "∂f/∂x = (((2 * ((3 * x) + (4 * y))) - (((2 * x) - (6 * y)) * 3)) / (((3 * x) + (4 * y)) * ((3 * x) + (4 * y))))\n",
      "∂f/∂y = (((-6 * ((3 * x) + (4 * y))) - (((2 * x) - (6 * y)) * 4)) / (((3 * x) + (4 * y)) * ((3 * x) + (4 * y))))\n",
      "{'x': 2, 'y': 3} ----------------------------------------\n",
      "∂f/∂x = 0.24074074074074073\n",
      "∂f/∂y = -0.16049382716049382\n"
     ]
    }
   ],
   "source": [
    "x = Variable(\"x\")\n",
    "y = Variable(\"y\")\n",
    "exp1 = Const(2) * x - Const(6) * y\n",
    "exp2 = Const(3) * x + Const(4) * y\n",
    "exp = exp1 / exp2\n",
    "d1 = exp.deriv(x)\n",
    "d2 = exp.deriv(y)\n",
    "values = {\"x\":2, \"y\":3}\n",
    "print(exp)\n",
    "print(f'∂f/∂x = {d1}')\n",
    "print(f'∂f/∂y = {d2}')\n",
    "print(values,'----'*10)\n",
    "print(f'∂f/∂x = {d1.eval(**values)}')\n",
    "print(f'∂f/∂y = {d2.eval(**values)}')"
   ]
  },
  {
   "cell_type": "markdown",
   "id": "featured-satin",
   "metadata": {},
   "source": [
    "## 希尔排序\n",
    "\n",
    "每隔几个形成一个数组来排序，避免某些宏观上倒序的数据会造成大量的**长距离**交换操作，希尔排序是初始以length/2为步长的，也就是说最长距离的交换也只可能有最长纯插入排序交换距离的一半。\n",
    "\n",
    "几个要注意的地方：\n",
    "\n",
    "1. 希尔排序里每组的插入排序比单纯一个数组的插入排序效率要低，因为后者是真插入，而希尔是为了实现“插入”的**效果**，把大数从右边一个个地往左挪，代码上并不是真的直接插入，因为如果直接插入，其它组的序号就全变了\n",
    "2. 为了实现从右到左跟已排序的数组做比较，左边的数组就得是反序的，索引0其实已经是最后一个已排序的索引，要取得正序上的索引（用来做元素替换），需要用已排序的数组长度（其实就是当前比较的元素的索引）减去反序的索引\n",
    "3. 所以很多人看示例代码有个类似`i-j`的操作，如果是自己去写的话，会发现这个问题，自己想办法把正序算出来，而如果直接看别人代码，是比较难理解这里是在转换数组索引的操作\n",
    "4. 即使实现了，执行20000条随机数组排序仍然很慢（达到了几分钟），不知道是不是我实现的问题\n",
    "5. 网上的标准方法不是用\"反序比较“的思路，而是当前元素跟前一个step的元素比，所以不存在换索引的问题，但是执行效率怎么高那么多。是不是数组的反向切片方法本就很消耗？"
   ]
  },
  {
   "cell_type": "code",
   "execution_count": 22,
   "id": "photographic-guarantee",
   "metadata": {},
   "outputs": [
    {
     "name": "stdout",
     "output_type": "stream",
     "text": [
      "insert2: 7.337036848068237305\n",
      "shell2: 0.151087760925292969\n",
      "[0, 0, 1, 1, 1, 3, 3, 4, 5, 6, 6, 7, 7, 8, 10, 10, 11, 11, 12, 13, 13, 13, 13, 14, 14, 14, 14, 16, 16, 17, 17, 17, 17, 18, 18, 18, 18, 19, 19, 19, 20, 20, 21, 22, 22, 22, 23, 24, 25, 25]\n"
     ]
    }
   ],
   "source": [
    "def i_sort(arr, start, step):\n",
    "    '''\n",
    "    从右向左两两互换把大的交换到右边，才能实现把当前元素“插入”目标位置\n",
    "    比直接一排数字用list.insert(index, element)要繁琐一些（时间，空间复杂度都增加？）\n",
    "    因为不能改变其它组的元素，只能两两互换\n",
    "    '''\n",
    "    for index, right in enumerate(arr):\n",
    "        # 排除第一个，和不属于本组的元素\n",
    "        if index % step or index == 0: continue\n",
    "        # 用index来表示每一轮排序和非排序的边界，\n",
    "        # 因为左边排序部分我们是倒序搜索的，需要用这个index减去反序时的索引得到正序索引\n",
    "        i = index \n",
    "        for j, left in enumerate(arr[i::-1]):\n",
    "            # 排除第一个，和不属于本组的元素\n",
    "            if j % step or j == 0: continue\n",
    "            j = index - j # 反序索引变正序索引\n",
    "            if left > right:\n",
    "#                 arr[i], arr[j] = arr[j], arr[i] # 这里把对小数的赋值放到循环出来后，减少消耗\n",
    "                arr[i] = left\n",
    "                i = j\n",
    "        arr[i] = right       \n",
    "\n",
    "def shell_sort(arr):\n",
    "    gap = len(arr) // 2\n",
    "    while gap >= 1:\n",
    "        for i in range(gap):\n",
    "            i_sort(arr, i, gap)\n",
    "        gap = gap // 2\n",
    "    return arr\n",
    "\n",
    "def shell_sort2(arr):\n",
    "    group = len(arr) // 2\n",
    "    \n",
    "    while group > 0:\n",
    "        for i in range(group, len(arr)):\n",
    "            right   = arr[i]\n",
    "            current = i\n",
    "            while current >= group and arr[current - group] > right:\n",
    "                arr[current] = arr[current - group]\n",
    "                current -= group\n",
    "            arr[current] = right\n",
    "        group //= 2\n",
    "    return arr\n",
    "\n",
    "arr = [2, 15, 3, 22, 7, 0, 1, 6, 39, 9, 12, 3, 45, 17, 25, 17, 33, 6]\n",
    "\n",
    "import numpy as np\n",
    "import time\n",
    "np.random.seed(7)\n",
    "length = 20000\n",
    "arr = list(np.random.randint(0, 10000, size=(length,)))\n",
    "# start = time.time()\n",
    "# s1 = shell_sort(arr)\n",
    "# print(\"shell: %.18f\" % (time.time() - start))  # 10000条用了75秒\n",
    "start = time.time()\n",
    "s1 = insert_sort2(arr)\n",
    "print(\"insert2: %.18f\" % (time.time() - start))\n",
    "# start = time.time()\n",
    "# s2 = insert_sort4(arr)\n",
    "# print(\"insert4: %.18f\" % (time.time() - start))\n",
    "start = time.time()\n",
    "s3 = shell_sort2(arr)\n",
    "print(\"shell2: %.18f\" % (time.time() - start))\n",
    "# print(f\"s1:{s1[:50]}\\ns2:{s2[:50]}\\ns3:{s3[:50]}\")\n",
    "# print(f\"s2:{s2[:50]}\\ns3:{s3[:50]}\")\n",
    "print(s3[:50])"
   ]
  },
  {
   "cell_type": "code",
   "execution_count": 32,
   "id": "macro-browser",
   "metadata": {},
   "outputs": [
    {
     "name": "stdout",
     "output_type": "stream",
     "text": [
      "-> 16.352194786071777\n",
      "<- 16.24852228164673\n"
     ]
    }
   ],
   "source": [
    "start = time.time()\n",
    "m = 0\n",
    "for i in range(5000):\n",
    "    for j in arr[::2]:\n",
    "        m = i + j\n",
    "print(\"->\", time.time()-start)\n",
    "start = time.time()\n",
    "m = 0\n",
    "for i in range(5000):\n",
    "    for j in arr[-1:0:-2]:\n",
    "        m = i + j\n",
    "print(\"<-\", time.time()-start)"
   ]
  },
  {
   "cell_type": "code",
   "execution_count": 30,
   "id": "collect-terror",
   "metadata": {},
   "outputs": [
    {
     "data": {
      "text/plain": [
       "[0, 8, 6, 4, 2]"
      ]
     },
     "execution_count": 30,
     "metadata": {},
     "output_type": "execute_result"
    }
   ],
   "source": [
    "a=[1,2,3,4,5,6,7,8,9,0]\n",
    "a[-1:0:-2]"
   ]
  },
  {
   "cell_type": "code",
   "execution_count": 2,
   "id": "bronze-tender",
   "metadata": {},
   "outputs": [
    {
     "name": "stdout",
     "output_type": "stream",
     "text": [
      "0\n",
      ">> 2\n",
      "1\n",
      ">> 3\n",
      "2\n",
      ">> 4\n",
      "3\n",
      ">> 5\n",
      "4\n",
      ">> 6\n",
      "5\n",
      ">> 7\n",
      "6\n",
      ">> 8\n",
      "7\n",
      ">> 9\n",
      "8\n",
      ">> 10\n",
      "9\n",
      ">> 11\n"
     ]
    }
   ],
   "source": [
    "for i in range(10):\n",
    "    print(i)\n",
    "    i += 2\n",
    "    print(\">>\", i)"
   ]
  },
  {
   "cell_type": "code",
   "execution_count": null,
   "id": "beneficial-mobility",
   "metadata": {},
   "outputs": [],
   "source": []
  }
 ],
 "metadata": {
  "kernelspec": {
   "display_name": "Python 3",
   "language": "python",
   "name": "python3"
  },
  "language_info": {
   "codemirror_mode": {
    "name": "ipython",
    "version": 3
   },
   "file_extension": ".py",
   "mimetype": "text/x-python",
   "name": "python",
   "nbconvert_exporter": "python",
   "pygments_lexer": "ipython3",
   "version": "3.7.10"
  }
 },
 "nbformat": 4,
 "nbformat_minor": 5
}
