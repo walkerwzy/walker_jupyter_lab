{
 "cells": [
  {
   "cell_type": "code",
   "execution_count": 2,
   "id": "f878b4b2-41c6-4561-930d-3d28b339af48",
   "metadata": {},
   "outputs": [],
   "source": [
    "import numpy as np"
   ]
  },
  {
   "cell_type": "markdown",
   "id": "6d20c8f8-3f8c-46d1-9554-7070f817dd8b",
   "metadata": {},
   "source": [
    "所有的`axis`，统一理解为：只改变这个维度。\n",
    "\n",
    "怎么说？ 假设对于二维数组，如果axis=1，意思是axis=0的维度不要变更，不管你做的是求和，还是拆分，合并什么的，操作完后，“**行数**”一定不能变\n",
    "\n",
    "所以不要从几何上想是竖向操作数据还是横向，越想越混，维度越高还越想不清白，只需要明确一点，没有写在`axis`参数里的，操作完后它的维度肯定不能变。"
   ]
  },
  {
   "cell_type": "markdown",
   "id": "c59db9d0-dd60-49d7-8e87-e7d7633ad2a5",
   "metadata": {},
   "source": [
    "### split and merge"
   ]
  },
  {
   "cell_type": "code",
   "execution_count": 10,
   "id": "981273da-de59-44c9-8fd1-1753c15a03db",
   "metadata": {},
   "outputs": [
    {
     "data": {
      "text/plain": [
       "[array([[  0,   1,   2,   3,   4],\n",
       "        [ 35,  36,  37,  38,  39],\n",
       "        [ 70,  71,  72,  73,  74],\n",
       "        [105, 106, 107, 108, 109]]),\n",
       " array([[  5,   6,   7,   8,   9,  10],\n",
       "        [ 40,  41,  42,  43,  44,  45],\n",
       "        [ 75,  76,  77,  78,  79,  80],\n",
       "        [110, 111, 112, 113, 114, 115]]),\n",
       " array([[ 11,  12,  13,  14,  15],\n",
       "        [ 46,  47,  48,  49,  50],\n",
       "        [ 81,  82,  83,  84,  85],\n",
       "        [116, 117, 118, 119, 120]]),\n",
       " array([[ 16,  17,  18,  19,  20,  21,  22,  23,  24,  25,  26,  27,  28,\n",
       "          29,  30,  31,  32,  33,  34],\n",
       "        [ 51,  52,  53,  54,  55,  56,  57,  58,  59,  60,  61,  62,  63,\n",
       "          64,  65,  66,  67,  68,  69],\n",
       "        [ 86,  87,  88,  89,  90,  91,  92,  93,  94,  95,  96,  97,  98,\n",
       "          99, 100, 101, 102, 103, 104],\n",
       "        [121, 122, 123, 124, 125, 126, 127, 128, 129, 130, 131, 132, 133,\n",
       "         134, 135, 136, 137, 138, 139]])]"
      ]
     },
     "execution_count": 10,
     "metadata": {},
     "output_type": "execute_result"
    }
   ],
   "source": [
    "import numpy as np\n",
    "a = np.arange(140).reshape(4, 35)\n",
    "# 横向5等分, 这时候传的参数叫sections\n",
    "# 等同于split, axis=1\n",
    "np.hsplit(a, 7)\n",
    "# 纵向2等分\n",
    "np.vsplit(a, 2)\n",
    "# 按索引分, 这时候传的参数是indices\n",
    "# 下例，理解为索引分别取到5， 11， 16，剩下的打包\n",
    "np.split(a, (5, 11, 16), axis=1)"
   ]
  },
  {
   "cell_type": "markdown",
   "id": "c1db1e57-e4b3-4116-aefd-952405e9e9df",
   "metadata": {},
   "source": [
    "### 拼接，去维度"
   ]
  },
  {
   "cell_type": "code",
   "execution_count": 14,
   "id": "2141aafc-4534-47ed-a3a3-6ffd90dd9061",
   "metadata": {},
   "outputs": [
    {
     "data": {
      "text/plain": [
       "((4, 70), (4, 70), (8, 35), (8, 35))"
      ]
     },
     "execution_count": 14,
     "metadata": {},
     "output_type": "execute_result"
    }
   ],
   "source": [
    "import numpy as np\n",
    "a = np.arange(140).reshape(4, 35)\n",
    "b = np.empty((4, 35))\n",
    "np.append(b, a, axis=1).shape, np.hstack([b, a]).shape, \\\n",
    "np.append(b, a, axis=0).shape, np.vstack([b, a]).shape"
   ]
  },
  {
   "cell_type": "markdown",
   "id": "153707c1-5d69-48b4-ab73-01da35894656",
   "metadata": {},
   "source": [
    "要保留维度怎么做？ (4,35)拼接为(2, 4, 35)\n",
    "- 我目前能想到只有加升维\n",
    "- 或者利用原生python数组的append功能"
   ]
  },
  {
   "cell_type": "code",
   "execution_count": 29,
   "id": "369152db-9c7d-41e9-bbfd-4d759f47c78d",
   "metadata": {},
   "outputs": [
    {
     "data": {
      "text/plain": [
       "(2, 4, 35)"
      ]
     },
     "execution_count": 29,
     "metadata": {},
     "output_type": "execute_result"
    }
   ],
   "source": [
    "np.append(b[None,...], a[None,...], axis=0).shape\n",
    "c = []\n",
    "c.append(a)\n",
    "c.append(b)\n",
    "np.array(c).shape"
   ]
  },
  {
   "cell_type": "markdown",
   "id": "1ce029ec-3d2c-4b01-918c-2c0c1f7bfe62",
   "metadata": {},
   "source": [
    "### pad\n",
    "\n",
    "pad默认每个维度都会pad，要自定义只能每个维度都传进去，"
   ]
  },
  {
   "cell_type": "code",
   "execution_count": 34,
   "id": "a5a804bf-a12a-4f14-941b-6cf0aa6ad75d",
   "metadata": {},
   "outputs": [
    {
     "data": {
      "text/plain": [
       "((3, 2, 7, 7),\n",
       " array([[[[  0,   0,   0,   0,   0,   0,   0],\n",
       "          [  0,   0,   1,   2,   3,   4,   0],\n",
       "          [  0,   5,   6,   7,   8,   9,   0],\n",
       "          [  0,  10,  11,  12,  13,  14,   0],\n",
       "          [  0,  15,  16,  17,  18,  19,   0],\n",
       "          [  0,  20,  21,  22,  23,  24,   0],\n",
       "          [  0,   0,   0,   0,   0,   0,   0]],\n",
       " \n",
       "         [[  0,   0,   0,   0,   0,   0,   0],\n",
       "          [  0,  25,  26,  27,  28,  29,   0],\n",
       "          [  0,  30,  31,  32,  33,  34,   0],\n",
       "          [  0,  35,  36,  37,  38,  39,   0],\n",
       "          [  0,  40,  41,  42,  43,  44,   0],\n",
       "          [  0,  45,  46,  47,  48,  49,   0],\n",
       "          [  0,   0,   0,   0,   0,   0,   0]]],\n",
       " \n",
       " \n",
       "        [[[  0,   0,   0,   0,   0,   0,   0],\n",
       "          [  0,  50,  51,  52,  53,  54,   0],\n",
       "          [  0,  55,  56,  57,  58,  59,   0],\n",
       "          [  0,  60,  61,  62,  63,  64,   0],\n",
       "          [  0,  65,  66,  67,  68,  69,   0],\n",
       "          [  0,  70,  71,  72,  73,  74,   0],\n",
       "          [  0,   0,   0,   0,   0,   0,   0]],\n",
       " \n",
       "         [[  0,   0,   0,   0,   0,   0,   0],\n",
       "          [  0,  75,  76,  77,  78,  79,   0],\n",
       "          [  0,  80,  81,  82,  83,  84,   0],\n",
       "          [  0,  85,  86,  87,  88,  89,   0],\n",
       "          [  0,  90,  91,  92,  93,  94,   0],\n",
       "          [  0,  95,  96,  97,  98,  99,   0],\n",
       "          [  0,   0,   0,   0,   0,   0,   0]]],\n",
       " \n",
       " \n",
       "        [[[  0,   0,   0,   0,   0,   0,   0],\n",
       "          [  0, 100, 101, 102, 103, 104,   0],\n",
       "          [  0, 105, 106, 107, 108, 109,   0],\n",
       "          [  0, 110, 111, 112, 113, 114,   0],\n",
       "          [  0, 115, 116, 117, 118, 119,   0],\n",
       "          [  0, 120, 121, 122, 123, 124,   0],\n",
       "          [  0,   0,   0,   0,   0,   0,   0]],\n",
       " \n",
       "         [[  0,   0,   0,   0,   0,   0,   0],\n",
       "          [  0, 125, 126, 127, 128, 129,   0],\n",
       "          [  0, 130, 131, 132, 133, 134,   0],\n",
       "          [  0, 135, 136, 137, 138, 139,   0],\n",
       "          [  0, 140, 141, 142, 143, 144,   0],\n",
       "          [  0, 145, 146, 147, 148, 149,   0],\n",
       "          [  0,   0,   0,   0,   0,   0,   0]]]]))"
      ]
     },
     "execution_count": 34,
     "metadata": {},
     "output_type": "execute_result"
    }
   ],
   "source": [
    "b = np.arange(150).reshape(3,2,5,5)\n",
    "b = np.pad(b, pad_width=((0,0),(0,0),(1,1),(1,1)))\n",
    "b.shape, b"
   ]
  },
  {
   "cell_type": "code",
   "execution_count": 44,
   "id": "8f01c7e4-d4ba-4fd8-b9cb-9327ea4fe0ed",
   "metadata": {},
   "outputs": [
    {
     "data": {
      "text/plain": [
       "array([[ 0,  0,  0,  0,  0,  0,  0],\n",
       "       [ 0,  0,  1,  2,  3,  0,  0],\n",
       "       [ 0,  4,  5,  6,  7,  0,  0],\n",
       "       [ 0,  8,  9, 10, 11,  0,  0],\n",
       "       [ 0, 12, 13, 14, 15,  0,  0],\n",
       "       [ 0,  0,  0,  0,  0,  0,  0]])"
      ]
     },
     "execution_count": 44,
     "metadata": {},
     "output_type": "execute_result"
    }
   ],
   "source": [
    "aa = np.arange(16).reshape(4, 4)\n",
    "np.pad(aa, ((1,1), (2,2)))\n",
    "# np.pad(aa, (1, (2,2))) # 不行，要么一起设，要么一起不设\n",
    "np.pad(aa, (1, 2))\n",
    "# 上式等同于\n",
    "np.pad(aa, ((1, 1), (1, 2)))"
   ]
  },
  {
   "cell_type": "code",
   "execution_count": 57,
   "id": "164ac958-c740-4330-aa0e-8dc85726226a",
   "metadata": {},
   "outputs": [
    {
     "data": {
      "text/plain": [
       "array([[1., 1., 0., 0., 0., 0., 0., 0., 0.],\n",
       "       [2., 2., 0., 0., 0., 0., 0., 0., 0.],\n",
       "       [3., 3., 0., 0., 0., 0., 0., 0., 0.]])"
      ]
     },
     "execution_count": 57,
     "metadata": {},
     "output_type": "execute_result"
    }
   ],
   "source": [
    "a = np.zeros((3, 9))\n",
    "a1 = np.arange(1,4).reshape(-1,1)\n",
    "# a[:,0] = a1       # 会失败，0取出来就降维了\n",
    "a[:,0:1] = a1       # 切片降维\n",
    "a[...,None,1] = a1  # 或者先升维再降维（有点无聊）\n",
    "a"
   ]
  },
  {
   "cell_type": "markdown",
   "id": "b6e44ba0-a096-439c-acc7-3a7ef4812ea2",
   "metadata": {},
   "source": [
    "### np.where\n",
    "\n",
    "np.where 把符合条件的元素在对应维度上的索引返回，对于2维数组，自然返回的就是行的索引（集合）和列的索引（集合）"
   ]
  },
  {
   "cell_type": "code",
   "execution_count": 65,
   "id": "de9bd5a3-7ac8-44e0-a048-aa953568a770",
   "metadata": {},
   "outputs": [
    {
     "data": {
      "text/plain": [
       "(array([0, 0, 1, 1, 1, 1, 1, 2, 2, 2, 2, 2, 3, 3, 3, 3, 3, 4, 4, 4, 4, 4]),\n",
       " array([3, 4, 0, 1, 2, 3, 4, 0, 1, 2, 3, 4, 0, 1, 2, 3, 4, 0, 1, 2, 3, 4]))"
      ]
     },
     "execution_count": 65,
     "metadata": {},
     "output_type": "execute_result"
    }
   ],
   "source": [
    "a = np.arange(25).reshape(5, 5)\n",
    "rows, cols = np.where(a>2)\n",
    "rows, cols"
   ]
  },
  {
   "cell_type": "markdown",
   "id": "ac509ec6-0c77-48fa-8ca2-f851dfcab87c",
   "metadata": {},
   "source": [
    "### 插值interp"
   ]
  },
  {
   "cell_type": "code",
   "execution_count": 2,
   "id": "e7a361d0-28f8-4d08-b575-6bf8f5f1bbe3",
   "metadata": {},
   "outputs": [
    {
     "data": {
      "text/plain": [
       "array([ 0.00000000e+00,  1.18063030e-01,  2.36126061e-01,  3.54189091e-01,\n",
       "        4.72252121e-01,  5.90315152e-01,  6.77687624e-01,  7.40507651e-01,\n",
       "        8.03327677e-01,  8.66147703e-01,  9.28967730e-01,  9.82383623e-01,\n",
       "        9.60566457e-01,  9.38749291e-01,  9.16932125e-01,  8.95114959e-01,\n",
       "        8.73297793e-01,  8.01861494e-01,  7.05615630e-01,  6.09369766e-01,\n",
       "        5.13123902e-01,  4.16878038e-01,  3.14100132e-01,  1.88460079e-01,\n",
       "        6.28200263e-02, -6.28200263e-02, -1.88460079e-01, -3.14100132e-01,\n",
       "       -4.16878038e-01, -5.13123902e-01, -6.09369766e-01, -7.05615630e-01,\n",
       "       -8.01861494e-01, -8.73297793e-01, -8.95114959e-01, -9.16932125e-01,\n",
       "       -9.38749291e-01, -9.60566457e-01, -9.82383623e-01, -9.28967730e-01,\n",
       "       -8.66147703e-01, -8.03327677e-01, -7.40507651e-01, -6.77687624e-01,\n",
       "       -5.90315152e-01, -4.72252121e-01, -3.54189091e-01, -2.36126061e-01,\n",
       "       -1.18063030e-01, -2.44929360e-16])"
      ]
     },
     "execution_count": 2,
     "metadata": {},
     "output_type": "execute_result"
    },
    {
     "data": {
      "image/png": "[encoded data removed]",
      "text/plain": [
       "<Figure size 432x288 with 1 Axes>"
      ]
     },
     "metadata": {
      "needs_background": "light"
     },
     "output_type": "display_data"
    }
   ],
   "source": [
    "import numpy as np\n",
    "# x = 1, 3, 5, 10\n",
    "x = np.linspace(0, 2*np.pi, 10)\n",
    "y = np.sin(x)\n",
    "xvals = np.linspace(0, 2*np.pi, 50)\n",
    "yinterp = np.interp(xvals, x, y)\n",
    "import matplotlib.pyplot as plt\n",
    "plt.plot(x, y, 'o')\n",
    "yinterp\n",
    "# 可以这么理解：生成的个数还是以xvals为主，但是考虑了每个x作为关键帧, 在关键帧中间做插值"
   ]
  },
  {
   "cell_type": "markdown",
   "id": "8b0da300-6e3e-4ac7-a513-00d4a25082b0",
   "metadata": {},
   "source": [
    "### unpackbits"
   ]
  },
  {
   "cell_type": "code",
   "execution_count": 9,
   "id": "91171f10-e125-4977-8abe-d5ab6aee20c3",
   "metadata": {},
   "outputs": [
    {
     "data": {
      "text/plain": [
       "array([[0, 0, 0, 0, 0, 0, 1, 1],\n",
       "       [0, 0, 0, 0, 0, 1, 0, 0],\n",
       "       [0, 0, 0, 0, 0, 1, 0, 1]], dtype=uint8)"
      ]
     },
     "execution_count": 9,
     "metadata": {},
     "output_type": "execute_result"
    }
   ],
   "source": [
    "a = np.array([3,4,5], dtype=np.uint8)[...,None]\n",
    "b = np.unpackbits(a, 1)\n",
    "b"
   ]
  },
  {
   "cell_type": "code",
   "execution_count": null,
   "id": "e5385e57-ec12-4c28-bf8d-3cc58064fe9d",
   "metadata": {},
   "outputs": [],
   "source": []
  }
 ],
 "metadata": {
  "kernelspec": {
   "display_name": "Python 3",
   "language": "python",
   "name": "python3"
  },
  "language_info": {
   "codemirror_mode": {
    "name": "ipython",
    "version": 3
   },
   "file_extension": ".py",
   "mimetype": "text/x-python",
   "name": "python",
   "nbconvert_exporter": "python",
   "pygments_lexer": "ipython3",
   "version": "3.8.5"
  }
 },
 "nbformat": 4,
 "nbformat_minor": 5
}
