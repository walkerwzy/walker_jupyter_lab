{
 "cells": [
  {
   "cell_type": "markdown",
   "metadata": {},
   "source": [
    "## input and print"
   ]
  },
  {
   "cell_type": "code",
   "execution_count": 389,
   "metadata": {},
   "outputs": [
    {
     "name": "stdin",
     "output_type": "stream",
     "text": [
      "please input your name: walker\n"
     ]
    },
    {
     "name": "stdout",
     "output_type": "stream",
     "text": [
      "hello walker\n"
     ]
    }
   ],
   "source": [
    "name = input(\"please input your name:\") # prompt input and grab value\n",
    "print(f\"hello {name}\") # string interpolation"
   ]
  },
  {
   "cell_type": "code",
   "execution_count": 392,
   "metadata": {},
   "outputs": [
    {
     "name": "stdout",
     "output_type": "stream",
     "text": [
      "escape to print control characters:\n",
      "==================================\n",
      "'hello\\nworld' => hello\n",
      "world\n",
      "'hello\\tworld' => hello\tworld\n",
      "\\r是本行回车，并且编辑模式变成了替换而非插入：'ABCDE\\r123' =>\n",
      "123DE\n",
      "\n",
      "unescape, to print raw string\n",
      "=============================\n",
      "r'hello\\nworld' => hello\\nworld\n",
      "R'hello\\nworld' => hello\\nworld\n"
     ]
    }
   ],
   "source": [
    "print(\"escape to print control characters:\")\n",
    "print(\"=\"*34)\n",
    "print(\"'hello\\\\nworld' => hello\\nworld\")\n",
    "print(\"'hello\\\\tworld' => hello\\tworld\")\n",
    "print(\"\\\\r是本行回车，并且编辑模式变成了替换而非插入：'ABCDE\\\\r123' =>\")\n",
    "print(\"ABCDE\\r123\")\n",
    "\n",
    "print(\"\\nunescape, to print raw string\")\n",
    "print(\"=\"*29)\n",
    "print(r\"r'hello\\nworld' => hello\\nworld\")\n",
    "print(R\"R'hello\\nworld' => hello\\nworld\")"
   ]
  },
  {
   "cell_type": "markdown",
   "metadata": {},
   "source": [
    "## vars"
   ]
  },
  {
   "cell_type": "code",
   "execution_count": 3,
   "metadata": {},
   "outputs": [],
   "source": [
    "# 变量名规则\n",
    "myname = \"walker\"\n",
    "my_name = \"walker2\"\n",
    "myName = \"walker3\"\n",
    "_my_name = \"walker4\"\n",
    "MyName = \"walker5\""
   ]
  },
  {
   "cell_type": "markdown",
   "metadata": {},
   "source": [
    "## type"
   ]
  },
  {
   "cell_type": "code",
   "execution_count": 140,
   "metadata": {},
   "outputs": [
    {
     "name": "stdout",
     "output_type": "stream",
     "text": [
      "123\t type: \t <class 'int'>\n",
      "1.23\t type: \t <class 'float'>\n",
      "123j\t type: \t <class 'complex'>\n",
      "\"123\"\t type: \t <class 'str'>\n",
      "[1, 2]\t type: \t <class 'list'>\n",
      "{1, 2}\t type: \t <class 'set'>\n",
      "(1, 2)\t type: \t <class 'tuple'>\n",
      "()\t type: \t <class 'tuple'>\n",
      "(1,)\t type: \t <class 'tuple'>\n",
      "{}\t type: \t <class 'dict'>\n",
      "{1}\t type: \t <class 'set'>\n",
      "[]\t type: \t <class 'list'>\n",
      "[1]\t type: \t <class 'list'>\n",
      "(1)\t type: \t <class 'int'> \t (1) 是 int\n",
      "1, 2\t type: \t <class 'tuple'>  1,2 是 tuple\n"
     ]
    }
   ],
   "source": [
    "values = (\n",
    "123, 1.23, 123j, \"123\",\n",
    "    [1, 2],\n",
    "    {1, 2},\n",
    "    (1, 2),\n",
    "    (), (1,), # (1)是 int，(1,)才是tuple\n",
    "    {}, {1},  # { }是 dict，不是空set\n",
    "    [], [1]\n",
    ")\n",
    "for value in values:\n",
    "    if(isinstance(value, str)):\n",
    "        print(f\"\\\"{str(value)}\\\"\\t type: \\t {type(value)}\")\n",
    "    else:\n",
    "        print(f\"{str(value)}\\t type: \\t {type(value)}\")\n",
    "        \n",
    "# 注意以下：\n",
    "v = 1, 2\n",
    "print(f\"(1)\\t type: \\t {type((1))} \\t (1) 是 int\")\n",
    "print(f\"1, 2\\t type: \\t {type(v)}  1,2 是 tuple\")"
   ]
  },
  {
   "cell_type": "markdown",
   "metadata": {},
   "source": [
    "## number"
   ]
  },
  {
   "cell_type": "code",
   "execution_count": 46,
   "metadata": {},
   "outputs": [
    {
     "data": {
      "text/plain": [
       "(103, 97, 300, 1000000, 33.333333333333336, 33, 1, 800, 12)"
      ]
     },
     "execution_count": 46,
     "metadata": {},
     "output_type": "execute_result"
    }
   ],
   "source": [
    "num1 = 100\n",
    "num2 = 3\n",
    "num3 = num1 + num2\n",
    "num4 = num1 - num2\n",
    "num5 = num1 * num2\n",
    "num6 = num1 ** num2  # 幂运算\n",
    "num7 = num1 / num2\n",
    "num8 = num1 // num2  # 整除\n",
    "num9 = num1 % num2\n",
    "num10 = num1 << num2  # num1 * 2^num2\n",
    "num11 = num1 >> num2  # num1 // 2^num2\n",
    "\n",
    "num3,num4,num5,num6,num7,num8,num9,num10,num11"
   ]
  },
  {
   "cell_type": "markdown",
   "metadata": {},
   "source": [
    "### complex number"
   ]
  },
  {
   "cell_type": "code",
   "execution_count": 55,
   "metadata": {},
   "outputs": [
    {
     "data": {
      "text/plain": [
       "(102j,\n",
       " 98j,\n",
       " (-200+0j),\n",
       " (50+0j),\n",
       " (-0.04222415656172525+0.009195832445129897j),\n",
       " (-0.9770962286732339+0.21279793211528997j),\n",
       " (-0-1000000j))"
      ]
     },
     "execution_count": 55,
     "metadata": {},
     "output_type": "execute_result"
    }
   ],
   "source": [
    "num1 = 100j\n",
    "num2 = 2j\n",
    "num3 = num1 + num2\n",
    "num4 = num1 - num2\n",
    "num5 = num1 * num2\n",
    "num6 = num1 / num2\n",
    "num8 = num1 ** num2 # 虚数的虚数次幂\n",
    "num9 = 100 ** num2  # 实数的虚数次幂\n",
    "num10 = num1 ** 3   # 虚数的实数次幂 (同num5, i*i=-1)\n",
    "num3,num4,num5,num6, num8, num9, num10"
   ]
  },
  {
   "cell_type": "markdown",
   "metadata": {},
   "source": [
    "### bitwise operators"
   ]
  },
  {
   "cell_type": "code",
   "execution_count": 95,
   "metadata": {},
   "outputs": [
    {
     "data": {
      "text/plain": [
       "('0b1100', '0b1001')"
      ]
     },
     "execution_count": 95,
     "metadata": {},
     "output_type": "execute_result"
    }
   ],
   "source": [
    "A = 12\n",
    "B = 9\n",
    "\n",
    "bin(A), bin(B)"
   ]
  },
  {
   "cell_type": "markdown",
   "metadata": {},
   "source": [
    "$$\n",
    "\\begin{array}{|c|c|c|c|c|l|}\n",
    "\\hline\n",
    "A&1&1&0&0&=12\\\\\n",
    "\\hline\n",
    "B&1&0&0&1&=9\\\\\n",
    "\\hline\n",
    "\\&&1&0&0&0&=8\\\\\n",
    "\\hline\n",
    "|&1&1&0&1&=13\\\\\n",
    "\\hline\n",
    "\\land&0&1&0&1&=5\\\\\n",
    "\\hline\n",
    "\\sim A&0&0&1&1&=\\color{red}{-13}?\\\\\n",
    "\\hline\n",
    "\\sim A\\color{red}{\\&}{15}&0&0&1&1&=3\\\\\n",
    "\\hline\n",
    "A\\ll1&1&0&0&00&=\\color{red}{24}?\\\\\n",
    "\\hline\n",
    "A\\ll1 \\color{red}{\\&} 15&1&0&0&0&=8\\\\\n",
    "\\hline\n",
    "A\\gg1&0&1&1&0&=6\\\\\n",
    "\\hline\n",
    "\\end{array}\n",
    "$$"
   ]
  },
  {
   "cell_type": "code",
   "execution_count": 394,
   "metadata": {},
   "outputs": [
    {
     "name": "stdout",
     "output_type": "stream",
     "text": [
      "\n",
      "A&B \t= 8\n",
      "A|B \t= 13\n",
      "A^B \t= 5\n",
      "~A \t= -13\n",
      "~A&15 \t= 3\n",
      "A<<1 \t= 24\n",
      "A<<1&15 = 8\n",
      "A>>1 \t= 6\n",
      "\n"
     ]
    }
   ],
   "source": [
    "# 15 = 0b1111， &15 就是与0b1111进行位与的运算\n",
    "print(f'''\n",
    "A&B \\t= {A&B}\n",
    "A|B \\t= {A|B}\n",
    "A^B \\t= {A^B}\n",
    "~A \\t= {~A}\n",
    "~A&15 \\t= {~A&15}\n",
    "A<<1 \\t= {A<<1}\n",
    "A<<1&15 = {A<<1&15}\n",
    "A>>1 \\t= {A>>1}\n",
    "''')"
   ]
  },
  {
   "cell_type": "code",
   "execution_count": 393,
   "metadata": {},
   "outputs": [
    {
     "name": "stdout",
     "output_type": "stream",
     "text": [
      "\n",
      "int(3.4) \t= 3\n",
      "int(3.5) \t= 3\n",
      "math.floor(3.4)\t= 3\n",
      "math.ceil(3.4) \t= 4\n",
      "round(3.4) \t= 3\n",
      "round(3.5) \t= 4\n",
      "\n"
     ]
    }
   ],
   "source": [
    "# 取整和四舍五入\n",
    "import math\n",
    "print(f'''\n",
    "int(3.4) \\t= {int(3.4)}\n",
    "int(3.5) \\t= {int(3.5)}\n",
    "math.floor(3.4)\\t= {math.floor(3.4)}\n",
    "math.ceil(3.4) \\t= {math.ceil(3.4)}\n",
    "round(3.4) \\t= {round(3.4)}\n",
    "round(3.5) \\t= {round(3.5)}\n",
    "''')"
   ]
  },
  {
   "cell_type": "markdown",
   "metadata": {},
   "source": [
    "## string format"
   ]
  },
  {
   "cell_type": "markdown",
   "metadata": {},
   "source": [
    "### printf style (%)"
   ]
  },
  {
   "cell_type": "code",
   "execution_count": 18,
   "metadata": {},
   "outputs": [
    {
     "name": "stdout",
     "output_type": "stream",
     "text": [
      "my name is walker, \n",
      "math, 2.00, 3.0000000000\n",
      "His name is John, age is 028.\n"
     ]
    }
   ],
   "source": [
    "print('my name is %s, ' % \"walker\")\n",
    "\n",
    "# 多个变量时用tuple包起来\n",
    "print('%s, %.2f, %.10f' % (\"math\", 2, 3))\n",
    "\n",
    "# use dict\n",
    "print('His name is %(name)s, age is %(age)03d.' %\n",
    "      {\"name\": \"John\", \"age\": 28})"
   ]
  },
  {
   "cell_type": "markdown",
   "metadata": {},
   "source": [
    "### str.format"
   ]
  },
  {
   "cell_type": "code",
   "execution_count": 36,
   "metadata": {},
   "outputs": [
    {
     "name": "stdout",
     "output_type": "stream",
     "text": [
      "walker/023/3.14\n",
      "chair's price is 22.00\n"
     ]
    }
   ],
   "source": [
    "# 位置参数\n",
    "print('{}/{:03d}/{:.2f}'.format('walker',23,3.1415))\n",
    "# 命名参数\n",
    "print('{item}\\'s price is {price:.2f}'.format(item=\"chair\", price=22))"
   ]
  },
  {
   "cell_type": "markdown",
   "metadata": {},
   "source": [
    "### template"
   ]
  },
  {
   "cell_type": "code",
   "execution_count": 142,
   "metadata": {},
   "outputs": [
    {
     "name": "stdout",
     "output_type": "stream",
     "text": [
      "Tim is 17\n",
      "Tim is $age. (safe_substitute)\n"
     ]
    }
   ],
   "source": [
    "from string import Template\n",
    "s = Template('$name is $age')\n",
    "print(s.substitute(name='Tim', age=17))\n",
    "d = dict(name='Tim')\n",
    "# print(Template('$name is $age').substitute(d))  # KeyError: 'age'\n",
    "print(Template('$name is $age. (safe_substitute)').safe_substitute(d))"
   ]
  },
  {
   "cell_type": "markdown",
   "metadata": {},
   "source": [
    "### interpolation"
   ]
  },
  {
   "cell_type": "code",
   "execution_count": 125,
   "metadata": {},
   "outputs": [
    {
     "name": "stdout",
     "output_type": "stream",
     "text": [
      "hello, 123, 0123, 123.00\n"
     ]
    }
   ],
   "source": [
    "str1 = \"hello\"\n",
    "num = 123\n",
    "print(f'{str1}, {num}, {num:04d}, {num:.2f}')"
   ]
  },
  {
   "cell_type": "markdown",
   "metadata": {},
   "source": [
    "## list"
   ]
  },
  {
   "cell_type": "code",
   "execution_count": 396,
   "metadata": {},
   "outputs": [
    {
     "name": "stdout",
     "output_type": "stream",
     "text": [
      "\n",
      "arr[0] = 1 <class 'int'>\n",
      "arr[3] = 4 <class 'str'>\n",
      "arr[5] = [1, '2'] <class 'list'>\n",
      "arr[5][1] = '2'\n",
      "arr[6][\"age\"] = 18\n",
      "length is 7\n",
      "arr[-1]: the last element is {'name': 'John', 'age': 18}\n",
      "\n",
      "init from string '1 2 3 4 5':\n",
      "['1', '2', '3', '4', '5']\n"
     ]
    }
   ],
   "source": [
    "arr = [1, 2, 3, \"4\", \"5\", [1, \"2\"], {\"name\":\"John\", \"age\": 18}]\n",
    "print(f'''\n",
    "arr[0] = {arr[0]} {type(arr[0])}\n",
    "arr[3] = {arr[3]} {type(arr[3])}\n",
    "arr[5] = {arr[5]} {type(arr[5])}\n",
    "arr[5][1] = '{arr[5][1]}'\n",
    "arr[6][\"age\"] = {arr[6][\"age\"]}\n",
    "length is {len(arr)}\n",
    "arr[-1]: the last element is {arr[-1]}\n",
    "''')\n",
    "print(f\"init from string '1 2 3 4 5':\\n{'1 2 3 4 5'.split(' ')}\")"
   ]
  },
  {
   "cell_type": "code",
   "execution_count": 397,
   "metadata": {},
   "outputs": [
    {
     "data": {
      "text/plain": [
       "[1,\n",
       " 2,\n",
       " 3,\n",
       " '4',\n",
       " '5',\n",
       " [1, '2'],\n",
       " {'name': 'John', 'age': 18},\n",
       " 'a',\n",
       " ['x', 'y', 'z'],\n",
       " 'r',\n",
       " 's',\n",
       " 't',\n",
       " 11,\n",
       " 12,\n",
       " 'hello world']"
      ]
     },
     "execution_count": 397,
     "metadata": {},
     "output_type": "execute_result"
    }
   ],
   "source": [
    "# 增、删、改\n",
    "arr1 = arr.copy()\n",
    "arr1.append(\"a\")\n",
    "arr1.append([\"x\", \"y\", \"z\"]) # append 是作为单个元素添加的\n",
    "arr1 += [\"r\", \"s\", \"t\"] # 数组相加是把数组元素一个个添加的\n",
    "arr1.extend([11, 12, 13]) # 等同于数组相加\n",
    "arr1[-1] = \"hello world\" # 13 变成了hello world\n",
    "arr1"
   ]
  },
  {
   "cell_type": "code",
   "execution_count": 184,
   "metadata": {},
   "outputs": [
    {
     "data": {
      "text/plain": [
       "(140373069115656, 140373069115656, 140373068936264)"
      ]
     },
     "execution_count": 184,
     "metadata": {},
     "output_type": "execute_result"
    }
   ],
   "source": [
    "arr2 = [0, 1, 2, 3, 4, [5, 6, 7, [8, 9]], 3]\n",
    "arr3 = arr2\n",
    "arr4 = arr2.copy()\n",
    "id(arr2), id(arr3), id(arr4)"
   ]
  },
  {
   "cell_type": "code",
   "execution_count": 185,
   "metadata": {},
   "outputs": [
    {
     "name": "stdout",
     "output_type": "stream",
     "text": [
      "arr2: [1, 2, 3, 4, [5, 6, 7, [8, 9]], 3]\n",
      "arr3: [1, 2, 3, 4, [5, 6, 7, [8, 9]], 3]\n",
      "the element at index 0 is '0' has been removed\n",
      "[1, 2, 3, 4, [5, 6, 7, [8, 9]], 3]\n",
      "the FIRST element '3' has been removed\n",
      "[1, 2, 4, [5, 6, 7, [8, 9]], 3]\n"
     ]
    }
   ],
   "source": [
    "del arr3[0]\n",
    "print(f\"arr2: {arr2}\\narr3: {arr3}\")\n",
    "\n",
    "# pop\n",
    "el = arr4.pop(0)\n",
    "print(f\"the element at index 0 is '{el}' has been removed\\n{arr4}\")\n",
    "\n",
    "# remove\n",
    "arr4.remove(3)\n",
    "print(f\"the FIRST element '3' has been removed\\n{arr4}\")"
   ]
  },
  {
   "cell_type": "markdown",
   "metadata": {},
   "source": [
    "### reverse"
   ]
  },
  {
   "cell_type": "code",
   "execution_count": 284,
   "metadata": {},
   "outputs": [
    {
     "name": "stdout",
     "output_type": "stream",
     "text": [
      "reverse() returns nothing, it change the list itself\n",
      "arr6 = None\n",
      "arr5 = [0, 9, 8, 7, 6, 5, 4, 3, 2, 1]\n",
      "use subscript operator: arr5[-1::-1]:\n",
      "[1, 2, 3, 4, 5, 6, 7, 8, 9, 0]\n",
      "''.join(reversed(str_a)): GFEDCBA\n",
      "sorted(str_a, reverse=True): GFEDCBA\n"
     ]
    }
   ],
   "source": [
    "# list\n",
    "arr5 = [1,2,3,4,5,6,7,8,9,0]\n",
    "arr6 = arr5.reverse()\n",
    "print(\"reverse() returns nothing, it change the list itself\")\n",
    "print(f\"arr6 = {arr6}\")\n",
    "print(f\"arr5 = {arr5}\")\n",
    "print(f\"use subscript operator: arr5[-1::-1]:\\n{arr5[-1::-1]}\")\n",
    "\n",
    "# string\n",
    "str_a = \"ABCDEFG\"\n",
    "print(f\"''.join(reversed(str_a)): {''.join(reversed(str_a))}\")\n",
    "print(f\"sorted(str_a, reverse=True): {''.join(sorted(str_a, reverse=True))}\")"
   ]
  },
  {
   "cell_type": "markdown",
   "metadata": {},
   "source": [
    "## tuple"
   ]
  },
  {
   "cell_type": "code",
   "execution_count": 204,
   "metadata": {},
   "outputs": [
    {
     "name": "stdout",
     "output_type": "stream",
     "text": [
      "(5, 'a', 'b', 1, 2, [3, 4], (5, 6))\n"
     ]
    }
   ],
   "source": [
    "tua = (1, 2, 3, 1)\n",
    "tub = \"a\", \"b\"\n",
    "tuc = (5,)\n",
    "tud = (1, 2, [3, 4], (5, 6))\n",
    "\n",
    "tuc += tub\n",
    "tuc += tud\n",
    "print(tuc)"
   ]
  },
  {
   "cell_type": "markdown",
   "metadata": {},
   "source": [
    "### 解包 (unpack)"
   ]
  },
  {
   "cell_type": "code",
   "execution_count": 211,
   "metadata": {},
   "outputs": [
    {
     "data": {
      "text/plain": [
       "(1, 2, 3, 4, 5, 6)"
      ]
     },
     "execution_count": 211,
     "metadata": {},
     "output_type": "execute_result"
    }
   ],
   "source": [
    "tuda, tudb,[tucd1, tucd2], (tudd3, tudd4) = tud\n",
    "tuda, tudb, tucd1, tucd2, tudd3, tudd4"
   ]
  },
  {
   "cell_type": "markdown",
   "metadata": {},
   "source": [
    "## slice (string, list, tuple)"
   ]
  },
  {
   "cell_type": "code",
   "execution_count": 294,
   "metadata": {},
   "outputs": [
    {
     "name": "stdout",
     "output_type": "stream",
     "text": [
      "\n",
      "d_arr[-1] \t pick the last element:\t 9\n",
      "d_str[::2] \t pick every 2 elements:\t 02468acegi\n",
      "d_str[-1::-1] \t pick from the tail:\t ihgfedcba9876543210\n",
      "d_str[2:8] \t pick from 2 to 8:\t 234567\n",
      "d_tup[1:8:2] \t pick from tuple:\t (1, 3, 5, 7)\n",
      "\n"
     ]
    }
   ],
   "source": [
    "d_str = \"0123456789abcdefghi\"\n",
    "d_arr = [0, 1, 2, 3, 4, 5, 6, 7, 8, 9]\n",
    "d_tup = tuple(d_arr)\n",
    "\n",
    "print(f'''\n",
    "d_arr[-1] \\t pick the last element:\\t {d_arr[-1]}\n",
    "d_str[::2] \\t pick every 2 elements:\\t {d_str[::2]}\n",
    "d_str[-1::-1] \\t pick from the tail:\\t {d_str[-1::-1]}\n",
    "d_str[2:8] \\t pick from 2 to 8:\\t {d_str[2:8]}\n",
    "d_tup[1:8:2] \\t pick from tuple:\\t {d_tup[1:8:2]}\n",
    "''')"
   ]
  },
  {
   "cell_type": "markdown",
   "metadata": {},
   "source": [
    "## set"
   ]
  },
  {
   "cell_type": "code",
   "execution_count": 295,
   "metadata": {},
   "outputs": [
    {
     "name": "stdout",
     "output_type": "stream",
     "text": [
      "setC from string 'hello': {'o', 'e', 'h', 'l'}\n",
      "\n",
      "array: [1, 1, 2, 3, 4, 5, 3],\n",
      "set会去重: {1, 2, 3, 4, 5}\n",
      "A, B交集：{3, 5}\n",
      "A, B并集：{1, 2, 3, 4, 5, 8, 9, 10}\n",
      "A, B差集：{1, 2, 4} <=只有A有的\n",
      "A, B对称差集： {1, 2, 4, 8, 9, 10} <= 不会同时出现在A,B中的元素，（交集的补集）\n",
      "\n"
     ]
    }
   ],
   "source": [
    "arrA = [1, 1, 2, 3, 4, 5, 3]\n",
    "setA = set(arrA)\n",
    "setB = {3, 5, 8, 9, 10}\n",
    "setC = set(\"hello\")\n",
    "print(f\"setC from string 'hello': {setC}\")\n",
    "print(f'''\n",
    "array: {arrA},\\nset会去重: {setA}\n",
    "A, B交集：{setA & setB}\n",
    "A, B并集：{setA | setB}\n",
    "A, B差集：{setA - setB} <=只有A有的\n",
    "A, B对称差集： {setA ^ setB} <= 不会同时出现在A,B中的元素，（交集的补集）\n",
    "''')"
   ]
  },
  {
   "cell_type": "markdown",
   "metadata": {},
   "source": [
    "## string"
   ]
  },
  {
   "cell_type": "code",
   "execution_count": 302,
   "metadata": {},
   "outputs": [
    {
     "name": "stdout",
     "output_type": "stream",
     "text": [
      "\n",
      "str_a.upper() \t HELLO WORLD\n",
      "str_a.lower() \t hello world\n",
      "str_a.find('l')  2\n",
      "str_a.replace('l','A', 2) heAAo world\n",
      "\n"
     ]
    }
   ],
   "source": [
    "str_a = \"hello world\"\n",
    "print(f'''\n",
    "str_a.upper() \\t {str_a.upper()}\n",
    "str_a.lower() \\t {str_a.lower()}\n",
    "str_a.find('l')  {str_a.find('l')}\n",
    "str_a.replace('l','A', 2) {str_a.replace('l','A', 2)}\n",
    "''')"
   ]
  },
  {
   "cell_type": "markdown",
   "metadata": {},
   "source": [
    "## dict"
   ]
  },
  {
   "cell_type": "code",
   "execution_count": 355,
   "metadata": {},
   "outputs": [
    {
     "name": "stdout",
     "output_type": "stream",
     "text": [
      "\n",
      "dict_str: {'name1': 'martin1', 'name2': 'martin2', 'name3': 'name3'}\n",
      "dict_num: {1: 2, 3: 4, 5: 6, 7: 8}\n",
      "dict_mix: {'name': 'martin', 'age': 12, 'sex': 'male'}\n",
      "\n",
      "read by key:\n",
      "dict_str[\"name1\"] = martin1\n",
      "dict_num[3] = 4\n",
      "\n",
      "\n",
      "modify:\n",
      "dict_mix[\"age\"]=20\n",
      "dict_mix.update({\"sex\": \"female\"})\n",
      "dict_mix = {'name': 'martin', 'age': 20, 'sex': 'female'}\n",
      "\n",
      "\n",
      "add k/v pair\n",
      "dict_num[11] = 12\n",
      "dict_num.update({9:10})\n",
      "dict_num = {1: 2, 3: 4, 5: 6, 7: 8, 9: 10, 11: 12}\n",
      "\n",
      "\n",
      "delete\n",
      "del dict_num[11]\n",
      "dict_num = {1: 2, 3: 4, 5: 6, 7: 8, 9: 10} \n",
      "\n"
     ]
    }
   ],
   "source": [
    "dict_str = {\"name1\":\"martin1\", \"name2\":\"martin2\", \"name3\":\"name3\"}\n",
    "dict_num = {1:2, 3:4, 5:6, 7:8}\n",
    "dict_mix = {\"name\":\"martin\", \"age\":12, \"sex\":\"male\"}\n",
    "\n",
    "print(f'''\n",
    "dict_str: {dict_str}\n",
    "dict_num: {dict_num}\n",
    "dict_mix: {dict_mix}\n",
    "\\nread by key:\n",
    "dict_str[\"name1\"] = {dict_str[\"name1\"]}\n",
    "dict_num[3] = {dict_num[3]}\n",
    "''')\n",
    "\n",
    "# modity\n",
    "dict_mix[\"age\"]=20\n",
    "dict_mix.update({\"sex\": \"female\"})\n",
    "print('''\n",
    "modify:\n",
    "dict_mix[\"age\"]=20\n",
    "dict_mix.update({\"sex\": \"female\"})\n",
    "dict_mix = %s\n",
    "'''%dict_mix)\n",
    "\n",
    "# add\n",
    "dict_num.update({9:10})\n",
    "dict_num[11] = 12\n",
    "print('''\n",
    "add k/v pair\n",
    "dict_num[11] = 12\n",
    "dict_num.update({9:10})\n",
    "dict_num = %s\n",
    "'''%dict_num)\n",
    "\n",
    "#delete\n",
    "del dict_num[11]\n",
    "print(f'''\n",
    "delete\n",
    "del dict_num[11]\n",
    "dict_num = {dict_num} \n",
    "''')\n"
   ]
  },
  {
   "cell_type": "code",
   "execution_count": 318,
   "metadata": {},
   "outputs": [],
   "source": [
    "## 类型转换"
   ]
  },
  {
   "cell_type": "code",
   "execution_count": 388,
   "metadata": {},
   "outputs": [
    {
     "name": "stdout",
     "output_type": "stream",
     "text": [
      "\n",
      "int('123') \t = 123\n",
      "int(123) \t = 123\n",
      "int('123.45') \t = invalid\n",
      "int(123.45) \t = 123\n",
      "int('abc123') \t = invalid\n",
      "float('67.89') \t = 67.89\n",
      "float(67.89) \t = 67.89\n",
      "float(100) \t = 100.0\n",
      "\n",
      "\n",
      "str(123.5) \t = 123\n",
      "str(['a','b']) \t = ['a', 'b']\n",
      "str(set(1,2)) \t = {1, 2}\n",
      "str(('a','b',3)) = ('a', 'b', 3)\n",
      "str(['a',2,'5']) = ['a', 2, '5']\n",
      "\n",
      "\n",
      "set([1,2,3,2]) \t = {1, 2, 3}\n",
      "set((1,2,2)) \t = {1, 2}\n",
      "\n",
      "\n",
      "tuple(['a','b','c']) \t = ('a', 'b', 'c')\n",
      "tuple(set([1,2,2])) \t = (1, 2, 3)\n",
      "\n",
      "\n",
      "list((1,2,'a')) \t = [1, 2, 'a']\n",
      "list(set(['a','b','a'])) = ['a', 'b']\n",
      "\n"
     ]
    }
   ],
   "source": [
    "print(f'''\n",
    "int('123') \\t = {int('123')}\n",
    "int(123) \\t = {int(123)}\n",
    "int('123.45') \\t = invalid\n",
    "int(123.45) \\t = {int(123.45)}\n",
    "int('abc123') \\t = invalid\n",
    "float('67.89') \\t = {float('67.89')}\n",
    "float(67.89) \\t = {float(67.89)}\n",
    "float(100) \\t = {float(100)}\n",
    "\\n\n",
    "str(123.5) \\t = {str(123)}\n",
    "str(['a','b']) \\t = {str(['a','b'])}\n",
    "str(set(1,2)) \\t = {str({1,2})}\n",
    "str(('a','b',3)) = {str(('a','b',3))}\n",
    "str(['a',2,'5']) = {str(['a',2,'5'])}\n",
    "\\n\n",
    "set([1,2,3,2]) \\t = {set([1,2,3,2])}\n",
    "set((1,2,2)) \\t = {set(((1,2,2)))}\n",
    "\\n\n",
    "tuple(['a','b','c']) \\t = {tuple(['a','b','c'])}\n",
    "tuple(set([1,2,2])) \\t = {tuple({1,2,3,2})}\n",
    "\\n\n",
    "list((1,2,'a')) \\t = {list((1,2,'a'))}\n",
    "list(set(['a','b','a'])) = {list({'a','b','a'})}\n",
    "''')"
   ]
  },
  {
   "cell_type": "markdown",
   "metadata": {},
   "source": [
    "# random"
   ]
  },
  {
   "cell_type": "code",
   "execution_count": 2,
   "metadata": {},
   "outputs": [
    {
     "name": "stdout",
     "output_type": "stream",
     "text": [
      "\n",
      "random.randint(1,10) 产生 1 到 10 的一个整数型随机数: 6\n",
      "random.random() 产生 0 到 1 之间的随机浮点数: 0.08186325202260325\n",
      "random.uniform(1.1,5.4) 产生两个数字之间的随机浮点数:3.419593527294685\n",
      "random.randrange(1,100,2) 生成从1到100的间隔为2的随机整数: 59\n",
      "random.sample(\"123456\", 4) 从当前的字符中选取4个字符:['5', '3', '2', '1']\n",
      "\n"
     ]
    }
   ],
   "source": [
    "import random\n",
    "print(f'''\n",
    "random.randint(1,10) 产生 1 到 10 的一个整数型随机数: {random.randint(1,10)}\n",
    "random.random() 产生 0 到 1 之间的随机浮点数: {random.random()}\n",
    "random.uniform(1.1,5.4) 产生两个数字之间的随机浮点数:{random.uniform(1.1,5.4)}\n",
    "random.randrange(1,100,2) 生成从1到100的间隔为2的随机整数: {random.randrange(1,100,2)}\n",
    "random.sample(\"123456\", 4) 从当前的字符中选取4个字符:{random.sample(\"123456\", 4)}\n",
    "''')"
   ]
  }
 ],
 "metadata": {
  "kernelspec": {
   "display_name": "Python 3",
   "language": "python",
   "name": "python3"
  },
  "language_info": {
   "codemirror_mode": {
    "name": "ipython",
    "version": 3
   },
   "file_extension": ".py",
   "mimetype": "text/x-python",
   "name": "python",
   "nbconvert_exporter": "python",
   "pygments_lexer": "ipython3",
   "version": "3.7.10"
  },
  "toc-autonumbering": false,
  "toc-showcode": false,
  "toc-showmarkdowntxt": false,
  "toc-showtags": false
 },
 "nbformat": 4,
 "nbformat_minor": 4
}
