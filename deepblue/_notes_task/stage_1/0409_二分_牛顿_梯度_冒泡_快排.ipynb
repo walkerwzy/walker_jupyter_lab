{
 "cells": [
  {
   "cell_type": "markdown",
   "id": "fancy-nickname",
   "metadata": {},
   "source": [
    "# Task\n",
    "- [x] 课程回顾（二分法，牛顿法，梯度下降法）\n",
    "- [x] 冒泡排序\n",
    "- [x] 快速排序"
   ]
  },
  {
   "cell_type": "markdown",
   "id": "critical-internet",
   "metadata": {},
   "source": [
    "## 二分法\n",
    "\n",
    "二分法的思路是每次排除一半样本的试错方法，把样本一分为二（A和B），那么目标值不在A就在B里，不断缩小范围"
   ]
  },
  {
   "cell_type": "code",
   "execution_count": 8,
   "id": "preceding-neighborhood",
   "metadata": {},
   "outputs": [
    {
     "name": "stdout",
     "output_type": "stream",
     "text": [
      "estimated:\t0.9999999999708962, \t sqrt(1): \t 1.0\n",
      "estimated:\t1.4142135623842478, \t sqrt(2): \t 1.4142135623730951\n",
      "estimated:\t1.7320508075645193, \t sqrt(3): \t 1.7320508075688772\n",
      "estimated:\t2.0, \t sqrt(4): \t 2.0\n",
      "estimated:\t2.2360679775010794, \t sqrt(5): \t 2.23606797749979\n",
      "estimated:\t2.449489742779406, \t sqrt(6): \t 2.449489742783178\n",
      "estimated:\t2.6457513110653963, \t sqrt(7): \t 2.6457513110645907\n",
      "estimated:\t2.8284271247393917, \t sqrt(8): \t 2.8284271247461903\n",
      "estimated:\t2.999999999989086, \t sqrt(9): \t 3.0\n",
      "estimated:\t3.162277660157997, \t sqrt(10): \t 3.1622776601683795\n"
     ]
    }
   ],
   "source": [
    "import math\n",
    "\n",
    "def binary_sqrt(n):\n",
    "    epsilon = 1e-10         # quit flag\n",
    "    start = 0\n",
    "    end = n\n",
    "    mid = start + (end - start) / 2\n",
    "    diff = mid ** 2 - n\n",
    "    while abs(diff) >= epsilon:\n",
    "        # 值过大则尝试小的一半，否则就尝试大的一半，修改边界值即可\n",
    "        if diff > 0:\n",
    "            end = mid\n",
    "        else:\n",
    "            start = mid\n",
    "        mid = start + (end - start) / 2\n",
    "        diff = mid ** 2 - n\n",
    "    return mid\n",
    "\n",
    "for i in range(1,11):\n",
    "    print(f'estimated:\\t{binary_sqrt(i)}, \\t sqrt({i}): \\t {math.sqrt(i)}')"
   ]
  },
  {
   "cell_type": "markdown",
   "id": "gentle-findings",
   "metadata": {},
   "source": [
    "## 牛顿法\n",
    "\n",
    "牛顿法用的是斜率的思想，对$f(x)=0$，选一个足够接近目标值($x$)的点($x_0$)，计算其切线与X轴的交点($x_1$），这个交点往往比$x_1$更接近$x$，数次迭代后肯定越来越接近目标值$x$。  \n",
    "\n",
    "$f'(x_0) = \\frac{f(x_0)-f(x_1)}{x_0-x_1}$    \n",
    "$\\because f(x_1)=0\\ \\Rightarrow x_1 = x_0 - \\frac{f(x_0)}{f'(x_0)}$  \n",
    "\n",
    "而求任意正整数$a$的平方根，函数就变成了 $f(x) = a => f(x) = x^2 - a = 0, f'(x) = 2x$，迭代用如下公式：\n",
    "$x_{n+1} = x_n - \\frac{f(x_n)}{f'(x_n)} = x_n - \\frac{x_n^2 - a}{2x_n}$"
   ]
  },
  {
   "cell_type": "code",
   "execution_count": 14,
   "id": "finished-times",
   "metadata": {},
   "outputs": [
    {
     "name": "stdout",
     "output_type": "stream",
     "text": [
      "sqrt(1)\t1.000000000000001\n",
      "sqrt(2)\t1.4142135623746899\n",
      "sqrt(3)\t1.7320508075688772\n",
      "sqrt(4)\t2.0\n",
      "sqrt(5)\t2.23606797749979\n",
      "sqrt(6)\t2.4494897427831788\n",
      "sqrt(7)\t2.6457513110646933\n",
      "sqrt(8)\t2.8284271247493797\n",
      "sqrt(9)\t3.0\n"
     ]
    }
   ],
   "source": [
    "def newton_sqrt(n):\n",
    "    x_n = n / 2\n",
    "    epsilon = 1e-10             # quit flag\n",
    "    \n",
    "    f_x = lambda a : a**2 - n   # f(x)=x^2 - a\n",
    "    df_x = lambda a : 2*a       # derivative of f(x)\n",
    "    x_next = lambda a : a - f_x(a) / df_x(a)\n",
    "    \n",
    "    while abs(x_n ** 2 - n) > epsilon:\n",
    "        x_n = x_next(x_n)\n",
    "    return x_n\n",
    "\n",
    "for i in range(1, 10):\n",
    "    print(f'sqrt({i})\\t{newton_sqrt(i)}')"
   ]
  },
  {
   "cell_type": "markdown",
   "id": "third-point",
   "metadata": {},
   "source": [
    "## 梯度下降法\n",
    "\n",
    "梯度下降法的数学原理是$f(x_1,x_2,\\dots$)的gradient（$\\nabla f$）就是其最陡爬升方向（`steepest ascent`），在一元方程里就是过某点的斜率（`slope`)，或者说函数的导数（`derivative`），我们要到局部最小值，显然就应该向相向的方向走。并且由于越接近目标值（谷底），斜率越小，所以即使我们选择一个固定的步长（`learning rate`），也是会有一个越来越小的步进值去逼近极值，而无需刻意去调整步长。\n",
    "\n",
    "以上是思路，它$\\color{red}{并不是作用到要求的函数本身}$上去的，而是一个一般用`最小二乘法`来构造的二次函数$e(x) = \\frac{1}{2}(f(x) - Y)^2$。\n",
    "\n",
    "$e(x)$表示的是不同的x取值下与目标值$Y$的差的平方（有时叫损失函数*loss*），既然是一个简单二次函数，就能求极值，且它的最小值意味着当x值为该值时估算原函数$f(x)=Y$的**误差最小**，所以对函数$f(x)$，我们构造梯度下降法时用的应该是表示误差的最小二乘法二次函数，设为$e(x)$，有：\n",
    "\n",
    "$e(x) = \\frac{1}{2}(f(x) - Y)^2$  (1/2的作用仅仅是为了取导数时消除常数项，简化计算)   \n",
    "$e'(x) = (f(x) - Y) \\cdot f'(x) = \\Delta y \\cdot f'(x)\\quad \\color{green}{\\Leftarrow Chain\\ Rule}$   \n",
    "$\\Delta x = e'(x) \\cdot lr = \\Delta y \\cdot f'(x) \\cdot lr\\ \\color{red}{\\Leftarrow这就是课程里公式的由来}$    \n",
    "$x_{n+1} = x_n - \\Delta x = x_n - \\Delta y \\cdot f'(x) \\cdot lr$\n",
    "\n",
    "这时可以写代码了"
   ]
  },
  {
   "cell_type": "code",
   "execution_count": 10,
   "id": "refined-green",
   "metadata": {},
   "outputs": [
    {
     "name": "stdout",
     "output_type": "stream",
     "text": [
      "sqrt(1): (0.9999999999519603, 593)次\n",
      "sqrt(2): (1.4142135623377403, 285)次\n",
      "sqrt(3): (1.7320508075423036, 181)次\n",
      "sqrt(4): (2.0, 0)次\n",
      "sqrt(5): (2.236067977522142, 103)次\n",
      "sqrt(6): (2.449489742798969, 87)次\n",
      "sqrt(7): (2.645751311082885, 73)次\n",
      "sqrt(8): (2.828427124761154, 63)次\n",
      "sqrt(9): (3.00000000001166, 55)次\n"
     ]
    }
   ],
   "source": [
    "def gradient_sqrt(n):\n",
    "    x       = n / 2       # first try\n",
    "    lr      = 0.01        # learning rate\n",
    "    epsilon = 1e-10       # quit flag\n",
    "    \n",
    "    f_x     = lambda a : a**2\n",
    "    df_dx   = lambda a : 2*a\n",
    "    delta_y = lambda a : f_x(a) -n\n",
    "    e_x     = lambda a : delta_y(a)**2 * 0.5     # funcon of loss\n",
    "    de_dx   = lambda a : delta_y(a) * df_dx(a)   # derivative of loss\n",
    "    delta_x = lambda a : de_dx(a) * lr\n",
    "    \n",
    "    count   = 0\n",
    "    while abs(x**2 - n) > epsilon:\n",
    "        count += 1\n",
    "        x = x - delta_x(x)\n",
    "    return x, count\n",
    "\n",
    "for i in range(1, 10):\n",
    "    print(f'sqrt({i}): {gradient_sqrt(i)}次')"
   ]
  },
  {
   "cell_type": "markdown",
   "id": "contemporary-legislation",
   "metadata": {},
   "source": [
    "> 思考：\n",
    ">\n",
    "> 牛顿法与梯度下降法思路是相反的，牛顿法是用线性方程的根来逼近非线性方程的根，而梯度下降法恰恰是在一个刻意构造的**非线性的**二次函数的曲线里求极值。"
   ]
  },
  {
   "cell_type": "markdown",
   "id": "fabulous-science",
   "metadata": {},
   "source": [
    "## 冒泡排序\n",
    "\n",
    "冒泡排序基础原理是每一轮都让最大的值移到最右边，如果想小优化可以在每一轮过后都把最后一个（已经是最大的值）排除出去。而且看到了有同学还有更优化的算法，不是每一轮都从头比到尾，同样体量的两万个随机数，我的代码用了80秒他的用了40秒\n",
    "\n",
    "但同样体量的随机数用快速排序只花了0.13秒！"
   ]
  },
  {
   "cell_type": "code",
   "execution_count": 8,
   "id": "earlier-check",
   "metadata": {},
   "outputs": [
    {
     "data": {
      "text/plain": [
       "[0, 1, 1, 1, 2, 3, 5]"
      ]
     },
     "execution_count": 8,
     "metadata": {},
     "output_type": "execute_result"
    }
   ],
   "source": [
    "def bubble_sort(arr):\n",
    "    for i in range(1, len(arr)):\n",
    "        for j in range(len(arr)-i):\n",
    "            if arr[j] > arr[j+1]:\n",
    "                arr[j], arr[j+1] = arr[j+1], arr[j]\n",
    "    return arr\n",
    "bubble_sort([0, 2, 1, 3, 5, 1, 1])"
   ]
  },
  {
   "cell_type": "markdown",
   "id": "previous-munich",
   "metadata": {},
   "source": [
    "## 快速排序\n",
    "\n",
    "快速排序我理解为二分法的一种应用，选出一个合适的（或任意的）中值(`pivot`），把比它大的和小的分列到两边，再对两边进行上述分类的递归操作。\n",
    "\n",
    "这里用一个从两侧压缩的快速排序法，交替从左右把大于和小于中值的放两边，每查询一轮边界就会压缩很多，看如下演示：\n",
    "\n",
    "随便写个数组[6,7,3,2,14,9]，任取一个数为pivot，就第1个吧（6），  \n",
    "- 左箭头表示从右往左找第一个小于pivot的值，右箭头表示从左往右找第一个大于pivot的值  \n",
    "- 红色代表标红位，废位，即当前位找到本轮符合要求的值，但挪到两侧去了，$\\color{red}{下一轮的符合条件的值应该放入这个标红位里}$\n",
    "- 括号里的表示是这一轮该位置赋的新值，它来自于标红位，同时，括号的位置也就是上一轮的标红位\n",
    "- 划掉的表示已经压缩了左右边界，下一轮就不要在这些数里面选了（为了视觉简洁，标红位就不划了）\n",
    "$\n",
    "\\require{cancel}\n",
    "\\begin{array}{c|cccccc|l}\n",
    "index&0&1&2&3&4&5&\\\\\n",
    "\\hline\n",
    "array&\\color{red}6&7&3&2&14&9\\\\\n",
    "\\underleftarrow{\\small找小数}&\\cancel{(2)}&7&3&\\color{red}2&\\cancel{14}&\\cancel{9}&找到2，放到索引0\\\\\n",
    "\\underrightarrow{\\small找大数}&\\cancel{2}&\\color{red}7&3&(7)&\\cancel{14}&\\cancel{9}&找到7，放到索引3\\\\\n",
    "\\underleftarrow{\\small找小数}&\\cancel{2}&(3)&\\color{red}3&\\cancel{7}&\\cancel{14}&\\cancel{9}&找到3，放到索引2\\\\\n",
    "&2&3&(6)&7&14&9&(1,2)索引间已没有大于6的数，排序完成，回填6\n",
    "\\end{array}\n",
    "$\n",
    "\n",
    "接下来用同样的逻辑递归6左边的`[2]`和右边的`[7,14,9]`排序即可\n"
   ]
  },
  {
   "cell_type": "code",
   "execution_count": 2,
   "id": "essential-freedom",
   "metadata": {},
   "outputs": [
    {
     "data": {
      "text/plain": [
       "[0, 1, 1, 1, 2, 3, 5]"
      ]
     },
     "execution_count": 2,
     "metadata": {},
     "output_type": "execute_result"
    }
   ],
   "source": [
    "def q_sort(array, start, end):\n",
    "    # （left， right）用来保存不断缩小的查找数组索引界限\n",
    "    left, right = start, end\n",
    "    index = start\n",
    "    pivot = array[start]\n",
    "    \n",
    "    while left < right:\n",
    "#         print(array)\n",
    "        # 从右往左选小于pivot的数\n",
    "        matched = False # 标识这一轮有没有找到合适的数（如果没找到其实说明排序已经完成）\n",
    "        for i in reversed(range(left+1, right+1)): # 去头，含尾, 反序\n",
    "            if array[i] <= pivot:\n",
    "                array[index] = array[i]\n",
    "                right = i  # 从右到左比到第i个才有比pivot小的数，那么i右侧全大于pivot，下次可以缩小范围了\n",
    "                index = i\n",
    "                matched = True\n",
    "                break\n",
    "        if not matched:\n",
    "            break  # 右侧没有找到更小的数，说明剩余数组全是大数，已经排完了\n",
    "            \n",
    "        left += 1 # 找到了填入新数后就顺移一位\n",
    "        matched = False\n",
    "        # 从左往右选大于pivot的数\n",
    "        for i in range(left, right): # 有头无尾\n",
    "            if array[i] > pivot:\n",
    "                array[index] = array[i]\n",
    "                left = i # 此时i左侧也没有比pivot大的数，下次再找也可以忽略了，也标记下缩小范围\n",
    "                index = i\n",
    "                matched = True\n",
    "                break;\n",
    "        if not matched:\n",
    "            break\n",
    "        right -= 1\n",
    "    array[index] = pivot # 把标红位设为pivot\n",
    "    \n",
    "    # 开始递归处理左右切片\n",
    "    if start < index-1:\n",
    "        q_sort(array, start, index-1)\n",
    "    if end > index+1:\n",
    "        q_sort(array, index+1, end)\n",
    "\n",
    "    return array\n",
    "\n",
    "arr = [0, 2, 1, 3, 5, 1, 1]\n",
    "q_sort(arr, 0, len(arr)-1)"
   ]
  },
  {
   "cell_type": "code",
   "execution_count": 5,
   "id": "french-coral",
   "metadata": {},
   "outputs": [
    {
     "name": "stdout",
     "output_type": "stream",
     "text": [
      "round 1 cost time:\t0.12985\n",
      "round 2 cost time:\t0.12999\n",
      "round 3 cost time:\t0.13001\n",
      "round 4 cost time:\t0.13003\n",
      "round 5 cost time:\t0.13004\n",
      "[0, 0, 10, 11, 14, 14, 14, 16, 18, 20, 22, 25, 31, 42, 73, 74, 76, 83, 87, 88, 106, 119, 121, 121, 123, 124, 126, 128, 136, 138, 142, 143, 143, 144, 148, 153, 153, 169, 171, 180, 192, 196, 219, 224, 225, 236, 240, 254, 264, 271, 274, 274, 274, 278, 280, 290, 291, 299, 306, 310, 316, 323, 326, 333, 334, 336, 341, 345, 346, 346, 356, 359, 359, 363, 381, 381, 382, 394, 396, 396, 407, 416, 418, 425, 430, 435, 447, 460, 463, 466, 466, 472, 476, 477, 482, 487, 488, 491, 497, 498]\n"
     ]
    }
   ],
   "source": [
    "import numpy as np\n",
    "import time\n",
    "start_time = time.time()\n",
    "np.random.seed(7)\n",
    "length = 20000\n",
    "array_list = list(np.random.randint(0, 100000, size=(length,)))\n",
    "\n",
    "arr = q_sort(array_list, 0, length-1)\n",
    "for i in range(5):\n",
    "    print(f'round {i+1} cost time:\\t{time.time() - start_time:.5f}')\n",
    "print(arr[:100])"
   ]
  },
  {
   "cell_type": "code",
   "execution_count": null,
   "id": "threaded-translator",
   "metadata": {},
   "outputs": [],
   "source": []
  }
 ],
 "metadata": {
  "kernelspec": {
   "display_name": "Python 3",
   "language": "python",
   "name": "python3"
  },
  "language_info": {
   "codemirror_mode": {
    "name": "ipython",
    "version": 3
   },
   "file_extension": ".py",
   "mimetype": "text/x-python",
   "name": "python",
   "nbconvert_exporter": "python",
   "pygments_lexer": "ipython3",
   "version": "3.7.10"
  }
 },
 "nbformat": 4,
 "nbformat_minor": 5
}
