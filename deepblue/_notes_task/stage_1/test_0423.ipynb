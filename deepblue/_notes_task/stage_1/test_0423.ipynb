{
 "cells": [
  {
   "cell_type": "markdown",
   "id": "ed0df45b",
   "metadata": {},
   "source": [
    "# Test_0423"
   ]
  },
  {
   "cell_type": "code",
   "execution_count": 1,
   "id": "239b9d37",
   "metadata": {},
   "outputs": [
    {
     "ename": "TypeError",
     "evalue": "unhashable type: 'dict'",
     "output_type": "error",
     "traceback": [
      "\u001b[0;31m---------------------------------------------------------------------------\u001b[0m",
      "\u001b[0;31mTypeError\u001b[0m                                 Traceback (most recent call last)",
      "\u001b[0;32m<ipython-input-1-4eff63a32fc0>\u001b[0m in \u001b[0;36m<module>\u001b[0;34m\u001b[0m\n\u001b[0;32m----> 1\u001b[0;31m \u001b[0mtype\u001b[0m\u001b[0;34m(\u001b[0m\u001b[0;34m{\u001b[0m\u001b[0;34m{\u001b[0m\u001b[0;34m}\u001b[0m\u001b[0;34m}\u001b[0m\u001b[0;34m)\u001b[0m\u001b[0;34m\u001b[0m\u001b[0;34m\u001b[0m\u001b[0m\n\u001b[0m",
      "\u001b[0;31mTypeError\u001b[0m: unhashable type: 'dict'"
     ]
    }
   ],
   "source": [
    "type({{}})"
   ]
  },
  {
   "cell_type": "code",
   "execution_count": 40,
   "id": "582d533a",
   "metadata": {},
   "outputs": [
    {
     "ename": "SyntaxError",
     "evalue": "two starred expressions in assignment (<ipython-input-40-8499ed6520c8>, line 4)",
     "output_type": "error",
     "traceback": [
      "\u001b[0;36m  File \u001b[0;32m\"<ipython-input-40-8499ed6520c8>\"\u001b[0;36m, line \u001b[0;32m4\u001b[0m\n\u001b[0;31mSyntaxError\u001b[0m\u001b[0;31m:\u001b[0m two starred expressions in assignment\n"
     ]
    }
   ],
   "source": [
    "*a,b,*c='1234'\n",
    "a,b,c"
   ]
  },
  {
   "cell_type": "markdown",
   "id": "499f6646",
   "metadata": {},
   "source": [
    "可以这么说吧？变量要是指向的是不可变对象要，它的值要是变了，地址其实变了\n",
    "\n",
    "`inline replace`不遵循这个规则..."
   ]
  },
  {
   "cell_type": "code",
   "execution_count": 20,
   "id": "b343313b",
   "metadata": {},
   "outputs": [
    {
     "name": "stdout",
     "output_type": "stream",
     "text": [
      "4515377840\n",
      "4515377872\n"
     ]
    }
   ],
   "source": [
    "a = 3\n",
    "print(id(a))\n",
    "a = 4\n",
    "print(id(a))"
   ]
  },
  {
   "cell_type": "code",
   "execution_count": 28,
   "id": "8c9c3465",
   "metadata": {},
   "outputs": [
    {
     "name": "stdout",
     "output_type": "stream",
     "text": [
      "[1, 4, 3, 2, 5] 140682626950640\n",
      "[1, 2, 3, 4, 5] 140682626950640 140682626663120\n",
      "[1, 2, 3, 4, 5, 6] 140682626950640\n",
      "[1, 2, 3, 4, 5] 140682626950640\n"
     ]
    }
   ],
   "source": [
    "list1 = [1,4,3,2,5]\n",
    "print(list1, id(list1))\n",
    "list1.sort()\n",
    "print(list1, id(list1), id(sorted(list1)))\n",
    "list1.append(6)\n",
    "print(list1, id(list1))\n",
    "list1.pop()\n",
    "print(list1, id(list1))"
   ]
  },
  {
   "cell_type": "code",
   "execution_count": 37,
   "id": "c3ece8c9",
   "metadata": {},
   "outputs": [
    {
     "name": "stdout",
     "output_type": "stream",
     "text": [
      "[1, 2, 3, 4, 5, 6]取出索引0，元素1\n",
      "[2, 3, 4, 5, 6]取出索引1，元素3\n",
      "[2, 4, 5, 6]取出索引2，元素5\n",
      "[2, 4, 6]\n"
     ]
    }
   ],
   "source": [
    "data = [1,2,3,4,5,6]\n",
    "for index, element in enumerate(data):\n",
    "    print(f'{data}取出索引{index}，元素{element}')\n",
    "    data.remove(element)\n",
    "print(data)"
   ]
  },
  {
   "cell_type": "code",
   "execution_count": 35,
   "id": "9f874ebd",
   "metadata": {},
   "outputs": [
    {
     "data": {
      "text/plain": [
       "([], [], [3])"
      ]
     },
     "execution_count": 35,
     "metadata": {},
     "output_type": "execute_result"
    }
   ],
   "source": [
    "a=b=c=[]\n",
    "c=[3]\n",
    "a,b,c"
   ]
  },
  {
   "cell_type": "markdown",
   "id": "4f3ae0e9",
   "metadata": {},
   "source": [
    "# 梯度\n",
    "\n",
    "解方程$4x^3 - 3x^2 + 2x = 6$\n",
    "\n",
    "$f(x) = 4x^3 - 3x^2 + 2x$  \n",
    "$f'(x) = 12x^2 - 6x + 2$   \n",
    "$\\Delta y = f(x) - 6$  \n",
    "$\\Delta x = f'(x)\\cdot\\Delta y$"
   ]
  },
  {
   "cell_type": "code",
   "execution_count": 2,
   "id": "53746399",
   "metadata": {},
   "outputs": [
    {
     "name": "stdout",
     "output_type": "stream",
     "text": [
      "1.2776053723352616\n",
      "1.2776053723452794\n",
      "1.2776053723461853\n",
      "1.2776053723463077\n"
     ]
    }
   ],
   "source": [
    "def solve_equation(n, lr):\n",
    "    J   = []\n",
    "    esp = 1e-8\n",
    "#     lr  = 0.0001\n",
    "    x   = 2\n",
    "    f_x = lambda x : 4 * (x**3) - 3 * (x**2) + 2 * x\n",
    "    dfx = lambda x : 12 * (x**2) - 6 * x + 2\n",
    "    dy  = lambda x : f_x(x) - n\n",
    "    dx  = lambda x : dfx(x) * dy(x) * lr\n",
    "    while abs(dy(x)) > esp:\n",
    "        J   += [dy(x)]\n",
    "        x   -= dx(x)\n",
    "    return x, J\n",
    "\n",
    "# x, ctr = solve_equation(6)\n",
    "# f_x = lambda x : 4 * (x**3) - 3 * (x**2) + 2 * x\n",
    "f_x = lambda x : (x**2 - 6) ** 2\n",
    "# print(x, f_x(x), ctr)\n",
    "# print(solve_equation(6, 0.01))\n",
    "# print(solve_equation(6, 0.001))\n",
    "print(solve_equation(6, 0.0001)[0])\n",
    "print(solve_equation(6, 0.00001)[0])\n",
    "print(solve_equation(6, 0.000001)[0])\n",
    "print(solve_equation(6, 0.0000001)[0])"
   ]
  },
  {
   "cell_type": "code",
   "execution_count": 8,
   "id": "7d195a23",
   "metadata": {},
   "outputs": [
    {
     "data": {
      "image/png": "[encoded data removed]",
      "text/plain": [
       "<Figure size 432x288 with 6 Axes>"
      ]
     },
     "metadata": {
      "needs_background": "light"
     },
     "output_type": "display_data"
    }
   ],
   "source": [
    "import matplotlib.pyplot as plt\n",
    "import numpy as np\n",
    "\n",
    "fig, ax  = plt.subplots(nrows=2, ncols=3)\n",
    "fig.subplots_adjust(hspace=.2,top=1.3, right=1.3)\n",
    "axs    = ax.flatten()\n",
    "colors = ['r','g','c','b','m','k']\n",
    "rates  = [0.002, 0.001, 0.0005, 0.0001, 0.00005,0.000001]\n",
    "for i in range(len(rates)):\n",
    "    _, J = solve_equation(6, rates[i])\n",
    "    x = np.linspace(0, len(J), num=len(J))\n",
    "    axs[i].plot(x, J, colors[i])\n",
    "    axs[i].set_title(f'lr={rates[i]}')\n",
    "#     plt.legend(loc='upper right')"
   ]
  },
  {
   "cell_type": "code",
   "execution_count": 301,
   "id": "b4554f42",
   "metadata": {},
   "outputs": [
    {
     "data": {
      "text/plain": [
       "[1, 2, 3]"
      ]
     },
     "execution_count": 301,
     "metadata": {},
     "output_type": "execute_result"
    }
   ],
   "source": [
    "s = []\n",
    "s.append(1)\n",
    "s+=[2]\n",
    "s.extend([3])\n",
    "s"
   ]
  },
  {
   "cell_type": "code",
   "execution_count": 289,
   "id": "a0b2570b",
   "metadata": {},
   "outputs": [
    {
     "data": {
      "text/plain": [
       "<matplotlib.legend.Legend at 0x7fd6a51b3d50>"
      ]
     },
     "execution_count": 289,
     "metadata": {},
     "output_type": "execute_result"
    },
    {
     "data": {
      "image/png": "[encoded data removed]",
      "text/plain": [
       "<Figure size 432x288 with 1 Axes>"
      ]
     },
     "metadata": {
      "needs_background": "light"
     },
     "output_type": "display_data"
    }
   ],
   "source": [
    "import matplotlib.pyplot as plt\n",
    "\n",
    "f_x = lambda x : (x**2 - 6) ** 2\n",
    "x   = np.linspace(-3,3)\n",
    "y   = f_x(x)\n",
    "plt.plot(x, y, label='function')\n",
    "\n",
    "# 设置画板，刻度等\n",
    "# plt.figure(figsize=(5, 8))\n",
    "# plt.ylim = [0, 7]\n",
    "\n",
    "# 画线\n",
    "# 1\n",
    "# px  = [-3.5, 3.5]\n",
    "# py  = [6, 6]\n",
    "# plt.plot(px, py, 'r--')\n",
    "# 2\n",
    "# plt.axline((0, 7), (0, 8)) # 没找到设置颜色的方法\n",
    "# 3\n",
    "plt.axhline(y=6, color='r', linestyle=':', label='y = 6')\n",
    "plt.axvline(x=0, color='black', linewidth=1, label='y axis')\n",
    "plt.legend(loc='upper right')\n"
   ]
  },
  {
   "cell_type": "code",
   "execution_count": 238,
   "id": "65f0be98",
   "metadata": {},
   "outputs": [
    {
     "name": "stdout",
     "output_type": "stream",
     "text": [
      "start: -3,\tx = -2.906800602,\tf(x) = 6.0000,\tcount: 12\n",
      "start: -1,\tx = -1.884279771,\tf(x) = 6.0000,\tcount: 49\n",
      "start: 1,\tx = 1.884279771,\tf(x) = 6.0000,\tcount: 49\n",
      "start: 3,\tx = 2.906800602,\tf(x) = 6.0000,\tcount: 12\n"
     ]
    }
   ],
   "source": [
    "def solve_equation(n, x):\n",
    "    esp = 1e-8\n",
    "    lr  = 0.001\n",
    "    f_x = lambda x : (x**2 - 6) ** 2\n",
    "    dfx = lambda x : 2 * (x**2 - 6) * 2 * x\n",
    "    dy  = lambda x : f_x(x) - n\n",
    "    dx  = lambda x : dfx(x) * dy(x) * lr\n",
    "    ctr = 0\n",
    "    while abs(dy(x)) > esp:\n",
    "        x   -= dx(x)\n",
    "        ctr += 1\n",
    "    return x, ctr\n",
    "\n",
    "f_x = lambda x : (x**2 - 6) ** 2\n",
    "xs  = [-3, -1, 1, 3]\n",
    "for x in xs:\n",
    "    r, i = solve_equation(6, x)\n",
    "    print(f'start: {x},\\tx = {r:.9f},\\tf(x) = {f_x(r):.4f},\\tcount: {i}')"
   ]
  },
  {
   "cell_type": "markdown",
   "id": "f70fdbf1",
   "metadata": {},
   "source": [
    "# 切片, 广播"
   ]
  },
  {
   "cell_type": "code",
   "execution_count": 82,
   "id": "44fd811b",
   "metadata": {},
   "outputs": [
    {
     "name": "stdout",
     "output_type": "stream",
     "text": [
      "np.arange(2)\n",
      " [0 1]\n",
      "----------------------------------------\n",
      "np.arange(2).reshape((2,1,1))\n",
      " [[[0]]\n",
      "\n",
      " [[1]]]\n",
      "----------------------------------------\n",
      "np.arange(2).reshape((1,2,1,1))\n",
      " [[[[0]]\n",
      "\n",
      "  [[1]]]]\n",
      "----------------------------------------\n",
      "np.arange(10).reshape((5,2,1,1))\n",
      " [[[[0]]\n",
      "\n",
      "  [[1]]]\n",
      "\n",
      "\n",
      " [[[2]]\n",
      "\n",
      "  [[3]]]\n",
      "\n",
      "\n",
      " [[[4]]\n",
      "\n",
      "  [[5]]]\n",
      "\n",
      "\n",
      " [[[6]]\n",
      "\n",
      "  [[7]]]\n",
      "\n",
      "\n",
      " [[[8]]\n",
      "\n",
      "  [[9]]]]\n",
      "----------------------------------------\n",
      "(2,3,4) + (1,2,1,1)\n",
      " [[[[ 0  1  2  3]\n",
      "   [ 4  5  6  7]\n",
      "   [ 8  9 10 11]]\n",
      "\n",
      "  [[13 14 15 16]\n",
      "   [17 18 19 20]\n",
      "   [21 22 23 24]]]]\n",
      "----------------------------------------\n",
      "(2,3,4) + (5,2,1,1)\n",
      " [[[[ 0  1  2  3]\n",
      "   [ 4  5  6  7]\n",
      "   [ 8  9 10 11]]\n",
      "\n",
      "  [[13 14 15 16]\n",
      "   [17 18 19 20]\n",
      "   [21 22 23 24]]]\n",
      "\n",
      "\n",
      " [[[ 2  3  4  5]\n",
      "   [ 6  7  8  9]\n",
      "   [10 11 12 13]]\n",
      "\n",
      "  [[15 16 17 18]\n",
      "   [19 20 21 22]\n",
      "   [23 24 25 26]]]\n",
      "\n",
      "\n",
      " [[[ 4  5  6  7]\n",
      "   [ 8  9 10 11]\n",
      "   [12 13 14 15]]\n",
      "\n",
      "  [[17 18 19 20]\n",
      "   [21 22 23 24]\n",
      "   [25 26 27 28]]]\n",
      "\n",
      "\n",
      " [[[ 6  7  8  9]\n",
      "   [10 11 12 13]\n",
      "   [14 15 16 17]]\n",
      "\n",
      "  [[19 20 21 22]\n",
      "   [23 24 25 26]\n",
      "   [27 28 29 30]]]\n",
      "\n",
      "\n",
      " [[[ 8  9 10 11]\n",
      "   [12 13 14 15]\n",
      "   [16 17 18 19]]\n",
      "\n",
      "  [[21 22 23 24]\n",
      "   [25 26 27 28]\n",
      "   [29 30 31 32]]]]\n"
     ]
    }
   ],
   "source": [
    "import numpy as np\n",
    "a = np.arange(24).reshape((2,3,4))\n",
    "b = np.arange(12).reshape((3,4))\n",
    "c = np.arange(4).reshape((1,4))\n",
    "d = np.arange(4).reshape(4)\n",
    "e = np.arange(12).reshape((1,3,4))\n",
    "f = np.arange(6).reshape((2,3,1))\n",
    "g = np.arange(2).reshape((2,1,1))\n",
    "h = np.arange(2).reshape((1,2,1,1))\n",
    "i = np.arange(10).reshape((5,2,1,1))\n",
    "\n",
    "# print((a+b).shape)\n",
    "# print((a+c).shape)\n",
    "# print((a+d).shape)\n",
    "# print((a+e).shape)\n",
    "# print((a+f).shape)\n",
    "# print((a+g).shape)\n",
    "# print((a+h).shape)\n",
    "# print((a+i).shape)\n",
    "\n",
    "# 内层元素是1x1的，是高维还是低维，都能相加\n",
    "\n",
    "print('np.arange(2)\\n', np.arange(2))\n",
    "print('-'*40)\n",
    "print('np.arange(2).reshape((2,1,1))\\n',g)\n",
    "print('-'*40)\n",
    "print('np.arange(2).reshape((1,2,1,1))\\n',h)\n",
    "print('-'*40)\n",
    "print('np.arange(10).reshape((5,2,1,1))\\n',i)\n",
    "print('-'*40)\n",
    "print('(2,3,4) + (1,2,1,1)\\n',a+h)\n",
    "print('-'*40)\n",
    "print('(2,3,4) + (5,2,1,1)\\n',a+i)"
   ]
  },
  {
   "cell_type": "code",
   "execution_count": 74,
   "id": "ca86f82c",
   "metadata": {},
   "outputs": [
    {
     "name": "stdout",
     "output_type": "stream",
     "text": [
      "[[[ 0  1  2  3]\n",
      "  [ 4  5  6  7]\n",
      "  [ 8  9 10 11]]\n",
      "\n",
      " [[12 13 14 15]\n",
      "  [16 17 18 19]\n",
      "  [20 21 22 23]]]\n",
      "a[:2]\n",
      " [[[ 0  1  2  3]\n",
      "  [ 4  5  6  7]\n",
      "  [ 8  9 10 11]]\n",
      "\n",
      " [[12 13 14 15]\n",
      "  [16 17 18 19]\n",
      "  [20 21 22 23]]]\n",
      "a[:2][:2, 2, 3]\n",
      " [11 23]\n"
     ]
    }
   ],
   "source": [
    "a = np.arange(24).reshape((2,3,4))\n",
    "print(a)\n",
    "print('a[:2]\\n', a[:2])\n",
    "print('a[:2][:2, 2, 3]\\n', a[:2][:2, 2, 3])"
   ]
  },
  {
   "cell_type": "code",
   "execution_count": 76,
   "id": "c9992dba",
   "metadata": {},
   "outputs": [
    {
     "name": "stdout",
     "output_type": "stream",
     "text": [
      "a[:1,1:,1]\n",
      " [[5 9]]\n"
     ]
    }
   ],
   "source": [
    "print('a[:1,1:,1]\\n', a[:1,1:,1])"
   ]
  },
  {
   "cell_type": "code",
   "execution_count": 79,
   "id": "ac5a5de4",
   "metadata": {},
   "outputs": [
    {
     "data": {
      "text/plain": [
       "array([[12, 13, 14, 15],\n",
       "       [16, 17, 18, 19],\n",
       "       [20, 21, 22, 23]])"
      ]
     },
     "execution_count": 79,
     "metadata": {},
     "output_type": "execute_result"
    }
   ],
   "source": [
    "a[:2][1]"
   ]
  },
  {
   "cell_type": "markdown",
   "id": "8381e39d",
   "metadata": {},
   "source": [
    "# 布尔索引"
   ]
  },
  {
   "cell_type": "code",
   "execution_count": 80,
   "id": "8826fa46",
   "metadata": {},
   "outputs": [
    {
     "name": "stdout",
     "output_type": "stream",
     "text": [
      "[[False  True  True]\n",
      " [ True  True  True]]\n"
     ]
    }
   ],
   "source": [
    "b = np.array([[1,2,3],[4,5,6]])\n",
    "print(b>1)"
   ]
  },
  {
   "cell_type": "code",
   "execution_count": 81,
   "id": "dcf5fd37",
   "metadata": {},
   "outputs": [
    {
     "name": "stdout",
     "output_type": "stream",
     "text": [
      "[2 3 4 5 6]\n"
     ]
    }
   ],
   "source": [
    "print(b[b>1])"
   ]
  },
  {
   "cell_type": "markdown",
   "id": "badb57c4",
   "metadata": {},
   "source": [
    "# 花式索引 (Fancy Indexing)\n",
    "\n",
    "It is always important to remember with fancy indexing that the return value reflects the `broadcasted shape` of the indices, rather than the shape of the array being indexed."
   ]
  },
  {
   "cell_type": "code",
   "execution_count": 3,
   "id": "1a32c5fa",
   "metadata": {},
   "outputs": [
    {
     "data": {
      "text/plain": [
       "array([[[ 0,  1,  2,  3],\n",
       "        [ 4,  5,  6,  7]],\n",
       "\n",
       "       [[ 8,  9, 10, 11],\n",
       "        [12, 13, 14, 15]]])"
      ]
     },
     "execution_count": 3,
     "metadata": {},
     "output_type": "execute_result"
    }
   ],
   "source": [
    "import numpy as np\n",
    "c = np.arange(16).reshape((2,2,4))\n",
    "c"
   ]
  },
  {
   "cell_type": "code",
   "execution_count": 6,
   "id": "2617aaf9",
   "metadata": {},
   "outputs": [
    {
     "name": "stdout",
     "output_type": "stream",
     "text": [
      "[[[ 8  9 10 11]\n",
      "  [12 13 14 15]]\n",
      "\n",
      " [[ 0  1  2  3]\n",
      "  [ 4  5  6  7]]\n",
      "\n",
      " [[ 8  9 10 11]\n",
      "  [12 13 14 15]]]\n",
      "(3, 2, 4)\n"
     ]
    }
   ],
   "source": [
    "print(c[[1,0,-1]])  # 取第1，0，-1个元素\n",
    "print(c[[1,0,-1]].shape)"
   ]
  },
  {
   "cell_type": "code",
   "execution_count": 217,
   "id": "e834ac45",
   "metadata": {},
   "outputs": [
    {
     "name": "stdout",
     "output_type": "stream",
     "text": [
      "[ 0  2  4  6  8 10 12 14 16 18]\n",
      "[ 2  6 10]\n",
      "[ 2  6 10]\n"
     ]
    }
   ],
   "source": [
    "foo = np.arange(10)\n",
    "foo *= 2\n",
    "idx = [1,3,5] # 我想取第1，3，5个元素\n",
    "print(foo)\n",
    "print(foo[idx])\n",
    "# 等同于\n",
    "print(np.array([foo[1], foo[3], foo[5]]))"
   ]
  },
  {
   "cell_type": "markdown",
   "id": "112eebcd",
   "metadata": {},
   "source": [
    "这次取1,3元素，5,7元素分为两组"
   ]
  },
  {
   "cell_type": "code",
   "execution_count": 140,
   "id": "5c187db5",
   "metadata": {},
   "outputs": [
    {
     "name": "stdout",
     "output_type": "stream",
     "text": [
      "[[ 2  6]\n",
      " [10 14]]\n",
      "[[2, 6], [10, 14]]\n"
     ]
    }
   ],
   "source": [
    "idx = np.array([[1,3],[5,7]])\n",
    "print(foo[idx])\n",
    "print([[foo[1],foo[3]],[foo[5],foo[7]]])"
   ]
  },
  {
   "cell_type": "code",
   "execution_count": 7,
   "id": "e36c05c6",
   "metadata": {},
   "outputs": [
    {
     "data": {
      "text/plain": [
       "array([[ 0,  1,  2,  3],\n",
       "       [ 4,  5,  6,  7],\n",
       "       [ 8,  9, 10, 11]])"
      ]
     },
     "execution_count": 7,
     "metadata": {},
     "output_type": "execute_result"
    }
   ],
   "source": [
    "X = np.arange(12).reshape((3,4))\n",
    "X"
   ]
  },
  {
   "cell_type": "code",
   "execution_count": 8,
   "id": "32fc3ef4",
   "metadata": {},
   "outputs": [
    {
     "name": "stdout",
     "output_type": "stream",
     "text": [
      "[ 2  5 11]\n",
      "[ 2  5 11]\n"
     ]
    }
   ],
   "source": [
    "row = np.array([0,1,2])\n",
    "col = np.array([2,1,3])\n",
    "\n",
    "# 以上组成三组索引[0,2], [1,1], [2, 3]\n",
    "print(X[row, col])\n",
    "\n",
    "# 等同于\n",
    "print(np.array([\n",
    "    X[0,2],\n",
    "    X[1,1],\n",
    "    X[2,3]\n",
    "]))"
   ]
  },
  {
   "cell_type": "markdown",
   "id": "aa6da3cf",
   "metadata": {},
   "source": [
    "https://jakevdp.github.io/PythonDataScienceHandbook/02.07-fancy-indexing.html"
   ]
  },
  {
   "cell_type": "code",
   "execution_count": 15,
   "id": "2887a0c2",
   "metadata": {},
   "outputs": [
    {
     "data": {
      "text/plain": [
       "array([[ 2,  1,  3],\n",
       "       [ 6,  5,  7],\n",
       "       [10,  9, 11]])"
      ]
     },
     "execution_count": 15,
     "metadata": {},
     "output_type": "execute_result"
    }
   ],
   "source": [
    "X[row[:, np.newaxis], col] ### ??? 没看懂"
   ]
  },
  {
   "cell_type": "code",
   "execution_count": 250,
   "id": "580f2562",
   "metadata": {},
   "outputs": [
    {
     "data": {
      "text/plain": [
       "array([45, 24,  0])"
      ]
     },
     "execution_count": 250,
     "metadata": {},
     "output_type": "execute_result"
    }
   ],
   "source": [
    "# 因为row[:, np.newaxis] = row[...,None]，即给最里层的维度加1维，行向量变成了列向量\n",
    "# 广播的维度就成了3 x 3\n",
    "r'''\n",
    "(0,2) (0,1) (0,3)\n",
    "(1,2) (1,1) (1,3)\n",
    "(2,2) (2,1) (2,3)\n",
    "'''"
   ]
  },
  {
   "cell_type": "code",
   "execution_count": 239,
   "id": "2b833384",
   "metadata": {},
   "outputs": [
    {
     "data": {
      "text/plain": [
       "array([[0, 0, 0],\n",
       "       [2, 1, 3],\n",
       "       [4, 2, 6]])"
      ]
     },
     "execution_count": 239,
     "metadata": {},
     "output_type": "execute_result"
    }
   ],
   "source": [
    "# [row[:,np.newaxis], col] 一个行向量一个列向量，这种索引是怎么回事呢？\n",
    "# 其实就是广播了\n",
    "row[:,np.newaxis] * col"
   ]
  },
  {
   "cell_type": "code",
   "execution_count": 244,
   "id": "a1a82e9a",
   "metadata": {},
   "outputs": [
    {
     "data": {
      "text/plain": [
       "[[2, 1, 3], [6, 5, 7], [10, 9, 11]]"
      ]
     },
     "execution_count": 244,
     "metadata": {},
     "output_type": "execute_result"
    }
   ],
   "source": [
    "[\n",
    "    [X[0,2],X[0,1],X[0,3]],\n",
    "    [X[1,2],X[1,1],X[1,3]],\n",
    "    [X[2,2],X[2,1],X[2,3]]\n",
    "]"
   ]
  },
  {
   "cell_type": "markdown",
   "id": "212a98c0",
   "metadata": {},
   "source": [
    "### fancy indexing 应用"
   ]
  },
  {
   "cell_type": "code",
   "execution_count": 17,
   "id": "237e2a47",
   "metadata": {},
   "outputs": [
    {
     "name": "stdout",
     "output_type": "stream",
     "text": [
      "[[0. 1. 0. 0. 0. 0. 0. 0. 0. 0.]\n",
      " [0. 0. 0. 1. 0. 0. 0. 0. 0. 0.]\n",
      " [0. 0. 1. 0. 0. 0. 0. 0. 0. 0.]\n",
      " [0. 0. 0. 0. 0. 0. 1. 0. 0. 0.]\n",
      " [0. 0. 0. 0. 0. 1. 0. 0. 0. 0.]]\n"
     ]
    },
    {
     "data": {
      "text/plain": [
       "[array([0., 1., 0., 0., 0., 0., 0., 0., 0., 0.]),\n",
       " array([0., 0., 0., 1., 0., 0., 0., 0., 0., 0.]),\n",
       " array([0., 0., 1., 0., 0., 0., 0., 0., 0., 0.]),\n",
       " array([0., 0., 0., 0., 0., 0., 1., 0., 0., 0.]),\n",
       " array([0., 0., 0., 0., 0., 1., 0., 0., 0., 0.])]"
      ]
     },
     "execution_count": 17,
     "metadata": {},
     "output_type": "execute_result"
    }
   ],
   "source": [
    "a = [1,3,2,6,5]\n",
    "\n",
    "# b = np.eye(10)[a,:] 等同于如下写法：\n",
    "\n",
    "b = []\n",
    "e = np.eye(10)\n",
    "for i in range(len(a)):\n",
    "    b.append(e[a[i]])\n",
    "\n",
    "    \n",
    "# c[list(range(len(a))), a] = 1 等同于如下写法：\n",
    "\n",
    "c = np.zeros((len(a), 10))\n",
    "for i in range(len(c)):\n",
    "    c[i, a[i]] = 1\n",
    "\n",
    "print(c)\n",
    "b"
   ]
  },
  {
   "cell_type": "code",
   "execution_count": 233,
   "id": "2c3bacca",
   "metadata": {
    "tags": []
   },
   "outputs": [
    {
     "data": {
      "text/plain": [
       "array([[[1., 1.],\n",
       "        [1., 1.],\n",
       "        [1., 1.],\n",
       "        [1., 1.]],\n",
       "\n",
       "       [[1., 1.],\n",
       "        [1., 1.],\n",
       "        [1., 1.],\n",
       "        [1., 1.]],\n",
       "\n",
       "       [[1., 1.],\n",
       "        [1., 1.],\n",
       "        [1., 1.],\n",
       "        [1., 1.]],\n",
       "\n",
       "       [[1., 1.],\n",
       "        [1., 1.],\n",
       "        [1., 1.],\n",
       "        [1., 1.]]])"
      ]
     },
     "execution_count": 233,
     "metadata": {},
     "output_type": "execute_result"
    }
   ],
   "source": [
    "d442 = np.zeros((4,4,2))\n",
    "d242 = np.ones((4,4,1))\n",
    "d442+d242"
   ]
  },
  {
   "cell_type": "code",
   "execution_count": 297,
   "id": "0da09939",
   "metadata": {},
   "outputs": [
    {
     "name": "stdout",
     "output_type": "stream",
     "text": [
      "[[ 0  1  2  3]\n",
      " [ 4  5  6  7]\n",
      " [ 8  9 10 11]\n",
      " [12 13 14 15]]\n"
     ]
    },
    {
     "data": {
      "text/plain": [
       "array([[ 0,  1,  2,  3,  0],\n",
       "       [ 4,  5,  6,  7,  1],\n",
       "       [ 8,  9, 10, 11,  2],\n",
       "       [12, 13, 14, 15,  3]])"
      ]
     },
     "execution_count": 297,
     "metadata": {},
     "output_type": "execute_result"
    }
   ],
   "source": [
    "a = np.arange(16).reshape((4,4))\n",
    "print(a)\n",
    "b = np.hstack([a,np.arange(4)[:,np.newaxis]])\n"
   ]
  },
  {
   "cell_type": "code",
   "execution_count": null,
   "id": "a029e415",
   "metadata": {},
   "outputs": [],
   "source": []
  }
 ],
 "metadata": {
  "kernelspec": {
   "display_name": "Python 3",
   "language": "python",
   "name": "python3"
  },
  "language_info": {
   "codemirror_mode": {
    "name": "ipython",
    "version": 3
   },
   "file_extension": ".py",
   "mimetype": "text/x-python",
   "name": "python",
   "nbconvert_exporter": "python",
   "pygments_lexer": "ipython3",
   "version": "3.7.10"
  }
 },
 "nbformat": 4,
 "nbformat_minor": 5
}
