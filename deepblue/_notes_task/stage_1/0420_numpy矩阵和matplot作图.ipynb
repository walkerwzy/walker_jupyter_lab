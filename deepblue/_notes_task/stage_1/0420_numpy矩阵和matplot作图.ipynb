{
 "cells": [
  {
   "cell_type": "markdown",
   "id": "civic-inside",
   "metadata": {},
   "source": [
    "## 矩阵"
   ]
  },
  {
   "cell_type": "code",
   "execution_count": 3,
   "id": "ecological-chance",
   "metadata": {},
   "outputs": [],
   "source": [
    "import numpy as np\n",
    "import numpy.matlib"
   ]
  },
  {
   "cell_type": "code",
   "execution_count": 6,
   "id": "three-prerequisite",
   "metadata": {},
   "outputs": [],
   "source": [
    "rnd_arr = np.random.randn(10, 10)\n",
    "np.save('./data/0420/data1', rnd_arr)\n",
    "np.savetxt('./data/0420/data2.csv', rnd_arr)\n",
    "np.savetxt('./data/0420/data3.csv', rnd_arr, delimiter=',')"
   ]
  },
  {
   "cell_type": "code",
   "execution_count": 13,
   "id": "attempted-birmingham",
   "metadata": {},
   "outputs": [],
   "source": [
    "a1 = np.load('./data/0420/data1.npy')\n",
    "a2 = np.loadtxt('./data/0420/data2.csv')\n",
    "a3 = np.loadtxt('./data/0420/data3.csv', delimiter=',')"
   ]
  },
  {
   "cell_type": "code",
   "execution_count": 19,
   "id": "lasting-profile",
   "metadata": {},
   "outputs": [
    {
     "data": {
      "text/plain": [
       "(matrix([[0., 0., 0.],\n",
       "         [0., 0., 0.]]),\n",
       " matrix([[0., 0.],\n",
       "         [0., 0.]]),\n",
       " matrix([[1., 1.],\n",
       "         [1., 1.]]),\n",
       " matrix([[1., 0.],\n",
       "         [0., 1.]]))"
      ]
     },
     "execution_count": 19,
     "metadata": {},
     "output_type": "execute_result"
    }
   ],
   "source": [
    "matrix = numpy.matlib.empty((2,3))\n",
    "zeros  = numpy.matlib.zeros((2,2))\n",
    "ones   = numpy.matlib.ones((2,2))\n",
    "ident  = numpy.matlib.eye(2,2)      # 单层括号\n",
    "matrix, zeros, ones, ident"
   ]
  },
  {
   "cell_type": "code",
   "execution_count": 4,
   "id": "musical-reconstruction",
   "metadata": {},
   "outputs": [
    {
     "data": {
      "text/plain": [
       "(matrix([[1, 2],\n",
       "         [3, 4]]),\n",
       " matrix([[5, 6],\n",
       "         [7, 8]]),\n",
       " matrix([[ 6,  8],\n",
       "         [10, 12]]),\n",
       " matrix([[-4, -4],\n",
       "         [-4, -4]]),\n",
       " matrix([[19, 22],\n",
       "         [43, 50]]),\n",
       " matrix([[19, 22],\n",
       "         [43, 50]]),\n",
       " matrix([[19, 22],\n",
       "         [43, 50]]))"
      ]
     },
     "execution_count": 4,
     "metadata": {},
     "output_type": "execute_result"
    }
   ],
   "source": [
    "A  = numpy.matrix('1,2;3,4')\n",
    "B  = numpy.matrix('5,6;7,8')\n",
    "AT = A.T     # transpose\n",
    "\n",
    "AdotB1 = A * B\n",
    "AdotB2 = A @ B\n",
    "AdotB3 = numpy.dot(A, B)  # dot可以乘matrix也可以乘array\n",
    "\n",
    "A, B, A+B, A-B, AdotB1, AdotB2, AdotB3"
   ]
  },
  {
   "cell_type": "markdown",
   "id": "lovely-gross",
   "metadata": {},
   "source": [
    "'**\\***'符号在矩阵和数组里含义不同：\n",
    "- 在矩阵里永远是dot production\n",
    "- 在数组里是element wise mutiplication @才是dot production"
   ]
  },
  {
   "cell_type": "code",
   "execution_count": 11,
   "id": "subject-florence",
   "metadata": {},
   "outputs": [
    {
     "data": {
      "text/plain": [
       "(array([[ 5, 12],\n",
       "        [21, 32]]),\n",
       " array([[19, 22],\n",
       "        [43, 50]]),\n",
       " array([[ 5, 12],\n",
       "        [21, 32]]))"
      ]
     },
     "execution_count": 11,
     "metadata": {},
     "output_type": "execute_result"
    }
   ],
   "source": [
    "C = np.array([[1,2],[3,4]])\n",
    "D = np.array([[5,6],[7,8]])\n",
    "C*D, C@D, np.multiply(C,D)"
   ]
  },
  {
   "cell_type": "code",
   "execution_count": 32,
   "id": "colored-authority",
   "metadata": {},
   "outputs": [
    {
     "name": "stdout",
     "output_type": "stream",
     "text": [
      "pinv(C): [[0.1 0.1]\n",
      " [0.2 0.2]]\n"
     ]
    }
   ],
   "source": [
    "# 取逆，伪取逆\n",
    "C = numpy.matrix('1,2;1,2')\n",
    "detc = np.linalg.det(C)\n",
    "if detc:\n",
    "    print('C.I:', C.I)\n",
    "    print('inv(C):', np.linalg.inv(C))\n",
    "else:\n",
    "    print('pinv(C):', np.linalg.pinv(C))"
   ]
  },
  {
   "cell_type": "markdown",
   "id": "failing-joshua",
   "metadata": {},
   "source": [
    "# derivative\n",
    "\n",
    "略"
   ]
  },
  {
   "cell_type": "code",
   "execution_count": null,
   "id": "parliamentary-special",
   "metadata": {},
   "outputs": [],
   "source": []
  },
  {
   "cell_type": "code",
   "execution_count": 33,
   "id": "varied-writer",
   "metadata": {},
   "outputs": [],
   "source": [
    "# plot"
   ]
  },
  {
   "cell_type": "code",
   "execution_count": 36,
   "id": "floating-confusion",
   "metadata": {},
   "outputs": [],
   "source": [
    "import matplotlib.pyplot as plt"
   ]
  },
  {
   "cell_type": "code",
   "execution_count": 38,
   "id": "finite-heating",
   "metadata": {},
   "outputs": [
    {
     "data": {
      "image/png": "[encoded data removed]",
      "text/plain": [
       "<Figure size 432x288 with 1 Axes>"
      ]
     },
     "metadata": {
      "needs_background": "light"
     },
     "output_type": "display_data"
    }
   ],
   "source": [
    "fig = plt.figure()\n",
    "axes = fig.add_subplot(111)\n",
    "axes.set(xlim=[0.5, 4.5], ylim=[-2, 8], title=\"Example\", ylabel=\"Y-Axis\", xlabel=\"X-Axis\")\n",
    "plt.show()"
   ]
  },
  {
   "cell_type": "code",
   "execution_count": 39,
   "id": "explicit-graduate",
   "metadata": {},
   "outputs": [
    {
     "data": {
      "image/png": "[encoded data removed]",
      "text/plain": [
       "<Figure size 432x288 with 2 Axes>"
      ]
     },
     "metadata": {
      "needs_background": "light"
     },
     "output_type": "display_data"
    }
   ],
   "source": [
    "fig = plt.figure()\n",
    "ax1 = fig.add_subplot(221)\n",
    "ax1 = fig.add_subplot(224)"
   ]
  },
  {
   "cell_type": "code",
   "execution_count": 68,
   "id": "overhead-equivalent",
   "metadata": {},
   "outputs": [
    {
     "data": {
      "text/plain": [
       "[Text(0.5, 1.0, 'Low Right')]"
      ]
     },
     "execution_count": 68,
     "metadata": {},
     "output_type": "execute_result"
    },
    {
     "data": {
      "image/png": "[encoded data removed]",
      "text/plain": [
       "<Figure size 432x288 with 4 Axes>"
      ]
     },
     "metadata": {
      "needs_background": "light"
     },
     "output_type": "display_data"
    }
   ],
   "source": [
    "fig, axes = plt.subplots(nrows=2,ncols=2)\n",
    "fig.subplots_adjust(wspace=.5,hspace=.5)#, bottom=0, top=1, left=0, right=1)\n",
    "# lest, right, bottom, top传入fraction\n",
    "\n",
    "axes[0, 0].set(title=\"Up Left\")\n",
    "axes[0, 1].set(title=\"Up Right\")\n",
    "axes[1, 0].set(title=\"Low Left\")\n",
    "axes[1, 1].set(title=\"Low Right\")"
   ]
  },
  {
   "cell_type": "markdown",
   "id": "direct-hudson",
   "metadata": {},
   "source": [
    "### 绘制2D图"
   ]
  },
  {
   "cell_type": "code",
   "execution_count": 14,
   "id": "level-miami",
   "metadata": {},
   "outputs": [
    {
     "data": {
      "text/plain": [
       "array([-1.22464680e-16, -1.27877162e-01, -2.53654584e-01, -3.75267005e-01,\n",
       "       -4.90717552e-01, -5.98110530e-01, -6.95682551e-01, -7.81831482e-01,\n",
       "       -8.55142763e-01, -9.14412623e-01, -9.58667853e-01, -9.87181783e-01,\n",
       "       -9.99486216e-01, -9.95379113e-01, -9.74927912e-01, -9.38468422e-01,\n",
       "       -8.86599306e-01, -8.20172255e-01, -7.40277997e-01, -6.48228395e-01,\n",
       "       -5.45534901e-01, -4.33883739e-01, -3.15108218e-01, -1.91158629e-01,\n",
       "       -6.40702200e-02,  6.40702200e-02,  1.91158629e-01,  3.15108218e-01,\n",
       "        4.33883739e-01,  5.45534901e-01,  6.48228395e-01,  7.40277997e-01,\n",
       "        8.20172255e-01,  8.86599306e-01,  9.38468422e-01,  9.74927912e-01,\n",
       "        9.95379113e-01,  9.99486216e-01,  9.87181783e-01,  9.58667853e-01,\n",
       "        9.14412623e-01,  8.55142763e-01,  7.81831482e-01,  6.95682551e-01,\n",
       "        5.98110530e-01,  4.90717552e-01,  3.75267005e-01,  2.53654584e-01,\n",
       "        1.27877162e-01,  1.22464680e-16])"
      ]
     },
     "execution_count": 14,
     "metadata": {},
     "output_type": "execute_result"
    },
    {
     "data": {
      "image/png": "[encoded data removed]",
      "text/plain": [
       "<Figure size 432x288 with 4 Axes>"
      ]
     },
     "metadata": {
      "needs_background": "light"
     },
     "output_type": "display_data"
    }
   ],
   "source": [
    "import numpy as np\n",
    "import matplotlib.pyplot as plt\n",
    "\n",
    "fig, axes = plt.subplots(nrows = 2, ncols = 2)\n",
    "fig.subplots_adjust(hspace=.2,top=2, right=2)\n",
    "\n",
    "x = np.linspace(-np.pi, np.pi)\n",
    "y_sin = np.sin(x)\n",
    "y_cos = np.cos(x)\n",
    "\n",
    "# flatten axes\n",
    "# 这样省去用axes[0, 1]这样繁琐的语法\n",
    "ax1, ax2, ax3, ax4 = axes.flatten()\n",
    "\n",
    "# plot\n",
    "axes[0, 0].plot(x, y_sin)\n",
    "axes[0, 1].plot(x, y_cos, 'r')\n",
    "ax1.set_title('sin(x)')\n",
    "ax2.set_title('cos(x)')\n",
    "\n",
    "# scatter\n",
    "xs = np.arange(100)\n",
    "ys = np.random.randn(100)\n",
    "axes[1, 0].scatter(xs, ys, color='m', marker='o')\n",
    "ax3.set_title('scatter')\n",
    "\n",
    "# histogram\n",
    "datas = np.random.randn(1000, 3)\n",
    "bins = 50\n",
    "colors = ['red', 'blue', 'green']\n",
    "label = ['dog', 'cat', 'rat']\n",
    "ax4.hist(datas, bins, density=True, color=colors, label=label)\n",
    "ax4.legend(prop={'size':10})\n",
    "ax4.set_title('classification')\n",
    "\n",
    "y_sin"
   ]
  },
  {
   "cell_type": "code",
   "execution_count": 115,
   "id": "systematic-clock",
   "metadata": {},
   "outputs": [
    {
     "data": {
      "text/plain": [
       "numpy.ufunc"
      ]
     },
     "execution_count": 115,
     "metadata": {},
     "output_type": "execute_result"
    }
   ],
   "source": [
    "type(np.sin)"
   ]
  },
  {
   "cell_type": "code",
   "execution_count": null,
   "id": "liberal-prague",
   "metadata": {},
   "outputs": [],
   "source": []
  }
 ],
 "metadata": {
  "kernelspec": {
   "display_name": "Python 3",
   "language": "python",
   "name": "python3"
  },
  "language_info": {
   "codemirror_mode": {
    "name": "ipython",
    "version": 3
   },
   "file_extension": ".py",
   "mimetype": "text/x-python",
   "name": "python",
   "nbconvert_exporter": "python",
   "pygments_lexer": "ipython3",
   "version": "3.7.10"
  }
 },
 "nbformat": 4,
 "nbformat_minor": 5
}
