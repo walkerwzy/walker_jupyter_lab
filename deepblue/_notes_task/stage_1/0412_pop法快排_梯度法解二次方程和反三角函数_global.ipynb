{
 "cells": [
  {
   "cell_type": "markdown",
   "id": "greater-advocate",
   "metadata": {},
   "source": [
    "# Task\n",
    "\n",
    "- [x] quick sort practise\n",
    "- [x] gradient descent practise\n",
    "- [x] global and nonlocal\n",
    "- [x] class"
   ]
  },
  {
   "cell_type": "markdown",
   "id": "threatened-louisiana",
   "metadata": {},
   "source": [
    "## quick sort use pop()"
   ]
  },
  {
   "cell_type": "code",
   "execution_count": 1,
   "id": "received-campaign",
   "metadata": {},
   "outputs": [
    {
     "data": {
      "text/plain": [
       "[0, 2, 3, 5, 7, 12]"
      ]
     },
     "execution_count": 1,
     "metadata": {},
     "output_type": "execute_result"
    }
   ],
   "source": [
    "def q_sort(arr):\n",
    "    if len(arr) <= 1:\n",
    "        return arr\n",
    "    pivot = arr.pop()\n",
    "    left  = [item for item in arr if item <= pivot]\n",
    "    right = [item for item in arr if item > pivot]\n",
    "    return q_sort(left) + [pivot] + q_sort(right)\n",
    "\n",
    "q_sort([2, 5, 3, 7, 12, 0])"
   ]
  },
  {
   "cell_type": "code",
   "execution_count": 3,
   "id": "colonial-atlantic",
   "metadata": {},
   "outputs": [
    {
     "name": "stdout",
     "output_type": "stream",
     "text": [
      "cost time: 0.08866190910339355\n",
      "[0, 0, 10, 11, 14, 14, 14, 16, 18, 20, 22, 25, 31, 42, 73, 74, 76, 83, 87, 88, 106, 119, 121, 121, 123, 124, 126, 128, 136, 138, 142, 143, 143, 144, 148, 153, 153, 169, 171, 180, 192, 196, 219, 224, 225, 236, 240, 254, 264, 271, 274, 274, 274, 278, 280, 290, 291, 299, 306, 310, 316, 323, 326, 333, 334, 336, 341, 345, 346, 346, 356, 359, 359, 363, 381, 381, 382, 394, 396, 396, 407, 416, 418, 425, 430, 435, 447, 460, 463, 466, 466, 472, 476, 477, 482, 487, 488, 491, 497, 498]\n"
     ]
    }
   ],
   "source": [
    "import numpy as np\n",
    "import time\n",
    "start_time = time.time()\n",
    "np.random.seed(7)\n",
    "length = 20000\n",
    "array_list = list(np.random.randint(0, 100000, size=(length,)))\n",
    "\n",
    "arr = q_sort(array_list)\n",
    "print(f'cost time: {time.time() - start_time}\\n{arr[:100]}')"
   ]
  },
  {
   "cell_type": "markdown",
   "id": "pleasant-jimmy",
   "metadata": {},
   "source": [
    "## 梯度下降解二次方程\n",
    "\n",
    "- 求解方程：$(x_1 - 3)^2 + (x_2 + 4)^2 = 0$的根\n",
    "\n",
    "$f(x) = (x_1 - 3)^2 + (x_2 + 4)^2 = 0$\n",
    "\n",
    "$e(x) = \\frac{1}{2}(f(x)-Y)^2$\n",
    "\n",
    "$\\frac{\\partial}{\\partial x_1}e(x)=(f(x)-Y)\\cdot(f(x)-Y)'\n",
    "= (f(x)-Y)\\cdot\\frac{\\partial}{\\partial x_1}((x_1 - 3)^2 + (x_2 + 4)^2-Y)$\n",
    "\n",
    "$\\therefore\n",
    "\\begin{cases}\n",
    "\\frac{\\partial}{\\partial x_1}e(x)=\\Delta y \\cdot 2(x_1 - 3) \\\\\n",
    "\\frac{\\partial}{\\partial x_2}e(x)=\\Delta y \\cdot 2(x_2 + 4)\n",
    "\\end{cases}\n",
    "$"
   ]
  },
  {
   "cell_type": "code",
   "execution_count": 52,
   "id": "awful-stopping",
   "metadata": {},
   "outputs": [
    {
     "name": "stdout",
     "output_type": "stream",
     "text": [
      "\n",
      "a \t= 2.9967765158140387\n",
      "b \t= -3.9905337923806563 \n",
      "f(a, b) = 9.999993698966316e-05\n",
      "count \t= 249990\n"
     ]
    }
   ],
   "source": [
    "def gradient_f(n):\n",
    "    x1, x2  = 1, 1        # first try\n",
    "    lr      = 0.01        # learning rate\n",
    "    epsilon = 1e-4        # quit flag\n",
    "    \n",
    "    f_x     = lambda x1, x2 : (x1-3)**2 + (x2+4)**2\n",
    "    dfx1    = lambda x : 2 * (x - 3)\n",
    "    dfx2    = lambda x : 2 * (x + 4)\n",
    "    delta_y = lambda x1, x2 : f_x(x1, x2) - n\n",
    "    e_x     = lambda x1, x2 : delta_y(x1, x2)**2 * 0.5     # cost function\n",
    "    dedx1   = lambda x1, x2 : delta_y(x1, x2) * dfx1(x1)   # partial derivative of loss \\\n",
    "    dedx2   = lambda x1, x2 : delta_y(x1, x2) * dfx2(x2)   # with Chain Rule\n",
    "    delt_x1 = lambda x1, x2 : dedx1(x1, x2) * lr\n",
    "    delt_x2 = lambda x1, x2 : dedx2(x1, x2) * lr\n",
    "    \n",
    "    count   = 0\n",
    "    while abs(f_x(x1, x2) - n) > epsilon:\n",
    "        count += 1\n",
    "        x1 -= delt_x1(x1, x2)\n",
    "        x2 -= delt_x2(x1, x2)\n",
    "    return x1, x2, count\n",
    "\n",
    "a, b, c = gradient_f(0)\n",
    "print(f'''\n",
    "a \\t= {a}\n",
    "b \\t= {b} \n",
    "f(a, b) = {(a-3)**2 + (b+4)**2}\n",
    "count \\t= {c}''')"
   ]
  },
  {
   "cell_type": "markdown",
   "id": "respiratory-leeds",
   "metadata": {},
   "source": [
    "## 梯度下降解反三角函数\n",
    "\n",
    "- 求解arcsin(x)，在$x = 0.5$和$x = \\frac{\\sqrt{3}}{2}$的值\n",
    "\n",
    "即估算两个x值，令$f(x)=sin(x)=0.5$和$f(x)=sin(x)=\\frac{\\sqrt{3}}{2}$   \n",
    "这次不推导了，套一次公式吧$\\Delta x = \\Delta y \\cdot f'(x) \\cdot lr$"
   ]
  },
  {
   "cell_type": "code",
   "execution_count": 25,
   "id": "wound-citizen",
   "metadata": {},
   "outputs": [
    {
     "name": "stdout",
     "output_type": "stream",
     "text": [
      "sin(30.000000638736502) ≈ 0.5\n",
      "sin(59.999998857570986) ≈ sqrt(3)/2\n",
      "\n"
     ]
    }
   ],
   "source": [
    "import math\n",
    "\n",
    "def arcsin(n):\n",
    "    x       = 1           # first try\n",
    "    lr      = 0.1        # learning rate\n",
    "    epsilon = 1e-8        # quit flag\n",
    "    \n",
    "    f_x     = lambda x : math.sin(x)\n",
    "    delta_y = lambda x : f_x(x) - n\n",
    "    delta_x = lambda x : delta_y(x) * math.cos(x) * lr\n",
    "    \n",
    "    while abs(f_x(x) - n) > epsilon:\n",
    "        x -= delta_x(x)\n",
    "        \n",
    "    return math.degrees(x)\n",
    "\n",
    "print(f'''sin({arcsin(0.5)}) ≈ 0.5\n",
    "sin({arcsin(math.sqrt(3)/2)}) ≈ sqrt(3)/2\n",
    "''')"
   ]
  },
  {
   "cell_type": "markdown",
   "id": "peaceful-magazine",
   "metadata": {},
   "source": [
    "## global and nonlocal\n",
    "\n",
    "python引用变量的顺序如下：\n",
    "\n",
    "- 当前作用域局部变量\n",
    "- 外层作用域变量\n",
    "- 当前模块中的全局变量\n",
    "- python内置变量\n",
    "\n",
    "`global`能将变量声明为全局变量，`nonlocal`能将变量声明为外层变量（仍然是一个局部变量，只是比声明的位置更外层）"
   ]
  },
  {
   "cell_type": "code",
   "execution_count": 39,
   "id": "minor-testament",
   "metadata": {},
   "outputs": [
    {
     "name": "stdout",
     "output_type": "stream",
     "text": [
      "hello world\n",
      "hello world\n"
     ]
    }
   ],
   "source": [
    "var = \"hello\"\n",
    "\n",
    "def func():\n",
    "#     var +=\" world\" # 会报错，但报的是在被赋值前引用，其实只是不能修改\n",
    "#     var = \"world\"  # 直接赋值是可以的，等于命名了一个同名的“局部”变量\n",
    "    global var       # << 这样才能【修改】全局变量       \n",
    "    var += \" world\"\n",
    "    print(var)\n",
    "\n",
    "func()\n",
    "print(var)"
   ]
  },
  {
   "cell_type": "code",
   "execution_count": 35,
   "id": "proof-journey",
   "metadata": {},
   "outputs": [
    {
     "name": "stdout",
     "output_type": "stream",
     "text": [
      "669\n"
     ]
    }
   ],
   "source": [
    "var = 123\n",
    "\n",
    "def func():\n",
    "    var = 666\n",
    "    def inner():\n",
    "#         global var  # 声明为全局变量（值为123）\n",
    "        nonlocal var  # 声明为外层变量（值为666）”\n",
    "        # 如果不加上面两行之一， 则下行会报错，上个例子已演示\n",
    "        var += 3\n",
    "        print(var)\n",
    "    inner()\n",
    "\n",
    "func()"
   ]
  },
  {
   "cell_type": "code",
   "execution_count": 42,
   "id": "particular-pound",
   "metadata": {},
   "outputs": [
    {
     "ename": "SyntaxError",
     "evalue": "no binding for nonlocal 'var' found (<ipython-input-42-64d5b1b1391f>, line 4)",
     "output_type": "error",
     "traceback": [
      "\u001b[0;36m  File \u001b[0;32m\"<ipython-input-42-64d5b1b1391f>\"\u001b[0;36m, line \u001b[0;32m4\u001b[0m\n\u001b[0;31m    nonlocal var # 外层已经是“全局”的话，声明为nonlocal就出错了\u001b[0m\n\u001b[0m    ^\u001b[0m\n\u001b[0;31mSyntaxError\u001b[0m\u001b[0;31m:\u001b[0m no binding for nonlocal 'var' found\n"
     ]
    }
   ],
   "source": [
    "# 继续看下面的例子，可以看到nonlocal基本上是跟着闭包一起玩的，一层套一层\n",
    "var = 666\n",
    "def func():\n",
    "    nonlocal var # 外层已经是“全局”的话，声明为nonlocal就出错了\n",
    "    var += 3\n",
    "    print(var)\n",
    "func()"
   ]
  },
  {
   "cell_type": "markdown",
   "id": "unlikely-lodging",
   "metadata": {},
   "source": [
    "## class"
   ]
  },
  {
   "cell_type": "code",
   "execution_count": 50,
   "id": "protected-benefit",
   "metadata": {},
   "outputs": [
    {
     "name": "stdout",
     "output_type": "stream",
     "text": [
      "animal_init\n",
      "human_init\n",
      "man_init\n",
      "human run\n",
      "animal run\n",
      "__形式私有变量: 90\n",
      "property方法封装: walker\n",
      "装饰器封装，dot语法: 28\n",
      "after set age=37 37\n",
      "type(m.name): <class 'str'> \n",
      "type(m.age): <class 'int'>\n",
      "number of foot: (m.num_foot) 2\n",
      "number of foot: (Man.num_foot) 2\n"
     ]
    }
   ],
   "source": [
    "class Animal(object):\n",
    "    def __init__(self):\n",
    "        print('animal_init')\n",
    "    def run(self):\n",
    "        print('animal run')\n",
    "        \n",
    "class Human(Animal):\n",
    "    def __init__(self):\n",
    "        super().__init__()\n",
    "        print('human_init')\n",
    "    def run(self):\n",
    "        print('human run')\n",
    "\n",
    "class Man(Human):\n",
    "    def __init__(self, name, age, gender):\n",
    "        super().__init__()\n",
    "        print('man_init')\n",
    "        self.__gender = gender    # 演示原生私有变量\n",
    "        self.__name = name        # 演示property方法\n",
    "        self.__age = age          # 演示装饰器property\n",
    "    def run(self):\n",
    "        super().run() # 不传参表示最近parent\n",
    "        super(Human, self).run() # 传参表示参数的parent\n",
    "    \n",
    "    # 定义一个get私有变量的方法，然后传到property方法里去\n",
    "    def get_name(self):\n",
    "        return self.__name\n",
    "    name = property(get_name)\n",
    "    \n",
    "    # 观察上面把方法作为参数传进去，不就是装饰器干的事吗？所以：\n",
    "    @property\n",
    "    def age(self):\n",
    "        return self.__age\n",
    "    \n",
    "    # setter的语法非常奇怪，\n",
    "    # 其实就是在已经age = property(f_get)的前提下，对age进行fset的赋值\n",
    "    @age.setter\n",
    "    def age(self, value):\n",
    "        self.__age = value\n",
    "        \n",
    "    num_foot = 2 # <<< 这样就变成类变量（静态变量）了, 【定义】时就已经执行一次了，而非第一次初始化时\n",
    "    \n",
    "        \n",
    "m = Man(\"walker\", 28, 90)\n",
    "m.run()\n",
    "print(\"__形式私有变量:\", m._Man__gender) # 打印私有变量的方式\n",
    "print(\"property方法封装:\", m.name)\n",
    "print(\"装饰器封装，dot语法:\", m.age)\n",
    "m.age = 37\n",
    "print(\"after set age=37\", m.age)\n",
    "print(f\"type(m.name): {type(m.name)} \\ntype(m.age): {type(m.age)}\") # 可见类型取决于返回值，而不是函数本身\n",
    "print(\"number of foot: (m.num_foot)\", m.num_foot) # 当实体变量用\n",
    "print(\"number of foot: (Man.num_foot)\", Man.num_foot) # 当静态变量用"
   ]
  },
  {
   "cell_type": "code",
   "execution_count": null,
   "id": "logical-wells",
   "metadata": {},
   "outputs": [],
   "source": []
  }
 ],
 "metadata": {
  "kernelspec": {
   "display_name": "Python 3",
   "language": "python",
   "name": "python3"
  },
  "language_info": {
   "codemirror_mode": {
    "name": "ipython",
    "version": 3
   },
   "file_extension": ".py",
   "mimetype": "text/x-python",
   "name": "python",
   "nbconvert_exporter": "python",
   "pygments_lexer": "ipython3",
   "version": "3.7.10"
  }
 },
 "nbformat": 4,
 "nbformat_minor": 5
}
