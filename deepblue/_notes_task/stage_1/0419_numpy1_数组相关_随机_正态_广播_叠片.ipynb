{
 "cells": [
  {
   "cell_type": "markdown",
   "id": "homeless-mounting",
   "metadata": {},
   "source": [
    "# Task - numpy\n",
    "\n",
    "- [x] 基础\n",
    "- [x] 切片\n",
    "- [x] 随机\n",
    "- [x] 正态\n",
    "- [x] 叠片\n",
    "- [x] 广播"
   ]
  },
  {
   "cell_type": "markdown",
   "id": "quick-timeline",
   "metadata": {},
   "source": [
    "## numpy 基础"
   ]
  },
  {
   "cell_type": "code",
   "execution_count": 2,
   "id": "toxic-grove",
   "metadata": {},
   "outputs": [],
   "source": [
    "import numpy as np"
   ]
  },
  {
   "cell_type": "markdown",
   "id": "binding-bachelor",
   "metadata": {},
   "source": [
    "### 数据类型\n",
    "\n",
    "- (int32)整数（-2147483648 -- 2147483647） $-2^{31}-1$ to $2^{31}-1$\n",
    "- (int64)整数（-9223372036854775808 -- 9223372036854775807） $-2^{63}-1$ to $2^{63}-1$\n",
    "- (float32)单精度浮点数，包括：1 个符号位，8 个指数位，23 个尾数位  1 + 8 + 23 = 32\n",
    "- (float64)双精度浮点数，包括：1 个符号位，11 个指数位，52 个尾数位  1 + 11 + 52 = 64\n",
    "\n",
    "> numpy默认的小数是`float64`"
   ]
  },
  {
   "cell_type": "code",
   "execution_count": 4,
   "id": "retired-cathedral",
   "metadata": {},
   "outputs": [
    {
     "data": {
      "text/plain": [
       "(array([1., 2., 3.], dtype=float32), array([1, 2, 3]))"
      ]
     },
     "execution_count": 4,
     "metadata": {},
     "output_type": "execute_result"
    }
   ],
   "source": [
    "a = np.array([1,2,3], dtype = np.float32)\n",
    "b = np.array([1.2,2.3,3.4], dtype = \"int64\")\n",
    "a, b"
   ]
  },
  {
   "cell_type": "markdown",
   "id": "automated-mailman",
   "metadata": {},
   "source": [
    "### numpy 数组属性"
   ]
  },
  {
   "cell_type": "code",
   "execution_count": 5,
   "id": "handy-passport",
   "metadata": {},
   "outputs": [
    {
     "name": "stdout",
     "output_type": "stream",
     "text": [
      "\n",
      "arr  \t= [[1 2]\n",
      " [3 4]\n",
      " [5 6]]\n",
      "arr.ndim\t= 2\n",
      "arr.size\t= 6\n",
      "arr.shape\t= (3, 2) \n",
      "\n"
     ]
    }
   ],
   "source": [
    "arr = np.asarray([[1,2],[3,4],[5,6]])\n",
    "print(f'''\n",
    "arr  \\t= {arr}\n",
    "arr.ndim\\t= {arr.ndim}\n",
    "arr.size\\t= {arr.size}\n",
    "arr.shape\\t= {arr.shape} \n",
    "''')"
   ]
  },
  {
   "cell_type": "markdown",
   "id": "differential-documentation",
   "metadata": {},
   "source": [
    "### 创建数组"
   ]
  },
  {
   "cell_type": "code",
   "execution_count": 6,
   "id": "warming-invasion",
   "metadata": {},
   "outputs": [
    {
     "name": "stdout",
     "output_type": "stream",
     "text": [
      "\n",
      "[[119  97]\n",
      " [114 110]]\n",
      "[[-3.10503618e+231 -3.10503618e+231  6.09343068e-013]\n",
      " [ 1.51324713e-110  6.17582057e-322  0.00000000e+000]]\n",
      "[4613937818241073152 4611686018427387904 4607182418800017408]\n",
      "\n"
     ]
    }
   ],
   "source": [
    "print(f'''\n",
    "{np.empty([2, 2], dtype=\"int32\")}\n",
    "{np.empty([2, 3])}\n",
    "{np.empty(3, 'int')}\n",
    "''')"
   ]
  },
  {
   "cell_type": "code",
   "execution_count": 7,
   "id": "robust-texas",
   "metadata": {},
   "outputs": [
    {
     "name": "stdout",
     "output_type": "stream",
     "text": [
      "\n",
      "from template: np.zeros()\n",
      "[0. 0. 0.]\n",
      "[[0. 0. 0.]\n",
      " [0. 0. 0.]]\n",
      "[[1. 1.]]\n",
      "\n",
      "from array:\n",
      "array: [1 2 3], <class 'numpy.ndarray'>\n",
      "asarray: [4 5 6], <class 'numpy.ndarray'>\n",
      "\n",
      "from range:\n",
      "[0 1 2 3 4]\n",
      "[ 1  4  7 10 13 16 19]\n",
      "\n"
     ]
    }
   ],
   "source": [
    "print(f'''\n",
    "from template: np.zeros()\n",
    "{np.zeros(3)}\n",
    "{np.zeros([2,3])}\n",
    "{np.ones([1,2], dtype=np.float64)}\n",
    "\n",
    "from array:\n",
    "array: {np.array([1,2,3])}, {type(np.array([1,2,3]))}\n",
    "asarray: {np.asarray([4,5,6])}, {type(np.asarray([1,2,3]))}\n",
    "\n",
    "from range:\n",
    "{np.arange(5)}\n",
    "{np.arange(1,20,3)}\n",
    "''')"
   ]
  },
  {
   "cell_type": "markdown",
   "id": "muslim-breakfast",
   "metadata": {},
   "source": [
    "### random"
   ]
  },
  {
   "cell_type": "code",
   "execution_count": 8,
   "id": "legislative-static",
   "metadata": {},
   "outputs": [
    {
     "name": "stdout",
     "output_type": "stream",
     "text": [
      "0.7305616402647424\n",
      "[[0.14854188 0.73690119 0.75322194]\n",
      " [0.79197786 0.5768717  0.02116945]\n",
      " [0.44287442 0.12131489 0.70869013]]\n",
      "[0.81046501 0.83774668 0.00832676 0.52681214]\n"
     ]
    }
   ],
   "source": [
    "# default\n",
    "# (0, 1) random\n",
    "print(np.random.rand())\n",
    "print(np.random.rand(3,3))\n",
    "print(np.random.rand(4,))"
   ]
  },
  {
   "cell_type": "code",
   "execution_count": 121,
   "id": "perfect-waters",
   "metadata": {},
   "outputs": [
    {
     "name": "stdout",
     "output_type": "stream",
     "text": [
      "0\n",
      "[8 7 1 2 5]\n",
      "[[2 7]\n",
      " [6 7]]\n",
      "[2 2 6 5 5 6 7 2 5 3]\n",
      "[7 6 5 1 3 5 2 4 1 6]\n",
      "[25 11 27 39  1 30  9 31 16 15]\n"
     ]
    }
   ],
   "source": [
    "# random int\n",
    "print(np.random.randint(10))\n",
    "print(np.random.randint(10, size=(5,)))\n",
    "print(np.random.randint(10, size=(2,2)))\n",
    "print(np.random.randint(1, 8, size=(10,)))\n",
    "print(np.random.randint(1, 8, size=10))\n",
    "print(np.random.choice(52, 10, replace=False))"
   ]
  },
  {
   "cell_type": "code",
   "execution_count": 10,
   "id": "adapted-scanner",
   "metadata": {},
   "outputs": [
    {
     "name": "stdout",
     "output_type": "stream",
     "text": [
      "[-1.05959324 -0.67472166 -0.00984714]\n",
      "0.8377133388379125\n",
      "[2.92440936 2.67781807 6.44780334]\n"
     ]
    }
   ],
   "source": [
    "# normal distribution\n",
    "\n",
    "# random in ( mu = 0, sigma = 1)\n",
    "print(np.random.randn(3,))\n",
    "\n",
    "# random in custom\n",
    "print(np.random.normal(1, 2))\n",
    "mu, sigma = 3, 2\n",
    "s = np.random.normal(mu, sigma, size=(3))\n",
    "print(s)"
   ]
  },
  {
   "cell_type": "markdown",
   "id": "elegant-library",
   "metadata": {},
   "source": [
    "#### Normal Distribution\n",
    "\n",
    "$\\begin{aligned}\n",
    "p(x)=\\frac{1}{\\sqrt{2\\pi\\sigma}}e^{\\frac{(x-\\mu)^2}{2\\sigma^2}}\n",
    "\\end{aligned}\n",
    "$\n",
    "\n",
    "https://en.wikipedia.org/wiki/Normal_distribution"
   ]
  },
  {
   "cell_type": "code",
   "execution_count": 11,
   "id": "dimensional-graph",
   "metadata": {},
   "outputs": [
    {
     "name": "stdout",
     "output_type": "stream",
     "text": [
      "mu - mean(s) = 1.0166769251226748\n",
      "sigma - std(s) = 0.10902431581948191\n"
     ]
    },
    {
     "data": {
      "image/png": "[encoded data removed]",
      "text/plain": [
       "<Figure size 432x288 with 1 Axes>"
      ]
     },
     "metadata": {
      "needs_background": "light"
     },
     "output_type": "display_data"
    }
   ],
   "source": [
    "print(f'mu - mean(s) = {abs(mu-np.mean(s))}')\n",
    "print(f'sigma - std(s) = {abs(sigma - np.std(s, ddof=1))}')\n",
    "\n",
    "import matplotlib.pyplot as plt\n",
    "n = 100\n",
    "s = np.random.normal(mu, sigma, size=(n,))\n",
    "count, bins, ignored = plt.hist(s, n, density=True)\n",
    "plt.plot(bins, 1/(sigma * np.sqrt(2 * np.pi)) * \n",
    "        np.exp( - (bins - mu) ** 2 / (2 * sigma ** 2)),\n",
    "        linewidth=2, color='r')\n",
    "plt.show()"
   ]
  },
  {
   "cell_type": "markdown",
   "id": "existing-nicaragua",
   "metadata": {},
   "source": [
    "##### ramdom seed\n",
    "\n",
    "random seed 能生成同样的random sample，但是只对seed后的第一次有效"
   ]
  },
  {
   "cell_type": "code",
   "execution_count": 12,
   "id": "pleased-despite",
   "metadata": {},
   "outputs": [
    {
     "name": "stdout",
     "output_type": "stream",
     "text": [
      "-----seed every time-----\n",
      "[34 13 66 82 10 31 29 84]\n",
      "[34 13 66 82 10 31 29 84]\n",
      "[34 13 66 82 10 31 29 84]\n",
      "[34 13 66 82 10 31 29 84]\n",
      "[34 13 66 82 10 31 29 84]\n",
      "------seed one time------\n",
      "[34 13 66 82 10 31 29 84]\n",
      "[51 20 31 48 30 54 49 24]\n",
      "[36 91 32 76 12 73 70 11]\n",
      "[61 79 39 34 72 17 53 43]\n",
      "[89 58 47 30 59 31 88 38]\n"
     ]
    }
   ],
   "source": [
    "print('-----seed every time-----')\n",
    "for i in range(5):\n",
    "    np.random.seed(3)\n",
    "    print(np.random.randint(10, 100, size=(8,)))\n",
    "\n",
    "print('------seed one time------')\n",
    "np.random.seed(3)\n",
    "for i in range(5):\n",
    "    print(np.random.randint(10, 100, size=(8,)))"
   ]
  },
  {
   "cell_type": "markdown",
   "id": "cheap-glenn",
   "metadata": {},
   "source": [
    "## numpy 数组切片"
   ]
  },
  {
   "cell_type": "markdown",
   "id": "correct-niger",
   "metadata": {},
   "source": [
    "### 1-d"
   ]
  },
  {
   "cell_type": "code",
   "execution_count": 13,
   "id": "finnish-accordance",
   "metadata": {},
   "outputs": [
    {
     "data": {
      "text/plain": [
       "(array([0, 1, 2, 3, 4, 5, 6, 7, 8, 9]),\n",
       " array([0, 1, 2]),\n",
       " array([3, 4, 5, 6, 7, 8, 9]))"
      ]
     },
     "execution_count": 13,
     "metadata": {},
     "output_type": "execute_result"
    }
   ],
   "source": [
    "arr = np.arange(10)\n",
    "arr[:], arr[:3], arr[3:]"
   ]
  },
  {
   "cell_type": "markdown",
   "id": "korean-mining",
   "metadata": {},
   "source": [
    "### 2-d\n",
    "\n",
    "`arr[1:2,2:3]` 表示先取出[1:2]的元素A，再对A取[2:3]\n",
    "\n",
    "> 可以理解为linux里面的管道，前一个切片的输出就是后一个切片的输入"
   ]
  },
  {
   "cell_type": "code",
   "execution_count": 14,
   "id": "biological-argument",
   "metadata": {},
   "outputs": [
    {
     "data": {
      "text/plain": [
       "(array([[ 1,  2,  3,  4,  5],\n",
       "        [ 6,  7,  8,  9, 10]]),\n",
       " array([[ 1,  2,  3,  4,  5],\n",
       "        [ 6,  7,  8,  9, 10]]),\n",
       " array([[ 9, 10]]),\n",
       " array([[ 4,  5],\n",
       "        [ 9, 10]]))"
      ]
     },
     "execution_count": 14,
     "metadata": {},
     "output_type": "execute_result"
    }
   ],
   "source": [
    "arr2 = np.array([[1,2,3,4,5],[6,7,8,9,10]])\n",
    "arr2[:], arr2[:,:], arr2[1:2,3:], arr2[:,3:]"
   ]
  },
  {
   "cell_type": "markdown",
   "id": "popular-riding",
   "metadata": {},
   "source": [
    "### 3-d\n",
    "\n",
    "同样，利用管道的输入输出传递来理解"
   ]
  },
  {
   "cell_type": "code",
   "execution_count": 3,
   "id": "completed-belgium",
   "metadata": {},
   "outputs": [],
   "source": [
    "arr3 = np.array([ \\\n",
    "        [ \\\n",
    "            [21,22,23],[24,25,26],[27,28,29] \\\n",
    "        ],\\\n",
    "        [ \\\n",
    "            [31,32,33],[34,35,36],[37,38,39] \\\n",
    "        ],\\\n",
    "        [ \\\n",
    "            [11,12,13],[14,15,16],[17,18,19] \\\n",
    "        ],\\\n",
    "    ])               "
   ]
  },
  {
   "cell_type": "markdown",
   "id": "efficient-disclaimer",
   "metadata": {},
   "source": [
    "这次反过来，我把要过滤的要求说出来，练习写表达式让它得到正确的答案。\n",
    "\n",
    "**练习1**: 我要取每个数组里面的第二个元素\n",
    "\n",
    "- 第三维就要取全部[:]\n",
    "- 第二维也取全部[:]\n",
    "- 第一维取[1:2]"
   ]
  },
  {
   "cell_type": "code",
   "execution_count": 4,
   "id": "molecular-award",
   "metadata": {},
   "outputs": [
    {
     "data": {
      "text/plain": [
       "array([[[22],\n",
       "        [25],\n",
       "        [28]],\n",
       "\n",
       "       [[32],\n",
       "        [35],\n",
       "        [38]],\n",
       "\n",
       "       [[12],\n",
       "        [15],\n",
       "        [18]]])"
      ]
     },
     "execution_count": 4,
     "metadata": {},
     "output_type": "execute_result"
    }
   ],
   "source": [
    "arr3[:,:,1:2]"
   ]
  },
  {
   "cell_type": "markdown",
   "id": "dried-usage",
   "metadata": {},
   "source": [
    "**练习2**: 我要取第二个数组里的第一行\n",
    "\n",
    "- 最外层取第二个元素[1:2]\n",
    "- 二维数组第一行是[0:1]\n",
    "- 最内层是取全部[:]"
   ]
  },
  {
   "cell_type": "code",
   "execution_count": 5,
   "id": "consistent-response",
   "metadata": {},
   "outputs": [
    {
     "data": {
      "text/plain": [
       "array([[[31, 32, 33]]])"
      ]
     },
     "execution_count": 5,
     "metadata": {},
     "output_type": "execute_result"
    }
   ],
   "source": [
    "arr3[1:2,0:1,:]"
   ]
  },
  {
   "cell_type": "markdown",
   "id": "second-genome",
   "metadata": {},
   "source": [
    "### 增加维度（np.newaxis）"
   ]
  },
  {
   "cell_type": "code",
   "execution_count": 8,
   "id": "forward-recruitment",
   "metadata": {},
   "outputs": [
    {
     "data": {
      "text/plain": [
       "(array([[[ 1,  2,  3],\n",
       "         [ 4,  5,  6],\n",
       "         [ 7,  8,  9]],\n",
       " \n",
       "        [[11, 12, 13],\n",
       "         [14, 15, 16],\n",
       "         [17, 18, 19]]]),\n",
       " array([[[ 1,  2,  3],\n",
       "         [ 4,  5,  6],\n",
       "         [ 7,  8,  9]],\n",
       " \n",
       "        [[11, 12, 13],\n",
       "         [14, 15, 16],\n",
       "         [17, 18, 19]]]),\n",
       " array([[[ 1,  2,  3],\n",
       "         [ 4,  5,  6],\n",
       "         [ 7,  8,  9]],\n",
       " \n",
       "        [[11, 12, 13],\n",
       "         [14, 15, 16],\n",
       "         [17, 18, 19]]]))"
      ]
     },
     "execution_count": 8,
     "metadata": {},
     "output_type": "execute_result"
    }
   ],
   "source": [
    "a[:], a[::], a[...]"
   ]
  },
  {
   "cell_type": "markdown",
   "id": "czech-comparison",
   "metadata": {},
   "source": [
    "**前置知识**\n",
    "\n",
    "numpy不认为一个行向量是一个`一行几列`的数组，看下面的例子"
   ]
  },
  {
   "cell_type": "code",
   "execution_count": 116,
   "id": "sized-cruise",
   "metadata": {},
   "outputs": [
    {
     "name": "stdout",
     "output_type": "stream",
     "text": [
      "v1: (3,) 1\n",
      "v2: (1, 3) 2\n",
      "v3: (3,) 1\n"
     ]
    }
   ],
   "source": [
    "v1 = np.array([1, 2, 3])\n",
    "v2 = np.array([[1, 2, 3]])\n",
    "print('v1:', v1.shape, v1.ndim)\n",
    "print('v2:', v2.shape, v2.ndim)\n",
    "\n",
    "# 所以，v2变成v1要这么做：\n",
    "v3 = v2.reshape((3,))\n",
    "print('v3:', v3.shape, v3.ndim)"
   ]
  },
  {
   "cell_type": "code",
   "execution_count": 4,
   "id": "answering-boston",
   "metadata": {},
   "outputs": [
    {
     "name": "stdout",
     "output_type": "stream",
     "text": [
      "0 shape: (2, 2, 2)\n",
      "1 [[[[1 2]\n",
      "   [3 4]]\n",
      "\n",
      "  [[5 6]\n",
      "   [7 8]]]] shape: (1, 2, 2, 2)\n",
      "2 [[[[1 2]\n",
      "   [3 4]]]\n",
      "\n",
      "\n",
      " [[[5 6]\n",
      "   [7 8]]]] shape: (2, 1, 2, 2)\n",
      "3 [[[[1 2]\n",
      "   [3 4]]\n",
      "\n",
      "  [[5 6]\n",
      "   [7 8]]]] shape: (1, 2, 2, 2)\n",
      "4 [[[[1 2]\n",
      "   [3 4]]]\n",
      "\n",
      "\n",
      " [[[5 6]\n",
      "   [7 8]]]] shape: (2, 1, 2, 2)\n",
      "5 [[[[1 2]]\n",
      "\n",
      "  [[3 4]]]\n",
      "\n",
      "\n",
      " [[[5 6]]\n",
      "\n",
      "  [[7 8]]]] shape: (2, 2, 1, 2)\n",
      "6 [[[[1]\n",
      "   [2]]\n",
      "\n",
      "  [[3]\n",
      "   [4]]]\n",
      "\n",
      "\n",
      " [[[5]\n",
      "   [6]]\n",
      "\n",
      "  [[7]\n",
      "   [8]]]] shape: (2, 2, 2, 1)\n"
     ]
    }
   ],
   "source": [
    "v3  = np.array([[[1,2],[3,4]],[[5,6],[7,8]]])\n",
    "v31 = v3[np.newaxis, :]    # 等同于 v3[None]\n",
    "v32 = v3[:, np.newaxis]\n",
    "v33 = v3[np.newaxis, :, :] # v33=v31, 在最外层加不在意后面写没写全\n",
    "v34 = v3[:, np.newaxis, :] # v34=v32, 子级不管写在哪，都是给次顶级包一层\n",
    "v35 = v3[:,:,np.newaxis]   # 最终得证，把newaxis写在第几维就是包第几维\n",
    "v36 = v3[:,:,:,np.newaxis] # 增加一个维度的话，就成了把每个元素包一维了\n",
    "print(0, 'shape:', v3.shape)\n",
    "print(1, v31, 'shape:', v31.shape)\n",
    "print(2, v32, 'shape:', v32.shape)\n",
    "print(3, v33, 'shape:', v33.shape)\n",
    "print(4, v34, 'shape:', v34.shape)\n",
    "print(5, v35, 'shape:', v35.shape)\n",
    "print(6, v36, 'shape:', v36.shape)"
   ]
  },
  {
   "cell_type": "markdown",
   "id": "southeast-parcel",
   "metadata": {},
   "source": [
    "**总结**\n",
    "\n",
    "`np.newaxis`就是用来增加维度的，把newaxis写在第几维就是包第几维"
   ]
  },
  {
   "cell_type": "markdown",
   "id": "loving-surname",
   "metadata": {},
   "source": [
    "### ...和None\n",
    "\n",
    "- `...`是[:,:,:]的省略写法，就是取全的意思\n",
    "- `None`是`np.newaxis`"
   ]
  },
  {
   "cell_type": "code",
   "execution_count": 205,
   "id": "suitable-sacramento",
   "metadata": {},
   "outputs": [
    {
     "name": "stdout",
     "output_type": "stream",
     "text": [
      "1 [[[1]\n",
      "  [2]\n",
      "  [3]]\n",
      "\n",
      " [[4]\n",
      "  [5]\n",
      "  [9]]]\n",
      "2 [[1 2 3]\n",
      " [4 5 9]]\n",
      "3 [[3]\n",
      " [9]]\n",
      "[3 9]\n",
      "4 [3 9]\n"
     ]
    }
   ],
   "source": [
    "print(1, grid[...,None])\n",
    "#等价于, 就是上一单元里的最后一次尝试，在最低维里面加一维，就是把单个元素包了起来\n",
    "grid[:,:,None]\n",
    "grid[:,:,np.newaxis]\n",
    "grid[...,np.newaxis]\n",
    "\n",
    "# 但这里不能补全为 grid[:,:,:] 因为它本身就是取全部三维数组元素的含义，越界了\n",
    "# 所以它只是展开了n-1维\n",
    "print(2, grid[...,:])\n",
    "\n",
    "#### 下面这两个还是看输出吧，看不懂\n",
    "\n",
    "# 所以下面这个就是 grid[:,[2]]\n",
    "# 这应该是一个fancy indexing吧？\n",
    "print(3, grid[...,[2]])  # 可以用来取函数第N列\n",
    "\n",
    "print(grid[:,2])\n",
    "print(4, grid[...,2])    # 可以用来取函数第N列再排成一行"
   ]
  },
  {
   "cell_type": "code",
   "execution_count": 168,
   "id": "conceptual-stomach",
   "metadata": {},
   "outputs": [
    {
     "name": "stdout",
     "output_type": "stream",
     "text": [
      "2 [[[ 0  1  2]\n",
      "  [ 3  4  5]\n",
      "  [ 6  7  8]]\n",
      "\n",
      " [[ 9 10 11]\n",
      "  [12 13 14]\n",
      "  [15 16 17]]\n",
      "\n",
      " [[18 19 20]\n",
      "  [21 22 23]\n",
      "  [24 25 26]]]\n",
      "3 [[[ 2]\n",
      "  [ 5]\n",
      "  [ 8]]\n",
      "\n",
      " [[11]\n",
      "  [14]\n",
      "  [17]]\n",
      "\n",
      " [[20]\n",
      "  [23]\n",
      "  [26]]]\n",
      "4 [[ 2  5  8]\n",
      " [11 14 17]\n",
      " [20 23 26]]\n"
     ]
    }
   ],
   "source": [
    "cub = np.arange(27).reshape((3,3,3))\n",
    "# print(1, cub[...,None]) # 把最内层由行改成了列(升了一维)\n",
    "print(2, cub[...,:])    # 又还原回来了\n",
    "print(3, cub[...,[2]])  # 可以用来取函数第N列，超过二维就就取最低两维的第N列，然后再平行铺开\n",
    "print(4, cub[...,2])    # 可以用来取函数第N列再排成一行，超过二维就取最低两维，然后再平行铺开，\n",
    "\n",
    "# 最后两个例子还是看输出吧"
   ]
  },
  {
   "cell_type": "markdown",
   "id": "monetary-manual",
   "metadata": {},
   "source": [
    "### 数组合并\n",
    "\n",
    "> 全部拼接传参时自己就要把参数包到数组里，注意"
   ]
  },
  {
   "cell_type": "code",
   "execution_count": 123,
   "id": "optimum-basement",
   "metadata": {},
   "outputs": [
    {
     "data": {
      "text/plain": [
       "array([1, 2, 3, 3, 2, 1])"
      ]
     },
     "execution_count": 123,
     "metadata": {},
     "output_type": "execute_result"
    }
   ],
   "source": [
    "x = np.array([1, 2, 3])\n",
    "y = np.array([3, 2, 1])\n",
    "np.concatenate([x, y])"
   ]
  },
  {
   "cell_type": "code",
   "execution_count": 124,
   "id": "alpha-devices",
   "metadata": {},
   "outputs": [
    {
     "data": {
      "text/plain": [
       "array([[1, 2, 3],\n",
       "       [4, 5, 6],\n",
       "       [1, 2, 3],\n",
       "       [4, 5, 6]])"
      ]
     },
     "execution_count": 124,
     "metadata": {},
     "output_type": "execute_result"
    }
   ],
   "source": [
    "grid = np.array([[1, 2, 3],\n",
    "                 [4, 5, 6]])\n",
    "\n",
    "# 默认是行拼接，列不变\n",
    "# 其实就是 axis 参数默认为0\n",
    "np.concatenate([grid, grid])"
   ]
  },
  {
   "cell_type": "code",
   "execution_count": 125,
   "id": "banned-technical",
   "metadata": {},
   "outputs": [
    {
     "data": {
      "text/plain": [
       "array([[1, 2, 3, 1, 2, 3],\n",
       "       [4, 5, 6, 4, 5, 6]])"
      ]
     },
     "execution_count": 125,
     "metadata": {},
     "output_type": "execute_result"
    }
   ],
   "source": [
    "# 如果要行拼接，axis=1即可\n",
    "np.concatenate([grid, grid], axis=1)"
   ]
  },
  {
   "cell_type": "code",
   "execution_count": 126,
   "id": "electric-stage",
   "metadata": {},
   "outputs": [
    {
     "name": "stdout",
     "output_type": "stream",
     "text": [
      "[[1 2 3]\n",
      " [1 2 3]\n",
      " [4 5 6]]\n",
      "[[3 1 2 3]\n",
      " [4 4 5 6]]\n"
     ]
    }
   ],
   "source": [
    "# 形状不同就用np.vstack, np.hstack显式拼接\n",
    "print(np.vstack([x, grid]))\n",
    "# print(np.hstack([x, grid])) # 形状不一样强行拼接会报错\n",
    "z = np.array([[3],[4]])\n",
    "print(np.hstack([z, grid]))"
   ]
  },
  {
   "cell_type": "markdown",
   "id": "speaking-collect",
   "metadata": {},
   "source": [
    "### 数组分割"
   ]
  },
  {
   "cell_type": "code",
   "execution_count": 73,
   "id": "egyptian-resort",
   "metadata": {},
   "outputs": [
    {
     "name": "stdout",
     "output_type": "stream",
     "text": [
      "[1 2 3] [99 99] [3 2 1]\n"
     ]
    },
    {
     "data": {
      "text/plain": [
       "(array([[0, 1, 2, 3],\n",
       "        [4, 5, 6, 7]]),\n",
       " array([[ 8,  9, 10, 11],\n",
       "        [12, 13, 14, 15]]),\n",
       " array([[ 0,  1],\n",
       "        [ 4,  5],\n",
       "        [ 8,  9],\n",
       "        [12, 13]]),\n",
       " array([[ 2,  3],\n",
       "        [ 6,  7],\n",
       "        [10, 11],\n",
       "        [14, 15]]))"
      ]
     },
     "execution_count": 73,
     "metadata": {},
     "output_type": "execute_result"
    }
   ],
   "source": [
    "x = [1, 2, 3, 99, 99, 3, 2, 1]\n",
    "x1, x2, x3 = np.split(x, [3, 5])\n",
    "print(x1, x2, x3)\n",
    "\n",
    "# 要使用hsplit, vsplit 需要np.arry对象，应该要用到ndim等属性\n",
    "np.hsplit(np.array(x), [3])\n",
    "\n",
    "# 多维\n",
    "grid = np.arange(16).reshape((4, 4))\n",
    "upper, lower = np.vsplit(grid, [2])\n",
    "left,  right = np.hsplit(grid, [2])\n",
    "\n",
    "upper, lower, left, right"
   ]
  },
  {
   "cell_type": "markdown",
   "id": "social-coast",
   "metadata": {},
   "source": [
    "> 记住`hsplit`, `vsplit`传参是`[n]`而不是`n`就好了"
   ]
  },
  {
   "cell_type": "code",
   "execution_count": 46,
   "id": "knowing-dietary",
   "metadata": {},
   "outputs": [
    {
     "data": {
      "text/plain": [
       "array([[[[1, 1, 1, 1],\n",
       "         [1, 1, 1, 1],\n",
       "         [1, 1, 1, 1],\n",
       "         [1, 1, 1, 1]],\n",
       "\n",
       "        [[1, 1, 1, 1],\n",
       "         [1, 1, 1, 1],\n",
       "         [1, 1, 1, 1],\n",
       "         [1, 1, 1, 1]]]])"
      ]
     },
     "execution_count": 46,
     "metadata": {},
     "output_type": "execute_result"
    }
   ],
   "source": [
    "d1211 = np.ones((1,2,1,1),np.int)\n",
    "d244 + d1211"
   ]
  },
  {
   "cell_type": "markdown",
   "id": "signed-stack",
   "metadata": {},
   "source": [
    "## 索引和切片练习\n",
    "\n",
    "`...`是几维切片的简写，展开的时候要展开几维取决于它写的位置"
   ]
  },
  {
   "cell_type": "code",
   "execution_count": 103,
   "id": "dressed-wellington",
   "metadata": {},
   "outputs": [
    {
     "data": {
      "text/plain": [
       "(array([[[ 1,  2,  3],\n",
       "         [ 4,  5,  6],\n",
       "         [ 7,  8,  9]],\n",
       " \n",
       "        [[11, 12, 13],\n",
       "         [14, 15, 16],\n",
       "         [17, 18, 19]]]),\n",
       " array([[[ 1,  2,  3],\n",
       "         [ 4,  5,  6],\n",
       "         [ 7,  8,  9]],\n",
       " \n",
       "        [[11, 12, 13],\n",
       "         [14, 15, 16],\n",
       "         [17, 18, 19]]]),\n",
       " array([[[ 1,  2,  3],\n",
       "         [ 4,  5,  6],\n",
       "         [ 7,  8,  9]],\n",
       " \n",
       "        [[11, 12, 13],\n",
       "         [14, 15, 16],\n",
       "         [17, 18, 19]]]),\n",
       " array([[[ 1,  2,  3],\n",
       "         [ 4,  5,  6],\n",
       "         [ 7,  8,  9]],\n",
       " \n",
       "        [[11, 12, 13],\n",
       "         [14, 15, 16],\n",
       "         [17, 18, 19]]]),\n",
       " array([[[ 1,  2,  3],\n",
       "         [ 4,  5,  6],\n",
       "         [ 7,  8,  9]],\n",
       " \n",
       "        [[11, 12, 13],\n",
       "         [14, 15, 16],\n",
       "         [17, 18, 19]]]))"
      ]
     },
     "execution_count": 103,
     "metadata": {},
     "output_type": "execute_result"
    }
   ],
   "source": [
    "a = np.array([[[1,2,3],[4,5,6],[7,8,9]],[[11,12,13],[14,15,16],[17,18,19]]])\n",
    "a[:], a[::], a[...], a[...,::], a[...,::,::]\n",
    "\n",
    "# 可见三维数组的话，...后面再组两次都会合理展开"
   ]
  },
  {
   "cell_type": "code",
   "execution_count": 104,
   "id": "chief-helping",
   "metadata": {},
   "outputs": [
    {
     "data": {
      "text/plain": [
       "(array([[ 2,  5,  8],\n",
       "        [12, 15, 18]]),\n",
       " array([[ 2,  5,  8],\n",
       "        [12, 15, 18]]),\n",
       " array([[ 2,  5,  8],\n",
       "        [12, 15, 18]]))"
      ]
     },
     "execution_count": 104,
     "metadata": {},
     "output_type": "execute_result"
    }
   ],
   "source": [
    "# 取第二列， 此时后面还有1维，所以自动展开了两维\n",
    "# :和::意思是一样的，并不是取一层还是两层\n",
    "# 而是加不加步长的区别\n",
    "\n",
    "a[:,:, 1], a[::,::,1], a[...,1]"
   ]
  },
  {
   "cell_type": "code",
   "execution_count": 46,
   "id": "alone-pearl",
   "metadata": {},
   "outputs": [
    {
     "data": {
      "text/plain": [
       "(array([[[ 3,  2,  1],\n",
       "         [ 6,  5,  4],\n",
       "         [ 9,  8,  7]],\n",
       " \n",
       "        [[13, 12, 11],\n",
       "         [16, 15, 14],\n",
       "         [19, 18, 17]]]),\n",
       " array([[[ 3,  2,  1],\n",
       "         [ 6,  5,  4],\n",
       "         [ 9,  8,  7]],\n",
       " \n",
       "        [[13, 12, 11],\n",
       "         [16, 15, 14],\n",
       "         [19, 18, 17]]]),\n",
       " array([[[ 3,  2,  1],\n",
       "         [ 6,  5,  4],\n",
       "         [ 9,  8,  7]],\n",
       " \n",
       "        [[13, 12, 11],\n",
       "         [16, 15, 14],\n",
       "         [19, 18, 17]]]))"
      ]
     },
     "execution_count": 46,
     "metadata": {},
     "output_type": "execute_result"
    }
   ],
   "source": [
    "# 最后一维反转，这通常用于图片的gbr翻转为rbg\n",
    "\n",
    "a[:,:,::-1], a[::,::,::-1],a[...,::-1]"
   ]
  },
  {
   "cell_type": "code",
   "execution_count": 105,
   "id": "greenhouse-andrew",
   "metadata": {},
   "outputs": [
    {
     "data": {
      "text/plain": [
       "(array([[[ 7,  8,  9],\n",
       "         [ 4,  5,  6],\n",
       "         [ 1,  2,  3]],\n",
       " \n",
       "        [[17, 18, 19],\n",
       "         [14, 15, 16],\n",
       "         [11, 12, 13]]]),\n",
       " array([[[ 7,  8,  9],\n",
       "         [ 4,  5,  6],\n",
       "         [ 1,  2,  3]],\n",
       " \n",
       "        [[17, 18, 19],\n",
       "         [14, 15, 16],\n",
       "         [11, 12, 13]]]),\n",
       " array([[[ 7,  8,  9],\n",
       "         [ 4,  5,  6],\n",
       "         [ 1,  2,  3]],\n",
       " \n",
       "        [[17, 18, 19],\n",
       "         [14, 15, 16],\n",
       "         [11, 12, 13]]]))"
      ]
     },
     "execution_count": 105,
     "metadata": {},
     "output_type": "execute_result"
    }
   ],
   "source": [
    "# 第一维取满，第二维倒取\n",
    "# 这在画图里能上下翻转\n",
    "# 这里...后面还有两维，所以它只展开了一维\n",
    "\n",
    "a[:,::-1], a[::,::-1], a[...,::-1,::]"
   ]
  },
  {
   "cell_type": "code",
   "execution_count": 98,
   "id": "remarkable-outreach",
   "metadata": {},
   "outputs": [
    {
     "data": {
      "text/plain": [
       "(array([[[ 9,  9,  7],\n",
       "         [ 6, 19, 19],\n",
       "         [ 3,  3,  1]],\n",
       " \n",
       "        [[19, 19, 17],\n",
       "         [16, 16, 14],\n",
       "         [13, 13, 11]]]),\n",
       " array([[[ 9,  9,  7],\n",
       "         [ 6, 19, 19],\n",
       "         [ 3,  3,  1]],\n",
       " \n",
       "        [[19, 19, 17],\n",
       "         [16, 16, 14],\n",
       "         [13, 13, 11]]]),\n",
       " array([[[ 9,  9,  7],\n",
       "         [ 6, 19, 19],\n",
       "         [ 3,  3,  1]],\n",
       " \n",
       "        [[19, 19, 17],\n",
       "         [16, 16, 14],\n",
       "         [13, 13, 11]]]))"
      ]
     },
     "execution_count": 98,
     "metadata": {},
     "output_type": "execute_result"
    }
   ],
   "source": [
    "# 两者结合即为上下打开翻转\n",
    "\n",
    "a[:,::-1, ::-1], a[::,::-1,::-1], a[...,::-1,::-1]"
   ]
  },
  {
   "cell_type": "code",
   "execution_count": 119,
   "id": "induced-button",
   "metadata": {},
   "outputs": [
    {
     "data": {
      "text/plain": [
       "(array([[ 1,  4,  7],\n",
       "        [11, 14, 17]]),\n",
       " array([[ 1,  4,  7],\n",
       "        [11, 14, 17]]),\n",
       " array([[ 1,  4,  7],\n",
       "        [11, 14, 17]]),\n",
       " array([[ 1,  2,  3],\n",
       "        [11, 12, 13]]))"
      ]
     },
     "execution_count": 119,
     "metadata": {},
     "output_type": "execute_result"
    }
   ],
   "source": [
    "# ...好像是根据写在哪一层展开的？\n",
    "a[...,::,0], a[...,0], a[::,::,0], a[::,0]"
   ]
  },
  {
   "cell_type": "code",
   "execution_count": 148,
   "id": "found-arnold",
   "metadata": {},
   "outputs": [
    {
     "data": {
      "text/plain": [
       "(array([[[ 1,  2,  3],\n",
       "         [19,  5,  6],\n",
       "         [ 7,  8,  9]],\n",
       " \n",
       "        [[11, 12, 13],\n",
       "         [14, 15, 16],\n",
       "         [17, 18, 19]]]),\n",
       " array([[ 2, 19,  8],\n",
       "        [12, 15, 18]]),\n",
       " array([[ 3,  6,  9],\n",
       "        [13, 16, 19]]),\n",
       " (2, 3, 3),\n",
       " (2, 3),\n",
       " (2, 3))"
      ]
     },
     "execution_count": 148,
     "metadata": {},
     "output_type": "execute_result"
    }
   ],
   "source": [
    "b = np.array([[[1,2,3],[4,5,6],[7,8,9]],[[11,12,13],[14,15,16],[17,18,19]]])\n",
    "b[0,1,0] = 19\n",
    "# 比较0，2两列的每一个元素，把数值较大的一个赋值给索引1列的相应位置\n",
    "c = np.fmax(b[...,0], b[...,1])#, out=b[...,2]) \n",
    "b, c, b[...,2], b.shape, c.shape, b[...,2].shape"
   ]
  },
  {
   "cell_type": "code",
   "execution_count": 146,
   "id": "differential-trout",
   "metadata": {},
   "outputs": [
    {
     "data": {
      "text/plain": [
       "(array([[[ 2],\n",
       "         [19],\n",
       "         [ 8]],\n",
       " \n",
       "        [[12],\n",
       "         [15],\n",
       "         [18]]]),\n",
       " array([[[ 2],\n",
       "         [19],\n",
       "         [ 8]],\n",
       " \n",
       "        [[12],\n",
       "         [15],\n",
       "         [18]]]),\n",
       " array([[[ 2],\n",
       "         [19],\n",
       "         [ 8]],\n",
       " \n",
       "        [[12],\n",
       "         [15],\n",
       "         [18]]]),\n",
       " array([[[ 2, 19,  8]],\n",
       " \n",
       "        [[12, 15, 18]]]))"
      ]
     },
     "execution_count": 146,
     "metadata": {},
     "output_type": "execute_result"
    }
   ],
   "source": [
    "c.copy().reshape(2,3,1), c[...,np.newaxis], c[...,None], c[...,np.newaxis,::]"
   ]
  },
  {
   "cell_type": "code",
   "execution_count": 135,
   "id": "bigger-bruce",
   "metadata": {},
   "outputs": [
    {
     "data": {
      "text/plain": [
       "array([[[0., 0., 0., 0.],\n",
       "        [0., 0., 0., 0.]],\n",
       "\n",
       "       [[0., 0., 0., 0.],\n",
       "        [0., 0., 0., 0.]]])"
      ]
     },
     "execution_count": 135,
     "metadata": {},
     "output_type": "execute_result"
    }
   ],
   "source": [
    "ccc = np.zeros((4,4))\n",
    "# 这两种reshape传参都可以\n",
    "ccc.reshape(2,2,4)\n",
    "ccc.reshape((2,2,4))"
   ]
  },
  {
   "cell_type": "code",
   "execution_count": null,
   "id": "simplified-smoke",
   "metadata": {},
   "outputs": [],
   "source": []
  }
 ],
 "metadata": {
  "kernelspec": {
   "display_name": "Python 3",
   "language": "python",
   "name": "python3"
  },
  "language_info": {
   "codemirror_mode": {
    "name": "ipython",
    "version": 3
   },
   "file_extension": ".py",
   "mimetype": "text/x-python",
   "name": "python",
   "nbconvert_exporter": "python",
   "pygments_lexer": "ipython3",
   "version": "3.7.10"
  }
 },
 "nbformat": 4,
 "nbformat_minor": 5
}
