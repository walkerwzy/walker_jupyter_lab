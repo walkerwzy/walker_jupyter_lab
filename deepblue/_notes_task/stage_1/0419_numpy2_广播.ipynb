{
 "cells": [
  {
   "cell_type": "markdown",
   "id": "atomic-marijuana",
   "metadata": {},
   "source": [
    "# numpy 广播\n",
    "\n",
    "numpy广播用于不同shape的数组相加，主要是用`numpy.tile(A, reps)`方法去叠片，把低维度的数组横向和纵向叠加成高维度的数组\n",
    "\n",
    "`reps`用一个数组表示分别横向和纵向要重复多少次\n",
    "\n",
    "```python\n",
    "a = np.array([0, 1, 2])\n",
    "np.tile(a, 2)\n",
    "array([0, 1, 2, 0, 1, 2])\n",
    "np.tile(a, (2, 2))\n",
    "array([[0, 1, 2, 0, 1, 2],\n",
    "       [0, 1, 2, 0, 1, 2]])\n",
    "np.tile(a, (2, 1, 2))\n",
    "array([[[0, 1, 2, 0, 1, 2]],\n",
    "       [[0, 1, 2, 0, 1, 2]]])\n",
    "```"
   ]
  },
  {
   "cell_type": "code",
   "execution_count": 18,
   "id": "equal-deposit",
   "metadata": {},
   "outputs": [],
   "source": [
    "d13  = np.array([1,2,3])\n",
    "d14  = np.arange(1,5)\n",
    "\n",
    "d22  = np.array([[1,2],[3,4]])\n",
    "d23  = np.array([[1,2],[3,4],[5,6]])\n",
    "d26 = np.zeros([2,6],dtype=np.int)\n",
    "\n",
    "d41  = np.array([[1],[2],[3],[4]])\n",
    "d43  = np.zeros([4,3], dtype='int')\n",
    "\n",
    "d243 = np.zeros([2,4,3], dtype='int')"
   ]
  },
  {
   "cell_type": "markdown",
   "id": "linear-lexington",
   "metadata": {},
   "source": [
    "列向量和行向量可以相加，会互相补全，不需要考虑维度\n",
    "\n",
    "- d14 + d41 补成两个4x4\n",
    "- d13 + d41 补成两个4x3"
   ]
  },
  {
   "cell_type": "code",
   "execution_count": 19,
   "id": "offensive-innocent",
   "metadata": {},
   "outputs": [
    {
     "name": "stdout",
     "output_type": "stream",
     "text": [
      "\n",
      "d41 >> 44:\n",
      "[[1 1 1 1]\n",
      " [2 2 2 2]\n",
      " [3 3 3 3]\n",
      " [4 4 4 4]]\n",
      "d14 >> 44:\n",
      "[[1 2 3 4]\n",
      " [1 2 3 4]\n",
      " [1 2 3 4]\n",
      " [1 2 3 4]]\n",
      "sum:\n",
      "[[2 3 4 5]\n",
      " [3 4 5 6]\n",
      " [4 5 6 7]\n",
      " [5 6 7 8]]\n",
      "d14+d41:\n",
      "[[2 3 4 5]\n",
      " [3 4 5 6]\n",
      " [4 5 6 7]\n",
      " [5 6 7 8]]\n",
      "\n",
      "d13+d41同理\n",
      "[[2 3 4]\n",
      " [3 4 5]\n",
      " [4 5 6]\n",
      " [5 6 7]]\n"
     ]
    }
   ],
   "source": [
    "# d41 + d14 补成两个4x4\n",
    "d41_44 = np.tile(d41, [1,4])\n",
    "d14_44 = np.tile(d14, [4,1])\n",
    "print(f'''\n",
    "d41 >> 44:\n",
    "{d41_44}\n",
    "d14 >> 44:\n",
    "{d14_44}\n",
    "sum:\n",
    "{d41_44+d14_44}\n",
    "d14+d41:\n",
    "{d41+d14}\n",
    "''')\n",
    "\n",
    "print('d13+d41同理')\n",
    "print(d13 + d41) # 补成两个4x3"
   ]
  },
  {
   "cell_type": "markdown",
   "id": "minute-meter",
   "metadata": {},
   "source": [
    "`n-d + 1-d` 需要保证列相等，而n-d与列向量相加需要保证行相等。\n",
    "\n",
    "如果是倍数关系，我本以为也会自动tile，结果没有。除非手动tile成相同维度的数组"
   ]
  },
  {
   "cell_type": "code",
   "execution_count": 20,
   "id": "complete-college",
   "metadata": {},
   "outputs": [
    {
     "name": "stdout",
     "output_type": "stream",
     "text": [
      "[[1 2 3 1 2 3]\n",
      " [1 2 3 1 2 3]]\n",
      "[[0 1 2 3 4 5]\n",
      " [0 1 2 3 4 5]]\n",
      "[[11 11 11 11 11 11]\n",
      " [12 12 12 12 12 12]]\n"
     ]
    }
   ],
   "source": [
    "##########以下都会失败##########\n",
    "# d26 + np.array([1,2,3,4]) # 4列和6列，不能相加\n",
    "# d26 + np.array([1,2,3])  # 6列和3列，也不能自动tile\n",
    "##############################\n",
    "\n",
    "# 手动扩展当然没问题，shape都一致了\n",
    "print(d26 + np.tile(d13, [2,2]))\n",
    "\n",
    "# 或者满足列数一致与行数一致的任何一条，也可以自动扩展\n",
    "print(d26 + np.arange(6))          # 都是6列 \n",
    "print(d26 + np.array([[11],[12]])) # 都是2行"
   ]
  },
  {
   "cell_type": "markdown",
   "id": "arctic-freeware",
   "metadata": {},
   "source": [
    "> 非行向量、列向量，都不是广播的范围，即如果是m行n列，且$m, n \\neq 1$，除非维度相同，否则不能相加\n",
    "\n",
    "> 单元素数组可以横向扩展和纵向扩展后相加（这个后续专门讲）"
   ]
  },
  {
   "cell_type": "markdown",
   "id": "equal-spain",
   "metadata": {},
   "source": [
    "**3d + nd**\n",
    "\n",
    "在写代码测试前，我先断个言：\n",
    "\n",
    "2x4x3的三维数组，按课程所说的4*3的数组叠两层来理解\n",
    "\n",
    "1. 与4x1的列向量能直接相加\n",
    "2. 与1x3的行向量能直接相加\n",
    "3. 与2x3这样即使列数相等，行数成倍数关系的数组，也不能相加\n",
    "4. 但与4x3的向量可以相加\n",
    "\n",
    "下面来一一测试"
   ]
  },
  {
   "cell_type": "code",
   "execution_count": 21,
   "id": "meaningful-focus",
   "metadata": {},
   "outputs": [
    {
     "name": "stdout",
     "output_type": "stream",
     "text": [
      "[[[1 1 1]\n",
      "  [2 2 2]\n",
      "  [3 3 3]\n",
      "  [4 4 4]]\n",
      "\n",
      " [[1 1 1]\n",
      "  [2 2 2]\n",
      "  [3 3 3]\n",
      "  [4 4 4]]]\n",
      "[[[1 2 3]\n",
      "  [1 2 3]\n",
      "  [1 2 3]\n",
      "  [1 2 3]]\n",
      "\n",
      " [[1 2 3]\n",
      "  [1 2 3]\n",
      "  [1 2 3]\n",
      "  [1 2 3]]]\n",
      "[[[0 0 0]\n",
      "  [0 0 0]\n",
      "  [0 0 0]\n",
      "  [0 0 0]]\n",
      "\n",
      " [[0 0 0]\n",
      "  [0 0 0]\n",
      "  [0 0 0]\n",
      "  [0 0 0]]]\n"
     ]
    }
   ],
   "source": [
    "# 4x1\n",
    "print(d243 + d41)\n",
    "print(d243 + d13)\n",
    "# print(d243 + d23)   #  >>>> 即使能tile(d23, [2,1])，也不会调用\n",
    "print(d243 + d43)"
   ]
  },
  {
   "cell_type": "code",
   "execution_count": 25,
   "id": "incoming-contractor",
   "metadata": {},
   "outputs": [
    {
     "data": {
      "text/plain": [
       "array([[[15, 15, 15],\n",
       "        [15, 15, 15],\n",
       "        [15, 15, 15],\n",
       "        [15, 15, 15]],\n",
       "\n",
       "       [[15, 15, 15],\n",
       "        [15, 15, 15],\n",
       "        [15, 15, 15],\n",
       "        [15, 15, 15]]])"
      ]
     },
     "execution_count": 25,
     "metadata": {},
     "output_type": "execute_result"
    }
   ],
   "source": [
    "s = [[15]] # 单元素可以随意相加\n",
    "d243+s"
   ]
  },
  {
   "cell_type": "code",
   "execution_count": 43,
   "id": "opening-remainder",
   "metadata": {},
   "outputs": [
    {
     "data": {
      "text/plain": [
       "array([[[1, 1, 1, 1],\n",
       "        [1, 1, 1, 1],\n",
       "        [1, 1, 1, 1],\n",
       "        [1, 1, 1, 1]],\n",
       "\n",
       "       [[1, 1, 1, 1],\n",
       "        [1, 1, 1, 1],\n",
       "        [1, 1, 1, 1],\n",
       "        [1, 1, 1, 1]]])"
      ]
     },
     "execution_count": 43,
     "metadata": {},
     "output_type": "execute_result"
    }
   ],
   "source": [
    "d244 = np.zeros((2,4,4),np.int)\n",
    "d241 = np.ones((2,4,1), np.int)\n",
    "# d244+d22 # 行列成倍数而不是有一方相等的向量不能相加\n",
    "d244 + d241 # 列向量包成三维向量仍可以相加，行向量同理\n",
    "d214 = np.ones((2,1,4), np.int)\n",
    "d244 + d241"
   ]
  },
  {
   "cell_type": "markdown",
   "id": "painful-halifax",
   "metadata": {},
   "source": [
    "不管是高维还是低维，只要有一方最里层是(1,1)即单元素为一个二维数组，\n",
    "- 低维能向高维扩展\n",
    "- 高维也能把(1,1)的里层扩展成跟低维一致的(m,n)"
   ]
  },
  {
   "cell_type": "code",
   "execution_count": 4,
   "id": "79086d07-d0ab-4125-b20b-57dbbccfe968",
   "metadata": {},
   "outputs": [
    {
     "data": {
      "text/plain": [
       "array([[0., 0., 0., 0., 0.],\n",
       "       [0., 1., 0., 1., 1.],\n",
       "       [0., 2., 0., 2., 2.]])"
      ]
     },
     "execution_count": 4,
     "metadata": {},
     "output_type": "execute_result"
    }
   ],
   "source": [
    "import numpy as np\n",
    "a = np.zeros((3,5))\n",
    "b = np.arange(3)\n",
    "a[:,1] = b                 # 索引取出最低维就变成(3,)而不是(3,1)了\n",
    "a[:,4:5] = b[...,None]     # 但是用切片来取就不会降维 [:, 4:5],而不是[:, 4], 虽然数据是同一列\n",
    "a[:,None,3] = b[...,None]  # 临时给最低维加一个np.newaxis\n",
    "a"
   ]
  },
  {
   "cell_type": "code",
   "execution_count": null,
   "id": "e0cdf9e5-c973-474e-92cc-e889fef17581",
   "metadata": {},
   "outputs": [],
   "source": []
  }
 ],
 "metadata": {
  "kernelspec": {
   "display_name": "Python 3",
   "language": "python",
   "name": "python3"
  },
  "language_info": {
   "codemirror_mode": {
    "name": "ipython",
    "version": 3
   },
   "file_extension": ".py",
   "mimetype": "text/x-python",
   "name": "python",
   "nbconvert_exporter": "python",
   "pygments_lexer": "ipython3",
   "version": "3.8.5"
  }
 },
 "nbformat": 4,
 "nbformat_minor": 5
}
