{
 "cells": [
  {
   "cell_type": "markdown",
   "id": "opposite-murder",
   "metadata": {},
   "source": [
    "### 设备"
   ]
  },
  {
   "cell_type": "code",
   "execution_count": 2,
   "id": "blond-sport",
   "metadata": {},
   "outputs": [],
   "source": [
    "import torch\n",
    "a = torch.ones(3, 3)"
   ]
  },
  {
   "cell_type": "code",
   "execution_count": 5,
   "id": "express-restaurant",
   "metadata": {},
   "outputs": [
    {
     "data": {
      "text/plain": [
       "(tensor([[1., 1., 1.],\n",
       "         [1., 1., 1.],\n",
       "         [1., 1., 1.]]),\n",
       " device(type='cpu'))"
      ]
     },
     "execution_count": 5,
     "metadata": {},
     "output_type": "execute_result"
    }
   ],
   "source": [
    "a.cpu(), a.cpu().device"
   ]
  },
  {
   "cell_type": "code",
   "execution_count": 7,
   "id": "congressional-munich",
   "metadata": {},
   "outputs": [],
   "source": [
    "# a.cuda(2), a.cuda(2).device, a.cuda(\"cuda:2\"), a.cuda(\"cuda:2\").device\n",
    "# 前提是你有相关硬件和包"
   ]
  },
  {
   "cell_type": "markdown",
   "id": "multiple-missile",
   "metadata": {},
   "source": [
    "### 梯度"
   ]
  },
  {
   "cell_type": "code",
   "execution_count": 11,
   "id": "alien-restoration",
   "metadata": {},
   "outputs": [
    {
     "data": {
      "text/plain": [
       "(None, None, tensor([3., 3., 3.]))"
      ]
     },
     "execution_count": 11,
     "metadata": {},
     "output_type": "execute_result"
    }
   ],
   "source": [
    "x = torch.tensor([1.,2.,3.], requires_grad=True) # 注意要使用浮点型，因为求导过程中可能会产生小数\n",
    "y = x * 2 + x  # 显然， dy/dx = 3 ->[3, 3, 3]\n",
    "loss = y.sum()\n",
    "\n",
    "# 反向传播\n",
    "loss.backward()\n",
    "loss.grad, y.grad, x.grad"
   ]
  },
  {
   "cell_type": "markdown",
   "id": "technological-peripheral",
   "metadata": {},
   "source": [
    "如果不是整个tensor参与计算，那么只有索引出来的部分会求导"
   ]
  },
  {
   "cell_type": "code",
   "execution_count": 14,
   "id": "apart-figure",
   "metadata": {},
   "outputs": [
    {
     "data": {
      "text/plain": [
       "tensor([0., 3., 0.])"
      ]
     },
     "execution_count": 14,
     "metadata": {},
     "output_type": "execute_result"
    }
   ],
   "source": [
    "x = torch.tensor([1.,2.,3.], requires_grad=True)\n",
    "y = x[1] * 3\n",
    "y.backward()\n",
    "x.grad"
   ]
  },
  {
   "cell_type": "markdown",
   "id": "expressed-reference",
   "metadata": {},
   "source": [
    "### ReLU\n",
    "\n",
    "$\n",
    "ReLU(x) = \n",
    "\\begin{cases}\n",
    "x, & x\\gt0 \\\\\n",
    "0, & x\\lt0\n",
    "\\end{cases}\n",
    "$\n",
    "\n",
    "对ReLU求导怎么求？其实就是拆成两个式子：\n",
    "\n",
    "$\n",
    "\\begin{cases}\n",
    "    f(x) = x, & x\\gt0 \\\\\n",
    "    f(x) = 0, & x\\lt0\n",
    "\\end{cases}\n",
    "\\Rightarrow\n",
    "\\frac{\\partial f}{\\partial x} =\n",
    "\\begin{cases}\n",
    "    x' = 1 \\\\\n",
    "    0' = 0\n",
    "\\end{cases}\n",
    "$ \n",
    "\n",
    "在BP中，带上上层的导数g，往往就成了g和0"
   ]
  },
  {
   "cell_type": "code",
   "execution_count": 16,
   "id": "contrary-stanley",
   "metadata": {},
   "outputs": [
    {
     "data": {
      "text/plain": [
       "tensor([0., 0., 1.])"
      ]
     },
     "execution_count": 16,
     "metadata": {},
     "output_type": "execute_result"
    }
   ],
   "source": [
    "x = torch.tensor([-1.,-2.,3.], requires_grad=True)\n",
    "y = x[x>0].sum()\n",
    "y.backward()\n",
    "x.grad"
   ]
  },
  {
   "cell_type": "markdown",
   "id": "pointed-nowhere",
   "metadata": {},
   "source": [
    "### detach\n",
    "\n",
    "detach过的参数就成了常量，不参与求导"
   ]
  },
  {
   "cell_type": "code",
   "execution_count": 3,
   "id": "subject-stanley",
   "metadata": {},
   "outputs": [
    {
     "name": "stdout",
     "output_type": "stream",
     "text": [
      "x.grad is tensor([1., 1., 1.]) , x.requires_grad = True\n"
     ]
    }
   ],
   "source": [
    "x = torch.tensor([1., 2., 3.], requires_grad=True)\n",
    "dx = x.detach()\n",
    "y = dx * 2 + x  # dx 不参与求导\n",
    "loss = y.sum()\n",
    "loss.backward()\n",
    "print(\"x.grad is\", x.grad, \", x.requires_grad =\", x.requires_grad)"
   ]
  },
  {
   "cell_type": "code",
   "execution_count": 4,
   "id": "removed-litigation",
   "metadata": {},
   "outputs": [
    {
     "name": "stdout",
     "output_type": "stream",
     "text": [
      "x.grad is None , x.requires_grad = False\n"
     ]
    }
   ],
   "source": [
    "x = torch.tensor([1., 2., 3.], requires_grad=True)\n",
    "y = x * 2 + x\n",
    "loss = y.sum()\n",
    "x.detach_()   # inplace，此时x被修改，此时x的requires_grad=False\n",
    "loss.backward()\n",
    "print(\"x.grad is\", x.grad, \", x.requires_grad =\", x.requires_grad)"
   ]
  },
  {
   "cell_type": "code",
   "execution_count": 5,
   "id": "descending-finish",
   "metadata": {},
   "outputs": [
    {
     "name": "stdout",
     "output_type": "stream",
     "text": [
      "a.is_cuda = False\n",
      "a.device = cpu\n",
      "a.grad = None\n",
      "a.ndim = 3\n",
      "a.dim() = 3\n",
      "a.ndimension() = 3\n",
      "a.numel() = 8\n",
      "a.nelement() = 8\n",
      "a.element_size() = 4\n"
     ]
    }
   ],
   "source": [
    "a = torch.zeros(2, 2, 2, device=\"cpu\")   # 创建全0 FloatTensor，具有2x2x2维度\n",
    "print(\"a.is_cuda =\", a.is_cuda)          # 判断tensor是否在cuda上，也就是gpu上\n",
    "print(\"a.device =\", a.device)            # 获取tensor所在的设备 \n",
    "print(\"a.grad =\", a.grad)                # 获取tensor的梯度，没有梯度则为None\n",
    "print(\"a.ndim =\", a.ndim)                # 获取tensor的维度数\n",
    "print(\"a.dim() =\", a.dim())              # 同ndim一样，获取维度数\n",
    "print(\"a.ndimension() =\", a.ndimension())# 同ndim一样，获取维度数\n",
    "print(\"a.numel() =\", a.numel())          # 获取tensor的元素数，其实是每个维度相乘\n",
    "print(\"a.nelement() =\", a.nelement())    # 获取tensor的元素数，同numel()\n",
    "print(\"a.element_size() =\", a.element_size())   # 获取元素的大小，Byte为单位，指的是单位元素大小，因为是float，所以是4字节"
   ]
  },
  {
   "cell_type": "code",
   "execution_count": 11,
   "id": "roman-parent",
   "metadata": {},
   "outputs": [
    {
     "data": {
      "text/plain": [
       "(tensor([[0, 3, 6],\n",
       "         [1, 4, 7],\n",
       "         [2, 5, 8]]),\n",
       " tensor([[0, 3, 6],\n",
       "         [1, 4, 7],\n",
       "         [2, 5, 8]]))"
      ]
     },
     "execution_count": 11,
     "metadata": {},
     "output_type": "execute_result"
    }
   ],
   "source": [
    "a = torch.arange(9).view(3, 3)\n",
    "a.t(), a.T   # 就如同a.shape, a.size(), 一个属性，一个方法"
   ]
  },
  {
   "cell_type": "markdown",
   "id": "loaded-prevention",
   "metadata": {},
   "source": [
    "### 扩展，复制\n",
    "\n",
    "tensor with singleton dimensions expanded to a larger size.\n",
    "只能扩展向量，不能扩展矩阵\n",
    "横向量竖扩展，竖向量横扩展\n",
    "\n",
    "`size`也可以用别的tensor对象传进去，用`expand_as`方法会读入参的形状"
   ]
  },
  {
   "cell_type": "code",
   "execution_count": 39,
   "id": "driven-apparel",
   "metadata": {},
   "outputs": [],
   "source": [
    "# a = torch.tensor([[1],[2],[3]])\n",
    "a = torch.tensor([1,2,3])\n",
    "a.expand(5, 3)   # 可以，竖向叠\n",
    "a.expand(3)      # 可以，不变\n",
    "# a.expand(6)    # 不可以，等于不能横向叠？\n",
    "\n",
    "b = torch.tensor([[1],[2],[3]])\n",
    "b.expand(3,3)    # 可以，横向叠至少要原向量本身有两个维度\n",
    "# b.expand(6,1)  # 又不可以了，等于横向量不能横叠，竖向量不能竖叠\n",
    "\n",
    "c = torch.ones(2, 3)\n",
    "# c.expand(4, 3)  # 不可以\n",
    "# c.expand(2, 6)  # 不可以  所以只能拼向量？\n",
    "\n"
   ]
  },
  {
   "cell_type": "markdown",
   "id": "increased-halloween",
   "metadata": {},
   "source": [
    "### 设备\n",
    "\n",
    "```python\n",
    "a.cpu(), a.device   => device(type='cpu')\n",
    "a.cuda(2), a.device => device(type='cuda', index=2)\n",
    "a.cuda('cuda:2')    => just like above\n",
    "a.to('cuda:2')      => 设备间复制\n",
    "a.cuda(2)           => 同上\n",
    "\n",
    "# 设置默认的GPU ID\n",
    "torch.cuda.set_device(2)\n",
    "a = torch.tensor([1,2], device=torch.device('cuda'))\n",
    "\n",
    "```"
   ]
  },
  {
   "cell_type": "code",
   "execution_count": 40,
   "id": "peripheral-astrology",
   "metadata": {},
   "outputs": [
    {
     "data": {
      "text/plain": [
       "0"
      ]
     },
     "execution_count": 40,
     "metadata": {},
     "output_type": "execute_result"
    }
   ],
   "source": [
    "torch.cuda.device_count()"
   ]
  },
  {
   "cell_type": "code",
   "execution_count": 41,
   "id": "lonely-hebrew",
   "metadata": {},
   "outputs": [
    {
     "ename": "AssertionError",
     "evalue": "Torch not compiled with CUDA enabled",
     "output_type": "error",
     "traceback": [
      "\u001b[0;31m---------------------------------------------------------------------------\u001b[0m",
      "\u001b[0;31mAssertionError\u001b[0m                            Traceback (most recent call last)",
      "\u001b[0;32m<ipython-input-41-e24b3fcd2885>\u001b[0m in \u001b[0;36m<module>\u001b[0;34m\u001b[0m\n\u001b[0;32m----> 1\u001b[0;31m \u001b[0mtorch\u001b[0m\u001b[0;34m.\u001b[0m\u001b[0mdevice\u001b[0m\u001b[0;34m(\u001b[0m\u001b[0;34m'cpu'\u001b[0m\u001b[0;34m)\u001b[0m\u001b[0;34m,\u001b[0m \u001b[0mtorch\u001b[0m\u001b[0;34m.\u001b[0m\u001b[0mcuda\u001b[0m\u001b[0;34m.\u001b[0m\u001b[0mdevice\u001b[0m\u001b[0;34m(\u001b[0m\u001b[0;34m'cuda'\u001b[0m\u001b[0;34m)\u001b[0m\u001b[0;34m,\u001b[0m \u001b[0mtorch\u001b[0m\u001b[0;34m.\u001b[0m\u001b[0mcuda\u001b[0m\u001b[0;34m.\u001b[0m\u001b[0mdevice\u001b[0m\u001b[0;34m(\u001b[0m\u001b[0;34m'cuda:1'\u001b[0m\u001b[0;34m)\u001b[0m\u001b[0;34m\u001b[0m\u001b[0;34m\u001b[0m\u001b[0m\n\u001b[0m",
      "\u001b[0;32m~/opt/anaconda3/envs/cv/lib/python3.7/site-packages/torch/cuda/__init__.py\u001b[0m in \u001b[0;36m__init__\u001b[0;34m(self, device)\u001b[0m\n\u001b[1;32m    199\u001b[0m \u001b[0;34m\u001b[0m\u001b[0m\n\u001b[1;32m    200\u001b[0m     \u001b[0;32mdef\u001b[0m \u001b[0m__init__\u001b[0m\u001b[0;34m(\u001b[0m\u001b[0mself\u001b[0m\u001b[0;34m,\u001b[0m \u001b[0mdevice\u001b[0m\u001b[0;34m)\u001b[0m\u001b[0;34m:\u001b[0m\u001b[0;34m\u001b[0m\u001b[0;34m\u001b[0m\u001b[0m\n\u001b[0;32m--> 201\u001b[0;31m         \u001b[0mself\u001b[0m\u001b[0;34m.\u001b[0m\u001b[0midx\u001b[0m \u001b[0;34m=\u001b[0m \u001b[0m_get_device_index\u001b[0m\u001b[0;34m(\u001b[0m\u001b[0mdevice\u001b[0m\u001b[0;34m,\u001b[0m \u001b[0moptional\u001b[0m\u001b[0;34m=\u001b[0m\u001b[0;32mTrue\u001b[0m\u001b[0;34m)\u001b[0m\u001b[0;34m\u001b[0m\u001b[0;34m\u001b[0m\u001b[0m\n\u001b[0m\u001b[1;32m    202\u001b[0m         \u001b[0mself\u001b[0m\u001b[0;34m.\u001b[0m\u001b[0mprev_idx\u001b[0m \u001b[0;34m=\u001b[0m \u001b[0;34m-\u001b[0m\u001b[0;36m1\u001b[0m\u001b[0;34m\u001b[0m\u001b[0;34m\u001b[0m\u001b[0m\n\u001b[1;32m    203\u001b[0m \u001b[0;34m\u001b[0m\u001b[0m\n",
      "\u001b[0;32m~/opt/anaconda3/envs/cv/lib/python3.7/site-packages/torch/cuda/_utils.py\u001b[0m in \u001b[0;36m_get_device_index\u001b[0;34m(device, optional)\u001b[0m\n\u001b[1;32m     29\u001b[0m         \u001b[0;32mif\u001b[0m \u001b[0moptional\u001b[0m\u001b[0;34m:\u001b[0m\u001b[0;34m\u001b[0m\u001b[0;34m\u001b[0m\u001b[0m\n\u001b[1;32m     30\u001b[0m             \u001b[0;31m# default cuda device index\u001b[0m\u001b[0;34m\u001b[0m\u001b[0;34m\u001b[0m\u001b[0;34m\u001b[0m\u001b[0m\n\u001b[0;32m---> 31\u001b[0;31m             \u001b[0;32mreturn\u001b[0m \u001b[0mtorch\u001b[0m\u001b[0;34m.\u001b[0m\u001b[0mcuda\u001b[0m\u001b[0;34m.\u001b[0m\u001b[0mcurrent_device\u001b[0m\u001b[0;34m(\u001b[0m\u001b[0;34m)\u001b[0m\u001b[0;34m\u001b[0m\u001b[0;34m\u001b[0m\u001b[0m\n\u001b[0m\u001b[1;32m     32\u001b[0m         \u001b[0;32melse\u001b[0m\u001b[0;34m:\u001b[0m\u001b[0;34m\u001b[0m\u001b[0;34m\u001b[0m\u001b[0m\n\u001b[1;32m     33\u001b[0m             raise ValueError('Expected a cuda device with a specified index '\n",
      "\u001b[0;32m~/opt/anaconda3/envs/cv/lib/python3.7/site-packages/torch/cuda/__init__.py\u001b[0m in \u001b[0;36mcurrent_device\u001b[0;34m()\u001b[0m\n\u001b[1;32m    328\u001b[0m \u001b[0;32mdef\u001b[0m \u001b[0mcurrent_device\u001b[0m\u001b[0;34m(\u001b[0m\u001b[0;34m)\u001b[0m\u001b[0;34m:\u001b[0m\u001b[0;34m\u001b[0m\u001b[0;34m\u001b[0m\u001b[0m\n\u001b[1;32m    329\u001b[0m     \u001b[0;34mr\"\"\"Returns the index of a currently selected device.\"\"\"\u001b[0m\u001b[0;34m\u001b[0m\u001b[0;34m\u001b[0m\u001b[0m\n\u001b[0;32m--> 330\u001b[0;31m     \u001b[0m_lazy_init\u001b[0m\u001b[0;34m(\u001b[0m\u001b[0;34m)\u001b[0m\u001b[0;34m\u001b[0m\u001b[0;34m\u001b[0m\u001b[0m\n\u001b[0m\u001b[1;32m    331\u001b[0m     \u001b[0;32mreturn\u001b[0m \u001b[0mtorch\u001b[0m\u001b[0;34m.\u001b[0m\u001b[0m_C\u001b[0m\u001b[0;34m.\u001b[0m\u001b[0m_cuda_getDevice\u001b[0m\u001b[0;34m(\u001b[0m\u001b[0;34m)\u001b[0m\u001b[0;34m\u001b[0m\u001b[0;34m\u001b[0m\u001b[0m\n\u001b[1;32m    332\u001b[0m \u001b[0;34m\u001b[0m\u001b[0m\n",
      "\u001b[0;32m~/opt/anaconda3/envs/cv/lib/python3.7/site-packages/torch/cuda/__init__.py\u001b[0m in \u001b[0;36m_lazy_init\u001b[0;34m()\u001b[0m\n\u001b[1;32m    147\u001b[0m             raise RuntimeError(\n\u001b[1;32m    148\u001b[0m                 \"Cannot re-initialize CUDA in forked subprocess. \" + msg)\n\u001b[0;32m--> 149\u001b[0;31m         \u001b[0m_check_driver\u001b[0m\u001b[0;34m(\u001b[0m\u001b[0;34m)\u001b[0m\u001b[0;34m\u001b[0m\u001b[0;34m\u001b[0m\u001b[0m\n\u001b[0m\u001b[1;32m    150\u001b[0m         \u001b[0;32mif\u001b[0m \u001b[0m_cudart\u001b[0m \u001b[0;32mis\u001b[0m \u001b[0;32mNone\u001b[0m\u001b[0;34m:\u001b[0m\u001b[0;34m\u001b[0m\u001b[0;34m\u001b[0m\u001b[0m\n\u001b[1;32m    151\u001b[0m             raise AssertionError(\n",
      "\u001b[0;32m~/opt/anaconda3/envs/cv/lib/python3.7/site-packages/torch/cuda/__init__.py\u001b[0m in \u001b[0;36m_check_driver\u001b[0;34m()\u001b[0m\n\u001b[1;32m     45\u001b[0m \u001b[0;32mdef\u001b[0m \u001b[0m_check_driver\u001b[0m\u001b[0;34m(\u001b[0m\u001b[0;34m)\u001b[0m\u001b[0;34m:\u001b[0m\u001b[0;34m\u001b[0m\u001b[0;34m\u001b[0m\u001b[0m\n\u001b[1;32m     46\u001b[0m     \u001b[0;32mif\u001b[0m \u001b[0;32mnot\u001b[0m \u001b[0mhasattr\u001b[0m\u001b[0;34m(\u001b[0m\u001b[0mtorch\u001b[0m\u001b[0;34m.\u001b[0m\u001b[0m_C\u001b[0m\u001b[0;34m,\u001b[0m \u001b[0;34m'_cuda_isDriverSufficient'\u001b[0m\u001b[0;34m)\u001b[0m\u001b[0;34m:\u001b[0m\u001b[0;34m\u001b[0m\u001b[0;34m\u001b[0m\u001b[0m\n\u001b[0;32m---> 47\u001b[0;31m         \u001b[0;32mraise\u001b[0m \u001b[0mAssertionError\u001b[0m\u001b[0;34m(\u001b[0m\u001b[0;34m\"Torch not compiled with CUDA enabled\"\u001b[0m\u001b[0;34m)\u001b[0m\u001b[0;34m\u001b[0m\u001b[0;34m\u001b[0m\u001b[0m\n\u001b[0m\u001b[1;32m     48\u001b[0m     \u001b[0;32mif\u001b[0m \u001b[0;32mnot\u001b[0m \u001b[0mtorch\u001b[0m\u001b[0;34m.\u001b[0m\u001b[0m_C\u001b[0m\u001b[0;34m.\u001b[0m\u001b[0m_cuda_isDriverSufficient\u001b[0m\u001b[0;34m(\u001b[0m\u001b[0;34m)\u001b[0m\u001b[0;34m:\u001b[0m\u001b[0;34m\u001b[0m\u001b[0;34m\u001b[0m\u001b[0m\n\u001b[1;32m     49\u001b[0m         \u001b[0;32mif\u001b[0m \u001b[0mtorch\u001b[0m\u001b[0;34m.\u001b[0m\u001b[0m_C\u001b[0m\u001b[0;34m.\u001b[0m\u001b[0m_cuda_getDriverVersion\u001b[0m\u001b[0;34m(\u001b[0m\u001b[0;34m)\u001b[0m \u001b[0;34m==\u001b[0m \u001b[0;36m0\u001b[0m\u001b[0;34m:\u001b[0m\u001b[0;34m\u001b[0m\u001b[0;34m\u001b[0m\u001b[0m\n",
      "\u001b[0;31mAssertionError\u001b[0m: Torch not compiled with CUDA enabled"
     ]
    }
   ],
   "source": [
    "torch.device('cpu'), torch.cuda.device('cuda'), torch.cuda.device('cuda:1')"
   ]
  },
  {
   "cell_type": "code",
   "execution_count": null,
   "id": "popular-aruba",
   "metadata": {},
   "outputs": [],
   "source": []
  }
 ],
 "metadata": {
  "kernelspec": {
   "display_name": "Python 3",
   "language": "python",
   "name": "python3"
  },
  "language_info": {
   "codemirror_mode": {
    "name": "ipython",
    "version": 3
   },
   "file_extension": ".py",
   "mimetype": "text/x-python",
   "name": "python",
   "nbconvert_exporter": "python",
   "pygments_lexer": "ipython3",
   "version": "3.7.10"
  }
 },
 "nbformat": 4,
 "nbformat_minor": 5
}
