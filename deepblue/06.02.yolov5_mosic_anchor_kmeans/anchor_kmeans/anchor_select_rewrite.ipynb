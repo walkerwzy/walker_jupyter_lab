{
 "cells": [
  {
   "cell_type": "code",
   "execution_count": 1,
   "metadata": {},
   "outputs": [],
   "source": [
    "import json\n",
    "import numpy as np\n",
    "import torch\n",
    "from scipy.cluster.vq import kmeans\n",
    "from tqdm import tqdm\n",
    "import random"
   ]
  },
  {
   "cell_type": "code",
   "execution_count": 2,
   "metadata": {},
   "outputs": [],
   "source": [
    "with open(\"info.json\", \"r\") as f:\n",
    "    labels = np.array(json.load(f))"
   ]
  },
  {
   "cell_type": "code",
   "execution_count": 3,
   "metadata": {},
   "outputs": [
    {
     "data": {
      "text/plain": [
       "array([[8.00000000e+00, 5.87000012e-01, 7.33333349e-01, 1.23999998e-01,\n",
       "        3.44000012e-01, 5.00000000e+02, 3.75000000e+02],\n",
       "       [8.00000000e+00, 4.18000013e-01, 8.47999990e-01, 1.78000003e-01,\n",
       "        2.90666670e-01, 5.00000000e+02, 3.75000000e+02]])"
      ]
     },
     "execution_count": 3,
     "metadata": {},
     "output_type": "execute_result"
    }
   ],
   "source": [
    "labels[:2]  # label_index, cx, cy, bwidth, bheight, imagewidth, imageheight"
   ]
  },
  {
   "cell_type": "code",
   "execution_count": 4,
   "metadata": {},
   "outputs": [],
   "source": [
    "image_size = 640"
   ]
  },
  {
   "cell_type": "code",
   "execution_count": 5,
   "metadata": {},
   "outputs": [],
   "source": [
    "labeld_image_width_height = labels[:, [5, 6]]"
   ]
  },
  {
   "cell_type": "code",
   "execution_count": 6,
   "metadata": {},
   "outputs": [
    {
     "data": {
      "text/plain": [
       "(15662, 2)"
      ]
     },
     "execution_count": 6,
     "metadata": {},
     "output_type": "execute_result"
    }
   ],
   "source": [
    "labeld_image_width_height.shape"
   ]
  },
  {
   "cell_type": "code",
   "execution_count": 7,
   "metadata": {},
   "outputs": [
    {
     "data": {
      "text/plain": [
       "(15662,)"
      ]
     },
     "execution_count": 7,
     "metadata": {},
     "output_type": "execute_result"
    }
   ],
   "source": [
    "labeld_image_width_height[:, 0].shape  # 是多少？"
   ]
  },
  {
   "cell_type": "code",
   "execution_count": 8,
   "metadata": {},
   "outputs": [
    {
     "data": {
      "text/plain": [
       "(15662, 1)"
      ]
     },
     "execution_count": 8,
     "metadata": {},
     "output_type": "execute_result"
    }
   ],
   "source": [
    "labeld_image_width_height[:, [0]].shape  # 是多少？"
   ]
  },
  {
   "cell_type": "markdown",
   "metadata": {},
   "source": [
    "### 这句话做了过后，得到的std_image_width_height，里面长边就是640了（也就是image_size）"
   ]
  },
  {
   "cell_type": "code",
   "execution_count": 10,
   "metadata": {},
   "outputs": [
    {
     "data": {
      "text/plain": [
       "(array([500., 375.]), array([640., 480.]))"
      ]
     },
     "execution_count": 10,
     "metadata": {},
     "output_type": "execute_result"
    }
   ],
   "source": [
    "labeld_image_max_line = labeld_image_width_height.max(axis=1, keepdims=True)\n",
    "std_image_width_height = image_size * labeld_image_width_height / labeld_image_max_line\n",
    "labeld_image_width_height[0], std_image_width_height[0]"
   ]
  },
  {
   "cell_type": "code",
   "execution_count": 14,
   "metadata": {},
   "outputs": [],
   "source": [
    "std_box_wh = std_image_width_height * labels[:, [3, 4]]"
   ]
  },
  {
   "cell_type": "code",
   "execution_count": 15,
   "metadata": {},
   "outputs": [
    {
     "data": {
      "text/plain": [
       "(15662, 2)"
      ]
     },
     "execution_count": 15,
     "metadata": {},
     "output_type": "execute_result"
    }
   ],
   "source": [
    "keep_index = (std_box_wh >= 2).any(axis=1)\n",
    "keep_wh = std_box_wh[keep_index]\n",
    "keep_wh.shape"
   ]
  },
  {
   "cell_type": "code",
   "execution_count": 16,
   "metadata": {},
   "outputs": [],
   "source": [
    "num_anchor = 9   # 3(stage, level, stride=8, 16, 32) x 3(shape, wh ratio=0.5, 1.0, 2.0)"
   ]
  },
  {
   "cell_type": "code",
   "execution_count": 20,
   "metadata": {},
   "outputs": [
    {
     "data": {
      "text/plain": [
       "array([[3.04342701, 1.54575119],\n",
       "       [1.5025807 , 1.15750661],\n",
       "       [2.01987943, 3.74190682],\n",
       "       [0.53331137, 0.73968643],\n",
       "       [1.01056589, 2.31723734],\n",
       "       [3.46754357, 2.88828802],\n",
       "       [2.03268818, 2.43810222],\n",
       "       [0.65804997, 1.37093969],\n",
       "       [0.25855089, 0.33852129]])"
      ]
     },
     "execution_count": 20,
     "metadata": {},
     "output_type": "execute_result"
    }
   ],
   "source": [
    "keep_wh_std = keep_wh.std(0)\n",
    "whiten_wh = keep_wh / keep_wh_std\n",
    "k, a = kmeans(whiten_wh, num_anchor, iter=30)\n",
    "k"
   ]
  },
  {
   "cell_type": "code",
   "execution_count": 21,
   "metadata": {},
   "outputs": [
    {
     "data": {
      "text/plain": [
       "array([[ 41.86714518,  46.55312883],\n",
       "       [ 86.35910868, 101.72098018],\n",
       "       [106.55802903, 188.53033281],\n",
       "       [243.3128871 , 159.1792172 ],\n",
       "       [163.64093154, 318.66429297],\n",
       "       [492.8221249 , 212.57024574],\n",
       "       [329.15318929, 335.28551823],\n",
       "       [327.07906841, 514.58349718],\n",
       "       [561.49931802, 397.19464499]])"
      ]
     },
     "execution_count": 21,
     "metadata": {},
     "output_type": "execute_result"
    }
   ],
   "source": [
    "new_anchor = k * keep_wh_std\n",
    "new_anchor = new_anchor[new_anchor.prod(axis=1).argsort()]  # 用面积来排序，arg形状的总是返索引\n",
    "new_anchor"
   ]
  },
  {
   "cell_type": "code",
   "execution_count": 22,
   "metadata": {},
   "outputs": [],
   "source": [
    "import torch"
   ]
  },
  {
   "cell_type": "code",
   "execution_count": 23,
   "metadata": {},
   "outputs": [],
   "source": [
    "keep_wh = torch.FloatTensor(keep_wh)\n",
    "new_anchor = torch.FloatTensor(new_anchor)"
   ]
  },
  {
   "cell_type": "markdown",
   "metadata": {},
   "source": [
    "# 分析保留条件\n",
    "- 是否保留 = max(anchor.width / obj.width, obj.width / anchor.width, anchor.height / obj.height, obj.height / anchor.height) < anchor_t，这里anchor_t = 4\n",
    "- 考虑一维度情况：\n",
    "    - 是否保留 = max(anchor / obj, obj / anchor) < anchor_t，这里anchor_t = 4"
   ]
  },
  {
   "cell_type": "code",
   "execution_count": 24,
   "metadata": {},
   "outputs": [
    {
     "data": {
      "text/plain": [
       "5.0"
      ]
     },
     "execution_count": 24,
     "metadata": {},
     "output_type": "execute_result"
    }
   ],
   "source": [
    "anchor_size = 10\n",
    "obj_size = 2\n",
    "max(anchor_size / obj_size, obj_size / anchor_size) "
   ]
  },
  {
   "cell_type": "code",
   "execution_count": 25,
   "metadata": {},
   "outputs": [
    {
     "data": {
      "text/plain": [
       "1.5"
      ]
     },
     "execution_count": 25,
     "metadata": {},
     "output_type": "execute_result"
    }
   ],
   "source": [
    "anchor_size = 3\n",
    "obj_size = 2\n",
    "max(anchor_size / obj_size, obj_size / anchor_size)"
   ]
  },
  {
   "cell_type": "markdown",
   "metadata": {},
   "source": [
    "* 结论是：10 -> 2  不满足\n",
    "* 结论是：3  -> 2  满足"
   ]
  },
  {
   "cell_type": "markdown",
   "metadata": {},
   "source": [
    "# 转换条件\n",
    "- 考虑一维度情况：\n",
    "    - 是否保留 = max(anchor / obj, obj / anchor) < anchor_t，这里anchor_t = 4\n",
    "- 转换后:\n",
    "    - 是否保留 = min(anchor / obj, obj / anchor) > 1 / anchor_t，这里anchor_t = 4"
   ]
  },
  {
   "cell_type": "code",
   "execution_count": 26,
   "metadata": {},
   "outputs": [
    {
     "data": {
      "text/plain": [
       "0.25"
      ]
     },
     "execution_count": 26,
     "metadata": {},
     "output_type": "execute_result"
    }
   ],
   "source": [
    "anchor_t = 4\n",
    "1 / anchor_t"
   ]
  },
  {
   "cell_type": "code",
   "execution_count": 27,
   "metadata": {},
   "outputs": [
    {
     "data": {
      "text/plain": [
       "0.2"
      ]
     },
     "execution_count": 27,
     "metadata": {},
     "output_type": "execute_result"
    }
   ],
   "source": [
    "anchor_size = 10\n",
    "obj_size = 2\n",
    "min(anchor_size / obj_size, obj_size / anchor_size) "
   ]
  },
  {
   "cell_type": "code",
   "execution_count": 28,
   "metadata": {},
   "outputs": [
    {
     "data": {
      "text/plain": [
       "0.6666666666666666"
      ]
     },
     "execution_count": 28,
     "metadata": {},
     "output_type": "execute_result"
    }
   ],
   "source": [
    "anchor_size = 3\n",
    "obj_size = 2\n",
    "min(anchor_size / obj_size, obj_size / anchor_size)"
   ]
  },
  {
   "cell_type": "markdown",
   "metadata": {},
   "source": [
    "* 结论是：10 -> 2  不满足\n",
    "* 结论是：3  -> 2  满足"
   ]
  },
  {
   "cell_type": "markdown",
   "metadata": {},
   "source": [
    "# 计算宽宽比，高高比"
   ]
  },
  {
   "cell_type": "code",
   "execution_count": 29,
   "metadata": {},
   "outputs": [],
   "source": [
    "#keep_wh = torch.FloatTensor(keep_wh)\n",
    "#new_anchor = torch.FloatTensor(new_anchor)\n",
    "\n",
    "#keep_wh    ->  N x 2\n",
    "#new_anchor  -> K x 2   K = 9"
   ]
  },
  {
   "cell_type": "code",
   "execution_count": 31,
   "metadata": {},
   "outputs": [
    {
     "data": {
      "text/plain": [
       "(torch.Size([15662, 1, 2]), torch.Size([1, 9, 2]))"
      ]
     },
     "execution_count": 31,
     "metadata": {},
     "output_type": "execute_result"
    }
   ],
   "source": [
    "keep_wh[:, None].shape  # ->  N x 1 x 2\n",
    "keep_wh[:, None].shape, new_anchor[None].shape  # ->  1 x K x 2"
   ]
  },
  {
   "cell_type": "code",
   "execution_count": 32,
   "metadata": {},
   "outputs": [
    {
     "data": {
      "text/plain": [
       "torch.Size([15662, 9, 2])"
      ]
     },
     "execution_count": 32,
     "metadata": {},
     "output_type": "execute_result"
    }
   ],
   "source": [
    "ratio = keep_wh[:, None] / new_anchor[None]  # N x K x 2\n",
    "ratio.shape"
   ]
  },
  {
   "cell_type": "code",
   "execution_count": 81,
   "metadata": {},
   "outputs": [],
   "source": [
    "box_div_anchor = ratio\n",
    "anchor_div_box = 1 / ratio"
   ]
  },
  {
   "cell_type": "code",
   "execution_count": 95,
   "metadata": {},
   "outputs": [],
   "source": [
    "# 1. 先把a/b, b/a里面大的数挑出来：\n",
    "merge_max = torch.max(box_div_anchor, anchor_div_box)  # 不改变数组维度，计算出几个数组里每一个相同位置的最大值\n",
    "# 2. 再把大数里面的宽宽比和高高比两个值里面更大的值挑出来\n",
    "max_ratio = merge_max.max(2)[0]  # 比较每一行里最大的值，max()返回的是元素和数组， 所以取[0]，要元素\n",
    "torch.max(box_div_anchor, anchor_div_box).shape, max_ratio.shape  # ==>（n, k, 2), (n, k)\n",
    "# 此时出来的就是每一条记录里相对9个anchor的最大的宽宽比或高高比（每1条记录有9个值）\n",
    "\n",
    "min_ratio = max_ratio.min(1)[0]  # <== 这9个框里面最贴合的那个\n",
    "# 不管是来自宽宽比还是高高比，min表示最贴合\n",
    "#（不考虑分数？大于1取最小，小于1要取最大吧？）\n",
    "# 当然不可能有比1小的“最大比例”了，因为前期已经取过max了，每一个格子上的取的都是大数/小数，显然是大于1的\n",
    "\n",
    "\n",
    "# test\n",
    "# a = torch.rand(2, 2)\n",
    "# b = torch.rand(2, 2)\n",
    "# torch.max(a, b).shape"
   ]
  },
  {
   "cell_type": "code",
   "execution_count": 102,
   "metadata": {},
   "outputs": [
    {
     "data": {
      "text/plain": [
       "tensor(0.9967)"
      ]
     },
     "execution_count": 102,
     "metadata": {},
     "output_type": "execute_result"
    }
   ],
   "source": [
    "matched_cond = min_ratio < anchor_t\n",
    "matched_cond.shape  # N x K"
   ]
  },
  {
   "cell_type": "code",
   "execution_count": 109,
   "metadata": {},
   "outputs": [
    {
     "data": {
      "text/plain": [
       "(tensor(0.9967), tensor(0.9967), tensor(0.7195))"
      ]
     },
     "execution_count": 109,
     "metadata": {},
     "output_type": "execute_result"
    }
   ],
   "source": [
    "bpr  = (max_ratio<anchor_t).any(1).float().mean() # 如果前面没有取最贴合的框，这里就要用any来找是否至少有一个满足条件的 \n",
    "bpr1 = (min_ratio<anchor_t).float().mean() # 如果已经取过了最小的框，那么 min_ratio < anchor_t 表示直接拿最小的框来跟anchor_t比，如果连它都不满足条件，那么组anchor就是可以放弃的了。两种思路\n",
    "fitness = ((1/min_ratio) / bpr).float().mean()\n",
    "bpr, bpr1, fitness\n",
    "\n",
    "# 拿着bool值去求mean，可见bpr不是返框的，是返指标的\n",
    "# 0.9967表示宽宽高高比的大值里面，至少有一个是小于anchor_t的比例（在实际代码中，如果低于99.9%，就要重新训练了 "
   ]
  },
  {
   "cell_type": "markdown",
   "metadata": {},
   "source": [
    "# 适应度指标"
   ]
  },
  {
   "cell_type": "code",
   "execution_count": 100,
   "metadata": {},
   "outputs": [
    {
     "data": {
      "text/plain": [
       "tensor(0.7119)"
      ]
     },
     "execution_count": 100,
     "metadata": {},
     "output_type": "execute_result"
    }
   ],
   "source": [
    "ratio = keep_wh[:, None] / new_anchor[None]\n",
    "box_div_anchor = ratio\n",
    "anchor_div_box = 1 / ratio\n",
    "min_ratio = torch.min(box_div_anchor, anchor_div_box).min(2)[0]\n",
    "\n",
    "# min_ratio -> N x K\n",
    "# 取每个box对9个anchor匹配度最好的那个\n",
    "min_ratio = min_ratio.max(1)[0]\n",
    "fitness = (min_ratio * (min_ratio > 1 / anchor_t)).float().mean()\n",
    "fitness"
   ]
  },
  {
   "cell_type": "code",
   "execution_count": 113,
   "metadata": {},
   "outputs": [],
   "source": [
    "def fitness(box_wh, anchor):\n",
    "    ratio = box_wh[:, None] / anchor[None]\n",
    "    box_div_anchor = ratio\n",
    "    anchor_div_box = 1 / ratio\n",
    "    min_ratio = torch.max(box_div_anchor, anchor_div_box).max(2)[0]\n",
    "\n",
    "    # min_ratio -> N x K\n",
    "    # 取每个box对9个anchor匹配度最好的那个\n",
    "    min_ratio = min_ratio.min(1)[0]\n",
    "    return ((1 / min_ratio) * (min_ratio < anchor_t).float()).mean()\n",
    "\n",
    "def bpr(box_wh, anchor):\n",
    "    ratio = box_wh[:, None] / anchor[None]\n",
    "    box_div_anchor = ratio\n",
    "    anchor_div_box = 1 / ratio\n",
    "    max_ratio = torch.max(box_div_anchor, anchor_div_box).max(2)[0]\n",
    "\n",
    "    # min_ratio -> N x K\n",
    "    # 取每个box对9个anchor匹配度最好的那个\n",
    "    min_ratio = max_ratio.min(1)[0]\n",
    "    return (min_ratio < anchor_t).float().mean()"
   ]
  },
  {
   "cell_type": "code",
   "execution_count": 114,
   "metadata": {},
   "outputs": [
    {
     "data": {
      "text/plain": [
       "tensor(0.7164)"
      ]
     },
     "execution_count": 114,
     "metadata": {},
     "output_type": "execute_result"
    }
   ],
   "source": [
    "fitness(keep_wh, new_anchor)"
   ]
  },
  {
   "cell_type": "code",
   "execution_count": 115,
   "metadata": {},
   "outputs": [
    {
     "data": {
      "text/plain": [
       "tensor(0.9967)"
      ]
     },
     "execution_count": 115,
     "metadata": {},
     "output_type": "execute_result"
    }
   ],
   "source": [
    "bpr(keep_wh, new_anchor)"
   ]
  },
  {
   "cell_type": "markdown",
   "metadata": {},
   "source": [
    "### 遗传算法\n",
    "\n",
    "- 适应度评估（fitness）\n",
    "- 突变，随机拿出几个数值，进行增加或减少"
   ]
  },
  {
   "cell_type": "code",
   "execution_count": 116,
   "metadata": {},
   "outputs": [
    {
     "name": "stdout",
     "output_type": "stream",
     "text": [
      "current fitness = 0.71640, current bpr = 0.99674\n"
     ]
    }
   ],
   "source": [
    "iter_count = 1000\n",
    "anchor_shape = new_anchor.shape\n",
    "\n",
    "current_fitness = fitness(keep_wh, new_anchor)\n",
    "current_bpr = bpr(keep_wh, new_anchor)\n",
    "print(f\"current fitness = {current_fitness:.5f}, current bpr = {current_bpr:.5f}\")"
   ]
  },
  {
   "cell_type": "code",
   "execution_count": 118,
   "metadata": {},
   "outputs": [
    {
     "name": "stderr",
     "output_type": "stream",
     "text": [
      "变异得到了: 0.74184: 100%|██████████| 1000/1000 [00:04<00:00, 203.27it/s]\n"
     ]
    }
   ],
   "source": [
    "pbar = tqdm(range(iter_count), desc=\"求解中...\")\n",
    "for _ in pbar:\n",
    "    \n",
    "    # 随机选几个anchor的值，做突变\n",
    "    mutate_coeff = torch.ones_like(new_anchor)\n",
    "    while (mutate_coeff == 1).all():\n",
    "        # 拿90%的数乘一个均匀分布再乘一个正态分布\n",
    "        # 另外10%就是0了（因为是bool值了）\n",
    "        mutate_range = (torch.rand(anchor_shape) < 0.9) * np.random.random() * torch.randn(anchor_shape)\n",
    "        # 继续操，把范围调整下，这里因为加了1，所以为0的部分就变成1了（这就是while == 1的由来，如果全是1，说明这一轮没有变过\n",
    "        mutate_coeff = (mutate_range * 0.1 + 1).clamp(0.3, 3.0)\n",
    "    \n",
    "    # 这里限了2.0，因为我们设了对2.0以下的框不感兴趣\n",
    "    mutate_anchor = (new_anchor * mutate_coeff).clamp(2.0)\n",
    "    mutate_fitness = fitness(keep_wh, mutate_anchor)\n",
    "    pbar.desc = f\"变异得到了: {current_fitness:.5f}\"\n",
    "    \n",
    "    if mutate_fitness > current_fitness:\n",
    "        current_fitness = mutate_fitness\n",
    "        new_anchor = mutate_anchor  # 如果适配度更高，则替换anchor为当前的"
   ]
  },
  {
   "cell_type": "code",
   "execution_count": 119,
   "metadata": {},
   "outputs": [
    {
     "data": {
      "text/plain": [
       "tensor(0.9997)"
      ]
     },
     "execution_count": 119,
     "metadata": {},
     "output_type": "execute_result"
    }
   ],
   "source": [
    "bpr(keep_wh, new_anchor)"
   ]
  },
  {
   "cell_type": "code",
   "execution_count": 120,
   "metadata": {},
   "outputs": [
    {
     "data": {
      "text/plain": [
       "tensor(0.7418)"
      ]
     },
     "execution_count": 120,
     "metadata": {},
     "output_type": "execute_result"
    }
   ],
   "source": [
    "current_fitness"
   ]
  },
  {
   "cell_type": "code",
   "execution_count": 121,
   "metadata": {},
   "outputs": [
    {
     "data": {
      "text/plain": [
       "tensor([[ 25.5119,  38.2884],\n",
       "        [ 49.2631,  56.2926],\n",
       "        [ 54.5022, 129.4706],\n",
       "        [103.6827,  79.3115],\n",
       "        [120.0293, 157.0993],\n",
       "        [148.7720, 293.6986],\n",
       "        [261.9033, 172.0917],\n",
       "        [281.1001, 368.2150],\n",
       "        [506.8087, 350.5019]])"
      ]
     },
     "execution_count": 121,
     "metadata": {},
     "output_type": "execute_result"
    }
   ],
   "source": [
    "new_anchor[new_anchor.prod(1).argsort()]"
   ]
  },
  {
   "cell_type": "code",
   "execution_count": null,
   "metadata": {},
   "outputs": [],
   "source": []
  }
 ],
 "metadata": {
  "kernelspec": {
   "display_name": "Python 3",
   "language": "python",
   "name": "python3"
  },
  "language_info": {
   "codemirror_mode": {
    "name": "ipython",
    "version": 3
   },
   "file_extension": ".py",
   "mimetype": "text/x-python",
   "name": "python",
   "nbconvert_exporter": "python",
   "pygments_lexer": "ipython3",
   "version": "3.8.5"
  }
 },
 "nbformat": 4,
 "nbformat_minor": 4
}
