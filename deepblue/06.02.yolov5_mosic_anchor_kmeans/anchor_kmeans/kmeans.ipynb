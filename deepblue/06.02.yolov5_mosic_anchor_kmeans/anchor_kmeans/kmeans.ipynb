{
 "cells": [
  {
   "cell_type": "markdown",
   "metadata": {},
   "source": [
    "# KMeans\n",
    "- 一种无监督的聚类算法，k中心聚类"
   ]
  },
  {
   "cell_type": "code",
   "execution_count": 1,
   "metadata": {},
   "outputs": [],
   "source": [
    "from scipy.cluster.vq import whiten\n",
    "from scipy.cluster.vq import kmeans\n",
    "import numpy as np\n",
    "import matplotlib.pyplot as plt"
   ]
  },
  {
   "cell_type": "code",
   "execution_count": 2,
   "metadata": {},
   "outputs": [],
   "source": [
    "obs = np.array([\n",
    "    [1, 5],\n",
    "    [3, 7],\n",
    "    [5, 10],\n",
    "    [7, 7],\n",
    "    [10, 5],\n",
    "    [7, 3],\n",
    "    [5, 1],\n",
    "    [3, 3]\n",
    "])\n",
    "obs[:, 1] *= 10"
   ]
  },
  {
   "cell_type": "code",
   "execution_count": 3,
   "metadata": {},
   "outputs": [
    {
     "data": {
      "text/plain": [
       "[<matplotlib.lines.Line2D at 0x7f7b5ad2a710>]"
      ]
     },
     "execution_count": 3,
     "metadata": {},
     "output_type": "execute_result"
    },
    {
     "data": {
      "image/png": "[encoded data removed]",
      "text/plain": [
       "<Figure size 432x288 with 1 Axes>"
      ]
     },
     "metadata": {
      "needs_background": "light"
     },
     "output_type": "display_data"
    }
   ],
   "source": [
    "max_val = obs.max()\n",
    "plt.xlim(0, max_val)\n",
    "plt.ylim(0, max_val)\n",
    "plt.plot(obs[:, 0], obs[:, 1], \"b*\")"
   ]
  },
  {
   "cell_type": "markdown",
   "metadata": {},
   "source": [
    "### 白化是为了去特征维度之间的相关性。有PCA白化、ZCA白化。相关性衡量方式有协方差。但是在这里仅仅是除以标准差做白化，相当于是标准化。去除维度之间的量纲影响\n",
    "* 比如PCA和ZCA白化，是为了使得协方差矩阵为单位矩阵，即特征之间不相关"
   ]
  },
  {
   "cell_type": "code",
   "execution_count": 4,
   "metadata": {},
   "outputs": [
    {
     "data": {
      "text/plain": [
       "array([[0.37504578, 1.87522892],\n",
       "       [1.12513735, 2.62532049],\n",
       "       [1.87522892, 3.75045785],\n",
       "       [2.62532049, 2.62532049],\n",
       "       [3.75045785, 1.87522892],\n",
       "       [2.62532049, 1.12513735],\n",
       "       [1.87522892, 0.37504578],\n",
       "       [1.12513735, 1.12513735]])"
      ]
     },
     "execution_count": 4,
     "metadata": {},
     "output_type": "execute_result"
    }
   ],
   "source": [
    "norm_obs = obs / obs.std(0)\n",
    "norm_obs"
   ]
  },
  {
   "cell_type": "code",
   "execution_count": 5,
   "metadata": {},
   "outputs": [
    {
     "data": {
      "text/plain": [
       "[<matplotlib.lines.Line2D at 0x7f7b588ed7d0>]"
      ]
     },
     "execution_count": 5,
     "metadata": {},
     "output_type": "execute_result"
    },
    {
     "data": {
      "image/png": "[encoded data removed]",
      "text/plain": [
       "<Figure size 432x288 with 1 Axes>"
      ]
     },
     "metadata": {
      "needs_background": "light"
     },
     "output_type": "display_data"
    }
   ],
   "source": [
    "max_val = norm_obs.max()\n",
    "plt.xlim(0, max_val)\n",
    "plt.ylim(0, max_val)\n",
    "plt.plot(norm_obs[:, 0], norm_obs[:, 1], \"b*\")"
   ]
  },
  {
   "cell_type": "markdown",
   "metadata": {},
   "source": [
    "### 去除维度单位差异前，原始数据的距离计算，y的贡献太大，盖过了x的贡献。造成03距离>04距离"
   ]
  },
  {
   "cell_type": "code",
   "execution_count": 6,
   "metadata": {},
   "outputs": [
    {
     "data": {
      "text/plain": [
       "(20.8806130178211, 9.0)"
      ]
     },
     "execution_count": 6,
     "metadata": {},
     "output_type": "execute_result"
    }
   ],
   "source": [
    "np.sqrt(np.sum((obs[0] - obs[3]) ** 2)), np.sqrt(np.sum((obs[0] - obs[4]) ** 2))"
   ]
  },
  {
   "cell_type": "markdown",
   "metadata": {},
   "source": [
    "### 去除维度单位差异后，计算距离，x和y的贡献相当，03距离<04距离"
   ]
  },
  {
   "cell_type": "code",
   "execution_count": 7,
   "metadata": {},
   "outputs": [
    {
     "data": {
      "text/plain": [
       "(2.3719978133155237, 3.375412062757167)"
      ]
     },
     "execution_count": 7,
     "metadata": {},
     "output_type": "execute_result"
    }
   ],
   "source": [
    "np.sqrt(np.sum((norm_obs[0] - norm_obs[3]) ** 2)), np.sqrt(np.sum((norm_obs[0] - norm_obs[4]) ** 2))"
   ]
  },
  {
   "cell_type": "code",
   "execution_count": 8,
   "metadata": {},
   "outputs": [
    {
     "data": {
      "text/plain": [
       "array([[0.37504578, 1.87522892],\n",
       "       [1.12513735, 2.62532049],\n",
       "       [1.87522892, 3.75045785],\n",
       "       [2.62532049, 2.62532049],\n",
       "       [3.75045785, 1.87522892],\n",
       "       [2.62532049, 1.12513735],\n",
       "       [1.87522892, 0.37504578],\n",
       "       [1.12513735, 1.12513735]])"
      ]
     },
     "execution_count": 8,
     "metadata": {},
     "output_type": "execute_result"
    }
   ],
   "source": [
    "whiten(obs) "
   ]
  },
  {
   "cell_type": "markdown",
   "metadata": {},
   "source": [
    "# kmeans(obs, k_or_guess, iter=20, thresh=1e-05, check_finite=True)\n",
    "* obs，样本，格式是 M x N，每一行都是一个观察向量。每一列都是观察的特征值。调用kmean前请对数据进行白化whiten处理，去掉量纲影响\n",
    "* k_or_guess，指定为k，或者指定为M x N个质心，称之为码本(codebook)，如果指定为k整数，那么codebook就会随机从obs中选择k个作为初始质心\n",
    "* iter，运行kmeans的次数，返回失真度最低时的码本。如果初始质心是用数组指定的，则忽略此参数。此参数不表示k-means算法的迭代次数\n",
    "* thresh，如果前后2次迭代的失真度变化小于等于阈值，就终止kmeans运算返回结果\n",
    "* check_finite，是否检查数据，如果检查会影响速度，但是不检查（如果数据输入为nan或者inf时会造成错误，比如长期迭代不返回等问题）"
   ]
  },
  {
   "cell_type": "markdown",
   "metadata": {},
   "source": [
    "#### kmeans这里，是为了避免计算样本间距离时，不同数据维度的基数不同（也可以说是单位不同），造成距离匹配不能很好的表示样本距离。造成中心评估失效"
   ]
  },
  {
   "cell_type": "code",
   "execution_count": 9,
   "metadata": {},
   "outputs": [],
   "source": [
    "import matplotlib.pyplot as plt"
   ]
  },
  {
   "cell_type": "code",
   "execution_count": 10,
   "metadata": {},
   "outputs": [
    {
     "data": {
      "image/png": "[encoded data removed]",
      "text/plain": [
       "<Figure size 432x288 with 1 Axes>"
      ]
     },
     "metadata": {
      "needs_background": "light"
     },
     "output_type": "display_data"
    }
   ],
   "source": [
    "obs = np.array([\n",
    "    [1, 5],\n",
    "    [5, 3],\n",
    "    [1, 3],\n",
    "    [3, 5],\n",
    "    [10, 8],\n",
    "    [7, 11],\n",
    "    [9, 6]\n",
    "])\n",
    "whitened = whiten(obs)\n",
    "codebook, distortion = kmeans(whitened, 2, iter=20)\n",
    "plt.scatter(whitened[:, 0], whitened[:, 1], c=\"b\")\n",
    "plt.scatter(codebook[:, 0], codebook[:, 1], c='r')\n",
    "plt.show()"
   ]
  },
  {
   "cell_type": "code",
   "execution_count": 11,
   "metadata": {},
   "outputs": [
    {
     "data": {
      "text/plain": [
       "[<matplotlib.lines.Line2D at 0x7f7b58779610>]"
      ]
     },
     "execution_count": 11,
     "metadata": {},
     "output_type": "execute_result"
    },
    {
     "data": {
      "image/png": "[encoded data removed]",
      "text/plain": [
       "<Figure size 432x288 with 1 Axes>"
      ]
     },
     "metadata": {
      "needs_background": "light"
     },
     "output_type": "display_data"
    }
   ],
   "source": [
    "data = np.random.randn(100, 2)\n",
    "data[:50] += 5.0\n",
    "data = data / data.std(0)\n",
    "plt.plot(data[:, 0], data[:, 1], \"b*\")"
   ]
  },
  {
   "cell_type": "code",
   "execution_count": 12,
   "metadata": {},
   "outputs": [
    {
     "data": {
      "text/plain": [
       "<matplotlib.collections.PathCollection at 0x7f7b58704510>"
      ]
     },
     "execution_count": 12,
     "metadata": {},
     "output_type": "execute_result"
    },
    {
     "data": {
      "image/png": "[encoded data removed]",
      "text/plain": [
       "<Figure size 432x288 with 1 Axes>"
      ]
     },
     "metadata": {
      "needs_background": "light"
     },
     "output_type": "display_data"
    }
   ],
   "source": [
    "k = 2\n",
    "#center_index = np.random.choice(np.arange(len(data)), k)\n",
    "center_index = [0, 1]\n",
    "center = data[center_index]\n",
    "\n",
    "def dispatch(data, center):\n",
    "    data = data[:, None]  # N x 1 x 2\n",
    "    center = center[None] # 1 x k x 2\n",
    "    \n",
    "    # N x k\n",
    "    distance = ((data - center) ** 2).sum(axis=2)\n",
    "    return distance.argmin(axis=1)\n",
    "\n",
    "#def dist(data, center):\n",
    "data_class = dispatch(data, center)\n",
    "c0 = data_class == 0\n",
    "c1 = data_class == 1\n",
    "plt.scatter(data[c0, 0], data[c0, 1], c=\"b\", s=20)\n",
    "plt.scatter(data[c1, 0], data[c1, 1], c=\"r\", s=20)\n",
    "plt.scatter(center[0, 0], center[0, 1], c=\"b\", s=500)\n",
    "plt.scatter(center[1, 0], center[1, 1], c=\"r\", s=500)"
   ]
  },
  {
   "cell_type": "code",
   "execution_count": 13,
   "metadata": {},
   "outputs": [
    {
     "name": "stdout",
     "output_type": "stream",
     "text": [
      "diff: 2.84897\n",
      "diff: 0.47199\n",
      "diff: 0.00000\n"
     ]
    },
    {
     "data": {
      "text/plain": [
       "<matplotlib.collections.PathCollection at 0x7f7b58727950>"
      ]
     },
     "execution_count": 13,
     "metadata": {},
     "output_type": "execute_result"
    },
    {
     "data": {
      "image/png": "[encoded data removed]",
      "text/plain": [
       "<Figure size 432x288 with 1 Axes>"
      ]
     },
     "metadata": {
      "needs_background": "light"
     },
     "output_type": "display_data"
    }
   ],
   "source": [
    "finished = False\n",
    "threshold_center_change = 0.01\n",
    "\n",
    "while not finished:\n",
    "    data_class = dispatch(data, center)\n",
    "    center_0 = data[data_class==0].mean(axis=0, keepdims=True)\n",
    "    center_1 = data[data_class==1].mean(axis=0, keepdims=True)\n",
    "    new_center = np.vstack((center_0, center_1))\n",
    "    \n",
    "    diff = ((new_center - center) ** 2).sum()\n",
    "    finished = diff < threshold_center_change\n",
    "    center = new_center\n",
    "    print(f\"diff: {diff:.5f}\")\n",
    "\n",
    "data_class = dispatch(data, center)\n",
    "c0 = data_class == 0\n",
    "c1 = data_class == 1\n",
    "plt.scatter(data[c0, 0], data[c0, 1], c=\"b\", s=20)\n",
    "plt.scatter(data[c1, 0], data[c1, 1], c=\"r\", s=20)\n",
    "plt.scatter(center[0, 0], center[0, 1], c=\"b\", s=500)\n",
    "plt.scatter(center[1, 0], center[1, 1], c=\"r\", s=500)"
   ]
  }
 ],
 "metadata": {
  "kernelspec": {
   "display_name": "Python 3",
   "language": "python",
   "name": "python3"
  },
  "language_info": {
   "codemirror_mode": {
    "name": "ipython",
    "version": 3
   },
   "file_extension": ".py",
   "mimetype": "text/x-python",
   "name": "python",
   "nbconvert_exporter": "python",
   "pygments_lexer": "ipython3",
   "version": "3.8.5"
  }
 },
 "nbformat": 4,
 "nbformat_minor": 4
}
