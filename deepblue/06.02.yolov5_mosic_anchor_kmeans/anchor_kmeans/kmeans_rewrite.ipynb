{
 "cells": [
  {
   "cell_type": "code",
   "execution_count": 1,
   "metadata": {},
   "outputs": [],
   "source": [
    "from scipy.cluster.vq import whiten\n",
    "from scipy.cluster.vq import kmeans\n",
    "import numpy as np\n",
    "import matplotlib.pyplot as plt"
   ]
  },
  {
   "cell_type": "code",
   "execution_count": 2,
   "metadata": {},
   "outputs": [],
   "source": [
    "obs = np.array([\n",
    "    [1, 5],\n",
    "    [3, 7],\n",
    "    [5, 10],\n",
    "    [7, 7],\n",
    "    [10, 5],\n",
    "    [7, 3],\n",
    "    [5, 1],\n",
    "    [3, 3]\n",
    "])\n",
    "obs[:, 1] *= 10"
   ]
  },
  {
   "cell_type": "code",
   "execution_count": 5,
   "metadata": {},
   "outputs": [
    {
     "data": {
      "text/plain": [
       "[<matplotlib.lines.Line2D at 0x7fae20fa9590>]"
      ]
     },
     "execution_count": 5,
     "metadata": {},
     "output_type": "execute_result"
    },
    {
     "data": {
      "image/png": "[encoded data removed]",
      "text/plain": [
       "<Figure size 432x288 with 1 Axes>"
      ]
     },
     "metadata": {
      "needs_background": "light"
     },
     "output_type": "display_data"
    }
   ],
   "source": [
    "max_val = obs.max()\n",
    "plt.xlim(0, max_val)\n",
    "plt.ylim(0, max_val)\n",
    "plt.plot(obs[:, 0], obs[:, 1], \"b*\")"
   ]
  },
  {
   "cell_type": "code",
   "execution_count": 20,
   "metadata": {},
   "outputs": [
    {
     "data": {
      "text/plain": [
       "array([[0.37504578, 1.87522892],\n",
       "       [1.12513735, 2.62532049],\n",
       "       [1.87522892, 3.75045785],\n",
       "       [2.62532049, 2.62532049],\n",
       "       [3.75045785, 1.87522892],\n",
       "       [2.62532049, 1.12513735],\n",
       "       [1.87522892, 0.37504578],\n",
       "       [1.12513735, 1.12513735]])"
      ]
     },
     "execution_count": 20,
     "metadata": {},
     "output_type": "execute_result"
    }
   ],
   "source": [
    "norm_obs = obs / obs.std(axis=0)\n",
    "norm_obs"
   ]
  },
  {
   "cell_type": "code",
   "execution_count": 7,
   "metadata": {},
   "outputs": [
    {
     "data": {
      "text/plain": [
       "[<matplotlib.lines.Line2D at 0x7fae1eb1c990>]"
      ]
     },
     "execution_count": 7,
     "metadata": {},
     "output_type": "execute_result"
    },
    {
     "data": {
      "image/png": "[encoded data removed]",
      "text/plain": [
       "<Figure size 432x288 with 1 Axes>"
      ]
     },
     "metadata": {
      "needs_background": "light"
     },
     "output_type": "display_data"
    }
   ],
   "source": [
    "max_val = norm_obs.max()\n",
    "plt.xlim(0, max_val)\n",
    "plt.ylim(0, max_val)\n",
    "plt.plot(norm_obs[:, 0], norm_obs[:, 1], \"b*\")"
   ]
  },
  {
   "cell_type": "code",
   "execution_count": 10,
   "metadata": {},
   "outputs": [
    {
     "data": {
      "text/plain": [
       "20.8806130178211"
      ]
     },
     "execution_count": 10,
     "metadata": {},
     "output_type": "execute_result"
    }
   ],
   "source": [
    "np.sqrt(((obs[0] - obs[3]) ** 2).sum())"
   ]
  },
  {
   "cell_type": "code",
   "execution_count": 11,
   "metadata": {},
   "outputs": [
    {
     "data": {
      "text/plain": [
       "9.0"
      ]
     },
     "execution_count": 11,
     "metadata": {},
     "output_type": "execute_result"
    }
   ],
   "source": [
    "np.sqrt(((obs[0] - obs[4]) ** 2).sum())"
   ]
  },
  {
   "cell_type": "markdown",
   "metadata": {},
   "source": [
    "# Norm过后的距离"
   ]
  },
  {
   "cell_type": "code",
   "execution_count": 12,
   "metadata": {},
   "outputs": [
    {
     "data": {
      "text/plain": [
       "2.3719978133155237"
      ]
     },
     "execution_count": 12,
     "metadata": {},
     "output_type": "execute_result"
    }
   ],
   "source": [
    "np.sqrt(((norm_obs[0] - norm_obs[3]) ** 2).sum())"
   ]
  },
  {
   "cell_type": "code",
   "execution_count": 13,
   "metadata": {},
   "outputs": [
    {
     "data": {
      "text/plain": [
       "3.375412062757167"
      ]
     },
     "execution_count": 13,
     "metadata": {},
     "output_type": "execute_result"
    }
   ],
   "source": [
    "np.sqrt(((norm_obs[0] - norm_obs[4]) ** 2).sum())"
   ]
  },
  {
   "cell_type": "code",
   "execution_count": 14,
   "metadata": {},
   "outputs": [],
   "source": [
    "# feat = [年份(1995-2021)，房价(5w-15w)，幸福指数(0-1)]\n",
    "#          2021,          150000,       0.1\n",
    "#          2021,          150000,       1.0"
   ]
  },
  {
   "cell_type": "code",
   "execution_count": 15,
   "metadata": {},
   "outputs": [],
   "source": [
    "# feat = [年份(1995-2021)，房价(5w-15w)，幸福指数(0-1)]\n",
    "#          2021,          150100,       0.1\n",
    "#          2021,          150000,       0.1"
   ]
  },
  {
   "cell_type": "code",
   "execution_count": 16,
   "metadata": {},
   "outputs": [
    {
     "data": {
      "text/plain": [
       "array([[0.37504578, 1.87522892],\n",
       "       [1.12513735, 2.62532049],\n",
       "       [1.87522892, 3.75045785],\n",
       "       [2.62532049, 2.62532049],\n",
       "       [3.75045785, 1.87522892],\n",
       "       [2.62532049, 1.12513735],\n",
       "       [1.87522892, 0.37504578],\n",
       "       [1.12513735, 1.12513735]])"
      ]
     },
     "execution_count": 16,
     "metadata": {},
     "output_type": "execute_result"
    }
   ],
   "source": [
    "norm_obs"
   ]
  },
  {
   "cell_type": "code",
   "execution_count": 18,
   "metadata": {},
   "outputs": [
    {
     "data": {
      "text/plain": [
       "array([[0.37504578, 1.87522892],\n",
       "       [1.12513735, 2.62532049],\n",
       "       [1.87522892, 3.75045785],\n",
       "       [2.62532049, 2.62532049],\n",
       "       [3.75045785, 1.87522892],\n",
       "       [2.62532049, 1.12513735],\n",
       "       [1.87522892, 0.37504578],\n",
       "       [1.12513735, 1.12513735]])"
      ]
     },
     "execution_count": 18,
     "metadata": {},
     "output_type": "execute_result"
    }
   ],
   "source": [
    "whiten(obs)"
   ]
  },
  {
   "cell_type": "markdown",
   "metadata": {},
   "source": [
    "# Kmeans的使用"
   ]
  },
  {
   "cell_type": "code",
   "execution_count": 24,
   "metadata": {},
   "outputs": [
    {
     "data": {
      "image/png": "[encoded data removed]",
      "text/plain": [
       "<Figure size 432x288 with 1 Axes>"
      ]
     },
     "metadata": {
      "needs_background": "light"
     },
     "output_type": "display_data"
    }
   ],
   "source": [
    "obs = np.array([\n",
    "    [1, 5],\n",
    "    [5, 3],\n",
    "    [1, 3],\n",
    "    [3, 5],\n",
    "    [10, 8],\n",
    "    [7, 11],\n",
    "    [9, 6]\n",
    "])\n",
    "\n",
    "whitened = whiten(obs)\n",
    "codebook, _ = kmeans(whitened, 2, iter=20)\n",
    "\n",
    "plt.scatter(whitened[:, 0], whitened[:, 1], c=\"b\")\n",
    "plt.scatter(codebook[:, 0], codebook[:, 1], c=\"r\")\n",
    "plt.show()"
   ]
  },
  {
   "cell_type": "markdown",
   "metadata": {},
   "source": [
    "# 写一遍Kmeans"
   ]
  },
  {
   "cell_type": "code",
   "execution_count": 25,
   "metadata": {},
   "outputs": [
    {
     "data": {
      "text/plain": [
       "<matplotlib.collections.PathCollection at 0x7fae1e8f92d0>"
      ]
     },
     "execution_count": 25,
     "metadata": {},
     "output_type": "execute_result"
    },
    {
     "data": {
      "image/png": "[encoded data removed]",
      "text/plain": [
       "<Figure size 432x288 with 1 Axes>"
      ]
     },
     "metadata": {
      "needs_background": "light"
     },
     "output_type": "display_data"
    }
   ],
   "source": [
    "data = np.random.randn(100, 2)\n",
    "data[:50] += 5.0\n",
    "\n",
    "data = data / data.std(0)\n",
    "plt.scatter(data[:, 0], data[:, 1], c=\"b\")"
   ]
  },
  {
   "cell_type": "code",
   "execution_count": 47,
   "metadata": {},
   "outputs": [
    {
     "data": {
      "text/plain": [
       "<matplotlib.collections.PathCollection at 0x7fae1e44c7d0>"
      ]
     },
     "execution_count": 47,
     "metadata": {},
     "output_type": "execute_result"
    },
    {
     "data": {
      "image/png": "[encoded data removed]",
      "text/plain": [
       "<Figure size 432x288 with 1 Axes>"
      ]
     },
     "metadata": {
      "needs_background": "light"
     },
     "output_type": "display_data"
    }
   ],
   "source": [
    "k = 2\n",
    "#center_index = [0, 55]\n",
    "center_index = np.random.choice(np.arange(len(data)), k)\n",
    "center = data[center_index]\n",
    "plt.scatter(data[:, 0], data[:, 1], c=\"b\")\n",
    "plt.scatter(center[0, 0], center[0, 1], c=\"r\", s=500)\n",
    "plt.scatter(center[1, 0], center[1, 1], c=\"g\", s=500)"
   ]
  },
  {
   "cell_type": "code",
   "execution_count": 48,
   "metadata": {},
   "outputs": [
    {
     "data": {
      "text/plain": [
       "<matplotlib.collections.PathCollection at 0x7fae1e2f8b10>"
      ]
     },
     "execution_count": 48,
     "metadata": {},
     "output_type": "execute_result"
    },
    {
     "data": {
      "image/png": "[encoded data removed]",
      "text/plain": [
       "<Figure size 432x288 with 1 Axes>"
      ]
     },
     "metadata": {
      "needs_background": "light"
     },
     "output_type": "display_data"
    }
   ],
   "source": [
    "def dispatch(data, center):\n",
    "    \n",
    "    # data   ->  N x 2\n",
    "    # center ->  K x 2\n",
    "    data = data[:, None]  # N x 1 x 2\n",
    "    center = center[None] # 1 x K x 2\n",
    "    \n",
    "    # N x K\n",
    "    distance = ((data - center) ** 2).sum(axis=2)\n",
    "    \n",
    "    # N,\n",
    "    return distance.argmin(axis=1)\n",
    "\n",
    "data_class = dispatch(data, center)\n",
    "c0 = data_class == 0\n",
    "c1 = data_class == 1\n",
    "plt.scatter(data[c0, 0], data[c0, 1], c=\"b\")\n",
    "plt.scatter(data[c1, 0], data[c1, 1], c=\"r\")\n",
    "plt.scatter(center[0, 0], center[0, 1], c=\"b\", s=500)\n",
    "plt.scatter(center[1, 0], center[1, 1], c=\"r\", s=500)"
   ]
  },
  {
   "cell_type": "markdown",
   "metadata": {},
   "source": [
    "# KMeans的原理\n",
    "- 1.指定K个初始质心\n",
    "- 2.利用质心对数据进行分类\n",
    "- 3.对分类后的数据，计算其质心，称之为新质心\n",
    "- 4.判断新质心与当前质心之间的差距，是否小于指定阈值，如果成立则跳出\n",
    "    - 如果不成立，则替换当前质心为新的质心\n",
    "    - 执行2步骤\n",
    "- 5.输出最后得到的质心"
   ]
  },
  {
   "cell_type": "markdown",
   "metadata": {},
   "source": [
    "# 重点\n",
    "1. 中心的选择，影响计算的结果\n",
    "    - 中心的选择方法：\n",
    "        - a.随机在data中选择k个元素\n",
    "        - b.在data中选择距离最远的k个元素\n",
    "2. kmeans不是一个稳定的算法\n",
    "3. 自动指定k：\n",
    "    - a. 如果不指定k，自动适配合适的k\n",
    "        - 1. 使用n个候选k值，然后聚类得到结果，计算结果与中心的适应程度，或者说是衡量指标。选择最好的那个\n",
    "        - 2. ISOData算法，kmeans++等等算法"
   ]
  },
  {
   "cell_type": "code",
   "execution_count": 49,
   "metadata": {},
   "outputs": [
    {
     "name": "stdout",
     "output_type": "stream",
     "text": [
      "diff: 0.90373\n",
      "diff: 0.00000\n"
     ]
    }
   ],
   "source": [
    "\n",
    "threshold = 0.01\n",
    "finished = False\n",
    "\n",
    "while not finished:\n",
    "    data_class = dispatch(data, center)\n",
    "\n",
    "    # shape : 1 x 2\n",
    "    center_0 = data[data_class == 0].mean(axis=0, keepdims=True)\n",
    "    center_1 = data[data_class == 1].mean(axis=0, keepdims=True)\n",
    "    new_center = np.vstack((center_0, center_1))\n",
    "\n",
    "    diff = ((new_center - center) ** 2).sum()\n",
    "    finished = diff < threshold\n",
    "    center = new_center\n",
    "    print(f\"diff: {diff:.5f}\")"
   ]
  },
  {
   "cell_type": "code",
   "execution_count": 50,
   "metadata": {},
   "outputs": [
    {
     "data": {
      "text/plain": [
       "<matplotlib.collections.PathCollection at 0x7fae1e2cd3d0>"
      ]
     },
     "execution_count": 50,
     "metadata": {},
     "output_type": "execute_result"
    },
    {
     "data": {
      "image/png": "[encoded data removed]",
      "text/plain": [
       "<Figure size 432x288 with 1 Axes>"
      ]
     },
     "metadata": {
      "needs_background": "light"
     },
     "output_type": "display_data"
    }
   ],
   "source": [
    "data_class = dispatch(data, center)\n",
    "c0 = data_class == 0\n",
    "c1 = data_class == 1\n",
    "plt.scatter(data[c0, 0], data[c0, 1], c=\"b\")\n",
    "plt.scatter(data[c1, 0], data[c1, 1], c=\"r\")\n",
    "plt.scatter(center[0, 0], center[0, 1], c=\"b\", s=500)\n",
    "plt.scatter(center[1, 0], center[1, 1], c=\"r\", s=500)"
   ]
  }
 ],
 "metadata": {
  "kernelspec": {
   "display_name": "Python 3",
   "language": "python",
   "name": "python3"
  },
  "language_info": {
   "codemirror_mode": {
    "name": "ipython",
    "version": 3
   },
   "file_extension": ".py",
   "mimetype": "text/x-python",
   "name": "python",
   "nbconvert_exporter": "python",
   "pygments_lexer": "ipython3",
   "version": "3.8.5"
  }
 },
 "nbformat": 4,
 "nbformat_minor": 4
}
