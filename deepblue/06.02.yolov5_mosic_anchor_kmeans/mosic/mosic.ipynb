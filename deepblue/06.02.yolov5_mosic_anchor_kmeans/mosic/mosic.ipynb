{
 "cells": [
  {
   "cell_type": "markdown",
   "metadata": {},
   "source": [
    "# Yolo图像加载预处理\n",
    "- YoloV5的训练的图像加载，流程如下，主要使用了马赛克增广(mosaic)：\n",
    "    - 1.指定图像大小，例如640，注意没有指定宽高，仅仅是img_size = 640\n",
    "    - 2.使用马赛克加载图像load_mosaic(self, index)\n",
    "        - a.在所有dataset中选择4个图像（index，以及3个随机选择的图）\n",
    "        - b.加载4个图像，并等比将图像长边缩放到img_size\n",
    "        - c.创建一个大图，尺寸是2 * img_size, 2 * img_size，填充为全114、类型是uint8，3通道\n",
    "        - c.将4个图像按照马赛克的方式拼接在一起放到大图上，例如指定随机uniform(img_size // 2, 2 * img_size - img_size // 2)中心为center，那么img1的右下角在center，img2的左下角在center，img3的右上角在center，img4的左上角在center\n",
    "        - d.将4个图像的labels拼接为一个矩阵后，数值xywh变为left, top, right, bottom，并根据图像的位移，修改labels的位置\n",
    "        - e.裁切超出区域的值，限制到（0, 2 * img_size）\n",
    "        - f.此时得到输出，img为大图（2 * img_size, 2 * img_size），和labels（left, top, right, bottom）\n",
    "        ```Python\n",
    "        def load_mosaic(self, index):\n",
    "            # loads images in a mosaic\n",
    "\n",
    "            labels4 = []\n",
    "            s = self.img_size\n",
    "            yc, xc = [int(random.uniform(-x, 2 * s + x)) for x in self.mosaic_border]  # mosaic center x, y\n",
    "            indices = [index] + [random.randint(0, len(self.labels) - 1) for _ in range(3)]  # 3 additional image indices\n",
    "            for i, index in enumerate(indices):\n",
    "                # Load image\n",
    "                img, _, (h, w) = load_image(self, index)\n",
    "\n",
    "                # place img in img4\n",
    "                if i == 0:  # top left\n",
    "                    img4 = np.full((s * 2, s * 2, img.shape[2]), 114, dtype=np.uint8)  # base image with 4 tiles\n",
    "                    x1a, y1a, x2a, y2a = max(xc - w, 0), max(yc - h, 0), xc, yc  # xmin, ymin, xmax, ymax (large image)\n",
    "                    x1b, y1b, x2b, y2b = w - (x2a - x1a), h - (y2a - y1a), w, h  # xmin, ymin, xmax, ymax (small image)\n",
    "                elif i == 1:  # top right\n",
    "                    x1a, y1a, x2a, y2a = xc, max(yc - h, 0), min(xc + w, s * 2), yc\n",
    "                    x1b, y1b, x2b, y2b = 0, h - (y2a - y1a), min(w, x2a - x1a), h\n",
    "                elif i == 2:  # bottom left\n",
    "                    x1a, y1a, x2a, y2a = max(xc - w, 0), yc, xc, min(s * 2, yc + h)\n",
    "                    x1b, y1b, x2b, y2b = w - (x2a - x1a), 0, max(xc, w), min(y2a - y1a, h)\n",
    "                elif i == 3:  # bottom right\n",
    "                    x1a, y1a, x2a, y2a = xc, yc, min(xc + w, s * 2), min(s * 2, yc + h)\n",
    "                    x1b, y1b, x2b, y2b = 0, 0, min(w, x2a - x1a), min(y2a - y1a, h)\n",
    "\n",
    "                img4[y1a:y2a, x1a:x2a] = img[y1b:y2b, x1b:x2b]  # img4[ymin:ymax, xmin:xmax]\n",
    "                padw = x1a - x1b\n",
    "                padh = y1a - y1b\n",
    "\n",
    "                # Labels\n",
    "                x = self.labels[index]\n",
    "                labels = x.copy()\n",
    "                if x.size > 0:  # Normalized xywh to pixel xyxy format\n",
    "                    labels[:, 1] = w * (x[:, 1] - x[:, 3] / 2) + padw\n",
    "                    labels[:, 2] = h * (x[:, 2] - x[:, 4] / 2) + padh\n",
    "                    labels[:, 3] = w * (x[:, 1] + x[:, 3] / 2) + padw\n",
    "                    labels[:, 4] = h * (x[:, 2] + x[:, 4] / 2) + padh\n",
    "                labels4.append(labels)\n",
    "\n",
    "            # Concat/clip labels\n",
    "            if len(labels4):\n",
    "                labels4 = np.concatenate(labels4, 0)\n",
    "                # np.clip(labels4[:, 1:] - s / 2, 0, s, out=labels4[:, 1:])  # use with center crop\n",
    "                np.clip(labels4[:, 1:], 0, 2 * s, out=labels4[:, 1:])  # use with random_affine\n",
    "        ```\n",
    "    - 3.random_affine，scale指定为0.5，这里translate和shear、degrees并没有使用\n",
    "        - a.对大图进行随机变换，输出图像大小为img_size、img_size的目标大小\n",
    "        - b.使用getRotationMatrix2D获取变换矩阵，中心为大图的中心，scale则是uniform(1 - scale, 1 + scale)\n",
    "        - c.使用获取的变换矩阵对图像进行变换，并对框进行变换得到结果框\n",
    "        - d.裁切坐标和宽高的大小，保证在图像内\n",
    "        - e.根据条件保留box：\n",
    "            - 第一条件：box的宽高大于2  (w > 2) & (h > 2)\n",
    "            - 第二条件：box裁切后面积和box裁切前面积比 > 0.2\n",
    "            - 第三条件：box的宽高比，高宽比最大值 < 20\n",
    "        ```Python\n",
    "        def random_affine(img, targets=(), degrees=10, translate=.1, scale=.1, shear=10, border=(0, 0)):\n",
    "            # torchvision.transforms.RandomAffine(degrees=(-10, 10), translate=(.1, .1), scale=(.9, 1.1), shear=(-10, 10))\n",
    "            # https://medium.com/uruvideo/dataset-augmentation-with-random-homographies-a8f4b44830d4\n",
    "            # targets = [cls, xyxy]\n",
    "\n",
    "            height = img.shape[0] + border[0] * 2  # shape(h,w,c)\n",
    "            width = img.shape[1] + border[1] * 2\n",
    "\n",
    "            # Rotation and Scale\n",
    "            R = np.eye(3)\n",
    "            a = random.uniform(-degrees, degrees)\n",
    "            # a += random.choice([-180, -90, 0, 90])  # add 90deg rotations to small rotations\n",
    "            s = random.uniform(1 - scale, 1 + scale)\n",
    "            # s = 2 ** random.uniform(-scale, scale)\n",
    "            R[:2] = cv2.getRotationMatrix2D(angle=a, center=(img.shape[1] / 2, img.shape[0] / 2), scale=s)\n",
    "\n",
    "            # Translation\n",
    "            T = np.eye(3)\n",
    "            T[0, 2] = random.uniform(-translate, translate) * img.shape[1] + border[1]  # x translation (pixels)\n",
    "            T[1, 2] = random.uniform(-translate, translate) * img.shape[0] + border[0]  # y translation (pixels)\n",
    "\n",
    "            # Shear\n",
    "            S = np.eye(3)\n",
    "            S[0, 1] = math.tan(random.uniform(-shear, shear) * math.pi / 180)  # x shear (deg)\n",
    "            S[1, 0] = math.tan(random.uniform(-shear, shear) * math.pi / 180)  # y shear (deg)\n",
    "\n",
    "            # Combined rotation matrix\n",
    "            M = S @ T @ R  # ORDER IS IMPORTANT HERE!!\n",
    "            if (border[0] != 0) or (border[1] != 0) or (M != np.eye(3)).any():  # image changed\n",
    "                img = cv2.warpAffine(img, M[:2], dsize=(width, height), flags=cv2.INTER_LINEAR, borderValue=(114, 114, 114))\n",
    "\n",
    "            # Transform label coordinates\n",
    "            n = len(targets)\n",
    "            if n:\n",
    "                # warp points\n",
    "                xy = np.ones((n * 4, 3))\n",
    "                xy[:, :2] = targets[:, [1, 2, 3, 4, 1, 4, 3, 2]].reshape(n * 4, 2)  # x1y1, x2y2, x1y2, x2y1\n",
    "                xy = (xy @ M.T)[:, :2].reshape(n, 8)\n",
    "\n",
    "                # create new boxes\n",
    "                x = xy[:, [0, 2, 4, 6]]\n",
    "                y = xy[:, [1, 3, 5, 7]]\n",
    "                xy = np.concatenate((x.min(1), y.min(1), x.max(1), y.max(1))).reshape(4, n).T\n",
    "\n",
    "                # # apply angle-based reduction of bounding boxes\n",
    "                # radians = a * math.pi / 180\n",
    "                # reduction = max(abs(math.sin(radians)), abs(math.cos(radians))) ** 0.5\n",
    "                # x = (xy[:, 2] + xy[:, 0]) / 2\n",
    "                # y = (xy[:, 3] + xy[:, 1]) / 2\n",
    "                # w = (xy[:, 2] - xy[:, 0]) * reduction\n",
    "                # h = (xy[:, 3] - xy[:, 1]) * reduction\n",
    "                # xy = np.concatenate((x - w / 2, y - h / 2, x + w / 2, y + h / 2)).reshape(4, n).T\n",
    "\n",
    "                # reject warped points outside of image\n",
    "                xy[:, [0, 2]] = xy[:, [0, 2]].clip(0, width)\n",
    "                xy[:, [1, 3]] = xy[:, [1, 3]].clip(0, height)\n",
    "                w = xy[:, 2] - xy[:, 0]\n",
    "                h = xy[:, 3] - xy[:, 1]\n",
    "                area = w * h\n",
    "                area0 = (targets[:, 3] - targets[:, 1]) * (targets[:, 4] - targets[:, 2])\n",
    "                ar = np.maximum(w / (h + 1e-16), h / (w + 1e-16))  # aspect ratio\n",
    "                i = (w > 2) & (h > 2) & (area / (area0 * s + 1e-16) > 0.2) & (ar < 20)\n",
    "\n",
    "                targets = targets[i]\n",
    "                targets[:, 1:5] = xy[i]\n",
    "\n",
    "            return img, targets\n",
    "        ```\n",
    "    - 4.augment_hsv，随机hsv颜色变换，系数是：hsv_h: 0.015，hsv_s: 0.7，hsv_v: 0.4\n",
    "        - a.生成随机增益：r = uniform(-1, 1, 3) * [hsv_h, hsv_s, hsv_v] + 1\n",
    "        - b.将图像变换为HSV格式后，对h s v三个通道分别进行增益(使用LUT)(`look up table`)，然后转换为BGR得到结果\n",
    "        ```Python\n",
    "        def augment_hsv(img, hgain=0.5, sgain=0.5, vgain=0.5):\n",
    "            r = np.random.uniform(-1, 1, 3) * [hgain, sgain, vgain] + 1  # random gains\n",
    "            hue, sat, val = cv2.split(cv2.cvtColor(img, cv2.COLOR_BGR2HSV))\n",
    "            dtype = img.dtype  # uint8\n",
    "\n",
    "            x = np.arange(0, 256, dtype=np.int16)\n",
    "            lut_hue = ((x * r[0]) % 180).astype(dtype)\n",
    "            lut_sat = np.clip(x * r[1], 0, 255).astype(dtype)\n",
    "            lut_val = np.clip(x * r[2], 0, 255).astype(dtype)\n",
    "\n",
    "            img_hsv = cv2.merge((cv2.LUT(hue, lut_hue), cv2.LUT(sat, lut_sat), cv2.LUT(val, lut_val))).astype(dtype)\n",
    "            cv2.cvtColor(img_hsv, cv2.COLOR_HSV2BGR, dst=img)  # no return needed\n",
    "        ```\n",
    "    - 5.随机翻转，水平方向随机0.5概率进行翻转。同时翻转labels\n",
    "    "
   ]
  },
  {
   "cell_type": "markdown",
   "metadata": {},
   "source": [
    "* YoloV5测试mAP时的图像处理：\n",
    "    - 1.加载图像，并将长边缩放到img_size大小，load_image(self, index)\n",
    "    - 2.letterbox(img, shape, auto=False, scaleup=self.augment)，居中缩放，使其大小为img_size, img_size。并将labels修改到同样位置"
   ]
  },
  {
   "cell_type": "markdown",
   "metadata": {},
   "source": [
    "* YoloV5测试图像，进行检测时的处理：\n",
    "    - 1.加载图像，并将长边缩放到img_size大小\n",
    "    - 2.使用自动补齐，即:使得结果图大小能够整除64，不能整除则增加pad区域（填充114）\n",
    "        - 比如640 x 310的图像，310无法整除64，则通过pad加10个高度，使得尺寸为320，pad方式为上边5、下边5  填充 114"
   ]
  },
  {
   "cell_type": "code",
   "execution_count": 1,
   "metadata": {},
   "outputs": [],
   "source": [
    "import os\n",
    "import glob\n",
    "import numpy as np\n",
    "import cv2\n",
    "import random\n",
    "import matplotlib.pyplot as plt"
   ]
  },
  {
   "cell_type": "code",
   "execution_count": 2,
   "metadata": {},
   "outputs": [],
   "source": [
    "def load_voc_xml(file):\n",
    "    with open(file, \"r\") as f:\n",
    "        data = f.read()\n",
    "        \n",
    "    def convert(size, box):\n",
    "        dw = 1./(size[0])\n",
    "        dh = 1./(size[1])\n",
    "        x = (box[0] + box[1])/2.0 - 1\n",
    "        y = (box[2] + box[3])/2.0 - 1\n",
    "        w = box[1] - box[0] + 1\n",
    "        h = box[3] - box[2] + 1\n",
    "        x = x*dw\n",
    "        w = w*dw\n",
    "        y = y*dh\n",
    "        h = h*dh\n",
    "        return x, y, w, h\n",
    "\n",
    "    def middle(s, begin, end, pos_begin = 0):\n",
    "        p = s.find(begin, pos_begin)\n",
    "        if p == -1:\n",
    "            return None, None\n",
    "\n",
    "        p += len(begin)\n",
    "        e = s.find(end, p)\n",
    "        if e == -1:\n",
    "            return None, None\n",
    "\n",
    "        return s[p:e], e + len(end)\n",
    "\n",
    "    objs = []\n",
    "    object_, pos_ = middle(data, \"<object>\", \"</object>\")\n",
    "    wh_field, _ = middle(data, \"<size>\", \"</size>\")\n",
    "    width = int(middle(wh_field, \"<width>\", \"</width>\")[0])\n",
    "    height = int(middle(wh_field, \"<height>\", \"</height>\")[0])\n",
    "    label_map = [\"aeroplane\", \"bicycle\", \"bird\", \"boat\", \"bottle\", \"bus\", \"car\", \"cat\", \"chair\", \"cow\", \"diningtable\", \"dog\", \"horse\", \"motorbike\", \"person\", \"pottedplant\", \"sheep\", \"sofa\", \"train\", \"tvmonitor\"]\n",
    "    while object_ is not None:\n",
    "        xmin = int(middle(object_, \"<xmin>\", \"</xmin>\")[0])\n",
    "        ymin = int(middle(object_, \"<ymin>\", \"</ymin>\")[0])\n",
    "        xmax = int(middle(object_, \"<xmax>\", \"</xmax>\")[0])\n",
    "        ymax = int(middle(object_, \"<ymax>\", \"</ymax>\")[0])\n",
    "        name = middle(object_, \"<name>\", \"</name>\")[0]\n",
    "        object_, pos_ = middle(data, \"<object>\", \"</object>\", pos_)\n",
    "        x, y, w, h = convert((width, height), (xmin, xmax, ymin, ymax))\n",
    "        label_index = label_map.index(name)\n",
    "        objs.append((label_index, x, y, w, h))\n",
    "    return np.array(objs, dtype=np.float32)"
   ]
  },
  {
   "cell_type": "code",
   "execution_count": 3,
   "metadata": {},
   "outputs": [],
   "source": [
    "image_paths = glob.glob(\"imgs/*.jpg\")\n",
    "image_annotations = [load_voc_xml(item[:-3] + \"xml\") for item in image_paths]"
   ]
  },
  {
   "cell_type": "markdown",
   "metadata": {},
   "source": [
    "# 1.加载图像进行长边缩放"
   ]
  },
  {
   "cell_type": "code",
   "execution_count": 4,
   "metadata": {},
   "outputs": [],
   "source": [
    "img_size = 640"
   ]
  },
  {
   "cell_type": "code",
   "execution_count": 5,
   "metadata": {},
   "outputs": [
    {
     "data": {
      "text/plain": [
       "(375, 500, 3)"
      ]
     },
     "execution_count": 5,
     "metadata": {},
     "output_type": "execute_result"
    }
   ],
   "source": [
    "image = cv2.imread(image_paths[0])\n",
    "image.shape"
   ]
  },
  {
   "cell_type": "code",
   "execution_count": 6,
   "metadata": {},
   "outputs": [
    {
     "data": {
      "text/plain": [
       "500"
      ]
     },
     "execution_count": 6,
     "metadata": {},
     "output_type": "execute_result"
    }
   ],
   "source": [
    "max_line = max(image.shape[:2])\n",
    "max_line"
   ]
  },
  {
   "cell_type": "code",
   "execution_count": 7,
   "metadata": {},
   "outputs": [
    {
     "data": {
      "text/plain": [
       "1.28"
      ]
     },
     "execution_count": 7,
     "metadata": {},
     "output_type": "execute_result"
    }
   ],
   "source": [
    "scale = img_size / max_line\n",
    "scale"
   ]
  },
  {
   "cell_type": "code",
   "execution_count": 8,
   "metadata": {},
   "outputs": [
    {
     "data": {
      "text/plain": [
       "(480, 640, 3)"
      ]
     },
     "execution_count": 8,
     "metadata": {},
     "output_type": "execute_result"
    }
   ],
   "source": [
    "image_resized = cv2.resize(image, (0, 0), fx=scale, fy=scale)\n",
    "image_resized.shape"
   ]
  },
  {
   "cell_type": "markdown",
   "metadata": {},
   "source": [
    "# 2.马赛克增广"
   ]
  },
  {
   "cell_type": "code",
   "execution_count": 9,
   "metadata": {},
   "outputs": [
    {
     "data": {
      "text/plain": [
       "(876, 954)"
      ]
     },
     "execution_count": 9,
     "metadata": {},
     "output_type": "execute_result"
    }
   ],
   "source": [
    "img_size = 640\n",
    "index = 0\n",
    "x_center, y_center = [int(random.uniform(img_size // 2, 2 * img_size - img_size // 2)) for _ in range(2)]  # mosaic center x, y\n",
    "#x_center, y_center = [img_size // 2 for _ in range(2)]  # mosaic center x, y\n",
    "#x_center, y_center = [2 * img_size - img_size // 2 for _ in range(2)]  # mosaic center x, y\n",
    "x_center, y_center"
   ]
  },
  {
   "cell_type": "code",
   "execution_count": 10,
   "metadata": {},
   "outputs": [
    {
     "data": {
      "text/plain": [
       "[0, 6, 6, 0]"
      ]
     },
     "execution_count": 10,
     "metadata": {},
     "output_type": "execute_result"
    }
   ],
   "source": [
    "indices = [index] + [random.randint(0, len(image_paths) - 1) for _ in range(3)]  # 3 additional image indices\n",
    "indices"
   ]
  },
  {
   "cell_type": "code",
   "execution_count": 22,
   "metadata": {},
   "outputs": [
    {
     "data": {
      "text/plain": [
       "<matplotlib.image.AxesImage at 0x7fa8ecc64280>"
      ]
     },
     "execution_count": 22,
     "metadata": {},
     "output_type": "execute_result"
    },
    {
     "data": {
      "image/png": "[encoded data removed]",
      "text/plain": [
       "<Figure size 432x288 with 1 Axes>"
      ]
     },
     "metadata": {
      "needs_background": "light"
     },
     "output_type": "display_data"
    }
   ],
   "source": [
    "offset_coeff = np.array([[1, 1], [0, 1], [1, 0], [0, 0]])\n",
    "large_image = np.full((img_size * 2, img_size * 2, 3), 114, dtype=np.uint8)\n",
    "for pos, image_index in enumerate(indices):\n",
    "    image = cv2.imread(image_paths[image_index])\n",
    "    scale = img_size / max(image.shape[:2])\n",
    "    image = cv2.resize(image, (0, 0), fx=scale, fy=scale)\n",
    "    image_height, image_width = image.shape[:2]\n",
    "    \n",
    "    offset = [x_center, y_center] - offset_coeff[pos] * [image_width, image_height]\n",
    "#     offset = [0, 0]  # 可见如果不处理，就在dist图片的左上角绘图\n",
    "#     offset = [x_center, y_center] - offset_coeff[pos] * [image_width, image_height]\n",
    "\n",
    "    # 以计算左上角图片为例：\n",
    "    # 以0，0为起点，假定随机中心为30， 50\n",
    "    # 左上角的图是用右下角去碰中心的，所以当右下角在中心时，左上角在：\n",
    "    # (cx - width, cy - height)   => (1, 1) x (w, h)\n",
    "    \n",
    "    # 再看右上角：(cx, cy - height) => (0, 1) x (w, h)\n",
    "    # 左下：(cx - width, cy)       => (1, 0) x (w, h)\n",
    "    # 右下：(cx, cy) 右下角的图刚好是用中心做起点 => (0, 0)\n",
    "    # 这就是第一行四个系数的由来\n",
    "\n",
    "    M = np.array([\n",
    "        [1, 0, offset[0]],\n",
    "        [0, 1, offset[1]]\n",
    "    ], dtype=np.float32)\n",
    "    cv2.warpAffine(image, M, (img_size * 2, img_size * 2), dst=large_image, borderMode=cv2.BORDER_TRANSPARENT)\n",
    "\n",
    "plt.imshow(large_image[..., ::-1])"
   ]
  },
  {
   "cell_type": "code",
   "execution_count": null,
   "metadata": {},
   "outputs": [],
   "source": []
  }
 ],
 "metadata": {
  "kernelspec": {
   "display_name": "Python 3",
   "language": "python",
   "name": "python3"
  },
  "language_info": {
   "codemirror_mode": {
    "name": "ipython",
    "version": 3
   },
   "file_extension": ".py",
   "mimetype": "text/x-python",
   "name": "python",
   "nbconvert_exporter": "python",
   "pygments_lexer": "ipython3",
   "version": "3.8.5"
  }
 },
 "nbformat": 4,
 "nbformat_minor": 4
}
