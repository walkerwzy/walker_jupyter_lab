{
 "cells": [
  {
   "cell_type": "code",
   "execution_count": 3,
   "id": "sixth-meeting",
   "metadata": {},
   "outputs": [],
   "source": [
    "import numpy as np"
   ]
  },
  {
   "cell_type": "code",
   "execution_count": 7,
   "id": "incomplete-lindsay",
   "metadata": {},
   "outputs": [
    {
     "data": {
      "text/plain": [
       "matrix([[1, 2, 3],\n",
       "        [4, 5, 6],\n",
       "        [7, 8, 9]])"
      ]
     },
     "execution_count": 7,
     "metadata": {},
     "output_type": "execute_result"
    }
   ],
   "source": [
    "A = np.matrix('1,2,3;4,5,6;7,8,9')\n",
    "A"
   ]
  },
  {
   "cell_type": "code",
   "execution_count": 8,
   "id": "widespread-marathon",
   "metadata": {},
   "outputs": [
    {
     "data": {
      "text/plain": [
       "(45,\n",
       " matrix([[12, 15, 18]]),\n",
       " matrix([[ 6],\n",
       "         [15],\n",
       "         [24]]),\n",
       " matrix([[ 6],\n",
       "         [15],\n",
       "         [24]]))"
      ]
     },
     "execution_count": 8,
     "metadata": {},
     "output_type": "execute_result"
    }
   ],
   "source": [
    "np.sum(A), np.sum(A, axis=0), np.sum(A, axis=1), np.sum(A, axis=-1)"
   ]
  },
  {
   "cell_type": "code",
   "execution_count": 9,
   "id": "atlantic-summer",
   "metadata": {},
   "outputs": [
    {
     "data": {
      "text/plain": [
       "[[1, 2, 3, [2, 3, 4]], [4, 5, 6], [7, 8, 9]]"
      ]
     },
     "execution_count": 9,
     "metadata": {},
     "output_type": "execute_result"
    }
   ],
   "source": [
    "B = A.copy()\n",
    "for i in range(3):\n",
    "    B[i] = np.vstack(B[i])\n",
    "\n",
    "C = [[1,2,3],[4,5,6],[7,8,9]]\n",
    "C[0].append([2,3,4])\n",
    "C"
   ]
  },
  {
   "cell_type": "code",
   "execution_count": 10,
   "id": "horizontal-debate",
   "metadata": {},
   "outputs": [],
   "source": [
    "c = [[] for _ in range(3)]\n",
    "c[0].append([1,2,3])\n",
    "c[0].append([4,5,6])\n",
    "c[1].append([11,12,13])\n",
    "c[1].append([14,15,16])\n",
    "c[2].append([311,312,313])\n",
    "c[2].append([314,315,316])"
   ]
  },
  {
   "cell_type": "code",
   "execution_count": 11,
   "id": "failing-staff",
   "metadata": {},
   "outputs": [
    {
     "data": {
      "text/plain": [
       "[array([[1, 2, 3],\n",
       "        [4, 5, 6]]),\n",
       " array([[11, 12, 13],\n",
       "        [14, 15, 16]]),\n",
       " array([[311, 312, 313],\n",
       "        [314, 315, 316]])]"
      ]
     },
     "execution_count": 11,
     "metadata": {},
     "output_type": "execute_result"
    }
   ],
   "source": [
    "for index in range(len(c)):\n",
    "    c[index] = np.vstack(c[index])\n",
    "c"
   ]
  },
  {
   "cell_type": "code",
   "execution_count": 12,
   "id": "earlier-sixth",
   "metadata": {},
   "outputs": [
    {
     "data": {
      "text/plain": [
       "matrix([[2],\n",
       "        [2],\n",
       "        [2]], dtype=int64)"
      ]
     },
     "execution_count": 12,
     "metadata": {},
     "output_type": "execute_result"
    }
   ],
   "source": [
    "np.argmax(A, axis=1)"
   ]
  },
  {
   "cell_type": "code",
   "execution_count": 13,
   "id": "regional-penetration",
   "metadata": {},
   "outputs": [
    {
     "data": {
      "text/plain": [
       "matrix([[1, 2, 3],\n",
       "        [4, 5, 6],\n",
       "        [7, 8, 9]])"
      ]
     },
     "execution_count": 13,
     "metadata": {},
     "output_type": "execute_result"
    }
   ],
   "source": [
    "B"
   ]
  },
  {
   "cell_type": "code",
   "execution_count": 14,
   "id": "proper-table",
   "metadata": {},
   "outputs": [
    {
     "data": {
      "text/plain": [
       "9"
      ]
     },
     "execution_count": 14,
     "metadata": {},
     "output_type": "execute_result"
    }
   ],
   "source": [
    "(A==B).sum()\n"
   ]
  },
  {
   "cell_type": "code",
   "execution_count": 15,
   "id": "julian-roman",
   "metadata": {},
   "outputs": [
    {
     "data": {
      "text/plain": [
       "array([[8, 6, 6, 6, 7],\n",
       "       [6, 9, 7, 7, 7],\n",
       "       [6, 9, 6, 7, 6]])"
      ]
     },
     "execution_count": 15,
     "metadata": {},
     "output_type": "execute_result"
    }
   ],
   "source": [
    "np.random.binomial(10, .7, (3,5))\n",
    "# np.random.binomial?"
   ]
  },
  {
   "cell_type": "code",
   "execution_count": 16,
   "id": "fifty-costume",
   "metadata": {},
   "outputs": [
    {
     "name": "stdout",
     "output_type": "stream",
     "text": [
      "[([1, 2], [11, 12], [21, 22], [31, 32], [41, 42]), ([3, 4], [13, 14], [23, 24], [33, 34], [43, 44]), ([5, 6], [15, 16], [25, 26], [35, 36], [45, 46])]\n",
      "[array([[[ 1,  2]],\n",
      "\n",
      "       [[11, 12]],\n",
      "\n",
      "       [[21, 22]],\n",
      "\n",
      "       [[31, 32]],\n",
      "\n",
      "       [[41, 42]]]), array([[[ 3,  4]],\n",
      "\n",
      "       [[13, 14]],\n",
      "\n",
      "       [[23, 24]],\n",
      "\n",
      "       [[33, 34]],\n",
      "\n",
      "       [[43, 44]]]), array([[[ 5,  6]],\n",
      "\n",
      "       [[15, 16]],\n",
      "\n",
      "       [[25, 26]],\n",
      "\n",
      "       [[35, 36]],\n",
      "\n",
      "       [[45, 46]]])]\n",
      "3\n"
     ]
    }
   ],
   "source": [
    "D = [[[1,2],[3,4],[5,6]],\n",
    "     [[11,12],[13,14],[15,16]],\n",
    "     [[21,22],[23,24],[25,26]],\n",
    "     [[31,32],[33,34],[35,36]],\n",
    "     [[41,42],[43,44],[45,46]]\n",
    "    ]\n",
    "s = np.split(D,[1,2],1)\n",
    "print(list(zip(*D)))\n",
    "print(s)\n",
    "print(len(s))"
   ]
  },
  {
   "cell_type": "code",
   "execution_count": 17,
   "id": "distinguished-recovery",
   "metadata": {},
   "outputs": [
    {
     "name": "stdout",
     "output_type": "stream",
     "text": [
      "[(1, 4, 7), (2, 5, 8), (3, 6, 9)]\n",
      "[(1, 4, 7), (2, 5, 8), (3, 6, 9)]\n"
     ]
    }
   ],
   "source": [
    "E = [(1,2,3),(4,5,6),(7,8,9)]\n",
    "F = [[1,2,3],[4,5,6],[7,8,9]]\n",
    "print(list(zip(*E)))\n",
    "print(list(zip(*F)))"
   ]
  },
  {
   "cell_type": "code",
   "execution_count": 18,
   "id": "growing-given",
   "metadata": {},
   "outputs": [
    {
     "data": {
      "text/plain": [
       "range(1, 2)"
      ]
     },
     "execution_count": 18,
     "metadata": {},
     "output_type": "execute_result"
    }
   ],
   "source": [
    "range(1,len(E)-1)"
   ]
  },
  {
   "cell_type": "code",
   "execution_count": 31,
   "id": "typical-opening",
   "metadata": {},
   "outputs": [
    {
     "data": {
      "text/plain": [
       "array([[1, 4, 7],\n",
       "       [2, 5, 8],\n",
       "       [3, 6, 9]])"
      ]
     },
     "execution_count": 31,
     "metadata": {},
     "output_type": "execute_result"
    }
   ],
   "source": [
    "np.array(E).T"
   ]
  },
  {
   "cell_type": "code",
   "execution_count": 26,
   "id": "b05a40b3-09e1-4422-8ed6-6cd291b99d3e",
   "metadata": {},
   "outputs": [
    {
     "data": {
      "text/plain": [
       "array([[ 7.32553873e-01, -6.82907846e-01,  1.97427793e-01],\n",
       "       [ 2.69734511e-04, -1.41335816e+00, -1.66501790e-01],\n",
       "       [ 1.40000335e-01,  4.15780877e-01, -6.49215147e-01]])"
      ]
     },
     "execution_count": 26,
     "metadata": {},
     "output_type": "execute_result"
    }
   ],
   "source": [
    "for i in range(3):\n",
    "    E[i] = np.vstack(E)"
   ]
  },
  {
   "cell_type": "code",
   "execution_count": 42,
   "id": "b0200806-f50a-4d92-abb0-9cba6deaf4b7",
   "metadata": {},
   "outputs": [
    {
     "data": {
      "text/plain": [
       "[(2, 1, 7), (3, 2, 8), (4, 3, 9)]"
      ]
     },
     "execution_count": 42,
     "metadata": {},
     "output_type": "execute_result"
    }
   ],
   "source": [
    "list(zip(*[[2,3,4], [1,2,3], [7,8,9]]))"
   ]
  },
  {
   "cell_type": "code",
   "execution_count": 50,
   "id": "253565f1-8865-4987-836e-2262cc5935b5",
   "metadata": {},
   "outputs": [
    {
     "data": {
      "text/plain": [
       "array([[ 1.15570985, -0.43920467, -0.92932746],\n",
       "       [ 0.09495838, -0.70910868, -0.0875915 ],\n",
       "       [ 1.51899309,  0.4733136 , -0.35938405]])"
      ]
     },
     "execution_count": 50,
     "metadata": {},
     "output_type": "execute_result"
    }
   ],
   "source": [
    "np.random.normal(0, 1, (3, 3))"
   ]
  },
  {
   "cell_type": "code",
   "execution_count": 51,
   "id": "28c8463e-a846-495f-a1e0-f5e71c49e59c",
   "metadata": {},
   "outputs": [
    {
     "data": {
      "text/plain": [
       "array([[-0.30767585, -1.3226932 ,  0.04482165],\n",
       "       [ 0.77664557, -1.36580642, -0.79612496],\n",
       "       [ 2.49539777,  0.93502562, -0.05266252]])"
      ]
     },
     "execution_count": 51,
     "metadata": {},
     "output_type": "execute_result"
    }
   ],
   "source": [
    "np.random.randn(3, 3)"
   ]
  },
  {
   "cell_type": "code",
   "execution_count": 52,
   "id": "b71ecc8a-6711-411e-bf8c-a9e27573e6c7",
   "metadata": {},
   "outputs": [],
   "source": [
    "a = np.ones((256, 676))\n",
    "b = np.ones((256, 9, 676))"
   ]
  },
  {
   "cell_type": "code",
   "execution_count": 54,
   "id": "c0f31d75-b613-4b19-bfb3-8cddf4bca4a7",
   "metadata": {},
   "outputs": [
    {
     "data": {
      "text/plain": [
       "((256, 9, 676), (9, 256, 676))"
      ]
     },
     "execution_count": 54,
     "metadata": {},
     "output_type": "execute_result"
    }
   ],
   "source": [
    "b.shape, b.transpose(1,0,2).shape"
   ]
  },
  {
   "cell_type": "code",
   "execution_count": 55,
   "id": "cb37d91f-406f-44d9-a60e-d877df4a662f",
   "metadata": {},
   "outputs": [
    {
     "ename": "ValueError",
     "evalue": "matmul: Input operand 1 has a mismatch in its core dimension 0, with gufunc signature (n?,k),(k,m?)->(n?,m?) (size 9 is different from 676)",
     "output_type": "error",
     "traceback": [
      "\u001b[1;31m---------------------------------------------------------------------------\u001b[0m",
      "\u001b[1;31mValueError\u001b[0m                                Traceback (most recent call last)",
      "\u001b[1;32m<ipython-input-55-83ff41beb573>\u001b[0m in \u001b[0;36m<module>\u001b[1;34m\u001b[0m\n\u001b[1;32m----> 1\u001b[1;33m \u001b[0ma\u001b[0m \u001b[1;33m@\u001b[0m \u001b[0mb\u001b[0m\u001b[1;33m.\u001b[0m\u001b[0mT\u001b[0m\u001b[1;33m\u001b[0m\u001b[1;33m\u001b[0m\u001b[0m\n\u001b[0m",
      "\u001b[1;31mValueError\u001b[0m: matmul: Input operand 1 has a mismatch in its core dimension 0, with gufunc signature (n?,k),(k,m?)->(n?,m?) (size 9 is different from 676)"
     ]
    }
   ],
   "source": [
    "a @ b.T"
   ]
  },
  {
   "cell_type": "code",
   "execution_count": null,
   "id": "adfe88d9-93f4-4475-b4c8-9eb63ef7aa69",
   "metadata": {},
   "outputs": [],
   "source": []
  }
 ],
 "metadata": {
  "kernelspec": {
   "display_name": "Python 3",
   "language": "python",
   "name": "python3"
  },
  "language_info": {
   "codemirror_mode": {
    "name": "ipython",
    "version": 3
   },
   "file_extension": ".py",
   "mimetype": "text/x-python",
   "name": "python",
   "nbconvert_exporter": "python",
   "pygments_lexer": "ipython3",
   "version": "3.8.8"
  }
 },
 "nbformat": 4,
 "nbformat_minor": 5
}
