{
 "cells": [
  {
   "cell_type": "markdown",
   "id": "894c3c44-ae43-446d-8f2e-023e3c171bb9",
   "metadata": {},
   "source": [
    "### 设备"
   ]
  },
  {
   "cell_type": "code",
   "execution_count": null,
   "id": "5997d576-3184-48c6-aff6-a8522585807d",
   "metadata": {},
   "outputs": [],
   "source": [
    "import torch\n",
    "a = torch.ones(3, 3)"
   ]
  },
  {
   "cell_type": "code",
   "execution_count": null,
   "id": "3c7b7dc4-7c74-40e5-b4a0-2000495eeeae",
   "metadata": {},
   "outputs": [],
   "source": [
    "a.cpu(), a.cpu"
   ]
  }
 ],
 "metadata": {
  "kernelspec": {
   "display_name": "Python 3",
   "language": "python",
   "name": "python3"
  },
  "language_info": {
   "codemirror_mode": {
    "name": "ipython",
    "version": 3
   },
   "file_extension": ".py",
   "mimetype": "text/x-python",
   "name": "python",
   "nbconvert_exporter": "python",
   "pygments_lexer": "ipython3",
   "version": "3.8.8"
  }
 },
 "nbformat": 4,
 "nbformat_minor": 5
}
