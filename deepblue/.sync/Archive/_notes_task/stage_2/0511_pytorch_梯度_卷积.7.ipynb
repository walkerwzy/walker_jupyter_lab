{
 "cells": [
  {
   "cell_type": "markdown",
   "id": "894c3c44-ae43-446d-8f2e-023e3c171bb9",
   "metadata": {},
   "source": [
    "### 设备"
   ]
  },
  {
   "cell_type": "code",
   "execution_count": 2,
   "id": "5997d576-3184-48c6-aff6-a8522585807d",
   "metadata": {},
   "outputs": [],
   "source": [
    "import torch\n",
    "a = torch.ones(3, 3)"
   ]
  },
  {
   "cell_type": "code",
   "execution_count": 5,
   "id": "3c7b7dc4-7c74-40e5-b4a0-2000495eeeae",
   "metadata": {},
   "outputs": [
    {
     "data": {
      "text/plain": [
       "(tensor([[1., 1., 1.],\n",
       "         [1., 1., 1.],\n",
       "         [1., 1., 1.]]),\n",
       " device(type='cpu'))"
      ]
     },
     "execution_count": 5,
     "metadata": {},
     "output_type": "execute_result"
    }
   ],
   "source": [
    "a.cpu(), a.cpu().device"
   ]
  },
  {
   "cell_type": "code",
   "execution_count": 7,
   "id": "a8385832-942f-4704-b270-18cf209e836b",
   "metadata": {},
   "outputs": [],
   "source": [
    "# a.cuda(2), a.cuda(2).device, a.cuda(\"cuda:2\"), a.cuda(\"cuda:2\").device\n",
    "# 前提是你有相关硬件和包"
   ]
  },
  {
   "cell_type": "markdown",
   "id": "21c02f7c-2a68-44ab-a23c-a79ad0c8799c",
   "metadata": {},
   "source": [
    "### 梯度"
   ]
  },
  {
   "cell_type": "code",
   "execution_count": 11,
   "id": "f06fa733-37dd-4811-9cf3-0b068c169605",
   "metadata": {},
   "outputs": [
    {
     "data": {
      "text/plain": [
       "(None, None, tensor([3., 3., 3.]))"
      ]
     },
     "execution_count": 11,
     "metadata": {},
     "output_type": "execute_result"
    }
   ],
   "source": [
    "x = torch.tensor([1.,2.,3.], requires_grad=True) # 注意要使用浮点型，因为求导过程中可能会产生小数\n",
    "y = x * 2 + x  # 显然， dy/dx = 3 ->[3, 3, 3]\n",
    "loss = y.sum()\n",
    "\n",
    "# 反向传播\n",
    "loss.backward()\n",
    "loss.grad, y.grad, x.grad"
   ]
  },
  {
   "cell_type": "markdown",
   "id": "b45cbe7e-aa05-4e32-902c-c3cd984d5655",
   "metadata": {},
   "source": [
    "如果不是整个tensor参与计算，那么只有索引出来的部分会求导"
   ]
  },
  {
   "cell_type": "code",
   "execution_count": 13,
   "id": "c27e90f2-77c8-4685-9928-eb7b62e2e5ff",
   "metadata": {},
   "outputs": [
    {
     "data": {
      "text/plain": [
       "tensor([3., 9., 3.])"
      ]
     },
     "execution_count": 13,
     "metadata": {},
     "output_type": "execute_result"
    }
   ],
   "source": [
    "y = x[1] * 3\n",
    "y.backward()\n",
    "x.grad"
   ]
  },
  {
   "cell_type": "markdown",
   "id": "fe750ade-eb24-477f-bb74-3bb702ea8dc3",
   "metadata": {},
   "source": [
    "### ReLU\n",
    "\n",
    "Relu函数是大于0就保留，小于0就置0"
   ]
  },
  {
   "cell_type": "code",
   "execution_count": null,
   "id": "bf656700-9a9b-419b-8bcf-ca85fd9e303b",
   "metadata": {},
   "outputs": [],
   "source": []
  }
 ],
 "metadata": {
  "kernelspec": {
   "display_name": "Python 3",
   "language": "python",
   "name": "python3"
  },
  "language_info": {
   "codemirror_mode": {
    "name": "ipython",
    "version": 3
   },
   "file_extension": ".py",
   "mimetype": "text/x-python",
   "name": "python",
   "nbconvert_exporter": "python",
   "pygments_lexer": "ipython3",
   "version": "3.8.8"
  }
 },
 "nbformat": 4,
 "nbformat_minor": 5
}
