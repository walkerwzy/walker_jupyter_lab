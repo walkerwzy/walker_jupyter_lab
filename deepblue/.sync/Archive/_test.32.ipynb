{
 "cells": [
  {
   "cell_type": "code",
   "execution_count": 23,
   "id": "organic-profession",
   "metadata": {},
   "outputs": [],
   "source": [
    "import numpy as np"
   ]
  },
  {
   "cell_type": "code",
   "execution_count": 24,
   "id": "smoking-electricity",
   "metadata": {},
   "outputs": [
    {
     "data": {
      "text/plain": [
       "'E:\\\\Users\\\\walker\\\\mnist'"
      ]
     },
     "execution_count": 24,
     "metadata": {},
     "output_type": "execute_result"
    }
   ],
   "source": [
    "import os\n",
    "os.path.abspath('/Users/walker/mnist')"
   ]
  },
  {
   "cell_type": "code",
   "execution_count": 25,
   "id": "timely-backup",
   "metadata": {},
   "outputs": [
    {
     "data": {
      "text/plain": [
       "(torch.Tensor, torch.Tensor)"
      ]
     },
     "execution_count": 25,
     "metadata": {},
     "output_type": "execute_result"
    }
   ],
   "source": [
    "import torch\n",
    "all_predict = []\n",
    "# shapes: torch.Size([128, 2]) torch.Size([128, 1])\n",
    "feature = torch.arange(0,9).view(-1,3)\n",
    "targets = torch.arange(0,3).view(3,-1)\n",
    "# torch.cat([feature, targets], dim=1).shape\n",
    "# all_predict.append(torch.cat([feature, targets], dim=1))\n",
    "# all_predict.append(torch.cat([feature, targets], dim=1))\n",
    "# all_predict.append(torch.cat([feature, targets], dim=1))\n",
    "# all_predict.append(torch.cat([feature, targets], dim=1))\n",
    "# all_predict, torch.cat(all_predict)\n",
    "type(targets.cpu()), type(targets.data)"
   ]
  },
  {
   "cell_type": "code",
   "execution_count": 30,
   "id": "female-powell",
   "metadata": {},
   "outputs": [
    {
     "data": {
      "text/plain": [
       "<matplotlib.legend.Legend at 0x1e3dd0fb130>"
      ]
     },
     "execution_count": 30,
     "metadata": {},
     "output_type": "execute_result"
    },
    {
     "data": {
      "image/png": "[encoded data removed]",
      "text/plain": [
       "<Figure size 432x288 with 1 Axes>"
      ]
     },
     "metadata": {
      "needs_background": "light"
     },
     "output_type": "display_data"
    }
   ],
   "source": [
    "import matplotlib.pyplot as plt\n",
    "\n",
    "d = np.random.randn(20, 3)\n",
    "ax = plt.axes(projection='3d')\n",
    "ax.scatter(d[:,0], d[:,1], d[:,2])\n",
    "ax.scatter(d[:,0], d[:,2], d[:,1], c='red')\n",
    "ax.scatter(d[:,1], d[:,0], d[:,2], c='yellow')\n",
    "ax.scatter(d[:,1], d[:,2], d[:,0],)\n",
    "ax.scatter(d[:,2], d[:,1], d[:,0])\n",
    "plt.legend(['0', '1', '2', '3', '4', '5', '6', '7', '8', '9'],loc=\"upper right\")"
   ]
  },
  {
   "cell_type": "code",
   "execution_count": 5,
   "id": "weird-runner",
   "metadata": {},
   "outputs": [
    {
     "data": {
      "text/plain": [
       "[[1, 2, 3, [2, 3, 4]], [4, 5, 6], [7, 8, 9]]"
      ]
     },
     "execution_count": 5,
     "metadata": {},
     "output_type": "execute_result"
    }
   ],
   "source": [
    "B = A.copy()\n",
    "for i in range(3):\n",
    "    B[i] = np.vstack(B[i])\n",
    "\n",
    "C = [[1,2,3],[4,5,6],[7,8,9]]\n",
    "C[0].append([2,3,4])\n",
    "C"
   ]
  },
  {
   "cell_type": "code",
   "execution_count": 6,
   "id": "loving-address",
   "metadata": {},
   "outputs": [],
   "source": [
    "c = [[] for _ in range(3)]\n",
    "c[0].append([1,2,3])\n",
    "c[0].append([4,5,6])\n",
    "c[1].append([11,12,13])\n",
    "c[1].append([14,15,16])\n",
    "c[2].append([311,312,313])\n",
    "c[2].append([314,315,316])"
   ]
  },
  {
   "cell_type": "code",
   "execution_count": 7,
   "id": "sexual-norway",
   "metadata": {},
   "outputs": [
    {
     "data": {
      "text/plain": [
       "[array([[1, 2, 3],\n",
       "        [4, 5, 6]]),\n",
       " array([[11, 12, 13],\n",
       "        [14, 15, 16]]),\n",
       " array([[311, 312, 313],\n",
       "        [314, 315, 316]])]"
      ]
     },
     "execution_count": 7,
     "metadata": {},
     "output_type": "execute_result"
    }
   ],
   "source": [
    "for index in range(len(c)):\n",
    "    c[index] = np.vstack(c[index])\n",
    "c"
   ]
  },
  {
   "cell_type": "code",
   "execution_count": 8,
   "id": "fatal-cigarette",
   "metadata": {},
   "outputs": [
    {
     "data": {
      "text/plain": [
       "matrix([[2],\n",
       "        [2],\n",
       "        [2]])"
      ]
     },
     "execution_count": 8,
     "metadata": {},
     "output_type": "execute_result"
    }
   ],
   "source": [
    "np.argmax(A, axis=1)"
   ]
  },
  {
   "cell_type": "code",
   "execution_count": 9,
   "id": "ambient-mining",
   "metadata": {},
   "outputs": [
    {
     "data": {
      "text/plain": [
       "matrix([[1, 2, 3],\n",
       "        [4, 5, 6],\n",
       "        [7, 8, 9]])"
      ]
     },
     "execution_count": 9,
     "metadata": {},
     "output_type": "execute_result"
    }
   ],
   "source": [
    "B"
   ]
  },
  {
   "cell_type": "code",
   "execution_count": 10,
   "id": "sapphire-marker",
   "metadata": {},
   "outputs": [
    {
     "data": {
      "text/plain": [
       "9"
      ]
     },
     "execution_count": 10,
     "metadata": {},
     "output_type": "execute_result"
    }
   ],
   "source": [
    "(A==B).sum()\n"
   ]
  },
  {
   "cell_type": "code",
   "execution_count": 11,
   "id": "regulated-leisure",
   "metadata": {},
   "outputs": [
    {
     "data": {
      "text/plain": [
       "array([[8, 7, 9, 6, 7],\n",
       "       [8, 8, 7, 9, 6],\n",
       "       [9, 7, 5, 4, 3]])"
      ]
     },
     "execution_count": 11,
     "metadata": {},
     "output_type": "execute_result"
    }
   ],
   "source": [
    "np.random.binomial(10, .7, (3,5))\n",
    "# np.random.binomial?"
   ]
  },
  {
   "cell_type": "code",
   "execution_count": 12,
   "id": "supreme-google",
   "metadata": {},
   "outputs": [
    {
     "name": "stdout",
     "output_type": "stream",
     "text": [
      "[([1, 2], [11, 12], [21, 22], [31, 32], [41, 42]), ([3, 4], [13, 14], [23, 24], [33, 34], [43, 44]), ([5, 6], [15, 16], [25, 26], [35, 36], [45, 46])]\n",
      "[array([[[ 1,  2]],\n",
      "\n",
      "       [[11, 12]],\n",
      "\n",
      "       [[21, 22]],\n",
      "\n",
      "       [[31, 32]],\n",
      "\n",
      "       [[41, 42]]]), array([[[ 3,  4]],\n",
      "\n",
      "       [[13, 14]],\n",
      "\n",
      "       [[23, 24]],\n",
      "\n",
      "       [[33, 34]],\n",
      "\n",
      "       [[43, 44]]]), array([[[ 5,  6]],\n",
      "\n",
      "       [[15, 16]],\n",
      "\n",
      "       [[25, 26]],\n",
      "\n",
      "       [[35, 36]],\n",
      "\n",
      "       [[45, 46]]])]\n",
      "3\n"
     ]
    }
   ],
   "source": [
    "D = [[[1,2],[3,4],[5,6]],\n",
    "     [[11,12],[13,14],[15,16]],\n",
    "     [[21,22],[23,24],[25,26]],\n",
    "     [[31,32],[33,34],[35,36]],\n",
    "     [[41,42],[43,44],[45,46]]\n",
    "    ]\n",
    "s = np.split(D,[1,2],1)\n",
    "print(list(zip(*D)))\n",
    "print(s)\n",
    "print(len(s))"
   ]
  },
  {
   "cell_type": "code",
   "execution_count": 13,
   "id": "conscious-teaching",
   "metadata": {},
   "outputs": [
    {
     "name": "stdout",
     "output_type": "stream",
     "text": [
      "[(1, 4, 7), (2, 5, 8), (3, 6, 9)]\n",
      "[(1, 4, 7), (2, 5, 8), (3, 6, 9)]\n"
     ]
    }
   ],
   "source": [
    "E = [(1,2,3),(4,5,6),(7,8,9)]\n",
    "F = [[1,2,3],[4,5,6],[7,8,9]]\n",
    "print(list(zip(*E)))\n",
    "print(list(zip(*F)))"
   ]
  },
  {
   "cell_type": "code",
   "execution_count": 14,
   "id": "frank-configuration",
   "metadata": {},
   "outputs": [
    {
     "data": {
      "text/plain": [
       "range(1, 2)"
      ]
     },
     "execution_count": 14,
     "metadata": {},
     "output_type": "execute_result"
    }
   ],
   "source": [
    "range(1,len(E)-1)"
   ]
  },
  {
   "cell_type": "code",
   "execution_count": 15,
   "id": "received-works",
   "metadata": {},
   "outputs": [
    {
     "data": {
      "text/plain": [
       "array([[1, 4, 7],\n",
       "       [2, 5, 8],\n",
       "       [3, 6, 9]])"
      ]
     },
     "execution_count": 15,
     "metadata": {},
     "output_type": "execute_result"
    }
   ],
   "source": [
    "np.array(E).T"
   ]
  },
  {
   "cell_type": "code",
   "execution_count": 16,
   "id": "above-touch",
   "metadata": {},
   "outputs": [],
   "source": [
    "for i in range(3):\n",
    "    E[i] = np.vstack(E)"
   ]
  },
  {
   "cell_type": "code",
   "execution_count": 17,
   "id": "fantastic-estonia",
   "metadata": {},
   "outputs": [
    {
     "data": {
      "text/plain": [
       "[(2, 1, 7), (3, 2, 8), (4, 3, 9)]"
      ]
     },
     "execution_count": 17,
     "metadata": {},
     "output_type": "execute_result"
    }
   ],
   "source": [
    "list(zip(*[[2,3,4], [1,2,3], [7,8,9]]))"
   ]
  },
  {
   "cell_type": "code",
   "execution_count": 18,
   "id": "oriental-coffee",
   "metadata": {},
   "outputs": [
    {
     "data": {
      "text/plain": [
       "array([[-0.42529674,  0.36576759, -0.39845446,  1.56649056, -1.3219994 ,\n",
       "        -0.74279994,  1.02447456, -0.95880805, -0.2665944 ,  0.15537825,\n",
       "        -0.59932169,  0.18409204, -0.68644111,  0.86764143, -2.07027422,\n",
       "         0.11835785, -2.01574707, -0.73099842, -0.30466814,  0.24594091,\n",
       "         0.05368834,  0.6876791 ,  1.5495014 , -0.61476303, -1.00481012,\n",
       "         1.23705708, -1.40665339]])"
      ]
     },
     "execution_count": 18,
     "metadata": {},
     "output_type": "execute_result"
    }
   ],
   "source": [
    "np.random.normal(0, 1, (3, 3, 3)).reshape(1, -1)"
   ]
  },
  {
   "cell_type": "code",
   "execution_count": 19,
   "id": "confirmed-passage",
   "metadata": {},
   "outputs": [
    {
     "data": {
      "text/plain": [
       "array([[ 0.71019955,  1.30171416, -0.57951826, -1.13186042,  0.67170391,\n",
       "         0.47199083,  2.61332393, -1.59484828,  0.06959465, -0.03537705,\n",
       "         0.82988246,  1.29234136,  0.36499147, -1.77083405, -0.63001295,\n",
       "         0.19673209,  0.53299814,  0.18716681, -0.43688508,  0.25952114,\n",
       "         0.74595329,  0.5826294 , -1.28648244,  0.07868306, -1.97621907,\n",
       "        -0.41489458,  0.4596897 ]])"
      ]
     },
     "execution_count": 19,
     "metadata": {},
     "output_type": "execute_result"
    }
   ],
   "source": [
    "np.random.randn(1, 27)"
   ]
  },
  {
   "cell_type": "code",
   "execution_count": 23,
   "id": "sonic-avatar",
   "metadata": {},
   "outputs": [
    {
     "data": {
      "text/plain": [
       "array([ 6, 15, 24])"
      ]
     },
     "execution_count": 23,
     "metadata": {},
     "output_type": "execute_result"
    }
   ],
   "source": [
    "def gemm_im2col(tensor, kernel):\n",
    "      # e.g. tensor:(1024, 28, 28), kernel:(1, 9)\n",
    "#     print(f'tensor:{tensor.shape}, kernel:{kernel.shape}')\n",
    "#     _, kh, kw = kernel.shape\n",
    "    kh, kw  = kernel.shape\n",
    "    c, h, w = tensor.shape\n",
    "    ksize = kw * kh\n",
    "    s = (w - kw + 1) * (h - kh + 1)  # s:单图列数， ksize: 行数， c:图片张数  s*c=总列数\n",
    "#     column = np.zeros((1, kh * kw * c, s))\n",
    "    column = np.zeros((ksize, s * c))\n",
    "    col_kernel = kernel.reshape(1, -1) \n",
    "    half_kx = kw // 2\n",
    "    half_ky = kh // 2\n",
    "\n",
    "    for ic in range(c):\n",
    "        for iy in range(half_ky, h - half_ky):\n",
    "            for ix in range(half_kx, w - half_kx):\n",
    "                for iky in range(kh):\n",
    "                    for ikx in range(kw):\n",
    "                        pixel_value = tensor[ic, iy - half_ky + iky, ix - half_kx + ikx]\n",
    "                        col_x = ic * ksize + (ix-half_kx) + (iy-half_ky)\n",
    "                        col_y = ikx + iky * kw\n",
    "                        column[col_y, col_x] = pixel_value\n",
    "#   e.g. output = (1, 9) x (9, 173056)\n",
    "#   print(f'output = {col_kernel.shape} x {column.shape}')\n",
    "    output = col_kernel @ column\n",
    "    return output, column\n",
    "\n",
    "def gemm_col2im_index(row, col, ctr, k_size=3):\n",
    "    '''\n",
    "        row: 行索引（其实就是在kernel形状内移动几次）\n",
    "        col: 列索引\n",
    "        ctr: kernel窗口在图片内移动多少次换行\n",
    "        k_size: kernel核大小，3x3即传3\n",
    "\n",
    "        左上角=(col//ctr, col%ctr)\n",
    "        行偏移：row // ksize\n",
    "        列偏移：row % ksize\n",
    "    \n",
    "    '''\n",
    "    start = (col // ctr, col % ctr)\n",
    "    rowindex = start[0] + row // k_size\n",
    "    colindex = start[1] + row % k_size\n",
    "    return (rowindex, colindex)\n",
    "\n",
    "def gemm_col2im(column, ctr, ker_size, outimage):\n",
    "    '''\n",
    "        ctr: kernel能在一张图片里横向滑动的次数\n",
    "        ker_size: 比如3\n",
    "    '''\n",
    "    height, width = column.shape\n",
    "    for row in range(height):     # kernel元素个数决定行数\n",
    "        for col in range(width):  # 28*28 -> 26*26 -> 决定列数\n",
    "            batch     = col // size\n",
    "            c         = col % size  # 即每26*26换了一张图，列索引归零\n",
    "            row_index, col_index = gemm_col2im_index(row, c, ctr, ker)\n",
    "            g_out[batch, row_index, col_index] += column[row, col]"
   ]
  },
  {
   "cell_type": "code",
   "execution_count": 83,
   "id": "intellectual-investigator",
   "metadata": {},
   "outputs": [
    {
     "name": "stdout",
     "output_type": "stream",
     "text": [
      "(28, 0)\n"
     ]
    },
    {
     "data": {
      "text/plain": [
       "(28, 0)"
      ]
     },
     "execution_count": 83,
     "metadata": {},
     "output_type": "execute_result"
    }
   ],
   "source": [
    "def get_index(row, col, ctr=5, k_size=3):\n",
    "    start = (col // ctr, col % ctr)\n",
    "    print(start)\n",
    "    rowindex = start[0] + row//k_size\n",
    "    colindex = start[1] + row%k_size\n",
    "    return (rowindex, colindex)\n",
    "get_index(0, 728, 26)"
   ]
  },
  {
   "cell_type": "code",
   "execution_count": 65,
   "id": "endless-parameter",
   "metadata": {},
   "outputs": [
    {
     "data": {
      "text/plain": [
       "(0, 2)"
      ]
     },
     "execution_count": 65,
     "metadata": {},
     "output_type": "execute_result"
    }
   ],
   "source": [
    "2//5, 2%5"
   ]
  },
  {
   "cell_type": "code",
   "execution_count": 66,
   "id": "silver-scholarship",
   "metadata": {},
   "outputs": [
    {
     "name": "stdout",
     "output_type": "stream",
     "text": [
      "Object `np.extend` not found.\n"
     ]
    }
   ],
   "source": [
    "np.extend?"
   ]
  },
  {
   "attachments": {
    "97cee58b-c79b-48bc-bd4e-e3cd36ad0d27.png": {
     "image/png": "[encoded data removed]"
    }
   },
   "cell_type": "markdown",
   "id": "functional-trade",
   "metadata": {},
   "source": [
    "按照课程`img2col`excel进行如下实现：\n",
    "\n",
    "1. kernel 取 3x3，摊平为1x9\n",
    "2. 一张图片一个输出，所以只有一个kernel\n",
    "2. 图片根据mnist实际情况，简化为单通道，所以最多9行\n",
    "3. 暂未考虑padding，所以输入28x28，输出应为26x26(`=676`)\n",
    "4. 所以一张图转成column后size为(9, 676)\n",
    "5. 第2, 3...张图依次拼到第一张图的输出后面(见附图）\n",
    "6. 每个batch256张的话，最终column有(9, 173056) `(256*676=173056)` \n",
    "\n",
    "![image.png](attachment:97cee58b-c79b-48bc-bd4e-e3cd36ad0d27.png)\n",
    "\n",
    "$output = \\color{red}{kernel} @ \\color{red}{column} \\Rightarrow (1 \\times 173056) $\n",
    "\n",
    "维度：(1, 9) x (9, 173056) = (1, 173056) $\\quad \\underrightarrow{reshape}\\quad$ (256, 676) 传给下一层\n",
    "\n",
    "---\n",
    "\n",
    "为了下文方便，我把kernel记作参数$\\theta$, column记作变量`X`\n",
    "\n",
    "所以$Y = \\theta \\cdot X$\n",
    "\n",
    "在`backword(self, g)`方法中\n",
    "\n",
    "$\\frac{\\partial Y}{\\partial\\theta} = g \\cdot X^T$\n",
    "\n",
    "因为是reshape再输出的，这里把g(256, 676) reshape回来成为(1, 173056)， 有：  \n",
    "(1, 173056) x (173056, 9) $\\Rightarrow$ (1, 9), 用来更新kernel\n",
    "```python\n",
    "self.weight.grad += g.reshape(...) @ self.x.T\n",
    "```\n",
    "\n",
    "$\\frac{\\partial Y}{\\partial X} = \\theta^T \\cdot g$ 何解？\n",
    "\n",
    "(9, 1) x (1, 173056) = (9, 173056) ?"
   ]
  },
  {
   "cell_type": "code",
   "execution_count": null,
   "id": "level-master",
   "metadata": {},
   "outputs": [],
   "source": []
  }
 ],
 "metadata": {
  "kernelspec": {
   "display_name": "Python 3",
   "language": "python",
   "name": "python3"
  },
  "language_info": {
   "codemirror_mode": {
    "name": "ipython",
    "version": 3
   },
   "file_extension": ".py",
   "mimetype": "text/x-python",
   "name": "python",
   "nbconvert_exporter": "python",
   "pygments_lexer": "ipython3",
   "version": "3.8.8"
  }
 },
 "nbformat": 4,
 "nbformat_minor": 5
}
