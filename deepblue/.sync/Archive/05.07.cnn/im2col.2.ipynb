{
 "cells": [
  {
   "cell_type": "code",
   "execution_count": 1,
   "metadata": {},
   "outputs": [],
   "source": [
    "import numpy as np\n",
    "import matplotlib.pyplot as plt\n",
    "import cv2"
   ]
  },
  {
   "cell_type": "code",
   "execution_count": 20,
   "metadata": {},
   "outputs": [
    {
     "data": {
      "text/plain": [
       "(1, 3, 324, 450)"
      ]
     },
     "execution_count": 20,
     "metadata": {},
     "output_type": "execute_result"
    }
   ],
   "source": [
    "image = cv2.imread(\"x.jpg\")\n",
    "#image = cv2.resize(image, (5, 5))\n",
    "itensor = image.transpose(2, 0, 1)[None]  # 等同于image.transpose(2,0,1)[np.newaxis,:]\n",
    "# 有点像zip(*data)\n",
    "# data里每一组包含3个对象，unzip的时候把这三个对象分别解到三个数组里去\n",
    "# 这里就是把三个像素值解到三个数组里去，其它维度不变\n",
    "# itensor = np.array(list(zip(*image)))\n",
    "# itensor = image.transpose(2,0,1)[np.newaxis,:]\n",
    "itensor.shape"
   ]
  },
  {
   "cell_type": "code",
   "execution_count": 21,
   "metadata": {},
   "outputs": [],
   "source": [
    "def gaussian_kernel2d(size, sigma):\n",
    "    \n",
    "    s = 2 * sigma ** 2\n",
    "    center = size // 2\n",
    "    output = np.zeros((size, size))\n",
    "    for i in range(size):\n",
    "        for j in range(size):\n",
    "            y = i - center\n",
    "            x = j - center\n",
    "            output[i, j] = np.exp(-(x ** 2 + y ** 2) / s)\n",
    "    return output / np.sum(output)"
   ]
  },
  {
   "cell_type": "code",
   "execution_count": 27,
   "metadata": {},
   "outputs": [
    {
     "data": {
      "text/plain": [
       "(3, 3, 3)"
      ]
     },
     "execution_count": 27,
     "metadata": {},
     "output_type": "execute_result"
    }
   ],
   "source": [
    "#kernel = np.repeat(gaussian_kernel2d(3, 1)[None], 3, axis=0)\n",
    "kernel = np.vstack([\n",
    "    np.array(\n",
    "    [\n",
    "        [1, 0, -1], \n",
    "        [1, 0, -1], \n",
    "        [1, 0, -1]\n",
    "    ])[None],\n",
    "    np.array(\n",
    "    [\n",
    "        [1, 0, -1], \n",
    "        [1, 0, -1], \n",
    "        [1, 0, -1]\n",
    "    ])[None],\n",
    "    gaussian_kernel2d(3, 10)[None]\n",
    "])\n",
    "kernel.shape"
   ]
  },
  {
   "cell_type": "code",
   "execution_count": 28,
   "metadata": {},
   "outputs": [
    {
     "data": {
      "text/plain": [
       "(3, 3)"
      ]
     },
     "execution_count": 28,
     "metadata": {},
     "output_type": "execute_result"
    }
   ],
   "source": [
    "_, kh, kw = kernel.shape\n",
    "kh, kw"
   ]
  },
  {
   "cell_type": "code",
   "execution_count": 29,
   "metadata": {},
   "outputs": [
    {
     "data": {
      "text/plain": [
       "(1, 3, 324, 450)"
      ]
     },
     "execution_count": 29,
     "metadata": {},
     "output_type": "execute_result"
    }
   ],
   "source": [
    "n, c, h, w = itensor.shape\n",
    "n, c, h, w"
   ]
  },
  {
   "cell_type": "markdown",
   "metadata": {},
   "source": [
    "* 计算输出维度的列数s = (image_width - kernel_width + 1) x (image_height - kernel_height + 1)"
   ]
  },
  {
   "cell_type": "code",
   "execution_count": 30,
   "metadata": {},
   "outputs": [
    {
     "data": {
      "text/plain": [
       "144256"
      ]
     },
     "execution_count": 30,
     "metadata": {},
     "output_type": "execute_result"
    }
   ],
   "source": [
    "s = (w - kw + 1) * (h - kh + 1)\n",
    "s"
   ]
  },
  {
   "cell_type": "code",
   "execution_count": 31,
   "metadata": {},
   "outputs": [
    {
     "data": {
      "text/plain": [
       "(27, 144256)"
      ]
     },
     "execution_count": 31,
     "metadata": {},
     "output_type": "execute_result"
    }
   ],
   "source": [
    "column = np.zeros((kh * kw * c, s))\n",
    "column.shape"
   ]
  },
  {
   "cell_type": "code",
   "execution_count": 32,
   "metadata": {},
   "outputs": [
    {
     "data": {
      "text/plain": [
       "(1, 27)"
      ]
     },
     "execution_count": 32,
     "metadata": {},
     "output_type": "execute_result"
    }
   ],
   "source": [
    "col_kernel = kernel.reshape(1, -1)\n",
    "col_kernel.shape"
   ]
  },
  {
   "cell_type": "markdown",
   "metadata": {},
   "source": [
    "* image2column"
   ]
  },
  {
   "cell_type": "code",
   "execution_count": 33,
   "metadata": {},
   "outputs": [],
   "source": [
    "half_kx = kw // 2\n",
    "half_ky = kh // 2\n",
    "ksize = kw * kh\n",
    "for ic in range(c):\n",
    "    col_x = 0\n",
    "    for iy in range(half_ky, h - half_ky):\n",
    "        for ix in range(half_kx, w - half_kx):\n",
    "            for iky in range(kh):\n",
    "                for ikx in range(kw):\n",
    "                    pixel_value = itensor[0, ic, iy - half_ky + iky, ix - half_kx + ikx]\n",
    "                    col_y = ic * ksize + ikx + iky * kw\n",
    "                    column[col_y, col_x] = pixel_value\n",
    "            col_x += 1"
   ]
  },
  {
   "cell_type": "markdown",
   "metadata": {},
   "source": [
    "* 卷积计算，GEMM方法"
   ]
  },
  {
   "cell_type": "code",
   "execution_count": 35,
   "metadata": {},
   "outputs": [
    {
     "data": {
      "text/plain": [
       "(1, 144256)"
      ]
     },
     "execution_count": 35,
     "metadata": {},
     "output_type": "execute_result"
    }
   ],
   "source": [
    "output = col_kernel @ column\n",
    "output.shape"
   ]
  },
  {
   "cell_type": "code",
   "execution_count": 36,
   "metadata": {},
   "outputs": [
    {
     "data": {
      "text/plain": [
       "(322, 448)"
      ]
     },
     "execution_count": 36,
     "metadata": {},
     "output_type": "execute_result"
    }
   ],
   "source": [
    "# 恢复变为图像维度\n",
    "oim = output.reshape(h - kh + 1, -1)\n",
    "\n",
    "# 归一化\n",
    "oim = (oim - np.min(oim)) / (np.max(oim) - np.min(oim))\n",
    "oim.shape"
   ]
  },
  {
   "cell_type": "code",
   "execution_count": 37,
   "metadata": {},
   "outputs": [
    {
     "data": {
      "text/plain": [
       "<matplotlib.image.AxesImage at 0x7f9939e66110>"
      ]
     },
     "execution_count": 37,
     "metadata": {},
     "output_type": "execute_result"
    },
    {
     "data": {
      "image/png": "[encoded data removed]",
      "text/plain": [
       "<Figure size 432x288 with 1 Axes>"
      ]
     },
     "metadata": {
      "needs_background": "light"
     },
     "output_type": "display_data"
    }
   ],
   "source": [
    "plt.imshow(oim, cmap=\"gray\")"
   ]
  },
  {
   "cell_type": "markdown",
   "metadata": {},
   "source": [
    "### 作业\n",
    "1. 实现输入为2张3通道图，输出为2通道结果。kernel采用3x3第一组采用拉普拉斯核[1, 1, 1, 1, -8, 1, 1, 1, 1]，第二组采用梯度核[1, 0, -1, 1, 0, -1, 1, 0, -1]"
   ]
  },
  {
   "cell_type": "code",
   "execution_count": 109,
   "metadata": {},
   "outputs": [],
   "source": [
    "image1 = cv2.imread(\"x.jpg\")\n",
    "image1 = cv2.resize(image1, (200, 160))\n",
    "image1 = image1.transpose(2, 0, 1)[None]\n",
    "image2 = cv2.imread(\"cv2.png\")\n",
    "image2 = cv2.resize(image2, (200, 160))\n",
    "image2 = image2.transpose(2, 0, 1)[None]\n",
    "# 使用image1和image2进行3x3卷积操作，得到3x3x2的输出"
   ]
  },
  {
   "cell_type": "code",
   "execution_count": 110,
   "metadata": {},
   "outputs": [
    {
     "data": {
      "text/plain": [
       "(2, 3, 160, 200)"
      ]
     },
     "execution_count": 110,
     "metadata": {},
     "output_type": "execute_result"
    }
   ],
   "source": [
    "# tensor   1, 3, 5, 5\n",
    "#   2, 3, 5, 5\n",
    "# 带有batch的im2col，和多个输出（这里是2）\n",
    "tensor = np.vstack([image1, image2])\n",
    "tensor.shape"
   ]
  },
  {
   "cell_type": "code",
   "execution_count": 111,
   "metadata": {},
   "outputs": [
    {
     "data": {
      "text/plain": [
       "((1, 3, 160, 200), (1, 3, 160, 200))"
      ]
     },
     "execution_count": 111,
     "metadata": {},
     "output_type": "execute_result"
    }
   ],
   "source": [
    "image1.shape, image2.shape"
   ]
  },
  {
   "cell_type": "code",
   "execution_count": 119,
   "metadata": {},
   "outputs": [
    {
     "data": {
      "text/plain": [
       "(3, 3, 3)"
      ]
     },
     "execution_count": 119,
     "metadata": {},
     "output_type": "execute_result"
    }
   ],
   "source": [
    "kernel = np.vstack([\n",
    "    np.array(\n",
    "    [\n",
    "        [1, 1, 1], \n",
    "        [1, -8, 1], \n",
    "        [1, 1, 1]\n",
    "    ])[None],\n",
    "    np.array(\n",
    "    [\n",
    "        [1, 0, -1], \n",
    "        [1, 0, -1], \n",
    "        [1, 0, -1]\n",
    "    ])[None],\n",
    "    gaussian_kernel2d(3, 10)[None]\n",
    "])\n",
    "kernel.shape"
   ]
  },
  {
   "cell_type": "code",
   "execution_count": 1,
   "metadata": {},
   "outputs": [
    {
     "ename": "NameError",
     "evalue": "name 'tensor' is not defined",
     "output_type": "error",
     "traceback": [
      "\u001b[1;31m---------------------------------------------------------------------------\u001b[0m",
      "\u001b[1;31mNameError\u001b[0m                                 Traceback (most recent call last)",
      "\u001b[1;32m<ipython-input-1-5b24d657a140>\u001b[0m in \u001b[0;36m<module>\u001b[1;34m\u001b[0m\n\u001b[0;32m     29\u001b[0m     \u001b[1;32mreturn\u001b[0m \u001b[0mresult\u001b[0m\u001b[1;33m\u001b[0m\u001b[1;33m\u001b[0m\u001b[0m\n\u001b[0;32m     30\u001b[0m \u001b[1;33m\u001b[0m\u001b[0m\n\u001b[1;32m---> 31\u001b[1;33m \u001b[0mimgs\u001b[0m \u001b[1;33m=\u001b[0m \u001b[0mgemm_conv\u001b[0m\u001b[1;33m(\u001b[0m\u001b[0mtensor\u001b[0m\u001b[1;33m,\u001b[0m \u001b[0mkernel\u001b[0m\u001b[1;33m)\u001b[0m\u001b[1;33m\u001b[0m\u001b[1;33m\u001b[0m\u001b[0m\n\u001b[0m\u001b[0;32m     32\u001b[0m \u001b[0mplt\u001b[0m\u001b[1;33m.\u001b[0m\u001b[0msubplots_adjust\u001b[0m\u001b[1;33m(\u001b[0m\u001b[0mleft\u001b[0m\u001b[1;33m=\u001b[0m\u001b[1;36m.1\u001b[0m\u001b[1;33m,\u001b[0m \u001b[0mright\u001b[0m\u001b[1;33m=\u001b[0m\u001b[1;36m1.5\u001b[0m\u001b[1;33m,\u001b[0m \u001b[0mtop\u001b[0m\u001b[1;33m=\u001b[0m\u001b[1;36m1\u001b[0m\u001b[1;33m,\u001b[0m \u001b[0mbottom\u001b[0m\u001b[1;33m=\u001b[0m\u001b[1;36m.1\u001b[0m\u001b[1;33m)\u001b[0m\u001b[1;33m\u001b[0m\u001b[1;33m\u001b[0m\u001b[0m\n\u001b[0;32m     33\u001b[0m \u001b[1;32mfor\u001b[0m \u001b[0mi\u001b[0m\u001b[1;33m,\u001b[0m\u001b[0mm\u001b[0m \u001b[1;32min\u001b[0m \u001b[0menumerate\u001b[0m\u001b[1;33m(\u001b[0m\u001b[0mimgs\u001b[0m\u001b[1;33m)\u001b[0m\u001b[1;33m:\u001b[0m\u001b[1;33m\u001b[0m\u001b[1;33m\u001b[0m\u001b[0m\n",
      "\u001b[1;31mNameError\u001b[0m: name 'tensor' is not defined"
     ]
    }
   ],
   "source": [
    "def gemm_conv(tensor, kernel):\n",
    "    _, kh, kw = kernel.shape\n",
    "    n, c, h, w = tensor.shape\n",
    "    s = (w - kw + 1) * (h - kh + 1)\n",
    "    column = np.zeros((n, kh * kw * c, s))\n",
    "    col_kernel = kernel.reshape(1, -1)\n",
    "    half_kx = kw // 2\n",
    "    half_ky = kh // 2\n",
    "    ksize = kw * kh\n",
    "    \n",
    "    for m in range(n):\n",
    "        for ic in range(c):\n",
    "            col_x = 0\n",
    "            for iy in range(half_ky, h - half_ky):\n",
    "                for ix in range(half_kx, w - half_kx):\n",
    "                    for iky in range(kh):\n",
    "                        for ikx in range(kw):\n",
    "                            pixel_value = tensor[m, ic, iy - half_ky + iky, ix - half_kx + ikx]\n",
    "                            col_y = ic * ksize + ikx + iky * kw\n",
    "                            column[m, col_y, col_x] = pixel_value\n",
    "                    col_x += 1\n",
    "    output = col_kernel @ column\n",
    "    \n",
    "    oim = output.reshape(n, h - kh + 1, -1)\n",
    "    return oim\n",
    "    result = []\n",
    "    for m in oim:\n",
    "        result.append((m - np.min(m)) / (np.max(m) - np.min(m)))\n",
    "    return result\n",
    "\n",
    "imgs = gemm_conv(tensor, kernel)\n",
    "plt.subplots_adjust(left=.1, right=1.5, top=1, bottom=.1)\n",
    "for i,m in enumerate(imgs):\n",
    "    plt.subplot(1,2,i+1)\n",
    "    plt.imshow(m, cmap='gray')"
   ]
  },
  {
   "cell_type": "code",
   "execution_count": 47,
   "metadata": {},
   "outputs": [],
   "source": [
    "import pandas as pd"
   ]
  },
  {
   "cell_type": "code",
   "execution_count": 48,
   "metadata": {},
   "outputs": [],
   "source": [
    "for i in range(3):\n",
    "    pd.DataFrame(image1[0, i]).to_csv(f\"image1_{i}.csv\")\n",
    "    \n",
    "for i in range(3):\n",
    "    pd.DataFrame(image2[0, i]).to_csv(f\"image2_{i}.csv\")"
   ]
  },
  {
   "cell_type": "code",
   "execution_count": 73,
   "metadata": {},
   "outputs": [
    {
     "data": {
      "text/plain": [
       "(6, 3, 3)"
      ]
     },
     "execution_count": 73,
     "metadata": {},
     "output_type": "execute_result"
    }
   ],
   "source": [
    "kernel = np.array([\n",
    "    [\n",
    "        [1, 1, 1, 1, -8, 1, 1, 1, 1],\n",
    "        [1, 1, 1, 1, -8, 1, 1, 1, 1],\n",
    "        [1, 1, 1, 1, -8, 1, 1, 1, 1]\n",
    "    ],\n",
    "    [\n",
    "        [1, 0, -1, 1, 0, -1, 1, 0, -1],\n",
    "        [1, 0, -1, 1, 0, -1, 1, 0, -1],\n",
    "        [1, 0, -1, 1, 0, -1, 1, 0, -1]\n",
    "    ]\n",
    "])\n",
    "kernel = kernel.reshape(6, 3, 3)\n",
    "kernel.shape"
   ]
  },
  {
   "cell_type": "code",
   "execution_count": 74,
   "metadata": {},
   "outputs": [],
   "source": [
    "for i in range(6):\n",
    "    pd.DataFrame(kernel[i]).to_csv(f\"kernel_{i}.csv\")\n"
   ]
  }
 ],
 "metadata": {
  "kernelspec": {
   "display_name": "Python 3",
   "language": "python",
   "name": "python3"
  },
  "language_info": {
   "codemirror_mode": {
    "name": "ipython",
    "version": 3
   },
   "file_extension": ".py",
   "mimetype": "text/x-python",
   "name": "python",
   "nbconvert_exporter": "python",
   "pygments_lexer": "ipython3",
   "version": "3.8.8"
  }
 },
 "nbformat": 4,
 "nbformat_minor": 4
}
