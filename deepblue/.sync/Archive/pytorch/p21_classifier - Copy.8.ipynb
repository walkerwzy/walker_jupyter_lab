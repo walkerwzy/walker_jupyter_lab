{
 "cells": [
  {
   "cell_type": "code",
   "execution_count": 15,
   "metadata": {},
   "outputs": [],
   "source": [
    "import torch\n",
    "import torch.nn as nn\n",
    "import torchvision.transforms as T\n",
    "import torchvision.datasets.mnist as mnist\n",
    "from torch.utils.data import DataLoader\n",
    "import matplotlib.pyplot as plt"
   ]
  },
  {
   "cell_type": "markdown",
   "metadata": {},
   "source": [
    "### 获取并处理手写数字数据集"
   ]
  },
  {
   "cell_type": "code",
   "execution_count": 16,
   "metadata": {},
   "outputs": [],
   "source": [
    "train_transform = T.Compose([  # T.Compose将多个transforms的list组合起来\n",
    "    T.ToTensor(),  # 将图片转换为：torch.FloatTensor\n",
    "    T.Normalize([0.4914], [0.2023])  # 归一化\n",
    "])\n",
    "\n",
    "val_transform = T.Compose([\n",
    "    T.ToTensor(),\n",
    "    T.Normalize([0.4914], [0.2023])\n",
    "])\n",
    "\n",
    "train_set = mnist.MNIST(\"/Users/walker/mnist\", train=True, transform=train_transform, download=True) # download=True\n",
    "val_set = mnist.MNIST(\"/Users/walker/mnist\", train=False, transform=val_transform, download=True)  #  # download=True\n",
    "\n",
    "train_dataloader = DataLoader(train_set, batch_size=128, num_workers=8, shuffle=True)  # dataloader一次性创建num_worker个工作进程\n",
    "val_dataloader = DataLoader(val_set, batch_size=128, num_workers=8, shuffle=False)"
   ]
  },
  {
   "cell_type": "markdown",
   "metadata": {},
   "source": [
    "### 定义并使用模型"
   ]
  },
  {
   "cell_type": "code",
   "execution_count": 17,
   "metadata": {},
   "outputs": [],
   "source": [
    "class ConvolutionalLayer(nn.Module):\n",
    "    def __init__(self,in_channels,out_channels,kernel_size,stride,padding,bias=False):\n",
    "        super().__init__()\n",
    "        self.cnn_layer = nn.Sequential(\n",
    "            nn.Conv2d(in_channels,out_channels,kernel_size,stride,padding,bias=bias),\n",
    "            nn.ReLU()\n",
    "        )\n",
    "    def forward(self,x):\n",
    "        return self.cnn_layer(x)"
   ]
  },
  {
   "cell_type": "code",
   "execution_count": 20,
   "metadata": {},
   "outputs": [],
   "source": [
    "class Model(nn.Module):\n",
    "    def __init__(self):\n",
    "        super().__init__()\n",
    "        self.conv_layer = nn.Sequential(\n",
    "            ConvolutionalLayer(1, 32, 5, 1, 2),     # 28-5+4+1=28\n",
    "            ConvolutionalLayer(32, 32, 5, 1, 2),    # 28\n",
    "            nn.MaxPool2d(2, 2),\n",
    "            ConvolutionalLayer(32, 64, 5, 1, 2),    # 14\n",
    "            ConvolutionalLayer(64, 64, 5, 1, 2),    # 14\n",
    "            nn.MaxPool2d(2, 2),\n",
    "            ConvolutionalLayer(64, 128, 5, 1, 2),   # 7\n",
    "            ConvolutionalLayer(128, 128, 5, 1, 2),  # 7\n",
    "            nn.MaxPool2d(2, 2)                      # 3\n",
    "        )\n",
    "        self.features = nn.Linear(128*3*3,3)\n",
    "        self.output = nn.Linear(3,10)               # 倒数第二层输出了维度为(Batchsize x 2)的feature向量，最后输出了维度为(Batchsize x 10)进行分类。\n",
    "\n",
    "\n",
    "    def forward(self,x):\n",
    "        y_conv = self.conv_layer(x)\n",
    "        y_conv = torch.reshape(y_conv,[-1,128*3*3])\n",
    "        y_feature = self.features(y_conv)                               # 倒数第二层输出了维度为(Batchsize x 2)的feature向量，最后输出了维度为(Batchsize x 10)进行分类。\n",
    "        y_output = self.output(y_feature)      # 倒数第二层输出了维度为(Batchsize x 2)的feature向量，最后输出了维度为(Batchsize x 10)进行分类。\n",
    "        return y_feature,y_output"
   ]
  },
  {
   "cell_type": "code",
   "execution_count": 21,
   "metadata": {},
   "outputs": [],
   "source": [
    "model = Model()#.to(\"cuda:0\")"
   ]
  },
  {
   "cell_type": "markdown",
   "metadata": {},
   "source": [
    "### 定义损失函数"
   ]
  },
  {
   "cell_type": "code",
   "execution_count": 22,
   "metadata": {},
   "outputs": [],
   "source": [
    "loss_function = nn.CrossEntropyLoss()"
   ]
  },
  {
   "cell_type": "markdown",
   "metadata": {},
   "source": [
    "### 定义超参"
   ]
  },
  {
   "cell_type": "code",
   "execution_count": 23,
   "metadata": {},
   "outputs": [],
   "source": [
    "glr = 1e-3\n",
    "epochs = 50\n",
    "num_iter_per_epoch = len(train_dataloader)\n",
    "lr_schedule = {\n",
    "    5: 1e-3,\n",
    "    10: 1e-4,\n",
    "    15: 1e-5\n",
    "}"
   ]
  },
  {
   "cell_type": "markdown",
   "metadata": {},
   "source": [
    "### 定义优化器"
   ]
  },
  {
   "cell_type": "code",
   "execution_count": 24,
   "metadata": {},
   "outputs": [],
   "source": [
    "optimizer = torch.optim.SGD(    \n",
    "    [{\"params\": model.parameters()},\n",
    "    {\"params\": loss_function.parameters()}], glr, momentum=0.9)"
   ]
  },
  {
   "cell_type": "markdown",
   "metadata": {},
   "source": [
    "### 开始模型训练"
   ]
  },
  {
   "cell_type": "code",
   "execution_count": 14,
   "metadata": {},
   "outputs": [
    {
     "ename": "KeyboardInterrupt",
     "evalue": "",
     "output_type": "error",
     "traceback": [
      "\u001b[1;31m---------------------------------------------------------------------------\u001b[0m",
      "\u001b[1;31mKeyboardInterrupt\u001b[0m                         Traceback (most recent call last)",
      "\u001b[1;32m<ipython-input-14-2015c3c7e11a>\u001b[0m in \u001b[0;36m<module>\u001b[1;34m\u001b[0m\n\u001b[0;32m     15\u001b[0m \u001b[1;33m\u001b[0m\u001b[0m\n\u001b[0;32m     16\u001b[0m         \u001b[0moptimizer\u001b[0m\u001b[1;33m.\u001b[0m\u001b[0mzero_grad\u001b[0m\u001b[1;33m(\u001b[0m\u001b[1;33m)\u001b[0m\u001b[1;33m\u001b[0m\u001b[1;33m\u001b[0m\u001b[0m\n\u001b[1;32m---> 17\u001b[1;33m         \u001b[0mloss\u001b[0m\u001b[1;33m.\u001b[0m\u001b[0mbackward\u001b[0m\u001b[1;33m(\u001b[0m\u001b[1;33m)\u001b[0m\u001b[1;33m\u001b[0m\u001b[1;33m\u001b[0m\u001b[0m\n\u001b[0m\u001b[0;32m     18\u001b[0m         \u001b[0moptimizer\u001b[0m\u001b[1;33m.\u001b[0m\u001b[0mstep\u001b[0m\u001b[1;33m(\u001b[0m\u001b[1;33m)\u001b[0m\u001b[1;33m\u001b[0m\u001b[1;33m\u001b[0m\u001b[0m\n\u001b[0;32m     19\u001b[0m         \u001b[0mmean_loss\u001b[0m \u001b[1;33m+=\u001b[0m \u001b[0mloss\u001b[0m\u001b[1;33m.\u001b[0m\u001b[0mitem\u001b[0m\u001b[1;33m(\u001b[0m\u001b[1;33m)\u001b[0m\u001b[1;33m\u001b[0m\u001b[1;33m\u001b[0m\u001b[0m\n",
      "\u001b[1;32m~\\anaconda3\\envs\\cv\\lib\\site-packages\\torch\\tensor.py\u001b[0m in \u001b[0;36mbackward\u001b[1;34m(self, gradient, retain_graph, create_graph)\u001b[0m\n\u001b[0;32m    193\u001b[0m                 \u001b[0mproducts\u001b[0m\u001b[1;33m.\u001b[0m \u001b[0mDefaults\u001b[0m \u001b[0mto\u001b[0m\u001b[0;31m \u001b[0m\u001b[0;31m`\u001b[0m\u001b[0;31m`\u001b[0m\u001b[1;32mFalse\u001b[0m\u001b[0;31m`\u001b[0m\u001b[0;31m`\u001b[0m\u001b[1;33m.\u001b[0m\u001b[1;33m\u001b[0m\u001b[1;33m\u001b[0m\u001b[0m\n\u001b[0;32m    194\u001b[0m         \"\"\"\n\u001b[1;32m--> 195\u001b[1;33m         \u001b[0mtorch\u001b[0m\u001b[1;33m.\u001b[0m\u001b[0mautograd\u001b[0m\u001b[1;33m.\u001b[0m\u001b[0mbackward\u001b[0m\u001b[1;33m(\u001b[0m\u001b[0mself\u001b[0m\u001b[1;33m,\u001b[0m \u001b[0mgradient\u001b[0m\u001b[1;33m,\u001b[0m \u001b[0mretain_graph\u001b[0m\u001b[1;33m,\u001b[0m \u001b[0mcreate_graph\u001b[0m\u001b[1;33m)\u001b[0m\u001b[1;33m\u001b[0m\u001b[1;33m\u001b[0m\u001b[0m\n\u001b[0m\u001b[0;32m    196\u001b[0m \u001b[1;33m\u001b[0m\u001b[0m\n\u001b[0;32m    197\u001b[0m     \u001b[1;32mdef\u001b[0m \u001b[0mregister_hook\u001b[0m\u001b[1;33m(\u001b[0m\u001b[0mself\u001b[0m\u001b[1;33m,\u001b[0m \u001b[0mhook\u001b[0m\u001b[1;33m)\u001b[0m\u001b[1;33m:\u001b[0m\u001b[1;33m\u001b[0m\u001b[1;33m\u001b[0m\u001b[0m\n",
      "\u001b[1;32m~\\anaconda3\\envs\\cv\\lib\\site-packages\\torch\\autograd\\__init__.py\u001b[0m in \u001b[0;36mbackward\u001b[1;34m(tensors, grad_tensors, retain_graph, create_graph, grad_variables)\u001b[0m\n\u001b[0;32m     95\u001b[0m         \u001b[0mretain_graph\u001b[0m \u001b[1;33m=\u001b[0m \u001b[0mcreate_graph\u001b[0m\u001b[1;33m\u001b[0m\u001b[1;33m\u001b[0m\u001b[0m\n\u001b[0;32m     96\u001b[0m \u001b[1;33m\u001b[0m\u001b[0m\n\u001b[1;32m---> 97\u001b[1;33m     Variable._execution_engine.run_backward(\n\u001b[0m\u001b[0;32m     98\u001b[0m         \u001b[0mtensors\u001b[0m\u001b[1;33m,\u001b[0m \u001b[0mgrad_tensors\u001b[0m\u001b[1;33m,\u001b[0m \u001b[0mretain_graph\u001b[0m\u001b[1;33m,\u001b[0m \u001b[0mcreate_graph\u001b[0m\u001b[1;33m,\u001b[0m\u001b[1;33m\u001b[0m\u001b[1;33m\u001b[0m\u001b[0m\n\u001b[0;32m     99\u001b[0m         allow_unreachable=True)  # allow_unreachable flag\n",
      "\u001b[1;31mKeyboardInterrupt\u001b[0m: "
     ]
    }
   ],
   "source": [
    "for epoch in range(epochs):\n",
    "\n",
    "    # 学习率修改策略\n",
    "    if epoch in lr_schedule:\n",
    "        glr = lr_schedule[epoch]\n",
    "        for group in optimizer.param_groups:\n",
    "            group[\"lr\"] = glr\n",
    "\n",
    "    mean_loss = 0\n",
    "    for batch_index, (images, targets) in enumerate(train_dataloader):\n",
    "        images = images#.to(device)\n",
    "        targets = targets#.to(device)\n",
    "        features, logits = model(images)\n",
    "        loss = loss_function(logits, targets)\n",
    "\n",
    "        optimizer.zero_grad()\n",
    "        loss.backward()\n",
    "        optimizer.step()\n",
    "        mean_loss += loss.item()\n",
    "\n",
    "    mean_loss /= num_iter_per_epoch\n",
    "\n",
    "    print(f\"Epoch: {epoch} / {epochs}, Loss: {mean_loss:.3f}\")\n",
    "    \n",
    "    with torch.no_grad():\n",
    "        all_predict = []\n",
    "        for batch_index, (images, targets) in enumerate(val_dataloader):\n",
    "#             images = images.to(device)\n",
    "#             targets = targets.to(device).float().view(-1, 1)\n",
    "            images = images\n",
    "            targets = targets.float().view(-1, 1)\n",
    "            feature, _ = model(images)\n",
    "            # 用tensor加载和求出来的全是tensor对象\n",
    "            # 所以python数组all_predict里是一个个tensor\n",
    "            all_predict.append(torch.cat([feature, targets], dim=1))  # [-16.3196,  78.1703,   7.0000] 128 x 3\n",
    "    \n",
    "    # cat后变成了一个大tensor对象 （用numpy来理解也可以)\n",
    "    infos = torch.cat(all_predict) # 10000 x 3\n",
    "    xy = infos[:, :3].cpu().data.numpy()\n",
    "    label = infos[:, 2].cpu().data.numpy()\n",
    "    \n",
    "    plt.figure(figsize=(10, 10))\n",
    "    color = ['#ff0000', '#ffff00', '#00ff00', '#00ffff', '#0000ff', '#ff00ff', '#990000', '#999900', '#009900', '#009999']\n",
    "    for i in range(10):\n",
    "        plt.plot(xy[label==i, 0], xy[label==i, 1], \".\", c=color[i])\n",
    "    plt.legend(['0', '1', '2', '3', '4', '5', '6', '7', '8', '9'],loc=\"upper right\")\n",
    "    plt.show()"
   ]
  },
  {
   "cell_type": "code",
   "execution_count": null,
   "metadata": {},
   "outputs": [],
   "source": []
  },
  {
   "cell_type": "code",
   "execution_count": null,
   "metadata": {},
   "outputs": [],
   "source": []
  }
 ],
 "metadata": {
  "kernelspec": {
   "display_name": "Python 3",
   "language": "python",
   "name": "python3"
  },
  "language_info": {
   "codemirror_mode": {
    "name": "ipython",
    "version": 3
   },
   "file_extension": ".py",
   "mimetype": "text/x-python",
   "name": "python",
   "nbconvert_exporter": "python",
   "pygments_lexer": "ipython3",
   "version": "3.8.8"
  }
 },
 "nbformat": 4,
 "nbformat_minor": 4
}
