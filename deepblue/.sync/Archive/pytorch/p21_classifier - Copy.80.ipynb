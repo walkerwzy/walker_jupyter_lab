{
 "cells": [
  {
   "cell_type": "code",
   "execution_count": 20,
   "metadata": {},
   "outputs": [],
   "source": [
    "import torch\n",
    "import torch.nn as nn\n",
    "import torchvision.transforms as T\n",
    "import torchvision.datasets.mnist as mnist\n",
    "from torch.utils.data import DataLoader\n",
    "import matplotlib.pyplot as plt"
   ]
  },
  {
   "cell_type": "markdown",
   "metadata": {},
   "source": [
    "### 获取并处理手写数字数据集"
   ]
  },
  {
   "cell_type": "code",
   "execution_count": 21,
   "metadata": {},
   "outputs": [],
   "source": [
    "train_transform = T.Compose([  # T.Compose将多个transforms的list组合起来\n",
    "    T.ToTensor(),  # 将图片转换为：torch.FloatTensor\n",
    "    T.Normalize([0.4914], [0.2023])  # 归一化\n",
    "])\n",
    "\n",
    "val_transform = T.Compose([\n",
    "    T.ToTensor(),\n",
    "    T.Normalize([0.4914], [0.2023])\n",
    "])\n",
    "\n",
    "train_set = mnist.MNIST(\"/Users/walker/mnist\", train=True, transform=train_transform, download=True) # download=True\n",
    "val_set = mnist.MNIST(\"/Users/walker/mnist\", train=False, transform=val_transform, download=True)  #  # download=True\n",
    "\n",
    "train_dataloader = DataLoader(train_set, batch_size=128, num_workers=8, shuffle=True)  # dataloader一次性创建num_worker个工作进程\n",
    "val_dataloader = DataLoader(val_set, batch_size=128, num_workers=8, shuffle=False)"
   ]
  },
  {
   "cell_type": "markdown",
   "metadata": {},
   "source": [
    "### 定义并使用模型"
   ]
  },
  {
   "cell_type": "code",
   "execution_count": 22,
   "metadata": {},
   "outputs": [],
   "source": [
    "class ConvolutionalLayer(nn.Module):\n",
    "    def __init__(self,in_channels,out_channels,kernel_size,stride,padding,bias=False):\n",
    "        super().__init__()\n",
    "        self.cnn_layer = nn.Sequential(\n",
    "            nn.Conv2d(in_channels,out_channels,kernel_size,stride,padding,bias=bias),\n",
    "            nn.ReLU()\n",
    "        )\n",
    "    def forward(self,x):\n",
    "        return self.cnn_layer(x)"
   ]
  },
  {
   "cell_type": "code",
   "execution_count": 23,
   "metadata": {},
   "outputs": [],
   "source": [
    "class Model(nn.Module):\n",
    "    def __init__(self):\n",
    "        super().__init__()\n",
    "        self.conv_layer = nn.Sequential(\n",
    "            ConvolutionalLayer(1, 32, 5, 1, 2),     # 28-5+4+1=28\n",
    "            ConvolutionalLayer(32, 32, 5, 1, 2),    # 28\n",
    "            nn.MaxPool2d(2, 2),\n",
    "            ConvolutionalLayer(32, 64, 5, 1, 2),    # 14\n",
    "            ConvolutionalLayer(64, 64, 5, 1, 2),    # 14\n",
    "            nn.MaxPool2d(2, 2),\n",
    "            ConvolutionalLayer(64, 128, 5, 1, 2),   # 7\n",
    "            ConvolutionalLayer(128, 128, 5, 1, 2),  # 7\n",
    "            nn.MaxPool2d(2, 2)                      # 3\n",
    "        )\n",
    "        self.features = nn.Linear(128*3*3,3)\n",
    "        self.output = nn.Linear(3,10)               # 倒数第二层输出了维度为(Batchsize x 2)的feature向量，最后输出了维度为(Batchsize x 10)进行分类。\n",
    "\n",
    "\n",
    "    def forward(self,x):\n",
    "        y_conv = self.conv_layer(x)\n",
    "        y_conv = torch.reshape(y_conv,[-1,128*3*3])\n",
    "        y_feature = self.features(y_conv)                               # 倒数第二层输出了维度为(Batchsize x 2)的feature向量，最后输出了维度为(Batchsize x 10)进行分类。\n",
    "        y_output = self.output(y_feature)      # 倒数第二层输出了维度为(Batchsize x 2)的feature向量，最后输出了维度为(Batchsize x 10)进行分类。\n",
    "        return y_feature,y_output"
   ]
  },
  {
   "cell_type": "code",
   "execution_count": 24,
   "metadata": {},
   "outputs": [],
   "source": [
    "model = Model()#.to(\"cuda:0\")"
   ]
  },
  {
   "cell_type": "markdown",
   "metadata": {},
   "source": [
    "### 定义损失函数"
   ]
  },
  {
   "cell_type": "code",
   "execution_count": 25,
   "metadata": {},
   "outputs": [],
   "source": [
    "loss_function = nn.CrossEntropyLoss()"
   ]
  },
  {
   "cell_type": "markdown",
   "metadata": {},
   "source": [
    "### 定义超参"
   ]
  },
  {
   "cell_type": "code",
   "execution_count": 26,
   "metadata": {},
   "outputs": [],
   "source": [
    "glr = 1e-3\n",
    "epochs = 50\n",
    "num_iter_per_epoch = len(train_dataloader)\n",
    "lr_schedule = {\n",
    "    5: 1e-3,\n",
    "    10: 1e-4,\n",
    "    15: 1e-5\n",
    "}"
   ]
  },
  {
   "cell_type": "markdown",
   "metadata": {},
   "source": [
    "### 定义优化器"
   ]
  },
  {
   "cell_type": "code",
   "execution_count": 27,
   "metadata": {},
   "outputs": [],
   "source": [
    "optimizer = torch.optim.SGD(    \n",
    "    [{\"params\": model.parameters()},\n",
    "    {\"params\": loss_function.parameters()}], glr, momentum=0.9)"
   ]
  },
  {
   "cell_type": "markdown",
   "metadata": {},
   "source": [
    "### 开始模型训练"
   ]
  }
 ],
 "metadata": {
  "kernelspec": {
   "display_name": "Python 3",
   "language": "python",
   "name": "python3"
  },
  "language_info": {
   "codemirror_mode": {
    "name": "ipython",
    "version": 3
   },
   "file_extension": ".py",
   "mimetype": "text/x-python",
   "name": "python",
   "nbconvert_exporter": "python",
   "pygments_lexer": "ipython3",
   "version": "3.8.8"
  }
 },
 "nbformat": 4,
 "nbformat_minor": 4
}
