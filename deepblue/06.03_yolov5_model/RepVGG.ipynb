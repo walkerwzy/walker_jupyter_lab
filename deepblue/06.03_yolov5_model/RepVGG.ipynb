{
 "cells": [
  {
   "cell_type": "markdown",
   "metadata": {},
   "source": [
    "<div>\n",
    "   <img src=\"RepNetPrevie.jpg\"/>\n",
    "</div>"
   ]
  },
  {
   "cell_type": "code",
   "execution_count": 1,
   "metadata": {},
   "outputs": [],
   "source": [
    "import torch\n",
    "import torch.nn as nn\n",
    "import torch.nn.functional as F"
   ]
  },
  {
   "cell_type": "markdown",
   "metadata": {},
   "source": [
    "# 原始卷积操作"
   ]
  },
  {
   "cell_type": "code",
   "execution_count": 2,
   "metadata": {},
   "outputs": [],
   "source": [
    "class Block(nn.Module):\n",
    "    def __init__(self, num_channels):\n",
    "        super().__init__()\n",
    "        self.conv3x3 = nn.Conv2d(num_channels, num_channels, kernel_size=3, padding=1, bias=False)\n",
    "        self.conv3x3_bn = nn.BatchNorm2d(num_channels)\n",
    "        self.conv1x1 = nn.Conv2d(num_channels, num_channels, kernel_size=1, bias=False)\n",
    "        self.conv1x1_bn = nn.BatchNorm2d(num_channels)\n",
    "        self.identity = nn.Identity()\n",
    "        self.identity_bn = nn.BatchNorm2d(num_channels)\n",
    "        self.apply(self.init)\n",
    "        \n",
    "    def init(self, m):\n",
    "        if isinstance(m, nn.BatchNorm2d):\n",
    "            m.weight.data.normal_()\n",
    "            m.bias.data.normal_()\n",
    "            m.running_mean.normal_()\n",
    "            m.running_var.fill_(0.5)\n",
    "    \n",
    "    def forward(self, x):\n",
    "        a = self.conv3x3_bn(self.conv3x3(x))\n",
    "        b = self.conv1x1_bn(self.conv1x1(x))\n",
    "        c = self.identity_bn(self.identity(x))\n",
    "        return a + b + c"
   ]
  },
  {
   "cell_type": "code",
   "execution_count": 3,
   "metadata": {},
   "outputs": [
    {
     "data": {
      "text/plain": [
       "tensor([[[[ 3.8140,  3.8139,  3.7645],\n",
       "          [ 3.7785,  3.8110,  3.7654],\n",
       "          [ 3.8143,  3.8635,  3.8470]],\n",
       "\n",
       "         [[-0.7286, -0.6416, -0.3531],\n",
       "          [-0.7127, -0.5068,  0.0389],\n",
       "          [-1.0060, -0.2569,  0.1836]]]], grad_fn=<AddBackward0>)"
      ]
     },
     "execution_count": 3,
     "metadata": {},
     "output_type": "execute_result"
    }
   ],
   "source": [
    "num_channels = 2\n",
    "x = torch.ones(1, num_channels, 3, 3)\n",
    "block = Block(num_channels)\n",
    "block.eval()\n",
    "block(x)"
   ]
  },
  {
   "cell_type": "markdown",
   "metadata": {},
   "source": [
    "# 重定义参数为3个3x3卷积，实现等效的效果，BN暂时不修改"
   ]
  },
  {
   "cell_type": "code",
   "execution_count": 4,
   "metadata": {},
   "outputs": [],
   "source": [
    "class Block_Reparameter(nn.Module):\n",
    "    def __init__(self, num_channels, source):\n",
    "        super().__init__()\n",
    "        self.num_channels = num_channels\n",
    "        self.conv3x3 = nn.Conv2d(num_channels, num_channels, kernel_size=3, padding=1, bias=False)\n",
    "        self.conv3x3_bn = nn.BatchNorm2d(num_channels)\n",
    "        self.conv1x1 = nn.Conv2d(num_channels, num_channels, kernel_size=3, padding=1, bias=False)\n",
    "        self.conv1x1_bn = nn.BatchNorm2d(num_channels)\n",
    "        self.identity = nn.Conv2d(num_channels, num_channels, kernel_size=3, padding=1, bias=False)\n",
    "        self.identity_bn = nn.BatchNorm2d(num_channels)\n",
    "        self.reparam(source)\n",
    "    \n",
    "    def forward(self, x):\n",
    "        a = self.conv3x3_bn(self.conv3x3(x))\n",
    "        b = self.conv1x1_bn(self.conv1x1(x))\n",
    "        c = self.identity_bn(self.identity(x))\n",
    "        return a + b + c\n",
    "    \n",
    "    def reparam(self, source):\n",
    "        \n",
    "        # reparameter 3x3\n",
    "        self.conv3x3.weight = source.conv3x3.weight\n",
    "        \n",
    "        # reparameter 1x1\n",
    "        self.conv1x1.weight.data.fill_(0)\n",
    "        for i in range(self.num_channels):\n",
    "            for j in range(self.num_channels):\n",
    "                self.conv1x1.weight.data[i, j, 1, 1] = source.conv1x1.weight.data[i, j, 0, 0]\n",
    "        \n",
    "        # reparameter identity\n",
    "        self.identity.weight.data.fill_(0)\n",
    "        for i in range(self.num_channels):\n",
    "            self.identity.weight.data[i, i, 1, 1] = 1\n",
    "            \n",
    "        self.fill_bn(self.conv3x3_bn, source.conv3x3_bn)\n",
    "        self.fill_bn(self.conv1x1_bn, source.conv1x1_bn)\n",
    "        self.fill_bn(self.identity_bn, source.identity_bn)\n",
    "\n",
    "    def fill_bn(self, bn, source):\n",
    "        bn.weight = source.weight\n",
    "        bn.bias = source.bias\n",
    "        bn.running_mean = source.running_mean\n",
    "        bn.running_var = source.running_var\n",
    "        "
   ]
  },
  {
   "cell_type": "code",
   "execution_count": 12,
   "metadata": {},
   "outputs": [
    {
     "data": {
      "text/plain": [
       "tensor([[[[ 3.8140,  3.8139,  3.7645],\n",
       "          [ 3.7785,  3.8110,  3.7654],\n",
       "          [ 3.8143,  3.8635,  3.8470]],\n",
       "\n",
       "         [[-0.7286, -0.6416, -0.3531],\n",
       "          [-0.7127, -0.5068,  0.0389],\n",
       "          [-1.0060, -0.2569,  0.1836]]]], grad_fn=<AddBackward0>)"
      ]
     },
     "execution_count": 12,
     "metadata": {},
     "output_type": "execute_result"
    }
   ],
   "source": [
    "reparam_block = Block_Reparameter(num_channels, block)\n",
    "reparam_block.eval()\n",
    "reparam_block(x)"
   ]
  },
  {
   "cell_type": "markdown",
   "metadata": {},
   "source": [
    "# 合并3x3卷积和BN为1个"
   ]
  },
  {
   "cell_type": "code",
   "execution_count": 31,
   "metadata": {},
   "outputs": [],
   "source": [
    "class BlockReparameterBN(nn.Module):\n",
    "    def __init__(self, num_channels, source):\n",
    "        super().__init__()\n",
    "        self.num_channels = num_channels\n",
    "        self.conv3x3 = nn.Conv2d(num_channels, num_channels, kernel_size=3, padding=1, bias=True)\n",
    "        self.reparam(source)\n",
    "    \n",
    "    def forward(self, x):\n",
    "        return self.conv3x3(x)\n",
    "    \n",
    "    def reparam(self, source):\n",
    "        \n",
    "        self.conv3x3.weight.data[...] = source.conv3x3.weight.data[...]\n",
    "        self.conv3x3.bias.data.fill_(0)\n",
    "        \n",
    "        for i in range(self.num_channels):\n",
    "            mul, add = self.get_mul_add(source.conv3x3_bn, i)\n",
    "            self.conv3x3.weight.data[i] *= mul\n",
    "            self.conv3x3.bias.data[i] += add\n",
    "        \n",
    "        # reparameter 1x1\n",
    "        for i in range(self.num_channels):\n",
    "            mul, add = self.get_mul_add(source.conv1x1_bn, i)\n",
    "            self.conv3x3.bias.data[i] += add\n",
    "            \n",
    "            for j in range(self.num_channels):\n",
    "                self.conv3x3.weight.data[i, j, 1, 1] += source.conv1x1.weight.data[i, j, 0, 0] * mul\n",
    "        \n",
    "        # reparameter identity\n",
    "        for i in range(self.num_channels):\n",
    "            mul, add = self.get_mul_add(source.identity_bn, i)\n",
    "            self.conv3x3.bias.data[i] += add\n",
    "            self.conv3x3.weight.data[i, i, 1, 1] += 1 * mul\n",
    "\n",
    "    def get_mul_add(self, bn, i):\n",
    "        mean = bn.running_mean[i]\n",
    "        std = torch.sqrt(bn.running_var[i])\n",
    "        gamma = bn.weight[i]\n",
    "        beta = bn.bias[i]\n",
    "        mul = 1 / std * gamma\n",
    "        add = (-mean) / std * gamma + beta\n",
    "        return mul, add\n",
    "        "
   ]
  },
  {
   "cell_type": "code",
   "execution_count": 32,
   "metadata": {},
   "outputs": [
    {
     "data": {
      "text/plain": [
       "tensor([[[[ 3.8141,  3.8139,  3.7645],\n",
       "          [ 3.7785,  3.8111,  3.7654],\n",
       "          [ 3.8143,  3.8636,  3.8471]],\n",
       "\n",
       "         [[-0.7286, -0.6416, -0.3531],\n",
       "          [-0.7127, -0.5068,  0.0389],\n",
       "          [-1.0060, -0.2569,  0.1836]]]], grad_fn=<MkldnnConvolutionBackward>)"
      ]
     },
     "execution_count": 32,
     "metadata": {},
     "output_type": "execute_result"
    }
   ],
   "source": [
    "reparam_bn_block = BlockReparameterBN(num_channels, block)\n",
    "reparam_bn_block.eval()\n",
    "reparam_bn_block(x)"
   ]
  }
 ],
 "metadata": {
  "kernelspec": {
   "display_name": "Python 3",
   "language": "python",
   "name": "python3"
  },
  "language_info": {
   "codemirror_mode": {
    "name": "ipython",
    "version": 3
   },
   "file_extension": ".py",
   "mimetype": "text/x-python",
   "name": "python",
   "nbconvert_exporter": "python",
   "pygments_lexer": "ipython3",
   "version": "3.8.5"
  }
 },
 "nbformat": 4,
 "nbformat_minor": 4
}
