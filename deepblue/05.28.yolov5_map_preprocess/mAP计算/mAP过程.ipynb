{
 "cells": [
  {
   "cell_type": "markdown",
   "metadata": {},
   "source": [
    "# mAP ( mean Average Precision )\n",
    "* 平均平均精度，多个类别AP的平均值，即mAP，是recall和precision组成的曲线下面积\n",
    "* 检测器的衡量算法\n",
    "* Evaluation metrics for classification and False positives\n",
    "    * https://kharshit.github.io/blog/2017/12/29/false-positives\n",
    "* Evaluation metrics for object detection and segmentation\n",
    "    * https://kharshit.github.io/blog/2019/09/20/evaluation-metrics-for-object-detection-and-segmentation\n",
    "* cocoapi\n",
    "    * https://github.com/cocodataset/cocoapi\n",
    "* Object-Detection-Metrics\n",
    "    * https://github.com/rafaelpadilla/Object-Detection-Metrics\n",
    "* VOC2007数据集镜像：\n",
    "    * https://pjreddie.com/projects/pascal-voc-dataset-mirror/\n",
    "* VOC数据集主页：\n",
    "    * http://host.robots.ox.ac.uk/pascal/VOC/index.html\n",
    "* COCO数据集主页（Common Objects in Context）：\n",
    "    * https://cocodataset.org/\n",
    "* YoloV5 GitHub：\n",
    "    * https://github.com/ultralytics/yolov5\n",
    "* 检测类的SOTA模型，也有分类等的SOTA：\n",
    "    * https://paperswithcode.com/task/object-detection"
   ]
  },
  {
   "cell_type": "markdown",
   "metadata": {},
   "source": [
    "# 1.定义基本函数，用以加载检测结果和真值结果"
   ]
  },
  {
   "cell_type": "code",
   "execution_count": 1,
   "metadata": {},
   "outputs": [],
   "source": [
    "import os\n",
    "import sys\n",
    "import json\n",
    "import numpy as np\n",
    "\n",
    "def iou(a, b):\n",
    "    ax, ay, ar, ab = a\n",
    "    bx, by, br, bb = b\n",
    "    cross_x = max(ax, bx)\n",
    "    cross_y = max(ay, by)\n",
    "    cross_r = min(ar, br)\n",
    "    cross_b = min(ab, bb)\n",
    "    cross_w = max(0, (cross_r - cross_x) + 1)\n",
    "    cross_h = max(0, (cross_b - cross_y) + 1)\n",
    "    cross_area = cross_w * cross_h\n",
    "    union = (ar - ax + 1) * (ab - ay + 1) + (br - bx + 1) * (bb - by + 1) - cross_area\n",
    "    return cross_area / union\n",
    "\n",
    "def nms(bboxes, threshold, confidence_index=-1):\n",
    "    bboxes.sort(key=lambda x: x[confidence_index], reverse=True)\n",
    "    flags = [True] * len(bboxes)\n",
    "    keep = []\n",
    "    for i in range(len(bboxes)):\n",
    "        if not flags[i]: continue\n",
    "        keep.append(bboxes[i])\n",
    "\n",
    "        for j in range(i+1, len(bboxes)):\n",
    "            if iou(bboxes[i][:4], bboxes[j][:4]) > threshold:\n",
    "                flags[j] = False\n",
    "    return keep\n",
    "\n",
    "def nms_as_class(bboxes, threshold, class_index=-1, confidence_index=-2):\n",
    "    boxasclass = {}\n",
    "    for box in bboxes:\n",
    "        classes = box[class_index]\n",
    "        if classes not in boxasclass:\n",
    "            boxasclass[classes] = []\n",
    "        boxasclass[classes].append(box)\n",
    "\n",
    "    output = []\n",
    "    for key in boxasclass:\n",
    "        result = nms(boxasclass[key], threshold, confidence_index)\n",
    "        output.extend(result)\n",
    "    return output\n",
    "\n",
    "def xml_value(line):\n",
    "    p0 = line.find(\">\") + 1\n",
    "    p1 = line.find(\"</\", p0)\n",
    "    return line[p0:p1]\n",
    "\n",
    "def xml_token(line):\n",
    "    p0 = line.find(\"<\") + 1\n",
    "    p1 = line.find(\">\", p0)\n",
    "    return line[p0:p1]\n",
    "\n",
    "def load_voc_xml(file):\n",
    "\n",
    "    with open(file, \"r\") as f:\n",
    "        lines = f.readlines()\n",
    "\n",
    "    name = None\n",
    "    box = None\n",
    "    bboxes = []\n",
    "    enter_object = False\n",
    "    enter_part = False\n",
    "    for line in lines:\n",
    "        token = xml_token(line)\n",
    "        \n",
    "        if token == \"object\":\n",
    "            enter_object = True\n",
    "        elif token == \"/object\":\n",
    "            enter_object = False            \n",
    "        elif enter_object:\n",
    "            if token == \"part\":\n",
    "                enter_part = True\n",
    "            elif token == \"/part\":\n",
    "                enter_part = False\n",
    "\n",
    "            if not enter_part:\n",
    "                if token == \"name\":\n",
    "                    name = xml_value(line)\n",
    "                elif token == \"bndbox\":\n",
    "                    box = [name]\n",
    "                    bboxes.append(box)\n",
    "                elif token in [\"xmin\", \"ymin\", \"xmax\", \"ymax\"]:\n",
    "                    box.append(float(xml_value(line)))\n",
    "    return bboxes\n",
    "\n",
    "def load_ann(root, call, suffix):\n",
    "    files = os.listdir(root)\n",
    "    anns = {}\n",
    "    for file in files:\n",
    "        if file.endswith(suffix):\n",
    "            name = file[:file.rfind(\".\")]\n",
    "            anns[name] = call(os.path.join(root, file))\n",
    "    return anns\n",
    "\n",
    "def load_json_ann(root):\n",
    "    def call(file):\n",
    "        with open(file, \"r\") as f:\n",
    "            ann = json.load(f)\n",
    "        return ann\n",
    "    return load_ann(root, call, \".json\")\n",
    "\n",
    "def load_xml_ann(root, label_map):\n",
    "    def call(file):\n",
    "        return [item[1:] + [0, label_map.index(item[0])] for item in load_voc_xml(file)]\n",
    "    return load_ann(root, call, \".xml\")"
   ]
  },
  {
   "cell_type": "code",
   "execution_count": 28,
   "metadata": {},
   "outputs": [],
   "source": [
    "# xml -> xmin, ymin, xmax, ymax, class_name[class_index]\n",
    "# json -> xmin, ymin, xmax, ymax, confidence, class_index\n",
    "\n",
    "# xml -> {\"000001\": [[xmin, ymin, xmax, ymax, 0, class_index], [xmin, ymin, xmax, ymax, 0, class_index]]}\n",
    "# json -> {\"000001\": [[xmin, ymin, xmax, ymax, confidence, class_index], [xmin, ymin, xmax, ymax, confidence, class_index]]}"
   ]
  },
  {
   "cell_type": "markdown",
   "metadata": {},
   "source": [
    "# 2.加载标注信息，从xml中加载真值，从json中加载检测后结果"
   ]
  },
  {
   "cell_type": "code",
   "execution_count": 2,
   "metadata": {},
   "outputs": [],
   "source": [
    "detection_annotation_root = \"predict_json\"\n",
    "groundtruth_annotation_root = \"groundtruths_xml\"\n",
    "label_map = [\"aeroplane\", \"bicycle\", \"bird\", \"boat\", \"bottle\", \"bus\", \"car\", \"cat\", \"chair\", \"cow\", \"diningtable\", \"dog\", \"horse\", \"motorbike\", \"person\", \"pottedplant\", \"sheep\", \"sofa\", \"train\", \"tvmonitor\"]\n",
    "detection_annotations = load_json_ann(detection_annotation_root)\n",
    "groundtruth_annotations = load_xml_ann(groundtruth_annotation_root, label_map)\n",
    "\n",
    "for image_id in detection_annotations:\n",
    "    image_base_annotations = detection_annotations[image_id]\n",
    "    image_base_annotations = nms_as_class(image_base_annotations, 0.5)\n",
    "    detection_annotations[image_id] = image_base_annotations"
   ]
  },
  {
   "cell_type": "markdown",
   "metadata": {},
   "source": [
    "#"
   ]
  },
  {
   "cell_type": "markdown",
   "metadata": {},
   "source": [
    "* 选择一个image_id"
   ]
  },
  {
   "cell_type": "code",
   "execution_count": 3,
   "metadata": {},
   "outputs": [],
   "source": [
    "select_image_id = list(detection_annotations.keys())[0]"
   ]
  },
  {
   "cell_type": "markdown",
   "metadata": {},
   "source": [
    "#"
   ]
  },
  {
   "cell_type": "markdown",
   "metadata": {},
   "source": [
    "* groundtruth标注信息存储为真值信息，是个dict，格式是：\n",
    "    - dict{image_id: [[left, top, right, bottom, 0, classes_index], [left, top, right, bottom, 0, classes_index]]}"
   ]
  },
  {
   "cell_type": "code",
   "execution_count": 4,
   "metadata": {},
   "outputs": [
    {
     "data": {
      "text/plain": [
       "[[157.0, 52.0, 352.0, 443.0, 0, 14]]"
      ]
     },
     "execution_count": 4,
     "metadata": {},
     "output_type": "execute_result"
    }
   ],
   "source": [
    "groundtruth_annotations[select_image_id]"
   ]
  },
  {
   "cell_type": "markdown",
   "metadata": {},
   "source": [
    "#"
   ]
  },
  {
   "cell_type": "markdown",
   "metadata": {},
   "source": [
    "* detection标注信息存储为检测结果信息，是个dict，格式是：\n",
    "    - dict{image_id: [[left, top, right, bottom, confidence, classes_index], [left, top, right, bottom, confidence, classes_index]]}"
   ]
  },
  {
   "cell_type": "code",
   "execution_count": 5,
   "metadata": {},
   "outputs": [
    {
     "data": {
      "text/plain": [
       "[[96.41057252883911,\n",
       "  29.572640857270173,\n",
       "  364.5913302898407,\n",
       "  192.16093577087116,\n",
       "  0.5754572749137878,\n",
       "  19.0],\n",
       " [90.66634625196457,\n",
       "  35.78199184952751,\n",
       "  246.7551827430725,\n",
       "  182.29164359926457,\n",
       "  0.04648984596133232,\n",
       "  19.0],\n",
       " [203.31934094429016,\n",
       "  39.18825566602872,\n",
       "  361.0266149044037,\n",
       "  175.5891610393726,\n",
       "  0.02941707894206047,\n",
       "  19.0],\n",
       " [163.56924176216125,\n",
       "  53.300862014918074,\n",
       "  339.52292799949646,\n",
       "  455.83374401854934,\n",
       "  0.8888785243034363,\n",
       "  14.0],\n",
       " [18.022313714027405,\n",
       "  22.86302064131594,\n",
       "  341.5387272834778,\n",
       "  458.39725032965134,\n",
       "  0.010711569339036942,\n",
       "  6.0]]"
      ]
     },
     "execution_count": 5,
     "metadata": {},
     "output_type": "execute_result"
    }
   ],
   "source": [
    "detection_annotations[select_image_id]"
   ]
  },
  {
   "cell_type": "markdown",
   "metadata": {},
   "source": [
    "# 3.选择一个类别，比如这里是类别0，暂时先计算他的Average Percision"
   ]
  },
  {
   "cell_type": "code",
   "execution_count": 6,
   "metadata": {},
   "outputs": [],
   "source": [
    "compute_classes_index = 0"
   ]
  },
  {
   "cell_type": "markdown",
   "metadata": {},
   "source": [
    "* IoU的计算，此时是实现可以允许a是jx1，b是1xk。结果是jxk"
   ]
  },
  {
   "cell_type": "code",
   "execution_count": 7,
   "metadata": {},
   "outputs": [],
   "source": [
    "def iou(a, b):\n",
    "    aleft, atop, aright, abottom = [a[i] for i in range(4)]\n",
    "    awidth = aright - aleft + 1\n",
    "    aheight = abottom - atop + 1\n",
    "\n",
    "    bleft, btop, bright, bbottom = [b[i] for i in range(4)]\n",
    "    bwidth = bright - bleft + 1\n",
    "    bheight = bbottom - btop + 1\n",
    "\n",
    "    cleft = np.maximum(aleft, bleft)\n",
    "    ctop = np.maximum(atop, btop)\n",
    "    cright = np.minimum(aright, bright)\n",
    "    cbottom = np.minimum(abottom, bbottom)\n",
    "    cross_area = (cright - cleft + 1).clip(0) * (cbottom - ctop + 1).clip(0)\n",
    "    union_area = awidth * aheight + bwidth * bheight - cross_area\n",
    "    return cross_area / union_area"
   ]
  },
  {
   "cell_type": "markdown",
   "metadata": {},
   "source": [
    "# 4.构建matched_table\n",
    "- 针对每一个图像，选择该图像上指定的类别（compute_classes_index）的groundtruth和detection框\n",
    "- 构建matched_table，格式如下：\n",
    "    - 每一行的格式是：[confidence, matched_iou, matched_groundtruth_index, image_id]\n",
    "    - 行数是所有图像的指定类别（compute_classes_index）的detection数量总和\n",
    "    - matched_groundtruth_index是当前detection的框，与其图像上所有同类别groundtruth框IoU最大的那个的索引\n",
    "    - matched_iou则是与当前detection最匹配的matched_groundtruth_index的IoU\n",
    "- 对matched_table进行排序，基于confidence倒序（大的在前面，小的在后面）\n",
    "- 同时统计该类别的groundtruth的总数量备用"
   ]
  },
  {
   "cell_type": "code",
   "execution_count": 8,
   "metadata": {},
   "outputs": [],
   "source": [
    "matched_table = []\n",
    "sum_groundtruth = 0\n",
    "max_dets = 100\n",
    "\n",
    "for image_id in groundtruth_annotations:\n",
    "    select_detection = np.array(list(filter(lambda x:x[5] == compute_classes_index,\\\n",
    "                                            detection_annotations[image_id])))\n",
    "    select_groundtruth = np.array(list(filter(lambda x:x[5] == compute_classes_index,\\\n",
    "                                              groundtruth_annotations[image_id])))\n",
    "\n",
    "    num_detection = len(select_detection)\n",
    "    num_groundtruth = len(select_groundtruth)\n",
    "\n",
    "    num_use_detection = min(num_detection, max_dets)\n",
    "    sum_groundtruth += num_groundtruth\n",
    "\n",
    "    if num_detection == 0:\n",
    "        continue\n",
    "\n",
    "    if len(select_groundtruth) == 0:\n",
    "        for index_of_detection in range(num_use_detection):\n",
    "            confidence = select_detection[index_of_detection, 4]\n",
    "            matched_table.append([confidence, 0, 0, image_id])\n",
    "        continue\n",
    "\n",
    "    sgt = select_groundtruth.T.reshape(6, -1, 1)\n",
    "    sdt = select_detection.T.reshape(6, 1, -1)\n",
    "\n",
    "    # num_groundtruth x num_detection\n",
    "    groundtruth_detection_iou = iou(sgt, sdt)\n",
    "    for index_of_detection in range(num_use_detection):\n",
    "        confidence = select_detection[index_of_detection, 4]\n",
    "        matched_groundtruth_index = groundtruth_detection_iou[:, index_of_detection].argmax()\n",
    "        matched_iou = groundtruth_detection_iou[matched_groundtruth_index, index_of_detection]\n",
    "        matched_table.append([confidence, matched_iou, matched_groundtruth_index, image_id])\n",
    "\n",
    "matched_table = sorted(matched_table, key=lambda x: x[0], reverse=True)"
   ]
  },
  {
   "cell_type": "code",
   "execution_count": 9,
   "metadata": {},
   "outputs": [
    {
     "data": {
      "text/plain": [
       "[[0.9423317909240723, 0.712588290494865, 0, '009329'],\n",
       " [0.9255480170249939, 0.8816558261119185, 0, '007403'],\n",
       " [0.9168242812156677, 0.9117074880579924, 0, '001126'],\n",
       " [0.9092625975608826, 0.9145634697725846, 0, '002908'],\n",
       " [0.9072845578193665, 0.8018974517723729, 0, '004680'],\n",
       " [0.9016928672790527, 0.7523156813153937, 0, '002014'],\n",
       " [0.9016156196594238, 0.8589403037786615, 0, '008881'],\n",
       " [0.8957498669624329, 0.7255727715464821, 0, '009167'],\n",
       " [0.8921591639518738, 0.8721837634620767, 0, '008950'],\n",
       " [0.8904922604560852, 0.7163512422678984, 0, '009211']]"
      ]
     },
     "execution_count": 9,
     "metadata": {},
     "output_type": "execute_result"
    }
   ],
   "source": [
    "matched_table[:10]"
   ]
  },
  {
   "cell_type": "markdown",
   "metadata": {},
   "source": []
  },
  {
   "cell_type": "markdown",
   "metadata": {},
   "source": [
    "# 5.计算AP@0.5的precision、recall曲线\n",
    "* 0.5指IoU的阈值是0.5，如果需要计算AP@0.75，直接指定阈值0.75即可\n",
    "* 当某一个detection的最优匹配的IoU > threshold时，被认为检测成功，\n",
    "    * 对应的groundtruth如果第一次出现，则该detection被认为是true_positive，否则是false_positive\n",
    "* 当选中一个true_positive时，其对应的groundtruth设置为见过（seen)，以后任何detection见到他都不能够匹配为true_positive\n",
    "* Recall的计算公式为：\n",
    "    $$ Recall=\\frac{TP}{TP + FN} = \\frac{TP}{\\#ground truths} $$\n",
    "* Precision的计算公式为：\n",
    "    $$ Precision=\\frac{TP}{TP + FP} = \\frac{TP}{\\#detections} $$\n",
    "* 对于检测任务而言，真实值只有Positive，没有Negative。预测值只有Positive，没有Negative\n",
    "    - 也因此，咱们只有FN、FP、TP没有TN\n",
    "    - 所以，TP + FN，就是ground truths的数量\n",
    "    - 所以，TP + FP，就是detections的数量\n",
    "* 其中TP/FP/TN/FN如下：\n",
    "\n",
    "|-|预测=Negative|预测=Positive|\n",
    "|--|--|--|\n",
    "|真实=Negative|(True Negative)TN|(Fase Positive)FP|\n",
    "|真实=Positive|(False Negative)FN|(True Positive)TP|\n",
    "\n",
    "![image.png](计算精度1.png)\n",
    "![image.png](计算精度2.png)"
   ]
  },
  {
   "cell_type": "markdown",
   "metadata": {},
   "source": [
    "* np.cumsum，返回累积和，例如 [1, 2, 0, 1]，返回 [1, 3, 3, 4]"
   ]
  },
  {
   "cell_type": "code",
   "execution_count": 10,
   "metadata": {},
   "outputs": [
    {
     "data": {
      "text/plain": [
       "array([1, 3, 3, 4])"
      ]
     },
     "execution_count": 10,
     "metadata": {},
     "output_type": "execute_result"
    }
   ],
   "source": [
    "np.cumsum([1, 2, 0, 1])"
   ]
  },
  {
   "cell_type": "code",
   "execution_count": 11,
   "metadata": {},
   "outputs": [],
   "source": [
    "iou_threshold = 0.5\n",
    "num_dets = len(matched_table)\n",
    "true_positive = np.zeros((num_dets, ))\n",
    "\n",
    "groundtruth_seen_map = {item[3] : set() for item in matched_table}\n",
    "for index, (confidence, matched_iou, matched_groundtruth_index, image_id) in enumerate(matched_table):\n",
    "    image_base_seen_map = groundtruth_seen_map[image_id]\n",
    "    if matched_iou >= iou_threshold:\n",
    "        if matched_groundtruth_index not in image_base_seen_map:\n",
    "            true_positive[index] = 1\n",
    "            image_base_seen_map.add(matched_groundtruth_index)\n",
    "\n",
    "num_predicts = np.arange(1, len(true_positive) + 1)\n",
    "accumulate_true_positive = np.cumsum(true_positive)\n",
    "precision = accumulate_true_positive / num_predicts\n",
    "recall = accumulate_true_positive / sum_groundtruth"
   ]
  },
  {
   "cell_type": "code",
   "execution_count": 12,
   "metadata": {},
   "outputs": [],
   "source": [
    "import matplotlib.pyplot as plt"
   ]
  },
  {
   "cell_type": "code",
   "execution_count": 13,
   "metadata": {},
   "outputs": [
    {
     "data": {
      "text/plain": [
       "[<matplotlib.lines.Line2D at 0x7fe899e5e650>]"
      ]
     },
     "execution_count": 13,
     "metadata": {},
     "output_type": "execute_result"
    },
    {
     "data": {
      "image/png": "[encoded data removed]",
      "text/plain": [
       "<Figure size 432x288 with 1 Axes>"
      ]
     },
     "metadata": {
      "needs_background": "light"
     },
     "output_type": "display_data"
    }
   ],
   "source": [
    "plt.plot(recall, precision, \"b-\")"
   ]
  },
  {
   "cell_type": "markdown",
   "metadata": {},
   "source": [
    "# 6.平滑precision曲线"
   ]
  },
  {
   "cell_type": "markdown",
   "metadata": {},
   "source": [
    "<img src=\"interpolated_precision_v2.png\">"
   ]
  },
  {
   "cell_type": "code",
   "execution_count": 14,
   "metadata": {},
   "outputs": [
    {
     "data": {
      "text/plain": [
       "array([1, 1, 1, 2, 2, 2])"
      ]
     },
     "execution_count": 14,
     "metadata": {},
     "output_type": "execute_result"
    }
   ],
   "source": [
    "x = [1, 1, 0, 2, 0, 0]\n",
    "np.maximum.accumulate(x)"
   ]
  },
  {
   "cell_type": "code",
   "execution_count": 15,
   "metadata": {},
   "outputs": [
    {
     "data": {
      "text/plain": [
       "array([3, 2, 1])"
      ]
     },
     "execution_count": 15,
     "metadata": {},
     "output_type": "execute_result"
    }
   ],
   "source": [
    "x = [1, 2, 3]\n",
    "np.flip(x)"
   ]
  },
  {
   "cell_type": "code",
   "execution_count": 16,
   "metadata": {},
   "outputs": [],
   "source": [
    "mrec = np.concatenate(([0.], recall, [min(recall[-1] + 1E-3, 1.)]))\n",
    "mpre = np.concatenate(([0.], precision, [0.]))\n",
    "\n",
    "# Compute the precision envelope\n",
    "mpre = np.flip(np.maximum.accumulate(np.flip(mpre)))"
   ]
  },
  {
   "cell_type": "code",
   "execution_count": 17,
   "metadata": {},
   "outputs": [
    {
     "data": {
      "text/plain": [
       "[<matplotlib.lines.Line2D at 0x7fe899f02dd0>]"
      ]
     },
     "execution_count": 17,
     "metadata": {},
     "output_type": "execute_result"
    },
    {
     "data": {
      "image/png": "[encoded data removed]",
      "text/plain": [
       "<Figure size 432x288 with 1 Axes>"
      ]
     },
     "metadata": {
      "needs_background": "light"
     },
     "output_type": "display_data"
    }
   ],
   "source": [
    "plt.plot(mrec, mpre, \"b-\")"
   ]
  },
  {
   "cell_type": "markdown",
   "metadata": {},
   "source": [
    "# 7.计算precision、recall曲线下面积得到Average Precision\n",
    "* 第一种是11点法，来自VOC2007的评估方法\n",
    "* 第二种是连续的所有点积分，来自VOC2012的评估方法\n",
    "* 第三种是101点法，来自COCO所采用，也是目前COCO数据集的评估方法和大部分竞赛评估方法"
   ]
  },
  {
   "cell_type": "markdown",
   "metadata": {},
   "source": [
    "### np.interp(x, xp, fp, left=None, right=None, period=None)\n",
    "* 一维线性插值函数，计算指定xp、fp时取x时的插值结果\n",
    "* x，对于满足fp = f(xp)的函数f而言，需要获取多少个值，以计算output = f(x)\n",
    "* xp，用于得到函数f，满足fp = f(xp)\n",
    "* fp，用于得到函数f，满足fp = f(xp)\n",
    "* left，指定左边界\n",
    "* right，指定右边界"
   ]
  },
  {
   "cell_type": "code",
   "execution_count": 18,
   "metadata": {},
   "outputs": [
    {
     "data": {
      "text/plain": [
       "[<matplotlib.lines.Line2D at 0x7fe899fa9690>]"
      ]
     },
     "execution_count": 18,
     "metadata": {},
     "output_type": "execute_result"
    },
    {
     "data": {
      "image/png": "[encoded data removed]",
      "text/plain": [
       "<Figure size 432x288 with 1 Axes>"
      ]
     },
     "metadata": {
      "needs_background": "light"
     },
     "output_type": "display_data"
    }
   ],
   "source": [
    "xp = 0, 10, 30\n",
    "fp = 30, 28, 0\n",
    "plt.plot(xp, fp, \"b-\")"
   ]
  },
  {
   "cell_type": "code",
   "execution_count": 32,
   "metadata": {},
   "outputs": [
    {
     "data": {
      "text/plain": [
       "array([29., 14.])"
      ]
     },
     "execution_count": 32,
     "metadata": {},
     "output_type": "execute_result"
    }
   ],
   "source": [
    "x = 5, 20\n",
    "np.interp(x, xp, fp)"
   ]
  },
  {
   "cell_type": "code",
   "execution_count": 35,
   "metadata": {},
   "outputs": [],
   "source": [
    "#np.linspace(0, 1, 5)"
   ]
  },
  {
   "cell_type": "code",
   "execution_count": 31,
   "metadata": {},
   "outputs": [],
   "source": [
    "xs = np.linspace(xp[0], xp[-1], 20)\n",
    "inter_point = np.interp(xs, xp, fp)"
   ]
  },
  {
   "cell_type": "code",
   "execution_count": 21,
   "metadata": {},
   "outputs": [
    {
     "data": {
      "text/plain": [
       "[<matplotlib.lines.Line2D at 0x7fe899fe5e10>]"
      ]
     },
     "execution_count": 21,
     "metadata": {},
     "output_type": "execute_result"
    },
    {
     "data": {
      "image/png": "[encoded data removed]",
      "text/plain": [
       "<Figure size 432x288 with 1 Axes>"
      ]
     },
     "metadata": {
      "needs_background": "light"
     },
     "output_type": "display_data"
    }
   ],
   "source": [
    "plt.plot(xp, fp, \"b-\")\n",
    "plt.plot(xs, inter_point, \"r*\")"
   ]
  },
  {
   "cell_type": "markdown",
   "metadata": {},
   "source": [
    "* 计算101点插值的ap ( COCO )"
   ]
  },
  {
   "cell_type": "code",
   "execution_count": 22,
   "metadata": {},
   "outputs": [
    {
     "name": "stdout",
     "output_type": "stream",
     "text": [
      "COCO 101point ap: Class 00[aeroplane  ] AP@0.5 = 0.545\n"
     ]
    }
   ],
   "source": [
    "x = np.linspace(0, 1, 101)\n",
    "average_precision = np.mean(np.interp(x, mrec, mpre))\n",
    "class_name = label_map[compute_classes_index]\n",
    "print(f\"COCO 101point ap: Class {compute_classes_index:02d}[{class_name:11s}] AP@{iou_threshold} = {average_precision:.3f}\")"
   ]
  },
  {
   "cell_type": "markdown",
   "metadata": {},
   "source": [
    "* 计算11点插值的ap ( VOC2007 )"
   ]
  },
  {
   "cell_type": "code",
   "execution_count": 23,
   "metadata": {},
   "outputs": [
    {
     "name": "stdout",
     "output_type": "stream",
     "text": [
      "VOC2007 11point ap: Class 00[aeroplane  ] AP@0.5 = 0.541\n"
     ]
    }
   ],
   "source": [
    "x = np.linspace(0, 1, 11)\n",
    "average_precision = np.mean(np.interp(x, mrec, mpre))\n",
    "class_name = label_map[compute_classes_index]\n",
    "print(f\"VOC2007 11point ap: Class {compute_classes_index:02d}[{class_name:11s}] AP@{iou_threshold} = {average_precision:.3f}\")"
   ]
  },
  {
   "cell_type": "markdown",
   "metadata": {},
   "source": [
    "* 计算连续点（全部修改过的点，因为recall会有重复，所以计算面积时候去掉重复后算）的ap( VOC2012 )"
   ]
  },
  {
   "cell_type": "code",
   "execution_count": 24,
   "metadata": {},
   "outputs": [
    {
     "name": "stdout",
     "output_type": "stream",
     "text": [
      "VOC2012 11point ap: Class 00[aeroplane  ] AP@0.5 = 0.546\n"
     ]
    }
   ],
   "source": [
    "recall_has_changes_condiation = mrec[1:] != mrec[:-1]\n",
    "recall_has_changes_index = np.where(recall_has_changes_condiation)[0]  # points where x axis (recall) changes (VOC2012)\n",
    "average_precision = np.sum((mrec[recall_has_changes_index + 1] - mrec[recall_has_changes_index]) * mpre[recall_has_changes_index + 1])  # area under curve\n",
    "print(f\"VOC2012 11point ap: Class {compute_classes_index:02d}[{class_name:11s}] AP@{iou_threshold} = {average_precision:.3f}\")"
   ]
  },
  {
   "cell_type": "markdown",
   "metadata": {},
   "source": [
    "# 8.汇总所有代码计算mAP，即所有类别ap的平均值"
   ]
  },
  {
   "cell_type": "code",
   "execution_count": 25,
   "metadata": {},
   "outputs": [],
   "source": [
    "def compute_area_under_curve(precision, recall, method=\"interp101\"):\n",
    "    \n",
    "    mrec = np.concatenate(([0.], recall, [min(recall[-1] + 1E-3, 1.)]))\n",
    "    mpre = np.concatenate(([0.], precision, [0.]))\n",
    "    mpre = np.flip(np.maximum.accumulate(np.flip(mpre)))\n",
    "    \n",
    "    if method == \"interp101\":\n",
    "        x = np.linspace(0, 1, 101)\n",
    "        average_precision = np.mean(np.interp(x, mrec, mpre))\n",
    "    elif method == \"interp11\":\n",
    "        x = np.linspace(0, 1, 11)\n",
    "        average_precision = np.mean(np.interp(x, mrec, mpre))\n",
    "    else:\n",
    "        recall_has_changes_condiation = mrec[1:] != mrec[:-1]\n",
    "        recall_has_changes_index = np.where(recall_has_changes_condiation)[0]  # points where x axis (recall) changes (VOC2012)\n",
    "        average_precision = np.sum((mrec[recall_has_changes_index + 1] - mrec[recall_has_changes_index]) * mpre[recall_has_changes_index + 1])  # area under curve\n",
    "    return average_precision\n",
    "\n",
    "def compute_ap(matched_table, iou_threshold, sum_groundtruth):\n",
    "    num_dets = len(matched_table)\n",
    "    true_positive = np.zeros((num_dets, ))\n",
    "\n",
    "    groundtruth_seen_map = {item[3] : set() for item in matched_table}\n",
    "    for index, (confidence, matched_iou, matched_groundtruth_index, image_id) in enumerate(matched_table):\n",
    "        image_base_seen_map = groundtruth_seen_map[image_id]\n",
    "        if matched_iou >= iou_threshold:\n",
    "            if matched_groundtruth_index not in image_base_seen_map:\n",
    "                true_positive[index] = 1\n",
    "                image_base_seen_map.add(matched_groundtruth_index)\n",
    "\n",
    "    num_predicts = np.arange(1, len(true_positive) + 1)\n",
    "    accumulate_true_positive = np.cumsum(true_positive)\n",
    "    precision = accumulate_true_positive / num_predicts\n",
    "    recall = accumulate_true_positive / sum_groundtruth\n",
    "    return compute_area_under_curve(precision, recall)\n",
    "\n",
    "def compute_map(groundtruth_annotations, detection_annotations, label_map):\n",
    "    \n",
    "    aps = []\n",
    "    for compute_classes_index in range(len(label_map)):\n",
    "        matched_table = []\n",
    "        sum_groundtruth = 0\n",
    "        max_dets = 100\n",
    "\n",
    "        for image_id in groundtruth_annotations:\n",
    "            select_detection = np.array(list(filter(lambda x:x[5] == compute_classes_index, detection_annotations[image_id])))\n",
    "            select_groundtruth = np.array(list(filter(lambda x:x[5] == compute_classes_index, groundtruth_annotations[image_id])))\n",
    "\n",
    "            num_detection = len(select_detection)\n",
    "            num_groundtruth = len(select_groundtruth)\n",
    "\n",
    "            num_use_detection = min(num_detection, max_dets)\n",
    "            sum_groundtruth += num_groundtruth\n",
    "\n",
    "            if num_detection == 0:\n",
    "                continue\n",
    "\n",
    "            if len(select_groundtruth) == 0:\n",
    "                for index_of_detection in range(num_use_detection):\n",
    "                    confidence = select_detection[index_of_detection, 4]\n",
    "                    matched_table.append([confidence, 0, 0, image_id])\n",
    "                continue\n",
    "\n",
    "            sgt = select_groundtruth.T.reshape(6, -1, 1)\n",
    "            sdt = select_detection.T.reshape(6, 1, -1)\n",
    "\n",
    "            # num_groundtruth x num_detection\n",
    "            groundtruth_detection_iou = iou(sgt, sdt)\n",
    "            for index_of_detection in range(num_use_detection):\n",
    "                confidence = select_detection[index_of_detection, 4]\n",
    "                matched_groundtruth_index = groundtruth_detection_iou[:, index_of_detection].argmax()\n",
    "                matched_iou = groundtruth_detection_iou[matched_groundtruth_index, index_of_detection]\n",
    "                matched_table.append([confidence, matched_iou, matched_groundtruth_index, image_id])\n",
    "\n",
    "        matched_table = sorted(matched_table, key=lambda x: x[0], reverse=True)\n",
    "        ap05 = compute_ap(matched_table, 0.5, sum_groundtruth)\n",
    "        ap075 = compute_ap(matched_table, 0.75, sum_groundtruth)\n",
    "        ap05095 = np.mean([compute_ap(matched_table, t, sum_groundtruth) for t in np.arange(0.5, 1.0, 0.05)])\n",
    "        aps.append([ap05, ap075, ap05095])\n",
    "    return np.mean(aps, axis=0)"
   ]
  },
  {
   "cell_type": "code",
   "execution_count": 26,
   "metadata": {},
   "outputs": [
    {
     "name": "stdout",
     "output_type": "stream",
     "text": [
      "Average Precision  (AP) @[ IoU=0.5      | area=   all | maxDets=100 ] = 0.509\n",
      "Average Precision  (AP) @[ IoU=0.75     | area=   all | maxDets=100 ] = 0.262\n",
      "Average Precision  (AP) @[ IoU=0.5:0.95 | area=   all | maxDets=100 ] = 0.271\n"
     ]
    }
   ],
   "source": [
    "aps = compute_map(groundtruth_annotations, detection_annotations, label_map)\n",
    "names = [\"0.5\", \"0.75\", \"0.5:0.95\"]\n",
    "for ap, name in zip(aps, names):\n",
    "    print(f\"Average Precision  (AP) @[ IoU={name:8s} | area=   all | maxDets=100 ] = {ap:.3f}\")"
   ]
  }
 ],
 "metadata": {
  "kernelspec": {
   "display_name": "Python 3",
   "language": "python",
   "name": "python3"
  },
  "language_info": {
   "codemirror_mode": {
    "name": "ipython",
    "version": 3
   },
   "file_extension": ".py",
   "mimetype": "text/x-python",
   "name": "python",
   "nbconvert_exporter": "python",
   "pygments_lexer": "ipython3",
   "version": "3.8.5"
  }
 },
 "nbformat": 4,
 "nbformat_minor": 4
}
