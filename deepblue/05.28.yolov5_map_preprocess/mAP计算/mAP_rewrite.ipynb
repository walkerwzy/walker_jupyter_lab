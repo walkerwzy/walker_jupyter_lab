{
 "cells": [
  {
   "cell_type": "code",
   "execution_count": 1,
   "metadata": {},
   "outputs": [],
   "source": [
    "import os\n",
    "import sys\n",
    "import json\n",
    "import numpy as np\n",
    "\n",
    "def iou(a, b):\n",
    "    ax, ay, ar, ab = a\n",
    "    bx, by, br, bb = b\n",
    "    cross_x = max(ax, bx)\n",
    "    cross_y = max(ay, by)\n",
    "    cross_r = min(ar, br)\n",
    "    cross_b = min(ab, bb)\n",
    "    cross_w = max(0, (cross_r - cross_x) + 1)\n",
    "    cross_h = max(0, (cross_b - cross_y) + 1)\n",
    "    cross_area = cross_w * cross_h\n",
    "    union = (ar - ax + 1) * (ab - ay + 1) + (br - bx + 1) * (bb - by + 1) - cross_area\n",
    "    return cross_area / union\n",
    "\n",
    "def nms(bboxes, threshold, confidence_index=-1):\n",
    "    bboxes.sort(key=lambda x: x[confidence_index], reverse=True)\n",
    "    flags = [True] * len(bboxes)\n",
    "    keep = []\n",
    "    for i in range(len(bboxes)):\n",
    "        if not flags[i]: continue\n",
    "        keep.append(bboxes[i])\n",
    "\n",
    "        for j in range(i+1, len(bboxes)):\n",
    "            if iou(bboxes[i][:4], bboxes[j][:4]) > threshold:\n",
    "                flags[j] = False\n",
    "    return keep\n",
    "\n",
    "def nms_as_class(bboxes, threshold, class_index=-1, confidence_index=-2):\n",
    "    boxasclass = {}\n",
    "    for box in bboxes:\n",
    "        classes = box[class_index]\n",
    "        if classes not in boxasclass:\n",
    "            boxasclass[classes] = []\n",
    "        boxasclass[classes].append(box)\n",
    "\n",
    "    output = []\n",
    "    for key in boxasclass:\n",
    "        result = nms(boxasclass[key], threshold, confidence_index)\n",
    "        output.extend(result)\n",
    "    return output\n",
    "\n",
    "def xml_value(line):\n",
    "    p0 = line.find(\">\") + 1\n",
    "    p1 = line.find(\"</\", p0)\n",
    "    return line[p0:p1]\n",
    "\n",
    "def xml_token(line):\n",
    "    p0 = line.find(\"<\") + 1\n",
    "    p1 = line.find(\">\", p0)\n",
    "    return line[p0:p1]\n",
    "\n",
    "def load_voc_xml(file):\n",
    "\n",
    "    with open(file, \"r\") as f:\n",
    "        lines = f.readlines()\n",
    "\n",
    "    name = None\n",
    "    box = None\n",
    "    bboxes = []\n",
    "    enter_object = False\n",
    "    enter_part = False\n",
    "    for line in lines:\n",
    "        token = xml_token(line)\n",
    "        \n",
    "        if token == \"object\":\n",
    "            enter_object = True\n",
    "        elif token == \"/object\":\n",
    "            enter_object = False            \n",
    "        elif enter_object:\n",
    "            if token == \"part\":\n",
    "                enter_part = True\n",
    "            elif token == \"/part\":\n",
    "                enter_part = False\n",
    "\n",
    "            if not enter_part:\n",
    "                if token == \"name\":\n",
    "                    name = xml_value(line)\n",
    "                elif token == \"bndbox\":\n",
    "                    box = [name]\n",
    "                    bboxes.append(box)\n",
    "                elif token in [\"xmin\", \"ymin\", \"xmax\", \"ymax\"]:\n",
    "                    box.append(float(xml_value(line)))\n",
    "    return bboxes\n",
    "\n",
    "def load_ann(root, call, suffix):\n",
    "    files = os.listdir(root)\n",
    "    anns = {}\n",
    "    for file in files:\n",
    "        if file.endswith(suffix):\n",
    "            name = file[:file.rfind(\".\")]\n",
    "            anns[name] = call(os.path.join(root, file))\n",
    "    return anns\n",
    "\n",
    "def load_json_ann(root):\n",
    "    def call(file):\n",
    "        with open(file, \"r\") as f:\n",
    "            ann = json.load(f)\n",
    "        return ann\n",
    "    return load_ann(root, call, \".json\")\n",
    "\n",
    "def load_xml_ann(root, label_map):\n",
    "    def call(file):\n",
    "        return [item[1:] + [0, label_map.index(item[0])] for item in load_voc_xml(file)]\n",
    "    return load_ann(root, call, \".xml\")"
   ]
  },
  {
   "cell_type": "code",
   "execution_count": 2,
   "metadata": {},
   "outputs": [],
   "source": [
    "detection_annotation_root = \"predict_json\"\n",
    "groundtruth_annotation_root = \"groundtruths_xml\"\n",
    "label_map = [\"aeroplane\", \"bicycle\", \"bird\", \"boat\", \"bottle\", \"bus\", \"car\", \"cat\", \"chair\", \"cow\", \"diningtable\", \"dog\", \"horse\", \"motorbike\", \"person\", \"pottedplant\", \"sheep\", \"sofa\", \"train\", \"tvmonitor\"]\n",
    "detection_annotations = load_json_ann(detection_annotation_root)\n",
    "groundtruth_annotations = load_xml_ann(groundtruth_annotation_root, label_map)\n",
    "\n",
    "for image_id in detection_annotations:\n",
    "    image_base_annotations = detection_annotations[image_id]\n",
    "    image_base_annotations = nms_as_class(image_base_annotations, 0.5)\n",
    "    detection_annotations[image_id] = image_base_annotations"
   ]
  },
  {
   "cell_type": "code",
   "execution_count": 4,
   "metadata": {},
   "outputs": [
    {
     "data": {
      "text/plain": [
       "[[-11.189430952072144,\n",
       "  -11.567875742912292,\n",
       "  477.3308038711548,\n",
       "  391.7403221130371,\n",
       "  0.041872620582580566,\n",
       "  7.0],\n",
       " [13.804018497467041,\n",
       "  -14.826655387878418,\n",
       "  506.9807767868042,\n",
       "  376.5936493873596,\n",
       "  0.014223038218915462,\n",
       "  6.0]]"
      ]
     },
     "execution_count": 4,
     "metadata": {},
     "output_type": "execute_result"
    }
   ],
   "source": [
    "image_id = \"001278\"\n",
    "detection_annotations[image_id]"
   ]
  },
  {
   "cell_type": "code",
   "execution_count": 5,
   "metadata": {},
   "outputs": [
    {
     "data": {
      "text/plain": [
       "[[2.0, 1.0, 500.0, 351.0, 0, 18]]"
      ]
     },
     "execution_count": 5,
     "metadata": {},
     "output_type": "execute_result"
    }
   ],
   "source": [
    "groundtruth_annotations[image_id]"
   ]
  },
  {
   "cell_type": "markdown",
   "metadata": {},
   "source": [
    "### 1.干活时候的confidence阈值，一般比如说是0.5、0.3，是为了使用\n",
    "### 2.评估模型时的confidence阈值，一般是0.001、0.01之类的，非常小\n",
    "- 为什么？\n",
    "- 大家都采用非常底的阈值，保留尽可能多的框，统一的原则进行评估，避免不同模型，confidence阈值不同，无法统一标准"
   ]
  },
  {
   "cell_type": "code",
   "execution_count": 6,
   "metadata": {},
   "outputs": [],
   "source": [
    "compute_classes_index = 0"
   ]
  },
  {
   "cell_type": "markdown",
   "metadata": {},
   "source": [
    "# 构建matched_table\n",
    "* 格式是：[confidence, matched_iou, matched_groundtruth_index, image_id]"
   ]
  },
  {
   "cell_type": "code",
   "execution_count": 29,
   "metadata": {},
   "outputs": [],
   "source": [
    "def iou(a, b):\n",
    "    '''\n",
    "    a : 4 x M x 1    left, top, right, bottom\n",
    "    b : 4 x 1 x N    left, top, right, bottom\n",
    "    '''\n",
    "    aleft, atop, aright, abottom = [a[i] for i in range(4)]\n",
    "    bleft, btop, bright, bbottom = [b[i] for i in range(4)]\n",
    "    \n",
    "    # aleft.shape = M, 1\n",
    "    # bleft.shape = 1, N\n",
    "    cross_left = np.maximum(aleft, bleft)        # M x N\n",
    "    cross_top = np.maximum(atop, btop)           # M x N\n",
    "    cross_right = np.minimum(aright, bright)     # M x N\n",
    "    cross_bottom = np.minimum(abottom, bbottom)  # M x N\n",
    "    \n",
    "    # cross_area.shape  =  M x N\n",
    "    cross_area = (cross_right - cross_left + 1).clip(0) * (cross_bottom - cross_top + 1).clip(0)\n",
    "    \n",
    "    # union_area.shape  =  M x N\n",
    "    union_area = (aright - aleft + 1) * (abottom - atop + 1) + (bright - bleft + 1) * (bbottom - btop + 1) - cross_area\n",
    "    \n",
    "    # M x N\n",
    "    return cross_area / union_area"
   ]
  },
  {
   "cell_type": "code",
   "execution_count": 79,
   "metadata": {},
   "outputs": [],
   "source": [
    "matched_table = []\n",
    "sum_groundthruth = 0\n",
    "\n",
    "for image_id in groundtruth_annotations:\n",
    "    \n",
    "    groundtruth_box = groundtruth_annotations[image_id]\n",
    "    detection_box = detection_annotations[image_id]\n",
    "    \n",
    "    # 挑取指定类别（compute_classes_index）的box出来\n",
    "    groundtruth_box = list(filter(lambda x: x[-1] == compute_classes_index, groundtruth_box))\n",
    "    detection_box = list(filter(lambda x: x[-1] == compute_classes_index, detection_box))\n",
    "    sum_groundthruth += len(groundtruth_box)\n",
    "    \n",
    "    if len(groundtruth_box) == 0:\n",
    "        for detection_index in range(len(detection_box)):\n",
    "            matched_index = -1\n",
    "            iou_value = 0\n",
    "            confidence = detection_box[detection_index][4]\n",
    "            matched_table.append([confidence, iou_value, matched_index, image_id])\n",
    "        continue\n",
    "    \n",
    "    if len(detection_box) == 0:\n",
    "        continue\n",
    "        \n",
    "    # N x 6 (left, top, right, bottom, 0, class_index)\n",
    "    groundtruth_box = np.array(groundtruth_box)\n",
    "    \n",
    "    # N x 6 (left, top, right, bottom, confidence, class_index)\n",
    "    detection_box = np.array(detection_box)\n",
    "    \n",
    "    sgt = groundtruth_box.T.reshape(6, -1, 1)  # 6 x M x 1\n",
    "    sdt = detection_box.T.reshape(6, 1, -1)    # 6 x 1 x N\n",
    "    \n",
    "    # num_groundtruth x num_detection\n",
    "    matched_iou = iou(sgt, sdt)\n",
    "    \n",
    "    for detection_index in range(len(detection_box)):\n",
    "        matched_index = matched_iou[:, detection_index].argmax()\n",
    "        iou_value = matched_iou[matched_index, detection_index]\n",
    "        confidence = detection_box[detection_index, 4]\n",
    "        matched_table.append([confidence, iou_value, matched_index, image_id])\n",
    "\n",
    "matched_table = sorted(matched_table, key=lambda x:x[0], reverse=True)"
   ]
  },
  {
   "cell_type": "code",
   "execution_count": 80,
   "metadata": {},
   "outputs": [
    {
     "data": {
      "text/plain": [
       "[[0.9423317909240723, 0.712588290494865, 0, '009329'],\n",
       " [0.9255480170249939, 0.8816558261119185, 0, '007403'],\n",
       " [0.9168242812156677, 0.9117074880579924, 0, '001126'],\n",
       " [0.9092625975608826, 0.9145634697725846, 0, '002908'],\n",
       " [0.9072845578193665, 0.8018974517723729, 0, '004680'],\n",
       " [0.9016928672790527, 0.7523156813153937, 0, '002014'],\n",
       " [0.9016156196594238, 0.8589403037786615, 0, '008881'],\n",
       " [0.8957498669624329, 0.7255727715464821, 0, '009167'],\n",
       " [0.8921591639518738, 0.8721837634620767, 0, '008950'],\n",
       " [0.8904922604560852, 0.7163512422678984, 0, '009211']]"
      ]
     },
     "execution_count": 80,
     "metadata": {},
     "output_type": "execute_result"
    }
   ],
   "source": [
    "matched_table[:10]"
   ]
  },
  {
   "cell_type": "markdown",
   "metadata": {},
   "source": [
    "# 计算IoU阈值为0.5时的AP的Precision、Recall"
   ]
  },
  {
   "cell_type": "code",
   "execution_count": 81,
   "metadata": {},
   "outputs": [],
   "source": [
    "iou_threshold = 0.5\n",
    "num_detection = len(matched_table)\n",
    "true_positive = np.zeros((num_detection,))\n",
    "\n",
    "# matched_index -> 0, 1, 2, 3, 4, 5\n",
    "\n",
    "groundtruth_seen_map = {item[3] : set() for item in matched_table}\n",
    "for index in range(num_detection):\n",
    "    confidence, iou_value, matched_index, image_id = matched_table[index]\n",
    "    \n",
    "    # 第一条件，满足iou_value > iou_threshold时，认为匹配\n",
    "    if iou_value >= iou_threshold:\n",
    "        # 第二条件，要求，image_id上的matched_index，第一次出现（或者说没有出现过）\n",
    "        \n",
    "        # 获取指定图像的seen_map，用以区分是否第一次出现某个matched_index\n",
    "        image_base_seen_map = groundtruth_seen_map[image_id]\n",
    "        \n",
    "        if matched_index not in image_base_seen_map:\n",
    "            true_positive[index] = 1\n",
    "            image_base_seen_map.add(matched_index)"
   ]
  },
  {
   "cell_type": "code",
   "execution_count": 83,
   "metadata": {},
   "outputs": [],
   "source": [
    "tpcount = np.cumsum(true_positive)\n",
    "detection_count = np.arange(1, num_detection + 1)\n",
    "precision = tpcount / detection_count\n",
    "recall = tpcount / sum_groundthruth"
   ]
  },
  {
   "cell_type": "code",
   "execution_count": 84,
   "metadata": {},
   "outputs": [],
   "source": [
    "import matplotlib.pyplot as plt"
   ]
  },
  {
   "cell_type": "code",
   "execution_count": 85,
   "metadata": {},
   "outputs": [
    {
     "data": {
      "text/plain": [
       "[<matplotlib.lines.Line2D at 0x7ff9b1e88f10>]"
      ]
     },
     "execution_count": 85,
     "metadata": {},
     "output_type": "execute_result"
    },
    {
     "data": {
      "image/png": "[encoded data removed]",
      "text/plain": [
       "<Figure size 432x288 with 1 Axes>"
      ]
     },
     "metadata": {
      "needs_background": "light"
     },
     "output_type": "display_data"
    }
   ],
   "source": [
    "plt.plot(recall, precision, \"b-\")"
   ]
  },
  {
   "cell_type": "markdown",
   "metadata": {},
   "source": [
    "# 平滑precision曲线\n",
    "* Compute the precision envelope"
   ]
  },
  {
   "cell_type": "code",
   "execution_count": 96,
   "metadata": {},
   "outputs": [],
   "source": [
    "# right_to_left_precision = np.flip(precision)\n",
    "# acc_precision = np.maximum.accumulate(right_to_left_precision)\n",
    "# acc_precision = np.flip(acc_precision)\n",
    "\n",
    "mrec = np.concatenate(([0.], recall, [min(recall[-1] + 1E-3, 1.)]))\n",
    "mpre = np.concatenate(([0.], precision, [0.]))\n",
    "mpre = np.flip(np.maximum.accumulate(np.flip(mpre)))"
   ]
  },
  {
   "cell_type": "code",
   "execution_count": 97,
   "metadata": {},
   "outputs": [
    {
     "data": {
      "text/plain": [
       "[<matplotlib.lines.Line2D at 0x7ff9b20a0b50>]"
      ]
     },
     "execution_count": 97,
     "metadata": {},
     "output_type": "execute_result"
    },
    {
     "data": {
      "image/png": "[encoded data removed]",
      "text/plain": [
       "<Figure size 432x288 with 1 Axes>"
      ]
     },
     "metadata": {
      "needs_background": "light"
     },
     "output_type": "display_data"
    }
   ],
   "source": [
    "#plt.plot(mrec, precision, \"r-\")\n",
    "plt.plot(mrec, mpre, \"b-\")"
   ]
  },
  {
   "cell_type": "markdown",
   "metadata": {},
   "source": [
    "# 获取曲线下面积\n",
    "* 第一种是101点法，COCO常用的方法"
   ]
  },
  {
   "cell_type": "code",
   "execution_count": 99,
   "metadata": {},
   "outputs": [],
   "source": [
    "#np.interp?"
   ]
  },
  {
   "cell_type": "code",
   "execution_count": 100,
   "metadata": {},
   "outputs": [
    {
     "name": "stdout",
     "output_type": "stream",
     "text": [
      "0.5450250955933796\n"
     ]
    }
   ],
   "source": [
    "x = np.linspace(0, 1, 101)\n",
    "ap = np.mean(np.interp(x, mrec, mpre))\n",
    "print(ap)"
   ]
  },
  {
   "cell_type": "markdown",
   "metadata": {},
   "source": [
    "# 集成代码"
   ]
  },
  {
   "cell_type": "code",
   "execution_count": 108,
   "metadata": {},
   "outputs": [],
   "source": [
    "def iou(a, b):\n",
    "    '''\n",
    "    a : 4 x M x 1    left, top, right, bottom\n",
    "    b : 4 x 1 x N    left, top, right, bottom\n",
    "    '''\n",
    "    aleft, atop, aright, abottom = [a[i] for i in range(4)]\n",
    "    bleft, btop, bright, bbottom = [b[i] for i in range(4)]\n",
    "    \n",
    "    # aleft.shape = M, 1\n",
    "    # bleft.shape = 1, N\n",
    "    cross_left = np.maximum(aleft, bleft)        # M x N\n",
    "    cross_top = np.maximum(atop, btop)           # M x N\n",
    "    cross_right = np.minimum(aright, bright)     # M x N\n",
    "    cross_bottom = np.minimum(abottom, bbottom)  # M x N\n",
    "    \n",
    "    # cross_area.shape  =  M x N\n",
    "    cross_area = (cross_right - cross_left + 1).clip(0) * (cross_bottom - cross_top + 1).clip(0)\n",
    "    \n",
    "    # union_area.shape  =  M x N\n",
    "    union_area = (aright - aleft + 1) * (abottom - atop + 1) + (bright - bleft + 1) * (bbottom - btop + 1) - cross_area\n",
    "    \n",
    "    # M x N\n",
    "    return cross_area / union_area\n",
    "\n",
    "\n",
    "def compute_ap(matched_table, iou_threshold, sum_groundthruth):\n",
    "    num_detection = len(matched_table)\n",
    "    true_positive = np.zeros((num_detection,))\n",
    "\n",
    "    # 计算true_positive\n",
    "    groundtruth_seen_map = {item[3] : set() for item in matched_table}\n",
    "    for index in range(num_detection):\n",
    "        confidence, iou_value, matched_index, image_id = matched_table[index]\n",
    "\n",
    "        # 第一条件，满足iou_value > iou_threshold时，认为匹配\n",
    "        if iou_value >= iou_threshold:\n",
    "            # 第二条件，要求，image_id上的matched_index，第一次出现（或者说没有出现过）\n",
    "\n",
    "            # 获取指定图像的seen_map，用以区分是否第一次出现某个matched_index\n",
    "            image_base_seen_map = groundtruth_seen_map[image_id]\n",
    "\n",
    "            if matched_index not in image_base_seen_map:\n",
    "                true_positive[index] = 1\n",
    "                image_base_seen_map.add(matched_index)\n",
    "                \n",
    "    # 计算Precision、Recall\n",
    "    tpcount = np.cumsum(true_positive)\n",
    "    detection_count = np.arange(1, num_detection + 1)\n",
    "    precision = tpcount / detection_count\n",
    "    recall = tpcount / sum_groundthruth\n",
    "    \n",
    "    # 平滑曲线\n",
    "    mrec = np.concatenate(([0.], recall, [min(recall[-1] + 1E-3, 1.)]))\n",
    "    mpre = np.concatenate(([0.], precision, [0.]))\n",
    "    mpre = np.flip(np.maximum.accumulate(np.flip(mpre)))\n",
    "    \n",
    "    # 插值计算101点的平均值，COCO格式\n",
    "    x = np.linspace(0, 1, 101)\n",
    "    ap = np.mean(np.interp(x, mrec, mpre))\n",
    "    return ap\n",
    "\n",
    "\n",
    "def compute_map(groundtruth_annotations, detection_annotations, label_map):\n",
    "    \n",
    "    aps = []\n",
    "    for compute_classes_index in range(len(label_map)):\n",
    "        matched_table = []\n",
    "        sum_groundthruth = 0\n",
    "\n",
    "        for image_id in groundtruth_annotations:\n",
    "\n",
    "            groundtruth_box = groundtruth_annotations[image_id]\n",
    "            detection_box = detection_annotations[image_id]\n",
    "\n",
    "            # 挑取指定类别（compute_classes_index）的box出来\n",
    "            groundtruth_box = list(filter(lambda x: x[-1] == compute_classes_index, groundtruth_box))\n",
    "            detection_box = list(filter(lambda x: x[-1] == compute_classes_index, detection_box))\n",
    "            sum_groundthruth += len(groundtruth_box)\n",
    "\n",
    "            if len(groundtruth_box) == 0:\n",
    "                for detection_index in range(len(detection_box)):\n",
    "                    matched_index = -1\n",
    "                    iou_value = 0\n",
    "                    confidence = detection_box[detection_index][4]\n",
    "                    matched_table.append([confidence, iou_value, matched_index, image_id])\n",
    "                continue\n",
    "\n",
    "            if len(detection_box) == 0:\n",
    "                continue\n",
    "\n",
    "            # N x 6 (left, top, right, bottom, 0, class_index)\n",
    "            groundtruth_box = np.array(groundtruth_box)\n",
    "\n",
    "            # N x 6 (left, top, right, bottom, confidence, class_index)\n",
    "            detection_box = np.array(detection_box)\n",
    "\n",
    "            sgt = groundtruth_box.T.reshape(6, -1, 1)  # 6 x M x 1\n",
    "            sdt = detection_box.T.reshape(6, 1, -1)    # 6 x 1 x N\n",
    "\n",
    "            # num_groundtruth x num_detection\n",
    "            matched_iou = iou(sgt, sdt)\n",
    "\n",
    "            for detection_index in range(len(detection_box)):\n",
    "                matched_index = matched_iou[:, detection_index].argmax()\n",
    "                iou_value = matched_iou[matched_index, detection_index]\n",
    "                confidence = detection_box[detection_index, 4]\n",
    "                matched_table.append([confidence, iou_value, matched_index, image_id])\n",
    "\n",
    "        matched_table = sorted(matched_table, key=lambda x:x[0], reverse=True)\n",
    "        ap05  = compute_ap(matched_table, 0.5, sum_groundthruth)\n",
    "        ap075 = compute_ap(matched_table, 0.75, sum_groundthruth)\n",
    "        ap05095 = np.mean([compute_ap(matched_table, t, sum_groundthruth) for t in np.arange(0.5, 1.0, 0.05)])\n",
    "        aps.append([ap05, ap075, ap05095])\n",
    "    return np.mean(aps, axis=0)"
   ]
  },
  {
   "cell_type": "code",
   "execution_count": 109,
   "metadata": {},
   "outputs": [],
   "source": [
    "map = compute_map(groundtruth_annotations, detection_annotations, label_map)"
   ]
  },
  {
   "cell_type": "code",
   "execution_count": 113,
   "metadata": {},
   "outputs": [
    {
     "name": "stdout",
     "output_type": "stream",
     "text": [
      "AP @ [IoU=0.5     ] = 0.509\n",
      "AP @ [IoU=0.75    ] = 0.262\n",
      "AP @ [IoU=0.5:0.95] = 0.271\n"
     ]
    }
   ],
   "source": [
    "names = [\"0.5\", \"0.75\", \"0.5:0.95\"]\n",
    "\n",
    "for ap, name in zip(map, names):\n",
    "    print(f\"AP @ [IoU={name:8s}] = {ap:.3f}\")"
   ]
  },
  {
   "cell_type": "markdown",
   "metadata": {},
   "source": [
    "# 总结\n",
    "1. mAP的计算大流程步骤分为：\n",
    "    * A. 构建matched_table\n",
    "        - 列的定义是：confidence, max_matched_iou, matched_index, image_id\n",
    "        - 行的定义是：指定类别下的所有检测框的总数\n",
    "        - 基于confidence对matched_table进行排序\n",
    "    * B. 计算Precision和Recall\n",
    "        - 计算true_positive，也就是TP\n",
    "            - 第一个条件：max_matched_iou > threshold(指定的阈值)\n",
    "            - 第二个条件：matched_index是第一次出现（seen）\n",
    "            - 满足2个条件后，则认为是TP。然后将matched_index设置为见过（seen）\n",
    "            - 计算Precision和Recall的公式：\n",
    "                - $Precision = \\frac{TP}{TP + FP}$\n",
    "                - $Recall = \\frac{TP}{TP + FN}$\n",
    "                - 要点，是转换为groundtruths的数量，和detections的数量\n",
    "                    - 为什么可以转换？\n",
    "                    - 因为预测没有Negative，GroundTruth也没有Negative\n",
    "                    - 因此，可以只需要计算TP即可。FP、FN都不需要算\n",
    "                - np.cumsum函数，实现累积和，例如[1, 2, 0, 1]返回[1, 3, 3, 4]\n",
    "            - 平滑Precision曲线\n",
    "                - 先增加头尾，precision在前后各增加一个0，recall前面加0，后面recall[-1] + 1e-3\n",
    "                - Compute the precision envelope\n",
    "                - 计算曲线的包裹曲线，因为Precision会存在忽大忽小。让其填充凹下去的区域\n",
    "                - np.maximum.accumulate，实现平滑计算\n",
    "                    - 例如 x = [1, 1, 0, 2, 0, 0]，返回[1, 1, 1, 2, 2, 2]\n",
    "                - np.flip，翻转数组\n",
    "                    - 利用flip翻转，配合np.maximum.accumulate实现需求\n",
    "    * C. 计算曲线下面积，得到AP\n",
    "        - 第一种方法：11点插值法(VOC2007)\n",
    "        - 第二种方法：101点插值法(COCO)\n",
    "            - 提到一个新函数：np.interp(x, xp, fp, left, right, period=None)\n",
    "                - 实现线性插值操作，例如:\n",
    "                    - xp = 0, 10, 30\n",
    "                    - fp = 30, 28, 0\n",
    "                    - x = 5, 20\n",
    "                    - y = np.interp(x, xp, fp)\n",
    "                    - y 的值为： [29, 14]  通过线性插值得到的\n",
    "            - x = np.linspace(0, 1, 101)\n",
    "            - ap = np.mean(np.interp(x, mrec, mpre))\n",
    "        - 第三种方法：所有点求和逼近(VOC2012)\n",
    "            - 需要注意的地方：\n",
    "                - recall的值会存在一样的情况\n",
    "    * D. 计算mAP\n",
    "        - 所有类别的AP求平均\n",
    "        - mAP@.5：    IoU阈值为0.5时的所有类别AP的平均值\n",
    "        - mAP@.75：   IoU阈值为0.75时的所有类别AP的平均值\n",
    "        - mAP@.5:.95：IoU阈值为0.5到0.95，每一步取0.05，得到的AP取平均值即为类别AP。然后再对所有类别的AP取平均值\n",
    "2. 进行mAP计算时，框的保留方式\n",
    "    - 对于检测框保留时指定的confidence阈值，设置为非常小的数字，通常是0.001、0.01\n",
    "        - 目的是尽可能保留多的框，不同的模型之间合理阈值是不一样的，测试mAP需要屏蔽这个不同。实现统一标准\n",
    "    - 对于检测框保留后，需要进行nms。通常是类内的nms。类之间不做nms。通常取阈值为0.5。如果使用其他的，例如0.6、0.7，结果影响不是太大\n",
    "3. IoU的计算\n",
    "    - 对于M个框与N个框，交叉计算IoU，预期得到M x N个IoU结果\n",
    "    - 可以利用numpy或者pytorch的广播机制实现\n",
    "    - 具体实现时，A框指定为4 x M x 1。B框指定为4 x 1 x N。计算IoU时，即可当成1个框方式写，但是可以实现多个框的计算"
   ]
  },
  {
   "cell_type": "code",
   "execution_count": null,
   "metadata": {},
   "outputs": [],
   "source": []
  }
 ],
 "metadata": {
  "kernelspec": {
   "display_name": "torch1.5",
   "language": "python",
   "name": "torch1.5"
  },
  "language_info": {
   "codemirror_mode": {
    "name": "ipython",
    "version": 3
   },
   "file_extension": ".py",
   "mimetype": "text/x-python",
   "name": "python",
   "nbconvert_exporter": "python",
   "pygments_lexer": "ipython3",
   "version": "3.7.7"
  }
 },
 "nbformat": 4,
 "nbformat_minor": 4
}
