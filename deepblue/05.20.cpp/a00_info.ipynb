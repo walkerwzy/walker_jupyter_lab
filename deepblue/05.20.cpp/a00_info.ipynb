{
 "cells": [
  {
   "cell_type": "markdown",
   "metadata": {},
   "source": [
    "C++基础课程介绍以及要求\n",
    "- 本次课程主要讲解C++中常见的基础指令和语法（体会与Python语言之间的不同）\n",
    "- 在项目部署阶段使用CUDA或TensorRT时，C++代码的时候能够看懂40% - 50%以上的代码\n",
    "- 能够使用C++语言完成简单的代码编辑工作\n",
    "- 面试算法工程师的时候，会Linux C++是加分项。并且很多厂商也标注需要会Linux C++\n",
    "- 一个小的个人建议：写简历的是时候尽量不要写：精通C++(除非有很多年的C++编程经验，并且足够自信)"
   ]
  },
  {
   "cell_type": "raw",
   "metadata": {},
   "source": []
  },
  {
   "cell_type": "markdown",
   "metadata": {},
   "source": [
    "#### 2020年5月20日-21日教学内容\n",
    "- C++简介\n",
    "- C++的运行编译环境\n",
    "- C++的第一个程序\n",
    "- C++的标识符和关键字\n",
    "- C++的数据类型\n",
    "- C++的变量和常量\n",
    "- C++的运算符\n",
    "- C++的数组\n",
    "- C++的向量\n",
    "- C++的字符串\n",
    "- C++的程序控制结构和语句(循环和判断)\n",
    "- C++的指针和引用(初探)\n",
    "- C++向量的操作（容器）\n",
    "- C++列表的操作（容器）\n",
    "- 基于C++实现简易的学生信息管理系统(业余作业)"
   ]
  },
  {
   "cell_type": "raw",
   "metadata": {},
   "source": []
  },
  {
   "cell_type": "markdown",
   "metadata": {},
   "source": [
    "#### 2020年5月24日-5月25日教学内容\n",
    "- C++的函数\n",
    "- C++的函数参数\n",
    "- C++函数中的指针\n",
    "- C++的结构体\n",
    "- C++的类\n",
    "- C++的模板\n",
    "- MakeFile（检验一个人是否具备完成大型工程的能力的工具）\n",
    "- OpenCV在Linux的编译流程(了解)"
   ]
  },
  {
   "cell_type": "raw",
   "metadata": {},
   "source": []
  }
 ],
 "metadata": {
  "kernelspec": {
   "display_name": "torch1.5",
   "language": "python",
   "name": "torch1.5"
  },
  "language_info": {
   "codemirror_mode": {
    "name": "ipython",
    "version": 3
   },
   "file_extension": ".py",
   "mimetype": "text/x-python",
   "name": "python",
   "nbconvert_exporter": "python",
   "pygments_lexer": "ipython3",
   "version": "3.7.7"
  }
 },
 "nbformat": 4,
 "nbformat_minor": 4
}
