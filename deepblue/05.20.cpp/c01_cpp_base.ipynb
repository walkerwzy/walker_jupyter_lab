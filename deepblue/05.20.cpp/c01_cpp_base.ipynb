{
 "cells": [
  {
   "cell_type": "markdown",
   "metadata": {},
   "source": [
    "### C++ 简介\n",
    "\n",
    "- C++是一门面向对象的中级语言，是C语言的超集。\n",
    "\n",
    "- 对于高性能计算，CUDA、GPU操作，也常会使用基于C++的支持\n",
    "\n",
    "- 对于高性能要求场景，例如游戏服务器开发等，也会选择基于C++的技术实现支撑\n",
    "\n",
    "- C++是静态类型的语言，也就是在任何时候他的类型一定是确定且不可修改的，没有歧义的， 而Python这种是动态类型语言，类型可以随时修改\n",
    "\n",
    "- C++ 进一步扩充和完善了 C 语言，是一种面向对象的程序设计语言。(C++ 是 C 的一个超集,任何合法的 C 程序都是合法的 C++ 程序。)\n",
    "\n",
    "- C++ 可运行于多种平台上，如 Windows、MAC 操作系统以及 UNIX 的各种版本。\n",
    "\n",
    "- C++ 是一种静态类型的、编译式的、通用的、大小写敏感的、不规则的编程语言，支持过程化编程、面向对象编程和泛型编程。\n",
    "\n",
    "- C++ 完全支持面向对象的程序设计，包括面向对象开发的四大特性(封装、抽象、继承、多态)\n",
    "\n",
    "- C++ 由三个重要部分组成：核心语言(变量、数据类型)、C++标准库(函数、字符串)、STL(数据结构)"
   ]
  },
  {
   "cell_type": "markdown",
   "metadata": {},
   "source": [
    "---"
   ]
  },
  {
   "cell_type": "markdown",
   "metadata": {},
   "source": [
    "#### C++运行环境安装\n",
    "\n",
    "- ①打开Linux，验证是否安装 gcc 和 g++\n",
    "\n",
    "- ②安装gcc 和 g++（注意安装g++后系统会连带安装gcc）：sudo apt install g++"
   ]
  },
  {
   "cell_type": "markdown",
   "metadata": {},
   "source": [
    "---"
   ]
  },
  {
   "cell_type": "markdown",
   "metadata": {},
   "source": [
    "#### g++ 和 gcc （g++ 是将 gcc 默认语言设为 C++ 的一个特殊的版本）\n",
    "\n",
    "- gcc编译C++程序命令：gcc main.cpp -o main\n",
    "\n",
    "- g++编译C++程序命令：g++ main.cpp   注意：命令中没有指定可运行程序的文件名，编辑器采用a.out来命名\n",
    "\n",
    "- 执行可运行程序：./a.out\n",
    "\n",
    "- 使用 -o 来指定可执行程序：g++ main.cpp -o main\n",
    "\n",
    "- 执行可运行程序：./main\n",
    "\n",
    "- 如果是多个C++代码文件: g++ main1.cpp main2.cpp -o mains\n",
    "    \n",
    "- g++ 有些系统默认是使用 C++98，我们可以指定使用 C++11 来编译 main.cpp 文件: g++ -g -Wall -std=c++11 main.cpp\n",
    "\n",
    "![avatar](./img/cpp.png)\n",
    "\n",
    "- C++标准犹如Python的大版本更新一样，每个新标准都提出了新的语法和关键字以及新的特性和实现方法\n",
    "\n",
    "- C++的标准更新，是取决于编译器的支持，而不像Python是整个大版本更新且前后不兼容\n",
    "\n",
    "- 目前比较稳定成熟的，是C++11标准，各个编译器目前支持最新的标准是C++17"
   ]
  },
  {
   "cell_type": "markdown",
   "metadata": {},
   "source": [
    "---"
   ]
  },
  {
   "cell_type": "markdown",
   "metadata": {},
   "source": [
    "#### C++ 的第一个程序"
   ]
  },
  {
   "cell_type": "raw",
   "metadata": {},
   "source": [
    "#include <iostream>  // 头文件： in+out+stream 输入输出流 (单行注释)\n",
    "/* （多行注释）\n",
    "    旧的标准C++中，使用#include<iostream.h>   .h ---> head\n",
    "    新的标准C++中，使用#include<iostream>\n",
    "    \n",
    "    iostream.h包含(部分)：\n",
    "    - cin：标准输入流\n",
    "    - cout：标准输出流\n",
    "    - cerr：错误的标准输出流\n",
    "    - clog：用于记录的标准输出流\n",
    "*/\n",
    "using namespace std;  // 标准命名空间：类似于声明全局变量\n",
    "\n",
    "int main(void){  //主函数，函数返回类型是int（主函数必须返回int类型）\n",
    "    cout << \"Hello CPP\" << endl;\n",
    "    return 0;  // 不指定返回值，返回的是随机数；没有返回值，不写也不会报错\n",
    "}"
   ]
  },
  {
   "cell_type": "raw",
   "metadata": {},
   "source": [
    "#include <iostream>\n",
    "\n",
    "using namespace std;\n",
    "\n",
    "int main(void){\n",
    "    cout << \"Hello\\tCPP\";  // \\t tab\n",
    "    cout << \"Hello\\tCPP\\n\";  // \\n 回车\n",
    "    cout << \"Hello\\tCPP\";\n",
    "    return 0;\n",
    "}"
   ]
  },
  {
   "cell_type": "raw",
   "metadata": {},
   "source": [
    "#include <iostream>\n",
    "\n",
    "using namespace std;\n",
    "\n",
    "int main(void){\n",
    "    int age;\n",
    "    cin >> age;  # 输入\n",
    "    cout << age << endl;\n",
    "    return 0;\n",
    "}"
   ]
  },
  {
   "cell_type": "markdown",
   "metadata": {},
   "source": [
    "#### 在 C++ 中，分号是语句结束符。也就是说，每个语句必须以分号结束。它表明一个逻辑实体的结束"
   ]
  },
  {
   "cell_type": "raw",
   "metadata": {},
   "source": [
    "int a = 1;\n",
    "int b = 2;\n",
    "int c = a + b;"
   ]
  },
  {
   "cell_type": "markdown",
   "metadata": {},
   "source": [
    "等同于"
   ]
  },
  {
   "cell_type": "raw",
   "metadata": {},
   "source": [
    "int a = 1;int b = 2;int c = a + b;"
   ]
  },
  {
   "cell_type": "markdown",
   "metadata": {},
   "source": [
    "---"
   ]
  },
  {
   "cell_type": "markdown",
   "metadata": {},
   "source": [
    "### C++标识符\n",
    "- C++ 标识符是用来标识变量、函数、类、模块，或任何其他用户自定义项目的名称\n",
    "- 标识符以字母 A-Z 或 a-z 或下划线 _ 开始，后跟零个或多个字母、下划线和数字（0-9）\n",
    "- C++ 标识符内不允许出现标点字符，比如 @、& 和 %\n",
    "- C++ 是区分大小写的编程语言。因此，在 C++ 中，Hello 和 hello 是两个不同的标识符。"
   ]
  },
  {
   "cell_type": "markdown",
   "metadata": {},
   "source": [
    "---"
   ]
  },
  {
   "cell_type": "markdown",
   "metadata": {},
   "source": [
    "### C++ 关键字\n",
    "- C++ 中的关键字。这些关键字不能作为常量名、变量名或其他标识符名称。\n",
    "\n",
    "![avatar](./img/cpp_key.png)"
   ]
  },
  {
   "cell_type": "markdown",
   "metadata": {},
   "source": [
    "---"
   ]
  },
  {
   "cell_type": "markdown",
   "metadata": {},
   "source": [
    "### C++ 数据类型\n",
    "\n",
    "- 使用编程语言进行编程时，需要用到各种变量来存储各种信息。\n",
    "- 变量保留的是它所存储的值的内存位置。\n",
    "- 这意味着，当您创建一个变量时，就会在内存中保留一些空间。\n",
    "- 需要存储各种数据类型（比如字符型、宽字符型、整型、浮点型、双浮点型、布尔型等）的信息\n",
    "- 操作系统会根据变量的数据类型，来分配内存和决定在保留内存中存储什么\n",
    "\n",
    "#### 常见的几种数据类型\n",
    "![avatar](./img/data.png)\n",
    "\n",
    "![avatar](./img/data2.png)\n",
    "\n",
    "![avatar](./img/data4.png)"
   ]
  },
  {
   "cell_type": "markdown",
   "metadata": {},
   "source": [
    "#### 一些基本类型可以使用一个或多个类型修饰符进行修饰(常见的类型修饰符如下)\n",
    "- signed\n",
    "- unsigned\n",
    "- short\n",
    "- long"
   ]
  },
  {
   "cell_type": "markdown",
   "metadata": {},
   "source": [
    "#### 修饰符类型\n",
    "- 修饰符 signed、unsigned、long 和 short 可应用于整型\n",
    "- signed 和 unsigned 可应用于字符型\n",
    "- long 可应用于双精度型\n",
    "- signed 和 unsigned 可以作为long和short的前缀：unsigned long int"
   ]
  },
  {
   "cell_type": "raw",
   "metadata": {},
   "source": [
    "#include <iostream>\n",
    "using namespace std;\n",
    "\n",
    "/*\n",
    "void maxs(int a , int b){\n",
    "    cout << \"..\" << endl;\n",
    "}\n",
    "*/\n",
    "\n",
    "int main()\n",
    "{\n",
    "    short unsigned int j;\n",
    "    j = 50000;\n",
    "    cout << j << endl;\n",
    "    return 0;\n",
    "}"
   ]
  },
  {
   "cell_type": "markdown",
   "metadata": {},
   "source": [
    "#### typedef 声明"
   ]
  },
  {
   "cell_type": "raw",
   "metadata": {},
   "source": [
    "#include <iostream> \n",
    "using namespace std;\n",
    "\n",
    "int main(void){\n",
    "    int a = 1246582;\n",
    "    int b = 7813346;\n",
    "    int c = a + b;\n",
    "    cout << c << endl;\n",
    "    return 0;\n",
    "}"
   ]
  },
  {
   "cell_type": "raw",
   "metadata": {},
   "source": [
    "#include <iostream> \n",
    "using namespace std;\n",
    "typedef int kx;  // int ---> kx\n",
    "\n",
    "kx main(void){\n",
    "    kx a = 1246582;\n",
    "    kx b = 7813346;\n",
    "    kx c = a + b;\n",
    "    cout << c << endl;\n",
    "    return 0;\n",
    "}"
   ]
  },
  {
   "cell_type": "markdown",
   "metadata": {},
   "source": [
    "---"
   ]
  },
  {
   "cell_type": "markdown",
   "metadata": {},
   "source": [
    "### 变量"
   ]
  },
  {
   "cell_type": "markdown",
   "metadata": {},
   "source": [
    "变量声明"
   ]
  },
  {
   "cell_type": "raw",
   "metadata": {},
   "source": [
    "#include <iostream> \n",
    "using namespace std;\n",
    "\n",
    "int main(void){\n",
    "    // 声明变量\n",
    "    int a, b, c;\n",
    "    cout << \"a=\" << a << \"b=\" << b << \"c=\" << c << endl;\n",
    "    return 0;\n",
    "} // 输出结果：a=32766  b=0  c=0"
   ]
  },
  {
   "cell_type": "markdown",
   "metadata": {},
   "source": [
    "初始化变量"
   ]
  },
  {
   "cell_type": "raw",
   "metadata": {},
   "source": [
    "#include <iostream> \n",
    "using namespace std;\n",
    "\n",
    "int main(void){\n",
    "    // 声明变量\n",
    "    int a, b, c;\n",
    "    \n",
    "    // 初始化变量\n",
    "    a = 10;\n",
    "    b = 20;\n",
    "    c = a + b;\n",
    "    cout << \"a=\" << a << \"b=\" << b << \"c=\" << c << endl;\n",
    "    return 0;\n",
    "}  // 输出结果：a=10  b=20  c=30"
   ]
  },
  {
   "cell_type": "markdown",
   "metadata": {},
   "source": [
    "局部变量"
   ]
  },
  {
   "cell_type": "raw",
   "metadata": {},
   "source": [
    "#include <iostream> \n",
    "using namespace std;\n",
    "\n",
    "int main(void){\n",
    "    // 声明变量\n",
    "    int a, b, c;  // 局部变量声明\n",
    "    \n",
    "    // 初始化变量\n",
    "    a = 10;\n",
    "    b = 20;\n",
    "    c = a + b;\n",
    "    cout << \"a=\" << a << \"b=\" << b << \"c=\" << c << endl;\n",
    "    return 0;\n",
    "}  // 输出结果：a=10  b=20  c=30"
   ]
  },
  {
   "cell_type": "markdown",
   "metadata": {},
   "source": [
    "全局变量"
   ]
  },
  {
   "cell_type": "raw",
   "metadata": {},
   "source": [
    "#include <iostream> \n",
    "using namespace std;\n",
    "\n",
    "int c;  // 全局变量\n",
    "\n",
    "int main(void){\n",
    "    // 声明变量\n",
    "    int a, b;\n",
    "    \n",
    "    // 初始化变量\n",
    "    a = 10;\n",
    "    b = 20;\n",
    "    c = a + b;\n",
    "    cout << \"a=\" << a << \"b=\" << b << \"c=\" << c << endl;\n",
    "    return 0;\n",
    "}"
   ]
  },
  {
   "cell_type": "markdown",
   "metadata": {},
   "source": [
    "---"
   ]
  },
  {
   "cell_type": "markdown",
   "metadata": {},
   "source": [
    "#### 定义常量"
   ]
  },
  {
   "cell_type": "markdown",
   "metadata": {},
   "source": [
    "#define 定义常量"
   ]
  },
  {
   "cell_type": "raw",
   "metadata": {},
   "source": [
    "#include <iostream>\n",
    "using namespace std;\n",
    " \n",
    "#define PI 3.1415926\n",
    " \n",
    "int main()\n",
    "{\n",
    " \n",
    "   float area;\n",
    "   int r = 5;\n",
    "   area = PI * r * r;\n",
    "   cout << area << endl;\n",
    "   return 0;\n",
    "}"
   ]
  },
  {
   "cell_type": "markdown",
   "metadata": {},
   "source": [
    "Const关键字定义常量"
   ]
  },
  {
   "cell_type": "raw",
   "metadata": {},
   "source": [
    "#include <iostream>\n",
    "using namespace std;\n",
    "\n",
    " \n",
    "int main()\n",
    "{\n",
    "   float area;\n",
    "   const float PI = 3.1415926;\n",
    "   int r = 5;\n",
    "   area = PI * r * r;\n",
    "   cout << area << endl;\n",
    "   return 0;\n",
    "}"
   ]
  },
  {
   "cell_type": "raw",
   "metadata": {},
   "source": [
    "#include <iostream>\n",
    "using namespace std;\n",
    "\n",
    " \n",
    "int main()\n",
    "{\n",
    "   float area;\n",
    "   const float PI = 3.1415926;\n",
    "   int r = 5;\n",
    "   PI = 3.141234  # 更改常量值：error: assignment of read-only variable ‘PI’\n",
    "   area = PI * r * r;\n",
    "   cout << area << endl;\n",
    "   return 0;\n",
    "}"
   ]
  },
  {
   "cell_type": "markdown",
   "metadata": {},
   "source": [
    "---"
   ]
  },
  {
   "cell_type": "markdown",
   "metadata": {},
   "source": [
    "#### 运算符\n",
    "算术运算符\n",
    "\n",
    "![avatar](./img/calc1.png)\n",
    "\n",
    "关系运算符\n",
    "\n",
    "![avatar](./img/calc2.png)\n",
    "\n",
    "逻辑运算符\n",
    "\n",
    "![avatar](./img/calc3.png)\n",
    "\n",
    "位运算符\n",
    "\n",
    "![avatar](./img/calc4.png)\n",
    "![avatar](./img/calc5.png)\n",
    "\n",
    "赋值运算符\n",
    "\n",
    "![avatar](./img/calc6.png)"
   ]
  },
  {
   "cell_type": "markdown",
   "metadata": {},
   "source": [
    "++ 和 --"
   ]
  },
  {
   "cell_type": "raw",
   "metadata": {},
   "source": [
    "#include <iostream>\n",
    "using namespace std;\n",
    "\n",
    "int main()\n",
    "{\n",
    "    float a, b;\n",
    "    a = 20;\n",
    "    b = 20;\n",
    "    cout << a++ << endl;  // a++ 运行期间，a为原值（在内存中寄存器先执行表达式，之后再进一位）\n",
    "    cout << a << endl;  // 使用a的时候执行\n",
    "    cout << ++b << endl;  // ++b 运行期间 b值为b+1（在内存中，寄存器先进一位之后再执行表达式）\n",
    "    return 0;\n",
    "}"
   ]
  },
  {
   "cell_type": "raw",
   "metadata": {},
   "source": [
    "#include <iostream>\n",
    "using namespace std;\n",
    "\n",
    "int main()\n",
    "{\n",
    "    float a, b;\n",
    "    a = 20;\n",
    "    b = 20;\n",
    "    cout << a-- << endl;  // a-- 运行期间，a为原值（在内存中寄存器先执行表达式，之后再进一位）\n",
    "    cout << a << endl;  // 使用a的时候执行\n",
    "    cout << --b << endl;  // --b 运行期间 b值为b-1（在内存中，寄存器先进一位之后再执行表达式）\n",
    "    return 0;\n",
    "}"
   ]
  },
  {
   "cell_type": "markdown",
   "metadata": {},
   "source": [
    "数学运算"
   ]
  },
  {
   "cell_type": "raw",
   "metadata": {},
   "source": [
    "#include <iostream>\n",
    "#include <cmath>  // 引入数学头文件\n",
    "using namespace std;\n",
    " \n",
    "int main ()\n",
    "{\n",
    "   // 数字定义\n",
    "   int    i = -1000;\n",
    "   long   l = 100000;\n",
    "   float  f = 230.47;\n",
    "   double d = 200.374;\n",
    " \n",
    "   // 数学运算\n",
    "   cout << \"sin(d) :\" << sin(d) << endl;\n",
    "   cout << \"abs(i)  :\" << abs(i) << endl;\n",
    "   cout << \"floor(d) :\" << floor(d) << endl;\n",
    "   cout << \"sqrt(f) :\" << sqrt(f) << endl;\n",
    "   cout << \"pow( d, 2) :\" << pow(d, 2) << endl;\n",
    " \n",
    "   return 0;\n",
    "}"
   ]
  },
  {
   "cell_type": "markdown",
   "metadata": {},
   "source": [
    "算数优先级从（左到右，依次升高)\n",
    "\n",
    "![avatar](./img/calc7.png)"
   ]
  },
  {
   "cell_type": "markdown",
   "metadata": {},
   "source": [
    "---"
   ]
  },
  {
   "cell_type": "markdown",
   "metadata": {},
   "source": [
    "数字"
   ]
  },
  {
   "cell_type": "raw",
   "metadata": {},
   "source": [
    "#include <iostream>\n",
    "using namespace std;\n",
    " \n",
    "int main ()\n",
    "{\n",
    "   // 数字定义\n",
    "   int    i;\n",
    "   long   l;\n",
    "   float  f;\n",
    "   double d;\n",
    "   \n",
    "   // 数字赋值   \n",
    "   i = 1000;    \n",
    "   l = 1000000; \n",
    "   f = 230.47;  \n",
    "   d = 30949.374;\n",
    "   \n",
    "   // 数字输出\n",
    "   cout << \"int    i :\" << i << endl;\n",
    "   cout << \"long   l :\" << l << endl;\n",
    "   cout << \"float  f :\" << f << endl;\n",
    "   cout << \"double d :\" << d << endl;\n",
    " \n",
    "   return 0;\n",
    "}"
   ]
  },
  {
   "cell_type": "markdown",
   "metadata": {},
   "source": [
    "bool值"
   ]
  },
  {
   "cell_type": "raw",
   "metadata": {},
   "source": [
    "#include <iostream>\n",
    " \n",
    "using namespace std;\n",
    " \n",
    "int main ()\n",
    "{\n",
    "    bool b = false;\n",
    "    cout << b << endl;\n",
    "    cout << boolalpha << b << endl;\n",
    "}"
   ]
  },
  {
   "cell_type": "markdown",
   "metadata": {},
   "source": [
    "字符值"
   ]
  },
  {
   "cell_type": "raw",
   "metadata": {},
   "source": [
    "#include <iostream>\n",
    " \n",
    "using namespace std;\n",
    " \n",
    "int main ()\n",
    "{\n",
    "    char b = 'b';\n",
    "    cout << b << endl;\n",
    "}"
   ]
  },
  {
   "cell_type": "markdown",
   "metadata": {},
   "source": [
    "---"
   ]
  },
  {
   "cell_type": "markdown",
   "metadata": {},
   "source": [
    "### 数组\n",
    "- C++ 支持数组数据结构，它可以存储一个固定大小的相同类型元素的顺序集合。\n",
    "- 数组是用来存储一系列数据，但它往往被认为是一系列相同类型的变量。\n",
    "- 数组的声明并不是声明一个个单独的变量，比如 number0、number1、...、number99，而是声明一个数组变量，比如 numbers，然后使用 numbers[0]、numbers[1]、...、numbers[99] 来代表一个个单独的变量。\n",
    "- 数组中的特定元素可以通过索引访问。\n",
    "- 所有的数组都是由连续的内存位置组成。最低的地址对应第一个元素，最高的地址对应最后一个元素。"
   ]
  },
  {
   "cell_type": "markdown",
   "metadata": {},
   "source": [
    "声明数组\n",
    "\n",
    "在 C++ 中要声明一个数组，需要指定元素的类型和元素的数量，如下所示："
   ]
  },
  {
   "cell_type": "raw",
   "metadata": {},
   "source": [
    "type arrayName [ arraySize ];\n",
    "- type: 数组的类型\n",
    "- arrayName: 数组的名字\n",
    "- arraySize: 数组的长度（大于零的整数常量）"
   ]
  },
  {
   "cell_type": "raw",
   "metadata": {},
   "source": [
    "double balance[5]; // 声明一个数组，这个数组可以容纳5个类型为double的数字"
   ]
  },
  {
   "cell_type": "markdown",
   "metadata": {},
   "source": [
    "初始化数组"
   ]
  },
  {
   "cell_type": "raw",
   "metadata": {},
   "source": [
    "double balance[5] = {11.0, 12.0, 12.3, 14.5, 16.7}；  // 第一种方式 ： 大括号 {} 之间的值的数目不能大于我们在数组声明时在方括号 [] 中指定的元素数目。"
   ]
  },
  {
   "cell_type": "raw",
   "metadata": {},
   "source": [
    "double balance[] = {11.0, 12.0, 12.3, 14.5, 16.7};  // 第二种方式：数组的大小则为初始化时元素的个数"
   ]
  },
  {
   "cell_type": "raw",
   "metadata": {},
   "source": [
    "balance[4] = 3.141  // 数组中第五个元素（索引为4）的值赋为 50.0"
   ]
  },
  {
   "cell_type": "markdown",
   "metadata": {},
   "source": [
    "示例"
   ]
  },
  {
   "cell_type": "raw",
   "metadata": {},
   "source": [
    "#include <iostream>\n",
    " \n",
    "using namespace std;\n",
    " \n",
    "int main ()\n",
    "{\n",
    "    double balance [4] = {1, 2, 3, 4};\n",
    "    cout << balance << endl;  // 0x7fffcc6e1960\n",
    "}"
   ]
  },
  {
   "cell_type": "markdown",
   "metadata": {},
   "source": [
    "---"
   ]
  },
  {
   "cell_type": "markdown",
   "metadata": {},
   "source": [
    "### 向量(Vector)(初探)"
   ]
  },
  {
   "cell_type": "markdown",
   "metadata": {},
   "source": [
    "- 向量（Vector）是一个封装了动态大小数组的顺序容器（Sequence Container）。\n",
    "- 跟任意其它类型容器一样，它能够存放各种类型的对象。\n",
    "- 简单的认为，向量是一个能够存放任意类型的动态数组。"
   ]
  },
  {
   "cell_type": "markdown",
   "metadata": {},
   "source": [
    "声明向量"
   ]
  },
  {
   "cell_type": "raw",
   "metadata": {},
   "source": [
    "vector<double> a // 声明一个向量a"
   ]
  },
  {
   "cell_type": "markdown",
   "metadata": {},
   "source": [
    "初始化向量"
   ]
  },
  {
   "cell_type": "raw",
   "metadata": {},
   "source": [
    "vector<int> a(10, 1)  // 初始化向量，定义10个整型元素的向量，且给出每个元素的初值为1(方法1)"
   ]
  },
  {
   "cell_type": "raw",
   "metadata": {},
   "source": [
    "int b[7] = {1, 2, 3, 4, 5, 6, 7}\n",
    "vector<int> a(b, b+7)  // 从已初始化的数组中定义初值\n",
    "a = {1, 2, 3, 4, 5, 6, 7}\n",
    "\n",
    "- 4、5、6\n",
    "- 1、2、3"
   ]
  },
  {
   "cell_type": "markdown",
   "metadata": {},
   "source": [
    "示例"
   ]
  },
  {
   "cell_type": "raw",
   "metadata": {},
   "source": [
    "#include <iostream>\n",
    "#include <vector>\n",
    "using namespace std ;\n",
    "\n",
    "int main()\n",
    "{\n",
    "    vector<int> a(10, 1); \n",
    "    return 0 ;\n",
    "}"
   ]
  },
  {
   "cell_type": "markdown",
   "metadata": {},
   "source": [
    "---"
   ]
  },
  {
   "cell_type": "markdown",
   "metadata": {},
   "source": [
    "### 字符串\n",
    "\n",
    "C++ 有两种类型的字符串\n",
    "- C风格的字符串\n",
    "- C++标准库中的string类型"
   ]
  },
  {
   "cell_type": "markdown",
   "metadata": {},
   "source": [
    "C风格的字符串：\n",
    "\n",
    "- C 风格的字符串起源于 C 语言，并在 C++ 中继续得到支持。\n",
    "- 字符串实际上是使用'\\0'(空字符)终止的一维字符数组。\n",
    "- 由于在数组的末尾存储了空字符，所以字符数组的大小比原字符串的长度多一个。"
   ]
  },
  {
   "cell_type": "raw",
   "metadata": {},
   "source": [
    "char name[9] = {\"z\", \"h\", \"a\", \"n\", \"g\", \"s\", \"a\", \"n\", \"\\0\"}  // 写法1\n",
    "\n",
    "char name[] = \"zhangsan\"  // 写法2"
   ]
  },
  {
   "cell_type": "raw",
   "metadata": {},
   "source": [
    "#include <iostream>\n",
    " \n",
    "using namespace std;\n",
    " \n",
    "int main ()\n",
    "{\n",
    "    char name1[9] = {'z', 'h', 'a', 'n', 'g', 's', 'a', 'n', '\\0'};  // 写法1\n",
    "    char name2[] = \"wangwu\";  // 写法2\n",
    "    cout << name1 << endl;\n",
    "    cout << name2 << endl;\n",
    "}"
   ]
  },
  {
   "cell_type": "raw",
   "metadata": {},
   "source": [
    "#include <iostream>\n",
    "#include <cstring>\n",
    " \n",
    "using namespace std;\n",
    " \n",
    "int main ()\n",
    "{\n",
    "   char str1[4] = \"123\";\n",
    "   char str2[4] = \"456\";\n",
    "   char str3[4];\n",
    "   int  len ;\n",
    " \n",
    "   // 复制 str1 到 str3\n",
    "   strcpy( str3, str1);\n",
    "   cout << \"strcpy( str3, str1) : \" << str3 << endl;\n",
    " \n",
    "   // 连接 str1 和 str2\n",
    "   strcat( str1, str2);\n",
    "   cout << \"strcat( str1, str2): \" << str1 << endl;\n",
    " \n",
    "   // 连接后，str1 的总长度\n",
    "   len = strlen(str1);\n",
    "   cout << \"strlen(str1) : \" << len << endl;\n",
    " \n",
    "   return 0;\n",
    "}"
   ]
  },
  {
   "cell_type": "markdown",
   "metadata": {},
   "source": [
    "C++标准库的string类型"
   ]
  },
  {
   "cell_type": "raw",
   "metadata": {},
   "source": [
    "#include <iostream>\n",
    "#include <string>\n",
    " \n",
    "using namespace std;\n",
    " \n",
    "int main ()\n",
    "{\n",
    "   string str1 = \"runoob\";\n",
    "   string str2 = \"google\";\n",
    "   string str3;\n",
    "   int  len ;\n",
    " \n",
    "   // 复制 str1 到 str3\n",
    "   str3 = str1;\n",
    "   cout << \"str3 : \" << str3 << endl;\n",
    " \n",
    "   // 连接 str1 和 str2\n",
    "   str3 = str1 + str2;\n",
    "   cout << \"str1 + str2 : \" << str3 << endl;\n",
    " \n",
    "   // 连接后，str3 的总长度\n",
    "   len = str3.size();\n",
    "   cout << \"str3.size() :  \" << len << endl;\n",
    " \n",
    "   return 0;\n",
    "}"
   ]
  },
  {
   "cell_type": "markdown",
   "metadata": {},
   "source": [
    "---"
   ]
  },
  {
   "cell_type": "markdown",
   "metadata": {},
   "source": [
    "#### 程序控制结构和语句\n",
    "\n",
    "循环语句"
   ]
  },
  {
   "cell_type": "markdown",
   "metadata": {},
   "source": [
    "for"
   ]
  },
  {
   "cell_type": "raw",
   "metadata": {},
   "source": [
    "#include <iostream>\n",
    "using namespace std;\n",
    " \n",
    "int main()\n",
    "{\n",
    "    // int i;\n",
    "    for(int i = 0; i<10; i++){\n",
    "        cout << i << endl;\n",
    "    }\n",
    "    return 0;\n",
    "}"
   ]
  },
  {
   "cell_type": "raw",
   "metadata": {},
   "source": [
    "#include <iostream>\n",
    "using namespace std;\n",
    " \n",
    "int main()\n",
    "{\n",
    "    for(;;){  // 无限循环\n",
    "        cout << \"hello cpp\" << endl;\n",
    "    }\n",
    "    return 0;\n",
    "}"
   ]
  },
  {
   "cell_type": "markdown",
   "metadata": {},
   "source": [
    "while"
   ]
  },
  {
   "cell_type": "raw",
   "metadata": {},
   "source": [
    "#include <iostream>\n",
    "using namespace std;\n",
    " \n",
    "int main()\n",
    "{\n",
    "    int i = 0;\n",
    "    while (i < 10){\n",
    "        cout << i << endl;\n",
    "        i++;\n",
    "    }\n",
    "    return 0;\n",
    "}"
   ]
  },
  {
   "cell_type": "markdown",
   "metadata": {},
   "source": [
    "do...while"
   ]
  },
  {
   "cell_type": "raw",
   "metadata": {},
   "source": [
    "#include <iostream>\n",
    "using namespace std;\n",
    " \n",
    "int main()\n",
    "{\n",
    "    int i = 0;\n",
    "    do{\n",
    "        cout << i << endl;\n",
    "        i++;\n",
    "    }while(i < 10);\n",
    "    return 0;\n",
    "}"
   ]
  },
  {
   "cell_type": "markdown",
   "metadata": {},
   "source": [
    "for和while实现循环嵌套"
   ]
  },
  {
   "cell_type": "markdown",
   "metadata": {},
   "source": [
    "![avatar](./img/99.png)"
   ]
  },
  {
   "cell_type": "raw",
   "metadata": {},
   "source": [
    "#include <iostream>\n",
    "using namespace std;\n",
    " \n",
    "int main()\n",
    "{\n",
    "    int i = 1;\n",
    "    while(i < 10){\n",
    "        for(int j=1; j<=i; j++){\n",
    "            cout << j << \" * \" << i <<  \" = \" << i*j << \"\\t\";\n",
    "        }\n",
    "        i++;\n",
    "        cout << \"\\n\";\n",
    "    }\n",
    "}"
   ]
  },
  {
   "cell_type": "markdown",
   "metadata": {},
   "source": [
    "访问数组元素"
   ]
  },
  {
   "cell_type": "raw",
   "metadata": {},
   "source": [
    "#include <iostream>\n",
    "using namespace std;\n",
    " \n",
    "int main ()\n",
    "{\n",
    "   int n[10]; // n 是一个包含 10 个整数的数组\n",
    " \n",
    "   // 初始化数组元素          \n",
    "   for (int i = 0; i < 10; i++)\n",
    "   {\n",
    "      n[i] = i + 100; // 设置元素 i 为 i + 100\n",
    "   }\n",
    " \n",
    "   // 输出数组中每个元素的值                     \n",
    "   for ( int j = 0; j < 10; j++ )\n",
    "   {\n",
    "      cout << j << \" : \" << n[j] << endl;\n",
    "   }\n",
    " \n",
    "   return 0;\n",
    "}"
   ]
  },
  {
   "cell_type": "markdown",
   "metadata": {},
   "source": [
    "访问向量元素"
   ]
  },
  {
   "cell_type": "raw",
   "metadata": {},
   "source": [
    "#include<iostream>\n",
    "#include<vector>\n",
    "\n",
    "using namespace std ;\n",
    "\n",
    "int main()\n",
    "{\n",
    "    vector<int> a(10, 0) ;      //大小为10初值为0的向量a\n",
    "\n",
    "    //对其中部分元素进行输入\n",
    "    cin >>a[2] ;\n",
    "    cin >>a[5] ;\n",
    "    cin >>a[6] ;\n",
    "\n",
    "    //全部输出\n",
    "    int i ;\n",
    "    for(i=0; i<a.size(); i++)\n",
    "        cout<<a[i]<<\" \" ;\n",
    "    cout << \"\\n\";\n",
    "\n",
    "    return 0 ;\n",
    "}"
   ]
  },
  {
   "cell_type": "markdown",
   "metadata": {},
   "source": [
    "---"
   ]
  },
  {
   "cell_type": "markdown",
   "metadata": {},
   "source": [
    "### 条件语句"
   ]
  },
  {
   "cell_type": "markdown",
   "metadata": {},
   "source": [
    "if...else"
   ]
  },
  {
   "cell_type": "raw",
   "metadata": {},
   "source": [
    "#include <iostream>\n",
    "using namespace std;\n",
    " \n",
    "int main()\n",
    "{\n",
    "    int age = 25;\n",
    "    if (age > 18){\n",
    "        cout << \"success\" << endl;\n",
    "    }else{\n",
    "        cout << \"error\" << endl;\n",
    "    }\n",
    "}"
   ]
  },
  {
   "cell_type": "markdown",
   "metadata": {},
   "source": [
    "switch"
   ]
  },
  {
   "cell_type": "raw",
   "metadata": {},
   "source": [
    "switch(expression){\n",
    "    case constant-expression  :\n",
    "       statement(s);\n",
    "       break; // 可选的\n",
    "    case constant-expression  :\n",
    "       statement(s);\n",
    "       break; // 可选的\n",
    "  \n",
    "    // 您可以有任意数量的 case 语句\n",
    "    default : // 可选的\n",
    "       statement(s);\n",
    "}"
   ]
  },
  {
   "cell_type": "markdown",
   "metadata": {},
   "source": [
    "switch 语句必须遵循下面的规则：\n",
    "- switch 语句中的 expression 必须是一个整型或枚举类型。\n",
    "- 在一个 switch 中可以有任意数量的 case 语句。每个 case 后跟一个要比较的值和一个冒号。\n",
    "- case 的 constant-expression 必须与 switch 中的变量具有相同的数据类型，且必须是一个常量或字面量如\"A\", 1等。\n",
    "- 当被测试的变量等于 case 中的常量时，case 后跟的语句将被执行，直到遇到 break 语句为止。\n",
    "- 当遇到 break 语句时，switch 终止，控制流将跳转到 switch 语句后的下一行。\n",
    "- 不是每一个 case 都需要包含 break。如果 case 语句不包含 break，控制流将会 继续 后续的 case，直到遇到 break 为止。\n",
    "- 一个 switch 语句可以有一个可选的 default case，出现在 switch 的结尾。\n",
    "- default case 可用于在上面所有 case 都不为真时执行一个任务。\n",
    "- default case 中的 break 语句不是必需的。"
   ]
  },
  {
   "cell_type": "raw",
   "metadata": {},
   "source": [
    "#include <iostream>\n",
    "using namespace std;\n",
    " \n",
    "int main ()\n",
    "{\n",
    "   // 局部变量声明\n",
    "   char grade = 'D';\n",
    " \n",
    "   switch(grade)\n",
    "   {\n",
    "   case 'A' :\n",
    "      cout << \"很棒！\" << endl; \n",
    "      break;\n",
    "   case 'B' :\n",
    "   case 'C' :\n",
    "      cout << \"做得好\" << endl;\n",
    "      break;\n",
    "   case 'D' :\n",
    "      cout << \"您通过了\" << endl;\n",
    "      break;\n",
    "   case 'F' :\n",
    "      cout << \"最好再试一下\" << endl;\n",
    "      break;\n",
    "   default :\n",
    "      cout << \"无效的成绩\" << endl;\n",
    "   }\n",
    "   cout << \"您的成绩是 \" << grade << endl;\n",
    " \n",
    "   return 0;\n",
    "}"
   ]
  },
  {
   "cell_type": "markdown",
   "metadata": {},
   "source": [
    "---"
   ]
  },
  {
   "cell_type": "markdown",
   "metadata": {},
   "source": [
    "### 终止语句"
   ]
  },
  {
   "cell_type": "markdown",
   "metadata": {},
   "source": [
    "break"
   ]
  },
  {
   "cell_type": "raw",
   "metadata": {},
   "source": [
    "#include <iostream>\n",
    "using namespace std;\n",
    " \n",
    "int main ()\n",
    "{\n",
    "   // 局部变量声明\n",
    "   int a = 10;\n",
    "\n",
    "   // do 循环执行\n",
    "   do\n",
    "   {\n",
    "       cout << \"a 的值：\" << a << endl;\n",
    "       a = a + 1;\n",
    "       if( a > 15)\n",
    "       {\n",
    "          // 终止循环\n",
    "          break;\n",
    "       }\n",
    "   }while( a < 20 );\n",
    " \n",
    "   return 0;\n",
    "}"
   ]
  },
  {
   "cell_type": "markdown",
   "metadata": {},
   "source": [
    "continue"
   ]
  },
  {
   "cell_type": "raw",
   "metadata": {},
   "source": [
    "#include <iostream>\n",
    "using namespace std;\n",
    " \n",
    "int main ()\n",
    "{\n",
    "   // 局部变量声明\n",
    "   int a = 10;\n",
    "\n",
    "   // do 循环执行\n",
    "   do\n",
    "   {\n",
    "       if( a == 15)\n",
    "       {\n",
    "          // 跳过迭代\n",
    "          a = a + 1;\n",
    "          continue;\n",
    "       }\n",
    "       cout << \"a 的值：\" << a << endl;\n",
    "       a = a + 1;\n",
    "   }while( a < 20 );\n",
    " \n",
    "   return 0;\n",
    "}"
   ]
  },
  {
   "cell_type": "markdown",
   "metadata": {},
   "source": [
    "goto"
   ]
  },
  {
   "cell_type": "raw",
   "metadata": {},
   "source": [
    "goto label;\n",
    "..\n",
    ".\n",
    "label: statement;\n",
    "\n",
    "label 是识别被标记语句的标识符，可以是任何除 C++ 关键字以外的纯文本。标记语句可以是任何语句，放置在标识符和冒号（:）后边。"
   ]
  },
  {
   "cell_type": "markdown",
   "metadata": {},
   "source": [
    "![avatar](./img/label.png)"
   ]
  },
  {
   "cell_type": "raw",
   "metadata": {},
   "source": [
    "#include <iostream>\n",
    "using namespace std;\n",
    " \n",
    "int main ()\n",
    "{\n",
    "    int a = 10;\n",
    "    cout << \"A\" << endl;\n",
    "    cout << \"B\" << endl;\n",
    "    goto KX;\n",
    "    cout << \"C\" << endl;\n",
    "    KX : cout << \"D\" << endl;\n",
    "    cout << \"E\" << endl;\n",
    "    return 0;\n",
    "}"
   ]
  },
  {
   "cell_type": "raw",
   "metadata": {},
   "source": [
    "#include <iostream>\n",
    "using namespace std;\n",
    " \n",
    "int main ()\n",
    "{\n",
    "    cout << \"A\" << endl;\n",
    "    KX : cout << \"B\" << endl;\n",
    "    cout << \"C\" << endl;\n",
    "    cout << \"D\" << endl;\n",
    "    goto KX;\n",
    "    cout << \"E\" << endl;\n",
    "    return 0;\n",
    "}"
   ]
  },
  {
   "cell_type": "raw",
   "metadata": {},
   "source": [
    "#include <iostream>\n",
    "using namespace std;\n",
    " \n",
    "int main ()\n",
    "{\n",
    "    int i = 10;\n",
    "    while (i <= 10){\n",
    "        cout << i << endl;\n",
    "        i--;\n",
    "        if(i == 5){\n",
    "            goto KX;\n",
    "        }\n",
    "\n",
    "    }\n",
    "    KX: cout << \"end\" << endl;\n",
    "}"
   ]
  },
  {
   "cell_type": "markdown",
   "metadata": {},
   "source": [
    "----"
   ]
  },
  {
   "cell_type": "markdown",
   "metadata": {},
   "source": [
    "### C++ 引用（初探）\n",
    "- 引用变量是一个别名，它是某个已存在变量的另一个名字。\n",
    "- 引用初始化为某个变量，就可以使用该引用名称或变量名称来指向变量。"
   ]
  },
  {
   "cell_type": "raw",
   "metadata": {},
   "source": [
    "#include <iostream>\n",
    " \n",
    "using namespace std;\n",
    " \n",
    "int main ()\n",
    "{\n",
    "   // 声明简单的变量\n",
    "   int    i;\n",
    "   double d;\n",
    " \n",
    "   // 声明引用变量\n",
    "   int    &r = i;\n",
    "   double &s = d;\n",
    "   \n",
    "   i = 5;\n",
    "   cout << \"Value of i : \" << i << endl;\n",
    "   cout << \"Value of i reference : \" << r  << endl;\n",
    "   cout << \"addr of i: \" << &i  << endl;\n",
    "   cout << \"addr of i reference : \" << &r  << endl;\n",
    " \n",
    "   d = 11.7;\n",
    "   cout << \"Value of d : \" << d << endl;\n",
    "   cout << \"Value of d reference : \" << s  << endl;\n",
    "   cout << \"addr of d: \" << &d  << endl;\n",
    "   cout << \"addr of d reference : \" << &s  << endl;   \n",
    "   return 0;\n",
    "}"
   ]
  },
  {
   "cell_type": "markdown",
   "metadata": {},
   "source": [
    "---"
   ]
  },
  {
   "cell_type": "markdown",
   "metadata": {},
   "source": [
    "### C++ 指针（初探）\n",
    "\n",
    "通过指针，可以简化一些 C++ 编程任务的执行，还有一些任务，如动态内存分配，没有指针是无法执行的。\n",
    "\n",
    "了解，什么是动态内存分配：\n",
    "- 所谓动态内存分配(Dynamic Memory Allocation)就是指在程序执行的过程中动态地分配或者回收存储空间的分配内存的方法。\n",
    "- 动态内存分配不象数组等静态内存分配方法那样需要预先分配存储空间，而是由系统根据程序的需要即时分配，且分配的大小就是程序要求的大小。"
   ]
  },
  {
   "cell_type": "markdown",
   "metadata": {},
   "source": [
    "查看元素地址"
   ]
  },
  {
   "cell_type": "raw",
   "metadata": {},
   "source": [
    "#include <iostream>\n",
    " \n",
    "using namespace std;\n",
    " \n",
    "int main ()\n",
    "{\n",
    "   int  var1;\n",
    "   char var2[10];\n",
    " \n",
    "   cout << \"var1 变量的地址： \";\n",
    "   cout << &var1 << endl;\n",
    " \n",
    "   cout << \"var2 变量的地址： \";\n",
    "   cout << &var2 << endl;\n",
    " \n",
    "   return 0;\n",
    "}"
   ]
  },
  {
   "cell_type": "markdown",
   "metadata": {},
   "source": [
    "什么是指针(存储地址)： 指针是一个变量，其值为另一个变量的地址， 声明形式如下："
   ]
  },
  {
   "cell_type": "raw",
   "metadata": {},
   "source": [
    "type *var-name;\n",
    "- type 是指针的基类型\n",
    "- var-name 是指针的变量名\n",
    "- 星号用来指定一个变量是指针"
   ]
  },
  {
   "cell_type": "markdown",
   "metadata": {},
   "source": [
    "指针的声明\n",
    "- 所有指针的值的实际数据类型，不管是整型、浮点型、字符型，还是其他的数据类型，都是一样的，都是一个代表内存地址的长的十六进制数。\n",
    "- 不同数据类型的指针之间唯一的不同是，指针所指向的变量或常量的数据类型不同。"
   ]
  },
  {
   "cell_type": "raw",
   "metadata": {},
   "source": [
    "int *ip  // 整型指针\n",
    "double *ip  // 双精度浮点型指针\n",
    "float *dp  // 单精度浮点型指针\n",
    "char *cp  // 字符型的指针"
   ]
  },
  {
   "cell_type": "markdown",
   "metadata": {},
   "source": [
    "指针的使用"
   ]
  },
  {
   "cell_type": "raw",
   "metadata": {},
   "source": [
    "#include <iostream>\n",
    " \n",
    "using namespace std;\n",
    " \n",
    "int main ()\n",
    "{\n",
    "   int  var = 20;   // 实际变量的声明\n",
    "   int  *ip;        // 指针变量的声明\n",
    " \n",
    "   ip = &var;       // 在指针变量中存储 var 的地址\n",
    " \n",
    "   cout << \"&var = \" << &var << endl;\n",
    "   \n",
    "   cout << \"var = \" << var << endl;\n",
    "   \n",
    "   cout << \"ip = \" << ip << endl;\n",
    "   \n",
    "   cout << \"*ip = \" << *ip << endl;\n",
    " \n",
    "   return 0;\n",
    "}"
   ]
  },
  {
   "cell_type": "markdown",
   "metadata": {},
   "source": [
    "---"
   ]
  }
 ],
 "metadata": {
  "kernelspec": {
   "display_name": "Python 3",
   "language": "python",
   "name": "python3"
  },
  "language_info": {
   "codemirror_mode": {
    "name": "ipython",
    "version": 3
   },
   "file_extension": ".py",
   "mimetype": "text/x-python",
   "name": "python",
   "nbconvert_exporter": "python",
   "pygments_lexer": "ipython3",
   "version": "3.8.5"
  }
 },
 "nbformat": 4,
 "nbformat_minor": 4
}
