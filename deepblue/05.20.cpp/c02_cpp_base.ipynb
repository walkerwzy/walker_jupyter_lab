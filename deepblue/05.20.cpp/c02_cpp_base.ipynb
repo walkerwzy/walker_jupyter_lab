{
 "cells": [
  {
   "cell_type": "markdown",
   "metadata": {},
   "source": [
    "### C++ Vector的用法\n",
    "\n",
    "- Vector 是向量类型，它可以容纳许多类型的数据，所以称之为容器。\n",
    "- Vector 是C++ STL 的一个重要的成员，使用它的时候，需要导入头文件：$#include<vector>$;\n",
    "- 向量（Vector）是一个封装了动态大小数组的顺序容器（Sequence Container）。\n",
    "- 跟任意其它类型容器一样，它能够存放各种类型的对象。\n",
    "- 简单的认为，向量是一个能够存放任意类型的动态数组。"
   ]
  },
  {
   "cell_type": "markdown",
   "metadata": {},
   "source": [
    "---"
   ]
  },
  {
   "cell_type": "markdown",
   "metadata": {},
   "source": [
    "### vector的五种初始化方法"
   ]
  },
  {
   "cell_type": "raw",
   "metadata": {},
   "source": [
    "1. vector<int> a(10); // 定义了10个整型元素，没有初值，初值为随机数\n",
    "\n",
    "2. vector<int> a(10, 1); // 定义了10个整型元素，每个元素的初值为1\n",
    "\n",
    "3. vector<int> a(b);  // 用b向量创建a向量， 整体复制性赋值\n",
    "\n",
    "4. vector<int> a(b.begin(), b.begin()+3)  // 定义了a值为b中第0个到第2个元素组成的\n",
    "\n",
    "5. int b[7] = {1, 2, 3, 4, 5, 6, 7}\n",
    "   vector<int> a(b, b+7) // 从数组中获取初值"
   ]
  },
  {
   "cell_type": "markdown",
   "metadata": {},
   "source": [
    "代码实例"
   ]
  },
  {
   "cell_type": "raw",
   "metadata": {},
   "source": [
    "#include <iostream>\n",
    "using namespace std;\n",
    "#include <vector>\n",
    "\n",
    "int main(){\n",
    "    vector<int> a(10);\n",
    "    vector<int> b(10, 1);\n",
    "    vector<int> c(b);\n",
    "    vector<int> d(b.begin(), b.begin()+3);\n",
    "    int e[7] = {1, 2, 3, 4, 5, 6, 7};\n",
    "    vector<int> f(e, e+7);\n",
    "    \n",
    "    \n",
    "    for(int i=0; i<a.size(); i++){\n",
    "        cout << a[i];\n",
    "    }\n",
    "    cout << \"\\n\";\n",
    "    for(int j=0; j<b.size(); j++){\n",
    "        cout << b[j];\n",
    "    }\n",
    "    cout << \"\\n\";\n",
    "    for(int j=0; j<c.size(); j++){\n",
    "        cout << c[j];\n",
    "    }\n",
    "    cout << \"\\n\";\n",
    "    for(int j=0; j<d.size(); j++){\n",
    "        cout << d[j];\n",
    "    }\n",
    "    cout << \"\\n\";\n",
    "    for(int j=0; j<f.size(); j++){\n",
    "        cout << f[j];\n",
    "    }\n",
    "    cout << \"\\n\";    \n",
    "}"
   ]
  },
  {
   "cell_type": "markdown",
   "metadata": {},
   "source": [
    "- a.assign(b.begin(), b.begin()+3)  // b为向量，将b的0-2个元素构成的向量赋值给3\n",
    "- a.assign(4,2); //是a只含4个元素，且每个元素为2"
   ]
  },
  {
   "cell_type": "raw",
   "metadata": {},
   "source": [
    "#include <iostream>\n",
    "using namespace std;\n",
    "#include <vector>\n",
    "\n",
    "int main(){\n",
    "    vector<int> a(10);\n",
    "    vector<int> b(10);\n",
    "    int e[7] = {1, 2, 3, 4, 5, 6, 7};\n",
    "    vector<int> f(e, e+7);\n",
    "    \n",
    "    a.assign(f.begin(), f.begin()+3);\n",
    "    b.assign(4, 2);\n",
    "    \n",
    "    for(int i=0; i<a.size(); i++){\n",
    "        cout << a[i];\n",
    "    }\n",
    "    cout << \"\\n\";\n",
    "    \n",
    "    for(int i=0; i<b.size(); i++){\n",
    "        cout << b[i];\n",
    "    }\n",
    "    cout << \"\\n\";\n",
    "}"
   ]
  },
  {
   "cell_type": "markdown",
   "metadata": {},
   "source": [
    "- a.back(); //返回a的最后一个元素\n",
    "- a.front(); //返回a的第一个元素\n",
    "- a[i]; //返回a的第i个元素"
   ]
  },
  {
   "cell_type": "raw",
   "metadata": {},
   "source": [
    "#include <iostream>\n",
    "using namespace std;\n",
    "#include <vector>\n",
    "\n",
    "int main(){\n",
    "    int e[7] = {1, 2, 3, 4, 5, 6, 7};\n",
    "    vector<int> a(e, e+7);\n",
    "    \n",
    "    cout << \"最后一个元素： \" << a.back() << endl;\n",
    "    cout << \"第一个元素： \" << a.front() << endl;\n",
    "    cout << \"索引值为3号的元素： \"<< a[3] << endl;\n",
    "\n",
    "}"
   ]
  },
  {
   "cell_type": "markdown",
   "metadata": {},
   "source": [
    "- a.clear(); //清空a中的元素\n",
    "- a.empty(); //判断a是否为空，空则返回ture,不空则返回false\n",
    "- a.pop_back(); //删除a向量的最后一个元素\n",
    "- a.erase(a.begin()+1,a.begin()+3); //删除a中第1个（从第0个算起）到第2个元素"
   ]
  },
  {
   "cell_type": "raw",
   "metadata": {},
   "source": [
    "#include <iostream>\n",
    "using namespace std;\n",
    "#include <vector>\n",
    "\n",
    "int main(){\n",
    "    int e[7] = {1, 2, 3, 4, 5, 6, 7};\n",
    "    vector<int> a(e, e+7);\n",
    "    \n",
    "    cout << boolalpha << a.empty() << endl;\n",
    "    \n",
    "    cout << a.size() << endl;\n",
    "    a.pop_back();\n",
    "    cout << a.size() << endl;\n",
    "\n",
    "    a.erase(a.begin()+1, a.begin()+3);\n",
    "    cout << a.size() << endl;\n",
    "    \n",
    "    a.clear();\n",
    "    cout << a.size() << endl;\n",
    "}"
   ]
  },
  {
   "cell_type": "markdown",
   "metadata": {},
   "source": [
    "- a.insert(a.begin()+1,5); //在a的第1个元素（从第0个算起）的位置插入数值5\n",
    "- a.insert(a.begin()+1,3,5); //在a的第1个元素（从第0个算起）的位置插入3个数，其值都为5\n",
    "- a.insert(a.begin()+1,b+3,b+6); //b为数组，在a的第1个元素（从第0个算起）的位置插入b的第3个元素到第5个元素"
   ]
  },
  {
   "cell_type": "raw",
   "metadata": {},
   "source": [
    "#include <iostream>\n",
    "using namespace std;\n",
    "#include <vector>\n",
    "\n",
    "int main(){\n",
    "    int e[7] = {1, 2, 3, 4, 5, 6, 7};\n",
    "    vector<int> a(e, e+7);\n",
    "    \n",
    "    a.insert(a.begin()+2, 314);\n",
    "    \n",
    "    for(int i=0; i<a.size(); i++){\n",
    "        cout << a[i] << \" \";\n",
    "    }\n",
    "    cout << \"\\n\";\n",
    "    a.insert(a.begin()+1, 3, 5);\n",
    "    \n",
    "    for(int i=0; i<a.size(); i++){\n",
    "        cout << a[i] << \" \";\n",
    "    }\n",
    "    cout << \"\\n\";\n",
    "    \n",
    "    int b[5] = {11, 12, 13, 14, 15};\n",
    "    a.insert(a.begin()+1, b+1, b+3);\n",
    "    \n",
    "    for(int i=0; i<a.size(); i++){\n",
    "        cout << a[i] << \" \";\n",
    "    }\n",
    "    cout << \"\\n\";\n",
    "    \n",
    "}"
   ]
  },
  {
   "cell_type": "markdown",
   "metadata": {},
   "source": [
    "- a.size(); //返回a中元素的个数；\n",
    "- a.capacity(); //返回a在内存中总共可以容纳的元素个数\n",
    "- a.resize(10); //将a的现有元素个数调至10个，多则删，少则补，其值随机\n",
    "- a.resize(10,2); //将a的现有元素个数调至10个，多则删，少则补，其值为2"
   ]
  },
  {
   "cell_type": "raw",
   "metadata": {},
   "source": [
    "#include <iostream>\n",
    "using namespace std;\n",
    "#include <vector>\n",
    "\n",
    "int main(){\n",
    "    int e[7] = {1, 2, 3, 4, 5, 6, 7};\n",
    "    vector<int> a(e, e+7);\n",
    "    \n",
    "    cout << a.size() << endl;\n",
    "    cout << a.capacity() << endl;\n",
    "    a.resize(10);\n",
    "    cout << a.size() << endl;\n",
    "    a.resize(10, 2);\n",
    "    cout << a.size() << endl;\n",
    "    \n",
    "}"
   ]
  },
  {
   "cell_type": "markdown",
   "metadata": {},
   "source": [
    "- a.swap(b); //b为向量，将a中的元素和b中的元素进行整体性交换"
   ]
  },
  {
   "cell_type": "raw",
   "metadata": {},
   "source": [
    "#include <iostream>\n",
    "using namespace std;\n",
    "#include <vector>\n",
    "\n",
    "int main(){\n",
    "    int e[7] = {1, 2, 3, 4, 5, 6, 7};\n",
    "    vector<int> a(e, e+7);\n",
    "    vector<int> b(10, 1);\n",
    "    for(int i=0; i<a.size(); i++){\n",
    "        cout << a[i] << \" \";\n",
    "    }    \n",
    "    cout << \"\\n\";\n",
    "    a.swap(b);\n",
    "    for(int i=0; i<a.size(); i++){\n",
    "        cout << a[i] << \" \";\n",
    "    }\n",
    "    cout << \"\\n\";\n",
    "}"
   ]
  },
  {
   "cell_type": "markdown",
   "metadata": {},
   "source": [
    "---"
   ]
  },
  {
   "cell_type": "markdown",
   "metadata": {},
   "source": [
    "### C++ List的使用"
   ]
  },
  {
   "cell_type": "markdown",
   "metadata": {},
   "source": [
    "- C++ 中的list是一种序列容器，List的功能和数据结构中的双向链表类似(向量和顺序表类似)\n",
    "- List中的数据元素是通过链表指针串成逻辑意义上的线性表，同时List具有的链表的主要优点"
   ]
  },
  {
   "cell_type": "markdown",
   "metadata": {},
   "source": [
    "### List和Vector进行对比\n",
    "- vector\n",
    "    - 底层由数组实现，拥有一段连续的内存空间，并且起始点的地址不变。\n",
    "    - 随机访问，时间复杂度为O(1)，但因为内存空间是连续的，所以在进行插入删除操作的时候，会造成内存块的拷贝，时间复杂度为O(n)。\n",
    "- List\n",
    "    - 底层由双向链表实现，因此内存空间不是连续的。\n",
    "    - 查询效率低下，时间复杂度为O(n)，但是插入和删除效率高。只需要在插入的地方更改指针的指向即可，不用移动数据。"
   ]
  },
  {
   "cell_type": "markdown",
   "metadata": {},
   "source": [
    "- vector底层实现是数组，list是双向链表\n",
    "- vector支持随机访问，list不支持\n",
    "- vector是顺序内存，list不是\n",
    "- vector在中间节点进行插入删除会导致内存拷贝，list不会\n",
    "- vector一次性分配好内存，不够才二倍扩容，list每次插入新节点都会进行内存申请\n",
    "- vector随机访问性能好，插入删除性能差；list随机访问性能差，插入删除性能好。"
   ]
  },
  {
   "cell_type": "markdown",
   "metadata": {},
   "source": [
    "#### 应用方面的区别：\n",
    "- vector拥有一段连续的内存空间，因此支持随机访问，如果需要高效的随即访问，而不在乎插入和删除的效率，我们可以选用vector\n",
    "- list拥有一段不连续的内存空间，如果需要高效的插入和删除，而不关心随机访问，则应该使用list。"
   ]
  },
  {
   "cell_type": "markdown",
   "metadata": {},
   "source": [
    "---"
   ]
  },
  {
   "cell_type": "markdown",
   "metadata": {},
   "source": [
    "- list的初始化操作"
   ]
  },
  {
   "cell_type": "raw",
   "metadata": {},
   "source": [
    "list<int> lst2(5);  // 创建含有5个元素的list\n",
    "list<int> lst3(3, 2);  // 创建含有3个元素为2的list\n",
    "list<int> lst4(lst2);  // 使用lst2初始化lst4\n",
    "list<int> lst5(lst2.begin(), lst2.end())  // 同lst4"
   ]
  },
  {
   "cell_type": "raw",
   "metadata": {},
   "source": [
    "#include <iostream>\n",
    "using namespace std;\n",
    "#include <list>\n",
    "\n",
    "int main(){\n",
    "    list<int> a(5);\n",
    "    list<int> b(5, 3);\n",
    "    list<int> c(b);\n",
    "    list<int> d(b.begin(), b.end());\n",
    "    int x[7] = {10, 20, 30, 70, 50, 40, 60};\n",
    "    list<int> e(x, x+7);\n",
    "    \n",
    "    for(list<int>::iterator i = a.begin(); i!=a.end(); i++){\n",
    "        cout << *i << \" \";\n",
    "    }\n",
    "    cout << \"\\n\";\n",
    "    for(list<int>::iterator i = b.begin(); i!=b.end(); i++){\n",
    "        cout << *i << \" \";\n",
    "    }\n",
    "    cout << \"\\n\";\n",
    "    for(list<int>::iterator i = c.begin(); i!=c.end(); i++){\n",
    "        cout << *i << \" \";\n",
    "    }\n",
    "    cout << \"\\n\";\n",
    "    for(list<int>::iterator i = d.begin(); i!=d.end(); i++){\n",
    "        cout << *i << \" \";\n",
    "    }\n",
    "    cout << \"\\n\";\n",
    "    for(list<int>::iterator i = e.begin(); i!=e.end(); i++){\n",
    "        cout << *i << \" \";\n",
    "    }\n",
    "    cout << \"\\n\";\n",
    "}"
   ]
  },
  {
   "cell_type": "markdown",
   "metadata": {},
   "source": [
    "- 访问list元素"
   ]
  },
  {
   "cell_type": "raw",
   "metadata": {},
   "source": [
    "for(list<int>::iterator i = lst3.begin(); i != lst3.end(); i++){\n",
    "    cout << *i << endl;\n",
    "}"
   ]
  },
  {
   "cell_type": "raw",
   "metadata": {},
   "source": [
    "- 迭代器(iterator)是一种检查容器内元素并遍历元素的数据类型\n",
    "- list：list<int>::iterator\n",
    "- vecor: vector<int> :: iterator\n",
    "- hashmap:unordered_map<int, string>::iterator"
   ]
  },
  {
   "cell_type": "markdown",
   "metadata": {},
   "source": [
    "- a.assign() 给list赋值 "
   ]
  },
  {
   "cell_type": "raw",
   "metadata": {},
   "source": [
    "#include <iostream>\n",
    "using namespace std;\n",
    "#include <list>\n",
    "\n",
    "int main(){\n",
    "    list<int> a(5);\n",
    "    int b[6] = {10, 20, 30, 40, 50, 60};\n",
    "    a.assign(b, b+5);\n",
    "    for(list<int>::iterator i = a.begin(); i != a.end(); i++){\n",
    "        cout << *i << endl;\n",
    "    }\n",
    "}"
   ]
  },
  {
   "cell_type": "markdown",
   "metadata": {},
   "source": [
    "- a.back() 返回最后一个元素 \n",
    "- a.front() 返回第一个元素"
   ]
  },
  {
   "cell_type": "raw",
   "metadata": {},
   "source": [
    "#include <iostream>\n",
    "using namespace std;\n",
    "#include <list>\n",
    "\n",
    "int main(){\n",
    "    list<int> a(5);\n",
    "    int b[6] = {10, 20, 30, 40, 50, 60};\n",
    "    a.assign(b, b+5);\n",
    "    \n",
    "    cout << a.back() << endl;\n",
    "    cout << a.front() << endl;\n",
    "    \n",
    "}"
   ]
  },
  {
   "cell_type": "markdown",
   "metadata": {},
   "source": [
    "- a.insert() 插入一个元素"
   ]
  },
  {
   "cell_type": "raw",
   "metadata": {},
   "source": [
    "#include <iostream>\n",
    "using namespace std;\n",
    "#include <list>\n",
    "\n",
    "int main(){\n",
    "    list<int> a(5);\n",
    "    int b[6] = {10, 20, 30, 40, 50, 60};\n",
    "    a.assign(b, b+5);\n",
    "    \n",
    "    a.insert(a.begin(), 30);\n",
    "    \n",
    "    cout << a.back() << endl;\n",
    "    cout << a.front() << endl;\n",
    "    \n",
    "}"
   ]
  },
  {
   "cell_type": "markdown",
   "metadata": {},
   "source": [
    "- a.pop_back() 删除最后一个元素\n",
    "- a.pop_front()  删除第一个元素\n",
    "- a.push_back()  在list的末尾添加一个元素\n",
    "- a.push_front()  在list的头部添加一个元素"
   ]
  },
  {
   "cell_type": "raw",
   "metadata": {},
   "source": [
    "#include <iostream>\n",
    "using namespace std;\n",
    "#include <list>\n",
    "\n",
    "int main(){\n",
    "    list<int> a(5);\n",
    "    int b[6] = {10, 20, 30, 40, 50, 60};\n",
    "    a.assign(b, b+5);\n",
    "    \n",
    "    cout << a.back() << endl;\n",
    "    cout << a.front() << endl;\n",
    "    \n",
    "    a.pop_back();\n",
    "    cout << a.back() << endl;\n",
    "    \n",
    "    a.pop_front();\n",
    "    cout << a.front() << endl;\n",
    "    \n",
    "    a.push_back(100);\n",
    "    cout << a.back() << endl;\n",
    "    \n",
    "    a.push_front(0);\n",
    "    cout << a.front() << endl;\n",
    "    \n",
    "}"
   ]
  },
  {
   "cell_type": "markdown",
   "metadata": {},
   "source": [
    "- a.clear() 删除所有元素 \n",
    "- a.empty() 如果list是空的则返回true "
   ]
  },
  {
   "cell_type": "raw",
   "metadata": {},
   "source": [
    "#include <iostream>\n",
    "using namespace std;\n",
    "#include <list>\n",
    "\n",
    "int main(){\n",
    "    list<int> a(5);\n",
    "    int b[6] = {10, 20, 30, 40, 50, 60};\n",
    "    a.assign(b, b+5);\n",
    "    \n",
    "    cout << boolalpha << a.empty() << endl;\n",
    "    \n",
    "    a.clear();\n",
    "    cout << boolalpha << a.empty() << endl;\n",
    "}"
   ]
  },
  {
   "cell_type": "markdown",
   "metadata": {},
   "source": [
    "- a.erase() 删除元素"
   ]
  },
  {
   "cell_type": "raw",
   "metadata": {},
   "source": [
    "#include <iostream>\n",
    "using namespace std;\n",
    "#include <list>\n",
    "\n",
    "int main(){\n",
    "    list<int> a(5);\n",
    "    int b[6] = {10, 20, 30, 40, 50, 60};\n",
    "    a.assign(b, b+5);\n",
    "    \n",
    "    cout << a.front() << endl;\n",
    "    \n",
    "    a.erase(a.begin());\n",
    "    cout << a.front() << endl;\n",
    "    \n",
    "    a.erase(a.begin(), a.end());\n",
    "    cout << a.empty() << endl;\n",
    "\n",
    "}"
   ]
  },
  {
   "cell_type": "markdown",
   "metadata": {},
   "source": [
    "- a.size() 返回list的元素个数\n",
    "- a.reverse() 把list的元素倒转\n",
    "- a.sort()  给list进行排序\n",
    "- a.unique()  删除list中重复的元素"
   ]
  },
  {
   "cell_type": "raw",
   "metadata": {},
   "source": [
    "#include <iostream>\n",
    "using namespace std;\n",
    "#include <list>\n",
    "\n",
    "int main(){\n",
    "    list<int> a(5);\n",
    "    int b[6] = {10, 20, 30, 10, 10, 10};\n",
    "    a.assign(b, b+5);\n",
    "    \n",
    "    cout << a.size() << endl;\n",
    "    a.reverse();\n",
    "    for (list<int>::iterator i = a.begin(); i!=a.end(); i++){\n",
    "        cout << *i << \" \";\n",
    "    }\n",
    "    cout << \"\\n\";\n",
    "    a.sort();\n",
    "    for (list<int>::iterator i = a.begin(); i!=a.end(); i++){\n",
    "        cout << *i << \" \";\n",
    "    }\n",
    "    cout << \"\\n\";    \n",
    "    a.unique();\n",
    "    for (list<int>::iterator i = a.begin(); i!=a.end(); i++){\n",
    "        cout << *i << \" \";\n",
    "    }\n",
    "    cout << \"\\n\";      \n",
    "}"
   ]
  },
  {
   "cell_type": "markdown",
   "metadata": {},
   "source": [
    "---"
   ]
  },
  {
   "cell_type": "markdown",
   "metadata": {},
   "source": [
    "### 补充知识点"
   ]
  },
  {
   "cell_type": "raw",
   "metadata": {},
   "source": [
    "#include <iostream>\n",
    "using namespace std;\n",
    "#include <vector>\n",
    "\n",
    "int main(){\n",
    "    int a[7] = {1, 2, 3, 4, 5, 6, 7};\n",
    "    vector<int> b(a, a+7);\n",
    "    \n",
    "    for(int i=0; i<10; i++){\n",
    "        cout << b[i];  // 1234567000\n",
    "    }\n",
    "    cout << \"\\n\";  \n",
    "}"
   ]
  },
  {
   "cell_type": "markdown",
   "metadata": {},
   "source": [
    "正常来讲，遍历的数量已经超过了向量b本身的长度，正常情况下应该会报错的，但是，为什么这里却不报错\n",
    "\n",
    "原因是：C++ 中有两种编译模式，分别是：Debug模式和Release模式\n",
    "\n",
    "- Debug模式： 通常称为调试版本，通过一系列编译选项的配合，编译结果通常包含调试信息，而且不做任何优化，以为开发人员提供强大的应用程序调试能力。\n",
    "- Release模式：通常称为发布版本，是为用户使用的，一般客户不允许在发布版本上进行调试，所以不保存调试信息，同时它往往进行了各种优化，以达到代码最小和速度最优，为用户的使用提供便利。(这也就是为什么不报错的原因)\n",
    "\n",
    "- 一般情况下，我们大多使用第一种模式进行开发，在进行第二种模式的发布，如果在发布时的时候出现问题，只能说Debug模式下的某一个模块开发有问题。"
   ]
  },
  {
   "cell_type": "markdown",
   "metadata": {},
   "source": [
    "---"
   ]
  },
  {
   "cell_type": "markdown",
   "metadata": {},
   "source": [
    "### C++ HashMap\n",
    "- HashMap的数据结构为：数组+链表\n",
    "- 数组的特点：支持随机访问，插入，删除效率低；\n",
    "- 链表的特点：不支持随机访问，插入删除效率高；\n",
    "- 在HashMap使用数组+链表的结构完美的解决了数组和链表的问题，使得查询、插入和删除的效率都很高；"
   ]
  },
  {
   "cell_type": "markdown",
   "metadata": {},
   "source": [
    "HashMap的底层实现就是哈希表\n",
    "\n",
    "---\n",
    "\n",
    "### 什么是哈希表？（了解）\n",
    "\n",
    "哈希也称为散列，散列是通过计算哈希值，打破元素之间原有的关系，使集合中的元素按照散列函数的分类进行排序。\n",
    "\n",
    "例如：四个数据：{0， 15， 90， 13}，我们需求是查找元素13是否存在\n",
    "\n",
    "使用顺序表的方式进行存储"
   ]
  },
  {
   "cell_type": "raw",
   "metadata": {},
   "source": [
    "#include <iostream>\n",
    "#include <vector>\n",
    "using namespace std;\n",
    "\n",
    "int main(){\n",
    "    vector<int> m{0, 15, 90, 13};\n",
    "    for(int i=0; i<m.size(); i++){\n",
    "        if(m[i]==13){\n",
    "            cout << \"exist\" << endl; \n",
    "        }\n",
    "    }\n",
    "}"
   ]
  },
  {
   "cell_type": "markdown",
   "metadata": {},
   "source": [
    "不难发现，想要判断数组中是否含有数据13，我们需要进行遍历4次才能得到，时间复杂度为O(n)"
   ]
  },
  {
   "cell_type": "markdown",
   "metadata": {},
   "source": [
    "如果我们在使用前进行哈希函数(哈希函数有多种，稍后讲解)的存储：\n",
    "- 举例的哈希函数：H[key] = key % 3\n",
    "- 我们将四个值{0， 15， 90， 13}均带入到哈希函数中进行计算，所得的哈希值为：\n",
    "    - H[0] = 0 % 3 = 0\n",
    "    - H[15] = 15 % 3 = 0\n",
    "    - H[90] = 90 % 3 = 0\n",
    "    - H[13] = 13 % 3 = 1\n",
    "    \n",
    "按照这个分类，我们可以进行一个哈希表的构建：\n",
    "\n",
    "![avatar](./img/hash.png)\n",
    "\n",
    "为此，当我们查找数据13的时候，先用哈希计算出他的位置，然后到计算的位置中查看是否存在即可\n",
    "\n",
    "通过上面的例子，我们不难看出，哈希的实质其实就是先分类，再按照分类进行查找。\n",
    "\n",
    "就好比到图书馆看书，先看书籍的分类，再到指定分类找到自己想要的书籍。"
   ]
  },
  {
   "cell_type": "markdown",
   "metadata": {},
   "source": [
    "### 哈希函数的构造方法\n",
    "- 直接定址法\n",
    "- 数字分析法\n",
    "- 平方取中法\n",
    "- 折叠法\n",
    "- 除留余数法(案例中使用的方法)\n",
    "- 随机数法"
   ]
  },
  {
   "cell_type": "markdown",
   "metadata": {},
   "source": [
    "### hash冲突，及其解决方法\n",
    "\n",
    "哈希冲突：\n",
    "\n",
    "回到刚刚的例子：\n",
    "\n",
    "H[0] = 0 % 3 = 0\n",
    "\n",
    "H[15] = 15 % 3 = 0\n",
    "\n",
    "从上面我们不难看出，数据0 和数据15 在进行哈希计算的时候，所得到的地址都是0\n",
    "\n",
    "也就是说，一个地址需要存储多个数据，这就发生了哈希冲突\n",
    "\n",
    "在上面的例子中，我们使用的就是解决哈希冲突方法中比较简单，也较为常用的一种方法：\n",
    "\n",
    "链地址法 ： 就是将所有关键字为同义词的记录存储在同一线性链表中。"
   ]
  },
  {
   "cell_type": "markdown",
   "metadata": {},
   "source": [
    "---"
   ]
  },
  {
   "cell_type": "markdown",
   "metadata": {},
   "source": [
    "### HashMap的用法(了解)"
   ]
  },
  {
   "cell_type": "markdown",
   "metadata": {},
   "source": [
    "整型的定义"
   ]
  },
  {
   "cell_type": "raw",
   "metadata": {},
   "source": [
    "#include <iostream>\n",
    "#include <hash_map>  // 导入hash_map包\n",
    "using namespace std;\n",
    "using namespace __gnu_cxx; // 支持标准的C++库\n",
    "\n",
    "int main(){\n",
    "    hash_map<int, int> IntHash;\n",
    "    IntHash[1] = 123;\n",
    "    IntHash[2] = 456;\n",
    "    int val1 = IntHash[1];\n",
    "    int val2 = IntHash[2];\n",
    "    cout << val1 << endl;\n",
    "    cout << val2 << endl;\n",
    "}"
   ]
  },
  {
   "cell_type": "markdown",
   "metadata": {},
   "source": [
    "字符型定义"
   ]
  },
  {
   "cell_type": "raw",
   "metadata": {},
   "source": [
    "#include <iostream>\n",
    "#include <hash_map>\n",
    "using namespace std;\n",
    "using namespace __gnu_cxx;\n",
    "\n",
    "int main(){\n",
    "\n",
    "    hash_map<char, int> CharHash;  \n",
    "    CharHash['a'] = 123;  \n",
    "    CharHash['b'] = 456;  \n",
    "    int val1 = CharHash['a']; \n",
    "    int val2 = CharHash['b']; \n",
    "    cout << val1 << endl;\n",
    "    cout << val2 << endl;\n",
    "}\n"
   ]
  },
  {
   "cell_type": "markdown",
   "metadata": {},
   "source": [
    "HashMap的遍历"
   ]
  },
  {
   "cell_type": "raw",
   "metadata": {},
   "source": [
    "#include <iostream>\n",
    "#include <hash_map>\n",
    "using namespace std;\n",
    "using namespace __gnu_cxx;\n",
    "\n",
    "int main(){\n",
    "    hash_map<int, int> IntHash;\n",
    "    IntHash[1] = 123;\n",
    "    IntHash[2] = 456;\n",
    "    IntHash[3] = 789;\n",
    "    hash_map<int, int>::iterator it = IntHash.begin();\n",
    "    while (it != IntHash.end()){\n",
    "        cout<< it->first <<\"\\t\" << it++->second <<endl;\n",
    "    }\n",
    "}"
   ]
  },
  {
   "cell_type": "markdown",
   "metadata": {},
   "source": [
    "HashMap的查找"
   ]
  },
  {
   "cell_type": "raw",
   "metadata": {},
   "source": [
    "#include <iostream>\n",
    "#include <hash_map>\n",
    "#include <string>\n",
    "using namespace std;\n",
    "using namespace __gnu_cxx;\n",
    "\n",
    "int main(){\n",
    "    hash_map<int, string> StrHash;\n",
    "    StrHash[12] = \"123\";\n",
    "    StrHash[25] = \"456\";\n",
    "    StrHash[39] = \"789\";\n",
    "    hash_map<int, string>::iterator it = StrHash.begin();\n",
    "    it = StrHash.find(25);\n",
    "    if(it != StrHash.end()){\n",
    "        cout << it->second << endl;\n",
    "    }else\n",
    "    {\n",
    "        cout << \"not find\" << endl;\n",
    "    }\n",
    "}\n"
   ]
  },
  {
   "cell_type": "markdown",
   "metadata": {},
   "source": [
    "显示HashMap的大小"
   ]
  },
  {
   "cell_type": "raw",
   "metadata": {},
   "source": [
    "#include <iostream>\n",
    "#include <hash_map>\n",
    "#include <string>\n",
    "using namespace std;\n",
    "using namespace __gnu_cxx;\n",
    "\n",
    "int main(){\n",
    "    hash_map<const char*, string> StrHash;\n",
    "    StrHash[\"a\"] = \"123\";\n",
    "    StrHash[\"b\"] = \"456\";\n",
    "    StrHash[\"c\"] = \"789\";\n",
    "    cout << StrHash.size() << endl;\n",
    "}"
   ]
  },
  {
   "cell_type": "markdown",
   "metadata": {},
   "source": [
    "判断HashMap是否为空"
   ]
  },
  {
   "cell_type": "raw",
   "metadata": {},
   "source": [
    "#include <iostream>\n",
    "#include <hash_map>\n",
    "#include <string>\n",
    "using namespace std;\n",
    "using namespace __gnu_cxx;\n",
    "\n",
    "int main(){\n",
    "    hash_map<const char*, string> StrHash;\n",
    "    StrHash[\"a\"] = \"123\";\n",
    "    StrHash[\"b\"] = \"456\";\n",
    "    StrHash[\"c\"] = \"789\";\n",
    "    cout << StrHash.empty() << endl;\n",
    "}\n"
   ]
  },
  {
   "cell_type": "markdown",
   "metadata": {},
   "source": [
    "删除HashMap中的元素"
   ]
  },
  {
   "cell_type": "raw",
   "metadata": {},
   "source": [
    "#include <iostream>\n",
    "#include <hash_map>\n",
    "#include <string>\n",
    "using namespace std;\n",
    "using namespace __gnu_cxx;\n",
    "\n",
    "int main(){\n",
    "    hash_map<const char*, string> StrHash;\n",
    "    StrHash[\"a\"] = \"123\";\n",
    "    StrHash[\"b\"] = \"456\";\n",
    "    StrHash[\"c\"] = \"789\";\n",
    "\n",
    "    StrHash.erase(\"a\");\n",
    "\n",
    "    hash_map<const char*, string>::iterator it = StrHash.begin();\n",
    "    while (it != StrHash.end()){\n",
    "        cout<< it->first <<\"\\t\" << it++->second <<endl;\n",
    "    }\n",
    "}\n"
   ]
  },
  {
   "cell_type": "markdown",
   "metadata": {},
   "source": [
    "---"
   ]
  },
  {
   "cell_type": "markdown",
   "metadata": {},
   "source": [
    "### C++ unordered_map的用法\n",
    "- nordered_map属于标准容器，而hash_map属于非标准容器。\n",
    "- unordered_map感觉速度和hash_map差不多，但是支持string做key，也可以使用复杂的对象作为key。"
   ]
  },
  {
   "cell_type": "markdown",
   "metadata": {},
   "source": [
    "整形定义"
   ]
  },
  {
   "cell_type": "raw",
   "metadata": {},
   "source": [
    "#include <iostream>\n",
    "#include <unordered_map>\n",
    "using namespace std;\n",
    "\n",
    "int main(){\n",
    "    unordered_map <int, int> inthash;\n",
    "    inthash[1] = 123;\n",
    "    inthash[2] = 456;\n",
    "    int val1 = inthash[1];\n",
    "    int val2 = inthash[2];\n",
    "    cout << val1 << endl;\n",
    "    cout << val2 << endl;\n",
    "}"
   ]
  },
  {
   "cell_type": "markdown",
   "metadata": {},
   "source": [
    "字符型定义"
   ]
  },
  {
   "cell_type": "raw",
   "metadata": {},
   "source": [
    "#include <iostream>\n",
    "#include <unordered_map>\n",
    "using namespace std;\n",
    "\n",
    "int main(){\n",
    "    unordered_map <string, int> strhash;\n",
    "    strhash[\"a\"] = 123;\n",
    "    strhash[\"b\"] = 456;\n",
    "    int val1 = strhash[\"a\"];\n",
    "    int val2 = strhash[\"b\"];\n",
    "    cout << val1 << endl;\n",
    "    cout << val2 << endl;\n",
    "}"
   ]
  },
  {
   "cell_type": "markdown",
   "metadata": {},
   "source": [
    "HashMap的遍历"
   ]
  },
  {
   "cell_type": "raw",
   "metadata": {},
   "source": [
    "#include <iostream>\n",
    "#include <unordered_map>\n",
    "using namespace std;\n",
    "\n",
    "int main(){\n",
    "    unordered_map<int, int> intHash;\n",
    "    intHash[1] = 123;\n",
    "    intHash[2] = 456;\n",
    "    intHash[3] = 789;\n",
    "    for (auto it = intHash.begin(); it != intHash.end(); it++)\n",
    "        cout << \" \" << it->first << \":\" << it->second << endl;\n",
    "}"
   ]
  },
  {
   "cell_type": "markdown",
   "metadata": {},
   "source": [
    "HashMap的查找"
   ]
  },
  {
   "cell_type": "raw",
   "metadata": {},
   "source": [
    "#include <iostream>\n",
    "#include <unordered_map>\n",
    "using namespace std;\n",
    "\n",
    "int main(){\n",
    "    unordered_map<int, string> strHash;\n",
    "    strHash[12] = \"123\";\n",
    "    strHash[25] = \"456\";\n",
    "    strHash[39] = \"789\";\n",
    "    unordered_map<int, string>::iterator it = strHash.begin();\n",
    "    it = strHash.find(25);\n",
    "    if(it != strHash.end()){\n",
    "        cout << it->second << endl;\n",
    "    }else\n",
    "    {\n",
    "        cout << \"not find\" << endl;\n",
    "    }\n",
    "}"
   ]
  },
  {
   "cell_type": "markdown",
   "metadata": {},
   "source": [
    "显示HashMap的大小"
   ]
  },
  {
   "cell_type": "raw",
   "metadata": {},
   "source": [
    "#include <iostream>\n",
    "#include <unordered_map>\n",
    "using namespace std;\n",
    "\n",
    "int main(){\n",
    "    unordered_map<string, string> strHash;\n",
    "    strHash[\"a\"] = \"123\";\n",
    "    strHash[\"b\"] = \"456\";\n",
    "    strHash[\"c\"] = \"789\";\n",
    "    cout << strHash.size() << endl;\n",
    "}"
   ]
  },
  {
   "cell_type": "markdown",
   "metadata": {},
   "source": [
    "判断HashMap是否为空"
   ]
  },
  {
   "cell_type": "raw",
   "metadata": {},
   "source": [
    "#include <iostream>\n",
    "#include <unordered_map>\n",
    "using namespace std;\n",
    "\n",
    "int main(){\n",
    "    unordered_map<const char*, string> strHash;\n",
    "    strHash[\"a\"] = \"123\";\n",
    "    strHash[\"b\"] = \"456\";\n",
    "    strHash[\"c\"] = \"789\";\n",
    "    cout << strHash.empty() << endl;\n",
    "}"
   ]
  },
  {
   "cell_type": "markdown",
   "metadata": {},
   "source": [
    "删除HashMap中的元素"
   ]
  },
  {
   "cell_type": "raw",
   "metadata": {},
   "source": [
    "#include <iostream>\n",
    "#include <unordered_map>\n",
    "using namespace std;\n",
    "\n",
    "int main(){\n",
    "    unordered_map<string, string> strHash;\n",
    "    strHash[\"a\"] = \"123\";\n",
    "    strHash[\"b\"] = \"456\";\n",
    "    strHash[\"c\"] = \"789\";\n",
    "\n",
    "    strHash.erase(\"a\");\n",
    "\n",
    "    unordered_map<string, string>::iterator it = strHash.begin();\n",
    "    while (it != strHash.end()){\n",
    "        cout<< it->first <<\"\\t\" << it++->second <<endl;\n",
    "    }\n",
    "}\n"
   ]
  }
 ],
 "metadata": {
  "kernelspec": {
   "display_name": "Python 3",
   "language": "python",
   "name": "python3"
  },
  "language_info": {
   "codemirror_mode": {
    "name": "ipython",
    "version": 3
   },
   "file_extension": ".py",
   "mimetype": "text/x-python",
   "name": "python",
   "nbconvert_exporter": "python",
   "pygments_lexer": "ipython3",
   "version": "3.8.5"
  }
 },
 "nbformat": 4,
 "nbformat_minor": 4
}
