{
 "cells": [
  {
   "cell_type": "markdown",
   "metadata": {},
   "source": [
    "### 函数"
   ]
  },
  {
   "cell_type": "markdown",
   "metadata": {},
   "source": [
    "C++ 中的函数定义的一般形式如下"
   ]
  },
  {
   "cell_type": "raw",
   "metadata": {},
   "source": [
    "return_type function_name(parameter list){\n",
    "    body of the function\n",
    "}"
   ]
  },
  {
   "cell_type": "markdown",
   "metadata": {},
   "source": [
    "- return_type : 函数返回值的类型，有些函数不需要返回值，这种情况下，返回类型为void。\n",
    "- function_name : 函数名称。\n",
    "- parameter list : 参数列表。\n",
    "- body of the function : 函数主体包括一组定义函数执行任务的语句。"
   ]
  },
  {
   "cell_type": "markdown",
   "metadata": {},
   "source": [
    "实例：获取最大的数"
   ]
  },
  {
   "cell_type": "markdown",
   "metadata": {},
   "source": [
    "第一种写法"
   ]
  },
  {
   "cell_type": "raw",
   "metadata": {},
   "source": [
    "#include <iostream>\n",
    "using namespace std;\n",
    "\n",
    "int user_name(int number1, int number2){\n",
    "    int result;\n",
    "    if (number1 > number2){\n",
    "        result = number1;\n",
    "    }else{\n",
    "        result = number2;\n",
    "    }\n",
    "    return result;\n",
    "}\n",
    "// int user_name(int x, int y);  // 声明user_name函数(全局）\n",
    "int main(){\n",
    "    int a = 100;\n",
    "    int b = 150;\n",
    "    int user_name(int x, int y);  // 声明user_name函数(局部)\n",
    "    int c = user_name(a, b);  // 初始化 user_name函数\n",
    "    cout << c << endl;\n",
    "}"
   ]
  },
  {
   "cell_type": "markdown",
   "metadata": {},
   "source": [
    "第二种写法"
   ]
  },
  {
   "cell_type": "raw",
   "metadata": {},
   "source": [
    "#include <iostream>\n",
    "using namespace std;\n",
    "\n",
    "int user_name(int number1, int number2){\n",
    "    int result;\n",
    "    if (number1 > number2){\n",
    "        result = number1;\n",
    "    }else{\n",
    "        result = number2;\n",
    "    }\n",
    "    return result;\n",
    "}\n",
    "\n",
    "int main(){\n",
    "    int a = 100;\n",
    "    int b = 150;\n",
    "    int c = user_name(a, b);  // 初始化 user_name函数\n",
    "    cout << c << endl;\n",
    "}"
   ]
  },
  {
   "cell_type": "markdown",
   "metadata": {},
   "source": [
    "---"
   ]
  },
  {
   "cell_type": "markdown",
   "metadata": {},
   "source": [
    "### 函数参数\n",
    "- 传值调用\n",
    "- 引用调用\n",
    "- 指针调用"
   ]
  },
  {
   "cell_type": "markdown",
   "metadata": {},
   "source": [
    "传值调用：\n",
    "- 该方法把参数的实际值赋值给函数的形式参数。\n",
    "- 修改函数内的形式参数对实际参数没有影响。"
   ]
  },
  {
   "cell_type": "raw",
   "metadata": {},
   "source": [
    "#include <iostream>\n",
    "using namespace std;\n",
    "\n",
    "// 函数定义\n",
    "void swap(int x, int y)\n",
    "{\n",
    "   int temp;\n",
    " \n",
    "   temp = x; /* 保存 x 的值 */\n",
    "   x = y;    /* 把 y 赋值给 x */\n",
    "   y = temp; /* 把 x 赋值给 y */\n",
    "  \n",
    "   return;\n",
    "}\n",
    "\n",
    "// 函数声明\n",
    "void swap(int x, int y);\n",
    " \n",
    "int main ()\n",
    "{\n",
    "   // 局部变量声明\n",
    "   int a = 100;\n",
    "   int b = 200;\n",
    " \n",
    "   cout << \"交换前，a 的值：\" << a << endl;\n",
    "   cout << \"交换前，b 的值：\" << b << endl;\n",
    " \n",
    "   // 调用函数来交换值\n",
    "   swap(a, b);\n",
    " \n",
    "   cout << \"交换后，a 的值：\" << a << endl;\n",
    "   cout << \"交换后，b 的值：\" << b << endl;\n",
    " \n",
    "   return 0;\n",
    "}"
   ]
  },
  {
   "cell_type": "markdown",
   "metadata": {},
   "source": [
    "引用调用：\n",
    "- 该方法把参数的引用赋值给形式参数。\n",
    "- 在函数内，该引用用于访问调用中要用到的实际参数。\n",
    "- 这意味着，修改形式参数会影响实际参数。"
   ]
  },
  {
   "cell_type": "raw",
   "metadata": {},
   "source": [
    "#include <iostream>\n",
    "using namespace std;\n",
    "\n",
    "// 函数定义\n",
    "void swap(int &x, int &y)\n",
    "{\n",
    "   int temp;\n",
    "   temp = x; /* 保存地址 x 的值 */\n",
    "   x = y;    /* 把 y 赋值给 x */\n",
    "   y = temp; /* 把 x 赋值给 y  */\n",
    "  \n",
    "   return;\n",
    "}\n",
    " \n",
    "// 函数声明\n",
    "void swap(int &x, int &y);\n",
    " \n",
    "int main ()\n",
    "{\n",
    "   // 局部变量声明\n",
    "   int a = 100;\n",
    "   int b = 200;\n",
    " \n",
    "   cout << \"交换前，a 的值：\" << a << endl;\n",
    "   cout << \"交换前，b 的值：\" << b << endl;\n",
    " \n",
    "   /* 调用函数来交换值 */\n",
    "   swap(a, b);\n",
    " \n",
    "   cout << \"交换后，a 的值：\" << a << endl;\n",
    "   cout << \"交换后，b 的值：\" << b << endl;\n",
    " \n",
    "   return 0;\n",
    "}"
   ]
  },
  {
   "cell_type": "markdown",
   "metadata": {},
   "source": [
    "指针调用：\n",
    "- 该方法把参数的地址赋值给形式参数。\n",
    "- 在函数内，该地址用于访问调用中要用到的实际参数。\n",
    "- 这意味着，修改形式参数会影响实际参数。"
   ]
  },
  {
   "cell_type": "raw",
   "metadata": {},
   "source": [
    "#include <iostream>\n",
    "using namespace std;\n",
    "\n",
    "// 函数定义\n",
    "void swap(int *x, int *y)\n",
    "{\n",
    "   int temp;\n",
    "   temp = *x;    /* 保存地址 x 的值 */\n",
    "   *x = *y;        /* 把 y 赋值给 x */\n",
    "   *y = temp;    /* 把 x 赋值给 y */\n",
    "  \n",
    "   return;\n",
    "}\n",
    "\n",
    "// 函数声明\n",
    "void swap(int *x, int *y);\n",
    "\n",
    "int main ()\n",
    "{\n",
    "   // 局部变量声明\n",
    "   int a = 100;\n",
    "   int b = 200;\n",
    " \n",
    "   cout << \"交换前，a 的值：\" << a << endl;\n",
    "   cout << \"交换前，b 的值：\" << b << endl;\n",
    "\n",
    "   /* 调用函数来交换值\n",
    "    * &a 表示指向 a 的指针，即变量 a 的地址 \n",
    "    * &b 表示指向 b 的指针，即变量 b 的地址 \n",
    "    */\n",
    "   swap(&a, &b);\n",
    "\n",
    "   cout << \"交换后，a 的值：\" << a << endl;\n",
    "   cout << \"交换后，b 的值：\" << b << endl;\n",
    " \n",
    "   return 0;\n",
    "}"
   ]
  },
  {
   "cell_type": "markdown",
   "metadata": {},
   "source": [
    "(指针传值)详解：见 ./poniter.ppt"
   ]
  },
  {
   "cell_type": "markdown",
   "metadata": {},
   "source": [
    "---"
   ]
  },
  {
   "cell_type": "markdown",
   "metadata": {},
   "source": [
    "### 函数重载(overload)\n",
    "\n",
    "- 重载取决于参数类型，不取决于返回值类型\n",
    "- 调用时根据参数类型进行匹配，有些类型可以进行默认转换，则会转换后进行参数匹配"
   ]
  },
  {
   "cell_type": "raw",
   "metadata": {},
   "source": [
    "#include <iostream>\n",
    "#include <string>\n",
    "using namespace std;\n",
    "\n",
    "void sum(float a, int b){\n",
    "    cout << \"sum1\" << a << \", \" << b << endl;\n",
    "}\n",
    "void sum(int a, int b){\n",
    "    cout << \"sum2\" << a << \", \" << b << endl;\n",
    "}    \n",
    "void sum(int a, float b){\n",
    "    cout << \"sum3\" << a << \", \" << b << endl;\n",
    "}\n",
    "\n",
    "int main(){\n",
    "    sum(1.1f, 2);  // 1.1 是double类型、 1.1f是float类型\n",
    "    sum(2, 1);\n",
    "    sum(2, 1.1f);\n",
    "}"
   ]
  },
  {
   "cell_type": "markdown",
   "metadata": {},
   "source": [
    "---"
   ]
  },
  {
   "cell_type": "markdown",
   "metadata": {},
   "source": [
    "### C++ 的结构体\n",
    "- 结构体怎么来的？\n",
    "    - 结构体和类很相像\n",
    "    - C语言是面向过程的语言，所有没有面向对象的概念，但是有结构体的概念\n",
    "    - C++语言继承了C语言的结构体，同时也新增了一个类(class)的概念"
   ]
  },
  {
   "cell_type": "markdown",
   "metadata": {},
   "source": [
    "##### C++ 的结构体怎么定义？\n",
    "- 通过struct定义结构体，对于属性，可以使用大括号初始化，也可以使用等号进行初始化\n",
    "- 为什么又两种初始化的形式？\n",
    "    - 大括号初始化时C++11版本的语法，可以支持更加复杂的初始化场景，是基于$std::initializer$_$list$进行的（了解）\n",
    "    - 但是等号不可以"
   ]
  },
  {
   "cell_type": "raw",
   "metadata": {},
   "source": [
    "#include <iostream>\n",
    "#include <string>\n",
    "using namespace std;\n",
    "\n",
    "struct Person{\n",
    "    int age = 18; \n",
    "    int money = 2500;\n",
    "    string name = \"zhangsan\";\n",
    "};\n",
    "\n",
    "int main(){\n",
    "    Person person;\n",
    "    cout << \"age = \" << person.age\n",
    "         << \", name = \" << person.name\n",
    "         << \", money = \" << person.money << endl;\n",
    "    return 0;\n",
    "}"
   ]
  },
  {
   "cell_type": "raw",
   "metadata": {},
   "source": [
    "#include <iostream>\n",
    "#include <string>\n",
    "using namespace std;\n",
    "\n",
    "struct Person{\n",
    "    int age{18};\n",
    "    int money{2500};\n",
    "    string name{\"zhangsan\"};\n",
    "};\n",
    "\n",
    "int main(){\n",
    "    Person person;\n",
    "    cout << \"age = \" << person.age\n",
    "         << \", name = \" << person.name\n",
    "         << \", money = \" << person.money << endl;\n",
    "    return 0;\n",
    "}"
   ]
  },
  {
   "cell_type": "markdown",
   "metadata": {},
   "source": [
    "#### 结构体中-构造函数和析构函数（面试可能会问）"
   ]
  },
  {
   "cell_type": "markdown",
   "metadata": {},
   "source": [
    "- 构造函数 ：仅仅可以有参数，不能有返回值(这个性质后面有代码阐述)"
   ]
  },
  {
   "cell_type": "raw",
   "metadata": {},
   "source": [
    "#include <iostream>\n",
    "#include <string>\n",
    "using namespace std;\n",
    "\n",
    "struct Person{\n",
    "    int age = 18;\n",
    "    int money = 2500;\n",
    "    string name = \"zhangsan\";\n",
    "    \n",
    "    Person(){\n",
    "        cout << this << endl;\n",
    "    }\n",
    "    \n",
    "};\n",
    "\n",
    "int main(){\n",
    "    Person person;\n",
    "    cout << \"age = \" << person.age\n",
    "         << \", name = \" << person.name\n",
    "         << \", money = \" << person.money << endl;\n",
    "    return 0;\n",
    "}"
   ]
  },
  {
   "cell_type": "markdown",
   "metadata": {},
   "source": [
    "- 析构函数 : 不能有参数和返回值"
   ]
  },
  {
   "cell_type": "raw",
   "metadata": {},
   "source": [
    "#include <iostream>\n",
    "#include <string>\n",
    "using namespace std;\n",
    "\n",
    "struct Person{\n",
    "    int age = 18;\n",
    "    int money = 2500;\n",
    "    string name = \"zhangsan\";\n",
    "    \n",
    "    ~Person(){\n",
    "        cout << this << endl;  // this 相当于self\n",
    "    }\n",
    "    \n",
    "};\n",
    "\n",
    "int main(){\n",
    "    Person person;\n",
    "    cout << \"age = \" << person.age\n",
    "         << \", name = \" << person.name\n",
    "         << \", money = \" << person.money << endl;\n",
    "    return 0;\n",
    "}"
   ]
  },
  {
   "cell_type": "markdown",
   "metadata": {},
   "source": [
    "构造函数和析构函数之间的区别：\n",
    "- 构造函数在对象创建的时候调用\n",
    "- 析构函数在对象销毁的时候调用"
   ]
  },
  {
   "cell_type": "raw",
   "metadata": {},
   "source": [
    "#include <iostream>\n",
    "#include <string>\n",
    "using namespace std;\n",
    "\n",
    "struct Person{\n",
    "    int age = 18;\n",
    "    int money = 2500;\n",
    "    string name = \"zhangsan\";\n",
    "    \n",
    "    Person(){\n",
    "        cout << \"构造函数\" << endl;  // this 相当于self\n",
    "    }\n",
    "    \n",
    "    ~Person(){\n",
    "        cout << \"析构函数\"<< endl;  // this 相当于self\n",
    "    }\n",
    "    \n",
    "};\n",
    "\n",
    "int main(){\n",
    "    Person person;\n",
    "    cout << \"age = \" << person.age\n",
    "         << \", name = \" << person.name\n",
    "         << \", money = \" << person.money << endl;\n",
    "    return 0;\n",
    "}"
   ]
  },
  {
   "cell_type": "markdown",
   "metadata": {},
   "source": [
    "---"
   ]
  },
  {
   "cell_type": "markdown",
   "metadata": {},
   "source": [
    "### C++ 的Class\n",
    "- 将struct 修改为class，并添加 public：(公共的)权限定义来使得属性对外可见，并且可以直接访问。\n",
    "- struct = public + class\n",
    "\n",
    "### class的结构\n",
    "![avatar](./img/class.png)"
   ]
  },
  {
   "cell_type": "raw",
   "metadata": {},
   "source": [
    "#include <iostream>\n",
    "#include <string>\n",
    "using namespace std;\n",
    "\n",
    "class Person{\n",
    "public:\n",
    "    int age = 18;\n",
    "    int money = 2500;\n",
    "    string name = \"zhangsan\";\n",
    "    \n",
    "    Person(){\n",
    "        cout << \"构造函数(class)\" << endl;  // this 相当于self\n",
    "    }\n",
    "    \n",
    "    ~Person(){\n",
    "        cout << \"析构函数(class)\"<< endl;  // this 相当于self\n",
    "    }\n",
    "    \n",
    "};\n",
    "\n",
    "int main(){\n",
    "    Person person;\n",
    "    cout << \"age = \" << person.age\n",
    "         << \", name = \" << person.name\n",
    "         << \", money = \" << person.money << endl;\n",
    "    return 0;\n",
    "}"
   ]
  },
  {
   "cell_type": "markdown",
   "metadata": {},
   "source": [
    "三种权限：public(公开：共享单车)、private(私有：手机)、protected(保护：家用自行车)\n",
    "\n",
    "- private: 属性或方法不能够被子类使用\n",
    "- protected: 属性或方法可以被子类使用\n",
    "- public：可以被所有人使用\n",
    "\n",
    "注意：如果class的权限不写，默认是private"
   ]
  },
  {
   "cell_type": "raw",
   "metadata": {},
   "source": [
    "#include <iostream>\n",
    "#include <string>\n",
    "using namespace std;\n",
    "\n",
    "class Person{\n",
    "    \n",
    "    int age = 18;  // private\n",
    "private:    \n",
    "    int money = 2500;\n",
    "public:\n",
    "    string name = \"zhangsan\";\n",
    "protected:\n",
    "    int hh = 50;\n",
    "};\n",
    "\n",
    "int main(){\n",
    "    Person person;\n",
    "    cout \n",
    "//         << \"age = \" << person.age  // 报错\n",
    "         << \", name = \" << person.name\n",
    "//          << \", money = \" << person.money  // 报错\n",
    "//          << \", hh = \"<<  person.hh  // 报错\n",
    "        << endl;\n",
    "    return 0;\n",
    "}"
   ]
  },
  {
   "cell_type": "markdown",
   "metadata": {},
   "source": [
    "刚刚提到子类，想到子类就有继承的关系，对于C++来说，其类之间的继承如下：\n",
    "\n",
    "- 定义Animal类（父类）\n",
    "- 定义Cat类(子类)，用来继承Animal类"
   ]
  },
  {
   "cell_type": "raw",
   "metadata": {},
   "source": [
    "#include <iostream>\n",
    "#include <string>\n",
    "using namespace std;\n",
    "\n",
    "class Animal{\n",
    "public :\n",
    "    Animal(string name, int age){\n",
    "        this->name = name;  // 类似于：self.name = name\n",
    "        this->age = age;  // self.age = age\n",
    "    }\n",
    "protected:\n",
    "    int age{18};\n",
    "    string name{\"Animal\"};\n",
    "};\n",
    "\n",
    "\n",
    "class Cat : public Animal{\n",
    "public:\n",
    "    Cat():Animal(\"Cat\", 5){}\n",
    "    \n",
    "    void echo(){\n",
    "        cout << name << \", \" << age << endl;\n",
    "    }\n",
    "    \n",
    "};\n",
    "\n",
    "int main(){\n",
    "    Cat cat;\n",
    "    cat.echo();\n",
    "    return 0;\n",
    "}"
   ]
  },
  {
   "cell_type": "markdown",
   "metadata": {},
   "source": [
    "ERROR"
   ]
  },
  {
   "cell_type": "raw",
   "metadata": {},
   "source": [
    "#include <iostream>\n",
    "#include <string>\n",
    "using namespace std;\n",
    "\n",
    "class Animal{\n",
    "protected:\n",
    "    int age{18};\n",
    "    string name{\"Animal\"};\n",
    "public:\n",
    "    Animal(string name, int age){\n",
    "        this->name = name;  // self.name = name\n",
    "        this->age = age;\n",
    "    }\n",
    "};\n",
    "\n",
    "class Cat: public Animal{\n",
    "public:\n",
    "    Cat()：Animal(\"Cat\", 5){}\n",
    "    \n",
    "    void echo(){\n",
    "        cout << name << \", \" << age << endl;\n",
    "    }\n",
    "};\n",
    "\n",
    "int main(){\n",
    "    Cat cat;\n",
    "    cat.echo();\n",
    "    return 0;\n",
    "}\n"
   ]
  },
  {
   "cell_type": "markdown",
   "metadata": {},
   "source": [
    "---"
   ]
  },
  {
   "cell_type": "markdown",
   "metadata": {},
   "source": [
    "### C++ 模板\n",
    "\n",
    "- 模板是泛型编程的基础\n",
    "- 泛型编程：一种独立于任何特定类型方式编写代码\n",
    "- 泛型： 利用一个符号来泛指所有类型"
   ]
  },
  {
   "cell_type": "markdown",
   "metadata": {},
   "source": [
    "举个例子：定义一个函数，返回最大值"
   ]
  },
  {
   "cell_type": "raw",
   "metadata": {},
   "source": [
    "int max(int x, int y){\n",
    "    return x < y ? y : x;\n",
    "}"
   ]
  },
  {
   "cell_type": "markdown",
   "metadata": {},
   "source": [
    "- 上面的例子中，参数类型可能不仅仅是int，还可能是其他的类型\n",
    "- 我们可以选择通过函数重载进行实现"
   ]
  },
  {
   "cell_type": "raw",
   "metadata": {},
   "source": [
    "int max(int x, int y){\n",
    "    return x < y ? y : x\n",
    "}\n",
    "\n",
    "double max(double x, double y){\n",
    "    return x < y ? y : x\n",
    "}\n",
    "\n",
    "float max(float x, float y){\n",
    "    return x < y ? y : x\n",
    "}"
   ]
  },
  {
   "cell_type": "markdown",
   "metadata": {},
   "source": [
    "我们不难发现：函数重载写起来十分繁琐，仅仅是修改了一个类型，却要为新的类型重写一个函数\n",
    "- 如果我们想要覆盖所有目标的类型，就需要为每个类型写一个重载版本\n",
    "- 如果函数功能要稍作变动，就得为每个版本加上同样的改动"
   ]
  },
  {
   "cell_type": "markdown",
   "metadata": {},
   "source": [
    "为此，使用模板就可以轻松的搞定这个问题"
   ]
  },
  {
   "cell_type": "raw",
   "metadata": {},
   "source": [
    "template <typename T>  // 表示这个是一个模板\n",
    "T max(T x, T y)  // T 代表的是泛指任意的类型， 具体类型可以在调用的时候进行指定\n",
    "{\n",
    "    return x < y ? y : x;\n",
    "}"
   ]
  },
  {
   "cell_type": "markdown",
   "metadata": {},
   "source": [
    "举例"
   ]
  },
  {
   "cell_type": "raw",
   "metadata": {},
   "source": [
    "#include <iostream>\n",
    "using namespace std;\n",
    "\n",
    "template <typename T>\n",
    "T maxs(T x, T y){\n",
    "    return x < y ? y : x;\n",
    "}\n",
    "\n",
    "int main(){\n",
    "    int a = maxs<int>(10, 20);\n",
    "    double b = maxs<double>(1.2, 1.3);\n",
    "    cout << a << \" ,\" << b << endl;\n",
    "}"
   ]
  },
  {
   "cell_type": "markdown",
   "metadata": {},
   "source": [
    "上述介绍的是针对于函数的模板，对于类是否有模板呢？答案是肯定的"
   ]
  },
  {
   "cell_type": "markdown",
   "metadata": {},
   "source": [
    "类模板的定义如下："
   ]
  },
  {
   "cell_type": "raw",
   "metadata": {},
   "source": [
    "template<类型参数表>\n",
    "class 类模板名{\n",
    "    成员函数和成员变量\n",
    "};"
   ]
  },
  {
   "cell_type": "markdown",
   "metadata": {},
   "source": [
    "举例：不使用类模板"
   ]
  },
  {
   "cell_type": "raw",
   "metadata": {},
   "source": [
    "#include <iostream>\n",
    "using namespace std;\n",
    "\n",
    "class Compare{\n",
    "    private:\n",
    "        int x;\n",
    "        int y;\n",
    "    public:\n",
    "        Compare(int a, int b){ // 构造函数，用于初始化\n",
    "            x = a;\n",
    "            y = b;\n",
    "        }\n",
    "        int max(){ // 求较大值\n",
    "            return x > y ? x : y;\n",
    "        }\n",
    "        int min(){ // 求最小值\n",
    "            return x < y ? x : y;\n",
    "        }\n",
    "};\n",
    "\n",
    "int main(){\n",
    "    Compare compare(3, 5);\n",
    "    cout << compare.max() << endl;\n",
    "    cout << compare.min() << endl;\n",
    "}"
   ]
  },
  {
   "cell_type": "markdown",
   "metadata": {},
   "source": [
    "举例：使用类模板"
   ]
  },
  {
   "cell_type": "raw",
   "metadata": {},
   "source": [
    "#include <iostream>\n",
    "using namespace std;\n",
    "\n",
    "template <class Type>\n",
    "class Compare{\n",
    "    private:\n",
    "        Type x;\n",
    "        Type y;\n",
    "    public:\n",
    "        Compare(Type a, Type b){ // 构造函数，用于初始化\n",
    "            x = a;\n",
    "            y = b;\n",
    "        }\n",
    "        Type max(){ // 求较大值\n",
    "            return x > y ? x : y;\n",
    "        }\n",
    "        Type min(){ // 求最小值\n",
    "            return x < y ? x : y;\n",
    "        }\n",
    "};\n",
    "\n",
    "int main(){\n",
    "    Compare<int> compare1(3, 5);  // 整型\n",
    "    cout << compare1.max() << endl;\n",
    "    cout << compare1.min() << endl;\n",
    "    \n",
    "    Compare<double> compare2(3.9, 5.8);  // 双精度浮点型\n",
    "    cout << compare2.max() << endl;\n",
    "    cout << compare2.min() << endl;\n",
    "}"
   ]
  }
 ],
 "metadata": {
  "kernelspec": {
   "display_name": "Python 3",
   "language": "python",
   "name": "python3"
  },
  "language_info": {
   "codemirror_mode": {
    "name": "ipython",
    "version": 3
   },
   "file_extension": ".py",
   "mimetype": "text/x-python",
   "name": "python",
   "nbconvert_exporter": "python",
   "pygments_lexer": "ipython3",
   "version": "3.8.5"
  }
 },
 "nbformat": 4,
 "nbformat_minor": 4
}
