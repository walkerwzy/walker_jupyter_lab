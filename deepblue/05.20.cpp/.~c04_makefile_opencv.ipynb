{
 "cells": [
  {
   "cell_type": "markdown",
   "metadata": {},
   "source": [
    "### Makefile"
   ]
  },
  {
   "cell_type": "markdown",
   "metadata": {},
   "source": [
    "c++ 文件编译的三个流程\n",
    "1. 编译：把cpp变为s文件 汇编代码  ： g++ -S a.cpp -o a.s\n",
    "2. 汇编：把s汇编代码 变为二进制代码：g++ -c a.s -o a.o\n",
    "3. 链接: 被二进制代码变为可执行代码：g++ a.o -o a.bin"
   ]
  },
  {
   "cell_type": "markdown",
   "metadata": {},
   "source": [
    "通常我们不生成s文件，直接生成二进制文件，然后进行链接\n",
    "- g++ -c c.cpp -o c.o\n",
    "- g++ c.o -o c.bin\n",
    "- ./c.bin"
   ]
  },
  {
   "cell_type": "markdown",
   "metadata": {},
   "source": [
    "1. 创建a.cpp 和 b.cpp文件\n",
    "2. g++ -c a.cpp -o a.o\n",
    "3. g++ -c b.cpp -o b.o\n",
    "4. g++ a.o b.o -o exe.bin\n",
    "5. ./exe.bin"
   ]
  },
  {
   "cell_type": "markdown",
   "metadata": {},
   "source": [
    "---"
   ]
  },
  {
   "cell_type": "markdown",
   "metadata": {},
   "source": [
    "创建一个脚本文件(build.sh)进行处理命令"
   ]
  },
  {
   "cell_type": "raw",
   "metadata": {},
   "source": [
    "#!/bin/bash\n",
    "\n",
    "g++ -c a.cpp -o a.o\n",
    "g++ -c b.cpp -o b.o\n",
    "g++ a.o b.o -o exe.bin\n",
    "echo finished"
   ]
  },
  {
   "cell_type": "markdown",
   "metadata": {},
   "source": [
    "执行脚本文件: bash build.sh "
   ]
  },
  {
   "cell_type": "markdown",
   "metadata": {},
   "source": [
    "上述是基于g++进行cpp代码的编译工作的， 不难看出其中的问题\n",
    "- 文件少的时候，使用g++可以进行编译，但是文件多的时候不好，管理起来很复杂\n",
    "- 使用g++进行编译的时候，如果某个文件进行了修改，我们还需要将当前的文件进行编译， 编译后还需要链接操作\n",
    "\n",
    "所以修改一个文件，对其进行修改后，后续的操作比较麻烦\n",
    "\n",
    "那能不能有一种工具能够自动的识别出我所修改的文件，并可以自动的进行编译呢？"
   ]
  },
  {
   "cell_type": "markdown",
   "metadata": {},
   "source": [
    "---"
   ]
  },
  {
   "cell_type": "markdown",
   "metadata": {},
   "source": [
    "#### Makefile(70%)"
   ]
  },
  {
   "cell_type": "markdown",
   "metadata": {},
   "source": [
    "创建一个新的以Makefile为名字的文件"
   ]
  },
  {
   "cell_type": "raw",
   "metadata": {},
   "source": [
    "demo:\n",
    "\techo hello cpp1\n",
    "\t@echo hello cpp2"
   ]
  },
  {
   "cell_type": "markdown",
   "metadata": {},
   "source": [
    "执行Makefile文件命令: make"
   ]
  },
  {
   "cell_type": "raw",
   "metadata": {},
   "source": [
    "name := zhangsan\n",
    "demo:\n",
    "\t@echo hello ${name}"
   ]
  },
  {
   "cell_type": "markdown",
   "metadata": {},
   "source": [
    "make demo2"
   ]
  },
  {
   "cell_type": "raw",
   "metadata": {},
   "source": [
    "name := zhangsan\n",
    "demo:\n",
    "\t@echo hello ${name}\n",
    "\n",
    "demo2:\n",
    "\t@echo hello demo2"
   ]
  },
  {
   "cell_type": "markdown",
   "metadata": {},
   "source": [
    "Makefile的三个区域\n",
    "- 变量定义区\n",
    "- 依赖关系区：生成项：依赖项1 依赖项2 依赖项3\n",
    "- 指令区，执行shell指令"
   ]
  },
  {
   "cell_type": "raw",
   "metadata": {},
   "source": [
    "# 变量定义区：只有字符串类型\n",
    "name := zhangsan\n",
    "\n",
    "# 依赖关系区\n",
    "demo:  \n",
    "\t@echo hello ${name}  # 指令区\n",
    "\n",
    "demo2:\n",
    "\t@echo hello demo2"
   ]
  },
  {
   "cell_type": "markdown",
   "metadata": {},
   "source": [
    "依赖关系区\n",
    "\n",
    "生成项：依赖项1 依赖项2 ...\n",
    "\n",
    "执行完依赖项后，才可以执行生成项"
   ]
  },
  {
   "cell_type": "raw",
   "metadata": {},
   "source": [
    "name1 := demo1\n",
    "name2 := demo2\n",
    "demo1:demo2\n",
    "\t@echo hello ${name1}\n",
    "\n",
    "demo2:\n",
    "\t@echo hello ${name2}"
   ]
  },
  {
   "cell_type": "markdown",
   "metadata": {},
   "source": [
    "使用Makefile执行g++的程序"
   ]
  },
  {
   "cell_type": "raw",
   "metadata": {},
   "source": [
    "exe.bin : a.o b.o\n",
    "\t@g++ a.o b.o -o exe.bin\n",
    "    @./exe.bin\n",
    "\n",
    "a.o : a.cpp\n",
    "\t@g++ -c a.cpp -o a.o\n",
    "\n",
    "b.o : b.cpp\n",
    "\t@g++ -c b.cpp -o b.o"
   ]
  },
  {
   "cell_type": "markdown",
   "metadata": {},
   "source": [
    "一次性删除编译后的文件"
   ]
  },
  {
   "cell_type": "markdown",
   "metadata": {},
   "source": [
    "make clean"
   ]
  },
  {
   "cell_type": "raw",
   "metadata": {},
   "source": [
    "exe.bin : a.o b.o\n",
    "\t@g++ a.o b.o -o exe.bin\n",
    "\t@./exe.bin\n",
    "\n",
    "a.o : a.cpp\n",
    "\t@g++ -c a.cpp -o a.o\n",
    "\n",
    "b.o : b.cpp\n",
    "\t@g++ -c b.cpp -o b.o\n",
    "\n",
    "clean:\n",
    "\t@rm *.o exe.bin"
   ]
  },
  {
   "cell_type": "markdown",
   "metadata": {},
   "source": [
    "但是还是有一个问题，如果有100个cpp文件，我们还是需要写很多行，很麻烦\n",
    "\n",
    "为此我们可以更改如下："
   ]
  },
  {
   "cell_type": "raw",
   "metadata": {},
   "source": [
    "exe.bin : a.o b.o\n",
    "\t@g++ a.o b.o -o exe.bin\n",
    "\t@./exe.bin\n",
    "\n",
    "%.o : %.cpp\n",
    "\t@g++ -c $< -o $@\n",
    "\n",
    "clean:\n",
    "\t@rm *.o exe.bin"
   ]
  },
  {
   "cell_type": "markdown",
   "metadata": {},
   "source": [
    "固定语法\n",
    "\n",
    "- %: 是通配符，能够通过依赖项主动进行查找\n",
    "\n",
    "- $<：相对于cpp文件(功能：取第一个依赖项)\n",
    "\n",
    "- $@：相对于o文件(功能：取生成项)"
   ]
  },
  {
   "cell_type": "markdown",
   "metadata": {},
   "source": [
    "但是  exe.bin : a.o b.o ，如果有多个.o文件，我们还需要写多个，也是很麻烦\n",
    "\n",
    "所以能不能获取到当前目录文件下所有的cpp或者o文件呢？答案是可以的\n",
    "\n",
    "命令如下："
   ]
  },
  {
   "cell_type": "raw",
   "metadata": {},
   "source": [
    "cpps := ${shell find ./ -name \"*.cpp\"}\n",
    "\n",
    "demo:\n",
    "\t@echo ${cpps}"
   ]
  },
  {
   "cell_type": "markdown",
   "metadata": {},
   "source": [
    "结果如下：\n",
    "\n",
    "./b.cpp ./a.cpp"
   ]
  },
  {
   "cell_type": "markdown",
   "metadata": {},
   "source": [
    "但是，我们需要的是o文件，而不是cpp文件\n",
    "\n",
    "为此，我们需要makefile中的一个替换的语法：patsubst src, dst, list"
   ]
  },
  {
   "cell_type": "raw",
   "metadata": {},
   "source": [
    "cpps := ${shell find ./ -name \"*.cpp\"}\n",
    "objs := ${patsubst %.cpp, %.o, $(cpps)}\n",
    "\n",
    "demo:\n",
    "\t@echo ${objs}"
   ]
  },
  {
   "cell_type": "markdown",
   "metadata": {},
   "source": [
    "得到的结果如下：\n",
    "\n",
    "./b.o ./a.o"
   ]
  },
  {
   "cell_type": "markdown",
   "metadata": {},
   "source": [
    "将上述方法带入"
   ]
  },
  {
   "cell_type": "raw",
   "metadata": {},
   "source": [
    "cpps := ${shell find ./ -name \"*.cpp\"}\n",
    "objs := ${patsubst %.cpp, %.o, $(cpps)}\n",
    "\n",
    "exe.bin : ${objs}\n",
    "\t@g++ $^ -o exe.bin\n",
    "\t@./exe.bin\n",
    "\n",
    "%.o : %.cpp\n",
    "\t@g++ -c $< -o $@\n",
    "\n",
    "clean:\n",
    "\t@rm *.o exe.bin"
   ]
  },
  {
   "cell_type": "markdown",
   "metadata": {},
   "source": [
    "- $^：取所有的依赖项"
   ]
  },
  {
   "cell_type": "markdown",
   "metadata": {},
   "source": [
    "最终得到的Makefile编译程序如下："
   ]
  },
  {
   "cell_type": "raw",
   "metadata": {},
   "source": [
    "cpps := ${shell find ./ -name \"*.cpp\"}\n",
    "objs := ${patsubst %.cpp, %.o, $(cpps)}\n",
    "\n",
    "exe.bin : ${objs}\n",
    "\t@g++ $^ -o $@\n",
    "\t@./$@\n",
    "\n",
    "%.o : %.cpp\n",
    "\t@g++ -c $< -o $@\n",
    "\n",
    "clean:\n",
    "\t@rm *.o exe.bin"
   ]
  },
  {
   "cell_type": "markdown",
   "metadata": {},
   "source": [
    "Makefile工程配置"
   ]
  },
  {
   "cell_type": "markdown",
   "metadata": {},
   "source": [
    "1. 创建src文件，用来存储cpp文件\n",
    "2. 创建objs文件，用来存储o文件\n",
    "3. 创建Makefile文件，在src和objs目录下"
   ]
  },
  {
   "cell_type": "raw",
   "metadata": {},
   "source": [
    "src_directory := src\n",
    "objs_directory := objs\n",
    "\n",
    "srcs := ${shell find $(src_directory) -name \"*.cpp\"}\n",
    "objs := ${patsubst %.cpp, %.o, $(srcs)}\n",
    "objs := $(subst $(src_directory)/, $(objs_directory)/, $(objs))\n",
    "\n",
    "pro : $(objs)\n",
    "\t@g++ $^ -o $@\n",
    "\t@./$@\n",
    "\n",
    "$(objs_directory)/%.o : $(src_directory)/%.cpp\n",
    "\t@g++ -c $< -o $@"
   ]
  },
  {
   "cell_type": "markdown",
   "metadata": {},
   "source": [
    "---"
   ]
  },
  {
   "cell_type": "markdown",
   "metadata": {},
   "source": [
    "#### debug调试（VS）"
   ]
  },
  {
   "cell_type": "markdown",
   "metadata": {},
   "source": [
    "1. 安装gdb ： apt install gdb\n",
    "2. 点击：运行-->添加配置-->得到launch文件\n",
    "3. 点击：终端-->配置默认生成任务-->得到task文件\n",
    "4. 将launch文件和task文件修改为下面内容"
   ]
  },
  {
   "cell_type": "markdown",
   "metadata": {},
   "source": [
    "launch文件"
   ]
  },
  {
   "cell_type": "raw",
   "metadata": {},
   "source": [
    "{\n",
    "  // 使用 IntelliSense 了解相关属性。 \n",
    "  // 悬停以查看现有属性的描述。\n",
    "  // 欲了解更多信息，请访问: https://go.microsoft.com/fwlink/?linkid=830387\n",
    "  \"version\": \"0.2.0\",\n",
    "  \"configurations\": [\n",
    "      \n",
    "      {\n",
    "          \"name\": \"g++ - 生成和调试活动文件\",\n",
    "          \"type\": \"cppdbg\",\n",
    "          \"request\": \"launch\",\n",
    "          \"program\": \"${workspaceFolder}/pro\",\n",
    "          \"stopAtEntry\": false,\n",
    "          \"cwd\": \"${workspaceFolder}\",\n",
    "          \"environment\": [],\n",
    "          \"externalConsole\": false,\n",
    "          \"MIMode\": \"gdb\",\n",
    "          \"setupCommands\": [\n",
    "              {\n",
    "                  \"description\": \"为 gdb 启用整齐打印\",\n",
    "                  \"text\": \"-enable-pretty-printing\",\n",
    "                  \"ignoreFailures\": true\n",
    "              }\n",
    "          ],\n",
    "          \"preLaunchTask\": \"build\",\n",
    "          \"miDebuggerPath\": \"/usr/bin/gdb\"\n",
    "      }\n",
    "  ]\n",
    "}"
   ]
  },
  {
   "cell_type": "markdown",
   "metadata": {},
   "source": [
    "task文件"
   ]
  },
  {
   "cell_type": "raw",
   "metadata": {},
   "source": [
    "{\n",
    "    \"tasks\": [\n",
    "        {\n",
    "            \"type\": \"shell\",\n",
    "            \"label\": \"build\",\n",
    "            \"command\": \"make pro\",\n",
    "            \"options\": {\n",
    "                \"cwd\": \"${workspaceFolder}\"\n",
    "            }\n",
    "        }\n",
    "    ],\n",
    "    \"version\": \"2.0.0\"\n",
    "}"
   ]
  },
  {
   "cell_type": "markdown",
   "metadata": {},
   "source": [
    "运行F5 调试启动成功"
   ]
  },
  {
   "cell_type": "markdown",
   "metadata": {},
   "source": [
    "---"
   ]
  },
  {
   "cell_type": "markdown",
   "metadata": {},
   "source": [
    "#### OpenCV在Linux的编译流程(了解)\n",
    "\n",
    "较好的安装教程：https://blog.csdn.net/solomon1558/article/details/51967280"
   ]
  },
  {
   "cell_type": "markdown",
   "metadata": {},
   "source": [
    "一、安装\n",
    "1. 安装cmake及一些依赖库\n",
    "- sudo apt-get install cmake\n",
    "- sudo apt-get install build-essential libgtk2.0-dev libavcodec-dev\n",
    "- libavformat-dev libjpeg.dev libtiff4.dev libswscale-dev libjasper-dev\n",
    " \n",
    "2. 安装OpenCV\n",
    "- 下载：wget https://github.com/opencv/opencv/archive/4.3.0.zip\n",
    "- 解压：unzip opencv-4.3.0.zip\n",
    "- 执行\n",
    "    - cmake .\n",
    "    - sudo make\n",
    "    - sudo makeinstall\n",
    " \n",
    "二、配置\n",
    "1. 将opencv的库加入到路径，从而让系统可以找到\n",
    "- sudo gedit /etc/ld.so.conf.d/opencv.conf 末尾加入 /usr/local/lib，保存退出\n",
    "- sudo ldconfig #使配置生效\n",
    "\n",
    "- sudo gedit /etc/bash.bashrc 末尾加入\n",
    "    - PKG_CONFIG_PATH=$PKG_CONFIG_PATH:/usr/local/lib/pkgconfig\n",
    "    - export PKG_CONFIG_PATH\n",
    "保存退出\n",
    "sudo source /etc/bash.bashrc  #使配置生效\n",
    " \n",
    "sudo updatedb #更新database\n",
    " \n",
    "三、测试使用\n",
    "\n",
    "- 打开opencv4.3.0目录下的sample/c\n",
    "\n",
    "#build\n",
    "\n",
    "./build_all.sh\n",
    "\n",
    "使用下面的一个sample进行测试\n",
    "\n",
    "./find_obj"
   ]
  },
  {
   "cell_type": "markdown",
   "metadata": {},
   "source": [
    "---"
   ]
  }
 ],
 "metadata": {
  "kernelspec": {
   "display_name": "torch1.5",
   "language": "python",
   "name": "torch1.5"
  },
  "language_info": {
   "codemirror_mode": {
    "name": "ipython",
    "version": 3
   },
   "file_extension": ".py",
   "mimetype": "text/x-python",
   "name": "python",
   "nbconvert_exporter": "python",
   "pygments_lexer": "ipython3",
   "version": "3.7.7"
  }
 },
 "nbformat": 4,
 "nbformat_minor": 4
}
