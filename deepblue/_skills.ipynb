{
 "cells": [
  {
   "cell_type": "markdown",
   "id": "0728f81f-1dcf-4559-874d-aafce6ea3838",
   "metadata": {},
   "source": [
    "### 任意位置显示变量"
   ]
  },
  {
   "cell_type": "code",
   "execution_count": 2,
   "id": "78ccdc5d-05a3-4d75-b1df-b8b579124ebb",
   "metadata": {},
   "outputs": [],
   "source": [
    "from IPython.core.interactiveshell import InteractiveShell\n",
    "InteractiveShell.ast_node_interactivity = \"all\""
   ]
  },
  {
   "cell_type": "markdown",
   "id": "ff740b3e-7bd2-47fc-a047-878c3fe8a1ad",
   "metadata": {},
   "source": [
    "### 加了lsp插件后，`alt+click`可以跳转到定义， `alt+o`跳回"
   ]
  },
  {
   "cell_type": "markdown",
   "id": "6be4e9fa-1de9-454a-abd3-a89a15d4ee03",
   "metadata": {
    "tags": []
   },
   "source": [
    "### IPython Magic - 时间"
   ]
  },
  {
   "cell_type": "code",
   "execution_count": 7,
   "id": "fd22353e-43bb-45a6-9d50-c515f870b202",
   "metadata": {},
   "outputs": [
    {
     "name": "stdout",
     "output_type": "stream",
     "text": [
      "CPU times: user 8.4 ms, sys: 16.8 ms, total: 25.2 ms\n",
      "Wall time: 1.28 s\n"
     ]
    }
   ],
   "source": [
    "%%time\n",
    "import time\n",
    "for _ in range(1000):\n",
    "   time.sleep(0.001)"
   ]
  },
  {
   "cell_type": "markdown",
   "id": "429778a2-978c-4166-b425-6e2563ad7d47",
   "metadata": {},
   "source": [
    "### IPython Magic - %% writefile和％pycat：导出单元格的内容/显示外部脚本的内容"
   ]
  },
  {
   "cell_type": "code",
   "execution_count": 11,
   "id": "6f1bb6f7-47c8-48ac-b8e9-cadd033d8929",
   "metadata": {},
   "outputs": [
    {
     "name": "stdout",
     "output_type": "stream",
     "text": [
      "Writing __demo.py\n"
     ]
    }
   ],
   "source": [
    "%%writefile __demo.py\n",
    "\n",
    "import numpy\n",
    "def append_if_not_exists(arr, x):\n",
    "   if x not in arr:\n",
    "       arr.append(x)\n",
    "\n",
    "def some_useless_slow_function():\n",
    "   arr = list()\n",
    "   for i in range(10000):\n",
    "       x = numpy.random.randint(0, 10000)\n",
    "       append_if_not_exists(arr, x)"
   ]
  },
  {
   "cell_type": "code",
   "execution_count": 9,
   "id": "93e9eb22-8292-4d95-a674-fd996472e2d4",
   "metadata": {},
   "outputs": [
    {
     "data": {
      "text/plain": [
       "\u001b[0;34m\u001b[0m\n",
       "\u001b[0;34m\u001b[0m\u001b[0;32mimport\u001b[0m \u001b[0mnumpy\u001b[0m\u001b[0;34m\u001b[0m\n",
       "\u001b[0;34m\u001b[0m\u001b[0;32mdef\u001b[0m \u001b[0mappend_if_not_exists\u001b[0m\u001b[0;34m(\u001b[0m\u001b[0marr\u001b[0m\u001b[0;34m,\u001b[0m \u001b[0mx\u001b[0m\u001b[0;34m)\u001b[0m\u001b[0;34m:\u001b[0m\u001b[0;34m\u001b[0m\n",
       "\u001b[0;34m\u001b[0m   \u001b[0;32mif\u001b[0m \u001b[0mx\u001b[0m \u001b[0;32mnot\u001b[0m \u001b[0;32min\u001b[0m \u001b[0marr\u001b[0m\u001b[0;34m:\u001b[0m\u001b[0;34m\u001b[0m\n",
       "\u001b[0;34m\u001b[0m       \u001b[0marr\u001b[0m\u001b[0;34m.\u001b[0m\u001b[0mappend\u001b[0m\u001b[0;34m(\u001b[0m\u001b[0mx\u001b[0m\u001b[0;34m)\u001b[0m\u001b[0;34m\u001b[0m\n",
       "\u001b[0;34m\u001b[0m\u001b[0;34m\u001b[0m\n",
       "\u001b[0;34m\u001b[0m\u001b[0;32mdef\u001b[0m \u001b[0msome_useless_slow_function\u001b[0m\u001b[0;34m(\u001b[0m\u001b[0;34m)\u001b[0m\u001b[0;34m:\u001b[0m\u001b[0;34m\u001b[0m\n",
       "\u001b[0;34m\u001b[0m   \u001b[0marr\u001b[0m \u001b[0;34m=\u001b[0m \u001b[0mlist\u001b[0m\u001b[0;34m(\u001b[0m\u001b[0;34m)\u001b[0m\u001b[0;34m\u001b[0m\n",
       "\u001b[0;34m\u001b[0m   \u001b[0;32mfor\u001b[0m \u001b[0mi\u001b[0m \u001b[0;32min\u001b[0m \u001b[0mrange\u001b[0m\u001b[0;34m(\u001b[0m\u001b[0;36m10000\u001b[0m\u001b[0;34m)\u001b[0m\u001b[0;34m:\u001b[0m\u001b[0;34m\u001b[0m\n",
       "\u001b[0;34m\u001b[0m       \u001b[0mx\u001b[0m \u001b[0;34m=\u001b[0m \u001b[0mnumpy\u001b[0m\u001b[0;34m.\u001b[0m\u001b[0mrandom\u001b[0m\u001b[0;34m.\u001b[0m\u001b[0mrandint\u001b[0m\u001b[0;34m(\u001b[0m\u001b[0;36m0\u001b[0m\u001b[0;34m,\u001b[0m \u001b[0;36m10000\u001b[0m\u001b[0;34m)\u001b[0m\u001b[0;34m\u001b[0m\n",
       "\u001b[0;34m\u001b[0m       \u001b[0mappend_if_not_exists\u001b[0m\u001b[0;34m(\u001b[0m\u001b[0marr\u001b[0m\u001b[0;34m,\u001b[0m \u001b[0mx\u001b[0m\u001b[0;34m)\u001b[0m\u001b[0;34m\u001b[0m\u001b[0;34m\u001b[0m\u001b[0m\n"
      ]
     },
     "metadata": {},
     "output_type": "display_data"
    }
   ],
   "source": [
    "%pycat __demo.py"
   ]
  },
  {
   "cell_type": "markdown",
   "id": "2867e324-78eb-4629-aff1-0408fe1313f4",
   "metadata": {},
   "source": [
    "### IPython Magic - %prun: Show how much time your program spent in each function."
   ]
  },
  {
   "cell_type": "code",
   "execution_count": 21,
   "id": "f0885c44-777c-4d19-b956-c869a05697ce",
   "metadata": {},
   "outputs": [
    {
     "name": "stdout",
     "output_type": "stream",
     "text": [
      " "
     ]
    },
    {
     "data": {
      "text/plain": [
       "         3 function calls in 0.000 seconds\n",
       "\n",
       "   Ordered by: internal time\n",
       "\n",
       "   ncalls  tottime  percall  cumtime  percall filename:lineno(function)\n",
       "        1    0.000    0.000    0.000    0.000 {built-in method builtins.exec}\n",
       "        1    0.000    0.000    0.000    0.000 <string>:1(<module>)\n",
       "        1    0.000    0.000    0.000    0.000 {method 'disable' of '_lsprof.Profiler' objects}"
      ]
     },
     "metadata": {},
     "output_type": "display_data"
    }
   ],
   "source": [
    "%prun\n",
    "\n",
    "import time\n",
    "\n",
    "def some_useless_slow_function():\n",
    "    for _ in range(1000):\n",
    "       time.sleep(0.001)\n",
    "\n",
    "some_useless_slow_function()"
   ]
  },
  {
   "cell_type": "markdown",
   "id": "f7dba5db-13d2-4c0c-b71f-3f3f028e4185",
   "metadata": {},
   "source": [
    "### IPython Magic - 用％pdb进行调试"
   ]
  },
  {
   "cell_type": "code",
   "execution_count": 24,
   "id": "fe23bc02-09fb-47d7-9390-31571912ab17",
   "metadata": {},
   "outputs": [
    {
     "name": "stdout",
     "output_type": "stream",
     "text": [
      "Automatic pdb calling has been turned ON\n"
     ]
    },
    {
     "ename": "NotImplementedError",
     "evalue": "",
     "output_type": "error",
     "traceback": [
      "\u001b[0;31m---------------------------------------------------------------------------\u001b[0m",
      "\u001b[0;31mNotImplementedError\u001b[0m                       Traceback (most recent call last)",
      "\u001b[0;32m<ipython-input-24-d43778802158>\u001b[0m in \u001b[0;36m<module>\u001b[0;34m\u001b[0m\n\u001b[1;32m      5\u001b[0m    \u001b[0;32mraise\u001b[0m \u001b[0mNotImplementedError\u001b[0m\u001b[0;34m(\u001b[0m\u001b[0;34m)\u001b[0m\u001b[0;34m\u001b[0m\u001b[0;34m\u001b[0m\u001b[0m\n\u001b[1;32m      6\u001b[0m \u001b[0;34m\u001b[0m\u001b[0m\n\u001b[0;32m----> 7\u001b[0;31m \u001b[0mpick_and_take\u001b[0m\u001b[0;34m(\u001b[0m\u001b[0;34m)\u001b[0m\u001b[0;34m\u001b[0m\u001b[0;34m\u001b[0m\u001b[0m\n\u001b[0m",
      "\u001b[0;32m<ipython-input-24-d43778802158>\u001b[0m in \u001b[0;36mpick_and_take\u001b[0;34m()\u001b[0m\n\u001b[1;32m      3\u001b[0m \u001b[0;32mdef\u001b[0m \u001b[0mpick_and_take\u001b[0m\u001b[0;34m(\u001b[0m\u001b[0;34m)\u001b[0m\u001b[0;34m:\u001b[0m\u001b[0;34m\u001b[0m\u001b[0;34m\u001b[0m\u001b[0m\n\u001b[1;32m      4\u001b[0m    \u001b[0mpicked\u001b[0m \u001b[0;34m=\u001b[0m \u001b[0mnumpy\u001b[0m\u001b[0;34m.\u001b[0m\u001b[0mrandom\u001b[0m\u001b[0;34m.\u001b[0m\u001b[0mrandint\u001b[0m\u001b[0;34m(\u001b[0m\u001b[0;36m0\u001b[0m\u001b[0;34m,\u001b[0m \u001b[0;36m1000\u001b[0m\u001b[0;34m)\u001b[0m\u001b[0;34m\u001b[0m\u001b[0;34m\u001b[0m\u001b[0m\n\u001b[0;32m----> 5\u001b[0;31m    \u001b[0;32mraise\u001b[0m \u001b[0mNotImplementedError\u001b[0m\u001b[0;34m(\u001b[0m\u001b[0;34m)\u001b[0m\u001b[0;34m\u001b[0m\u001b[0;34m\u001b[0m\u001b[0m\n\u001b[0m\u001b[1;32m      6\u001b[0m \u001b[0;34m\u001b[0m\u001b[0m\n\u001b[1;32m      7\u001b[0m \u001b[0mpick_and_take\u001b[0m\u001b[0;34m(\u001b[0m\u001b[0;34m)\u001b[0m\u001b[0;34m\u001b[0m\u001b[0;34m\u001b[0m\u001b[0m\n",
      "\u001b[0;31mNotImplementedError\u001b[0m: "
     ]
    },
    {
     "name": "stdout",
     "output_type": "stream",
     "text": [
      "> \u001b[0;32m<ipython-input-24-d43778802158>\u001b[0m(5)\u001b[0;36mpick_and_take\u001b[0;34m()\u001b[0m\n",
      "\u001b[0;32m      3 \u001b[0;31m\u001b[0;32mdef\u001b[0m \u001b[0mpick_and_take\u001b[0m\u001b[0;34m(\u001b[0m\u001b[0;34m)\u001b[0m\u001b[0;34m:\u001b[0m\u001b[0;34m\u001b[0m\u001b[0;34m\u001b[0m\u001b[0m\n",
      "\u001b[0m\u001b[0;32m      4 \u001b[0;31m   \u001b[0mpicked\u001b[0m \u001b[0;34m=\u001b[0m \u001b[0mnumpy\u001b[0m\u001b[0;34m.\u001b[0m\u001b[0mrandom\u001b[0m\u001b[0;34m.\u001b[0m\u001b[0mrandint\u001b[0m\u001b[0;34m(\u001b[0m\u001b[0;36m0\u001b[0m\u001b[0;34m,\u001b[0m \u001b[0;36m1000\u001b[0m\u001b[0;34m)\u001b[0m\u001b[0;34m\u001b[0m\u001b[0;34m\u001b[0m\u001b[0m\n",
      "\u001b[0m\u001b[0;32m----> 5 \u001b[0;31m   \u001b[0;32mraise\u001b[0m \u001b[0mNotImplementedError\u001b[0m\u001b[0;34m(\u001b[0m\u001b[0;34m)\u001b[0m\u001b[0;34m\u001b[0m\u001b[0;34m\u001b[0m\u001b[0m\n",
      "\u001b[0m\u001b[0;32m      6 \u001b[0;31m\u001b[0;34m\u001b[0m\u001b[0m\n",
      "\u001b[0m\u001b[0;32m      7 \u001b[0;31m\u001b[0mpick_and_take\u001b[0m\u001b[0;34m(\u001b[0m\u001b[0;34m)\u001b[0m\u001b[0;34m\u001b[0m\u001b[0;34m\u001b[0m\u001b[0m\n",
      "\u001b[0m\n"
     ]
    },
    {
     "name": "stdin",
     "output_type": "stream",
     "text": [
      "ipdb>  picked\n"
     ]
    },
    {
     "name": "stdout",
     "output_type": "stream",
     "text": [
      "541\n"
     ]
    },
    {
     "name": "stdin",
     "output_type": "stream",
     "text": [
      "ipdb>  exit\n"
     ]
    }
   ],
   "source": [
    "%pdb\n",
    "\n",
    "def pick_and_take():\n",
    "   picked = numpy.random.randint(0, 1000)\n",
    "   raise NotImplementedError()\n",
    "\n",
    "pick_and_take()"
   ]
  },
  {
   "cell_type": "markdown",
   "id": "a29500a8-67d4-425b-a52b-c4324c291bf4",
   "metadata": {},
   "source": [
    "### tar\n",
    "\n",
    "```python\n",
    "# Extract from archive\n",
    "with tarfile.open('./cifar10.tgz', 'r:gz') as tar:\n",
    "    tar.extractall(path='./data')\n",
    "```"
   ]
  },
  {
   "cell_type": "markdown",
   "id": "4981051e-31b2-4283-a198-2dc0ef48dc32",
   "metadata": {},
   "source": [
    "### useful kernels\n",
    "\n",
    "```python\n",
    "#Sobel edge detection filter\n",
    "\n",
    "k = [\n",
    "    [1, 0, -1],\n",
    "    [2, 0, -2],\n",
    "    [1, 0, -1]\n",
    "]\n",
    "```"
   ]
  },
  {
   "cell_type": "markdown",
   "id": "4e8ee391-d8b7-4135-b98d-c266d35ca207",
   "metadata": {},
   "source": [
    "### 打印固定长度的前置补零的字符串"
   ]
  },
  {
   "cell_type": "code",
   "execution_count": 1,
   "id": "b00f61d0-d818-4d12-8c1c-5f40a256f3a2",
   "metadata": {},
   "outputs": [
    {
     "name": "stdout",
     "output_type": "stream",
     "text": [
      "fake_images-30004.png\n"
     ]
    }
   ],
   "source": [
    "print('fake_images-{0}{1:0=4d}.png'.format(3,4))"
   ]
  },
  {
   "cell_type": "markdown",
   "id": "063351b9-301f-4c26-8f75-545c525ff811",
   "metadata": {},
   "source": [
    "### ...(ellipsis)\n",
    "\n",
    "给了你这样一个占位符，怎么用它看你自己，比如："
   ]
  },
  {
   "cell_type": "code",
   "execution_count": 10,
   "id": "f8fac1bf-54ed-4a30-9aba-c2c08579caee",
   "metadata": {},
   "outputs": [
    {
     "name": "stdout",
     "output_type": "stream",
     "text": [
      "index type: <class 'tuple'>\n",
      "index len: 2\n",
      ">>> Ellipsis\n",
      ">>> slice(None, None, 2)\n",
      "index type: <class 'slice'>\n",
      "index: slice(None, 0, None)\n"
     ]
    }
   ],
   "source": [
    "class Foo:\n",
    "    def __getitem__(self, index):\n",
    "        # 此处得自行解释碰到ellipsis怎么处理\n",
    "        print(f'index type: {type(index)}')\n",
    "        if isinstance(index, tuple):\n",
    "            print(f'index len: {len(index)}')\n",
    "            for m in index:\n",
    "                print('>>>', m)\n",
    "        else: print(f'index: {index}')\n",
    "        \n",
    "f = Foo()\n",
    "f[..., ::2]\n",
    "f[:0]"
   ]
  },
  {
   "cell_type": "code",
   "execution_count": null,
   "id": "c74ecd7e-881a-4797-b796-99a91322b2ff",
   "metadata": {},
   "outputs": [],
   "source": [
    "#### plt.show 参数\n",
    "plt.imshow(np.zeros((28,28)), cmap = mpl.cm.binary,\n",
    "           interpolation=\"nearest\")"
   ]
  }
 ],
 "metadata": {
  "kernelspec": {
   "display_name": "Python 3",
   "language": "python",
   "name": "python3"
  },
  "language_info": {
   "codemirror_mode": {
    "name": "ipython",
    "version": 3
   },
   "file_extension": ".py",
   "mimetype": "text/x-python",
   "name": "python",
   "nbconvert_exporter": "python",
   "pygments_lexer": "ipython3",
   "version": "3.8.5"
  }
 },
 "nbformat": 4,
 "nbformat_minor": 5
}
