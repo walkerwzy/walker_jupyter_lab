{
 "cells": [
  {
   "cell_type": "markdown",
   "metadata": {},
   "source": [
    "# Softmax Cross Entropy求导\n",
    "* 思路：\n",
    "    1. 确定预测的值Y是1x3维度，确定标签T是1x3维度。根据此描述对loss进行标量式推导，然后推广到更多情况\n",
    "    2. softmax函数，由于分母是sum（所有元素），所以对每个元素求导时，都要加上其他元素上的导数"
   ]
  },
  {
   "cell_type": "markdown",
   "metadata": {},
   "source": [
    "##\n",
    "## 考虑$\n",
    "    Y = [y_1, y_2, y_3] \\\\\n",
    "    S = e^{y_1} + e^{y_2} + e^{y_3}\n",
    "$"
   ]
  },
  {
   "cell_type": "markdown",
   "metadata": {},
   "source": [
    "##\n",
    "## $\n",
    "\\begin{align*}\n",
    "P & = softmax(Y) \\\\\n",
    "  & = [P_1, P_2, P_3]  \\\\\n",
    "  & = [e^{y_1} \\cdot \\frac{1}{S}, e^{y_2} \\cdot \\frac{1}{S}, e^{y_3} \\cdot \\frac{1}{S}]\n",
    "\\end{align*}\n",
    "$"
   ]
  },
  {
   "cell_type": "markdown",
   "metadata": {},
   "source": [
    "## 也因此有Loss定义为：\n",
    "### 标签的定义为：$T = [T_1, T_2, T_3]$，比如是onehot，label=2，则$T=[0, 0, 1]$\n",
    "### Loss的定义为：$\n",
    "\\begin{align*}\n",
    "L & = -\\frac{1}{M}\\sum_{i=1}^{M}\\sum_{k=1}^{3}{T_k^{(i)} \\ln(P_k^{(i)})} \\\\\n",
    "  & = -\\frac{1}{M}[\\ln(P_1) T_1 + \\ln(P_2) T_2 + \\ln(P_3) T_3] \\\\\n",
    "\\end{align*}\n",
    "$"
   ]
  },
  {
   "cell_type": "markdown",
   "metadata": {},
   "source": [
    "# 计算y1导数\n",
    "### 考虑$\n",
    "\\begin{align*}\n",
    "\\frac{\\delta L}{\\delta y_1} = \\frac{\\delta L}{\\delta P_1} \\cdot \\frac{\\delta P_1}{\\delta y_1} + \\frac{\\delta L}{\\delta P_2} \\cdot \\frac{\\delta P_2}{\\delta y_1} + \\frac{\\delta L}{\\delta P_3} \\cdot \\frac{\\delta P_3}{\\delta y_1}\n",
    "\\end{align*}\n",
    "$"
   ]
  },
  {
   "cell_type": "markdown",
   "metadata": {},
   "source": [
    "### \n",
    "### 这里1 $\\frac{\\delta ln(x)}{\\delta x} = \\frac{1}{x}$\n",
    "### 这里2 $\\frac{\\delta e^x}{\\delta x} = e^x$\n",
    "### 这里3 $\\frac{\\delta x^{-1}}{\\delta x} = -\\frac{1}{x^2}$\n",
    "### 这里4 $P_1 = e^{y_1} \\cdot \\frac{1}{S}$\n",
    "### 计算$\\frac{\\delta L}{\\delta P_1} \\cdot \\frac{\\delta P_1}{\\delta y_1}$部分 $\n",
    "\\begin{align*}\n",
    "\\frac{\\delta L}{\\delta P_1} & = - T_1 \\times \\frac{1}{P_1} \\\\\n",
    "\\frac{\\delta P_1}{\\delta y_1} & = \\frac{\\delta P_1}{\\delta e^{y_1}}\\frac{\\delta e^{y_1}}{y_1} + \\frac{\\delta P_1}{\\delta S}\\frac{\\delta S}{y_1} \\\\\n",
    "                              & = \\frac{1}{S} \\times e^{y_1} +  e^{y_1} \\times \\frac{-1}{S^2} \\times e^{y_1} \\\\\n",
    "                              & = P_1 - P_1^2 \\\\\n",
    "                              & = P_1(1 - P_1)\n",
    "\\end{align*}\n",
    "$"
   ]
  },
  {
   "cell_type": "markdown",
   "metadata": {},
   "source": [
    "### \n",
    "### 因此得$\n",
    "\\begin{align*}\n",
    "\\frac{\\delta L}{\\delta P_1} \\cdot \\frac{\\delta P_1}{\\delta y_1} & = -T_1 \\times \\frac{1}{P_1} \\times P_1(1 - P_1) \\\\\n",
    "                                                                & = T_1 \\times (P_1 - 1)\n",
    "\\end{align*}\n",
    "$"
   ]
  },
  {
   "cell_type": "markdown",
   "metadata": {},
   "source": [
    "---"
   ]
  },
  {
   "cell_type": "markdown",
   "metadata": {},
   "source": [
    "### \n",
    "### 这里1 $P_2 = e^{y_2} \\cdot \\frac{1}{S}$\n",
    "### 计算$\\frac{\\delta L}{\\delta P_2} \\cdot \\frac{\\delta P_2}{\\delta y_1}$部分 $\n",
    "\\begin{align*}\n",
    "\\frac{\\delta L}{\\delta P_2} & = -T_2 \\times \\frac{1}{P_2} \\\\\n",
    "\\frac{\\delta P_2}{\\delta y_1} & = \\frac{\\delta P_2}{\\delta S}\\frac{\\delta S}{y_1} \\\\\n",
    "                              & = e^{y_2} \\times \\frac{-1}{S^2} \\times e^{y_1} \\\\\n",
    "                              & = -P_2 P_1\n",
    "\\end{align*}\n",
    "$"
   ]
  },
  {
   "cell_type": "markdown",
   "metadata": {},
   "source": [
    "### \n",
    "### 因此得$\n",
    "\\begin{align*}\n",
    "\\frac{\\delta L}{\\delta P_2} \\cdot \\frac{\\delta P_2}{\\delta y_1} & = -T_2 \\times \\frac{1}{P_2} \\times -P_2 P_1 \\\\\n",
    "                                                                & = T_2 P_1\n",
    "\\end{align*}\n",
    "$"
   ]
  },
  {
   "cell_type": "markdown",
   "metadata": {},
   "source": [
    "### \n",
    "### 因此得$\n",
    "\\begin{align*}\n",
    "\\frac{\\delta L}{\\delta P_3} \\cdot \\frac{\\delta P_3}{\\delta y_1} & = -T_3 \\times \\frac{1}{P_3} \\times -P_3 P_1 \\\\\n",
    "                                                                & = T_3 P_1\n",
    "\\end{align*}\n",
    "$"
   ]
  },
  {
   "cell_type": "markdown",
   "metadata": {},
   "source": [
    "# 总结y1偏导\n",
    "### 注意这里：$T_1 + T_2 + T_3 = 1$认为所有标签的概率和为1\n",
    "### 得到最终导数值$\n",
    "\\begin{align*}\n",
    "\\frac{\\delta L}{\\delta y_1} & = \\frac{\\delta L}{\\delta P_1} \\cdot \\frac{\\delta P_1}{\\delta y_1} + \\frac{\\delta L}{\\delta P_2} \\cdot \\frac{\\delta P_2}{\\delta y_1} + \\frac{\\delta L}{\\delta P_3} \\cdot \\frac{\\delta P_3}{\\delta y_1}  \\\\\n",
    "                            & = T_1 \\times (P_1 - 1) + T_2 P_1 + T_3 P_1 \\\\\n",
    "                            & = T_1 P_1 - T_1 + T_2 P_1 + T_3 P_1 \\\\\n",
    "                            & = P_1(T_1 + T_2 + T_3) - T_1 \\\\\n",
    "                            & = P_1 - T_1 \\\\\n",
    "算上Batch后：& = \\frac{1}{M} [P_1 - T_1] \\\\\n",
    "\\end{align*}\n",
    "$"
   ]
  },
  {
   "cell_type": "markdown",
   "metadata": {},
   "source": [
    "# 以此推算，y1偏导、y2偏导、y3偏导"
   ]
  },
  {
   "cell_type": "markdown",
   "metadata": {},
   "source": [
    "## \n",
    "## $\n",
    "\\begin{align*}\n",
    "\\frac{\\delta L}{\\delta y} & = \\frac{1}{batch\\_size}(P - T) \\\\\n",
    "                          & = \\frac{1}{batch\\_size}(softmax(y) - T)\n",
    "\\end{align*}\n",
    "$"
   ]
  }
 ],
 "metadata": {
  "kernelspec": {
   "display_name": "Python 3",
   "language": "python",
   "name": "python3"
  },
  "language_info": {
   "codemirror_mode": {
    "name": "ipython",
    "version": 3
   },
   "file_extension": ".py",
   "mimetype": "text/x-python",
   "name": "python",
   "nbconvert_exporter": "python",
   "pygments_lexer": "ipython3",
   "version": "3.7.10"
  }
 },
 "nbformat": 4,
 "nbformat_minor": 4
}
