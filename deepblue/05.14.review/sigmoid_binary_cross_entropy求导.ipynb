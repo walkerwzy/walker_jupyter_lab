{
 "cells": [
  {
   "cell_type": "markdown",
   "metadata": {},
   "source": [
    "# Sigmoid Binary Cross Entropy求导\n",
    "* 思路：\n",
    "    1. 确定预测的值Y是1x3维度，确定标签T是1x3维度。根据此描述对loss进行标量式推导，然后推广到更多情况\n",
    "    2. 每个元素的导数是独立的，互相没有影响，所以可以独立求\n",
    "    3. 对于sigmoid求导，使用$1 + e^{-y_i} - 1$替换$e^{-y_i}$，然后分解，即可消解掉分母"
   ]
  },
  {
   "cell_type": "markdown",
   "metadata": {},
   "source": [
    "##\n",
    "## 考虑$ \\\\\n",
    "    Y = [y_1, y_2, y_3]\n",
    "$"
   ]
  },
  {
   "cell_type": "markdown",
   "metadata": {},
   "source": [
    "##\n",
    "## $\n",
    "\\begin{align*}\n",
    "P & = sigmoid(Y) \\\\\n",
    "  & = [P_1, P_2, P_3]  \\\\\n",
    "  & = [\\frac{1}{1 + e^{-y_1}}, \\frac{1}{1 + e^{-y_2}}, \\frac{1}{1 + e^{-y_3}}]\n",
    "\\end{align*}\n",
    "$"
   ]
  },
  {
   "cell_type": "markdown",
   "metadata": {},
   "source": [
    "## 也因此有Loss定义为：\n",
    "### 标签的定义为：$T = [T_1, T_2, T_3]$，比如是onehot，label=2，则$T=[0, 0, 1]$\n",
    "### Loss的定义为：$\n",
    "\\begin{align*}\n",
    "L & = -\\frac{1}{M}\\sum_{i=1}^{M}\\sum_{k=1}^{3}{T_k^{(i)} \\ln(P_k^{(i)}) + (1 - T_k^{(i)}) \\ln(1 - P_k^{(i)})} \\\\\n",
    "  & = -\\frac{1}{M} \\times [[\\ln(P_1) T_1 + \\ln(1-P_1) (1-T_1)] + [\\ln(P_2) T_2 + \\ln(1-P_2) (1-T_2)] + [\\ln(P_3) T_3 + \\ln(1-P_3) (1-T_3)]] \\\\\n",
    "\\end{align*}\n",
    "$"
   ]
  },
  {
   "cell_type": "markdown",
   "metadata": {},
   "source": [
    "# 计算y1导数\n",
    "### 考虑$\n",
    "\\begin{align*}\n",
    "\\frac{\\delta L}{\\delta y_1} = \\frac{\\delta L}{\\delta P_1} \\cdot \\frac{\\delta P_1}{\\delta y_1}\n",
    "\\end{align*}\n",
    "$"
   ]
  },
  {
   "cell_type": "markdown",
   "metadata": {},
   "source": [
    "### \n",
    "### 这里1 $\\frac{\\delta ln(x)}{\\delta x} = \\frac{1}{x}$\n",
    "### 这里2 $\\frac{\\delta e^x}{\\delta x} = e^x$\n",
    "### 这里3 $\\frac{\\delta x^{-1}}{\\delta x} = -\\frac{1}{x^2}$\n",
    "### 这里4 $P_1 = \\frac{1}{1 + e^{-y_1}}$"
   ]
  },
  {
   "cell_type": "markdown",
   "metadata": {},
   "source": [
    "###\n",
    "### 计算$\\frac{\\delta L}{\\delta P_1} \\cdot \\frac{\\delta P_1}{\\delta y_1}$部分 $\n",
    "\\begin{align*}\n",
    "\\frac{\\delta L}{\\delta P_1} & = -\\frac{1}{M}[  T_1 \\times \\frac{1}{P_1} + (1 - T_1) \\times \\frac{1}{1-P_1} \\times (-1)] \\\\\n",
    "                            & = -\\frac{1}{M}[ \\frac{T_1}{P_1} - \\frac{1 - T_1}{1 - P_1} ]\\\\\n",
    "\\frac{\\delta P_1}{\\delta y_1} & = \\frac{\\delta P_1}{\\delta e^{-y_1}}\\frac{\\delta e^{-y_1}}{y_1} \\\\\n",
    "                              & = -\\frac{1}{(1+e^{-y_1})^2} \\times e^{-y_1} \\times -1 \\\\\n",
    "                              & = \\frac{e^{-y_1}}{(1+e^{-y_1})^2} \\\\\n",
    "                              & = \\frac{1 + e^{-y_1} - 1}{(1+e^{-y_1})^2} \\\\\n",
    "                              & = \\frac{1 + e^{-y_1}}{(1+e^{-y_1})^2} - \\frac{1}{(1+e^{-y_1})^2} \\\\\n",
    "                              & = P_1 - P_1^2 \\\\\n",
    "                              & = P_1(1 - P_1)\n",
    "\\end{align*}\n",
    "$"
   ]
  },
  {
   "cell_type": "markdown",
   "metadata": {},
   "source": [
    "### \n",
    "### 因此得$\n",
    "\\begin{align*}\n",
    "\\frac{\\delta L}{\\delta P_1} \\cdot \\frac{\\delta P_1}{\\delta y_1} & = -\\frac{1}{M}[ \\frac{T_1}{P_1} - \\frac{1 - T_1}{1 - P_1} ] \\times P_1(1-P_1) \\\\\n",
    "                                                                & = -\\frac{1}{M}[T_1 (1 - P_1) - (1 - T_1)P_1] \\\\\n",
    "                                                                & = -\\frac{1}{M}[T_1 - T_1 P_1 - P_1 + T_1 P_1] \\\\\n",
    "                                                                & = \\frac{1}{M}[P_1 - T_1] \\\\\n",
    "                                                                & = \\frac{1}{batch\\_size}(P_1 - T_1)\n",
    "\\end{align*}\n",
    "$"
   ]
  },
  {
   "cell_type": "markdown",
   "metadata": {},
   "source": [
    "# 以此推算，y1偏导、y2偏导、y3偏导"
   ]
  },
  {
   "cell_type": "markdown",
   "metadata": {},
   "source": [
    "## \n",
    "## $\n",
    "\\begin{align*}\n",
    "\\frac{\\delta L}{\\delta y} & = \\frac{1}{batch\\_size}(P - T) \\\\\n",
    "                          & = \\frac{1}{batch\\_size}(sigmoid(y) - T)\n",
    "\\end{align*}\n",
    "$"
   ]
  }
 ],
 "metadata": {
  "kernelspec": {
   "display_name": "torch1.5",
   "language": "python",
   "name": "torch1.5"
  },
  "language_info": {
   "codemirror_mode": {
    "name": "ipython",
    "version": 3
   },
   "file_extension": ".py",
   "mimetype": "text/x-python",
   "name": "python",
   "nbconvert_exporter": "python",
   "pygments_lexer": "ipython3",
   "version": "3.7.7"
  }
 },
 "nbformat": 4,
 "nbformat_minor": 4
}
