{
 "cells": [
  {
   "cell_type": "raw",
   "metadata": {},
   "source": [
    "# X_{nx2} @ W_{2x2} + B_{1x2}\n",
    "# T_{nx2} + B_{1x2}\n",
    "# y = T_{nx2} + B_{nx2}\n",
    "# delta y/delta B  = delta B_{nx2}\n",
    "# delta B = np.sum(delta B_{nx2}, axis=0)  -> {1x2}"
   ]
  },
  {
   "cell_type": "code",
   "execution_count": null,
   "metadata": {},
   "outputs": [],
   "source": [
    "y1 = x1 * w + b\n",
    "y2 = x2 * w + b\n",
    "y3 = x3 * w + b\n",
    "\n",
    "Y = [y1, y2, y3]\n",
    "X = [x1, x2, x3]\n",
    "\n",
    "delta L/b = delta y1/b * delta L/y1 + delta y2/b * delta L/y2 + delta y3/b * delta L/y3"
   ]
  },
  {
   "cell_type": "code",
   "execution_count": null,
   "metadata": {},
   "outputs": [],
   "source": [
    "X = [x1, x2]\n",
    "y = dropout(X, keep_pro=0.9)\n",
    "    mask = bil(1-0.9 = 0.1)  >  WxHx0.1 = 1, WxH=100,  10个数字为1\n",
    "    X[mask] = 0   >  100个数里边，10个数设置为0.   还有90个数不改变\n",
    "    y = X * 1/keep_pro\n",
    "    \n",
    "y = [0, x2]\n",
    "loss = L(y)\n",
    "\n",
    "delta L/x1 = 0\n",
    "delta L/x2 = 1\n",
    "G[mask] = 0\n",
    "G *= 1/keep_pro"
   ]
  },
  {
   "cell_type": "code",
   "execution_count": null,
   "metadata": {},
   "outputs": [],
   "source": [
    "# detach()"
   ]
  },
  {
   "cell_type": "code",
   "execution_count": 5,
   "metadata": {},
   "outputs": [
    {
     "data": {
      "text/plain": [
       "array([[0, 1, 0, 1, 0, 0, 0, 0, 0, 0],\n",
       "       [0, 0, 0, 0, 0, 0, 0, 0, 0, 0],\n",
       "       [0, 0, 0, 0, 0, 0, 0, 1, 1, 0],\n",
       "       [0, 0, 0, 0, 0, 0, 1, 0, 1, 1],\n",
       "       [0, 0, 0, 0, 0, 0, 0, 0, 1, 0],\n",
       "       [0, 1, 0, 0, 0, 0, 0, 0, 0, 0],\n",
       "       [0, 0, 0, 0, 0, 0, 0, 0, 0, 0],\n",
       "       [0, 0, 0, 0, 1, 0, 0, 0, 0, 0],\n",
       "       [0, 0, 0, 0, 0, 0, 1, 0, 0, 0],\n",
       "       [1, 1, 0, 0, 0, 1, 0, 0, 0, 0]])"
      ]
     },
     "execution_count": 5,
     "metadata": {},
     "output_type": "execute_result"
    }
   ],
   "source": [
    "import numpy as np\n",
    "\n",
    "np.random.binomial(size=(10, 10), p=0.1, n=1)"
   ]
  },
  {
   "cell_type": "code",
   "execution_count": 6,
   "metadata": {},
   "outputs": [
    {
     "data": {
      "text/plain": [
       "\u001b[0;31mDocstring:\u001b[0m\n",
       "binomial(n, p, size=None)\n",
       "\n",
       "Draw samples from a binomial distribution.\n",
       "\n",
       "Samples are drawn from a binomial distribution with specified\n",
       "parameters, n trials and p probability of success where\n",
       "n an integer >= 0 and p is in the interval [0,1]. (n may be\n",
       "input as a float, but it is truncated to an integer in use)\n",
       "\n",
       ".. note::\n",
       "    New code should use the ``binomial`` method of a ``default_rng()``\n",
       "    instance instead; see `random-quick-start`.\n",
       "\n",
       "Parameters\n",
       "----------\n",
       "n : int or array_like of ints\n",
       "    Parameter of the distribution, >= 0. Floats are also accepted,\n",
       "    but they will be truncated to integers.\n",
       "p : float or array_like of floats\n",
       "    Parameter of the distribution, >= 0 and <=1.\n",
       "size : int or tuple of ints, optional\n",
       "    Output shape.  If the given shape is, e.g., ``(m, n, k)``, then\n",
       "    ``m * n * k`` samples are drawn.  If size is ``None`` (default),\n",
       "    a single value is returned if ``n`` and ``p`` are both scalars.\n",
       "    Otherwise, ``np.broadcast(n, p).size`` samples are drawn.\n",
       "\n",
       "Returns\n",
       "-------\n",
       "out : ndarray or scalar\n",
       "    Drawn samples from the parameterized binomial distribution, where\n",
       "    each sample is equal to the number of successes over the n trials.\n",
       "\n",
       "See Also\n",
       "--------\n",
       "scipy.stats.binom : probability density function, distribution or\n",
       "    cumulative density function, etc.\n",
       "Generator.binomial: which should be used for new code.\n",
       "\n",
       "Notes\n",
       "-----\n",
       "The probability density for the binomial distribution is\n",
       "\n",
       ".. math:: P(N) = \\binom{n}{N}p^N(1-p)^{n-N},\n",
       "\n",
       "where :math:`n` is the number of trials, :math:`p` is the probability\n",
       "of success, and :math:`N` is the number of successes.\n",
       "\n",
       "When estimating the standard error of a proportion in a population by\n",
       "using a random sample, the normal distribution works well unless the\n",
       "product p*n <=5, where p = population proportion estimate, and n =\n",
       "number of samples, in which case the binomial distribution is used\n",
       "instead. For example, a sample of 15 people shows 4 who are left\n",
       "handed, and 11 who are right handed. Then p = 4/15 = 27%. 0.27*15 = 4,\n",
       "so the binomial distribution should be used in this case.\n",
       "\n",
       "References\n",
       "----------\n",
       ".. [1] Dalgaard, Peter, \"Introductory Statistics with R\",\n",
       "       Springer-Verlag, 2002.\n",
       ".. [2] Glantz, Stanton A. \"Primer of Biostatistics.\", McGraw-Hill,\n",
       "       Fifth Edition, 2002.\n",
       ".. [3] Lentner, Marvin, \"Elementary Applied Statistics\", Bogden\n",
       "       and Quigley, 1972.\n",
       ".. [4] Weisstein, Eric W. \"Binomial Distribution.\" From MathWorld--A\n",
       "       Wolfram Web Resource.\n",
       "       http://mathworld.wolfram.com/BinomialDistribution.html\n",
       ".. [5] Wikipedia, \"Binomial distribution\",\n",
       "       https://en.wikipedia.org/wiki/Binomial_distribution\n",
       "\n",
       "Examples\n",
       "--------\n",
       "Draw samples from the distribution:\n",
       "\n",
       ">>> n, p = 10, .5  # number of trials, probability of each trial\n",
       ">>> s = np.random.binomial(n, p, 1000)\n",
       "# result of flipping a coin 10 times, tested 1000 times.\n",
       "\n",
       "A real world example. A company drills 9 wild-cat oil exploration\n",
       "wells, each with an estimated probability of success of 0.1. All nine\n",
       "wells fail. What is the probability of that happening?\n",
       "\n",
       "Let's do 20,000 trials of the model, and count the number that\n",
       "generate zero positive results.\n",
       "\n",
       ">>> sum(np.random.binomial(9, 0.1, 20000) == 0)/20000.\n",
       "# answer = 0.38885, or 38%.\n",
       "\u001b[0;31mType:\u001b[0m      builtin_function_or_method\n"
      ]
     },
     "metadata": {},
     "output_type": "display_data"
    }
   ],
   "source": [
    "np.random.binomial?"
   ]
  },
  {
   "cell_type": "code",
   "execution_count": null,
   "metadata": {},
   "outputs": [],
   "source": [
    "Image -> 肺炎，哮喘\n",
    "\n",
    "N1 ->  是肺炎   非肺炎\n",
    "N2 ->  是哮喘   非哮喘\n",
    "\n",
    "loss1 = -[y1log(p1) + (1-y1)log(1-p1)]\n",
    "loss2 = -[y2log(p2) + (1-y2)log(1-p2)]"
   ]
  },
  {
   "cell_type": "code",
   "execution_count": null,
   "metadata": {},
   "outputs": [],
   "source": [
    "Tensorflow -> padding = same valid"
   ]
  }
 ],
 "metadata": {
  "kernelspec": {
   "display_name": "torch1.5",
   "language": "python",
   "name": "torch1.5"
  },
  "language_info": {
   "codemirror_mode": {
    "name": "ipython",
    "version": 3
   },
   "file_extension": ".py",
   "mimetype": "text/x-python",
   "name": "python",
   "nbconvert_exporter": "python",
   "pygments_lexer": "ipython3",
   "version": "3.7.7"
  }
 },
 "nbformat": 4,
 "nbformat_minor": 4
}
