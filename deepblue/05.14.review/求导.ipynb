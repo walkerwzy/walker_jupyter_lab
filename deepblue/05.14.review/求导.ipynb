{
 "cells": [
  {
   "cell_type": "markdown",
   "metadata": {},
   "source": [
    "# 导数\n",
    "## $y = f(x)$\n",
    "## $\\frac{\\Delta y}{\\Delta x} = \\frac{f(x + \\Delta x) - f(x)}{\\Delta x}$"
   ]
  },
  {
   "cell_type": "markdown",
   "metadata": {},
   "source": [
    "## 例子1\n",
    "## 对于$y = x^2$，求$y'$\n",
    "## $\n",
    "\\begin{align*}\n",
    "\\frac{\\Delta y}{\\Delta x} & = \\frac{(x + \\Delta x)^2 - x^2}{\\Delta x}\\\\\n",
    "                          & = \\frac{x^2 + 2x\\Delta x + \\Delta x^2 - x^2}{\\Delta x} \\\\\n",
    "                          & = \\frac{2x\\Delta x + \\Delta x^2}{\\Delta x} \\\\\n",
    "                          & = \\frac{\\Delta x(2x + \\Delta x)}{\\Delta x} \\\\\n",
    "至此，由于\\Delta x非0： & = 2x + \\Delta x \\\\\n",
    "又由于\\Delta x极小，对结果不足以产生影响可以去掉： & \\approx 2x \\\\\n",
    "        通常直接写成等于:  & = 2x\n",
    "\\end{align*}\n",
    "$"
   ]
  },
  {
   "cell_type": "markdown",
   "metadata": {},
   "source": [
    "---"
   ]
  },
  {
   "cell_type": "markdown",
   "metadata": {},
   "source": [
    "## 例子2\n",
    "## 对于复合函数求导$\n",
    "f(x) = x^2 \\\\\n",
    "g(x) = 5x \\\\\n",
    "y = f(g(x)) + 3x \\\\\n",
    "\\frac{\\Delta y}{\\Delta x} = \\frac{\\Delta y}{\\Delta f} \\frac{\\Delta f}{\\Delta g}\\frac{\\Delta g}{\\Delta x} + \\frac{\\Delta y}{\\Delta x} \n",
    "$"
   ]
  },
  {
   "cell_type": "markdown",
   "metadata": {},
   "source": [
    "##\n",
    "## $\n",
    "\\begin{align*}\n",
    "\\frac{\\Delta y}{\\Delta f} &= 1 \\\\\n",
    "\\frac{\\Delta f}{\\Delta g} &= 2 g(x) = 2 \\times 5x = 10x \\\\\n",
    "\\frac{\\Delta g}{\\Delta x} &= 5 \\\\\n",
    "\\frac{\\Delta y}{\\Delta x} &= 3 \n",
    "\\end{align*}\n",
    "$"
   ]
  },
  {
   "cell_type": "markdown",
   "metadata": {},
   "source": [
    "##\n",
    "## $\n",
    "\\frac{\\Delta y}{\\Delta x} = 1 \\times 10x \\times 5 + 3 = 50x + 3\n",
    "$"
   ]
  },
  {
   "cell_type": "code",
   "execution_count": 6,
   "metadata": {},
   "outputs": [
    {
     "data": {
      "text/plain": [
       "tensor([103.])"
      ]
     },
     "execution_count": 6,
     "metadata": {},
     "output_type": "execute_result"
    }
   ],
   "source": [
    "import torch\n",
    "\n",
    "x = torch.tensor([2.0], dtype=torch.float32, requires_grad=True)\n",
    "f = lambda x: x**2\n",
    "g = lambda x: 5 * x\n",
    "y = f(g(x)) + 3 * x\n",
    "y.backward()\n",
    "x.grad"
   ]
  },
  {
   "cell_type": "markdown",
   "metadata": {},
   "source": [
    "## 例子3\n",
    "## $\n",
    "y = (5x)^2 + 3x \\\\\n",
    "y = A^2 + B \\\\\n",
    "先计算\\frac{\\Delta y}{\\Delta A} \\\\\n",
    "然后计算\\frac{\\Delta A}{\\Delta x} \\\\\n",
    "然后连乘后加上对B的导数\n",
    "$"
   ]
  },
  {
   "cell_type": "markdown",
   "metadata": {},
   "source": [
    "* 所有由x影响的路径，都需要求导。每个路径单独做链式求导，不同路径导数求和"
   ]
  }
 ],
 "metadata": {
  "kernelspec": {
   "display_name": "torch1.5",
   "language": "python",
   "name": "torch1.5"
  },
  "language_info": {
   "codemirror_mode": {
    "name": "ipython",
    "version": 3
   },
   "file_extension": ".py",
   "mimetype": "text/x-python",
   "name": "python",
   "nbconvert_exporter": "python",
   "pygments_lexer": "ipython3",
   "version": "3.7.7"
  }
 },
 "nbformat": 4,
 "nbformat_minor": 4
}
