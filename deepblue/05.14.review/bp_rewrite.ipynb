{
 "cells": [
  {
   "cell_type": "code",
   "execution_count": 1,
   "metadata": {},
   "outputs": [],
   "source": [
    "\n",
    "# 解析数据集中的二进制用的\n",
    "import struct\n",
    "import numpy as np\n",
    "import matplotlib.pyplot as plt"
   ]
  },
  {
   "cell_type": "code",
   "execution_count": 2,
   "metadata": {},
   "outputs": [],
   "source": [
    "def decode_labels(file):\n",
    "    '''\n",
    "    解码标签文件\n",
    "    '''\n",
    "    \n",
    "    # rb  ->  read binary\n",
    "    with open(file, \"rb\") as f:\n",
    "        binary_data = f.read()\n",
    "        \n",
    "    # 大端方式解析出2个int32，返回的是tuple(int1, int2)\n",
    "    # int1 -> magic number，用来验证数据是否是目标数据\n",
    "    _, num_items = struct.unpack_from(\">II\", binary_data, 0)\n",
    "    labels = struct.unpack_from(\"B\" * num_items, binary_data, 8)\n",
    "    return np.array(labels).reshape(-1, 1).astype(np.int32)\n",
    "\n",
    "def decode_images(file):\n",
    "    '''\n",
    "    解码图像数据\n",
    "    '''\n",
    "    \n",
    "    # rb  ->  read binary\n",
    "    with open(file, \"rb\") as f:\n",
    "        binary_data = f.read()\n",
    "        \n",
    "    # 大端方式解析出4个int32，返回的是tuple(magic number, num images, rows, cols)\n",
    "    _, num_images, rows, cols = struct.unpack_from(\">IIII\", binary_data, 0)\n",
    "    images = struct.unpack_from(\"B\" * num_images * rows * cols, binary_data, 16)\n",
    "    return np.array(images).reshape(-1, rows * cols)"
   ]
  },
  {
   "cell_type": "code",
   "execution_count": 3,
   "metadata": {},
   "outputs": [],
   "source": [
    "test_labels = decode_labels(\"../_notes_task/stage_1/data/mnist/t10k-labels-idx1-ubyte\")\n",
    "test_images = decode_images(\"../_notes_task/stage_1/data/mnist/t10k-images-idx3-ubyte\")\n",
    "train_labels = decode_labels(\"../_notes_task/stage_1/data/mnist/train-labels-idx1-ubyte\")\n",
    "train_images = decode_images(\"../_notes_task/stage_1/data/mnist/train-images-idx3-ubyte\")"
   ]
  },
  {
   "cell_type": "code",
   "execution_count": 6,
   "metadata": {},
   "outputs": [
    {
     "data": {
      "image/png": "[encoded data removed]",
      "text/plain": [
       "<Figure size 432x288 with 1 Axes>"
      ]
     },
     "metadata": {
      "needs_background": "light"
     },
     "output_type": "display_data"
    }
   ],
   "source": [
    "plt.imshow(train_images[5].reshape(28, 28))\n",
    "_ = plt.title(f\"label = {train_labels[5][0]}\")"
   ]
  },
  {
   "cell_type": "markdown",
   "metadata": {},
   "source": [
    "# BP的实现1，直接实现，不做任何封装\n",
    "1. 网络有2个Linear层\n",
    "2. 隐层节点数256\n",
    "3. 使用Softmax Cross Entropy Loss\n",
    "4. minbatch的大小设置为100\n",
    "5. 学习率给0.1\n",
    "6. 迭代轮数给10轮\n",
    "7. 优化器，用SGD"
   ]
  },
  {
   "cell_type": "code",
   "execution_count": 15,
   "metadata": {},
   "outputs": [
    {
     "name": "stdout",
     "output_type": "stream",
     "text": [
      "[ 0.00362611 -0.01694165  0.00656123  0.02216856 -0.02480864]\n",
      "[-0.01490819 -0.03027346  0.00804664  0.01909173 -0.02858863]\n",
      "[-0.02266049 -0.03055965  0.00824249  0.02526083 -0.03047885]\n",
      "[-0.02474059 -0.0323764   0.01437484  0.0265127  -0.03578326]\n"
     ]
    }
   ],
   "source": [
    "# 初始化，超参数\n",
    "np.random.seed(3)\n",
    "num_train_images = train_images.shape[0]\n",
    "num_feature   = train_images.shape[1]\n",
    "num_hidden    = 256\n",
    "num_classes   = 10\n",
    "batch_size    = 100\n",
    "learning_rate = 0.1\n",
    "epochs        = 10\n",
    "\n",
    "# 策略1，丢掉不足一个batch的数据，反正下次还可以看到它\n",
    "# 策略2，不足一个batch的数据，依旧训练\n",
    "num_batch_per_epoch = num_train_images // batch_size\n",
    "\n",
    "# 初始化参数\n",
    "# 行是输入维度，列是输出维度，对于bias来讲，输入恒等于1，所以维度是1x输出\n",
    "layer1_weight = np.random.normal(0, 1 / np.sqrt(num_feature), size=(num_feature, num_hidden))\n",
    "layer1_bias   = np.zeros((1, num_hidden))\n",
    "\n",
    "layer2_weight = np.random.normal(0, 1 / np.sqrt(num_hidden), size=(num_hidden, num_classes))\n",
    "layer2_bias   = np.zeros((1, num_classes))\n",
    "\n",
    "# 定义数据相关的操作，以及索引\n",
    "train_images_index = list(range(num_train_images))\n",
    "\n",
    "\n",
    "# 定义sigmoid函数实现\n",
    "def sigmoid(x):\n",
    "    return 1 / (1 + np.exp(-x))\n",
    "\n",
    "def softmax(x):\n",
    "    ex = np.exp(x)\n",
    "    return ex / ex.sum(axis=1, keepdims=True)\n",
    "\n",
    "for epoch_index in range(epochs):\n",
    "    \n",
    "    # 每个epoch打乱索引\n",
    "    np.random.shuffle(train_images_index)\n",
    "\n",
    "    for batch_index in range(num_batch_per_epoch):\n",
    "        \n",
    "        # 取一个批次的索引\n",
    "        batch_begin = batch_index * batch_size\n",
    "        batch_end = min(batch_begin + batch_size, num_train_images)\n",
    "        batch_images_index = train_images_index[batch_begin:batch_end]\n",
    "        \n",
    "        # 按照索引batch_images_index，取对应的一个批次的图像\n",
    "        batch_images = train_images[batch_images_index]\n",
    "        batch_labels = train_labels[batch_images_index]\n",
    "\n",
    "        # 数据预处理\n",
    "        batch_images = (batch_images / 255 - 0.5).astype(np.float32)\n",
    "\n",
    "        # label变换为onehot\n",
    "        batch_onehot_labels = np.zeros((batch_size, num_classes))\n",
    "        for row, col in enumerate(batch_labels):\n",
    "            batch_onehot_labels[row, col] = 1\n",
    "        \n",
    "        # 推理呀\n",
    "        hidden = batch_images @ layer1_weight + layer1_bias\n",
    "        hidden_activation = sigmoid(hidden)\n",
    "        output = hidden_activation @ layer2_weight + layer2_bias\n",
    "        \n",
    "        # Softmax Cross Entropy Loss计算\n",
    "        probability = softmax(output)\n",
    "        loss = -np.sum(batch_onehot_labels * np.log(probability)) / batch_size\n",
    "        \n",
    "        # 反向求导\n",
    "        # L对output求导\n",
    "        # deltaB = A.T @ G\n",
    "        # deltaA = G @ B.T\n",
    "        delta_output            = (probability - batch_onehot_labels) / batch_size\n",
    "        delta_layer2_bias       = np.sum(delta_output, axis=0)\n",
    "        delta_layer2_weight     = hidden_activation.T @ delta_output\n",
    "        delta_hidden_activation = delta_output @ layer2_weight.T\n",
    "        delta_hidden            = delta_hidden_activation * sigmoid(hidden) * (1 - sigmoid(hidden))\n",
    "        delta_layer1_bias       = np.sum(delta_hidden, axis=0)\n",
    "        delta_layer1_weight     = batch_images.T @ delta_hidden\n",
    "\n",
    "        # SGD优化器，更新参数\n",
    "        layer2_bias             -= learning_rate * delta_layer2_bias\n",
    "        layer2_weight           -= learning_rate * delta_layer2_weight\n",
    "        layer1_bias             -= learning_rate * delta_layer1_bias\n",
    "        layer1_weight           -= learning_rate * delta_layer1_weight\n",
    "        if(batch_index == 100):\n",
    "            print(layer2_bias[0,0:5])\n",
    "    if(epoch_index==3): break    \n",
    "#     norm_test_images  = (test_images / 255 - 0.5).astype(np.float32)\n",
    "#     hidden            = norm_test_images @ layer1_weight + layer1_bias\n",
    "#     hidden_activation = sigmoid(hidden)\n",
    "#     output            = hidden_activation @ layer2_weight + layer2_bias\n",
    "#     probability       = softmax(output)\n",
    "#     predict_label     = probability.argmax(axis=1).reshape(-1, 1)\n",
    "#     accuracy          = (predict_label == test_labels).sum() / test_labels.shape[0]\n",
    "#     print(f\"{epoch_index}. Loss: {loss:.3f}, Accuracy: {accuracy:.5f}\")"
   ]
  },
  {
   "cell_type": "code",
   "execution_count": 47,
   "metadata": {},
   "outputs": [
    {
     "data": {
      "text/plain": [
       "0.8738"
      ]
     },
     "execution_count": 47,
     "metadata": {},
     "output_type": "execute_result"
    }
   ],
   "source": [
    "norm_test_images  = (test_images / 255 - 0.5).astype(np.float32)\n",
    "hidden            = norm_test_images @ layer1_weight + layer1_bias\n",
    "hidden_activation = sigmoid(hidden)\n",
    "output            = hidden_activation @ layer2_weight + layer2_bias\n",
    "probability       = softmax(output)\n",
    "predict_label     = probability.argmax(axis=1).reshape(-1, 1)\n",
    "accuracy          = (predict_label == test_labels).sum() / test_labels.shape[0]\n",
    "accuracy"
   ]
  },
  {
   "cell_type": "code",
   "execution_count": null,
   "metadata": {},
   "outputs": [],
   "source": []
  }
 ],
 "metadata": {
  "kernelspec": {
   "display_name": "Python 3",
   "language": "python",
   "name": "python3"
  },
  "language_info": {
   "codemirror_mode": {
    "name": "ipython",
    "version": 3
   },
   "file_extension": ".py",
   "mimetype": "text/x-python",
   "name": "python",
   "nbconvert_exporter": "python",
   "pygments_lexer": "ipython3",
   "version": "3.7.10"
  }
 },
 "nbformat": 4,
 "nbformat_minor": 4
}
