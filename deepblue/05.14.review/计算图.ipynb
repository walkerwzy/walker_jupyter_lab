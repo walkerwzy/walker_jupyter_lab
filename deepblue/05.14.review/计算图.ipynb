{
 "cells": [
  {
   "cell_type": "code",
   "execution_count": null,
   "metadata": {},
   "outputs": [],
   "source": [
    "\n",
    "x = PlaceHolder(?)\n",
    "y1 = k1 x + b1\n",
    "y2 = k2 y1 + b2\n",
    "loss = (y2 - label)^2\n",
    "\n",
    "loss \n",
    "SessionRun(loss)"
   ]
  },
  {
   "cell_type": "code",
   "execution_count": null,
   "metadata": {},
   "outputs": [],
   "source": [
    "想用图来表达计算流程"
   ]
  },
  {
   "cell_type": "code",
   "execution_count": null,
   "metadata": {},
   "outputs": [],
   "source": [
    "Temp_k1x = k1 * x"
   ]
  },
  {
   "cell_type": "code",
   "execution_count": null,
   "metadata": {},
   "outputs": [],
   "source": [
    "静态图：\n",
    "1. 构建图，但不执行\n",
    "2. 统一优化并执行\n",
    "\n",
    "动态图：\n",
    "1. 执行并构建"
   ]
  },
  {
   "cell_type": "code",
   "execution_count": null,
   "metadata": {},
   "outputs": [],
   "source": [
    "# Pytorch\n",
    "x = image_data\n",
    "y1 = k1 x + b1\n",
    "y2 = k2 y1 + b2\n",
    "loss = (y2 - label)^2\n"
   ]
  }
 ],
 "metadata": {
  "kernelspec": {
   "display_name": "torch1.5",
   "language": "python",
   "name": "torch1.5"
  },
  "language_info": {
   "codemirror_mode": {
    "name": "ipython",
    "version": 3
   },
   "file_extension": ".py",
   "mimetype": "text/x-python",
   "name": "python",
   "nbconvert_exporter": "python",
   "pygments_lexer": "ipython3",
   "version": "3.7.7"
  }
 },
 "nbformat": 4,
 "nbformat_minor": 4
}
