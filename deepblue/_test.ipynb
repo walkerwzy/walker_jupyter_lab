{
 "cells": [
  {
   "cell_type": "code",
   "execution_count": 2,
   "id": "552e62df",
   "metadata": {},
   "outputs": [],
   "source": [
    "import numpy as np\n",
    "\n",
    "from IPython.core.interactiveshell import InteractiveShell\n",
    "InteractiveShell.ast_node_interactivity = \"all\""
   ]
  },
  {
   "cell_type": "code",
   "execution_count": 1,
   "id": "a484604a",
   "metadata": {},
   "outputs": [
    {
     "data": {
      "text/plain": [
       "'/Users/walker/mnist'"
      ]
     },
     "execution_count": 1,
     "metadata": {},
     "output_type": "execute_result"
    }
   ],
   "source": [
    "import os\n",
    "os.path.abspath('/Users/walker/mnist')"
   ]
  },
  {
   "cell_type": "code",
   "execution_count": 4,
   "id": "619b10b6-adf4-4d93-9944-77d89997729d",
   "metadata": {},
   "outputs": [
    {
     "data": {
      "text/plain": [
       "[1, 4, 9, 16]"
      ]
     },
     "execution_count": 4,
     "metadata": {},
     "output_type": "execute_result"
    }
   ],
   "source": [
    "a, b, c, d = 1,2,3,4\n",
    "b = np.array([1,2,3,4])\n",
    "np.array([a,b,c,d]) * b\n",
    "list(a*b)"
   ]
  },
  {
   "cell_type": "code",
   "execution_count": 11,
   "id": "fc0bd89f-5511-4e93-b8a5-63929971c796",
   "metadata": {},
   "outputs": [
    {
     "data": {
      "text/plain": [
       "<matplotlib.image.AxesImage at 0x7fdbb3c46400>"
      ]
     },
     "execution_count": 11,
     "metadata": {},
     "output_type": "execute_result"
    },
    {
     "data": {
      "text/plain": [
       "<matplotlib.image.AxesImage at 0x7fdbb3bca340>"
      ]
     },
     "execution_count": 11,
     "metadata": {},
     "output_type": "execute_result"
    },
    {
     "data": {
      "text/plain": [
       "(5, 5)"
      ]
     },
     "execution_count": 11,
     "metadata": {},
     "output_type": "execute_result"
    },
    {
     "data": {
      "text/plain": [
       "numpy.ndarray"
      ]
     },
     "execution_count": 11,
     "metadata": {},
     "output_type": "execute_result"
    },
    {
     "data": {
      "image/png": "[encoded data removed]",
      "text/plain": [
       "<Figure size 432x288 with 1 Axes>"
      ]
     },
     "metadata": {
      "needs_background": "light"
     },
     "output_type": "display_data"
    }
   ],
   "source": [
    "import cv2 as cv\n",
    "import numpy as np\n",
    "import matplotlib.pyplot as plt\n",
    "img = np.arange(12*12).reshape(12, 12).astype(np.float32)\n",
    "plt.imshow(img)\n",
    "# img1 = np.ones((3, 3)).astype(np.float32)\n",
    "# img1[1,:] *= 220\n",
    "# img1[:,2] *= 3\n",
    "# img1[2,:] *= 30\n",
    "img1 = np.arange(9).reshape(3, 3).astype(np.float32)\n",
    "plt.imshow(img1)\n",
    "# img[2:5, 6:9] = img1\n",
    "# plt.imshow(img)\n",
    "img1 = cv.resize(img1,(5, 5))\n",
    "img2 = cv.resize(img, None, fx=5/12, fy=5/12)\n",
    "img2.shape\n",
    "\n",
    "type(np.round([1.1,2.3,3.5,4.9]))"
   ]
  },
  {
   "cell_type": "code",
   "execution_count": 17,
   "id": "7d60c066-a83e-4a15-8efb-e605b986b38b",
   "metadata": {},
   "outputs": [
    {
     "data": {
      "text/plain": [
       "array([[[[ 0.34645221, -1.04353441, -0.820187  ],\n",
       "         [ 0.3873048 , -0.23492715, -2.05157186],\n",
       "         [-0.88407411,  1.48766032,  1.40928712]],\n",
       "\n",
       "        [[-1.17015168,  0.53706355, -0.2582297 ],\n",
       "         [-0.6483282 , -0.31971806,  0.21338042],\n",
       "         [ 1.40452675, -0.26294453,  1.71575774]],\n",
       "\n",
       "        [[ 0.64906872,  1.23347142, -1.07032438],\n",
       "         [ 0.17924307,  0.40383516,  0.06116271],\n",
       "         [-0.12127773,  1.49217946, -1.10408293]]]])"
      ]
     },
     "execution_count": 17,
     "metadata": {},
     "output_type": "execute_result"
    }
   ],
   "source": [
    "a = np.random.randn(1, 3, 3, 3)\n",
    "a"
   ]
  },
  {
   "cell_type": "code",
   "execution_count": 7,
   "id": "5ad566de",
   "metadata": {},
   "outputs": [
    {
     "data": {
      "text/plain": [
       "torch.Size([2, 1])"
      ]
     },
     "execution_count": 7,
     "metadata": {},
     "output_type": "execute_result"
    }
   ],
   "source": [
    "import torch\n",
    "all_predict = []\n",
    "# shapes: torch.Size([128, 2]) torch.Size([128, 1])\n",
    "feature = torch.arange(0,8).view(2,4)\n",
    "targets = torch.arange(0,2).view(2,-1)\n",
    "torch.cat([feature, targets], dim=1).shape\n",
    "targets.squeeze().unsqueeze(1).shape\n",
    "# all_predict.append(torch.cat([feature, targets], dim=1))\n",
    "# all_predict.append(torch.cat([feature, targets], dim=1))\n",
    "# all_predict.append(torch.cat([feature, targets], dim=1))\n",
    "# all_predict.append(torch.cat([feature, targets], dim=1))\n",
    "# all_predict, torch.cat(all_predict)\n",
    "# type(targets.cpu()), type(targets.data)"
   ]
  },
  {
   "cell_type": "code",
   "execution_count": 11,
   "id": "8da93a6b-4265-485c-be09-dfca015be588",
   "metadata": {},
   "outputs": [
    {
     "name": "stdout",
     "output_type": "stream",
     "text": [
      "((1, 'a'), (2, 'b'), (3, 'c'))\n",
      "((1, 'a'), (2, 'b'), (3, 'c'), (4, 'e'), (5, 'f'), (6, 'g'))\n"
     ]
    }
   ],
   "source": [
    "def aaa(a, *b):\n",
    "    print(b)\n",
    "\n",
    "s = list(zip([1,2,3],['a','b','c']))\n",
    "# m = {'a':11,'b':12,'c':13}\n",
    "m = list(zip([4,5,6],['e','f','g']))\n",
    "aaa(1, *s)\n",
    "aaa(1, *s, *m)"
   ]
  },
  {
   "cell_type": "code",
   "execution_count": 3,
   "id": "1159819a",
   "metadata": {},
   "outputs": [
    {
     "data": {
      "text/plain": [
       "3"
      ]
     },
     "execution_count": 3,
     "metadata": {},
     "output_type": "execute_result"
    },
    {
     "data": {
      "text/plain": [
       "[array([[  0,   1,   2,   3,   4],\n",
       "        [ 35,  36,  37,  38,  39],\n",
       "        [ 70,  71,  72,  73,  74],\n",
       "        [105, 106, 107, 108, 109]]),\n",
       " array([[  5,   6,   7,   8,   9],\n",
       "        [ 40,  41,  42,  43,  44],\n",
       "        [ 75,  76,  77,  78,  79],\n",
       "        [110, 111, 112, 113, 114]]),\n",
       " array([[ 10,  11,  12,  13,  14],\n",
       "        [ 45,  46,  47,  48,  49],\n",
       "        [ 80,  81,  82,  83,  84],\n",
       "        [115, 116, 117, 118, 119]]),\n",
       " array([[ 15,  16,  17,  18,  19],\n",
       "        [ 50,  51,  52,  53,  54],\n",
       "        [ 85,  86,  87,  88,  89],\n",
       "        [120, 121, 122, 123, 124]]),\n",
       " array([[ 20,  21,  22,  23,  24],\n",
       "        [ 55,  56,  57,  58,  59],\n",
       "        [ 90,  91,  92,  93,  94],\n",
       "        [125, 126, 127, 128, 129]]),\n",
       " array([[ 25,  26,  27,  28,  29],\n",
       "        [ 60,  61,  62,  63,  64],\n",
       "        [ 95,  96,  97,  98,  99],\n",
       "        [130, 131, 132, 133, 134]]),\n",
       " array([[ 30,  31,  32,  33,  34],\n",
       "        [ 65,  66,  67,  68,  69],\n",
       "        [100, 101, 102, 103, 104],\n",
       "        [135, 136, 137, 138, 139]])]"
      ]
     },
     "execution_count": 3,
     "metadata": {},
     "output_type": "execute_result"
    },
    {
     "data": {
      "text/plain": [
       "(4, 70)"
      ]
     },
     "execution_count": 3,
     "metadata": {},
     "output_type": "execute_result"
    }
   ],
   "source": [
    "\n",
    "# from pydataset import data\n",
    "# quakes = data('quakes')\n",
    "# quakes.head()\n",
    "# quakes.tail()\n",
    "c = 3\n",
    "c\n",
    "import numpy as np\n",
    "a = np.arange(140).reshape(4, 35)\n",
    "# np.array(np.hsplit(a, 5)).shape\n",
    "np.hsplit(a, 7)\n",
    "b = np.empty((4, 35))\n",
    "# b = np.array([[]])\n",
    "np.append(b, a, axis=1).shape\n",
    "# np.hstack([b, a]).shape"
   ]
  },
  {
   "cell_type": "code",
   "execution_count": 4,
   "id": "4f9df8a7",
   "metadata": {},
   "outputs": [
    {
     "data": {
      "text/plain": [
       "(3, 2, 7, 7)"
      ]
     },
     "execution_count": 4,
     "metadata": {},
     "output_type": "execute_result"
    }
   ],
   "source": [
    "b = np.arange(150).reshape(3,2,5,5)\n",
    "b = np.pad(b, pad_width=((0,0),(0,0),(1,1),(1,1)))\n",
    "b.shape"
   ]
  },
  {
   "cell_type": "code",
   "execution_count": 28,
   "id": "782a90db",
   "metadata": {},
   "outputs": [
    {
     "name": "stdout",
     "output_type": "stream",
     "text": [
      "[5, 4, 1, 2, 9, 6, 7, 0, 3, 8]\n",
      "[3 8 2 1 9 4 0 6 7 5]\n"
     ]
    },
    {
     "data": {
      "text/plain": [
       "numpy.ndarray"
      ]
     },
     "execution_count": 28,
     "metadata": {},
     "output_type": "execute_result"
    }
   ],
   "source": [
    "np.random.seed(3)\n",
    "a = list(range(10))\n",
    "np.random.shuffle(a)\n",
    "print(a)\n",
    "b = np.random.permutation(10)\n",
    "print(b)"
   ]
  },
  {
   "cell_type": "code",
   "execution_count": 17,
   "id": "ecbbf71e",
   "metadata": {},
   "outputs": [
    {
     "data": {
      "image/png": "[encoded data removed]",
      "text/plain": [
       "<Figure size 432x288 with 1 Axes>"
      ]
     },
     "metadata": {
      "needs_background": "light"
     },
     "output_type": "display_data"
    }
   ],
   "source": [
    "import matplotlib.pyplot as plt\n",
    "\n",
    "d = np.random.randn(20, 3)\n",
    "ax = plt.axes(projection='3d')\n",
    "ax.scatter(d[:,0], d[:,1], d[:,2])\n",
    "ax.scatter(d[:,0], d[:,2], d[:,1], c='red')\n",
    "ax.scatter(d[:,1], d[:,0], d[:,2], c='yellow')\n",
    "ax.scatter(d[:,1], d[:,2], d[:,0], c='k')\n",
    "ax.scatter(d[:,2], d[:,1], d[:,0], c='m')\n",
    "ax.dist = 5\n",
    "plt.legend(['0', '1', '2', '3', '4', '5', '6', '7', '8', '9'],loc=\"upper right\")\n",
    "plt.show()"
   ]
  },
  {
   "cell_type": "code",
   "execution_count": 5,
   "id": "792d1883",
   "metadata": {},
   "outputs": [
    {
     "data": {
      "text/plain": [
       "[[1, 2, 3, [2, 3, 4]], [4, 5, 6], [7, 8, 9]]"
      ]
     },
     "execution_count": 5,
     "metadata": {},
     "output_type": "execute_result"
    }
   ],
   "source": [
    "B = A.copy()\n",
    "for i in range(3):\n",
    "    B[i] = np.vstack(B[i])\n",
    "\n",
    "C = [[1,2,3],[4,5,6],[7,8,9]]\n",
    "C[0].append([2,3,4])\n",
    "C"
   ]
  },
  {
   "cell_type": "code",
   "execution_count": 5,
   "id": "16bee010",
   "metadata": {},
   "outputs": [
    {
     "data": {
      "text/plain": [
       "[[[1, 2, 3], [4, 5, 6]],\n",
       " [[11, 12, 13], [14, 15, 16]],\n",
       " [[311, 312, 313], [314, 315, 316]]]"
      ]
     },
     "execution_count": 5,
     "metadata": {},
     "output_type": "execute_result"
    }
   ],
   "source": [
    "c = [[] for _ in range(3)]\n",
    "c[0].append([1,2,3])\n",
    "c[0].append([4,5,6])\n",
    "c[1].append([11,12,13])\n",
    "c[1].append([14,15,16])\n",
    "c[2].append([311,312,313])\n",
    "c[2].append([314,315,316])\n",
    "c"
   ]
  },
  {
   "cell_type": "code",
   "execution_count": 7,
   "id": "517da01f",
   "metadata": {},
   "outputs": [
    {
     "data": {
      "text/plain": [
       "[array([[1, 2, 3],\n",
       "        [4, 5, 6]]),\n",
       " array([[11, 12, 13],\n",
       "        [14, 15, 16]]),\n",
       " array([[311, 312, 313],\n",
       "        [314, 315, 316]])]"
      ]
     },
     "execution_count": 7,
     "metadata": {},
     "output_type": "execute_result"
    }
   ],
   "source": [
    "for index in range(len(c)):\n",
    "    c[index] = np.vstack(c[index])\n",
    "c"
   ]
  },
  {
   "cell_type": "code",
   "execution_count": 8,
   "id": "a683f9a7",
   "metadata": {},
   "outputs": [
    {
     "data": {
      "text/plain": [
       "matrix([[2],\n",
       "        [2],\n",
       "        [2]])"
      ]
     },
     "execution_count": 8,
     "metadata": {},
     "output_type": "execute_result"
    }
   ],
   "source": [
    "np.argmax(A, axis=1)"
   ]
  },
  {
   "cell_type": "code",
   "execution_count": 9,
   "id": "d020cc61",
   "metadata": {},
   "outputs": [
    {
     "data": {
      "text/plain": [
       "matrix([[1, 2, 3],\n",
       "        [4, 5, 6],\n",
       "        [7, 8, 9]])"
      ]
     },
     "execution_count": 9,
     "metadata": {},
     "output_type": "execute_result"
    }
   ],
   "source": [
    "B"
   ]
  },
  {
   "cell_type": "code",
   "execution_count": 32,
   "id": "2d728170",
   "metadata": {},
   "outputs": [
    {
     "data": {
      "text/plain": [
       "array([[0., 1., 0., 0., 0., 0., 0., 0., 0., 0.],\n",
       "       [0., 0., 0., 1., 0., 0., 0., 0., 0., 0.],\n",
       "       [0., 0., 0., 0., 0., 1., 0., 0., 0., 0.],\n",
       "       [0., 0., 0., 0., 0., 0., 0., 1., 0., 0.],\n",
       "       [0., 0., 0., 0., 0., 0., 0., 0., 1., 0.]])"
      ]
     },
     "execution_count": 32,
     "metadata": {},
     "output_type": "execute_result"
    }
   ],
   "source": [
    "a = [1,3,5,7,8,]\n",
    "np.eye(10)[a,:]"
   ]
  },
  {
   "cell_type": "code",
   "execution_count": 33,
   "id": "d6725ace",
   "metadata": {},
   "outputs": [
    {
     "data": {
      "text/plain": [
       "array([[0., 1., 0., 0., 0., 0., 0., 0., 0., 0.],\n",
       "       [0., 0., 0., 1., 0., 0., 0., 0., 0., 0.],\n",
       "       [0., 0., 0., 0., 0., 1., 0., 0., 0., 0.],\n",
       "       [0., 0., 0., 0., 0., 0., 0., 1., 0., 0.],\n",
       "       [0., 0., 0., 0., 0., 0., 0., 0., 1., 0.]])"
      ]
     },
     "execution_count": 33,
     "metadata": {},
     "output_type": "execute_result"
    }
   ],
   "source": [
    "b = np.zeros((5, 10))\n",
    "b[list(range(len(a))), a] = 1\n",
    "b"
   ]
  },
  {
   "cell_type": "code",
   "execution_count": 41,
   "id": "c06e97fd",
   "metadata": {},
   "outputs": [
    {
     "name": "stdout",
     "output_type": "stream",
     "text": [
      "[[0. 1. 0. 0. 0. 0. 0. 0. 0. 0.]\n",
      " [0. 0. 0. 1. 0. 0. 0. 0. 0. 0.]\n",
      " [0. 0. 0. 0. 0. 1. 0. 0. 0. 0.]\n",
      " [0. 0. 0. 0. 0. 0. 0. 1. 0. 0.]\n",
      " [0. 0. 0. 0. 0. 0. 0. 0. 1. 0.]]\n"
     ]
    },
    {
     "data": {
      "text/plain": [
       "[array([0., 1., 0., 0., 0., 0., 0., 0., 0., 0.]),\n",
       " array([0., 0., 0., 1., 0., 0., 0., 0., 0., 0.]),\n",
       " array([0., 0., 0., 0., 0., 1., 0., 0., 0., 0.]),\n",
       " array([0., 0., 0., 0., 0., 0., 0., 1., 0., 0.]),\n",
       " array([0., 0., 0., 0., 0., 0., 0., 0., 1., 0.])]"
      ]
     },
     "execution_count": 41,
     "metadata": {},
     "output_type": "execute_result"
    }
   ],
   "source": [
    "# b = np.eye(10)[a,:] 等同于如下写法：\n",
    "\n",
    "b = []\n",
    "e = np.eye(10)\n",
    "for i in range(len(a)):\n",
    "    b.append(e[a[i]])\n",
    "\n",
    "# c = np.zeros((len(a), 10))    \n",
    "# c[list(range(len(a))), a] = 1 等同于如下写法：\n",
    "\n",
    "c = np.zeros((len(a), 10))\n",
    "for i in range(len(c)):\n",
    "    c[i, a[i]] = 1\n",
    "\n",
    "print(c)\n",
    "b"
   ]
  },
  {
   "cell_type": "code",
   "execution_count": 11,
   "id": "59fc310a",
   "metadata": {},
   "outputs": [
    {
     "data": {
      "text/plain": [
       "array([[8, 7, 9, 6, 7],\n",
       "       [8, 8, 7, 9, 6],\n",
       "       [9, 7, 5, 4, 3]])"
      ]
     },
     "execution_count": 11,
     "metadata": {},
     "output_type": "execute_result"
    }
   ],
   "source": [
    "np.random.binomial(10, .7, (3,5))\n",
    "# np.random.binomial?"
   ]
  },
  {
   "cell_type": "code",
   "execution_count": 15,
   "id": "cb6a0ccd",
   "metadata": {},
   "outputs": [
    {
     "data": {
      "image/png": "[encoded data removed]",
      "text/plain": [
       "<Figure size 432x288 with 2 Axes>"
      ]
     },
     "metadata": {
      "image/png": {
       "height": 258,
       "width": 642
      },
      "needs_background": "light"
     },
     "output_type": "display_data"
    }
   ],
   "source": [
    "import matplotlib.pyplot as plt\n",
    "x = range(1000)\n",
    "y = [i ** 2 for i in x]\n",
    "plt.subplots_adjust(left=.1, right=1.5)\n",
    "plt.subplot(121)\n",
    "plt.plot(x,y)\n",
    "\n",
    "%config InlineBackend.figure_format = 'retina'\n",
    "plt.subplot(122)\n",
    "plt.plot(x,y)\n",
    "plt.show(); "
   ]
  },
  {
   "cell_type": "code",
   "execution_count": 20,
   "id": "5bf8d63e",
   "metadata": {},
   "outputs": [
    {
     "data": {
      "text/plain": [
       "(3,)"
      ]
     },
     "execution_count": 20,
     "metadata": {},
     "output_type": "execute_result"
    }
   ],
   "source": [
    "import numpy as np\n",
    "a = np.zeros((3,5))\n",
    "b = np.arange(3)#[...,None]\n",
    "a[:,2] = b\n",
    "a[:,2].shape"
   ]
  },
  {
   "cell_type": "code",
   "execution_count": 14,
   "id": "61646f40",
   "metadata": {},
   "outputs": [
    {
     "data": {
      "text/plain": [
       "range(1, 2)"
      ]
     },
     "execution_count": 14,
     "metadata": {},
     "output_type": "execute_result"
    }
   ],
   "source": []
  },
  {
   "cell_type": "code",
   "execution_count": 15,
   "id": "c87713b4",
   "metadata": {},
   "outputs": [
    {
     "data": {
      "text/plain": [
       "array([[1, 4, 7],\n",
       "       [2, 5, 8],\n",
       "       [3, 6, 9]])"
      ]
     },
     "execution_count": 15,
     "metadata": {},
     "output_type": "execute_result"
    }
   ],
   "source": [
    "np.array(E).T"
   ]
  },
  {
   "cell_type": "code",
   "execution_count": 16,
   "id": "5eaecc61",
   "metadata": {},
   "outputs": [],
   "source": [
    "for i in range(3):\n",
    "    E[i] = np.vstack(E)"
   ]
  },
  {
   "cell_type": "code",
   "execution_count": 17,
   "id": "2ffd77e3",
   "metadata": {},
   "outputs": [
    {
     "data": {
      "text/plain": [
       "[(2, 1, 7), (3, 2, 8), (4, 3, 9)]"
      ]
     },
     "execution_count": 17,
     "metadata": {},
     "output_type": "execute_result"
    }
   ],
   "source": [
    "list(zip(*[[2,3,4], [1,2,3], [7,8,9]]))"
   ]
  },
  {
   "cell_type": "code",
   "execution_count": 18,
   "id": "36dcf85c",
   "metadata": {},
   "outputs": [],
   "source": [
    "a = np.array([\n",
    "    [\n",
    "        [1,1,1,1],\n",
    "        [2,2,2,2],\n",
    "        [3,3,3,3]\n",
    "    ],\n",
    "    [\n",
    "        [4,4,4,4],\n",
    "        [5,5,5,5],\n",
    "        [6,6,6,6]\n",
    "    ]\n",
    "])"
   ]
  },
  {
   "cell_type": "code",
   "execution_count": 19,
   "id": "67492346",
   "metadata": {},
   "outputs": [
    {
     "data": {
      "text/plain": [
       "((2, 3, 4),\n",
       " array([[5, 5, 5, 5],\n",
       "        [7, 7, 7, 7],\n",
       "        [9, 9, 9, 9]]),\n",
       " (3, 4),\n",
       " array([[ 6,  6,  6,  6],\n",
       "        [15, 15, 15, 15]]),\n",
       " (2, 4),\n",
       " array([[ 4,  8, 12],\n",
       "        [16, 20, 24]]),\n",
       " (2, 3))"
      ]
     },
     "execution_count": 19,
     "metadata": {},
     "output_type": "execute_result"
    }
   ],
   "source": [
    "a.shape, np.sum(a, axis=0),  np.sum(a, axis=0).shape, np.sum(a, axis=1),np.sum(a, axis=1).shape, np.sum(a, axis=2), np.sum(a, axis=2).shape"
   ]
  },
  {
   "cell_type": "code",
   "execution_count": 16,
   "id": "6cd612e4",
   "metadata": {},
   "outputs": [
    {
     "data": {
      "text/plain": [
       "(2, array([ True, False, False, False,  True]))"
      ]
     },
     "execution_count": 16,
     "metadata": {},
     "output_type": "execute_result"
    }
   ],
   "source": [
    "import numpy as np\n",
    "a = np.array([1,2,3,4,5])\n",
    "b = np.array([1,4,5,6,5])\n",
    "np.sum(a==b), a==b"
   ]
  },
  {
   "cell_type": "code",
   "execution_count": 24,
   "id": "827ff855",
   "metadata": {},
   "outputs": [
    {
     "data": {
      "text/plain": [
       "array([ 0,  1,  2,  3,  4,  5,  6,  7,  8,  9, 10, 11, 12, 13, 14, 15])"
      ]
     },
     "execution_count": 24,
     "metadata": {},
     "output_type": "execute_result"
    }
   ],
   "source": [
    "import numpy as np\n",
    "a = np.arange(16)\n",
    "a.reshape(4,4)\n",
    "a"
   ]
  },
  {
   "cell_type": "code",
   "execution_count": null,
   "id": "4a595f74",
   "metadata": {},
   "outputs": [],
   "source": []
  }
 ],
 "metadata": {
  "kernelspec": {
   "display_name": "Python 3",
   "language": "python",
   "name": "python3"
  },
  "language_info": {
   "codemirror_mode": {
    "name": "ipython",
    "version": 3
   },
   "file_extension": ".py",
   "mimetype": "text/x-python",
   "name": "python",
   "nbconvert_exporter": "python",
   "pygments_lexer": "ipython3",
   "version": "3.8.5"
  }
 },
 "nbformat": 4,
 "nbformat_minor": 5
}
